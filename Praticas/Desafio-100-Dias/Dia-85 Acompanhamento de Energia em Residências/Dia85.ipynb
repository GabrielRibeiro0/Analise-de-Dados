{
 "cells": [
  {
   "cell_type": "markdown",
   "id": "baa341d4-0004-463c-8ec7-8e958efafc90",
   "metadata": {},
   "source": [
    "🎯 Desafio dia 85 — Acompanhamento de Energia em Residências\n",
    "\n",
    "📂 Dataset: desafio_dia_85_energia_residencias.csv\n",
    "📥 Clique aqui para baixar o CSV\n",
    "\n",
    "🔍 Contexto: Uma empresa de energia está analisando o perfil de consumo de residências em diferentes regiões do Brasil. As variáveis incluem o tipo de residência, fonte de energia utilizada e o valor mensal da fatura.\n",
    "\n",
    "🛠️ Tarefas do desafio\n",
    "\n",
    "🧹 Tratamento de dados\n",
    "- Preencha os valores ausentes em consumo_kwh_mes com a mediana.\n",
    "\n",
    "- Preencha os valores ausentes em valor_fatura com a média.\n",
    "\n",
    "📊 Análise geral\n",
    "- Qual é a média de consumo mensal (kWh) por tipo de residência?\n",
    "\n",
    "- Qual região possui o maior valor médio de fatura?\n",
    "\n",
    "📈 Visualização de dados\n",
    "- Crie um gráfico de barras com o valor médio da fatura por tipo de fonte de energia.\n",
    "\n",
    "🤖 Machine Learning - Regressão\n",
    "- Crie um modelo para prever o valor_fatura com base em:\n",
    "\n",
    "regiao, tipo_residencia, fonte_energia, consumo_kwh_mes\n",
    "\n",
    "Use:\n",
    "\n",
    "train_test_split\n",
    "\n",
    "get_dummies\n",
    "\n",
    "RandomForestRegressor\n",
    "\n",
    "Avalie com mean_squared_error.\n",
    "\n"
   ]
  },
  {
   "cell_type": "code",
   "execution_count": 14,
   "id": "6a7606c1-65fd-4f4d-9b33-05e71988e11d",
   "metadata": {},
   "outputs": [],
   "source": [
    "import pandas as pd\n",
    "import seaborn as sns\n",
    "import matplotlib.pyplot as plt\n",
    "from sklearn.model_selection import train_test_split\n",
    "from sklearn.ensemble import RandomForestRegressor\n",
    "from sklearn.metrics import mean_squared_error"
   ]
  },
  {
   "cell_type": "code",
   "execution_count": 3,
   "id": "3a6ac2e8-7613-40ab-a6b3-85053c6f0959",
   "metadata": {},
   "outputs": [
    {
     "data": {
      "text/html": [
       "<div>\n",
       "<style scoped>\n",
       "    .dataframe tbody tr th:only-of-type {\n",
       "        vertical-align: middle;\n",
       "    }\n",
       "\n",
       "    .dataframe tbody tr th {\n",
       "        vertical-align: top;\n",
       "    }\n",
       "\n",
       "    .dataframe thead th {\n",
       "        text-align: right;\n",
       "    }\n",
       "</style>\n",
       "<table border=\"1\" class=\"dataframe\">\n",
       "  <thead>\n",
       "    <tr style=\"text-align: right;\">\n",
       "      <th></th>\n",
       "      <th>id_residencia</th>\n",
       "      <th>regiao</th>\n",
       "      <th>tipo_residencia</th>\n",
       "      <th>consumo_kwh_mes</th>\n",
       "      <th>fonte_energia</th>\n",
       "      <th>valor_fatura</th>\n",
       "    </tr>\n",
       "  </thead>\n",
       "  <tbody>\n",
       "    <tr>\n",
       "      <th>0</th>\n",
       "      <td>1</td>\n",
       "      <td>Centro-Oeste</td>\n",
       "      <td>Casa</td>\n",
       "      <td>257.0</td>\n",
       "      <td>Convencional</td>\n",
       "      <td>187.64</td>\n",
       "    </tr>\n",
       "    <tr>\n",
       "      <th>1</th>\n",
       "      <td>2</td>\n",
       "      <td>Norte</td>\n",
       "      <td>Sobrado</td>\n",
       "      <td>314.7</td>\n",
       "      <td>Solar</td>\n",
       "      <td>266.29</td>\n",
       "    </tr>\n",
       "    <tr>\n",
       "      <th>2</th>\n",
       "      <td>3</td>\n",
       "      <td>Sul</td>\n",
       "      <td>Sobrado</td>\n",
       "      <td>264.0</td>\n",
       "      <td>Convencional</td>\n",
       "      <td>244.02</td>\n",
       "    </tr>\n",
       "    <tr>\n",
       "      <th>3</th>\n",
       "      <td>4</td>\n",
       "      <td>Sudeste</td>\n",
       "      <td>Apartamento</td>\n",
       "      <td>446.0</td>\n",
       "      <td>Convencional</td>\n",
       "      <td>382.10</td>\n",
       "    </tr>\n",
       "    <tr>\n",
       "      <th>4</th>\n",
       "      <td>5</td>\n",
       "      <td>Sul</td>\n",
       "      <td>Casa</td>\n",
       "      <td>200.2</td>\n",
       "      <td>Convencional</td>\n",
       "      <td>167.24</td>\n",
       "    </tr>\n",
       "  </tbody>\n",
       "</table>\n",
       "</div>"
      ],
      "text/plain": [
       "   id_residencia        regiao tipo_residencia  consumo_kwh_mes fonte_energia  \\\n",
       "0              1  Centro-Oeste            Casa            257.0  Convencional   \n",
       "1              2         Norte         Sobrado            314.7         Solar   \n",
       "2              3           Sul         Sobrado            264.0  Convencional   \n",
       "3              4       Sudeste     Apartamento            446.0  Convencional   \n",
       "4              5           Sul            Casa            200.2  Convencional   \n",
       "\n",
       "   valor_fatura  \n",
       "0        187.64  \n",
       "1        266.29  \n",
       "2        244.02  \n",
       "3        382.10  \n",
       "4        167.24  "
      ]
     },
     "execution_count": 3,
     "metadata": {},
     "output_type": "execute_result"
    }
   ],
   "source": [
    "df = pd.read_csv(\"desafio_dia_85_energia_residencias.csv\")\n",
    "df.head()"
   ]
  },
  {
   "cell_type": "code",
   "execution_count": 4,
   "id": "f3130232-b170-40fd-994c-7c459f3d3d45",
   "metadata": {},
   "outputs": [
    {
     "data": {
      "text/plain": [
       "0"
      ]
     },
     "execution_count": 4,
     "metadata": {},
     "output_type": "execute_result"
    }
   ],
   "source": [
    "#Preencha os valores ausentes em consumo_kwh_mes com a mediana.\n",
    "df[\"consumo_kwh_mes\"] = df[\"consumo_kwh_mes\"].fillna(df[\"consumo_kwh_mes\"].median())\n",
    "df[\"consumo_kwh_mes\"].isna().sum()"
   ]
  },
  {
   "cell_type": "code",
   "execution_count": 5,
   "id": "5c47e366-1267-4aa3-9c2e-33d50bfe04f6",
   "metadata": {},
   "outputs": [
    {
     "data": {
      "text/plain": [
       "0"
      ]
     },
     "execution_count": 5,
     "metadata": {},
     "output_type": "execute_result"
    }
   ],
   "source": [
    "#Preencha os valores ausentes em valor_fatura com a média.\n",
    "df[\"valor_fatura\"] = df[\"valor_fatura\"].fillna(df[\"valor_fatura\"].mean())\n",
    "df[\"valor_fatura\"].isna().sum()"
   ]
  },
  {
   "cell_type": "code",
   "execution_count": 7,
   "id": "55669bb7-f695-4451-b04e-8d8ae90d0e13",
   "metadata": {},
   "outputs": [
    {
     "name": "stdout",
     "output_type": "stream",
     "text": [
      "tipo_residencia\n",
      "Apartamento    245.832500\n",
      "Casa           245.559341\n",
      "Sobrado        260.541139\n",
      "Name: consumo_kwh_mes, dtype: float64\n"
     ]
    }
   ],
   "source": [
    "#Qual é a média de consumo mensal (kWh) por tipo de residência?\n",
    "consumo_mensal_tipo_residencia = df.groupby(\"tipo_residencia\")[\"consumo_kwh_mes\"].mean()\n",
    "print(consumo_mensal_tipo_residencia)"
   ]
  },
  {
   "cell_type": "code",
   "execution_count": 9,
   "id": "915418d6-e70a-4791-94de-9152c4717625",
   "metadata": {},
   "outputs": [
    {
     "name": "stdout",
     "output_type": "stream",
     "text": [
      "regiao\n",
      "Centro-Oeste    198.898274\n",
      "Norte           198.322252\n",
      "Nordeste        197.780868\n",
      "Sul             197.564425\n",
      "Sudeste         196.022563\n",
      "Name: valor_fatura, dtype: float64\n"
     ]
    }
   ],
   "source": [
    "#Qual região possui o maior valor médio de fatura?\n",
    "região_fatura = df.groupby(\"regiao\")[\"valor_fatura\"].mean().sort_values(ascending=False)\n",
    "print(região_fatura)"
   ]
  },
  {
   "cell_type": "code",
   "execution_count": 13,
   "id": "4b165d4d-5b4c-4e84-bc0b-b622eaffb207",
   "metadata": {},
   "outputs": [
    {
     "data": {
      "image/png": "[encoded data removed]",
      "text/plain": [
       "<Figure size 640x480 with 1 Axes>"
      ]
     },
     "metadata": {},
     "output_type": "display_data"
    }
   ],
   "source": [
    "#Crie um gráfico de barras com o valor médio da fatura por tipo de fonte de energia.\n",
    "sns.barplot(df, x=\"fonte_energia\", y=\"valor_fatura\")\n",
    "plt.title(\"Valor médio da fatura por fonte de energia\")\n",
    "plt.ylabel(\"Valor médio da fatura (R$)\")\n",
    "plt.xlabel(\"Fonte de Energia\")\n",
    "plt.show()"
   ]
  },
  {
   "cell_type": "code",
   "execution_count": 17,
   "id": "88148946-58df-4452-9978-64c42ee145ce",
   "metadata": {},
   "outputs": [
    {
     "name": "stdout",
     "output_type": "stream",
     "text": [
      "5012.785960052836\n"
     ]
    }
   ],
   "source": [
    "#Crie um modelo para prever o valor_fatura com base em:\n",
    "X = df[[\"regiao\", \"tipo_residencia\", \"fonte_energia\", \"consumo_kwh_mes\"]]\n",
    "y = df[\"valor_fatura\"]\n",
    "\n",
    "X = pd.get_dummies(X)\n",
    "\n",
    "X_train, X_test, y_train, y_test = train_test_split(X, y, test_size=0.3, random_state=42)\n",
    "\n",
    "modelo = RandomForestRegressor(random_state=42)\n",
    "modelo.fit(X_train, y_train)\n",
    "\n",
    "y_pred = modelo.predict(X_test)\n",
    "print(mean_squared_error(y_test, y_pred))"
   ]
  }
 ],
 "metadata": {
  "kernelspec": {
   "display_name": "Python 3 (ipykernel)",
   "language": "python",
   "name": "python3"
  },
  "language_info": {
   "codemirror_mode": {
    "name": "ipython",
    "version": 3
   },
   "file_extension": ".py",
   "mimetype": "text/x-python",
   "name": "python",
   "nbconvert_exporter": "python",
   "pygments_lexer": "ipython3",
   "version": "3.12.7"
  }
 },
 "nbformat": 4,
 "nbformat_minor": 5
}
