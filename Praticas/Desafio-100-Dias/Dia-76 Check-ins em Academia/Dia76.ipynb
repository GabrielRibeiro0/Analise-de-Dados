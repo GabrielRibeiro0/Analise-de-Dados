{
 "cells": [
  {
   "cell_type": "markdown",
   "id": "3f9ac320-77fb-415c-83be-2e72119263c8",
   "metadata": {},
   "source": [
    "🎯 Desafio dia 76 — Check-ins em Academia\n",
    "\n",
    "📂 Dataset: desafio_dia_76_checkins_academia.csv\n",
    "📥 Clique aqui para baixar o CSV\n",
    "\n",
    "🔍 Contexto: Você está analisando os registros de entrada dos alunos em uma academia durante várias semanas. As informações coletadas incluem o dia da semana, o horário do check-in, o tempo de treino e o plano do aluno. Seu objetivo é entender os padrões de uso da academia e prever o tempo médio de treino.\n",
    "\n",
    "🛠️ Tarefas do desafio:\n",
    "\n",
    "Tratamento de dados\n",
    "- Preencha os valores ausentes na coluna tempo_treino_min com a mediana da coluna.\n",
    "\n",
    "- Preencha os valores ausentes da coluna plano com o valor mais frequente (moda).\n",
    "\n",
    "📊 Análise geral\n",
    "- Qual o horário mais popular para treino?\n",
    "\n",
    "- Qual o tempo médio de treino por tipo de plano?\n",
    "\n",
    "📈 Visualização de dados\n",
    "- Crie um boxplot comparando o tempo de treino por horário (Manhã, Tarde, Noite).\n",
    "\n",
    "🤖 Machine Learning - Regressão\n",
    "- Crie um modelo de regressão (RandomForestRegressor) para prever o tempo_treino_min com base nas variáveis:\n",
    "\n",
    "    dia_semana, horario, plano\n",
    "\n",
    "    Utilize train_test_split, get_dummies e avalie o modelo com mean_absolute_error."
   ]
  },
  {
   "cell_type": "code",
   "execution_count": 13,
   "id": "6ccc4a07-e9fd-4d4a-9004-6bd754c56d91",
   "metadata": {},
   "outputs": [],
   "source": [
    "import pandas as pd\n",
    "import seaborn as sns\n",
    "import matplotlib.pyplot as plt\n",
    "from sklearn.model_selection import train_test_split\n",
    "from sklearn.ensemble import RandomForestRegressor\n",
    "from sklearn.metrics import mean_absolute_error"
   ]
  },
  {
   "cell_type": "code",
   "execution_count": 4,
   "id": "40797e5a-474c-4c19-94ce-bbeed1289d00",
   "metadata": {},
   "outputs": [
    {
     "data": {
      "text/html": [
       "<div>\n",
       "<style scoped>\n",
       "    .dataframe tbody tr th:only-of-type {\n",
       "        vertical-align: middle;\n",
       "    }\n",
       "\n",
       "    .dataframe tbody tr th {\n",
       "        vertical-align: top;\n",
       "    }\n",
       "\n",
       "    .dataframe thead th {\n",
       "        text-align: right;\n",
       "    }\n",
       "</style>\n",
       "<table border=\"1\" class=\"dataframe\">\n",
       "  <thead>\n",
       "    <tr style=\"text-align: right;\">\n",
       "      <th></th>\n",
       "      <th>id_checkin</th>\n",
       "      <th>dia_semana</th>\n",
       "      <th>horario</th>\n",
       "      <th>tempo_treino_min</th>\n",
       "      <th>plano</th>\n",
       "    </tr>\n",
       "  </thead>\n",
       "  <tbody>\n",
       "    <tr>\n",
       "      <th>0</th>\n",
       "      <td>5001</td>\n",
       "      <td>Terça</td>\n",
       "      <td>Noite</td>\n",
       "      <td>55.1</td>\n",
       "      <td>Básico</td>\n",
       "    </tr>\n",
       "    <tr>\n",
       "      <th>1</th>\n",
       "      <td>5002</td>\n",
       "      <td>Sexta</td>\n",
       "      <td>Tarde</td>\n",
       "      <td>61.8</td>\n",
       "      <td>Premium</td>\n",
       "    </tr>\n",
       "    <tr>\n",
       "      <th>2</th>\n",
       "      <td>5003</td>\n",
       "      <td>Terça</td>\n",
       "      <td>Tarde</td>\n",
       "      <td>102.5</td>\n",
       "      <td>Básico</td>\n",
       "    </tr>\n",
       "    <tr>\n",
       "      <th>3</th>\n",
       "      <td>5004</td>\n",
       "      <td>Segunda</td>\n",
       "      <td>Tarde</td>\n",
       "      <td>111.4</td>\n",
       "      <td>Básico</td>\n",
       "    </tr>\n",
       "    <tr>\n",
       "      <th>4</th>\n",
       "      <td>5005</td>\n",
       "      <td>Segunda</td>\n",
       "      <td>Manhã</td>\n",
       "      <td>62.2</td>\n",
       "      <td>Plus</td>\n",
       "    </tr>\n",
       "  </tbody>\n",
       "</table>\n",
       "</div>"
      ],
      "text/plain": [
       "   id_checkin dia_semana horario  tempo_treino_min    plano\n",
       "0        5001      Terça   Noite              55.1   Básico\n",
       "1        5002      Sexta   Tarde              61.8  Premium\n",
       "2        5003      Terça   Tarde             102.5   Básico\n",
       "3        5004    Segunda   Tarde             111.4   Básico\n",
       "4        5005    Segunda   Manhã              62.2     Plus"
      ]
     },
     "execution_count": 4,
     "metadata": {},
     "output_type": "execute_result"
    }
   ],
   "source": [
    "df = pd.read_csv(\"desafio_dia_76_checkins_academia.csv\")\n",
    "df.head()"
   ]
  },
  {
   "cell_type": "code",
   "execution_count": 5,
   "id": "ec46d2bd-7379-4495-8fa6-2d59070ca8ca",
   "metadata": {},
   "outputs": [
    {
     "data": {
      "text/plain": [
       "0"
      ]
     },
     "execution_count": 5,
     "metadata": {},
     "output_type": "execute_result"
    }
   ],
   "source": [
    "#Preencha os valores ausentes na coluna tempo_treino_min com a mediana da coluna.\n",
    "df[\"tempo_treino_min\"] = df[\"tempo_treino_min\"].fillna(df[\"tempo_treino_min\"].median())\n",
    "df[\"tempo_treino_min\"].isna().sum()"
   ]
  },
  {
   "cell_type": "code",
   "execution_count": 6,
   "id": "42c90000-49c8-4785-962b-581aab4b8d53",
   "metadata": {},
   "outputs": [
    {
     "data": {
      "text/plain": [
       "0"
      ]
     },
     "execution_count": 6,
     "metadata": {},
     "output_type": "execute_result"
    }
   ],
   "source": [
    "#Preencha os valores ausentes da coluna plano com o valor mais frequente (moda).\n",
    "df[\"plano\"] = df[\"plano\"].fillna(df[\"plano\"].mode()[0])\n",
    "df[\"plano\"].isna().sum()"
   ]
  },
  {
   "cell_type": "code",
   "execution_count": 7,
   "id": "a59093d1-655c-442d-b536-b66f00ae012d",
   "metadata": {},
   "outputs": [
    {
     "name": "stdout",
     "output_type": "stream",
     "text": [
      "horario\n",
      "Manhã    217\n",
      "Tarde    146\n",
      "Noite    137\n",
      "Name: count, dtype: int64\n"
     ]
    }
   ],
   "source": [
    "#Qual o horário mais popular para treino?\n",
    "horario_popular = df[\"horario\"].value_counts()\n",
    "print(horario_popular)"
   ]
  },
  {
   "cell_type": "code",
   "execution_count": 8,
   "id": "81bfedd5-8363-4674-886d-318d807a3f59",
   "metadata": {},
   "outputs": [
    {
     "name": "stdout",
     "output_type": "stream",
     "text": [
      "plano\n",
      "Básico     66.043385\n",
      "Plus       63.809603\n",
      "Premium    64.505435\n",
      "Name: tempo_treino_min, dtype: float64\n"
     ]
    }
   ],
   "source": [
    "#Qual o tempo médio de treino por tipo de plano?\n",
    "tempo_medio_por_plano = df.groupby(\"plano\")[\"tempo_treino_min\"].mean()\n",
    "print(tempo_medio_por_plano)"
   ]
  },
  {
   "cell_type": "code",
   "execution_count": 12,
   "id": "fed79e02-a9c9-4868-9706-279c213cee05",
   "metadata": {},
   "outputs": [
    {
     "data": {
      "image/png": "[encoded data removed]",
      "text/plain": [
       "<Figure size 640x480 with 1 Axes>"
      ]
     },
     "metadata": {},
     "output_type": "display_data"
    }
   ],
   "source": [
    "#Crie um boxplot comparando o tempo de treino por horário (Manhã, Tarde, Noite).\n",
    "sns.boxplot(df, x=\"horario\", y=\"tempo_treino_min\")\n",
    "plt.title(\"Tempo de Treino por Horário\")\n",
    "plt.xlabel(\"Horário\")\n",
    "plt.ylabel(\"Tempo de Treino (min)\")\n",
    "plt.show()"
   ]
  },
  {
   "cell_type": "code",
   "execution_count": 14,
   "id": "bb06a6d0-98af-45f8-aa64-ab9a4318a116",
   "metadata": {},
   "outputs": [
    {
     "name": "stdout",
     "output_type": "stream",
     "text": [
      "12.489210109360904\n"
     ]
    }
   ],
   "source": [
    "#Crie um modelo de regressão (RandomForestRegressor) para prever o tempo_treino_min com base nas variáveis:\n",
    "X = df[[\"dia_semana\", \"horario\", \"plano\"]]\n",
    "y = df[\"tempo_treino_min\"]\n",
    "\n",
    "X = pd.get_dummies(X)\n",
    "\n",
    "X_train, X_test, y_train, y_test = train_test_split(X, y, test_size=0.3, random_state=42)\n",
    "\n",
    "modelo = RandomForestRegressor(random_state=42)\n",
    "modelo.fit(X_train, y_train)\n",
    "\n",
    "y_pred = modelo.predict(X_test)\n",
    "print(mean_absolute_error(y_test, y_pred))"
   ]
  },
  {
   "cell_type": "code",
   "execution_count": null,
   "id": "9cef0d51-1a3f-4a9e-9d17-1cd9c4a23d2d",
   "metadata": {},
   "outputs": [],
   "source": []
  }
 ],
 "metadata": {
  "kernelspec": {
   "display_name": "Python 3 (ipykernel)",
   "language": "python",
   "name": "python3"
  },
  "language_info": {
   "codemirror_mode": {
    "name": "ipython",
    "version": 3
   },
   "file_extension": ".py",
   "mimetype": "text/x-python",
   "name": "python",
   "nbconvert_exporter": "python",
   "pygments_lexer": "ipython3",
   "version": "3.12.7"
  }
 },
 "nbformat": 4,
 "nbformat_minor": 5
}
