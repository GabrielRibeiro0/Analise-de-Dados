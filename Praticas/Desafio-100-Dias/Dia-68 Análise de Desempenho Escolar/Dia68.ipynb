{
 "cells": [
  {
   "cell_type": "markdown",
   "id": "791c7d53-ded5-4325-84ba-9fef87672695",
   "metadata": {},
   "source": [
    "🎯 Desafio dia 68 — Análise de Desempenho Escolar\n",
    "\n",
    "📂 Dataset: desafio_dia_68_desempenho_alunos.csv\n",
    "📥 Clique aqui para baixar o CSV\n",
    "\n",
    "🔍 Contexto: Você foi contratado por uma escola para analisar o desempenho dos alunos em diferentes matérias, turnos e provas. O objetivo é entender fatores que influenciam a aprovação.\n",
    "\n",
    "🛠️ Tarefas do desafio:\n",
    "\n",
    "Tratamento de dados\n",
    "- Preencha os valores ausentes na coluna nota_prova1 com a mediana dessa coluna.\n",
    "\n",
    "- Preencha os valores ausentes em faltas com a moda da coluna.\n",
    "\n",
    "Análise geral\n",
    "- Qual matéria possui maior taxa de aprovação?\n",
    "\n",
    "- Qual o turno com maior média final?\n",
    "\n",
    "Visualização de dados\n",
    "- Crie um boxplot comparando a média final dos alunos por turno.\n",
    "\n",
    "Machine Learning - Classificação\n",
    "- Crie um modelo de classificação (por exemplo, LogisticRegression) para prever se um aluno será aprovado, com base em:\n",
    "\n",
    "faltas\n",
    "\n",
    "media_final\n",
    "\n",
    "materia (use pd.get_dummies)\n",
    "\n",
    "Use train_test_split, treine o modelo e exiba a acurácia com accuracy_score."
   ]
  },
  {
   "cell_type": "code",
   "execution_count": 20,
   "id": "253d57f7-d1be-4e53-b58e-84e9be4f146c",
   "metadata": {},
   "outputs": [],
   "source": [
    "import pandas as pd\n",
    "import seaborn as sns\n",
    "import matplotlib.pyplot as plt\n",
    "from sklearn.model_selection import train_test_split\n",
    "from sklearn.linear_model import LogisticRegression\n",
    "from sklearn.metrics import accuracy_score"
   ]
  },
  {
   "cell_type": "code",
   "execution_count": 3,
   "id": "36cc6c9d-84f0-4eff-9c4a-0be1b4c2ffba",
   "metadata": {},
   "outputs": [
    {
     "data": {
      "text/html": [
       "<div>\n",
       "<style scoped>\n",
       "    .dataframe tbody tr th:only-of-type {\n",
       "        vertical-align: middle;\n",
       "    }\n",
       "\n",
       "    .dataframe tbody tr th {\n",
       "        vertical-align: top;\n",
       "    }\n",
       "\n",
       "    .dataframe thead th {\n",
       "        text-align: right;\n",
       "    }\n",
       "</style>\n",
       "<table border=\"1\" class=\"dataframe\">\n",
       "  <thead>\n",
       "    <tr style=\"text-align: right;\">\n",
       "      <th></th>\n",
       "      <th>id_aluno</th>\n",
       "      <th>materia</th>\n",
       "      <th>turno</th>\n",
       "      <th>faltas</th>\n",
       "      <th>nota_prova1</th>\n",
       "      <th>nota_prova2</th>\n",
       "      <th>media_final</th>\n",
       "      <th>aprovado</th>\n",
       "    </tr>\n",
       "  </thead>\n",
       "  <tbody>\n",
       "    <tr>\n",
       "      <th>0</th>\n",
       "      <td>1</td>\n",
       "      <td>História</td>\n",
       "      <td>Tarde</td>\n",
       "      <td>2.0</td>\n",
       "      <td>8.3</td>\n",
       "      <td>8.2</td>\n",
       "      <td>8.2</td>\n",
       "      <td>1</td>\n",
       "    </tr>\n",
       "    <tr>\n",
       "      <th>1</th>\n",
       "      <td>2</td>\n",
       "      <td>Física</td>\n",
       "      <td>Noite</td>\n",
       "      <td>3.0</td>\n",
       "      <td>NaN</td>\n",
       "      <td>5.8</td>\n",
       "      <td>5.9</td>\n",
       "      <td>0</td>\n",
       "    </tr>\n",
       "    <tr>\n",
       "      <th>2</th>\n",
       "      <td>3</td>\n",
       "      <td>História</td>\n",
       "      <td>Manhã</td>\n",
       "      <td>0.0</td>\n",
       "      <td>6.4</td>\n",
       "      <td>7.9</td>\n",
       "      <td>7.2</td>\n",
       "      <td>1</td>\n",
       "    </tr>\n",
       "    <tr>\n",
       "      <th>3</th>\n",
       "      <td>4</td>\n",
       "      <td>Física</td>\n",
       "      <td>Noite</td>\n",
       "      <td>1.0</td>\n",
       "      <td>9.3</td>\n",
       "      <td>6.9</td>\n",
       "      <td>8.1</td>\n",
       "      <td>1</td>\n",
       "    </tr>\n",
       "    <tr>\n",
       "      <th>4</th>\n",
       "      <td>5</td>\n",
       "      <td>Matemática</td>\n",
       "      <td>Manhã</td>\n",
       "      <td>1.0</td>\n",
       "      <td>6.8</td>\n",
       "      <td>5.5</td>\n",
       "      <td>6.2</td>\n",
       "      <td>1</td>\n",
       "    </tr>\n",
       "  </tbody>\n",
       "</table>\n",
       "</div>"
      ],
      "text/plain": [
       "   id_aluno     materia  turno  faltas  nota_prova1  nota_prova2  media_final  \\\n",
       "0         1    História  Tarde     2.0          8.3          8.2          8.2   \n",
       "1         2      Física  Noite     3.0          NaN          5.8          5.9   \n",
       "2         3    História  Manhã     0.0          6.4          7.9          7.2   \n",
       "3         4      Física  Noite     1.0          9.3          6.9          8.1   \n",
       "4         5  Matemática  Manhã     1.0          6.8          5.5          6.2   \n",
       "\n",
       "   aprovado  \n",
       "0         1  \n",
       "1         0  \n",
       "2         1  \n",
       "3         1  \n",
       "4         1  "
      ]
     },
     "execution_count": 3,
     "metadata": {},
     "output_type": "execute_result"
    }
   ],
   "source": [
    "df = pd.read_csv(\"desafio_dia_68_desempenho_alunos.csv\")\n",
    "df.head()"
   ]
  },
  {
   "cell_type": "code",
   "execution_count": 8,
   "id": "044d8a34-3c9f-4ad0-9f2b-b79dd7976c42",
   "metadata": {},
   "outputs": [
    {
     "data": {
      "text/html": [
       "<div>\n",
       "<style scoped>\n",
       "    .dataframe tbody tr th:only-of-type {\n",
       "        vertical-align: middle;\n",
       "    }\n",
       "\n",
       "    .dataframe tbody tr th {\n",
       "        vertical-align: top;\n",
       "    }\n",
       "\n",
       "    .dataframe thead th {\n",
       "        text-align: right;\n",
       "    }\n",
       "</style>\n",
       "<table border=\"1\" class=\"dataframe\">\n",
       "  <thead>\n",
       "    <tr style=\"text-align: right;\">\n",
       "      <th></th>\n",
       "      <th>id_aluno</th>\n",
       "      <th>materia</th>\n",
       "      <th>turno</th>\n",
       "      <th>faltas</th>\n",
       "      <th>nota_prova1</th>\n",
       "      <th>nota_prova2</th>\n",
       "      <th>media_final</th>\n",
       "      <th>aprovado</th>\n",
       "    </tr>\n",
       "  </thead>\n",
       "  <tbody>\n",
       "    <tr>\n",
       "      <th>0</th>\n",
       "      <td>1</td>\n",
       "      <td>História</td>\n",
       "      <td>Tarde</td>\n",
       "      <td>2.0</td>\n",
       "      <td>8.3</td>\n",
       "      <td>8.2</td>\n",
       "      <td>8.2</td>\n",
       "      <td>1</td>\n",
       "    </tr>\n",
       "    <tr>\n",
       "      <th>1</th>\n",
       "      <td>2</td>\n",
       "      <td>Física</td>\n",
       "      <td>Noite</td>\n",
       "      <td>3.0</td>\n",
       "      <td>6.6</td>\n",
       "      <td>5.8</td>\n",
       "      <td>5.9</td>\n",
       "      <td>0</td>\n",
       "    </tr>\n",
       "    <tr>\n",
       "      <th>2</th>\n",
       "      <td>3</td>\n",
       "      <td>História</td>\n",
       "      <td>Manhã</td>\n",
       "      <td>0.0</td>\n",
       "      <td>6.4</td>\n",
       "      <td>7.9</td>\n",
       "      <td>7.2</td>\n",
       "      <td>1</td>\n",
       "    </tr>\n",
       "    <tr>\n",
       "      <th>3</th>\n",
       "      <td>4</td>\n",
       "      <td>Física</td>\n",
       "      <td>Noite</td>\n",
       "      <td>1.0</td>\n",
       "      <td>9.3</td>\n",
       "      <td>6.9</td>\n",
       "      <td>8.1</td>\n",
       "      <td>1</td>\n",
       "    </tr>\n",
       "    <tr>\n",
       "      <th>4</th>\n",
       "      <td>5</td>\n",
       "      <td>Matemática</td>\n",
       "      <td>Manhã</td>\n",
       "      <td>1.0</td>\n",
       "      <td>6.8</td>\n",
       "      <td>5.5</td>\n",
       "      <td>6.2</td>\n",
       "      <td>1</td>\n",
       "    </tr>\n",
       "  </tbody>\n",
       "</table>\n",
       "</div>"
      ],
      "text/plain": [
       "   id_aluno     materia  turno  faltas  nota_prova1  nota_prova2  media_final  \\\n",
       "0         1    História  Tarde     2.0          8.3          8.2          8.2   \n",
       "1         2      Física  Noite     3.0          6.6          5.8          5.9   \n",
       "2         3    História  Manhã     0.0          6.4          7.9          7.2   \n",
       "3         4      Física  Noite     1.0          9.3          6.9          8.1   \n",
       "4         5  Matemática  Manhã     1.0          6.8          5.5          6.2   \n",
       "\n",
       "   aprovado  \n",
       "0         1  \n",
       "1         0  \n",
       "2         1  \n",
       "3         1  \n",
       "4         1  "
      ]
     },
     "execution_count": 8,
     "metadata": {},
     "output_type": "execute_result"
    }
   ],
   "source": [
    "#Preencha os valores ausentes na coluna nota_prova1 com a mediana dessa coluna.\n",
    "df[\"nota_prova1\"] = df[\"nota_prova1\"].fillna(df[\"nota_prova1\"].median())\n",
    "\n",
    "df[\"faltas\"] = df[\"faltas\"].fillna(df[\"faltas\"].mode()[0])\n",
    "df.head()"
   ]
  },
  {
   "cell_type": "code",
   "execution_count": 16,
   "id": "a0650295-d396-48aa-82e4-a55a195d4f0f",
   "metadata": {},
   "outputs": [
    {
     "name": "stdout",
     "output_type": "stream",
     "text": [
      "materia\n",
      "Biologia      73.972603\n",
      "Física        78.048780\n",
      "História      65.853659\n",
      "Matemática    69.318182\n",
      "Português     61.333333\n",
      "dtype: float64\n"
     ]
    }
   ],
   "source": [
    "#Qual matéria possui maior taxa de aprovação?\n",
    "aprovado = df[df[\"aprovado\"] == 1]\n",
    "materia_aprovacao = aprovado.groupby(\"materia\")[\"aprovado\"].size() / df.groupby(\"materia\").size() * 100\n",
    "print(materia_aprovacao)"
   ]
  },
  {
   "cell_type": "code",
   "execution_count": 17,
   "id": "a8686d7d-bb0d-4146-ab5e-7b7f3d9f0fe4",
   "metadata": {},
   "outputs": [
    {
     "name": "stdout",
     "output_type": "stream",
     "text": [
      "turno\n",
      "Manhã    6.617730\n",
      "Noite    6.554955\n",
      "Tarde    6.569595\n",
      "Name: media_final, dtype: float64\n"
     ]
    }
   ],
   "source": [
    "#Qual o turno com maior média final?\n",
    "turno_maior_mediaFinal = df.groupby(\"turno\")[\"media_final\"].mean()\n",
    "print(turno_maior_mediaFinal)"
   ]
  },
  {
   "cell_type": "code",
   "execution_count": 19,
   "id": "46ee86db-2dd2-40c5-9d1f-0ed7e6b0885a",
   "metadata": {},
   "outputs": [
    {
     "data": {
      "image/png": "[encoded data removed]",
      "text/plain": [
       "<Figure size 640x480 with 1 Axes>"
      ]
     },
     "metadata": {},
     "output_type": "display_data"
    }
   ],
   "source": [
    "#Crie um boxplot comparando a média final dos alunos por turno.\n",
    "sns.boxplot(df, x=\"turno\", y=\"media_final\")\n",
    "plt.title(\"Distribuição da Média Final por Turno\")\n",
    "plt.show()"
   ]
  },
  {
   "cell_type": "code",
   "execution_count": 33,
   "id": "56a80168-ad8b-4b1f-9800-7c9755cfedcb",
   "metadata": {},
   "outputs": [
    {
     "name": "stdout",
     "output_type": "stream",
     "text": [
      "0.8333333333333334\n"
     ]
    }
   ],
   "source": [
    "#Crie um modelo de classificação (por exemplo, LogisticRegression) para prever se um aluno será aprovado, com base em:\n",
    "df_dummies = pd.get_dummies(df[\"materia\"], drop_first=True)\n",
    "\n",
    "X = pd.concat([df[[\"media_final\", \"faltas\"]], df_dummies], axis=1)\n",
    "y = df[\"aprovado\"]\n",
    "\n",
    "X_train, X_test, y_train, y_test = train_test_split(X, y, test_size=0.3, random_state=42)\n",
    "\n",
    "modelo = LogisticRegression()\n",
    "modelo.fit(X_train, y_train)\n",
    "\n",
    "y_pred = modelo.predict(X_test)\n",
    "print(accuracy_score(y_test, y_pred))"
   ]
  }
 ],
 "metadata": {
  "kernelspec": {
   "display_name": "Python 3 (ipykernel)",
   "language": "python",
   "name": "python3"
  },
  "language_info": {
   "codemirror_mode": {
    "name": "ipython",
    "version": 3
   },
   "file_extension": ".py",
   "mimetype": "text/x-python",
   "name": "python",
   "nbconvert_exporter": "python",
   "pygments_lexer": "ipython3",
   "version": "3.12.7"
  }
 },
 "nbformat": 4,
 "nbformat_minor": 5
}
