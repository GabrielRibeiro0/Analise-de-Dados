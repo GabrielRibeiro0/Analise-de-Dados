{
 "cells": [
  {
   "cell_type": "markdown",
   "id": "7fe64010",
   "metadata": {},
   "source": [
    "🎯 Desafio dia 72 — Monitoramento de Glicemia em Pacientes Diabéticos\n",
    "\n",
    "📂 Dataset: desafio_dia_72_glicemia_pacientes.csv\n",
    "\n",
    "🔍 Contexto: Você está em um projeto de monitoramento de saúde voltado para pessoas com diabetes. O objetivo é analisar padrões de glicemia e entender o impacto de hábitos como atividade física.\n",
    "\n",
    "🛠️ Tarefas do desafio:\n",
    "\n",
    "Tratamento de dados\n",
    "\n",
    "- Preencha os valores ausentes de nivel_glicose com a média da coluna.\n",
    "\n",
    "- Preencha os valores ausentes de atividade_fisica com o valor mais frequente (moda).\n",
    "\n",
    "Análise geral\n",
    "\n",
    "- Qual a média de glicose por faixa etária?\n",
    "\n",
    "- Pacientes que fazem atividade física têm menor média de glicose?\n",
    "\n",
    "Visualização de dados\n",
    "\n",
    "- Crie um boxplot do nível de glicose por momento de medição (momento_medicao).\n",
    "\n",
    "Machine Learning - Classificação\n",
    "\n",
    "- Crie um modelo para prever se um paciente fez atividade física com base nas variáveis:\n",
    "\n",
    "    nivel_glicose, faixa_etaria, sexo, momento_medicao\n",
    "\n",
    "    Use RandomForestClassifier, train_test_split e pd.get_dummies.\n",
    "\n",
    "    Avalie o modelo com accuracy_score."
   ]
  },
  {
   "cell_type": "code",
   "execution_count": 17,
   "id": "40254d2c",
   "metadata": {},
   "outputs": [],
   "source": [
    "import pandas as pd\n",
    "import seaborn as sns\n",
    "import matplotlib.pyplot as plt\n",
    "from sklearn.model_selection import train_test_split\n",
    "from sklearn.ensemble import RandomForestClassifier\n",
    "from sklearn.metrics import accuracy_score"
   ]
  },
  {
   "cell_type": "code",
   "execution_count": 18,
   "id": "b8ed6775",
   "metadata": {},
   "outputs": [
    {
     "data": {
      "text/html": [
       "<div>\n",
       "<style scoped>\n",
       "    .dataframe tbody tr th:only-of-type {\n",
       "        vertical-align: middle;\n",
       "    }\n",
       "\n",
       "    .dataframe tbody tr th {\n",
       "        vertical-align: top;\n",
       "    }\n",
       "\n",
       "    .dataframe thead th {\n",
       "        text-align: right;\n",
       "    }\n",
       "</style>\n",
       "<table border=\"1\" class=\"dataframe\">\n",
       "  <thead>\n",
       "    <tr style=\"text-align: right;\">\n",
       "      <th></th>\n",
       "      <th>id_paciente</th>\n",
       "      <th>sexo</th>\n",
       "      <th>faixa_etaria</th>\n",
       "      <th>nivel_glicose</th>\n",
       "      <th>momento_medicao</th>\n",
       "      <th>atividade_fisica</th>\n",
       "    </tr>\n",
       "  </thead>\n",
       "  <tbody>\n",
       "    <tr>\n",
       "      <th>0</th>\n",
       "      <td>10472</td>\n",
       "      <td>Masculino</td>\n",
       "      <td>18-30</td>\n",
       "      <td>63.1</td>\n",
       "      <td>Antes do café</td>\n",
       "      <td>Sim</td>\n",
       "    </tr>\n",
       "    <tr>\n",
       "      <th>1</th>\n",
       "      <td>10787</td>\n",
       "      <td>Feminino</td>\n",
       "      <td>18-30</td>\n",
       "      <td>111.6</td>\n",
       "      <td>Antes do café</td>\n",
       "      <td>Não</td>\n",
       "    </tr>\n",
       "    <tr>\n",
       "      <th>2</th>\n",
       "      <td>10046</td>\n",
       "      <td>Masculino</td>\n",
       "      <td>46-60</td>\n",
       "      <td>138.0</td>\n",
       "      <td>Depois do almoço</td>\n",
       "      <td>Sim</td>\n",
       "    </tr>\n",
       "    <tr>\n",
       "      <th>3</th>\n",
       "      <td>10074</td>\n",
       "      <td>Feminino</td>\n",
       "      <td>31-45</td>\n",
       "      <td>79.0</td>\n",
       "      <td>Antes do café</td>\n",
       "      <td>Não</td>\n",
       "    </tr>\n",
       "    <tr>\n",
       "      <th>4</th>\n",
       "      <td>10869</td>\n",
       "      <td>Masculino</td>\n",
       "      <td>31-45</td>\n",
       "      <td>127.5</td>\n",
       "      <td>Depois do almoço</td>\n",
       "      <td>Sim</td>\n",
       "    </tr>\n",
       "  </tbody>\n",
       "</table>\n",
       "</div>"
      ],
      "text/plain": [
       "   id_paciente       sexo faixa_etaria  nivel_glicose   momento_medicao  \\\n",
       "0        10472  Masculino        18-30           63.1     Antes do café   \n",
       "1        10787   Feminino        18-30          111.6     Antes do café   \n",
       "2        10046  Masculino        46-60          138.0  Depois do almoço   \n",
       "3        10074   Feminino        31-45           79.0     Antes do café   \n",
       "4        10869  Masculino        31-45          127.5  Depois do almoço   \n",
       "\n",
       "  atividade_fisica  \n",
       "0              Sim  \n",
       "1              Não  \n",
       "2              Sim  \n",
       "3              Não  \n",
       "4              Sim  "
      ]
     },
     "execution_count": 18,
     "metadata": {},
     "output_type": "execute_result"
    }
   ],
   "source": [
    "df = pd.read_csv(\"desafio_dia_72_glicemia_pacientes.csv\")\n",
    "df.head()"
   ]
  },
  {
   "cell_type": "code",
   "execution_count": 20,
   "id": "24880b79",
   "metadata": {},
   "outputs": [
    {
     "data": {
      "text/plain": [
       "np.int64(0)"
      ]
     },
     "execution_count": 20,
     "metadata": {},
     "output_type": "execute_result"
    }
   ],
   "source": [
    "#Preencha os valores ausentes de nivel_glicose com a média da coluna.\n",
    "df[\"nivel_glicose\"] = df[\"nivel_glicose\"].fillna(df[\"nivel_glicose\"].mean())\n",
    "df[\"nivel_glicose\"].isna().sum()"
   ]
  },
  {
   "cell_type": "code",
   "execution_count": 21,
   "id": "f07eaafc",
   "metadata": {},
   "outputs": [
    {
     "data": {
      "text/plain": [
       "np.int64(0)"
      ]
     },
     "execution_count": 21,
     "metadata": {},
     "output_type": "execute_result"
    }
   ],
   "source": [
    "#Preencha os valores ausentes de atividade_fisica com o valor mais frequente (moda).\n",
    "df[\"atividade_fisica\"] = df[\"atividade_fisica\"].fillna(df[\"atividade_fisica\"].mode()[0])\n",
    "df[\"atividade_fisica\"].isna().sum()"
   ]
  },
  {
   "cell_type": "code",
   "execution_count": 8,
   "id": "fbb6b079",
   "metadata": {},
   "outputs": [
    {
     "name": "stdout",
     "output_type": "stream",
     "text": [
      "faixa_etaria\n",
      "61+      113.609169\n",
      "46-60    113.110085\n",
      "18-30    111.143736\n",
      "31-45    107.143834\n",
      "Name: nivel_glicose, dtype: float64\n"
     ]
    }
   ],
   "source": [
    "#Qual a média de glicose por faixa etária?\n",
    "media_glicose_faixa_etaria = df.groupby(\"faixa_etaria\")[\"nivel_glicose\"].mean().sort_values(ascending=False)\n",
    "print(media_glicose_faixa_etaria)"
   ]
  },
  {
   "cell_type": "code",
   "execution_count": 10,
   "id": "2689bdda",
   "metadata": {},
   "outputs": [
    {
     "name": "stdout",
     "output_type": "stream",
     "text": [
      "atividade_fisica\n",
      "Não    112.001557\n",
      "Sim    109.349810\n",
      "Name: nivel_glicose, dtype: float64\n"
     ]
    }
   ],
   "source": [
    "#Pacientes que fazem atividade física têm menor média de glicose?\n",
    "atividade_fisica_glicose = df.groupby(\"atividade_fisica\")[\"nivel_glicose\"].mean().sort_values(ascending=False)\n",
    "print(atividade_fisica_glicose)"
   ]
  },
  {
   "cell_type": "code",
   "execution_count": 13,
   "id": "272831e7",
   "metadata": {
    "scrolled": false
   },
   "outputs": [
    {
     "data": {
      "text/plain": [
       "Text(0.5, 0, 'Momento da Medição')"
      ]
     },
     "execution_count": 13,
     "metadata": {},
     "output_type": "execute_result"
    },
    {
     "data": {
      "image/png": "[encoded data removed]",
      "text/plain": [
       "<Figure size 640x480 with 1 Axes>"
      ]
     },
     "metadata": {},
     "output_type": "display_data"
    }
   ],
   "source": [
    "#Crie um boxplot do nível de glicose por momento de medição (momento_medicao).\n",
    "sns.boxplot(df, x=\"momento_medicao\", y=\"nivel_glicose\")\n",
    "plt.title(\"Nível de Glicose por Momento de Medição\")\n",
    "plt.ylabel(\"Nível Glicose\")\n",
    "plt.xlabel(\"Momento da Medição\")"
   ]
  },
  {
   "cell_type": "code",
   "execution_count": 25,
   "id": "aadda6e7",
   "metadata": {},
   "outputs": [
    {
     "name": "stdout",
     "output_type": "stream",
     "text": [
      "0.5217391304347826\n"
     ]
    }
   ],
   "source": [
    "#Crie um modelo para prever se um paciente fez atividade física com base nas variáveis:\n",
    "X = df[[\"nivel_glicose\", \"faixa_etaria\", \"sexo\", \"momento_medicao\"]]\n",
    "y = df[\"atividade_fisica\"]\n",
    "\n",
    "X = pd.get_dummies(X)\n",
    "\n",
    "X_train, X_test, y_train, y_test = train_test_split(X, y, test_size=0.3, random_state=42)\n",
    "\n",
    "model = RandomForestClassifier()\n",
    "model.fit(X_train, y_train)\n",
    "\n",
    "y_pred = model.predict(X_test)\n",
    "print(accuracy_score(y_test, y_pred))"
   ]
  },
  {
   "cell_type": "code",
   "execution_count": null,
   "id": "1437f8d3",
   "metadata": {},
   "outputs": [],
   "source": []
  }
 ],
 "metadata": {
  "kernelspec": {
   "display_name": "Python (jupyter_env)",
   "language": "python",
   "name": "jupyter_env"
  },
  "language_info": {
   "codemirror_mode": {
    "name": "ipython",
    "version": 3
   },
   "file_extension": ".py",
   "mimetype": "text/x-python",
   "name": "python",
   "nbconvert_exporter": "python",
   "pygments_lexer": "ipython3",
   "version": "3.13.2"
  }
 },
 "nbformat": 4,
 "nbformat_minor": 5
}
