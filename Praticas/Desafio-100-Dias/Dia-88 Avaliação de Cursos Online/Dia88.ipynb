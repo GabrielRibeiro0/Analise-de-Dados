{
 "cells": [
  {
   "cell_type": "markdown",
   "id": "7e66881f-aa8e-4eac-8e7c-27280c265d14",
   "metadata": {},
   "source": [
    "🎯 Desafio dia 88 — Avaliação de Cursos Online\n",
    "\n",
    "📂 Dataset: desafio_dia_88_cursos_online.csv\n",
    "📥 Clique aqui para baixar o CSV\n",
    "\n",
    "🔍 Contexto: Uma empresa de educação online quer entender melhor o engajamento dos usuários e as avaliações dos cursos em diferentes plataformas e categorias.\n",
    "\n",
    "🛠️ Tarefas do desafio\n",
    "\n",
    "🧹 Tratamento de dados\n",
    "- Preencha os valores ausentes em horas_concluidas com a média.\n",
    "\n",
    "- Preencha os valores ausentes em avaliacao_usuario com a moda.\n",
    "\n",
    "📊 Análise geral\n",
    "- Qual plataforma tem a maior média de horas concluídas por curso?\n",
    "\n",
    "- Qual categoria tem a melhor média de avaliação dos usuários?\n",
    "\n",
    "📈 Visualização de dados\n",
    "- Crie um gráfico de barras comparando a média de avaliação por categoria.\n",
    "\n",
    "🤖 Machine Learning - Regressão\n",
    "- Crie um modelo para prever a avaliacao_usuario com base em:\n",
    "\n",
    "categoria, plataforma, horas_concluidas\n",
    "\n",
    "Use:\n",
    "\n",
    "train_test_split\n",
    "\n",
    "get_dummies\n",
    "\n",
    "RandomForestRegressor\n",
    "\n",
    "Avalie com mean_squared_error."
   ]
  },
  {
   "cell_type": "code",
   "execution_count": 14,
   "id": "fbdbed05-8ee6-4308-aec2-acad6d2a3120",
   "metadata": {},
   "outputs": [],
   "source": [
    "import pandas as pd\n",
    "import seaborn as sns\n",
    "import matplotlib.pyplot as plt\n",
    "from sklearn.model_selection import train_test_split\n",
    "from sklearn.ensemble import RandomForestRegressor\n",
    "from sklearn.metrics import mean_squared_error"
   ]
  },
  {
   "cell_type": "code",
   "execution_count": 2,
   "id": "4b80262d-df61-464e-8921-fb1f84c04976",
   "metadata": {},
   "outputs": [
    {
     "data": {
      "text/html": [
       "<div>\n",
       "<style scoped>\n",
       "    .dataframe tbody tr th:only-of-type {\n",
       "        vertical-align: middle;\n",
       "    }\n",
       "\n",
       "    .dataframe tbody tr th {\n",
       "        vertical-align: top;\n",
       "    }\n",
       "\n",
       "    .dataframe thead th {\n",
       "        text-align: right;\n",
       "    }\n",
       "</style>\n",
       "<table border=\"1\" class=\"dataframe\">\n",
       "  <thead>\n",
       "    <tr style=\"text-align: right;\">\n",
       "      <th></th>\n",
       "      <th>id_curso</th>\n",
       "      <th>categoria</th>\n",
       "      <th>plataforma</th>\n",
       "      <th>horas_concluidas</th>\n",
       "      <th>avaliacao_usuario</th>\n",
       "    </tr>\n",
       "  </thead>\n",
       "  <tbody>\n",
       "    <tr>\n",
       "      <th>0</th>\n",
       "      <td>1000</td>\n",
       "      <td>Tecnologia</td>\n",
       "      <td>Outros</td>\n",
       "      <td>20.6</td>\n",
       "      <td>4.0</td>\n",
       "    </tr>\n",
       "    <tr>\n",
       "      <th>1</th>\n",
       "      <td>1001</td>\n",
       "      <td>Tecnologia</td>\n",
       "      <td>Udemy</td>\n",
       "      <td>12.4</td>\n",
       "      <td>2.0</td>\n",
       "    </tr>\n",
       "    <tr>\n",
       "      <th>2</th>\n",
       "      <td>1002</td>\n",
       "      <td>Negócios</td>\n",
       "      <td>edX</td>\n",
       "      <td>5.3</td>\n",
       "      <td>3.0</td>\n",
       "    </tr>\n",
       "    <tr>\n",
       "      <th>3</th>\n",
       "      <td>1003</td>\n",
       "      <td>Design</td>\n",
       "      <td>edX</td>\n",
       "      <td>22.4</td>\n",
       "      <td>3.0</td>\n",
       "    </tr>\n",
       "    <tr>\n",
       "      <th>4</th>\n",
       "      <td>1004</td>\n",
       "      <td>Idiomas</td>\n",
       "      <td>Coursera</td>\n",
       "      <td>16.0</td>\n",
       "      <td>4.0</td>\n",
       "    </tr>\n",
       "  </tbody>\n",
       "</table>\n",
       "</div>"
      ],
      "text/plain": [
       "   id_curso   categoria plataforma  horas_concluidas  avaliacao_usuario\n",
       "0      1000  Tecnologia     Outros              20.6                4.0\n",
       "1      1001  Tecnologia      Udemy              12.4                2.0\n",
       "2      1002    Negócios        edX               5.3                3.0\n",
       "3      1003      Design        edX              22.4                3.0\n",
       "4      1004     Idiomas   Coursera              16.0                4.0"
      ]
     },
     "execution_count": 2,
     "metadata": {},
     "output_type": "execute_result"
    }
   ],
   "source": [
    "df = pd.read_csv(\"desafio_dia_88_cursos_online.csv\")\n",
    "df.head()"
   ]
  },
  {
   "cell_type": "code",
   "execution_count": 3,
   "id": "2dd6f437-98b7-46a3-a0b8-f24009d1b30f",
   "metadata": {},
   "outputs": [
    {
     "data": {
      "text/plain": [
       "0"
      ]
     },
     "execution_count": 3,
     "metadata": {},
     "output_type": "execute_result"
    }
   ],
   "source": [
    "#Preencha os valores ausentes em horas_concluidas com a média.\n",
    "df[\"horas_concluidas\"] = df[\"horas_concluidas\"].fillna(df[\"horas_concluidas\"].mean())\n",
    "df[\"horas_concluidas\"].isna().sum()"
   ]
  },
  {
   "cell_type": "code",
   "execution_count": 4,
   "id": "cee2b474-b6fc-4e5d-93a4-f323f2b2a03b",
   "metadata": {},
   "outputs": [
    {
     "data": {
      "text/plain": [
       "0"
      ]
     },
     "execution_count": 4,
     "metadata": {},
     "output_type": "execute_result"
    }
   ],
   "source": [
    "#Preencha os valores ausentes em avaliacao_usuario com a moda.\n",
    "df[\"avaliacao_usuario\"] = df[\"avaliacao_usuario\"].fillna(df[\"avaliacao_usuario\"].mode()[0])\n",
    "df[\"avaliacao_usuario\"].isna().sum()"
   ]
  },
  {
   "cell_type": "code",
   "execution_count": 5,
   "id": "cd8368a0-ebca-4ab9-b0eb-9d32e942fc04",
   "metadata": {},
   "outputs": [
    {
     "name": "stdout",
     "output_type": "stream",
     "text": [
      "plataforma\n",
      "Udemy       16.298555\n",
      "Outros      16.291141\n",
      "edX         15.247152\n",
      "Coursera    15.107197\n",
      "Alura       14.744946\n",
      "Name: horas_concluidas, dtype: float64\n"
     ]
    }
   ],
   "source": [
    "#Qual plataforma tem a maior média de horas concluídas por curso?\n",
    "plataforma_mais_horas = df.groupby(\"plataforma\")[\"horas_concluidas\"].mean().sort_values(ascending=False)\n",
    "print(plataforma_mais_horas)"
   ]
  },
  {
   "cell_type": "code",
   "execution_count": 6,
   "id": "00f9122a-21f6-449c-b6eb-a0ba9fd0aaad",
   "metadata": {},
   "outputs": [
    {
     "name": "stdout",
     "output_type": "stream",
     "text": [
      "categoria\n",
      "Tecnologia    3.702479\n",
      "Design        3.682353\n",
      "Saúde         3.660000\n",
      "Idiomas       3.562500\n",
      "Negócios      3.551020\n",
      "Name: avaliacao_usuario, dtype: float64\n"
     ]
    }
   ],
   "source": [
    "#Qual categoria tem a melhor média de avaliação dos usuários?\n",
    "categoria_melhor_avaliacao = df.groupby(\"categoria\")[\"avaliacao_usuario\"].mean().sort_values(ascending=False)\n",
    "print(categoria_melhor_avaliacao)"
   ]
  },
  {
   "cell_type": "code",
   "execution_count": 13,
   "id": "14bbfc76-e0a7-4e7b-bfc2-9f5ca0afded4",
   "metadata": {},
   "outputs": [
    {
     "name": "stderr",
     "output_type": "stream",
     "text": [
      "C:\\Users\\gabri\\AppData\\Local\\Temp\\ipykernel_2684\\3053491039.py:3: FutureWarning: \n",
      "\n",
      "Passing `palette` without assigning `hue` is deprecated and will be removed in v0.14.0. Assign the `x` variable to `hue` and set `legend=False` for the same effect.\n",
      "\n",
      "  sns.barplot(df, x=\"categoria\", y=\"avaliacao_usuario\", palette=\"viridis\")\n"
     ]
    },
    {
     "data": {
      "image/png": "[encoded data removed]",
      "text/plain": [
       "<Figure size 640x480 with 1 Axes>"
      ]
     },
     "metadata": {},
     "output_type": "display_data"
    }
   ],
   "source": [
    "#Crie um gráfico de barras comparando a média de avaliação por categoria.\n",
    "\n",
    "sns.barplot(df, x=\"categoria\", y=\"avaliacao_usuario\", palette=\"viridis\")\n",
    "plt.title(\"Média de Avaliação por Categoria\")\n",
    "plt.ylabel(\"Avaliação Média\")\n",
    "plt.xlabel(\"Categoria\")\n",
    "plt.show()"
   ]
  },
  {
   "cell_type": "code",
   "execution_count": 16,
   "id": "48ee1e0a-d509-4c35-9260-d4a0df21ae61",
   "metadata": {},
   "outputs": [
    {
     "name": "stdout",
     "output_type": "stream",
     "text": [
      "1.3281824814596455\n"
     ]
    }
   ],
   "source": [
    "#Crie um modelo para prever a avaliacao_usuario com base em:\n",
    "X = df[[\"categoria\", \"plataforma\", \"horas_concluidas\"]]\n",
    "y = df[\"avaliacao_usuario\"]\n",
    "\n",
    "X = pd.get_dummies(X)\n",
    "\n",
    "X_train, X_test, y_train, y_test = train_test_split(X, y, test_size=0.3, random_state=42)\n",
    "\n",
    "modelo = RandomForestRegressor(random_state=42)\n",
    "modelo.fit(X_train, y_train)\n",
    "\n",
    "y_pred = modelo.predict(X_test)\n",
    "print(mean_squared_error(y_test, y_pred))"
   ]
  }
 ],
 "metadata": {
  "kernelspec": {
   "display_name": "Python 3 (ipykernel)",
   "language": "python",
   "name": "python3"
  },
  "language_info": {
   "codemirror_mode": {
    "name": "ipython",
    "version": 3
   },
   "file_extension": ".py",
   "mimetype": "text/x-python",
   "name": "python",
   "nbconvert_exporter": "python",
   "pygments_lexer": "ipython3",
   "version": "3.12.7"
  }
 },
 "nbformat": 4,
 "nbformat_minor": 5
}
