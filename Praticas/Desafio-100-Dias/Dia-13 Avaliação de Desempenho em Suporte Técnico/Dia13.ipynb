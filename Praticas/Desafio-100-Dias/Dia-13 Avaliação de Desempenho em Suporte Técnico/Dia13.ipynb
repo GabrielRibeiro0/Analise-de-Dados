{
 "cells": [
  {
   "cell_type": "markdown",
   "id": "b08c15a8-05f2-422b-ab50-86fa441f9452",
   "metadata": {},
   "source": [
    "Desafio 13: Avaliação de Desempenho em Suporte Técnico\n",
    "\n",
    "📂 Dataset: Dados de atendimentos realizados por uma equipe de suporte técnico, incluindo: Atendente, Tempo_Atendimento_min, Satisfacao_Cliente (escala de 1 a 5), Tipo_Problema, Resolvido, Data.\n",
    "\n",
    "🎯 Atividades:\n",
    "\n",
    "Qual atendente tem a maior média de satisfação entre os atendimentos resolvidos?\n",
    "\n",
    "Qual é o tempo médio de atendimento por tipo de problema?\n",
    "\n",
    "Qual percentual de problemas foram resolvidos no total?\n",
    "\n",
    "Crie um gráfico de barras com a média de satisfação por atendente.\n",
    "\n",
    "Qual dia teve o maior número de atendimentos?"
   ]
  },
  {
   "cell_type": "code",
   "execution_count": 48,
   "id": "af6d4587-c6e4-49b9-8487-57361dc92b6a",
   "metadata": {},
   "outputs": [],
   "source": [
    "import pandas as pd\n",
    "import seaborn as sns\n",
    "import matplotlib.pyplot as plt"
   ]
  },
  {
   "cell_type": "code",
   "execution_count": 49,
   "id": "190af4df-8c73-458e-9b21-215e1987bd6f",
   "metadata": {},
   "outputs": [
    {
     "data": {
      "text/html": [
       "<div>\n",
       "<style scoped>\n",
       "    .dataframe tbody tr th:only-of-type {\n",
       "        vertical-align: middle;\n",
       "    }\n",
       "\n",
       "    .dataframe tbody tr th {\n",
       "        vertical-align: top;\n",
       "    }\n",
       "\n",
       "    .dataframe thead th {\n",
       "        text-align: right;\n",
       "    }\n",
       "</style>\n",
       "<table border=\"1\" class=\"dataframe\">\n",
       "  <thead>\n",
       "    <tr style=\"text-align: right;\">\n",
       "      <th></th>\n",
       "      <th>Atendente</th>\n",
       "      <th>Tempo_Atendimento_min</th>\n",
       "      <th>Satisfacao_Cliente</th>\n",
       "      <th>Tipo_Problema</th>\n",
       "      <th>Resolvido</th>\n",
       "      <th>Data</th>\n",
       "    </tr>\n",
       "  </thead>\n",
       "  <tbody>\n",
       "    <tr>\n",
       "      <th>0</th>\n",
       "      <td>Carla</td>\n",
       "      <td>54</td>\n",
       "      <td>1</td>\n",
       "      <td>Senha esquecida</td>\n",
       "      <td>True</td>\n",
       "      <td>2024-03-07</td>\n",
       "    </tr>\n",
       "    <tr>\n",
       "      <th>1</th>\n",
       "      <td>Ana</td>\n",
       "      <td>50</td>\n",
       "      <td>3</td>\n",
       "      <td>Atualização</td>\n",
       "      <td>True</td>\n",
       "      <td>2024-03-06</td>\n",
       "    </tr>\n",
       "    <tr>\n",
       "      <th>2</th>\n",
       "      <td>Carla</td>\n",
       "      <td>12</td>\n",
       "      <td>4</td>\n",
       "      <td>Senha esquecida</td>\n",
       "      <td>True</td>\n",
       "      <td>2024-03-05</td>\n",
       "    </tr>\n",
       "    <tr>\n",
       "      <th>3</th>\n",
       "      <td>Ana</td>\n",
       "      <td>12</td>\n",
       "      <td>5</td>\n",
       "      <td>Erro no sistema</td>\n",
       "      <td>True</td>\n",
       "      <td>2024-03-07</td>\n",
       "    </tr>\n",
       "    <tr>\n",
       "      <th>4</th>\n",
       "      <td>Carla</td>\n",
       "      <td>58</td>\n",
       "      <td>3</td>\n",
       "      <td>Erro no sistema</td>\n",
       "      <td>True</td>\n",
       "      <td>2024-03-11</td>\n",
       "    </tr>\n",
       "  </tbody>\n",
       "</table>\n",
       "</div>"
      ],
      "text/plain": [
       "  Atendente  Tempo_Atendimento_min  Satisfacao_Cliente    Tipo_Problema  \\\n",
       "0     Carla                     54                   1  Senha esquecida   \n",
       "1       Ana                     50                   3      Atualização   \n",
       "2     Carla                     12                   4  Senha esquecida   \n",
       "3       Ana                     12                   5  Erro no sistema   \n",
       "4     Carla                     58                   3  Erro no sistema   \n",
       "\n",
       "   Resolvido        Data  \n",
       "0       True  2024-03-07  \n",
       "1       True  2024-03-06  \n",
       "2       True  2024-03-05  \n",
       "3       True  2024-03-07  \n",
       "4       True  2024-03-11  "
      ]
     },
     "execution_count": 49,
     "metadata": {},
     "output_type": "execute_result"
    }
   ],
   "source": [
    "#Testando o dataset\n",
    "df = pd.read_csv(\"dia_13_suporte_tecnico.csv\")\n",
    "df.head()"
   ]
  },
  {
   "cell_type": "code",
   "execution_count": 50,
   "id": "b043d448-55b5-44b7-893e-d386a03a5809",
   "metadata": {},
   "outputs": [
    {
     "name": "stdout",
     "output_type": "stream",
     "text": [
      "O atendente com maior média de satisfação é Diego, com média de 3.50\n"
     ]
    }
   ],
   "source": [
    "#Qual atendente tem a maior média de satisfação entre os atendimentos resolvidos?\n",
    "resolvidos = df[df[\"Resolvido\"] == True]\n",
    "satisfacao = resolvidos.groupby(\"Atendente\")[\"Satisfacao_Cliente\"].mean()\n",
    "print(f\"O atendente com maior média de satisfação é {satisfacao.idxmax()}, com média de {satisfacao.max():.2f}\")"
   ]
  },
  {
   "cell_type": "code",
   "execution_count": 51,
   "id": "6f8b6597-5387-4baa-8fb6-a9c9ae3a9711",
   "metadata": {},
   "outputs": [
    {
     "name": "stdout",
     "output_type": "stream",
     "text": [
      "Tipo_Problema\n",
      "Conexão            35 Minutos\n",
      "Atualização        34 Minutos\n",
      "Erro no sistema    33 Minutos\n",
      "Instalação         31 Minutos\n",
      "Senha esquecida    30 Minutos\n"
     ]
    }
   ],
   "source": [
    "#Qual é o tempo médio de atendimento por tipo de problema?\n",
    "atendimentoMedio = df.groupby(\"Tipo_Problema\")[\"Tempo_Atendimento_min\"].mean().sort_values(ascending=False)\n",
    "print(f\"{atendimentoMedio.apply(lambda x: f\"{x:.0f} Minutos\").to_string()}\")"
   ]
  },
  {
   "cell_type": "code",
   "execution_count": 52,
   "id": "f3147ee1-24b9-47cf-b671-b40f9e4454e3",
   "metadata": {},
   "outputs": [
    {
     "name": "stdout",
     "output_type": "stream",
     "text": [
      "95.0% dos problemas foram resolvidos.\n"
     ]
    }
   ],
   "source": [
    "#Qual percentual de problemas foram resolvidos no total?\n",
    "percentResolvidos = df[\"Resolvido\"].mean() * 100\n",
    "print(f\"{percentResolvidos}% dos problemas foram resolvidos.\")"
   ]
  },
  {
   "cell_type": "code",
   "execution_count": 54,
   "id": "6fd1d678-505a-4f72-90f3-35fee8e8c4a0",
   "metadata": {},
   "outputs": [
    {
     "data": {
      "image/png": "[encoded data removed]",
      "text/plain": [
       "<Figure size 640x480 with 1 Axes>"
      ]
     },
     "metadata": {},
     "output_type": "display_data"
    }
   ],
   "source": [
    "#Crie um gráfico de barras com a média de satisfação por atendente.\n",
    "satisfacao = resolvidos.groupby(\"Atendente\")[\"Satisfacao_Cliente\"].mean().reset_index()\n",
    "sns.barplot(data=satisfacao, x=\"Atendente\", y=\"Satisfacao_Cliente\")\n",
    "plt.title(\"Média de Satisfação por Atendente\")\n",
    "plt.show()"
   ]
  },
  {
   "cell_type": "code",
   "execution_count": 46,
   "id": "a68cd170-6ff0-4473-a4b7-8631e8b112f3",
   "metadata": {},
   "outputs": [
    {
     "name": "stdout",
     "output_type": "stream",
     "text": [
      "O dia com mais atendimentos foi: Dia 11 com 7 atendimentos.\n"
     ]
    }
   ],
   "source": [
    "#Qual dia teve o maior número de atendimentos?\n",
    "df[\"Data\"] = pd.to_datetime(df[\"Data\"])\n",
    "df[\"Dia\"] = df[\"Data\"].dt.day\n",
    "\n",
    "atendimentoDia = df[\"Dia\"].value_counts()\n",
    "print(f\"O dia com mais atendimentos foi: Dia {atendimentoDia.idxmax()} com {atendimentoDia.max()} atendimentos.\")"
   ]
  }
 ],
 "metadata": {
  "kernelspec": {
   "display_name": "Python 3 (ipykernel)",
   "language": "python",
   "name": "python3"
  },
  "language_info": {
   "codemirror_mode": {
    "name": "ipython",
    "version": 3
   },
   "file_extension": ".py",
   "mimetype": "text/x-python",
   "name": "python",
   "nbconvert_exporter": "python",
   "pygments_lexer": "ipython3",
   "version": "3.12.7"
  }
 },
 "nbformat": 4,
 "nbformat_minor": 5
}
