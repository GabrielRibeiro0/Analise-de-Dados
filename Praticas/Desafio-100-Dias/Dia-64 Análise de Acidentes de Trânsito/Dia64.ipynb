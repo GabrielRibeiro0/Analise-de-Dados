{
 "cells": [
  {
   "cell_type": "markdown",
   "id": "b6f734cb-3b92-4744-b021-19cc516b27b0",
   "metadata": {},
   "source": [
    "📊 Desafio 64 — Análise de Acidentes de Trânsito\n",
    "📂 Dataset: dia_64_acidentes_transito.csv\n",
    "Este conjunto de dados contém registros de acidentes de trânsito ocorridos em uma cidade, com informações como data, local, tipo de acidente, número de vítimas e condições climáticas.\n",
    "\n",
    "🔍 Tarefas:\n",
    "\n",
    "Quantos acidentes ocorreram em dias de chuva?\n",
    "Filtre os registros onde a condição climática era \"Chuva\" e conte.\n",
    "\n",
    "Qual o tipo de acidente mais comum?\n",
    "Agrupe por tipo_acidente e conte a frequência de cada um.\n",
    "\n",
    "Existe um dia da semana com mais ocorrências?\n",
    "Verifique qual valor de dia_semana aparece com maior frequência.\n",
    "\n",
    "Crie um gráfico de barras mostrando o número de acidentes por mês.\n",
    "Dica: converta a coluna de data e extraia o mês.\n",
    "\n",
    "(Machine Learning) Classifique se um acidente será com ou sem vítimas.\n",
    "\n",
    "Variável-alvo: com_vitima (Sim/Não)\n",
    "\n",
    "Sugestão de algoritmos: LogisticRegression ou RandomForestClassifier\n",
    "\n",
    "Avalie com accuracy_score e classification_report"
   ]
  },
  {
   "cell_type": "code",
   "execution_count": 42,
   "id": "176023fd-28f2-4896-9b9f-66542add32c7",
   "metadata": {},
   "outputs": [],
   "source": [
    "import pandas as pd\n",
    "import seaborn as sns\n",
    "import matplotlib.pyplot as plt\n",
    "from sklearn.model_selection import train_test_split\n",
    "from sklearn.ensemble import RandomForestClassifier\n",
    "from sklearn.metrics import accuracy_score, classification_report\n",
    "from sklearn.preprocessing import LabelEncoder"
   ]
  },
  {
   "cell_type": "code",
   "execution_count": 41,
   "id": "6850885d-8a74-48b0-9452-3fe6cd53d008",
   "metadata": {},
   "outputs": [
    {
     "data": {
      "text/html": [
       "<div>\n",
       "<style scoped>\n",
       "    .dataframe tbody tr th:only-of-type {\n",
       "        vertical-align: middle;\n",
       "    }\n",
       "\n",
       "    .dataframe tbody tr th {\n",
       "        vertical-align: top;\n",
       "    }\n",
       "\n",
       "    .dataframe thead th {\n",
       "        text-align: right;\n",
       "    }\n",
       "</style>\n",
       "<table border=\"1\" class=\"dataframe\">\n",
       "  <thead>\n",
       "    <tr style=\"text-align: right;\">\n",
       "      <th></th>\n",
       "      <th>data</th>\n",
       "      <th>dia_semana</th>\n",
       "      <th>local</th>\n",
       "      <th>tipo_acidente</th>\n",
       "      <th>numero_vitimas</th>\n",
       "      <th>condicao_climatica</th>\n",
       "      <th>com_vitima</th>\n",
       "    </tr>\n",
       "  </thead>\n",
       "  <tbody>\n",
       "    <tr>\n",
       "      <th>0</th>\n",
       "      <td>2023-01-01</td>\n",
       "      <td>Segunda</td>\n",
       "      <td>Centro</td>\n",
       "      <td>Colisão</td>\n",
       "      <td>0</td>\n",
       "      <td>Sol</td>\n",
       "      <td>Não</td>\n",
       "    </tr>\n",
       "    <tr>\n",
       "      <th>1</th>\n",
       "      <td>2023-01-02</td>\n",
       "      <td>Terça</td>\n",
       "      <td>Zona Norte</td>\n",
       "      <td>Atropelamento</td>\n",
       "      <td>1</td>\n",
       "      <td>Chuva</td>\n",
       "      <td>Sim</td>\n",
       "    </tr>\n",
       "    <tr>\n",
       "      <th>2</th>\n",
       "      <td>2023-01-03</td>\n",
       "      <td>Quarta</td>\n",
       "      <td>Zona Sul</td>\n",
       "      <td>Capotamento</td>\n",
       "      <td>2</td>\n",
       "      <td>Nublado</td>\n",
       "      <td>Sim</td>\n",
       "    </tr>\n",
       "    <tr>\n",
       "      <th>3</th>\n",
       "      <td>2023-01-04</td>\n",
       "      <td>Quinta</td>\n",
       "      <td>Zona Leste</td>\n",
       "      <td>Queda</td>\n",
       "      <td>3</td>\n",
       "      <td>Chuva</td>\n",
       "      <td>Sim</td>\n",
       "    </tr>\n",
       "    <tr>\n",
       "      <th>4</th>\n",
       "      <td>2023-01-05</td>\n",
       "      <td>Sexta</td>\n",
       "      <td>Zona Oeste</td>\n",
       "      <td>Incêndio</td>\n",
       "      <td>0</td>\n",
       "      <td>Sol</td>\n",
       "      <td>Não</td>\n",
       "    </tr>\n",
       "  </tbody>\n",
       "</table>\n",
       "</div>"
      ],
      "text/plain": [
       "         data dia_semana       local  tipo_acidente  numero_vitimas  \\\n",
       "0  2023-01-01    Segunda      Centro        Colisão               0   \n",
       "1  2023-01-02      Terça  Zona Norte  Atropelamento               1   \n",
       "2  2023-01-03     Quarta    Zona Sul    Capotamento               2   \n",
       "3  2023-01-04     Quinta  Zona Leste          Queda               3   \n",
       "4  2023-01-05      Sexta  Zona Oeste       Incêndio               0   \n",
       "\n",
       "  condicao_climatica com_vitima  \n",
       "0                Sol        Não  \n",
       "1              Chuva        Sim  \n",
       "2            Nublado        Sim  \n",
       "3              Chuva        Sim  \n",
       "4                Sol        Não  "
      ]
     },
     "execution_count": 41,
     "metadata": {},
     "output_type": "execute_result"
    }
   ],
   "source": [
    "df = pd.read_csv(\"dia_64_acidentes_transito.csv\")\n",
    "df.head()"
   ]
  },
  {
   "cell_type": "code",
   "execution_count": 9,
   "id": "f48a12b5-c81d-4202-ac77-171eab892923",
   "metadata": {},
   "outputs": [
    {
     "name": "stdout",
     "output_type": "stream",
     "text": [
      "40\n"
     ]
    }
   ],
   "source": [
    "#Quantos acidentes ocorreram em dias de chuva? Filtre os registros onde a condição climática era \"Chuva\" e conte.\n",
    "dias_chuva = df[df[\"condicao_climatica\"] == \"Chuva\"].value_counts()\n",
    "print(len(dias_chuva))"
   ]
  },
  {
   "cell_type": "code",
   "execution_count": 10,
   "id": "fbbba57b-0083-4756-b87e-0ffa7f9547cf",
   "metadata": {},
   "outputs": [
    {
     "name": "stdout",
     "output_type": "stream",
     "text": [
      "tipo_acidente\n",
      "Colisão          20\n",
      "Atropelamento    20\n",
      "Capotamento      20\n",
      "Queda            20\n",
      "Incêndio         20\n",
      "Name: count, dtype: int64\n"
     ]
    }
   ],
   "source": [
    "#Qual o tipo de acidente mais comum? Agrupe por tipo_acidente e conte a frequência de cada um.\n",
    "acidente_comum = df[\"tipo_acidente\"].value_counts()\n",
    "print(acidente_comum)"
   ]
  },
  {
   "cell_type": "code",
   "execution_count": 12,
   "id": "cd20bce0-bed6-457c-a294-4d103b52a42f",
   "metadata": {},
   "outputs": [
    {
     "name": "stdout",
     "output_type": "stream",
     "text": [
      "dia_semana\n",
      "Segunda    15\n",
      "Terça      15\n",
      "Quarta     14\n",
      "Quinta     14\n",
      "Sexta      14\n",
      "Sábado     14\n",
      "Domingo    14\n",
      "Name: count, dtype: int64\n"
     ]
    }
   ],
   "source": [
    "#Existe um dia da semana com mais ocorrências? Verifique qual valor de dia_semana aparece com maior frequência.\n",
    "dia_mais_ocorrencia = df[\"dia_semana\"].value_counts()\n",
    "print(dia_mais_ocorrencia)"
   ]
  },
  {
   "cell_type": "code",
   "execution_count": 31,
   "id": "06699e05-0e91-4f8c-9c24-73b7ca2002d4",
   "metadata": {},
   "outputs": [
    {
     "data": {
      "image/png": "[encoded data removed]",
      "text/plain": [
       "<Figure size 640x480 with 1 Axes>"
      ]
     },
     "metadata": {},
     "output_type": "display_data"
    }
   ],
   "source": [
    "#Crie um gráfico de barras mostrando o número de acidentes por mês. Dica: converta a coluna de data e extraia o mês.\n",
    "df[\"data\"] = pd.to_datetime(df[\"data\"])\n",
    "df[\"mes\"] = df[\"data\"].dt.month\n",
    "\n",
    "df[\"mes\"].value_counts().plot(kind=\"bar\")\n",
    "plt.title(\"Número de Acidentes por Mês\")\n",
    "plt.xlabel(\"Mês\")\n",
    "plt.ylabel(\"Número de Acidentes\")\n",
    "plt.xticks(rotation=0)\n",
    "plt.show()"
   ]
  },
  {
   "cell_type": "code",
   "execution_count": 46,
   "id": "95ba48d8-7d47-4345-a198-1e6fd031a619",
   "metadata": {},
   "outputs": [
    {
     "name": "stdout",
     "output_type": "stream",
     "text": [
      "0.6\n",
      "              precision    recall  f1-score   support\n",
      "\n",
      "           0       0.38      0.30      0.33        10\n",
      "           1       0.68      0.75      0.71        20\n",
      "\n",
      "    accuracy                           0.60        30\n",
      "   macro avg       0.53      0.53      0.52        30\n",
      "weighted avg       0.58      0.60      0.59        30\n",
      "\n"
     ]
    }
   ],
   "source": [
    "#(Machine Learning) Classifique se um acidente será com ou sem vítimas. Variável-alvo: com_vitima (Sim/Não)\n",
    "colunas = [\"dia_semana\", \"tipo_acidente\", \"condicao_climatica\", \"com_vitima\"]\n",
    "df_model = df[colunas].dropna()\n",
    "\n",
    "for col in colunas:\n",
    "    le = LabelEncoder()\n",
    "    df_model[col] = le.fit_transform(df_model[col])\n",
    "\n",
    "X = df_model.drop(\"com_vitima\", axis=1)\n",
    "y = df_model[\"com_vitima\"]\n",
    "\n",
    "X_train, X_test, y_train, y_test = train_test_split(X, y, test_size=0.3, random_state=42)\n",
    "\n",
    "model = RandomForestClassifier(random_state=42)\n",
    "model.fit(X_train, y_train)\n",
    "\n",
    "y_pred = model.predict(X_test)\n",
    "print(accuracy_score(y_test, y_pred))\n",
    "print(classification_report(y_test, y_pred))"
   ]
  }
 ],
 "metadata": {
  "kernelspec": {
   "display_name": "Python 3 (ipykernel)",
   "language": "python",
   "name": "python3"
  },
  "language_info": {
   "codemirror_mode": {
    "name": "ipython",
    "version": 3
   },
   "file_extension": ".py",
   "mimetype": "text/x-python",
   "name": "python",
   "nbconvert_exporter": "python",
   "pygments_lexer": "ipython3",
   "version": "3.12.7"
  }
 },
 "nbformat": 4,
 "nbformat_minor": 5
}
