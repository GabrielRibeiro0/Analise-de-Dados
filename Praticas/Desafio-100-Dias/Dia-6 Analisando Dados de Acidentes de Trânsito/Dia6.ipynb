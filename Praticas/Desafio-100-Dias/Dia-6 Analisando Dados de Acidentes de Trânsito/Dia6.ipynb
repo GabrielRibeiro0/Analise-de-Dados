{
 "cells": [
  {
   "cell_type": "markdown",
   "id": "cbc28c60-766b-4550-a746-a75e56d7aa35",
   "metadata": {},
   "source": [
    "Desafio 6: Analisando Dados de Acidentes de Trânsito\n",
    "📂 Dataset: Informações sobre acidentes de trânsito, incluindo data, local, número de veículos envolvidos e gravidade do acidente.\n",
    "\n",
    "🎯 Atividades:\n",
    "\n",
    "Qual foi o mês com o maior número de acidentes registrados?\n",
    "\n",
    "Qual o tipo de acidente mais frequente?\n",
    "\n",
    "Qual o percentual de acidentes graves em relação ao total?\n",
    "\n",
    "Crie um gráfico de barras mostrando a quantidade de acidentes por tipo."
   ]
  },
  {
   "cell_type": "code",
   "execution_count": 105,
   "id": "54afe2e4-3ca9-4ecc-85c2-4f16098e0481",
   "metadata": {},
   "outputs": [],
   "source": [
    "import pandas as pd\n",
    "import seaborn as sns"
   ]
  },
  {
   "cell_type": "code",
   "execution_count": 141,
   "id": "ebc88eee-cd2b-47ae-a80a-392c4fd8c25a",
   "metadata": {},
   "outputs": [
    {
     "data": {
      "text/html": [
       "<div>\n",
       "<style scoped>\n",
       "    .dataframe tbody tr th:only-of-type {\n",
       "        vertical-align: middle;\n",
       "    }\n",
       "\n",
       "    .dataframe tbody tr th {\n",
       "        vertical-align: top;\n",
       "    }\n",
       "\n",
       "    .dataframe thead th {\n",
       "        text-align: right;\n",
       "    }\n",
       "</style>\n",
       "<table border=\"1\" class=\"dataframe\">\n",
       "  <thead>\n",
       "    <tr style=\"text-align: right;\">\n",
       "      <th></th>\n",
       "      <th>ID_Acidente</th>\n",
       "      <th>Data</th>\n",
       "      <th>Local</th>\n",
       "      <th>Tipo_Acidente</th>\n",
       "      <th>Veiculos_Envolvidos</th>\n",
       "      <th>Gravidade</th>\n",
       "      <th>Quantidade_Acidentes</th>\n",
       "    </tr>\n",
       "  </thead>\n",
       "  <tbody>\n",
       "    <tr>\n",
       "      <th>0</th>\n",
       "      <td>1</td>\n",
       "      <td>2024-01-01</td>\n",
       "      <td>Rodovia Central</td>\n",
       "      <td>Colisão</td>\n",
       "      <td>1</td>\n",
       "      <td>Moderado</td>\n",
       "      <td>1</td>\n",
       "    </tr>\n",
       "    <tr>\n",
       "      <th>1</th>\n",
       "      <td>2</td>\n",
       "      <td>2024-01-02</td>\n",
       "      <td>Rua Secundária</td>\n",
       "      <td>Colisão</td>\n",
       "      <td>4</td>\n",
       "      <td>Grave</td>\n",
       "      <td>1</td>\n",
       "    </tr>\n",
       "    <tr>\n",
       "      <th>2</th>\n",
       "      <td>3</td>\n",
       "      <td>2024-01-03</td>\n",
       "      <td>Rua Secundária</td>\n",
       "      <td>Atropelamento</td>\n",
       "      <td>4</td>\n",
       "      <td>Moderado</td>\n",
       "      <td>1</td>\n",
       "    </tr>\n",
       "    <tr>\n",
       "      <th>3</th>\n",
       "      <td>4</td>\n",
       "      <td>2024-01-03</td>\n",
       "      <td>Avenida Principal</td>\n",
       "      <td>Colisão</td>\n",
       "      <td>4</td>\n",
       "      <td>Leve</td>\n",
       "      <td>1</td>\n",
       "    </tr>\n",
       "    <tr>\n",
       "      <th>4</th>\n",
       "      <td>5</td>\n",
       "      <td>2024-01-03</td>\n",
       "      <td>Praça da Cidade</td>\n",
       "      <td>Capotamento</td>\n",
       "      <td>4</td>\n",
       "      <td>Leve</td>\n",
       "      <td>1</td>\n",
       "    </tr>\n",
       "  </tbody>\n",
       "</table>\n",
       "</div>"
      ],
      "text/plain": [
       "   ID_Acidente        Data              Local  Tipo_Acidente  \\\n",
       "0            1  2024-01-01    Rodovia Central        Colisão   \n",
       "1            2  2024-01-02     Rua Secundária        Colisão   \n",
       "2            3  2024-01-03     Rua Secundária  Atropelamento   \n",
       "3            4  2024-01-03  Avenida Principal        Colisão   \n",
       "4            5  2024-01-03    Praça da Cidade    Capotamento   \n",
       "\n",
       "   Veiculos_Envolvidos Gravidade  Quantidade_Acidentes  \n",
       "0                    1  Moderado                     1  \n",
       "1                    4     Grave                     1  \n",
       "2                    4  Moderado                     1  \n",
       "3                    4      Leve                     1  \n",
       "4                    4      Leve                     1  "
      ]
     },
     "execution_count": 141,
     "metadata": {},
     "output_type": "execute_result"
    }
   ],
   "source": [
    "#testando o dataset\n",
    "df = pd.read_csv(\"dia_6_acidentes_transito.csv\")\n",
    "df.head()\n",
    "\n",
    "#adicionando a tabela de quantidade de acidentes\n",
    "df[\"Quantidade_Acidentes\"] = 1\n",
    "df.head()"
   ]
  },
  {
   "cell_type": "code",
   "execution_count": 158,
   "id": "b8ab477c-b52c-445a-b041-675c4e1d6a4f",
   "metadata": {},
   "outputs": [
    {
     "name": "stdout",
     "output_type": "stream",
     "text": [
      "Quantidade de acidentes em cada mês: \n",
      "\n",
      "Mes\n",
      "January     7\n",
      "February    4\n",
      "March       4\n",
      "May         3\n",
      "April       2\n"
     ]
    }
   ],
   "source": [
    "#Qual foi o mês com o maior número de acidentes registrados?\n",
    "df[\"Data\"] = pd.to_datetime(df[\"Data\"]) #convertendo a coluna \"Data\" de string para o formato correto\n",
    "df[\"Mes\"] = df[\"Data\"].dt.strftime(\"%B\")\n",
    "acidentesPorMes = df[\"Mes\"].value_counts()\n",
    "print(f\"Quantidade de acidentes em cada mês: \\n\\n{acidentesPorMes.to_string()}\")"
   ]
  },
  {
   "cell_type": "code",
   "execution_count": 162,
   "id": "7df9a735-fec2-4226-81ca-3300ed707d0e",
   "metadata": {},
   "outputs": [
    {
     "name": "stdout",
     "output_type": "stream",
     "text": [
      "Acidente mais frequente: \n",
      "\n",
      "Tipo_Acidente\n",
      "Colisão    9\n"
     ]
    }
   ],
   "source": [
    "#Qual o tipo de acidente mais frequente?\n",
    "acidenteFrquente = df[\"Tipo_Acidente\"].value_counts()\n",
    "print(f\"Acidente mais frequente: \\n\\n{acidenteFrquente.head(1).to_string()}\")"
   ]
  },
  {
   "cell_type": "code",
   "execution_count": 144,
   "id": "817e8ee2-2fbb-4043-a8ed-92fd7b60c137",
   "metadata": {},
   "outputs": [
    {
     "name": "stdout",
     "output_type": "stream",
     "text": [
      "Percentual de acidentes graves: 40.0%\n"
     ]
    }
   ],
   "source": [
    "#Qual o percentual de acidentes graves em relação ao total?\n",
    "acidentesGraves = df.groupby(\"Gravidade\")[\"Gravidade\"].count() / df[\"Gravidade\"].count() * 100\n",
    "print(f\"Percentual de acidentes graves: {acidentesGraves.iloc[1]:.1f}%\")"
   ]
  },
  {
   "cell_type": "code",
   "execution_count": 156,
   "id": "b39fbbe5-eb0b-4d99-aeee-23708a0ab145",
   "metadata": {},
   "outputs": [
    {
     "data": {
      "text/plain": [
       "<Axes: xlabel='Quantidade_Acidentes', ylabel='Gravidade'>"
      ]
     },
     "execution_count": 156,
     "metadata": {},
     "output_type": "execute_result"
    },
    {
     "data": {
      "image/png": "[encoded data removed]",
      "text/plain": [
       "<Figure size 640x480 with 1 Axes>"
      ]
     },
     "metadata": {},
     "output_type": "display_data"
    }
   ],
   "source": [
    "#Crie um gráfico de barras mostrando a quantidade de acidentes por tipo.\n",
    "quantidadeTipoAcidente = df.groupby(\"Gravidade\")[\"Quantidade_Acidentes\"].sum().reset_index()\n",
    "sns.barplot(x=\"Quantidade_Acidentes\", y=\"Gravidade\", data=quantidadeTipoAcidente)"
   ]
  }
 ],
 "metadata": {
  "kernelspec": {
   "display_name": "Python 3 (ipykernel)",
   "language": "python",
   "name": "python3"
  },
  "language_info": {
   "codemirror_mode": {
    "name": "ipython",
    "version": 3
   },
   "file_extension": ".py",
   "mimetype": "text/x-python",
   "name": "python",
   "nbconvert_exporter": "python",
   "pygments_lexer": "ipython3",
   "version": "3.12.7"
  }
 },
 "nbformat": 4,
 "nbformat_minor": 5
}
