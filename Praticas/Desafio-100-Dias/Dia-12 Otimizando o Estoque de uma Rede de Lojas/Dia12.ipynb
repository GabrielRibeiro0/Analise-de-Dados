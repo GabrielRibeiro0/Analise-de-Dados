{
 "cells": [
  {
   "cell_type": "markdown",
   "id": "000b5e63-d25f-4a08-bc53-94243f35f395",
   "metadata": {},
   "source": [
    "Desafio 12: Otimizando o Estoque de uma Rede de Lojas\n",
    "\n",
    "📂 Dataset: Informações de estoque e vendas de produtos em várias unidades de uma rede de lojas, com colunas como: Produto, Loja, Estoque_Atual, Unidades_Vendidas_Mes, Custo_Unitario, Preco_Unitario.\n",
    "\n",
    "🎯 Atividades (nível mais desafiador):\n",
    "\n",
    "Qual loja possui o maior giro de estoque (Unidades Vendidas / Estoque Atual)?\n",
    "\n",
    "Quais produtos estão com baixa rotatividade (menos de 30% de giro)?\n",
    "\n",
    "Qual o lucro total por produto em todas as lojas?\n",
    "\n",
    "Quais produtos deveriam receber reposição urgente (Estoque Atual < 10 unidades e alta rotatividade)?\n",
    "\n",
    "Crie um gráfico de barras horizontal com os 5 produtos mais lucrativos."
   ]
  },
  {
   "cell_type": "code",
   "execution_count": 1,
   "id": "bb58e5c2-b239-40ec-a120-1b142ff6d7f9",
   "metadata": {},
   "outputs": [],
   "source": [
    "import pandas as pd\n",
    "import seaborn as sns\n",
    "import matplotlib.pyplot as plt"
   ]
  },
  {
   "cell_type": "code",
   "execution_count": 23,
   "id": "bbbc0d1a-e2ac-4bb7-a082-6e3e86109dfd",
   "metadata": {},
   "outputs": [
    {
     "data": {
      "text/html": [
       "<div>\n",
       "<style scoped>\n",
       "    .dataframe tbody tr th:only-of-type {\n",
       "        vertical-align: middle;\n",
       "    }\n",
       "\n",
       "    .dataframe tbody tr th {\n",
       "        vertical-align: top;\n",
       "    }\n",
       "\n",
       "    .dataframe thead th {\n",
       "        text-align: right;\n",
       "    }\n",
       "</style>\n",
       "<table border=\"1\" class=\"dataframe\">\n",
       "  <thead>\n",
       "    <tr style=\"text-align: right;\">\n",
       "      <th></th>\n",
       "      <th>Produto</th>\n",
       "      <th>Loja</th>\n",
       "      <th>Estoque_Atual</th>\n",
       "      <th>Unidades_Vendidas_Mes</th>\n",
       "      <th>Custo_Unitario</th>\n",
       "      <th>Preco_Unitario</th>\n",
       "    </tr>\n",
       "  </thead>\n",
       "  <tbody>\n",
       "    <tr>\n",
       "      <th>0</th>\n",
       "      <td>Produto_1</td>\n",
       "      <td>Loja_1</td>\n",
       "      <td>80</td>\n",
       "      <td>28</td>\n",
       "      <td>76.60</td>\n",
       "      <td>102.41</td>\n",
       "    </tr>\n",
       "    <tr>\n",
       "      <th>1</th>\n",
       "      <td>Produto_1</td>\n",
       "      <td>Loja_2</td>\n",
       "      <td>8</td>\n",
       "      <td>4</td>\n",
       "      <td>11.31</td>\n",
       "      <td>21.79</td>\n",
       "    </tr>\n",
       "    <tr>\n",
       "      <th>2</th>\n",
       "      <td>Produto_1</td>\n",
       "      <td>Loja_3</td>\n",
       "      <td>57</td>\n",
       "      <td>6</td>\n",
       "      <td>13.01</td>\n",
       "      <td>25.52</td>\n",
       "    </tr>\n",
       "    <tr>\n",
       "      <th>3</th>\n",
       "      <td>Produto_1</td>\n",
       "      <td>Loja_4</td>\n",
       "      <td>79</td>\n",
       "      <td>1</td>\n",
       "      <td>70.84</td>\n",
       "      <td>140.64</td>\n",
       "    </tr>\n",
       "    <tr>\n",
       "      <th>4</th>\n",
       "      <td>Produto_1</td>\n",
       "      <td>Loja_5</td>\n",
       "      <td>87</td>\n",
       "      <td>36</td>\n",
       "      <td>10.20</td>\n",
       "      <td>16.00</td>\n",
       "    </tr>\n",
       "  </tbody>\n",
       "</table>\n",
       "</div>"
      ],
      "text/plain": [
       "     Produto    Loja  Estoque_Atual  Unidades_Vendidas_Mes  Custo_Unitario  \\\n",
       "0  Produto_1  Loja_1             80                     28           76.60   \n",
       "1  Produto_1  Loja_2              8                      4           11.31   \n",
       "2  Produto_1  Loja_3             57                      6           13.01   \n",
       "3  Produto_1  Loja_4             79                      1           70.84   \n",
       "4  Produto_1  Loja_5             87                     36           10.20   \n",
       "\n",
       "   Preco_Unitario  \n",
       "0          102.41  \n",
       "1           21.79  \n",
       "2           25.52  \n",
       "3          140.64  \n",
       "4           16.00  "
      ]
     },
     "execution_count": 23,
     "metadata": {},
     "output_type": "execute_result"
    }
   ],
   "source": [
    "#testando dataset\n",
    "df = pd.read_csv(\"dia_12_estoque_lojas.csv\")\n",
    "df.head()"
   ]
  },
  {
   "cell_type": "code",
   "execution_count": 68,
   "id": "11288228-56bc-49f1-be9f-e5371ead041e",
   "metadata": {},
   "outputs": [
    {
     "name": "stdout",
     "output_type": "stream",
     "text": [
      "A loja com maior giro de estoque foi a: Loja_2 com o giro de estoque de 9.42\n"
     ]
    }
   ],
   "source": [
    "#Qual loja possui o maior giro de estoque (Unidades Vendidas / Estoque Atual)?\n",
    "df[\"Giro_De_Estoque\"] = df[\"Unidades_Vendidas_Mes\"] / df[\"Estoque_Atual\"]\n",
    "giroLoja = df.groupby(\"Loja\")[\"Giro_De_Estoque\"].sum()\n",
    "print(f\"A loja com maior giro de estoque foi a: {giroLoja.idxmax()} com o giro de estoque de {giroLoja.max():.2f}\")"
   ]
  },
  {
   "cell_type": "code",
   "execution_count": 90,
   "id": "7f8221f9-a0df-4295-97ea-f5b2aebb2a26",
   "metadata": {},
   "outputs": [
    {
     "name": "stdout",
     "output_type": "stream",
     "text": [
      "Produtos que estão com baixa rotatividade: \n",
      "\n",
      "Produto\n",
      "Produto_1     1.381714\n",
      "Produto_10    3.000743\n",
      "Produto_11    3.248462\n",
      "Produto_12    2.663713\n",
      "Produto_13    2.819165\n",
      "Produto_14    3.138241\n",
      "Produto_15    2.778276\n",
      "Produto_2     2.436958\n",
      "Produto_3     2.413829\n",
      "Produto_4     2.385736\n",
      "Produto_5     3.489022\n",
      "Produto_6     2.637585\n",
      "Produto_7     3.459782\n",
      "Produto_8     3.583044\n",
      "Produto_9     2.339497\n"
     ]
    }
   ],
   "source": [
    "#Quais produtos estão com baixa rotatividade (menos de 30% de giro)?\n",
    "produtoGiro = df.groupby(\"Produto\")[\"Giro_De_Estoque\"].sum()\n",
    "print(f\"Produtos que estão com baixa rotatividade: \\n\\n{produtoGiro[produtoGiro > 0.30].to_string()}\")"
   ]
  },
  {
   "cell_type": "code",
   "execution_count": 80,
   "id": "67e0f55c-1e12-4928-8d83-745dce91958c",
   "metadata": {},
   "outputs": [
    {
     "name": "stdout",
     "output_type": "stream",
     "text": [
      "Lucro total dos produtos por ordem de lucro: \n",
      "\n",
      "Produto\n",
      "Produto_11    R$7,440.63\n",
      "Produto_5     R$6,711.69\n",
      "Produto_7     R$6,120.41\n",
      "Produto_9     R$5,268.95\n",
      "Produto_15    R$4,959.75\n",
      "Produto_12    R$3,788.06\n",
      "Produto_6     R$3,591.24\n",
      "Produto_14    R$3,586.29\n",
      "Produto_4     R$2,931.22\n",
      "Produto_3     R$2,713.04\n",
      "Produto_8     R$2,615.83\n",
      "Produto_2     R$2,478.91\n",
      "Produto_13    R$2,078.02\n",
      "Produto_10    R$1,824.89\n",
      "Produto_1     R$1,118.26\n",
      "Name: Lucro_Total, dtype: object\n"
     ]
    }
   ],
   "source": [
    "#Qual o lucro total por produto em todas as lojas?,\n",
    "df[\"Lucro_Total\"] = df[\"Unidades_Vendidas_Mes\"] * (df[\"Preco_Unitario\"] - df[\"Custo_Unitario\"])\n",
    "lucroProduto = df.groupby(\"Produto\")[\"Lucro_Total\"].sum().sort_values(ascending=False)\n",
    "print(f\"Lucro total dos produtos por ordem de lucro: \\n\\n{lucroProduto.apply(lambda x: f\"R${x:,.2f}\")}\")"
   ]
  },
  {
   "cell_type": "code",
   "execution_count": 92,
   "id": "58e3f2c1-3f6f-4d9a-a395-3f1af2dae228",
   "metadata": {},
   "outputs": [
    {
     "name": "stdout",
     "output_type": "stream",
     "text": [
      "Produtos que deveriam receber reposição urgente: \n",
      "\n",
      "       Produto  Estoque_Atual  Giro_De_Estoque\n",
      "55  Produto_12              9         0.888889\n"
     ]
    }
   ],
   "source": [
    "#Quais produtos deveriam receber reposição urgente (Estoque Atual < 10 unidades e alta rotatividade)?\n",
    "reposicao = df[(df[\"Estoque_Atual\"] < 10) & (df[\"Giro_De_Estoque\"] > 0.5)]\n",
    "print(f\"Produtos que deveriam receber reposição urgente: \\n\\n{reposicao[[\"Produto\", \"Estoque_Atual\", \"Giro_De_Estoque\"]]}\")"
   ]
  },
  {
   "cell_type": "code",
   "execution_count": 88,
   "id": "62065dd0-6863-4945-941a-45d904a4ce1a",
   "metadata": {},
   "outputs": [
    {
     "data": {
      "image/png": "[encoded data removed]",
      "text/plain": [
       "<Figure size 640x480 with 1 Axes>"
      ]
     },
     "metadata": {},
     "output_type": "display_data"
    }
   ],
   "source": [
    "#Crie um gráfico de barras horizontal com os 5 produtos mais lucrativos.\n",
    "maisLucro = lucroProduto.sort_values(ascending=False).head(5)\n",
    "sns.barplot(x=maisLucro.values, y=maisLucro.index)\n",
    "plt.title(\"Top 5 Produtos Mais Lucrativos\")\n",
    "plt.ylabel(\"Produto\")\n",
    "plt.xlabel(\"Lucro Total (R$)\")\n",
    "plt.grid(axis='x', linestyle='-', alpha=0.3)\n",
    "plt.show()"
   ]
  }
 ],
 "metadata": {
  "kernelspec": {
   "display_name": "Python 3 (ipykernel)",
   "language": "python",
   "name": "python3"
  },
  "language_info": {
   "codemirror_mode": {
    "name": "ipython",
    "version": 3
   },
   "file_extension": ".py",
   "mimetype": "text/x-python",
   "name": "python",
   "nbconvert_exporter": "python",
   "pygments_lexer": "ipython3",
   "version": "3.12.7"
  }
 },
 "nbformat": 4,
 "nbformat_minor": 5
}
