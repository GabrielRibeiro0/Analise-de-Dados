{
 "cells": [
  {
   "cell_type": "markdown",
   "id": "5a6436a7-1ec8-46b6-896e-772a18959239",
   "metadata": {},
   "source": [
    "📊 Desafio 56 — Análise de Clientes Online\n",
    "📂 Dataset: Clique aqui para baixar o CSV\n",
    "\n",
    "Este conjunto de dados simula informações de clientes de uma plataforma online, incluindo tempo médio diário online, frequência de compras e status de atividade.\n",
    "\n",
    "🔍 Tarefas:\n",
    "\n",
    "Tratamento de Dados\n",
    "\n",
    "- Existe alguma coluna com valores duplicados ou inconsistentes? Realize uma verificação simples de qualidade dos dados.\n",
    "\n",
    "Análise Exploratória\n",
    "\n",
    "- Qual a média de tempo online diário dos clientes ativos versus os inativos?\n",
    "\n",
    "Visualização de Dados\n",
    "\n",
    "- Crie um gráfico de barras comparando o número médio de compras mensais por gênero.\n",
    "\n",
    "Machine Learning Básico\n",
    "\n",
    "- Treine um modelo de classificação para prever se um cliente é ativo (cliente_ativo), com base nas demais variáveis.\n",
    "\n",
    "- Use LogisticRegression ou RandomForestClassifier.\n",
    "\n",
    "- Divida os dados com train_test_split e avalie usando accuracy_score e classification_report.\n",
    "\n",
    "- Quais variáveis mais influenciam o modelo?"
   ]
  },
  {
   "cell_type": "code",
   "execution_count": 1,
   "id": "375a6ed1-d8ef-4e5c-a324-e94b2b3e2f1b",
   "metadata": {},
   "outputs": [],
   "source": [
    "import pandas as pd\n",
    "import seaborn as sns\n",
    "import matplotlib.pyplot as plt\n",
    "from sklearn.ensemble import RandomForestClassifier\n",
    "from sklearn.model_selection import train_test_split\n",
    "from sklearn.metrics import accuracy_score, classification_report\n",
    "from sklearn.preprocessing import LabelEncoder"
   ]
  },
  {
   "cell_type": "code",
   "execution_count": 2,
   "id": "4bd520e1-0046-4ce0-bd60-2d3481a9e766",
   "metadata": {},
   "outputs": [
    {
     "data": {
      "text/html": [
       "<div>\n",
       "<style scoped>\n",
       "    .dataframe tbody tr th:only-of-type {\n",
       "        vertical-align: middle;\n",
       "    }\n",
       "\n",
       "    .dataframe tbody tr th {\n",
       "        vertical-align: top;\n",
       "    }\n",
       "\n",
       "    .dataframe thead th {\n",
       "        text-align: right;\n",
       "    }\n",
       "</style>\n",
       "<table border=\"1\" class=\"dataframe\">\n",
       "  <thead>\n",
       "    <tr style=\"text-align: right;\">\n",
       "      <th></th>\n",
       "      <th>idade</th>\n",
       "      <th>genero</th>\n",
       "      <th>tempo_online_diario_min</th>\n",
       "      <th>compras_mensais</th>\n",
       "      <th>pontuacao_satisfacao</th>\n",
       "      <th>cliente_ativo</th>\n",
       "    </tr>\n",
       "  </thead>\n",
       "  <tbody>\n",
       "    <tr>\n",
       "      <th>0</th>\n",
       "      <td>22</td>\n",
       "      <td>F</td>\n",
       "      <td>120</td>\n",
       "      <td>5</td>\n",
       "      <td>8.2</td>\n",
       "      <td>1</td>\n",
       "    </tr>\n",
       "    <tr>\n",
       "      <th>1</th>\n",
       "      <td>34</td>\n",
       "      <td>M</td>\n",
       "      <td>95</td>\n",
       "      <td>2</td>\n",
       "      <td>6.5</td>\n",
       "      <td>1</td>\n",
       "    </tr>\n",
       "    <tr>\n",
       "      <th>2</th>\n",
       "      <td>29</td>\n",
       "      <td>F</td>\n",
       "      <td>135</td>\n",
       "      <td>6</td>\n",
       "      <td>9.0</td>\n",
       "      <td>1</td>\n",
       "    </tr>\n",
       "    <tr>\n",
       "      <th>3</th>\n",
       "      <td>41</td>\n",
       "      <td>M</td>\n",
       "      <td>80</td>\n",
       "      <td>1</td>\n",
       "      <td>5.8</td>\n",
       "      <td>0</td>\n",
       "    </tr>\n",
       "    <tr>\n",
       "      <th>4</th>\n",
       "      <td>25</td>\n",
       "      <td>F</td>\n",
       "      <td>150</td>\n",
       "      <td>7</td>\n",
       "      <td>9.3</td>\n",
       "      <td>1</td>\n",
       "    </tr>\n",
       "  </tbody>\n",
       "</table>\n",
       "</div>"
      ],
      "text/plain": [
       "   idade genero  tempo_online_diario_min  compras_mensais  \\\n",
       "0     22      F                      120                5   \n",
       "1     34      M                       95                2   \n",
       "2     29      F                      135                6   \n",
       "3     41      M                       80                1   \n",
       "4     25      F                      150                7   \n",
       "\n",
       "   pontuacao_satisfacao  cliente_ativo  \n",
       "0                   8.2              1  \n",
       "1                   6.5              1  \n",
       "2                   9.0              1  \n",
       "3                   5.8              0  \n",
       "4                   9.3              1  "
      ]
     },
     "execution_count": 2,
     "metadata": {},
     "output_type": "execute_result"
    }
   ],
   "source": [
    "df = pd.read_csv(\"dia_56_clientes_online.csv\")\n",
    "df.head()"
   ]
  },
  {
   "cell_type": "code",
   "execution_count": 9,
   "id": "e924f055-a0c3-48fb-95c5-9acb1e90fcbc",
   "metadata": {},
   "outputs": [
    {
     "name": "stdout",
     "output_type": "stream",
     "text": [
      "Valores Duplicados: 0\n",
      "\n",
      "\n",
      "<class 'pandas.core.frame.DataFrame'>\n",
      "RangeIndex: 10 entries, 0 to 9\n",
      "Data columns (total 6 columns):\n",
      " #   Column                   Non-Null Count  Dtype  \n",
      "---  ------                   --------------  -----  \n",
      " 0   idade                    10 non-null     int64  \n",
      " 1   genero                   10 non-null     object \n",
      " 2   tempo_online_diario_min  10 non-null     int64  \n",
      " 3   compras_mensais          10 non-null     int64  \n",
      " 4   pontuacao_satisfacao     10 non-null     float64\n",
      " 5   cliente_ativo            10 non-null     int64  \n",
      "dtypes: float64(1), int64(4), object(1)\n",
      "memory usage: 612.0+ bytes\n"
     ]
    }
   ],
   "source": [
    "#Existe alguma coluna com valores duplicados ou inconsistentes? Realize uma verificação simples de qualidade dos dados.\n",
    "print(f\"Valores Duplicados: {df.duplicated().sum()}\\n\\n\")\n",
    "df.info()"
   ]
  },
  {
   "cell_type": "code",
   "execution_count": 12,
   "id": "a2d66bcc-7dae-41b5-a803-ecc4a16f3f5e",
   "metadata": {},
   "outputs": [
    {
     "name": "stdout",
     "output_type": "stream",
     "text": [
      "cliente_ativo\n",
      "0     73.75\n",
      "1    125.00\n"
     ]
    }
   ],
   "source": [
    "#Qual a média de tempo online diário dos clientes ativos versus os inativos?\n",
    "tempoOnlineClientes = df.groupby(\"cliente_ativo\")[\"tempo_online_diario_min\"].mean()\n",
    "print(tempoOnlineClientes.to_string())"
   ]
  },
  {
   "cell_type": "code",
   "execution_count": 17,
   "id": "76a0bec9-3a67-40de-8e79-60a404667dbc",
   "metadata": {},
   "outputs": [
    {
     "data": {
      "image/png": "[encoded data removed]",
      "text/plain": [
       "<Figure size 640x480 with 1 Axes>"
      ]
     },
     "metadata": {},
     "output_type": "display_data"
    }
   ],
   "source": [
    "#Crie um gráfico de barras comparando o número médio de compras mensais por gênero.\n",
    "sns.barplot(data=df, x=\"genero\", y=\"compras_mensais\")\n",
    "plt.title(\"Média de Compras Mensais por Gênero\")\n",
    "plt.xlabel(\"Gênero\")\n",
    "plt.ylabel(\"Compras Mensais\")\n",
    "plt.show()"
   ]
  },
  {
   "cell_type": "code",
   "execution_count": 25,
   "id": "93f7f507-f43f-468e-92d6-314e53f60498",
   "metadata": {},
   "outputs": [
    {
     "name": "stdout",
     "output_type": "stream",
     "text": [
      "Acurácia: 1.0\n",
      "              precision    recall  f1-score   support\n",
      "\n",
      "           0       1.00      1.00      1.00         2\n",
      "           1       1.00      1.00      1.00         1\n",
      "\n",
      "    accuracy                           1.00         3\n",
      "   macro avg       1.00      1.00      1.00         3\n",
      "weighted avg       1.00      1.00      1.00         3\n",
      "\n",
      "                  variavel  importancia\n",
      "0                    idade     0.250000\n",
      "3          compras_mensais     0.215909\n",
      "1                   genero     0.193182\n",
      "4     pontuacao_satisfacao     0.193182\n",
      "2  tempo_online_diario_min     0.147727\n"
     ]
    }
   ],
   "source": [
    "#Treine um modelo de classificação para prever se um cliente é ativo (cliente_ativo), com base nas demais variáveis.\n",
    "le = LabelEncoder()\n",
    "df[\"genero\"] = le.fit_transform(df[\"genero\"])\n",
    "\n",
    "X = df.drop([\"cliente_ativo\"], axis=1)\n",
    "y = df[\"cliente_ativo\"]\n",
    "\n",
    "X_train, X_test, y_train, y_test = train_test_split(X, y, test_size=0.3, random_state=42)\n",
    "\n",
    "model = RandomForestClassifier(random_state=42)\n",
    "model.fit(X_train, y_train)\n",
    "\n",
    "y_pred = model.predict(X_test)\n",
    "print(f\"Acurácia: {accuracy_score(y_test, y_pred)}\")\n",
    "print(classification_report(y_test, y_pred))\n",
    "\n",
    "importancias = pd.DataFrame({\"variavel\": X.columns, \"importancia\": model.feature_importances_})\n",
    "print(importancias.sort_values(\"importancia\", ascending=False))"
   ]
  }
 ],
 "metadata": {
  "kernelspec": {
   "display_name": "Python 3 (ipykernel)",
   "language": "python",
   "name": "python3"
  },
  "language_info": {
   "codemirror_mode": {
    "name": "ipython",
    "version": 3
   },
   "file_extension": ".py",
   "mimetype": "text/x-python",
   "name": "python",
   "nbconvert_exporter": "python",
   "pygments_lexer": "ipython3",
   "version": "3.12.7"
  }
 },
 "nbformat": 4,
 "nbformat_minor": 5
}
