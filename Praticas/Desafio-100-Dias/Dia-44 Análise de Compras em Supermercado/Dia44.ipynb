{
 "cells": [
  {
   "cell_type": "markdown",
   "id": "0669924d-e316-4646-9977-09bad4e5d163",
   "metadata": {},
   "source": [
    "Desafio 44: Análise de Compras em Supermercado\n",
    "\n",
    "📂 Dataset: Informações de 250 clientes e seus gastos em diferentes categorias no supermercado.\n",
    "Colunas: Cliente, Idade, Gasto_Alimentos, Gasto_Limpeza, Gasto_Bebidas, Gasto_Total, Gastador (1 se Gasto_Total > 400, caso contrário 0)\n",
    "\n",
    "🎯 Tarefas:\n",
    "\n",
    "Qual é a média de gasto total por cliente?\n",
    "\n",
    "Qual categoria (alimentos, limpeza ou bebidas) apresenta o maior gasto médio?\n",
    "\n",
    "Qual é a faixa etária dos 10 clientes com maiores gastos totais?\n",
    "\n",
    "Crie um gráfico de barras comparando os gastos médios por categoria.\n",
    "\n",
    "Há correlação entre idade e gasto total?\n",
    "\n",
    "Treine um modelo de classificação (como Árvore de Decisão ou Regressão Logística) para prever a variável Gastador."
   ]
  },
  {
   "cell_type": "code",
   "execution_count": 33,
   "id": "96a1205e-6784-4825-b1a5-f909733f8e89",
   "metadata": {},
   "outputs": [],
   "source": [
    "import pandas as pd\n",
    "import matplotlib.pyplot as plt\n",
    "from sklearn.model_selection import train_test_split\n",
    "from sklearn.tree import DecisionTreeClassifier\n",
    "from sklearn.metrics import accuracy_score, classification_report, confusion_matrix"
   ]
  },
  {
   "cell_type": "code",
   "execution_count": 36,
   "id": "82de3457-da15-4be5-b5b6-1fcb59c6eb2d",
   "metadata": {},
   "outputs": [
    {
     "data": {
      "text/html": [
       "<div>\n",
       "<style scoped>\n",
       "    .dataframe tbody tr th:only-of-type {\n",
       "        vertical-align: middle;\n",
       "    }\n",
       "\n",
       "    .dataframe tbody tr th {\n",
       "        vertical-align: top;\n",
       "    }\n",
       "\n",
       "    .dataframe thead th {\n",
       "        text-align: right;\n",
       "    }\n",
       "</style>\n",
       "<table border=\"1\" class=\"dataframe\">\n",
       "  <thead>\n",
       "    <tr style=\"text-align: right;\">\n",
       "      <th></th>\n",
       "      <th>Cliente</th>\n",
       "      <th>Idade</th>\n",
       "      <th>Gasto_Alimentos</th>\n",
       "      <th>Gasto_Limpeza</th>\n",
       "      <th>Gasto_Bebidas</th>\n",
       "      <th>Gasto_Total</th>\n",
       "      <th>Gastador</th>\n",
       "    </tr>\n",
       "  </thead>\n",
       "  <tbody>\n",
       "    <tr>\n",
       "      <th>0</th>\n",
       "      <td>Cliente_1</td>\n",
       "      <td>59</td>\n",
       "      <td>184.20</td>\n",
       "      <td>46.67</td>\n",
       "      <td>82.28</td>\n",
       "      <td>313.15</td>\n",
       "      <td>0</td>\n",
       "    </tr>\n",
       "    <tr>\n",
       "      <th>1</th>\n",
       "      <td>Cliente_2</td>\n",
       "      <td>47</td>\n",
       "      <td>157.45</td>\n",
       "      <td>82.99</td>\n",
       "      <td>104.10</td>\n",
       "      <td>344.53</td>\n",
       "      <td>0</td>\n",
       "    </tr>\n",
       "    <tr>\n",
       "      <th>2</th>\n",
       "      <td>Cliente_3</td>\n",
       "      <td>59</td>\n",
       "      <td>212.56</td>\n",
       "      <td>62.20</td>\n",
       "      <td>99.22</td>\n",
       "      <td>373.98</td>\n",
       "      <td>0</td>\n",
       "    </tr>\n",
       "    <tr>\n",
       "      <th>3</th>\n",
       "      <td>Cliente_4</td>\n",
       "      <td>65</td>\n",
       "      <td>210.61</td>\n",
       "      <td>84.43</td>\n",
       "      <td>109.16</td>\n",
       "      <td>404.20</td>\n",
       "      <td>1</td>\n",
       "    </tr>\n",
       "    <tr>\n",
       "      <th>4</th>\n",
       "      <td>Cliente_5</td>\n",
       "      <td>45</td>\n",
       "      <td>284.44</td>\n",
       "      <td>130.57</td>\n",
       "      <td>90.37</td>\n",
       "      <td>505.37</td>\n",
       "      <td>1</td>\n",
       "    </tr>\n",
       "  </tbody>\n",
       "</table>\n",
       "</div>"
      ],
      "text/plain": [
       "     Cliente  Idade  Gasto_Alimentos  Gasto_Limpeza  Gasto_Bebidas  \\\n",
       "0  Cliente_1     59           184.20          46.67          82.28   \n",
       "1  Cliente_2     47           157.45          82.99         104.10   \n",
       "2  Cliente_3     59           212.56          62.20          99.22   \n",
       "3  Cliente_4     65           210.61          84.43         109.16   \n",
       "4  Cliente_5     45           284.44         130.57          90.37   \n",
       "\n",
       "   Gasto_Total  Gastador  \n",
       "0       313.15         0  \n",
       "1       344.53         0  \n",
       "2       373.98         0  \n",
       "3       404.20         1  \n",
       "4       505.37         1  "
      ]
     },
     "execution_count": 36,
     "metadata": {},
     "output_type": "execute_result"
    }
   ],
   "source": [
    "df = pd.read_csv(\"dia_44_supermercado_ML.csv\")\n",
    "df.head()"
   ]
  },
  {
   "cell_type": "code",
   "execution_count": 12,
   "id": "03e01210-78e4-4a19-b502-496f6c8aacdb",
   "metadata": {},
   "outputs": [
    {
     "name": "stdout",
     "output_type": "stream",
     "text": [
      "421.15\n"
     ]
    }
   ],
   "source": [
    "#Qual é a média de gasto total por cliente?\n",
    "mediaGastoTotalCliente = df['Gasto_Total'].mean().round(2)\n",
    "print(mediaGastoTotalCliente)"
   ]
  },
  {
   "cell_type": "code",
   "execution_count": 11,
   "id": "b8f00fdf-0147-4479-a4ff-e06199638a36",
   "metadata": {},
   "outputs": [
    {
     "name": "stdout",
     "output_type": "stream",
     "text": [
      "Gasto_Alimentos    249.84656\n",
      "Gasto_Limpeza       81.72836\n",
      "Gasto_Bebidas       89.57956\n",
      "dtype: float64\n"
     ]
    }
   ],
   "source": [
    "#Qual categoria (alimentos, limpeza ou bebidas) apresenta o maior gasto médio?\n",
    "gastoMedioCategoria = df[[\"Gasto_Alimentos\", \"Gasto_Limpeza\", \"Gasto_Bebidas\"]].mean()\n",
    "print(gastoMedioCategoria)"
   ]
  },
  {
   "cell_type": "code",
   "execution_count": 25,
   "id": "f98ce3d1-3a4f-4d9b-b0ad-74a3f4023ff6",
   "metadata": {},
   "outputs": [
    {
     "name": "stdout",
     "output_type": "stream",
     "text": [
      "         Cliente  Idade  Gasto_Total\n",
      "167  Cliente_168     29       598.75\n",
      "64    Cliente_65     23       596.93\n",
      "203  Cliente_204     48       577.54\n",
      "15    Cliente_16     62       572.88\n",
      "211  Cliente_212     65       568.81\n",
      "242  Cliente_243     31       559.16\n",
      "237  Cliente_238     21       557.94\n",
      "143  Cliente_144     43       557.51\n",
      "202  Cliente_203     35       555.05\n",
      "121  Cliente_122     67       549.38\n"
     ]
    }
   ],
   "source": [
    "#Qual é a faixa etária dos 10 clientes com maiores gastos totais?\n",
    "gastoTotalCliente10 = df.sort_values(by=\"Gasto_Total\", ascending=False).head(10)\n",
    "print(gastoTotalCliente10[[\"Cliente\", \"Idade\", \"Gasto_Total\"]])"
   ]
  },
  {
   "cell_type": "code",
   "execution_count": 30,
   "id": "d19a9928-967f-41d6-bcb5-9b16150584f6",
   "metadata": {},
   "outputs": [
    {
     "data": {
      "image/png": "[encoded data removed]",
      "text/plain": [
       "<Figure size 640x480 with 1 Axes>"
      ]
     },
     "metadata": {},
     "output_type": "display_data"
    }
   ],
   "source": [
    "#Crie um gráfico de barras comparando os gastos médios por categoria.\n",
    "gastoMedioCategoria.plot(kind=\"bar\")\n",
    "plt.title('Gasto Médio por Categoria')\n",
    "plt.ylabel('R$')\n",
    "plt.xticks(rotation=0)\n",
    "plt.grid(axis='y', linestyle='--', alpha=0.7)\n",
    "plt.show()"
   ]
  },
  {
   "cell_type": "code",
   "execution_count": 32,
   "id": "f6ef4234-21c5-4d65-9166-e945c4011fbf",
   "metadata": {},
   "outputs": [
    {
     "name": "stdout",
     "output_type": "stream",
     "text": [
      "0.05052028847097915\n"
     ]
    }
   ],
   "source": [
    "#Há correlação entre idade e gasto total?\n",
    "corrIdadeGastoTotal = df[\"Idade\"].corr(df[\"Gasto_Total\"])\n",
    "print(corrIdadeGastoTotal)"
   ]
  },
  {
   "cell_type": "code",
   "execution_count": 38,
   "id": "f98b8733-d992-4e5b-bae9-9892b46440b6",
   "metadata": {},
   "outputs": [
    {
     "name": "stdout",
     "output_type": "stream",
     "text": [
      "Acurácia: 1.0\n"
     ]
    }
   ],
   "source": [
    "#Treine um modelo de classificação (como Árvore de Decisão ou Regressão Logística) para prever a variável Gastador.\n",
    "X = df.drop([\"Gastador\", \"Cliente\"], axis=1)\n",
    "y = df[\"Gastador\"]\n",
    "\n",
    "X_train, X_test, y_train, y_test = train_test_split(X, y, test_size=0.3, random_state=42)\n",
    "\n",
    "modelo = DecisionTreeClassifier(random_state=42)\n",
    "modelo.fit(X_train, y_train)\n",
    "\n",
    "y_pred = modelo.predict(X_test)\n",
    "print(\"Acurácia:\", accuracy_score(y_test, y_pred))"
   ]
  }
 ],
 "metadata": {
  "kernelspec": {
   "display_name": "Python 3 (ipykernel)",
   "language": "python",
   "name": "python3"
  },
  "language_info": {
   "codemirror_mode": {
    "name": "ipython",
    "version": 3
   },
   "file_extension": ".py",
   "mimetype": "text/x-python",
   "name": "python",
   "nbconvert_exporter": "python",
   "pygments_lexer": "ipython3",
   "version": "3.12.7"
  }
 },
 "nbformat": 4,
 "nbformat_minor": 5
}
