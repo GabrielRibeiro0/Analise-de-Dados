{
 "cells": [
  {
   "cell_type": "markdown",
   "id": "90fa3109-244d-45cd-85c9-8dbc042eedcd",
   "metadata": {},
   "source": [
    "Desafio 22: Limpeza de Dados de Produção Agrícola\n",
    "\n",
    "📂 Dataset: Informações de produção agrícola com inconsistências e dados sujos.\n",
    "Colunas: Ano, Estado, Cultura, Clima, Area_Produtiva_ha, Producao_Toneladas\n",
    "\n",
    "🎯 Desafios de Limpeza:\n",
    "\n",
    "Identifique e trate os valores ausentes nas colunas Area_Produtiva_ha e Producao_Toneladas.\n",
    "\n",
    "Corrija a padronização de nomes nas colunas Cultura, Clima e Estado (maiúsculas/minúsculas, acentuação, traços).\n",
    "\n",
    "Converta corretamente os valores de Area_Produtiva_ha para numérico.\n",
    "\n",
    "Remova ou preencha valores inválidos e substitua entradas vazias ou \"N/A\".\n",
    "\n",
    "Após a limpeza, calcule a produtividade média por hectare para cada tipo de cultura."
   ]
  },
  {
   "cell_type": "code",
   "execution_count": 1,
   "id": "0be66ce5-0402-4fc4-82d3-53010d9eaba2",
   "metadata": {},
   "outputs": [],
   "source": [
    "import pandas as pd"
   ]
  },
  {
   "cell_type": "code",
   "execution_count": 81,
   "id": "6694be02-c017-4057-8dba-c2c026152372",
   "metadata": {},
   "outputs": [
    {
     "data": {
      "text/html": [
       "<div>\n",
       "<style scoped>\n",
       "    .dataframe tbody tr th:only-of-type {\n",
       "        vertical-align: middle;\n",
       "    }\n",
       "\n",
       "    .dataframe tbody tr th {\n",
       "        vertical-align: top;\n",
       "    }\n",
       "\n",
       "    .dataframe thead th {\n",
       "        text-align: right;\n",
       "    }\n",
       "</style>\n",
       "<table border=\"1\" class=\"dataframe\">\n",
       "  <thead>\n",
       "    <tr style=\"text-align: right;\">\n",
       "      <th></th>\n",
       "      <th>Ano</th>\n",
       "      <th>Estado</th>\n",
       "      <th>Cultura</th>\n",
       "      <th>Clima</th>\n",
       "      <th>Area_Produtiva_ha</th>\n",
       "      <th>Producao_Toneladas</th>\n",
       "    </tr>\n",
       "  </thead>\n",
       "  <tbody>\n",
       "    <tr>\n",
       "      <th>0</th>\n",
       "      <td>2023</td>\n",
       "      <td>PR</td>\n",
       "      <td>Soja</td>\n",
       "      <td>Subtropical</td>\n",
       "      <td>1404.70</td>\n",
       "      <td>36801.37</td>\n",
       "    </tr>\n",
       "    <tr>\n",
       "      <th>1</th>\n",
       "      <td>2022</td>\n",
       "      <td>RS</td>\n",
       "      <td>Milho</td>\n",
       "      <td>Tropical</td>\n",
       "      <td>7115.82</td>\n",
       "      <td>1820.77</td>\n",
       "    </tr>\n",
       "    <tr>\n",
       "      <th>2</th>\n",
       "      <td>2023</td>\n",
       "      <td>MG</td>\n",
       "      <td>Algodão</td>\n",
       "      <td>Equatorial</td>\n",
       "      <td>8968.15</td>\n",
       "      <td>57367.90</td>\n",
       "    </tr>\n",
       "    <tr>\n",
       "      <th>3</th>\n",
       "      <td>2018</td>\n",
       "      <td>PR</td>\n",
       "      <td>Café</td>\n",
       "      <td>Subtropical</td>\n",
       "      <td>8392.70</td>\n",
       "      <td>NaN</td>\n",
       "    </tr>\n",
       "    <tr>\n",
       "      <th>4</th>\n",
       "      <td>2019</td>\n",
       "      <td>RS</td>\n",
       "      <td>Soja</td>\n",
       "      <td>Subtropical</td>\n",
       "      <td>4398.20</td>\n",
       "      <td>50159.24</td>\n",
       "    </tr>\n",
       "  </tbody>\n",
       "</table>\n",
       "</div>"
      ],
      "text/plain": [
       "    Ano Estado  Cultura        Clima  Area_Produtiva_ha  Producao_Toneladas\n",
       "0  2023     PR     Soja  Subtropical            1404.70            36801.37\n",
       "1  2022     RS    Milho     Tropical            7115.82             1820.77\n",
       "2  2023     MG  Algodão   Equatorial            8968.15            57367.90\n",
       "3  2018     PR     Café  Subtropical            8392.70                 NaN\n",
       "4  2019     RS     Soja  Subtropical            4398.20            50159.24"
      ]
     },
     "execution_count": 81,
     "metadata": {},
     "output_type": "execute_result"
    }
   ],
   "source": [
    "df = pd.read_csv(\"dia_22_producao_agricola_sujo.csv\")\n",
    "df.head()"
   ]
  },
  {
   "cell_type": "code",
   "execution_count": 82,
   "id": "bd8a1bb6-01c6-4661-8963-79a4c9a471bd",
   "metadata": {},
   "outputs": [
    {
     "name": "stdout",
     "output_type": "stream",
     "text": [
      "Valores Nulos sem tratamento: \n",
      "Area_Produtiva_ha     3\n",
      "Producao_Toneladas    5\n",
      "dtype: int64\n",
      "\n",
      "Valores Nulos depois do tratamento : \n",
      "Area_Produtiva_ha     0\n",
      "Producao_Toneladas    0\n",
      "dtype: int64\n"
     ]
    }
   ],
   "source": [
    "#Identifique e trate os valores ausentes nas colunas Area_Produtiva_ha e Producao_Toneladas.\n",
    "print(f\"Valores Nulos sem tratamento: \\n{df[[\"Area_Produtiva_ha\", \"Producao_Toneladas\"]].isnull().sum()}\")\n",
    "df[\"Producao_Toneladas\"] = df.groupby(\"Cultura\")[\"Producao_Toneladas\"].transform(lambda x: x.fillna(x.mean()))\n",
    "df[\"Area_Produtiva_ha\"] = df.groupby(\"Cultura\")[\"Area_Produtiva_ha\"].transform(lambda x: x.fillna(x.mean()))\n",
    "print(f\"\\nValores Nulos depois do tratamento : \\n{df[[\"Area_Produtiva_ha\", \"Producao_Toneladas\"]].isnull().sum()}\")"
   ]
  },
  {
   "cell_type": "code",
   "execution_count": 83,
   "id": "79d3e1c0-5ad5-4dec-95af-1f9a75a18c34",
   "metadata": {},
   "outputs": [
    {
     "data": {
      "text/html": [
       "<div>\n",
       "<style scoped>\n",
       "    .dataframe tbody tr th:only-of-type {\n",
       "        vertical-align: middle;\n",
       "    }\n",
       "\n",
       "    .dataframe tbody tr th {\n",
       "        vertical-align: top;\n",
       "    }\n",
       "\n",
       "    .dataframe thead th {\n",
       "        text-align: right;\n",
       "    }\n",
       "</style>\n",
       "<table border=\"1\" class=\"dataframe\">\n",
       "  <thead>\n",
       "    <tr style=\"text-align: right;\">\n",
       "      <th></th>\n",
       "      <th>Estado</th>\n",
       "      <th>Clima</th>\n",
       "      <th>Cultura</th>\n",
       "    </tr>\n",
       "  </thead>\n",
       "  <tbody>\n",
       "    <tr>\n",
       "      <th>0</th>\n",
       "      <td>PR</td>\n",
       "      <td>Subtropical</td>\n",
       "      <td>Soja</td>\n",
       "    </tr>\n",
       "    <tr>\n",
       "      <th>1</th>\n",
       "      <td>RS</td>\n",
       "      <td>Tropical</td>\n",
       "      <td>Milho</td>\n",
       "    </tr>\n",
       "    <tr>\n",
       "      <th>2</th>\n",
       "      <td>MG</td>\n",
       "      <td>Equatorial</td>\n",
       "      <td>Algodão</td>\n",
       "    </tr>\n",
       "    <tr>\n",
       "      <th>3</th>\n",
       "      <td>PR</td>\n",
       "      <td>Subtropical</td>\n",
       "      <td>Café</td>\n",
       "    </tr>\n",
       "    <tr>\n",
       "      <th>4</th>\n",
       "      <td>RS</td>\n",
       "      <td>Subtropical</td>\n",
       "      <td>Soja</td>\n",
       "    </tr>\n",
       "    <tr>\n",
       "      <th>...</th>\n",
       "      <td>...</td>\n",
       "      <td>...</td>\n",
       "      <td>...</td>\n",
       "    </tr>\n",
       "    <tr>\n",
       "      <th>145</th>\n",
       "      <td>PR</td>\n",
       "      <td>Equatorial</td>\n",
       "      <td>Milho</td>\n",
       "    </tr>\n",
       "    <tr>\n",
       "      <th>146</th>\n",
       "      <td>RS</td>\n",
       "      <td>Equatorial</td>\n",
       "      <td>Algodão</td>\n",
       "    </tr>\n",
       "    <tr>\n",
       "      <th>147</th>\n",
       "      <td>SP</td>\n",
       "      <td>Equatorial</td>\n",
       "      <td>Milho</td>\n",
       "    </tr>\n",
       "    <tr>\n",
       "      <th>148</th>\n",
       "      <td>GO</td>\n",
       "      <td>Tropical</td>\n",
       "      <td>Algodão</td>\n",
       "    </tr>\n",
       "    <tr>\n",
       "      <th>149</th>\n",
       "      <td>RS</td>\n",
       "      <td>Subtropical</td>\n",
       "      <td>Milho</td>\n",
       "    </tr>\n",
       "  </tbody>\n",
       "</table>\n",
       "<p>150 rows × 3 columns</p>\n",
       "</div>"
      ],
      "text/plain": [
       "    Estado        Clima  Cultura\n",
       "0       PR  Subtropical     Soja\n",
       "1       RS     Tropical    Milho\n",
       "2       MG   Equatorial  Algodão\n",
       "3       PR  Subtropical     Café\n",
       "4       RS  Subtropical     Soja\n",
       "..     ...          ...      ...\n",
       "145     PR   Equatorial    Milho\n",
       "146     RS   Equatorial  Algodão\n",
       "147     SP   Equatorial    Milho\n",
       "148     GO     Tropical  Algodão\n",
       "149     RS  Subtropical    Milho\n",
       "\n",
       "[150 rows x 3 columns]"
      ]
     },
     "execution_count": 83,
     "metadata": {},
     "output_type": "execute_result"
    }
   ],
   "source": [
    "#Corrija a padronização de nomes nas colunas Cultura, Clima e Estado (maiúsculas/minúsculas, acentuação, traços).\n",
    "df[\"Cultura\"] = df[\"Cultura\"].str.strip().str.lower().str.replace(\"-\", \" \").str.title()\n",
    "df[\"Clima\"] = df[\"Clima\"].str.strip().str.lower().str.replace(\"-\", \" \").str.title()\n",
    "df[\"Estado\"] = df[\"Estado\"].str.strip().str.replace(\"-\", \" \").str.upper()\n",
    "df[[\"Estado\", \"Clima\", \"Cultura\"]]"
   ]
  },
  {
   "cell_type": "code",
   "execution_count": 84,
   "id": "4ab3df16-be33-4170-a39f-3bbf5ba29154",
   "metadata": {},
   "outputs": [
    {
     "name": "stdout",
     "output_type": "stream",
     "text": [
      "Mostra que todos os valores são realmente númericos: \n",
      "Area_Produtiva_ha\n",
      "<class 'float'>    150\n",
      "Name: count, dtype: int64\n"
     ]
    }
   ],
   "source": [
    "#Converta corretamente os valores de Area_Produtiva_ha para numérico.\n",
    "df[\"Area_Produtiva_ha\"] = pd.to_numeric(df[\"Area_Produtiva_ha\"])\n",
    "print(f\"Mostra que todos os valores são realmente númericos: \\n{df[\"Area_Produtiva_ha\"].apply(type).value_counts()}\")"
   ]
  },
  {
   "cell_type": "code",
   "execution_count": 85,
   "id": "5168a54b-497e-45cd-a30f-fd9f8d955381",
   "metadata": {},
   "outputs": [
    {
     "name": "stdout",
     "output_type": "stream",
     "text": [
      "Neste momento todos os valores nulos já foram tratados: \n",
      "\n",
      "Ano                   0\n",
      "Estado                0\n",
      "Cultura               0\n",
      "Clima                 0\n",
      "Area_Produtiva_ha     0\n",
      "Producao_Toneladas    0\n",
      "dtype: int64\n"
     ]
    }
   ],
   "source": [
    "#Remova ou preencha valores inválidos e substitua entradas vazias ou \"N/A\".\n",
    "print(\"Neste momento todos os valores nulos já foram tratados: \\n\")\n",
    "df.replace([\"N/A\", \"n/a\", \"-\", \" \", \"\"], pd.NA, inplace=True)\n",
    "print(df.isnull().sum())"
   ]
  },
  {
   "cell_type": "code",
   "execution_count": 86,
   "id": "96417142-dd66-4a41-a048-d6d02fa50098",
   "metadata": {},
   "outputs": [
    {
     "name": "stdout",
     "output_type": "stream",
     "text": [
      "   Cultura  Produtividade_Toneladas_ha\n",
      "1    Arroz                       43.69\n",
      "2     Café                       41.80\n",
      "4     Soja                       32.27\n",
      "0  Algodão                       28.81\n",
      "3    Milho                       21.53\n"
     ]
    }
   ],
   "source": [
    "#Após a limpeza, calcule a produtividade média por hectare para cada tipo de cultura.\n",
    "df[\"Produtividade_Toneladas_ha\"] = df[\"Producao_Toneladas\"] / df[\"Area_Produtiva_ha\"]\n",
    "produtividadeMedia = df.groupby(\"Cultura\")[\"Produtividade_Toneladas_ha\"].mean().reset_index().sort_values(by=\"Produtividade_Toneladas_ha\", ascending=False)\n",
    "print(produtividadeMedia.round(2))"
   ]
  },
  {
   "cell_type": "code",
   "execution_count": null,
   "id": "a3f10b62-4c6c-4806-97cb-09f8bff68389",
   "metadata": {},
   "outputs": [],
   "source": []
  }
 ],
 "metadata": {
  "kernelspec": {
   "display_name": "Python 3 (ipykernel)",
   "language": "python",
   "name": "python3"
  },
  "language_info": {
   "codemirror_mode": {
    "name": "ipython",
    "version": 3
   },
   "file_extension": ".py",
   "mimetype": "text/x-python",
   "name": "python",
   "nbconvert_exporter": "python",
   "pygments_lexer": "ipython3",
   "version": "3.12.7"
  }
 },
 "nbformat": 4,
 "nbformat_minor": 5
}
