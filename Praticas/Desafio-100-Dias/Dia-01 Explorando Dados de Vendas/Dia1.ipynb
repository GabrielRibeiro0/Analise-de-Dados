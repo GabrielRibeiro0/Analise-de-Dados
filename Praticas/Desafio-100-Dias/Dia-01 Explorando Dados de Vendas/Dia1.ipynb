{
 "cells": [
  {
   "cell_type": "code",
   "execution_count": null,
   "id": "8ac017fc-5764-402c-98bd-74edc1deddd2",
   "metadata": {},
   "outputs": [],
   "source": [
    "Desafio 1: Explorando Dados de Vendas\n",
    "\n",
    "📂 Dataset: Registro de vendas de uma loja (contém colunas como ID_Venda, Data, Produto, Categoria, Quantidade, Preço_Unitário, Total_Venda).\n",
    "\n",
    "🎯 Atividades:\n",
    "\n",
    "    Carregue o arquivo CSV e exiba as 5 primeiras linhas.\n",
    "\n",
    "    quantas linhas e colunas há no dataset?\n",
    "\n",
    "    Quais são os nomes das colunas?\n",
    "\n",
    "    Existe alguma coluna com valores ausentes?"
   ]
  },
  {
   "cell_type": "code",
   "execution_count": 1,
   "id": "f0cb5f69-92a6-4f6b-9c2a-e7d0e7e9b4b7",
   "metadata": {},
   "outputs": [],
   "source": [
    "import pandas as pd"
   ]
  },
  {
   "cell_type": "code",
   "execution_count": 2,
   "id": "e1c0ade1-ae0f-4892-a141-17462268ae36",
   "metadata": {},
   "outputs": [],
   "source": [
    "df = pd.read_csv(\"dia_1_vendas.csv\")"
   ]
  },
  {
   "cell_type": "code",
   "execution_count": 4,
   "id": "58028e78-221f-4eee-b362-ac6939ce1960",
   "metadata": {},
   "outputs": [
    {
     "data": {
      "text/html": [
       "<div>\n",
       "<style scoped>\n",
       "    .dataframe tbody tr th:only-of-type {\n",
       "        vertical-align: middle;\n",
       "    }\n",
       "\n",
       "    .dataframe tbody tr th {\n",
       "        vertical-align: top;\n",
       "    }\n",
       "\n",
       "    .dataframe thead th {\n",
       "        text-align: right;\n",
       "    }\n",
       "</style>\n",
       "<table border=\"1\" class=\"dataframe\">\n",
       "  <thead>\n",
       "    <tr style=\"text-align: right;\">\n",
       "      <th></th>\n",
       "      <th>ID_Venda</th>\n",
       "      <th>Data</th>\n",
       "      <th>Produto</th>\n",
       "      <th>Categoria</th>\n",
       "      <th>Quantidade</th>\n",
       "      <th>Preço_Unitário</th>\n",
       "      <th>Total_Venda</th>\n",
       "    </tr>\n",
       "  </thead>\n",
       "  <tbody>\n",
       "    <tr>\n",
       "      <th>0</th>\n",
       "      <td>1</td>\n",
       "      <td>2024-01-01</td>\n",
       "      <td>Smartphone</td>\n",
       "      <td>Eletrônicos</td>\n",
       "      <td>2</td>\n",
       "      <td>1549.59</td>\n",
       "      <td>3099.18</td>\n",
       "    </tr>\n",
       "    <tr>\n",
       "      <th>1</th>\n",
       "      <td>2</td>\n",
       "      <td>2024-01-02</td>\n",
       "      <td>Monitor</td>\n",
       "      <td>Acessórios</td>\n",
       "      <td>3</td>\n",
       "      <td>1269.22</td>\n",
       "      <td>3807.66</td>\n",
       "    </tr>\n",
       "    <tr>\n",
       "      <th>2</th>\n",
       "      <td>3</td>\n",
       "      <td>2024-01-03</td>\n",
       "      <td>Tablet</td>\n",
       "      <td>Eletrônicos</td>\n",
       "      <td>2</td>\n",
       "      <td>1189.13</td>\n",
       "      <td>2378.26</td>\n",
       "    </tr>\n",
       "    <tr>\n",
       "      <th>3</th>\n",
       "      <td>4</td>\n",
       "      <td>2024-01-04</td>\n",
       "      <td>Notebook</td>\n",
       "      <td>Acessórios</td>\n",
       "      <td>4</td>\n",
       "      <td>1792.52</td>\n",
       "      <td>7170.08</td>\n",
       "    </tr>\n",
       "    <tr>\n",
       "      <th>4</th>\n",
       "      <td>5</td>\n",
       "      <td>2024-01-05</td>\n",
       "      <td>Smartphone</td>\n",
       "      <td>Eletrônicos</td>\n",
       "      <td>4</td>\n",
       "      <td>1328.04</td>\n",
       "      <td>5312.16</td>\n",
       "    </tr>\n",
       "  </tbody>\n",
       "</table>\n",
       "</div>"
      ],
      "text/plain": [
       "   ID_Venda        Data     Produto    Categoria  Quantidade  Preço_Unitário  \\\n",
       "0         1  2024-01-01  Smartphone  Eletrônicos           2         1549.59   \n",
       "1         2  2024-01-02     Monitor   Acessórios           3         1269.22   \n",
       "2         3  2024-01-03      Tablet  Eletrônicos           2         1189.13   \n",
       "3         4  2024-01-04    Notebook   Acessórios           4         1792.52   \n",
       "4         5  2024-01-05  Smartphone  Eletrônicos           4         1328.04   \n",
       "\n",
       "   Total_Venda  \n",
       "0      3099.18  \n",
       "1      3807.66  \n",
       "2      2378.26  \n",
       "3      7170.08  \n",
       "4      5312.16  "
      ]
     },
     "execution_count": 4,
     "metadata": {},
     "output_type": "execute_result"
    }
   ],
   "source": [
    "#Carregue o arquivo CSV e exiba as 5 primeiras linhas.\n",
    "df.head()"
   ]
  },
  {
   "cell_type": "code",
   "execution_count": 9,
   "id": "f86a4cbc-3219-40a5-b7b2-0478cc9886fb",
   "metadata": {},
   "outputs": [
    {
     "name": "stdout",
     "output_type": "stream",
     "text": [
      "o dataset contém: 20 linhas e 7 colunas\n"
     ]
    }
   ],
   "source": [
    "#quantas linhas e colunas há no dataset?\n",
    "linhas, colunas = df.shape\n",
    "print(f\"o dataset contém: {linhas} linhas e {colunas} colunas\")"
   ]
  },
  {
   "cell_type": "code",
   "execution_count": 28,
   "id": "fdedb11c-2551-4e4f-8345-2a607bb96454",
   "metadata": {},
   "outputs": [
    {
     "name": "stdout",
     "output_type": "stream",
     "text": [
      "Esses são os nomes das colunas: \n",
      "\n",
      "['ID_Venda', 'Data', 'Produto', 'Categoria', 'Quantidade', 'Preço_Unitário', 'Total_Venda']\n"
     ]
    }
   ],
   "source": [
    "#Quais são os nomes das colunas?\n",
    "colunas = list(df.columns)\n",
    "print(f\"Esses são os nomes das colunas: \\n\\n{colunas}\")"
   ]
  },
  {
   "cell_type": "code",
   "execution_count": 27,
   "id": "41acf75f-4d25-4809-8481-6f2b6d7bf582",
   "metadata": {},
   "outputs": [
    {
     "name": "stdout",
     "output_type": "stream",
     "text": [
      "Essas são as colunas com valores nulos: \n",
      "\n",
      "Categoria         1\n",
      "Preço_Unitário    1\n",
      "dtype: int64\n"
     ]
    }
   ],
   "source": [
    "#Existe alguma coluna com valores ausentes?\n",
    "nulos = df.isnull().sum()\n",
    "print(f\"Essas são as colunas com valores nulos: \\n\\n{nulos[nulos > 0]}\")"
   ]
  }
 ],
 "metadata": {
  "kernelspec": {
   "display_name": "Python 3 (ipykernel)",
   "language": "python",
   "name": "python3"
  },
  "language_info": {
   "codemirror_mode": {
    "name": "ipython",
    "version": 3
   },
   "file_extension": ".py",
   "mimetype": "text/x-python",
   "name": "python",
   "nbconvert_exporter": "python",
   "pygments_lexer": "ipython3",
   "version": "3.12.6"
  }
 },
 "nbformat": 4,
 "nbformat_minor": 5
}
