{
 "cells": [
  {
   "cell_type": "markdown",
   "id": "faf53deb-0867-4994-9bc8-dacd3a9502db",
   "metadata": {},
   "source": [
    "Desafio 3: Analisando Dados de Pedidos de Delivery\n",
    "\n",
    "📂 Dataset: Informações sobre pedidos de delivery, incluindo tempo de entrega, valor do pedido e avaliações dos clientes.\n",
    "\n",
    "🎯 Atividades:\n",
    "\n",
    "    Qual é o tempo médio de entrega dos pedidos?\n",
    "\n",
    "    Qual o valor médio dos pedidos por categoria de restaurante?\n",
    "\n",
    "    Existe correlação entre a avaliação do cliente e o tempo de entrega?"
   ]
  },
  {
   "cell_type": "code",
   "execution_count": 2,
   "id": "b57cc7ed-ddab-4a63-bf87-6eee9cb32d91",
   "metadata": {},
   "outputs": [],
   "source": [
    "import pandas as pd"
   ]
  },
  {
   "cell_type": "code",
   "execution_count": 20,
   "id": "3af27977-1b78-4321-8937-a936581de2e1",
   "metadata": {},
   "outputs": [
    {
     "data": {
      "text/html": [
       "<div>\n",
       "<style scoped>\n",
       "    .dataframe tbody tr th:only-of-type {\n",
       "        vertical-align: middle;\n",
       "    }\n",
       "\n",
       "    .dataframe tbody tr th {\n",
       "        vertical-align: top;\n",
       "    }\n",
       "\n",
       "    .dataframe thead th {\n",
       "        text-align: right;\n",
       "    }\n",
       "</style>\n",
       "<table border=\"1\" class=\"dataframe\">\n",
       "  <thead>\n",
       "    <tr style=\"text-align: right;\">\n",
       "      <th></th>\n",
       "      <th>ID_Pedido</th>\n",
       "      <th>Restaurante</th>\n",
       "      <th>Valor_Pedido</th>\n",
       "      <th>Tempo_Entrega (min)</th>\n",
       "      <th>Avaliacao_Cliente</th>\n",
       "    </tr>\n",
       "  </thead>\n",
       "  <tbody>\n",
       "    <tr>\n",
       "      <th>0</th>\n",
       "      <td>1</td>\n",
       "      <td>Pizzaria</td>\n",
       "      <td>77.16</td>\n",
       "      <td>87</td>\n",
       "      <td>3.0</td>\n",
       "    </tr>\n",
       "    <tr>\n",
       "      <th>1</th>\n",
       "      <td>2</td>\n",
       "      <td>Sushi</td>\n",
       "      <td>21.59</td>\n",
       "      <td>22</td>\n",
       "      <td>1.9</td>\n",
       "    </tr>\n",
       "    <tr>\n",
       "      <th>2</th>\n",
       "      <td>3</td>\n",
       "      <td>Pizzaria</td>\n",
       "      <td>144.52</td>\n",
       "      <td>62</td>\n",
       "      <td>4.2</td>\n",
       "    </tr>\n",
       "    <tr>\n",
       "      <th>3</th>\n",
       "      <td>4</td>\n",
       "      <td>Pizzaria</td>\n",
       "      <td>131.74</td>\n",
       "      <td>33</td>\n",
       "      <td>4.0</td>\n",
       "    </tr>\n",
       "    <tr>\n",
       "      <th>4</th>\n",
       "      <td>5</td>\n",
       "      <td>Sushi</td>\n",
       "      <td>26.99</td>\n",
       "      <td>70</td>\n",
       "      <td>1.5</td>\n",
       "    </tr>\n",
       "  </tbody>\n",
       "</table>\n",
       "</div>"
      ],
      "text/plain": [
       "   ID_Pedido Restaurante  Valor_Pedido  Tempo_Entrega (min)  Avaliacao_Cliente\n",
       "0          1    Pizzaria         77.16                   87                3.0\n",
       "1          2       Sushi         21.59                   22                1.9\n",
       "2          3    Pizzaria        144.52                   62                4.2\n",
       "3          4    Pizzaria        131.74                   33                4.0\n",
       "4          5       Sushi         26.99                   70                1.5"
      ]
     },
     "execution_count": 20,
     "metadata": {},
     "output_type": "execute_result"
    }
   ],
   "source": [
    "#testando dataset\n",
    "df = pd.read_csv(\"dia_3_pedidos_delivery.csv\")\n",
    "df.head()"
   ]
  },
  {
   "cell_type": "code",
   "execution_count": 40,
   "id": "7469f0b8-c827-45dd-bba6-c1aedaf7ac47",
   "metadata": {},
   "outputs": [
    {
     "name": "stdout",
     "output_type": "stream",
     "text": [
      "O tempo medio das entregas dos pedidos é de 51.0 minutos\n"
     ]
    }
   ],
   "source": [
    "#Qual é o tempo médio de entrega dos pedidos?\n",
    "tempoMedia = df[\"Tempo_Entrega (min)\"].mean()\n",
    "print(f\"O tempo medio das entregas dos pedidos é de {tempoMedia:.1f} minutos\")"
   ]
  },
  {
   "cell_type": "code",
   "execution_count": 44,
   "id": "99029d93-0e1c-4c7b-bbeb-f22d6d11aa85",
   "metadata": {},
   "outputs": [
    {
     "name": "stdout",
     "output_type": "stream",
     "text": [
      "Valor médio dos pedidos por categoria: \n",
      "\n",
      "Restaurante\n",
      "Hamburgueria    126.04000\n",
      "Pizzaria         85.95375\n",
      "Comida Árabe     65.08000\n",
      "Sushi            44.00750\n",
      "Name: Valor_Pedido, dtype: float64\n"
     ]
    }
   ],
   "source": [
    "#Qual o valor médio dos pedidos por categoria de restaurante?\n",
    "valorMedia = df.groupby(\"Restaurante\")[\"Valor_Pedido\"].mean().sort_values(ascending=False)\n",
    "print(f\"Valor médio dos pedidos por categoria: \\n\\n{valorMedia}\")"
   ]
  },
  {
   "cell_type": "code",
   "execution_count": 47,
   "id": "83516b75-43e6-4240-8907-588fb94d3605",
   "metadata": {},
   "outputs": [
    {
     "name": "stdout",
     "output_type": "stream",
     "text": [
      "A correalação entre o tempo de entrega e a avaliação do cliente é de: -0.04\n"
     ]
    }
   ],
   "source": [
    "#Existe correlação entre a avaliação do cliente e o tempo de entrega?\n",
    "corrClienteTempo = df[\"Tempo_Entrega (min)\"].corr(df[\"Avaliacao_Cliente\"])\n",
    "print(f\"A correlação entre o tempo de entrega e a avaliação do cliente é de: {corrClienteTempo:.2f}\")"
   ]
  }
 ],
 "metadata": {
  "kernelspec": {
   "display_name": "Python 3 (ipykernel)",
   "language": "python",
   "name": "python3"
  },
  "language_info": {
   "codemirror_mode": {
    "name": "ipython",
    "version": 3
   },
   "file_extension": ".py",
   "mimetype": "text/x-python",
   "name": "python",
   "nbconvert_exporter": "python",
   "pygments_lexer": "ipython3",
   "version": "3.12.7"
  }
 },
 "nbformat": 4,
 "nbformat_minor": 5
}
