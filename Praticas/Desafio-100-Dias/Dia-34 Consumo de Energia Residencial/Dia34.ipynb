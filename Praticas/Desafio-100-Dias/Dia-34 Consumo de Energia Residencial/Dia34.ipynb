{
 "cells": [
  {
   "cell_type": "markdown",
   "id": "7af650d1",
   "metadata": {},
   "source": [
    "Desafio 34: Consumo de Energia Residencial\n",
    "\n",
    "📂 Dataset: Registros mensais de consumo de energia elétrica por residência.\n",
    "Colunas: Residencia, Mês, Consumo_kWh, Bandeira_Tarifária, Valor_Pago\n",
    "\n",
    "🎯 Tarefas:\n",
    "\n",
    "    Trate os dados ausentes e incorretos nas colunas Consumo_kWh e Valor_Pago.\n",
    "\n",
    "    Qual a média de consumo (kWh) por residência no ano?\n",
    "\n",
    "    Qual foi o mês com maior consumo total?\n",
    "\n",
    "    Há variação no valor pago conforme a Bandeira_Tarifária? (Utilize média e mediana).\n",
    "\n",
    "    Crie um gráfico de linha mostrando o consumo total por mês."
   ]
  },
  {
   "cell_type": "code",
   "execution_count": 28,
   "id": "4044b0fc",
   "metadata": {},
   "outputs": [],
   "source": [
    "import pandas as pd\n",
    "import matplotlib.pyplot as plt"
   ]
  },
  {
   "cell_type": "code",
   "execution_count": 9,
   "id": "ab0d9691",
   "metadata": {},
   "outputs": [
    {
     "data": {
      "text/html": [
       "<div>\n",
       "<style scoped>\n",
       "    .dataframe tbody tr th:only-of-type {\n",
       "        vertical-align: middle;\n",
       "    }\n",
       "\n",
       "    .dataframe tbody tr th {\n",
       "        vertical-align: top;\n",
       "    }\n",
       "\n",
       "    .dataframe thead th {\n",
       "        text-align: right;\n",
       "    }\n",
       "</style>\n",
       "<table border=\"1\" class=\"dataframe\">\n",
       "  <thead>\n",
       "    <tr style=\"text-align: right;\">\n",
       "      <th></th>\n",
       "      <th>Residencia</th>\n",
       "      <th>Mês</th>\n",
       "      <th>Consumo_kWh</th>\n",
       "      <th>Bandeira_Tarifária</th>\n",
       "      <th>Valor_Pago</th>\n",
       "    </tr>\n",
       "  </thead>\n",
       "  <tbody>\n",
       "    <tr>\n",
       "      <th>0</th>\n",
       "      <td>Residencia_17</td>\n",
       "      <td>2024-08</td>\n",
       "      <td>281.4</td>\n",
       "      <td>Vermelha</td>\n",
       "      <td>339.64</td>\n",
       "    </tr>\n",
       "    <tr>\n",
       "      <th>1</th>\n",
       "      <td>Residencia_24</td>\n",
       "      <td>2024-09</td>\n",
       "      <td>263.4</td>\n",
       "      <td>Vermelha</td>\n",
       "      <td>543.54</td>\n",
       "    </tr>\n",
       "    <tr>\n",
       "      <th>2</th>\n",
       "      <td>Residencia_33</td>\n",
       "      <td>2024-12</td>\n",
       "      <td>359.8</td>\n",
       "      <td>Verde</td>\n",
       "      <td>577.84</td>\n",
       "    </tr>\n",
       "    <tr>\n",
       "      <th>3</th>\n",
       "      <td>Residencia_41</td>\n",
       "      <td>2024-06</td>\n",
       "      <td>327.1</td>\n",
       "      <td>Amarela</td>\n",
       "      <td>363.04</td>\n",
       "    </tr>\n",
       "    <tr>\n",
       "      <th>4</th>\n",
       "      <td>Residencia_23</td>\n",
       "      <td>2024-12</td>\n",
       "      <td>310.0</td>\n",
       "      <td>Verde</td>\n",
       "      <td>599.17</td>\n",
       "    </tr>\n",
       "    <tr>\n",
       "      <th>...</th>\n",
       "      <td>...</td>\n",
       "      <td>...</td>\n",
       "      <td>...</td>\n",
       "      <td>...</td>\n",
       "      <td>...</td>\n",
       "    </tr>\n",
       "    <tr>\n",
       "      <th>295</th>\n",
       "      <td>Residencia_21</td>\n",
       "      <td>2024-10</td>\n",
       "      <td>280.7</td>\n",
       "      <td>Verde</td>\n",
       "      <td>706.61</td>\n",
       "    </tr>\n",
       "    <tr>\n",
       "      <th>296</th>\n",
       "      <td>Residencia_49</td>\n",
       "      <td>2024-01</td>\n",
       "      <td>340.7</td>\n",
       "      <td>Amarela</td>\n",
       "      <td>430.81</td>\n",
       "    </tr>\n",
       "    <tr>\n",
       "      <th>297</th>\n",
       "      <td>Residencia_15</td>\n",
       "      <td>2024-02</td>\n",
       "      <td>424.1</td>\n",
       "      <td>Vermelha</td>\n",
       "      <td>172.11</td>\n",
       "    </tr>\n",
       "    <tr>\n",
       "      <th>298</th>\n",
       "      <td>Residencia_5</td>\n",
       "      <td>2024-04</td>\n",
       "      <td>181.2</td>\n",
       "      <td>Verde</td>\n",
       "      <td>187.28</td>\n",
       "    </tr>\n",
       "    <tr>\n",
       "      <th>299</th>\n",
       "      <td>Residencia_29</td>\n",
       "      <td>2024-09</td>\n",
       "      <td>313.2</td>\n",
       "      <td>Amarela</td>\n",
       "      <td>351.08</td>\n",
       "    </tr>\n",
       "  </tbody>\n",
       "</table>\n",
       "<p>300 rows × 5 columns</p>\n",
       "</div>"
      ],
      "text/plain": [
       "        Residencia      Mês  Consumo_kWh Bandeira_Tarifária Valor_Pago\n",
       "0    Residencia_17  2024-08        281.4           Vermelha     339.64\n",
       "1    Residencia_24  2024-09        263.4           Vermelha     543.54\n",
       "2    Residencia_33  2024-12        359.8              Verde     577.84\n",
       "3    Residencia_41  2024-06        327.1            Amarela     363.04\n",
       "4    Residencia_23  2024-12        310.0              Verde     599.17\n",
       "..             ...      ...          ...                ...        ...\n",
       "295  Residencia_21  2024-10        280.7              Verde     706.61\n",
       "296  Residencia_49  2024-01        340.7            Amarela     430.81\n",
       "297  Residencia_15  2024-02        424.1           Vermelha     172.11\n",
       "298   Residencia_5  2024-04        181.2              Verde     187.28\n",
       "299  Residencia_29  2024-09        313.2            Amarela     351.08\n",
       "\n",
       "[300 rows x 5 columns]"
      ]
     },
     "execution_count": 9,
     "metadata": {},
     "output_type": "execute_result"
    }
   ],
   "source": [
    "df = pd.read_csv(\"dia_34_consumo_energia.csv\")\n",
    "df"
   ]
  },
  {
   "cell_type": "code",
   "execution_count": 12,
   "id": "5b570a2e",
   "metadata": {},
   "outputs": [],
   "source": [
    "#Trate os dados ausentes e incorretos nas colunas Consumo_kWh e Valor_Pago.\n",
    "df[\"Consumo_kWh\"] = pd.to_numeric(df[\"Consumo_kWh\"], errors=\"coerce\")\n",
    "df[\"Consumo_kWh\"] = df[\"Consumo_kWh\"].fillna(\n",
    "    df.groupby(\"Bandeira_Tarifária\")[\"Consumo_kWh\"].transform(\"mean\")\n",
    ")\n",
    "\n",
    "df[\"Valor_Pago\"] = pd.to_numeric(df[\"Valor_Pago\"], errors=\"coerce\")\n",
    "df[\"Valor_Pago\"] = df[\"Valor_Pago\"].fillna(df[\"Valor_Pago\"].mean())"
   ]
  },
  {
   "cell_type": "code",
   "execution_count": 29,
   "id": "4681bf45",
   "metadata": {},
   "outputs": [
    {
     "name": "stdout",
     "output_type": "stream",
     "text": [
      "438.97\n"
     ]
    }
   ],
   "source": [
    "#Qual a média de consumo (kWh) por residência no ano?\n",
    "kWhResidencia = df.groupby([\"Residencia\", \"Mês\"])[\"Consumo_kWh\"].sum().mean().round(2)\n",
    "print(kWhResidencia)"
   ]
  },
  {
   "cell_type": "code",
   "execution_count": 35,
   "id": "64397ece",
   "metadata": {},
   "outputs": [
    {
     "name": "stdout",
     "output_type": "stream",
     "text": [
      "Nov\n"
     ]
    }
   ],
   "source": [
    "#Qual foi o mês com maior consumo total?\n",
    "df[\"Mês\"] = pd.to_datetime(df[\"Mês\"])\n",
    "df[\"AnoMes\"] = df[\"Mês\"].dt.strftime(\"%b\")\n",
    "consumoMesTotal = df.groupby(\"AnoMes\")[\"Consumo_kWh\"].sum().sort_values(ascending=False)\n",
    "print(consumoMesTotal.idxmax())"
   ]
  },
  {
   "cell_type": "code",
   "execution_count": 36,
   "id": "cb0492a0",
   "metadata": {},
   "outputs": [
    {
     "name": "stdout",
     "output_type": "stream",
     "text": [
      "                      mean  median\n",
      "Bandeira_Tarifária                \n",
      "Amarela             481.89  476.51\n",
      "Verde               443.62  444.47\n",
      "Vermelha            471.80  482.78\n"
     ]
    }
   ],
   "source": [
    "#Há variação no valor pago conforme a Bandeira_Tarifária? (Utilize média e mediana).\n",
    "varicaoBandeira = df.groupby(\"Bandeira_Tarifária\")[\"Valor_Pago\"].agg([\"mean\", \"median\"]).round(2)\n",
    "print(varicaoBandeira)"
   ]
  },
  {
   "cell_type": "code",
   "execution_count": 39,
   "id": "24403b87",
   "metadata": {},
   "outputs": [
    {
     "data": {
      "image/png": "[encoded data removed]",
      "text/plain": [
       "<Figure size 640x480 with 1 Axes>"
      ]
     },
     "metadata": {},
     "output_type": "display_data"
    }
   ],
   "source": [
    "#Crie um gráfico de linha mostrando o consumo total por mês.\n",
    "df[\"AnoMes\"] = df[\"Mês\"].dt.to_period(\"M\").astype(str)\n",
    "consumoMesTotal = df.groupby(\"AnoMes\")[\"Consumo_kWh\"].sum()\n",
    "\n",
    "plt.plot(consumoMesTotal.index, consumoMesTotal.values, marker='o')\n",
    "plt.title(\"Consumo Total por Mês\")\n",
    "plt.xlabel(\"Mês\")\n",
    "plt.ylabel(\"Consumo (kWh)\")\n",
    "plt.grid(True)\n",
    "plt.xticks(rotation=45)\n",
    "plt.show()"
   ]
  },
  {
   "cell_type": "code",
   "execution_count": null,
   "id": "6b75faef",
   "metadata": {},
   "outputs": [],
   "source": []
  }
 ],
 "metadata": {
  "kernelspec": {
   "display_name": "Python 3 (ipykernel)",
   "language": "python",
   "name": "python3"
  },
  "language_info": {
   "codemirror_mode": {
    "name": "ipython",
    "version": 3
   },
   "file_extension": ".py",
   "mimetype": "text/x-python",
   "name": "python",
   "nbconvert_exporter": "python",
   "pygments_lexer": "ipython3",
   "version": "3.13.2"
  }
 },
 "nbformat": 4,
 "nbformat_minor": 5
}
