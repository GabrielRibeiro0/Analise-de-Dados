{
 "cells": [
  {
   "cell_type": "markdown",
   "id": "0b75f5db",
   "metadata": {},
   "source": [
    "🎯 Desafio dia 71 — Pedidos em Restaurante Delivery\n",
    "\n",
    "📂 Dataset: desafio_dia_71_pedidos_delivery.csv\n",
    "\n",
    "🔍 Contexto: Você trabalha como analista em uma plataforma de delivery. Seu time deseja entender melhor o comportamento dos pedidos com base na cidade, tipo de comida e horário do dia.\n",
    "\n",
    "🛠️ Tarefas do desafio:\n",
    "\n",
    "Tratamento de dados\n",
    "\n",
    "- Preencha os valores ausentes de valor_pedido com a mediana da coluna.\n",
    "\n",
    "- Preencha os valores ausentes de tempo_entrega_min com a média da coluna.\n",
    "\n",
    "Análise geral\n",
    "\n",
    "- Qual a média de avaliação dos clientes por cidade?\n",
    "\n",
    "- Qual a categoria de comida com maior tempo médio de entrega?\n",
    "\n",
    "Visualização de dados\n",
    "\n",
    "- Crie um gráfico de barras mostrando o número de pedidos por faixa horária.\n",
    "\n",
    "Machine Learning - Regressão\n",
    "\n",
    "- Crie um modelo de regressão para prever o valor_pedido com base nas variáveis:\n",
    "\n",
    "    cidade, categoria_comida, tempo_entrega_min, faixa_horaria\n",
    "\n",
    "    Use RandomForestRegressor, train_test_split, e pd.get_dummies.\n",
    "\n",
    "    Avalie o modelo usando mean_squared_error."
   ]
  },
  {
   "cell_type": "code",
   "execution_count": 21,
   "id": "c1cde7fe",
   "metadata": {},
   "outputs": [],
   "source": [
    "import pandas as pd\n",
    "import seaborn as sns\n",
    "import matplotlib.pyplot as plt\n",
    "from sklearn.model_selection import train_test_split\n",
    "from sklearn.ensemble import RandomForestRegressor\n",
    "from sklearn.metrics import mean_squared_error"
   ]
  },
  {
   "cell_type": "code",
   "execution_count": 2,
   "id": "5bcf6174",
   "metadata": {},
   "outputs": [
    {
     "data": {
      "text/html": [
       "<div>\n",
       "<style scoped>\n",
       "    .dataframe tbody tr th:only-of-type {\n",
       "        vertical-align: middle;\n",
       "    }\n",
       "\n",
       "    .dataframe tbody tr th {\n",
       "        vertical-align: top;\n",
       "    }\n",
       "\n",
       "    .dataframe thead th {\n",
       "        text-align: right;\n",
       "    }\n",
       "</style>\n",
       "<table border=\"1\" class=\"dataframe\">\n",
       "  <thead>\n",
       "    <tr style=\"text-align: right;\">\n",
       "      <th></th>\n",
       "      <th>id_pedido</th>\n",
       "      <th>cidade</th>\n",
       "      <th>categoria_comida</th>\n",
       "      <th>valor_pedido</th>\n",
       "      <th>tempo_entrega_min</th>\n",
       "      <th>faixa_horaria</th>\n",
       "      <th>avaliacao_cliente</th>\n",
       "    </tr>\n",
       "  </thead>\n",
       "  <tbody>\n",
       "    <tr>\n",
       "      <th>0</th>\n",
       "      <td>1</td>\n",
       "      <td>Curitiba</td>\n",
       "      <td>Salada</td>\n",
       "      <td>18.14</td>\n",
       "      <td>35.6</td>\n",
       "      <td>Jantar</td>\n",
       "      <td>3</td>\n",
       "    </tr>\n",
       "    <tr>\n",
       "      <th>1</th>\n",
       "      <td>2</td>\n",
       "      <td>Curitiba</td>\n",
       "      <td>Lanches</td>\n",
       "      <td>40.42</td>\n",
       "      <td>45.9</td>\n",
       "      <td>Madrugada</td>\n",
       "      <td>1</td>\n",
       "    </tr>\n",
       "    <tr>\n",
       "      <th>2</th>\n",
       "      <td>3</td>\n",
       "      <td>São Paulo</td>\n",
       "      <td>Brasileira</td>\n",
       "      <td>66.32</td>\n",
       "      <td>10.0</td>\n",
       "      <td>Almoço</td>\n",
       "      <td>1</td>\n",
       "    </tr>\n",
       "    <tr>\n",
       "      <th>3</th>\n",
       "      <td>4</td>\n",
       "      <td>São Paulo</td>\n",
       "      <td>Brasileira</td>\n",
       "      <td>30.14</td>\n",
       "      <td>NaN</td>\n",
       "      <td>Almoço</td>\n",
       "      <td>1</td>\n",
       "    </tr>\n",
       "    <tr>\n",
       "      <th>4</th>\n",
       "      <td>5</td>\n",
       "      <td>Belo Horizonte</td>\n",
       "      <td>Brasileira</td>\n",
       "      <td>18.10</td>\n",
       "      <td>35.8</td>\n",
       "      <td>Almoço</td>\n",
       "      <td>5</td>\n",
       "    </tr>\n",
       "  </tbody>\n",
       "</table>\n",
       "</div>"
      ],
      "text/plain": [
       "   id_pedido          cidade categoria_comida  valor_pedido  \\\n",
       "0          1        Curitiba           Salada         18.14   \n",
       "1          2        Curitiba          Lanches         40.42   \n",
       "2          3       São Paulo       Brasileira         66.32   \n",
       "3          4       São Paulo       Brasileira         30.14   \n",
       "4          5  Belo Horizonte       Brasileira         18.10   \n",
       "\n",
       "   tempo_entrega_min faixa_horaria  avaliacao_cliente  \n",
       "0               35.6        Jantar                  3  \n",
       "1               45.9     Madrugada                  1  \n",
       "2               10.0        Almoço                  1  \n",
       "3                NaN        Almoço                  1  \n",
       "4               35.8        Almoço                  5  "
      ]
     },
     "execution_count": 2,
     "metadata": {},
     "output_type": "execute_result"
    }
   ],
   "source": [
    "df = pd.read_csv(\"desafio_dia_71_pedidos_delivery.csv\")\n",
    "df.head()"
   ]
  },
  {
   "cell_type": "code",
   "execution_count": 3,
   "id": "f4d92379",
   "metadata": {},
   "outputs": [
    {
     "data": {
      "text/plain": [
       "np.int64(0)"
      ]
     },
     "execution_count": 3,
     "metadata": {},
     "output_type": "execute_result"
    }
   ],
   "source": [
    "#Preencha os valores ausentes de valor_pedido com a mediana da coluna.\n",
    "df[\"valor_pedido\"] = df[\"valor_pedido\"].fillna(df[\"valor_pedido\"].median())\n",
    "df[\"valor_pedido\"].isna().sum()"
   ]
  },
  {
   "cell_type": "code",
   "execution_count": 4,
   "id": "ab6aa976",
   "metadata": {},
   "outputs": [
    {
     "data": {
      "text/plain": [
       "np.int64(0)"
      ]
     },
     "execution_count": 4,
     "metadata": {},
     "output_type": "execute_result"
    }
   ],
   "source": [
    "#Preencha os valores ausentes de tempo_entrega_min com a média da coluna.\n",
    "df[\"tempo_entrega_min\"] = df[\"tempo_entrega_min\"].fillna(df[\"tempo_entrega_min\"].mean())\n",
    "df[\"tempo_entrega_min\"].isna().sum()"
   ]
  },
  {
   "cell_type": "code",
   "execution_count": 6,
   "id": "f9eda2fd",
   "metadata": {},
   "outputs": [
    {
     "name": "stdout",
     "output_type": "stream",
     "text": [
      "cidade\n",
      "Porto Alegre      3.284314\n",
      "Belo Horizonte    3.151163\n",
      "Curitiba          2.879630\n",
      "Rio de Janeiro    2.788235\n",
      "São Paulo         2.752809\n",
      "Name: avaliacao_cliente, dtype: float64\n"
     ]
    }
   ],
   "source": [
    "#Qual a média de avaliação dos clientes por cidade?\n",
    "avaliacao_cliente_cidade = df.groupby(\"cidade\")[\"avaliacao_cliente\"].mean().sort_values(ascending=False)\n",
    "print(avaliacao_cliente_cidade)"
   ]
  },
  {
   "cell_type": "code",
   "execution_count": 9,
   "id": "2ddf7a71",
   "metadata": {},
   "outputs": [
    {
     "name": "stdout",
     "output_type": "stream",
     "text": [
      "categoria_comida\n",
      "Pizza         35.99\n",
      "Lanches       35.46\n",
      "Brasileira    35.38\n",
      "Salada        34.54\n",
      "Sushi         34.48\n",
      "Name: tempo_entrega_min, dtype: float64\n"
     ]
    }
   ],
   "source": [
    "#Qual a categoria de comida com maior tempo médio de entrega?\n",
    "comida_tempo_entrega = df.groupby(\"categoria_comida\")[\"tempo_entrega_min\"].mean().sort_values(ascending=False).round(2)\n",
    "print(comida_tempo_entrega)"
   ]
  },
  {
   "cell_type": "code",
   "execution_count": 20,
   "id": "b584ae8e",
   "metadata": {},
   "outputs": [
    {
     "data": {
      "image/png": "[encoded data removed]",
      "text/plain": [
       "<Figure size 640x480 with 1 Axes>"
      ]
     },
     "metadata": {},
     "output_type": "display_data"
    }
   ],
   "source": [
    "#Crie um gráfico de barras mostrando o número de pedidos por faixa horária.\n",
    "sns.countplot(df, x=\"faixa_horaria\")\n",
    "plt.title(\"Número de pedidos por faixa horária\")\n",
    "plt.ylabel(\"Total de Pedidos\")\n",
    "plt.xlabel(\"Faixa Horária\")\n",
    "plt.grid(axis=\"y\", linestyle=\"--\")\n",
    "plt.show()"
   ]
  },
  {
   "cell_type": "code",
   "execution_count": 25,
   "id": "298d4572",
   "metadata": {},
   "outputs": [
    {
     "name": "stdout",
     "output_type": "stream",
     "text": [
      "369.66322230315683\n"
     ]
    }
   ],
   "source": [
    "#Crie um modelo de regressão para prever o valor_pedido com base nas variáveis:\n",
    "X = df[[\"cidade\", \"categoria_comida\", \"tempo_entrega_min\", \"faixa_horaria\"]]\n",
    "y = df[\"valor_pedido\"]\n",
    "\n",
    "X = pd.get_dummies(X)\n",
    "\n",
    "X_train, X_test, y_train, y_test = train_test_split(X, y, test_size=0.3, random_state=42)\n",
    "\n",
    "model = RandomForestRegressor()\n",
    "model.fit(X_train, y_train)\n",
    "\n",
    "y_pred = model.predict(X_test)\n",
    "print(mean_squared_error(y_test, y_pred))"
   ]
  },
  {
   "cell_type": "code",
   "execution_count": null,
   "id": "c432614e",
   "metadata": {},
   "outputs": [],
   "source": []
  }
 ],
 "metadata": {
  "kernelspec": {
   "display_name": "Python (jupyter_env)",
   "language": "python",
   "name": "jupyter_env"
  },
  "language_info": {
   "codemirror_mode": {
    "name": "ipython",
    "version": 3
   },
   "file_extension": ".py",
   "mimetype": "text/x-python",
   "name": "python",
   "nbconvert_exporter": "python",
   "pygments_lexer": "ipython3",
   "version": "3.13.2"
  }
 },
 "nbformat": 4,
 "nbformat_minor": 5
}
