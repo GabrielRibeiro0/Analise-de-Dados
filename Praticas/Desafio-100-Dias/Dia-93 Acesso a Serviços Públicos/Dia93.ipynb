{
 "cells": [
  {
   "cell_type": "markdown",
   "id": "55a0eee8",
   "metadata": {},
   "source": [
    "🎯 Desafio dia 93 — Acesso a Serviços Públicos\n",
    "\n",
    "📂 Dataset: desafio_dia_93_servicos_publicos.csv\n",
    "📥 Clique aqui para baixar o CSV\n",
    "\n",
    "🔍 Contexto: Uma prefeitura deseja entender como diferentes bairros e perfis de cidadãos avaliam os serviços públicos disponíveis, como saúde, educação, transporte, segurança e lazer.\n",
    "\n",
    "🛠️ Tarefas do desafio\n",
    "🧹 Tratamento de dados\n",
    "\n",
    "- Preencha os valores ausentes em avaliacao_servico com a moda por serviço acessado (groupby().transform('mode') com .fillna()).\n",
    "\n",
    "📊 Análise geral\n",
    "\n",
    "- Qual serviço tem a pior avaliação média geral?\n",
    "\n",
    "- Qual bairro apresenta as avaliações mais altas em serviços de transporte?\n",
    "\n",
    "📈 Visualização de dados\n",
    "\n",
    "- Crie um gráfico de barras agrupadas com a média de avaliação por servico_acessado, separado por bairro.\n",
    "\n",
    "🤖 Machine Learning - Classificação leve\n",
    "\n",
    "- Crie uma nova coluna binária avaliacao_alta (1 para notas 4 ou 5, 0 para as demais).\n",
    "\n",
    "- Treine um modelo de LogisticRegression para prever avaliacao_alta com base em:\n",
    "\n",
    "        bairro, genero, idade, servico_acessado\n",
    "\n",
    "    Use:\n",
    "\n",
    "        get_dummies, train_test_split, LogisticRegression\n",
    "\n",
    "        Avalie com confusion_matrix e classification_report."
   ]
  },
  {
   "cell_type": "code",
   "execution_count": 1,
   "id": "2afc42ff",
   "metadata": {},
   "outputs": [],
   "source": [
    "import pandas as pd\n",
    "import seaborn as sns\n",
    "import matplotlib.pyplot as plt\n",
    "from sklearn.model_selection import train_test_split\n",
    "from sklearn.linear_model import LogisticRegression\n",
    "from sklearn.metrics import confusion_matrix, classification_report"
   ]
  },
  {
   "cell_type": "code",
   "execution_count": 2,
   "id": "f3140215",
   "metadata": {},
   "outputs": [
    {
     "data": {
      "text/html": [
       "<div>\n",
       "<style scoped>\n",
       "    .dataframe tbody tr th:only-of-type {\n",
       "        vertical-align: middle;\n",
       "    }\n",
       "\n",
       "    .dataframe tbody tr th {\n",
       "        vertical-align: top;\n",
       "    }\n",
       "\n",
       "    .dataframe thead th {\n",
       "        text-align: right;\n",
       "    }\n",
       "</style>\n",
       "<table border=\"1\" class=\"dataframe\">\n",
       "  <thead>\n",
       "    <tr style=\"text-align: right;\">\n",
       "      <th></th>\n",
       "      <th>id_cidadao</th>\n",
       "      <th>bairro</th>\n",
       "      <th>genero</th>\n",
       "      <th>idade</th>\n",
       "      <th>servico_acessado</th>\n",
       "      <th>avaliacao_servico</th>\n",
       "    </tr>\n",
       "  </thead>\n",
       "  <tbody>\n",
       "    <tr>\n",
       "      <th>0</th>\n",
       "      <td>9000</td>\n",
       "      <td>Zona Leste</td>\n",
       "      <td>Masculino</td>\n",
       "      <td>28</td>\n",
       "      <td>Segurança</td>\n",
       "      <td>5.0</td>\n",
       "    </tr>\n",
       "    <tr>\n",
       "      <th>1</th>\n",
       "      <td>9001</td>\n",
       "      <td>Zona Oeste</td>\n",
       "      <td>Feminino</td>\n",
       "      <td>36</td>\n",
       "      <td>Transporte</td>\n",
       "      <td>5.0</td>\n",
       "    </tr>\n",
       "    <tr>\n",
       "      <th>2</th>\n",
       "      <td>9002</td>\n",
       "      <td>Centro</td>\n",
       "      <td>Outro</td>\n",
       "      <td>53</td>\n",
       "      <td>Segurança</td>\n",
       "      <td>5.0</td>\n",
       "    </tr>\n",
       "    <tr>\n",
       "      <th>3</th>\n",
       "      <td>9003</td>\n",
       "      <td>Zona Norte</td>\n",
       "      <td>Masculino</td>\n",
       "      <td>50</td>\n",
       "      <td>Transporte</td>\n",
       "      <td>5.0</td>\n",
       "    </tr>\n",
       "    <tr>\n",
       "      <th>4</th>\n",
       "      <td>9004</td>\n",
       "      <td>Centro</td>\n",
       "      <td>Feminino</td>\n",
       "      <td>54</td>\n",
       "      <td>Transporte</td>\n",
       "      <td>2.0</td>\n",
       "    </tr>\n",
       "  </tbody>\n",
       "</table>\n",
       "</div>"
      ],
      "text/plain": [
       "   id_cidadao      bairro     genero  idade servico_acessado  \\\n",
       "0        9000  Zona Leste  Masculino     28        Segurança   \n",
       "1        9001  Zona Oeste   Feminino     36       Transporte   \n",
       "2        9002      Centro      Outro     53        Segurança   \n",
       "3        9003  Zona Norte  Masculino     50       Transporte   \n",
       "4        9004      Centro   Feminino     54       Transporte   \n",
       "\n",
       "   avaliacao_servico  \n",
       "0                5.0  \n",
       "1                5.0  \n",
       "2                5.0  \n",
       "3                5.0  \n",
       "4                2.0  "
      ]
     },
     "execution_count": 2,
     "metadata": {},
     "output_type": "execute_result"
    }
   ],
   "source": [
    "df = pd.read_csv(\"desafio_dia_93_servicos_publicos.csv\")\n",
    "df.head()"
   ]
  },
  {
   "cell_type": "code",
   "execution_count": 7,
   "id": "b0c91d45",
   "metadata": {},
   "outputs": [
    {
     "data": {
      "text/plain": [
       "np.int64(0)"
      ]
     },
     "execution_count": 7,
     "metadata": {},
     "output_type": "execute_result"
    }
   ],
   "source": [
    "#Preencha os valores ausentes em avaliacao_servico com a moda por serviço acessado.\n",
    "df[\"avaliacao_servico\"] = df[\"avaliacao_servico\"].fillna(\n",
    "    df.groupby(\"servico_acessado\")[\"avaliacao_servico\"].transform(lambda x: x.mode()[0])\n",
    ")\n",
    "df[\"avaliacao_servico\"].isna().sum()"
   ]
  },
  {
   "cell_type": "code",
   "execution_count": 10,
   "id": "5be00c38",
   "metadata": {},
   "outputs": [
    {
     "name": "stdout",
     "output_type": "stream",
     "text": [
      "servico_acessado\n",
      "Saúde         3.250000\n",
      "Lazer         3.315217\n",
      "Transporte    3.403670\n",
      "Educação      3.494737\n",
      "Segurança     3.510417\n",
      "Name: avaliacao_servico, dtype: float64\n"
     ]
    }
   ],
   "source": [
    "#Qual serviço tem a pior avaliação média geral?\n",
    "servico_avaliacao = df.groupby(\"servico_acessado\")[\"avaliacao_servico\"].mean().sort_values()\n",
    "print(servico_avaliacao)"
   ]
  },
  {
   "cell_type": "code",
   "execution_count": 13,
   "id": "0a820fbc",
   "metadata": {},
   "outputs": [
    {
     "name": "stdout",
     "output_type": "stream",
     "text": [
      "bairro\n",
      "Zona Norte    3.708333\n",
      "Zona Sul      3.588235\n",
      "Zona Oeste    3.450000\n",
      "Zona Leste    3.380952\n",
      "Centro        3.000000\n",
      "Name: avaliacao_servico, dtype: float64\n"
     ]
    }
   ],
   "source": [
    "#Qual bairro apresenta as avaliações mais altas em serviços de transporte?\n",
    "servico_transporte = df[df[\"servico_acessado\"] == \"Transporte\"]\n",
    "avaliacao_transporte = servico_transporte.groupby(\"bairro\")[\"avaliacao_servico\"].mean().sort_values(ascending=False)\n",
    "print(avaliacao_transporte)"
   ]
  },
  {
   "cell_type": "code",
   "execution_count": 21,
   "id": "4bc36a36",
   "metadata": {},
   "outputs": [
    {
     "data": {
      "image/png": "[encoded data removed]",
      "text/plain": [
       "<Figure size 640x480 with 1 Axes>"
      ]
     },
     "metadata": {},
     "output_type": "display_data"
    }
   ],
   "source": [
    "#Crie um gráfico de barras agrupadas com a média de avaliação por servico_acessado, separado por bairro.\n",
    "media_avaliacao = df.groupby([\"servico_acessado\", \"bairro\"])[\"avaliacao_servico\"].mean().reset_index()\n",
    "\n",
    "sns.barplot(data=media_avaliacao, x=\"servico_acessado\", y=\"avaliacao_servico\", hue=\"bairro\")\n",
    "plt.title(\"Média de Avaliação por Serviço e Bairro\")\n",
    "plt.ylabel(\"Avaliação Média\")\n",
    "plt.xlabel(\"Serviço Acessado\")\n",
    "plt.show()"
   ]
  },
  {
   "cell_type": "code",
   "execution_count": 22,
   "id": "6b61fd49",
   "metadata": {},
   "outputs": [
    {
     "name": "stdout",
     "output_type": "stream",
     "text": [
      "[[51 26]\n",
      " [46 27]]\n",
      "              precision    recall  f1-score   support\n",
      "\n",
      "           0       0.53      0.66      0.59        77\n",
      "           1       0.51      0.37      0.43        73\n",
      "\n",
      "    accuracy                           0.52       150\n",
      "   macro avg       0.52      0.52      0.51       150\n",
      "weighted avg       0.52      0.52      0.51       150\n",
      "\n"
     ]
    }
   ],
   "source": [
    "#Crie uma nova coluna binária avaliacao_alta (1 para notas 4 ou 5, 0 para as demais).\n",
    "df[\"avaliacao_alta\"] = df[\"avaliacao_servico\"].isin([4, 5]).astype(int)\n",
    "\n",
    "#Treine um modelo de LogisticRegression para prever avaliacao_alta com base em:\n",
    "X = df[[\"bairro\", \"genero\", \"idade\", \"servico_acessado\"]]\n",
    "y = df[\"avaliacao_alta\"]\n",
    "\n",
    "X = pd.get_dummies(X)\n",
    "\n",
    "X_train, X_test, y_train, y_test = train_test_split(X, y, test_size=0.3, random_state=42)\n",
    "\n",
    "modelo = LogisticRegression(max_iter=1000)\n",
    "modelo.fit(X_train, y_train)\n",
    "\n",
    "y_pred = modelo.predict(X_test)\n",
    "\n",
    "print(confusion_matrix(y_test, y_pred))\n",
    "print(classification_report(y_test, y_pred))"
   ]
  },
  {
   "cell_type": "code",
   "execution_count": null,
   "id": "13c2b027",
   "metadata": {},
   "outputs": [],
   "source": []
  }
 ],
 "metadata": {
  "kernelspec": {
   "display_name": "Python (jupyter_env)",
   "language": "python",
   "name": "jupyter_env"
  },
  "language_info": {
   "codemirror_mode": {
    "name": "ipython",
    "version": 3
   },
   "file_extension": ".py",
   "mimetype": "text/x-python",
   "name": "python",
   "nbconvert_exporter": "python",
   "pygments_lexer": "ipython3",
   "version": "3.13.2"
  }
 },
 "nbformat": 4,
 "nbformat_minor": 5
}
