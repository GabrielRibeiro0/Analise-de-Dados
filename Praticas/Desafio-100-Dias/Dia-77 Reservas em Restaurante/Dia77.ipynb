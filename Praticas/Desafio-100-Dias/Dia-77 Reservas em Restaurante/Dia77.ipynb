{
 "cells": [
  {
   "cell_type": "markdown",
   "id": "6bc0e4d0-a98d-4cc0-ae12-b37de8215780",
   "metadata": {},
   "source": [
    "🎯 Desafio dia 77 — Reservas em Restaurante\n",
    "\n",
    "📂 Dataset: desafio_dia_77_reservas_restaurante.csv\n",
    "\n",
    "🔍 Contexto: Um restaurante está analisando as reservas realizadas ao longo da semana. Cada registro representa uma reserva com informações sobre o dia, o número de pessoas, o turno, a origem e o status da reserva.\n",
    "\n",
    "🛠️ Tarefas do desafio:\n",
    "\n",
    "🧹 Tratamento de dados\n",
    "- Preencha os valores ausentes na coluna num_pessoas com a mediana da coluna.\n",
    "\n",
    "- Preencha os valores ausentes na coluna origem_reserva com o valor mais frequente.\n",
    "\n",
    "📊 Análise geral\n",
    "- Qual o turno com mais reservas realizadas?\n",
    "\n",
    "- Qual é a média de pessoas por reserva em cada status (Compareceu, Cancelou, etc.)?\n",
    "\n",
    "📈 Visualização de dados\n",
    "- Crie um gráfico de barras mostrando a quantidade de reservas por origem (origem_reserva), separadas por status (status_reserva).\n",
    "\n",
    "🤖 Machine Learning - Classificação\n",
    "- Crie um modelo de classificação para prever o status_reserva com base em:\n",
    "\n",
    "    dia_semana, turno, num_pessoas e origem_reserva\n",
    "\n",
    "    Use train_test_split, get_dummies, RandomForestClassifier e avalie o modelo com accuracy_score."
   ]
  },
  {
   "cell_type": "code",
   "execution_count": 31,
   "id": "941aa1a7-0cd1-4376-bd89-aea9be0556b0",
   "metadata": {},
   "outputs": [],
   "source": [
    "import pandas as pd\n",
    "import seaborn as sns\n",
    "import matplotlib.pyplot as plt\n",
    "from sklearn.model_selection import train_test_split\n",
    "from sklearn.ensemble import RandomForestClassifier\n",
    "from sklearn.metrics import accuracy_score"
   ]
  },
  {
   "cell_type": "code",
   "execution_count": 23,
   "id": "bf1fd624-e5ed-4a83-a1ea-95e0bac5c6b9",
   "metadata": {},
   "outputs": [
    {
     "data": {
      "text/html": [
       "<div>\n",
       "<style scoped>\n",
       "    .dataframe tbody tr th:only-of-type {\n",
       "        vertical-align: middle;\n",
       "    }\n",
       "\n",
       "    .dataframe tbody tr th {\n",
       "        vertical-align: top;\n",
       "    }\n",
       "\n",
       "    .dataframe thead th {\n",
       "        text-align: right;\n",
       "    }\n",
       "</style>\n",
       "<table border=\"1\" class=\"dataframe\">\n",
       "  <thead>\n",
       "    <tr style=\"text-align: right;\">\n",
       "      <th></th>\n",
       "      <th>id_reserva</th>\n",
       "      <th>dia_semana</th>\n",
       "      <th>turno</th>\n",
       "      <th>num_pessoas</th>\n",
       "      <th>origem_reserva</th>\n",
       "      <th>status_reserva</th>\n",
       "    </tr>\n",
       "  </thead>\n",
       "  <tbody>\n",
       "    <tr>\n",
       "      <th>0</th>\n",
       "      <td>6001</td>\n",
       "      <td>Sexta</td>\n",
       "      <td>Almoço</td>\n",
       "      <td>4.0</td>\n",
       "      <td>Presencial</td>\n",
       "      <td>Não Compareceu</td>\n",
       "    </tr>\n",
       "    <tr>\n",
       "      <th>1</th>\n",
       "      <td>6002</td>\n",
       "      <td>Sexta</td>\n",
       "      <td>Jantar</td>\n",
       "      <td>1.0</td>\n",
       "      <td>Telefone</td>\n",
       "      <td>Compareceu</td>\n",
       "    </tr>\n",
       "    <tr>\n",
       "      <th>2</th>\n",
       "      <td>6003</td>\n",
       "      <td>Quinta</td>\n",
       "      <td>Jantar</td>\n",
       "      <td>3.0</td>\n",
       "      <td>Telefone</td>\n",
       "      <td>Compareceu</td>\n",
       "    </tr>\n",
       "    <tr>\n",
       "      <th>3</th>\n",
       "      <td>6004</td>\n",
       "      <td>Sábado</td>\n",
       "      <td>Almoço</td>\n",
       "      <td>4.0</td>\n",
       "      <td>App</td>\n",
       "      <td>Cancelou</td>\n",
       "    </tr>\n",
       "    <tr>\n",
       "      <th>4</th>\n",
       "      <td>6005</td>\n",
       "      <td>Segunda</td>\n",
       "      <td>Almoço</td>\n",
       "      <td>5.0</td>\n",
       "      <td>Site</td>\n",
       "      <td>Compareceu</td>\n",
       "    </tr>\n",
       "  </tbody>\n",
       "</table>\n",
       "</div>"
      ],
      "text/plain": [
       "   id_reserva dia_semana   turno  num_pessoas origem_reserva  status_reserva\n",
       "0        6001      Sexta  Almoço          4.0     Presencial  Não Compareceu\n",
       "1        6002      Sexta  Jantar          1.0       Telefone      Compareceu\n",
       "2        6003     Quinta  Jantar          3.0       Telefone      Compareceu\n",
       "3        6004     Sábado  Almoço          4.0            App        Cancelou\n",
       "4        6005    Segunda  Almoço          5.0           Site      Compareceu"
      ]
     },
     "execution_count": 23,
     "metadata": {},
     "output_type": "execute_result"
    }
   ],
   "source": [
    "df = pd.read_csv(\"desafio_dia_77_reservas_restaurante.csv\")\n",
    "df.head()"
   ]
  },
  {
   "cell_type": "code",
   "execution_count": 4,
   "id": "ffdf0970-5d9c-47e2-8152-3b0959aaf3d5",
   "metadata": {},
   "outputs": [
    {
     "data": {
      "text/plain": [
       "0"
      ]
     },
     "execution_count": 4,
     "metadata": {},
     "output_type": "execute_result"
    }
   ],
   "source": [
    "#Preencha os valores ausentes na coluna num_pessoas com a mediana da coluna.\n",
    "df[\"num_pessoas\"] = df[\"num_pessoas\"].fillna(df[\"num_pessoas\"].median())\n",
    "df[\"num_pessoas\"].isna().sum()"
   ]
  },
  {
   "cell_type": "code",
   "execution_count": 5,
   "id": "e2ff1cfc-9f5b-4d69-84b9-b786169752ea",
   "metadata": {},
   "outputs": [
    {
     "data": {
      "text/plain": [
       "0"
      ]
     },
     "execution_count": 5,
     "metadata": {},
     "output_type": "execute_result"
    }
   ],
   "source": [
    "#Preencha os valores ausentes na coluna origem_reserva com o valor mais frequente.\n",
    "df[\"origem_reserva\"] = df[\"origem_reserva\"].fillna(df[\"origem_reserva\"].mode()[0])\n",
    "df[\"origem_reserva\"].isna().sum()"
   ]
  },
  {
   "cell_type": "code",
   "execution_count": 7,
   "id": "ecef1e82-2366-4a68-a0f4-8ff9617e40c1",
   "metadata": {},
   "outputs": [
    {
     "name": "stdout",
     "output_type": "stream",
     "text": [
      "turno\n",
      "Almoço    321\n",
      "Jantar    179\n",
      "Name: count, dtype: int64\n"
     ]
    }
   ],
   "source": [
    "#Qual o turno com mais reservas realizadas?\n",
    "turno_reservas = df[\"turno\"].value_counts()\n",
    "print(turno_reservas)"
   ]
  },
  {
   "cell_type": "code",
   "execution_count": 9,
   "id": "39d9978e-98e8-4e33-a6f2-e2f9f656f2aa",
   "metadata": {},
   "outputs": [
    {
     "name": "stdout",
     "output_type": "stream",
     "text": [
      "status_reserva\n",
      "Cancelou          3.29\n",
      "Compareceu        3.17\n",
      "Não Compareceu    2.79\n",
      "Name: num_pessoas, dtype: float64\n"
     ]
    }
   ],
   "source": [
    "#Qual é a média de pessoas por reserva em cada status (Compareceu, Cancelou, etc.)?\n",
    "media_pessoas_status_reserva = df.groupby(\"status_reserva\")[\"num_pessoas\"].mean().round(2)\n",
    "print(media_pessoas_status_reserva)"
   ]
  },
  {
   "cell_type": "code",
   "execution_count": 29,
   "id": "d85f31cf-a4db-4b05-abf5-f6579d10cbce",
   "metadata": {},
   "outputs": [
    {
     "data": {
      "image/png": "[encoded data removed]",
      "text/plain": [
       "<Figure size 640x480 with 1 Axes>"
      ]
     },
     "metadata": {},
     "output_type": "display_data"
    }
   ],
   "source": [
    "#Crie um gráfico de barras mostrando a quantidade de reservas por origem (origem_reserva), separadas por status (status_reserva).\n",
    "contagem = df.groupby([\"origem_reserva\", \"status_reserva\"]).size().reset_index(name=\"contagem\")\n",
    "sns.barplot(contagem, x=\"origem_reserva\", y=\"contagem\", hue=\"status_reserva\")\n",
    "plt.title(\"Reservas por Origem e Status\")\n",
    "plt.xlabel(\"Origem da Reserva\")\n",
    "plt.ylabel(\"Quantidade de Reservas\")\n",
    "plt.grid(axis=\"y\", linestyle=\"--\")"
   ]
  },
  {
   "cell_type": "code",
   "execution_count": 33,
   "id": "3969aba8-a36f-4fb0-9481-bece27114857",
   "metadata": {},
   "outputs": [
    {
     "name": "stdout",
     "output_type": "stream",
     "text": [
      "0.5866666666666667\n"
     ]
    }
   ],
   "source": [
    "#Crie um modelo de classificação para prever o status_reserva com base em:\n",
    "X = df[[\"dia_semana\", \"turno\", \"num_pessoas\", \"origem_reserva\"]]\n",
    "y = df[\"status_reserva\"]\n",
    "\n",
    "X = pd.get_dummies(X)\n",
    "\n",
    "X_train, X_test, y_train, y_test = train_test_split(X, y, test_size=0.3, random_state=42)\n",
    "\n",
    "modelo = RandomForestClassifier(random_state=42)\n",
    "modelo.fit(X_train, y_train)\n",
    "\n",
    "y_pred = modelo.predict(X_test)\n",
    "\n",
    "print(accuracy_score(y_test, y_pred))"
   ]
  },
  {
   "cell_type": "code",
   "execution_count": null,
   "id": "5bf4c15f-f707-4c32-93af-4d8a4fe5c98e",
   "metadata": {},
   "outputs": [],
   "source": []
  }
 ],
 "metadata": {
  "kernelspec": {
   "display_name": "Python 3 (ipykernel)",
   "language": "python",
   "name": "python3"
  },
  "language_info": {
   "codemirror_mode": {
    "name": "ipython",
    "version": 3
   },
   "file_extension": ".py",
   "mimetype": "text/x-python",
   "name": "python",
   "nbconvert_exporter": "python",
   "pygments_lexer": "ipython3",
   "version": "3.12.7"
  }
 },
 "nbformat": 4,
 "nbformat_minor": 5
}
