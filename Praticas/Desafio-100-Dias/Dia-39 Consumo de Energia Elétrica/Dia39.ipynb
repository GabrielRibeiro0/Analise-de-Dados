{
 "cells": [
  {
   "cell_type": "markdown",
   "id": "9736b1a7-a8ef-4e5c-bf54-4ec1427153b8",
   "metadata": {},
   "source": [
    "Desafio 39: Consumo de Energia Elétrica\n",
    "📂 Dataset: Informações mensais de consumo de energia elétrica em diferentes bairros.\n",
    "Colunas: ID, Bairro, Tipo_Consumidor, Consumo_kWh, Mês\n",
    "\n",
    "🎯 Tarefas:\n",
    "\n",
    "Corrija inconsistências no campo Tipo_Consumidor (ex: \"residencial\").\n",
    "\n",
    "Trate o valor ausente em Consumo_kWh.\n",
    "\n",
    "Qual o consumo médio de energia por tipo de consumidor?\n",
    "\n",
    "Qual bairro teve maior consumo total no trimestre?\n",
    "\n",
    "Crie um gráfico de barras mostrando o consumo médio por mês."
   ]
  },
  {
   "cell_type": "code",
   "execution_count": 20,
   "id": "fd6b9ec2-c61d-44b4-8074-17b3eeabc3ed",
   "metadata": {},
   "outputs": [],
   "source": [
    "import pandas as pd\n",
    "import matplotlib.pyplot as plt"
   ]
  },
  {
   "cell_type": "code",
   "execution_count": 2,
   "id": "077f19e4-fe68-49d6-90fd-5ec9ab752035",
   "metadata": {},
   "outputs": [
    {
     "data": {
      "text/html": [
       "<div>\n",
       "<style scoped>\n",
       "    .dataframe tbody tr th:only-of-type {\n",
       "        vertical-align: middle;\n",
       "    }\n",
       "\n",
       "    .dataframe tbody tr th {\n",
       "        vertical-align: top;\n",
       "    }\n",
       "\n",
       "    .dataframe thead th {\n",
       "        text-align: right;\n",
       "    }\n",
       "</style>\n",
       "<table border=\"1\" class=\"dataframe\">\n",
       "  <thead>\n",
       "    <tr style=\"text-align: right;\">\n",
       "      <th></th>\n",
       "      <th>ID</th>\n",
       "      <th>Bairro</th>\n",
       "      <th>Tipo_Consumidor</th>\n",
       "      <th>Consumo_kWh</th>\n",
       "      <th>Mês</th>\n",
       "    </tr>\n",
       "  </thead>\n",
       "  <tbody>\n",
       "    <tr>\n",
       "      <th>0</th>\n",
       "      <td>CE0001</td>\n",
       "      <td>Vila Esperança</td>\n",
       "      <td>Comercial</td>\n",
       "      <td>376.72</td>\n",
       "      <td>Março</td>\n",
       "    </tr>\n",
       "    <tr>\n",
       "      <th>1</th>\n",
       "      <td>CE0002</td>\n",
       "      <td>Vila Esperança</td>\n",
       "      <td>Comercial</td>\n",
       "      <td>475.93</td>\n",
       "      <td>Março</td>\n",
       "    </tr>\n",
       "    <tr>\n",
       "      <th>2</th>\n",
       "      <td>CE0003</td>\n",
       "      <td>Industrial</td>\n",
       "      <td>Poder Público</td>\n",
       "      <td>437.48</td>\n",
       "      <td>Janeiro</td>\n",
       "    </tr>\n",
       "    <tr>\n",
       "      <th>3</th>\n",
       "      <td>CE0004</td>\n",
       "      <td>Industrial</td>\n",
       "      <td>Comercial</td>\n",
       "      <td>527.78</td>\n",
       "      <td>Março</td>\n",
       "    </tr>\n",
       "    <tr>\n",
       "      <th>4</th>\n",
       "      <td>CE0005</td>\n",
       "      <td>Vila Esperança</td>\n",
       "      <td>Industrial</td>\n",
       "      <td>360.19</td>\n",
       "      <td>Janeiro</td>\n",
       "    </tr>\n",
       "  </tbody>\n",
       "</table>\n",
       "</div>"
      ],
      "text/plain": [
       "       ID          Bairro Tipo_Consumidor  Consumo_kWh      Mês\n",
       "0  CE0001  Vila Esperança       Comercial       376.72    Março\n",
       "1  CE0002  Vila Esperança       Comercial       475.93    Março\n",
       "2  CE0003      Industrial   Poder Público       437.48  Janeiro\n",
       "3  CE0004      Industrial       Comercial       527.78    Março\n",
       "4  CE0005  Vila Esperança      Industrial       360.19  Janeiro"
      ]
     },
     "execution_count": 2,
     "metadata": {},
     "output_type": "execute_result"
    }
   ],
   "source": [
    "df = pd.read_csv(\"dia_39_consumo_energia.csv\")\n",
    "df.head()"
   ]
  },
  {
   "cell_type": "code",
   "execution_count": 4,
   "id": "6eacd030-c1e5-4d5d-bfcc-edce27a75133",
   "metadata": {},
   "outputs": [
    {
     "data": {
      "text/plain": [
       "array(['Comercial', 'Poder Público', 'Industrial', 'Residencial'],\n",
       "      dtype=object)"
      ]
     },
     "execution_count": 4,
     "metadata": {},
     "output_type": "execute_result"
    }
   ],
   "source": [
    "#Corrija inconsistências no campo Tipo_Consumidor (ex: \"residencial\").\n",
    "df[\"Tipo_Consumidor\"] = df[\"Tipo_Consumidor\"].str.title()\n",
    "df[\"Tipo_Consumidor\"].unique()"
   ]
  },
  {
   "cell_type": "code",
   "execution_count": 9,
   "id": "ec5faecb-fef6-41e5-9d54-ba503323d51d",
   "metadata": {},
   "outputs": [
    {
     "data": {
      "text/plain": [
       "0"
      ]
     },
     "execution_count": 9,
     "metadata": {},
     "output_type": "execute_result"
    }
   ],
   "source": [
    "#Trate o valor ausente em Consumo_kWh.\n",
    "df[\"Consumo_kWh\"] = pd.to_numeric(df[\"Consumo_kWh\"], errors=\"coerce\")\n",
    "df[\"Consumo_kWh\"] = df[\"Consumo_kWh\"].fillna(\n",
    "    df.groupby(\"Tipo_Consumidor\")[\"Consumo_kWh\"].transform(\"mean\")\n",
    ")\n",
    "df[\"Consumo_kWh\"].isna().sum()\n"
   ]
  },
  {
   "cell_type": "code",
   "execution_count": 11,
   "id": "d5c87a77-1ba8-4a9f-94d3-202c4c36cd07",
   "metadata": {},
   "outputs": [
    {
     "name": "stdout",
     "output_type": "stream",
     "text": [
      "Tipo_Consumidor\n",
      "Comercial        358.70\n",
      "Industrial       346.38\n",
      "Poder Público    364.68\n",
      "Residencial      341.15\n",
      "Name: Consumo_kWh, dtype: float64\n"
     ]
    }
   ],
   "source": [
    "#Qual o consumo médio de energia por tipo de consumidor?\n",
    "consumoConsumidor = df.groupby(\"Tipo_Consumidor\")[\"Consumo_kWh\"].mean().round(2)\n",
    "print(consumoConsumidor)"
   ]
  },
  {
   "cell_type": "code",
   "execution_count": 17,
   "id": "3fd11b9a-b509-450f-82c3-4df089cf74fb",
   "metadata": {},
   "outputs": [
    {
     "name": "stdout",
     "output_type": "stream",
     "text": [
      "O bairro com mais consumo foi: Industrial(30063.49kWh)\n"
     ]
    }
   ],
   "source": [
    "#Qual bairro teve maior consumo total no trimestre?\n",
    "bairroConsumo = df.groupby(\"Bairro\")[\"Consumo_kWh\"].sum().round(2)\n",
    "print(f\"O bairro com mais consumo foi: {bairroConsumo.idxmax()}({bairroConsumo.max()}kWh)\")"
   ]
  },
  {
   "cell_type": "code",
   "execution_count": 32,
   "id": "d2593b34-688b-412d-9146-d871a58c4aaa",
   "metadata": {},
   "outputs": [
    {
     "data": {
      "image/png": "[encoded data removed]",
      "text/plain": [
       "<Figure size 640x480 with 1 Axes>"
      ]
     },
     "metadata": {},
     "output_type": "display_data"
    }
   ],
   "source": [
    "#Crie um gráfico de barras mostrando o consumo médio por mês.\n",
    "consumoMes = df.groupby(\"Mês\")[\"Consumo_kWh\"].mean().round(2)\n",
    "\n",
    "plt.bar(consumoMes.index, consumoMes.values)\n",
    "plt.title(\"consumo kWh médio por mês\")\n",
    "plt.ylabel(\"Consumo_kWh\")\n",
    "plt.xlabel(\"Meses\")\n",
    "plt.grid(axis=\"y\", linestyle=\"--\", alpha=0.7)\n",
    "plt.show()"
   ]
  }
 ],
 "metadata": {
  "kernelspec": {
   "display_name": "Python 3 (ipykernel)",
   "language": "python",
   "name": "python3"
  },
  "language_info": {
   "codemirror_mode": {
    "name": "ipython",
    "version": 3
   },
   "file_extension": ".py",
   "mimetype": "text/x-python",
   "name": "python",
   "nbconvert_exporter": "python",
   "pygments_lexer": "ipython3",
   "version": "3.12.7"
  }
 },
 "nbformat": 4,
 "nbformat_minor": 5
}
