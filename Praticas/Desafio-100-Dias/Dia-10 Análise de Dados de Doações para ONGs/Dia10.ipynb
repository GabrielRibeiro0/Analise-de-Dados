{
 "cells": [
  {
   "cell_type": "markdown",
   "id": "dad6589e-1ad8-493e-9914-07dc63835ce6",
   "metadata": {},
   "source": [
    "Desafio 10: Análise de Dados de Doações para ONGs\n",
    "\n",
    "📂 Dataset: Registro de doações feitas para diferentes ONGs, incluindo a data da doação, nome da ONG, valor doado, tipo de doador (pessoa física ou jurídica) e cidade.\n",
    "\n",
    "🎯 Atividades:\n",
    "\n",
    "Qual ONG recebeu o maior valor total em doações?\n",
    "\n",
    "Qual cidade teve o maior número de doações realizadas?\n",
    "\n",
    "Qual a média de doações feitas por pessoa jurídica?\n",
    "\n",
    "Crie um gráfico de barras horizontais com o total de doações por ONG."
   ]
  },
  {
   "cell_type": "code",
   "execution_count": 55,
   "id": "7c131519-0273-4739-a9a3-ad40f28b5658",
   "metadata": {},
   "outputs": [],
   "source": [
    "import pandas as pd\n",
    "import seaborn as sns\n",
    "import matplotlib.pyplot as plt"
   ]
  },
  {
   "cell_type": "code",
   "execution_count": 3,
   "id": "ce44b7ca-f8bd-4316-b85e-8b819ab3bc5a",
   "metadata": {},
   "outputs": [
    {
     "data": {
      "text/html": [
       "<div>\n",
       "<style scoped>\n",
       "    .dataframe tbody tr th:only-of-type {\n",
       "        vertical-align: middle;\n",
       "    }\n",
       "\n",
       "    .dataframe tbody tr th {\n",
       "        vertical-align: top;\n",
       "    }\n",
       "\n",
       "    .dataframe thead th {\n",
       "        text-align: right;\n",
       "    }\n",
       "</style>\n",
       "<table border=\"1\" class=\"dataframe\">\n",
       "  <thead>\n",
       "    <tr style=\"text-align: right;\">\n",
       "      <th></th>\n",
       "      <th>ID_Doacao</th>\n",
       "      <th>Data</th>\n",
       "      <th>ONG</th>\n",
       "      <th>Valor_Doado</th>\n",
       "      <th>Tipo_Doador</th>\n",
       "      <th>Cidade</th>\n",
       "    </tr>\n",
       "  </thead>\n",
       "  <tbody>\n",
       "    <tr>\n",
       "      <th>0</th>\n",
       "      <td>1</td>\n",
       "      <td>2024-03-01</td>\n",
       "      <td>Criança Feliz</td>\n",
       "      <td>1562.11</td>\n",
       "      <td>Pessoa Jurídica</td>\n",
       "      <td>Rio de Janeiro</td>\n",
       "    </tr>\n",
       "    <tr>\n",
       "      <th>1</th>\n",
       "      <td>2</td>\n",
       "      <td>2024-03-02</td>\n",
       "      <td>Saúde para Todos</td>\n",
       "      <td>806.67</td>\n",
       "      <td>Pessoa Jurídica</td>\n",
       "      <td>Curitiba</td>\n",
       "    </tr>\n",
       "    <tr>\n",
       "      <th>2</th>\n",
       "      <td>3</td>\n",
       "      <td>2024-03-03</td>\n",
       "      <td>Saúde para Todos</td>\n",
       "      <td>1674.20</td>\n",
       "      <td>Pessoa Física</td>\n",
       "      <td>São Paulo</td>\n",
       "    </tr>\n",
       "    <tr>\n",
       "      <th>3</th>\n",
       "      <td>4</td>\n",
       "      <td>2024-03-04</td>\n",
       "      <td>Saúde para Todos</td>\n",
       "      <td>1983.82</td>\n",
       "      <td>Pessoa Jurídica</td>\n",
       "      <td>Belo Horizonte</td>\n",
       "    </tr>\n",
       "    <tr>\n",
       "      <th>4</th>\n",
       "      <td>5</td>\n",
       "      <td>2024-03-05</td>\n",
       "      <td>Criança Feliz</td>\n",
       "      <td>1186.15</td>\n",
       "      <td>Pessoa Física</td>\n",
       "      <td>Belo Horizonte</td>\n",
       "    </tr>\n",
       "  </tbody>\n",
       "</table>\n",
       "</div>"
      ],
      "text/plain": [
       "   ID_Doacao        Data               ONG  Valor_Doado      Tipo_Doador  \\\n",
       "0          1  2024-03-01     Criança Feliz      1562.11  Pessoa Jurídica   \n",
       "1          2  2024-03-02  Saúde para Todos       806.67  Pessoa Jurídica   \n",
       "2          3  2024-03-03  Saúde para Todos      1674.20    Pessoa Física   \n",
       "3          4  2024-03-04  Saúde para Todos      1983.82  Pessoa Jurídica   \n",
       "4          5  2024-03-05     Criança Feliz      1186.15    Pessoa Física   \n",
       "\n",
       "           Cidade  \n",
       "0  Rio de Janeiro  \n",
       "1        Curitiba  \n",
       "2       São Paulo  \n",
       "3  Belo Horizonte  \n",
       "4  Belo Horizonte  "
      ]
     },
     "execution_count": 3,
     "metadata": {},
     "output_type": "execute_result"
    }
   ],
   "source": [
    "#testando dataset\n",
    "df = pd.read_csv(\"dia_10_doacoes_ongs.csv\")\n",
    "df.head()"
   ]
  },
  {
   "cell_type": "code",
   "execution_count": 13,
   "id": "8f966b66-f260-4cb6-9ae2-92fce08e25bb",
   "metadata": {},
   "outputs": [
    {
     "name": "stdout",
     "output_type": "stream",
     "text": [
      "A ONG que recebeu o maior valor em doações foi a: Saúde para Todos, com o total de R$14327.99\n"
     ]
    }
   ],
   "source": [
    "#Qual ONG recebeu o maior valor total em doações?\n",
    "ongDoacaoID = df.groupby(\"ONG\")[\"Valor_Doado\"].sum().idxmax()\n",
    "ongDoacaoV = df.groupby(\"ONG\")[\"Valor_Doado\"].sum().max()\n",
    "print(f\"A ONG que recebeu o maior valor em doações foi a: {ongDoacaoID}, com o total de R${ongDoacaoV}\")"
   ]
  },
  {
   "cell_type": "code",
   "execution_count": 39,
   "id": "47b81740-2b84-4630-ad83-7e8af8d0ab42",
   "metadata": {},
   "outputs": [
    {
     "name": "stdout",
     "output_type": "stream",
     "text": [
      "A cidade que teve o maior número de doações foi: Rio de Janeiro e Belo Horizonte, com o total de 5 doações\n"
     ]
    }
   ],
   "source": [
    "#Qual cidade teve o maior número de doações realizadas?\n",
    "cidadeDoacaoID = df[\"Cidade\"].value_counts()\n",
    "cidadeDoacaoV = df[\"Cidade\"].value_counts().max()\n",
    "print(f\"A cidade que teve o maior número de doações foi: {cidadeDoacaoID.idxmax()} e {cidadeDoacaoID.index[1]}, com o total de {cidadeDoacaoV} doações\")"
   ]
  },
  {
   "cell_type": "code",
   "execution_count": 43,
   "id": "4b6aa5b6-2256-4464-a0a2-438ce5190566",
   "metadata": {},
   "outputs": [
    {
     "name": "stdout",
     "output_type": "stream",
     "text": [
      "A média de doações feitas pro pessoa jurídica foi de: R$1198.11\n"
     ]
    }
   ],
   "source": [
    "#Qual a média de doações feitas por pessoa jurídica?\n",
    "mediaDoacoesPJ = df.groupby(\"Tipo_Doador\")[\"Valor_Doado\"].mean().max()\n",
    "print(f\"A média de doações feitas pro pessoa jurídica foi de: R${mediaDoacoesPJ:.2f}\")"
   ]
  },
  {
   "cell_type": "code",
   "execution_count": 63,
   "id": "ba5c3fd4-d3e3-4a11-808f-9c2001892670",
   "metadata": {},
   "outputs": [
    {
     "data": {
      "image/png": "[encoded data removed]",
      "text/plain": [
       "<Figure size 640x480 with 1 Axes>"
      ]
     },
     "metadata": {},
     "output_type": "display_data"
    }
   ],
   "source": [
    "#Crie um gráfico de barras horizontais com o total de doações por ONG.\n",
    "sns.barplot(df, x=\"Valor_Doado\", y=\"ONG\", legend=False)\n",
    "plt.title(\"Total de doações por ONG\")\n",
    "plt.grid(axis='x', linestyle='-', color='gray', alpha=0.7)\n",
    "sns.set_style(\"white\")\n",
    "plt.show()"
   ]
  }
 ],
 "metadata": {
  "kernelspec": {
   "display_name": "Python 3 (ipykernel)",
   "language": "python",
   "name": "python3"
  },
  "language_info": {
   "codemirror_mode": {
    "name": "ipython",
    "version": 3
   },
   "file_extension": ".py",
   "mimetype": "text/x-python",
   "name": "python",
   "nbconvert_exporter": "python",
   "pygments_lexer": "ipython3",
   "version": "3.12.7"
  }
 },
 "nbformat": 4,
 "nbformat_minor": 5
}
