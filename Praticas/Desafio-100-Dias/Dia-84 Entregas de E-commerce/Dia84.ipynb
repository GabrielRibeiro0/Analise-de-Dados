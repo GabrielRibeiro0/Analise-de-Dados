{
 "cells": [
  {
   "cell_type": "markdown",
   "id": "2f02a55a-4deb-488b-bee3-4fd1041fb79d",
   "metadata": {},
   "source": [
    "🎯 Desafio dia 84 — Entregas de E-commerce\n",
    "\n",
    "📂 Dataset: desafio_dia_84_entregas_ecommerce.csv\n",
    "\n",
    "🔍 Contexto: Uma empresa de e-commerce deseja analisar o desempenho de suas entregas com base na categoria dos produtos, tempo de entrega, transportadora utilizada e status final da entrega.\n",
    "\n",
    "🛠️ Tarefas do desafio\n",
    "\n",
    "🧹 Tratamento de dados\n",
    "- Preencha os valores ausentes em dias_entrega com a média da coluna.\n",
    "\n",
    "📊 Análise geral\n",
    "- Qual transportadora apresenta o maior número de entregas atrasadas?\n",
    "\n",
    "- Qual é o tempo médio de entrega por categoria de produto?\n",
    "\n",
    "📈 Visualização de dados\n",
    "- Crie um gráfico de barras com o número de pedidos por status_entrega.\n",
    "\n",
    "🤖 Machine Learning - Classificação\n",
    "- Crie um modelo para prever o status_entrega com base nas colunas:\n",
    "\n",
    "categoria_produto, transportadora, dias_entrega\n",
    "\n",
    "Utilize:\n",
    "\n",
    "train_test_split\n",
    "\n",
    "get_dummies\n",
    "\n",
    "RandomForestClassifier\n",
    "\n",
    "Avalie o modelo com accuracy_score."
   ]
  },
  {
   "cell_type": "code",
   "execution_count": 7,
   "id": "f9f2230c-489f-4182-8e6a-0bb24fbafdab",
   "metadata": {},
   "outputs": [],
   "source": [
    "import pandas as pd\n",
    "import seaborn as sns\n",
    "import matplotlib.pyplot as plt\n",
    "from sklearn.model_selection import train_test_split\n",
    "from sklearn.ensemble import RandomForestClassifier\n",
    "from sklearn.metrics import accuracy_score"
   ]
  },
  {
   "cell_type": "code",
   "execution_count": 2,
   "id": "84635aea-b460-40c3-b8e1-75a8bac8578b",
   "metadata": {},
   "outputs": [
    {
     "data": {
      "text/html": [
       "<div>\n",
       "<style scoped>\n",
       "    .dataframe tbody tr th:only-of-type {\n",
       "        vertical-align: middle;\n",
       "    }\n",
       "\n",
       "    .dataframe tbody tr th {\n",
       "        vertical-align: top;\n",
       "    }\n",
       "\n",
       "    .dataframe thead th {\n",
       "        text-align: right;\n",
       "    }\n",
       "</style>\n",
       "<table border=\"1\" class=\"dataframe\">\n",
       "  <thead>\n",
       "    <tr style=\"text-align: right;\">\n",
       "      <th></th>\n",
       "      <th>id_pedido</th>\n",
       "      <th>categoria_produto</th>\n",
       "      <th>transportadora</th>\n",
       "      <th>dias_entrega</th>\n",
       "      <th>status_entrega</th>\n",
       "    </tr>\n",
       "  </thead>\n",
       "  <tbody>\n",
       "    <tr>\n",
       "      <th>0</th>\n",
       "      <td>10001</td>\n",
       "      <td>Casa</td>\n",
       "      <td>Motoboy</td>\n",
       "      <td>NaN</td>\n",
       "      <td>Entregue</td>\n",
       "    </tr>\n",
       "    <tr>\n",
       "      <th>1</th>\n",
       "      <td>10002</td>\n",
       "      <td>Moda</td>\n",
       "      <td>Correios</td>\n",
       "      <td>1.9</td>\n",
       "      <td>Entregue</td>\n",
       "    </tr>\n",
       "    <tr>\n",
       "      <th>2</th>\n",
       "      <td>10003</td>\n",
       "      <td>Moda</td>\n",
       "      <td>Correios</td>\n",
       "      <td>4.8</td>\n",
       "      <td>Atrasada</td>\n",
       "    </tr>\n",
       "    <tr>\n",
       "      <th>3</th>\n",
       "      <td>10004</td>\n",
       "      <td>Eletrônicos</td>\n",
       "      <td>Correios</td>\n",
       "      <td>3.6</td>\n",
       "      <td>Entregue</td>\n",
       "    </tr>\n",
       "    <tr>\n",
       "      <th>4</th>\n",
       "      <td>10005</td>\n",
       "      <td>Esportes</td>\n",
       "      <td>Motoboy</td>\n",
       "      <td>2.8</td>\n",
       "      <td>Entregue</td>\n",
       "    </tr>\n",
       "  </tbody>\n",
       "</table>\n",
       "</div>"
      ],
      "text/plain": [
       "   id_pedido categoria_produto transportadora  dias_entrega status_entrega\n",
       "0      10001              Casa        Motoboy           NaN       Entregue\n",
       "1      10002              Moda       Correios           1.9       Entregue\n",
       "2      10003              Moda       Correios           4.8       Atrasada\n",
       "3      10004       Eletrônicos       Correios           3.6       Entregue\n",
       "4      10005          Esportes        Motoboy           2.8       Entregue"
      ]
     },
     "execution_count": 2,
     "metadata": {},
     "output_type": "execute_result"
    }
   ],
   "source": [
    "df = pd.read_csv(\"desafio_dia_84_entregas_ecommerce.csv\")\n",
    "df.head()"
   ]
  },
  {
   "cell_type": "code",
   "execution_count": 3,
   "id": "adf83129-ef59-4539-8938-45f0d4f549b5",
   "metadata": {},
   "outputs": [
    {
     "data": {
      "text/plain": [
       "0"
      ]
     },
     "execution_count": 3,
     "metadata": {},
     "output_type": "execute_result"
    }
   ],
   "source": [
    "#Preencha os valores ausentes em dias_entrega com a média da coluna.\n",
    "df[\"dias_entrega\"] =  df[\"dias_entrega\"].fillna(df[\"dias_entrega\"].mean())\n",
    "df[\"dias_entrega\"].isna().sum()"
   ]
  },
  {
   "cell_type": "code",
   "execution_count": 9,
   "id": "22118b61-0707-47fc-8074-79d6803f422e",
   "metadata": {},
   "outputs": [
    {
     "name": "stdout",
     "output_type": "stream",
     "text": [
      "transportadora\n",
      "Correios            34\n",
      "Loggi               19\n",
      "Transportadora X    17\n",
      "Motoboy              6\n",
      "Name: count, dtype: int64\n"
     ]
    }
   ],
   "source": [
    "#Qual transportadora apresenta o maior número de entregas atrasadas?\n",
    "atrasadas = df[df[\"status_entrega\"] == \"Atrasada\"]\n",
    "mais_atrasos = atrasadas[\"transportadora\"].value_counts()\n",
    "print(mais_atrasos)"
   ]
  },
  {
   "cell_type": "code",
   "execution_count": 11,
   "id": "2fb9e7db-c161-44cd-b7f6-9b495636ae46",
   "metadata": {},
   "outputs": [
    {
     "name": "stdout",
     "output_type": "stream",
     "text": [
      "categoria_produto\n",
      "Beleza         5.01\n",
      "Casa           4.84\n",
      "Eletrônicos    5.21\n",
      "Esportes       5.21\n",
      "Livros         5.41\n",
      "Moda           5.04\n",
      "Name: dias_entrega, dtype: float64\n"
     ]
    }
   ],
   "source": [
    "#Qual é o tempo médio de entrega por categoria de produto?\n",
    "tempo_medio_entrega_categoria = df.groupby(\"categoria_produto\")[\"dias_entrega\"].mean()\n",
    "print(tempo_medio_entrega_categoria.round(2))"
   ]
  },
  {
   "cell_type": "code",
   "execution_count": 13,
   "id": "42b88eaa-d506-4719-bf4f-87abcb2ff99c",
   "metadata": {},
   "outputs": [
    {
     "data": {
      "image/png": "[encoded data removed]",
      "text/plain": [
       "<Figure size 640x480 with 1 Axes>"
      ]
     },
     "metadata": {},
     "output_type": "display_data"
    }
   ],
   "source": [
    "#Crie um gráfico de barras com o número de pedidos por status_entrega.\n",
    "sns.countplot(data=df, x=\"status_entrega\")\n",
    "plt.title(\"Número de Pedidos por Status de Entrega\")\n",
    "plt.xlabel(\"Status de Entrega\")\n",
    "plt.ylabel(\"Contagem\")\n",
    "plt.show()"
   ]
  },
  {
   "cell_type": "code",
   "execution_count": 14,
   "id": "2f6137e7-bdbf-446f-a587-b5e3332da983",
   "metadata": {},
   "outputs": [
    {
     "name": "stdout",
     "output_type": "stream",
     "text": [
      "0.6533333333333333\n"
     ]
    }
   ],
   "source": [
    "#Crie um modelo para prever o status_entrega com base nas colunas:\n",
    "X = df[[\"categoria_produto\", \"transportadora\", \"dias_entrega\"]]\n",
    "y = df[\"status_entrega\"]\n",
    "\n",
    "X = pd.get_dummies(X)\n",
    "\n",
    "X_train, X_test, y_train, y_test = train_test_split(X, y, test_size=0.3, random_state=42)\n",
    "\n",
    "modelo = RandomForestClassifier(random_state=42)\n",
    "modelo.fit(X_train, y_train)\n",
    "\n",
    "y_pred = modelo.predict(X_test)\n",
    "\n",
    "print(accuracy_score(y_test, y_pred))"
   ]
  }
 ],
 "metadata": {
  "kernelspec": {
   "display_name": "Python 3 (ipykernel)",
   "language": "python",
   "name": "python3"
  },
  "language_info": {
   "codemirror_mode": {
    "name": "ipython",
    "version": 3
   },
   "file_extension": ".py",
   "mimetype": "text/x-python",
   "name": "python",
   "nbconvert_exporter": "python",
   "pygments_lexer": "ipython3",
   "version": "3.12.7"
  }
 },
 "nbformat": 4,
 "nbformat_minor": 5
}
