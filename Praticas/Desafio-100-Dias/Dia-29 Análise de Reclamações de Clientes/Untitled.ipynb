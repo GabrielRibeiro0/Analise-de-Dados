{
 "cells": [
  {
   "cell_type": "markdown",
   "id": "8cb1711f-28df-4db0-a755-20d7d878ef39",
   "metadata": {},
   "source": [
    "Desafio 29: Análise de Reclamações de Clientes\n",
    "\n",
    "📂 Dataset: Dados simulados de reclamações registradas por clientes.\n",
    "Colunas: Cliente, Data_Reclamacao, Tipo, Status, Canal\n",
    "\n",
    "🎯 Tarefas:\n",
    "\n",
    "Quantas reclamações foram registradas por mês?\n",
    "\n",
    "Qual o tipo de reclamação mais comum?\n",
    "\n",
    "Qual a proporção de status (Resolvido, Em andamento, Sem resposta)?\n",
    "\n",
    "Qual canal recebeu mais reclamações?\n",
    "\n",
    "Crie um gráfico de barras comparando a quantidade de reclamações por tipo."
   ]
  },
  {
   "cell_type": "code",
   "execution_count": 22,
   "id": "1e7166a1-5df0-4334-9e79-6ce038c2bb6a",
   "metadata": {},
   "outputs": [],
   "source": [
    "import pandas as pd\n",
    "import matplotlib.pyplot as plt"
   ]
  },
  {
   "cell_type": "code",
   "execution_count": 2,
   "id": "2c4bae03-c7ca-456a-a16f-00793b8dd785",
   "metadata": {},
   "outputs": [
    {
     "data": {
      "text/html": [
       "<div>\n",
       "<style scoped>\n",
       "    .dataframe tbody tr th:only-of-type {\n",
       "        vertical-align: middle;\n",
       "    }\n",
       "\n",
       "    .dataframe tbody tr th {\n",
       "        vertical-align: top;\n",
       "    }\n",
       "\n",
       "    .dataframe thead th {\n",
       "        text-align: right;\n",
       "    }\n",
       "</style>\n",
       "<table border=\"1\" class=\"dataframe\">\n",
       "  <thead>\n",
       "    <tr style=\"text-align: right;\">\n",
       "      <th></th>\n",
       "      <th>Cliente</th>\n",
       "      <th>Data_Reclamacao</th>\n",
       "      <th>Tipo</th>\n",
       "      <th>Status</th>\n",
       "      <th>Canal</th>\n",
       "    </tr>\n",
       "  </thead>\n",
       "  <tbody>\n",
       "    <tr>\n",
       "      <th>0</th>\n",
       "      <td>Cliente_75</td>\n",
       "      <td>2024-11-15</td>\n",
       "      <td>Atendimento ruim</td>\n",
       "      <td>Resolvido</td>\n",
       "      <td>Chat</td>\n",
       "    </tr>\n",
       "    <tr>\n",
       "      <th>1</th>\n",
       "      <td>Cliente_75</td>\n",
       "      <td>2025-02-26</td>\n",
       "      <td>Outros</td>\n",
       "      <td>Sem resposta</td>\n",
       "      <td>Redes Sociais</td>\n",
       "    </tr>\n",
       "    <tr>\n",
       "      <th>2</th>\n",
       "      <td>Cliente_33</td>\n",
       "      <td>2024-11-05</td>\n",
       "      <td>Cobrança indevida</td>\n",
       "      <td>Resolvido</td>\n",
       "      <td>E-mail</td>\n",
       "    </tr>\n",
       "    <tr>\n",
       "      <th>3</th>\n",
       "      <td>Cliente_41</td>\n",
       "      <td>2025-03-20</td>\n",
       "      <td>Atendimento ruim</td>\n",
       "      <td>Em andamento</td>\n",
       "      <td>Redes Sociais</td>\n",
       "    </tr>\n",
       "    <tr>\n",
       "      <th>4</th>\n",
       "      <td>Cliente_10</td>\n",
       "      <td>2025-01-11</td>\n",
       "      <td>Cobrança indevida</td>\n",
       "      <td>Sem resposta</td>\n",
       "      <td>E-mail</td>\n",
       "    </tr>\n",
       "  </tbody>\n",
       "</table>\n",
       "</div>"
      ],
      "text/plain": [
       "      Cliente Data_Reclamacao               Tipo        Status          Canal\n",
       "0  Cliente_75      2024-11-15   Atendimento ruim     Resolvido           Chat\n",
       "1  Cliente_75      2025-02-26             Outros  Sem resposta  Redes Sociais\n",
       "2  Cliente_33      2024-11-05  Cobrança indevida     Resolvido         E-mail\n",
       "3  Cliente_41      2025-03-20   Atendimento ruim  Em andamento  Redes Sociais\n",
       "4  Cliente_10      2025-01-11  Cobrança indevida  Sem resposta         E-mail"
      ]
     },
     "execution_count": 2,
     "metadata": {},
     "output_type": "execute_result"
    }
   ],
   "source": [
    "df = pd.read_csv(\"dia_29_reclamacoes_clientes.csv\")\n",
    "df.head()"
   ]
  },
  {
   "cell_type": "code",
   "execution_count": 11,
   "id": "e7f40002-1c6c-4cd5-be37-8c1a69852997",
   "metadata": {},
   "outputs": [
    {
     "name": "stdout",
     "output_type": "stream",
     "text": [
      "Quantidade de reclamações por mês: \n",
      "AnoMes\n",
      "2025-03    53\n",
      "2024-10    52\n",
      "2024-11    51\n",
      "2025-02    49\n",
      "2024-12    49\n",
      "2025-01    46\n",
      "Freq: M\n"
     ]
    }
   ],
   "source": [
    "#Quantas reclamações foram registradas por mês?\n",
    "df[\"Data_Reclamacao\"] = pd.to_datetime(df[\"Data_Reclamacao\"])\n",
    "df[\"AnoMes\"] = df['Data_Reclamacao'].dt.to_period('M')\n",
    "\n",
    "reclamacoes = df['AnoMes'].value_counts()\n",
    "print(f\"Quantidade de reclamações por mês: \\n{reclamacoes.to_string()}\")"
   ]
  },
  {
   "cell_type": "code",
   "execution_count": 14,
   "id": "176bcd80-9b00-4d9a-ac08-402b07f160fd",
   "metadata": {},
   "outputs": [
    {
     "name": "stdout",
     "output_type": "stream",
     "text": [
      "Produto com defeito\n"
     ]
    }
   ],
   "source": [
    "#Qual o tipo de reclamação mais comum?\n",
    "reclamacaoComum = df[\"Tipo\"].value_counts()\n",
    "print(reclamacaoComum.idxmax())"
   ]
  },
  {
   "cell_type": "code",
   "execution_count": 17,
   "id": "492fd7dd-3f29-4d08-9232-fa6f1950a29e",
   "metadata": {},
   "outputs": [
    {
     "name": "stdout",
     "output_type": "stream",
     "text": [
      "         Status Proporcao\n",
      "0  Sem resposta    35.67%\n",
      "1  Em andamento    32.67%\n",
      "2     Resolvido    31.67%\n"
     ]
    }
   ],
   "source": [
    "#Qual a proporção de status (Resolvido, Em andamento, Sem resposta)?\n",
    "proporcaoStatus = df[\"Status\"].value_counts(normalize=True).reset_index()\n",
    "proporcaoStatus.columns = ['Status', 'Proporcao']\n",
    "proporcaoStatus[\"Proporcao\"] = (proporcaoStatus[\"Proporcao\"] * 100).round(2).astype(str) + '%'\n",
    "\n",
    "print(proporcaoStatus)"
   ]
  },
  {
   "cell_type": "code",
   "execution_count": 25,
   "id": "44b897ce-2be7-401b-85fe-79e1e7b01159",
   "metadata": {},
   "outputs": [
    {
     "name": "stdout",
     "output_type": "stream",
     "text": [
      "O canal com mais reclamações foi: Telefone (81 reclamações)\n"
     ]
    }
   ],
   "source": [
    "#Qual canal recebeu mais reclamações?\n",
    "canalReclamacao = df[\"Canal\"].value_counts()\n",
    "print(f\"O canal com mais reclamações foi: {canalReclamacao.idxmax()} ({canalReclamacao.max()} reclamações)\")"
   ]
  },
  {
   "cell_type": "code",
   "execution_count": 32,
   "id": "d7d4e1ef-c83b-4029-a1c8-c26421667bf3",
   "metadata": {},
   "outputs": [
    {
     "data": {
      "image/png": "[encoded data removed]",
      "text/plain": [
       "<Figure size 640x480 with 1 Axes>"
      ]
     },
     "metadata": {},
     "output_type": "display_data"
    }
   ],
   "source": [
    "#Crie um gráfico de barras comparando a quantidade de reclamações por tipo.\n",
    "plt.barh(reclamacaoComum.index, reclamacaoComum.values)\n",
    "plt.title('Quantidade de Reclamações por Tipo')\n",
    "plt.xlabel('Total de Reclamações')\n",
    "plt.ylabel('Tipo de Reclamação')\n",
    "plt.grid(axis='x', linestyle='--', alpha=0.7)\n",
    "plt.show()"
   ]
  }
 ],
 "metadata": {
  "kernelspec": {
   "display_name": "Python 3 (ipykernel)",
   "language": "python",
   "name": "python3"
  },
  "language_info": {
   "codemirror_mode": {
    "name": "ipython",
    "version": 3
   },
   "file_extension": ".py",
   "mimetype": "text/x-python",
   "name": "python",
   "nbconvert_exporter": "python",
   "pygments_lexer": "ipython3",
   "version": "3.12.7"
  }
 },
 "nbformat": 4,
 "nbformat_minor": 5
}
