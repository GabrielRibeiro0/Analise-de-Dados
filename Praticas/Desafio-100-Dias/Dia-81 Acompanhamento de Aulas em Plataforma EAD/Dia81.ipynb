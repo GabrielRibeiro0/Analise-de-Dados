{
 "cells": [
  {
   "cell_type": "markdown",
   "id": "e3e0b1a1-ef74-4e36-9bd2-12ea3db246c7",
   "metadata": {},
   "source": [
    "🎯 Desafio dia 81 — Acompanhamento de Aulas em Plataforma EAD\n",
    "\n",
    "📂 Dataset: desafio_dia_81_plataforma_ead.csv\n",
    "📥 Clique aqui para baixar o CSV\n",
    "\n",
    "🔍 Contexto: Você foi contratado por uma plataforma de ensino a distância para analisar como os alunos estão consumindo os módulos das aulas. O objetivo é identificar padrões de comportamento e avaliar o engajamento.\n",
    "\n",
    "🛠️ Tarefas do desafio:\n",
    "\n",
    "🧹 Tratamento de dados\n",
    "- Preencha os valores ausentes em tempo_total_min com a média da coluna.\n",
    "\n",
    "- Preencha os valores ausentes em avaliacao com a moda da coluna.\n",
    "\n",
    "📊 Análise geral\n",
    "- Qual módulo possui mais aulas com status “Concluída”?\n",
    "\n",
    "- Qual é o tempo médio assistido por status da aula?\n",
    "\n",
    "📈 Visualização de dados\n",
    "- Crie um gráfico de boxplot do tempo total de aula (tempo_total_min) por módulo.\n",
    "\n",
    "🤖 Machine Learning - Regressão\n",
    "- Crie um modelo de regressão para prever a avaliacao com base nas colunas:\n",
    "\n",
    "tempo_total_min, modulo, status_aula\n",
    "\n",
    "Use:\n",
    "\n",
    "train_test_split\n",
    "\n",
    "get_dummies\n",
    "\n",
    "RandomForestRegressor\n",
    "\n",
    "Avalie o desempenho com mean_squared_error."
   ]
  },
  {
   "cell_type": "code",
   "execution_count": 14,
   "id": "882262f3-f47a-40f3-97b6-6c4a8120a2e9",
   "metadata": {},
   "outputs": [],
   "source": [
    "import pandas as pd\n",
    "import seaborn as sns\n",
    "import matplotlib.pyplot as plt\n",
    "from sklearn.model_selection import train_test_split\n",
    "from sklearn.ensemble import RandomForestRegressor\n",
    "from sklearn.metrics import mean_squared_error"
   ]
  },
  {
   "cell_type": "code",
   "execution_count": 2,
   "id": "499fab23-22d8-4b29-b734-117442f7a00a",
   "metadata": {},
   "outputs": [
    {
     "data": {
      "text/html": [
       "<div>\n",
       "<style scoped>\n",
       "    .dataframe tbody tr th:only-of-type {\n",
       "        vertical-align: middle;\n",
       "    }\n",
       "\n",
       "    .dataframe tbody tr th {\n",
       "        vertical-align: top;\n",
       "    }\n",
       "\n",
       "    .dataframe thead th {\n",
       "        text-align: right;\n",
       "    }\n",
       "</style>\n",
       "<table border=\"1\" class=\"dataframe\">\n",
       "  <thead>\n",
       "    <tr style=\"text-align: right;\">\n",
       "      <th></th>\n",
       "      <th>id_aluno</th>\n",
       "      <th>modulo</th>\n",
       "      <th>tempo_total_min</th>\n",
       "      <th>status_aula</th>\n",
       "      <th>avaliacao</th>\n",
       "    </tr>\n",
       "  </thead>\n",
       "  <tbody>\n",
       "    <tr>\n",
       "      <th>0</th>\n",
       "      <td>1068</td>\n",
       "      <td>Matemática</td>\n",
       "      <td>46.9</td>\n",
       "      <td>Pendente</td>\n",
       "      <td>5.0</td>\n",
       "    </tr>\n",
       "    <tr>\n",
       "      <th>1</th>\n",
       "      <td>1066</td>\n",
       "      <td>Matemática</td>\n",
       "      <td>74.9</td>\n",
       "      <td>Em andamento</td>\n",
       "      <td>4.0</td>\n",
       "    </tr>\n",
       "    <tr>\n",
       "      <th>2</th>\n",
       "      <td>1057</td>\n",
       "      <td>História</td>\n",
       "      <td>56.8</td>\n",
       "      <td>Concluída</td>\n",
       "      <td>2.0</td>\n",
       "    </tr>\n",
       "    <tr>\n",
       "      <th>3</th>\n",
       "      <td>1047</td>\n",
       "      <td>Matemática</td>\n",
       "      <td>NaN</td>\n",
       "      <td>Em andamento</td>\n",
       "      <td>4.0</td>\n",
       "    </tr>\n",
       "    <tr>\n",
       "      <th>4</th>\n",
       "      <td>1076</td>\n",
       "      <td>Português</td>\n",
       "      <td>80.5</td>\n",
       "      <td>Em andamento</td>\n",
       "      <td>4.0</td>\n",
       "    </tr>\n",
       "  </tbody>\n",
       "</table>\n",
       "</div>"
      ],
      "text/plain": [
       "   id_aluno      modulo  tempo_total_min   status_aula  avaliacao\n",
       "0      1068  Matemática             46.9      Pendente        5.0\n",
       "1      1066  Matemática             74.9  Em andamento        4.0\n",
       "2      1057    História             56.8     Concluída        2.0\n",
       "3      1047  Matemática              NaN  Em andamento        4.0\n",
       "4      1076   Português             80.5  Em andamento        4.0"
      ]
     },
     "execution_count": 2,
     "metadata": {},
     "output_type": "execute_result"
    }
   ],
   "source": [
    "df = pd.read_csv(\"desafio_dia_81_plataforma_ead.csv\")\n",
    "df.head()"
   ]
  },
  {
   "cell_type": "code",
   "execution_count": 3,
   "id": "1fe2838c-a505-4891-b2c6-2f5e46ac97fb",
   "metadata": {},
   "outputs": [
    {
     "data": {
      "text/plain": [
       "0"
      ]
     },
     "execution_count": 3,
     "metadata": {},
     "output_type": "execute_result"
    }
   ],
   "source": [
    "#Preencha os valores ausentes em tempo_total_min com a média da coluna.\n",
    "df[\"tempo_total_min\"] = df[\"tempo_total_min\"].fillna(df[\"tempo_total_min\"].mean())\n",
    "df[\"tempo_total_min\"].isna().sum()"
   ]
  },
  {
   "cell_type": "code",
   "execution_count": 4,
   "id": "0faec209-df27-40d1-9fbe-f3446e8c51eb",
   "metadata": {},
   "outputs": [
    {
     "data": {
      "text/plain": [
       "0"
      ]
     },
     "execution_count": 4,
     "metadata": {},
     "output_type": "execute_result"
    }
   ],
   "source": [
    "#Preencha os valores ausentes em avaliacao com a moda da coluna.\n",
    "df[\"avaliacao\"] = df[\"avaliacao\"].fillna(df[\"avaliacao\"].mode()[0])\n",
    "df[\"avaliacao\"].isna().sum()"
   ]
  },
  {
   "cell_type": "code",
   "execution_count": 7,
   "id": "fcf3bdd8-35f5-4b11-8383-238c56af9f75",
   "metadata": {},
   "outputs": [
    {
     "name": "stdout",
     "output_type": "stream",
     "text": [
      "modulo\n",
      "Matemática    56\n",
      "Português     53\n",
      "Inglês        49\n",
      "Química       48\n",
      "História      47\n",
      "Física        47\n",
      "Name: count, dtype: int64\n"
     ]
    }
   ],
   "source": [
    "#Qual módulo possui mais aulas com status “Concluída”?\n",
    "modulo_status_concluida = df[df[\"status_aula\"] == \"Concluída\"][\"modulo\"].value_counts()\n",
    "print(modulo_status_concluida)"
   ]
  },
  {
   "cell_type": "code",
   "execution_count": 8,
   "id": "890c7c9d-fcfd-4d12-b823-6201768dbf1c",
   "metadata": {},
   "outputs": [
    {
     "name": "stdout",
     "output_type": "stream",
     "text": [
      "status_aula\n",
      "Concluída       59.644881\n",
      "Em andamento    61.827410\n",
      "Pendente        59.684565\n",
      "Name: tempo_total_min, dtype: float64\n"
     ]
    }
   ],
   "source": [
    "#Qual é o tempo médio assistido por status da aula?\n",
    "tempo_medio_status_aula = df.groupby(\"status_aula\")[\"tempo_total_min\"].mean()\n",
    "print(tempo_medio_status_aula)"
   ]
  },
  {
   "cell_type": "code",
   "execution_count": 12,
   "id": "0a1aab15-9372-48f5-ac78-35b225668d2d",
   "metadata": {},
   "outputs": [
    {
     "data": {
      "image/png": "[encoded data removed]",
      "text/plain": [
       "<Figure size 640x480 with 1 Axes>"
      ]
     },
     "metadata": {},
     "output_type": "display_data"
    }
   ],
   "source": [
    "#Crie um gráfico de boxplot do tempo total de aula (tempo_total_min) por módulo.\n",
    "sns.boxplot(df, x=\"tempo_total_min\", y=\"modulo\")\n",
    "plt.title(\"Distribuição do Tempo Total por Módulo\")\n",
    "plt.ylabel(\"Módulo\")\n",
    "plt.xlabel(\"Tempo Total (min)\")\n",
    "plt.show()"
   ]
  },
  {
   "cell_type": "code",
   "execution_count": 15,
   "id": "89c7f85e-bb96-4f02-a047-9eac18e563df",
   "metadata": {},
   "outputs": [
    {
     "name": "stdout",
     "output_type": "stream",
     "text": [
      "1.1618632096532504\n"
     ]
    }
   ],
   "source": [
    "#Crie um modelo de regressão para prever a avaliacao com base nas colunas:\n",
    "X = df[[\"tempo_total_min\", \"modulo\", \"status_aula\"]]\n",
    "y = df[\"avaliacao\"]\n",
    "\n",
    "X = pd.get_dummies(X)\n",
    "\n",
    "X_train, X_test, y_train, y_test = train_test_split(X, y, test_size=0.3, random_state=42)\n",
    "\n",
    "modelo = RandomForestRegressor(random_state=42)\n",
    "modelo.fit(X_train, y_train)\n",
    "\n",
    "y_pred = modelo.predict(X_test)\n",
    "print(mean_squared_error(y_test, y_pred))"
   ]
  },
  {
   "cell_type": "code",
   "execution_count": null,
   "id": "a1985744-74f6-46b3-9cf6-ed20d0a58dde",
   "metadata": {},
   "outputs": [],
   "source": []
  }
 ],
 "metadata": {
  "kernelspec": {
   "display_name": "Python 3 (ipykernel)",
   "language": "python",
   "name": "python3"
  },
  "language_info": {
   "codemirror_mode": {
    "name": "ipython",
    "version": 3
   },
   "file_extension": ".py",
   "mimetype": "text/x-python",
   "name": "python",
   "nbconvert_exporter": "python",
   "pygments_lexer": "ipython3",
   "version": "3.12.7"
  }
 },
 "nbformat": 4,
 "nbformat_minor": 5
}
