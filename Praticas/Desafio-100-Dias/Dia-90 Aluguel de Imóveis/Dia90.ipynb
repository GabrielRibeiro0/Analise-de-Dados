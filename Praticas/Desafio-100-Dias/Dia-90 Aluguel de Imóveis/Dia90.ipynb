{
 "cells": [
  {
   "cell_type": "markdown",
   "id": "8c3ce343-d677-462e-a886-0ac0303692cd",
   "metadata": {},
   "source": [
    "🎯 Desafio dia 90 — Aluguel de Imóveis\n",
    "\n",
    "📂 Dataset: desafio_dia_90_aluguel_imoveis.csv\n",
    "\n",
    "🔍 Contexto: Uma plataforma de aluguel de imóveis deseja entender os fatores que mais impactam no valor do aluguel nas principais capitais brasileiras.\n",
    "\n",
    "🛠️ Tarefas do desafio\n",
    "\n",
    "🧹 Tratamento de dados\n",
    "- Preencha os valores ausentes em area_m2 com a mediana agrupada por tipo_imovel.\n",
    "\n",
    "- Preencha os valores ausentes em preco_aluguel com a média geral.\n",
    "\n",
    "📊 Análise geral\n",
    "- Qual cidade apresenta o maior preço médio de aluguel por m²?\n",
    "\n",
    "- Existe diferença no preço médio entre imóveis mobiliados e não mobiliados por cidade? (faça um groupby duplo)\n",
    "\n",
    "📈 Visualização de dados\n",
    "- Crie um boxplot com preco_aluguel por tipo_imovel, colorido por mobilhado.\n",
    "\n",
    "🤖 Machine Learning - Regressão com Explicação\n",
    "- Crie um modelo para prever preco_aluguel com base em:\n",
    "\n",
    "    cidade, tipo_imovel, mobilhado, area_m2\n",
    "\n",
    "    Use:\n",
    "\n",
    "    train_test_split, get_dummies, RandomForestRegressor\n",
    "\n",
    "    Avalie com mean_squared_error\n",
    "\n",
    "    Adicional: use feature_importances_ para listar as variáveis mais importantes do modelo"
   ]
  },
  {
   "cell_type": "code",
   "execution_count": 14,
   "id": "2d79fe27-7f8b-4538-b853-f2b0658f14a0",
   "metadata": {},
   "outputs": [],
   "source": [
    "import pandas as pd\n",
    "import seaborn as sns\n",
    "import matplotlib.pyplot as plt\n",
    "from sklearn.model_selection import train_test_split\n",
    "from sklearn.ensemble import RandomForestRegressor\n",
    "from sklearn.metrics import mean_squared_error"
   ]
  },
  {
   "cell_type": "code",
   "execution_count": 2,
   "id": "3842b859-2628-426d-8f6d-399e470cc7f9",
   "metadata": {},
   "outputs": [
    {
     "data": {
      "text/html": [
       "<div>\n",
       "<style scoped>\n",
       "    .dataframe tbody tr th:only-of-type {\n",
       "        vertical-align: middle;\n",
       "    }\n",
       "\n",
       "    .dataframe tbody tr th {\n",
       "        vertical-align: top;\n",
       "    }\n",
       "\n",
       "    .dataframe thead th {\n",
       "        text-align: right;\n",
       "    }\n",
       "</style>\n",
       "<table border=\"1\" class=\"dataframe\">\n",
       "  <thead>\n",
       "    <tr style=\"text-align: right;\">\n",
       "      <th></th>\n",
       "      <th>id_imovel</th>\n",
       "      <th>cidade</th>\n",
       "      <th>tipo_imovel</th>\n",
       "      <th>mobilhado</th>\n",
       "      <th>area_m2</th>\n",
       "      <th>preco_aluguel</th>\n",
       "    </tr>\n",
       "  </thead>\n",
       "  <tbody>\n",
       "    <tr>\n",
       "      <th>0</th>\n",
       "      <td>3000</td>\n",
       "      <td>Curitiba</td>\n",
       "      <td>Kitnet</td>\n",
       "      <td>Não</td>\n",
       "      <td>49.5</td>\n",
       "      <td>2403.00</td>\n",
       "    </tr>\n",
       "    <tr>\n",
       "      <th>1</th>\n",
       "      <td>3001</td>\n",
       "      <td>Porto Alegre</td>\n",
       "      <td>Casa</td>\n",
       "      <td>Não</td>\n",
       "      <td>80.8</td>\n",
       "      <td>1352.58</td>\n",
       "    </tr>\n",
       "    <tr>\n",
       "      <th>2</th>\n",
       "      <td>3002</td>\n",
       "      <td>Belo Horizonte</td>\n",
       "      <td>Studio</td>\n",
       "      <td>Não</td>\n",
       "      <td>64.4</td>\n",
       "      <td>2931.24</td>\n",
       "    </tr>\n",
       "    <tr>\n",
       "      <th>3</th>\n",
       "      <td>3003</td>\n",
       "      <td>Curitiba</td>\n",
       "      <td>Kitnet</td>\n",
       "      <td>Não</td>\n",
       "      <td>70.0</td>\n",
       "      <td>1786.92</td>\n",
       "    </tr>\n",
       "    <tr>\n",
       "      <th>4</th>\n",
       "      <td>3004</td>\n",
       "      <td>Recife</td>\n",
       "      <td>Apartamento</td>\n",
       "      <td>Não</td>\n",
       "      <td>52.0</td>\n",
       "      <td>NaN</td>\n",
       "    </tr>\n",
       "  </tbody>\n",
       "</table>\n",
       "</div>"
      ],
      "text/plain": [
       "   id_imovel          cidade  tipo_imovel mobilhado  area_m2  preco_aluguel\n",
       "0       3000        Curitiba       Kitnet       Não     49.5        2403.00\n",
       "1       3001    Porto Alegre         Casa       Não     80.8        1352.58\n",
       "2       3002  Belo Horizonte       Studio       Não     64.4        2931.24\n",
       "3       3003        Curitiba       Kitnet       Não     70.0        1786.92\n",
       "4       3004          Recife  Apartamento       Não     52.0            NaN"
      ]
     },
     "execution_count": 2,
     "metadata": {},
     "output_type": "execute_result"
    }
   ],
   "source": [
    "df = pd.read_csv(\"desafio_dia_90_aluguel_imoveis.csv\")\n",
    "df.head()"
   ]
  },
  {
   "cell_type": "code",
   "execution_count": 3,
   "id": "fbfde439-2b37-437c-8921-b976ea61863e",
   "metadata": {},
   "outputs": [
    {
     "data": {
      "text/plain": [
       "0"
      ]
     },
     "execution_count": 3,
     "metadata": {},
     "output_type": "execute_result"
    }
   ],
   "source": [
    "#Preencha os valores ausentes em area_m2 com a mediana agrupada por tipo_imovel.\n",
    "df[\"area_m2\"] = df[\"area_m2\"].fillna(\n",
    "    df.groupby(\"tipo_imovel\")[\"area_m2\"].transform(\"median\")\n",
    ")\n",
    "df[\"area_m2\"].isna().sum()"
   ]
  },
  {
   "cell_type": "code",
   "execution_count": 4,
   "id": "87116b4f-1c72-4467-87c6-86c1dce58c4b",
   "metadata": {},
   "outputs": [
    {
     "data": {
      "text/plain": [
       "0"
      ]
     },
     "execution_count": 4,
     "metadata": {},
     "output_type": "execute_result"
    }
   ],
   "source": [
    "#Preencha os valores ausentes em preco_aluguel com a média geral.\n",
    "df[\"preco_aluguel\"] = df[\"preco_aluguel\"].fillna(df[\"preco_aluguel\"].mean())\n",
    "df[\"preco_aluguel\"].isna().sum()"
   ]
  },
  {
   "cell_type": "code",
   "execution_count": 6,
   "id": "ce540a8c-0a0b-4956-ab6d-3754d5ba9c20",
   "metadata": {},
   "outputs": [
    {
     "name": "stdout",
     "output_type": "stream",
     "text": [
      "cidade\n",
      "São Paulo         44.375950\n",
      "Rio de Janeiro    42.996055\n",
      "Recife            42.239750\n",
      "Curitiba          40.624964\n",
      "Porto Alegre      37.677854\n",
      "Belo Horizonte    35.837970\n",
      "Name: preco_m2, dtype: float64\n"
     ]
    }
   ],
   "source": [
    "#Qual cidade apresenta o maior preço médio de aluguel por m²?\n",
    "df[\"preco_m2\"] = df[\"preco_aluguel\"] / df[\"area_m2\"]\n",
    "\n",
    "cidade_maior_preco_aluguelm2 = df.groupby(\"cidade\")[\"preco_m2\"].mean().sort_values(ascending=False)\n",
    "print(cidade_maior_preco_aluguelm2)"
   ]
  },
  {
   "cell_type": "code",
   "execution_count": 9,
   "id": "90a622d5-aa1d-4cac-93c0-befa0bb982ed",
   "metadata": {},
   "outputs": [
    {
     "name": "stdout",
     "output_type": "stream",
     "text": [
      "mobilhado           Não      Sim\n",
      "cidade                          \n",
      "Belo Horizonte  2168.46  2305.29\n",
      "Curitiba        2110.59  2135.37\n",
      "Porto Alegre    2076.68  2027.56\n",
      "Recife          2454.36  2140.70\n",
      "Rio de Janeiro  2235.37  2322.93\n",
      "São Paulo       2475.44  2591.00\n"
     ]
    }
   ],
   "source": [
    "#Existe diferença no preço médio entre imóveis mobiliados e não mobiliados por cidade? (faça um groupby duplo)\n",
    "diferenca_mobiliados = df.groupby([\"cidade\", \"mobilhado\"])[\"preco_aluguel\"].mean().unstack()\n",
    "print(diferenca_mobiliados.round(2))"
   ]
  },
  {
   "cell_type": "code",
   "execution_count": 13,
   "id": "6e80f0b1-5b24-4c97-9acb-c360deb41fd8",
   "metadata": {},
   "outputs": [
    {
     "data": {
      "image/png": "[encoded data removed]",
      "text/plain": [
       "<Figure size 640x480 with 1 Axes>"
      ]
     },
     "metadata": {},
     "output_type": "display_data"
    }
   ],
   "source": [
    "#Crie um boxplot com preco_aluguel por tipo_imovel, colorido por mobilhado.\n",
    "sns.boxplot(df, x=\"tipo_imovel\", y=\"preco_aluguel\", hue=\"mobilhado\")\n",
    "plt.title(\"Preço de Aluguel por Tipo de Imóvel e Mobilhado\")\n",
    "plt.xlabel(\"Imóvel\")\n",
    "plt.ylabel(\"Preço do Aluguel\")\n",
    "plt.show()"
   ]
  },
  {
   "cell_type": "code",
   "execution_count": 22,
   "id": "2f475c5c-336f-44db-bbe0-a22586019bf2",
   "metadata": {},
   "outputs": [
    {
     "name": "stdout",
     "output_type": "stream",
     "text": [
      "698024.0780223596 \n",
      "\n",
      "area_m2                    0.605095\n",
      "tipo_imovel_Apartamento    0.039157\n",
      "tipo_imovel_Studio         0.038773\n",
      "cidade_Belo Horizonte      0.038018\n",
      "tipo_imovel_Casa           0.036729\n",
      "tipo_imovel_Kitnet         0.036182\n",
      "cidade_São Paulo           0.034663\n",
      "cidade_Recife              0.030962\n",
      "cidade_Porto Alegre        0.030811\n",
      "mobilhado_Sim              0.029098\n",
      "mobilhado_Não              0.028860\n",
      "cidade_Curitiba            0.026974\n",
      "cidade_Rio de Janeiro      0.024677\n",
      "dtype: float64\n"
     ]
    }
   ],
   "source": [
    "#Crie um modelo para prever preco_aluguel com base em:\n",
    "X = df[[\"cidade\", \"tipo_imovel\", \"mobilhado\", \"area_m2\"]]\n",
    "y = df[\"preco_aluguel\"]\n",
    "\n",
    "X = pd.get_dummies(X)\n",
    "\n",
    "X_train, X_test, y_train, y_test = train_test_split(X, y, random_state=42)\n",
    "\n",
    "modelo = RandomForestRegressor(random_state=42)\n",
    "modelo.fit(X_train, y_train)\n",
    "\n",
    "y_pred = modelo.predict(X_test)\n",
    "print(mean_squared_error(y_test, y_pred),\"\\n\")\n",
    "\n",
    "importances = pd.Series(modelo.feature_importances_, index=X.columns)\n",
    "print(importances.sort_values(ascending=False))"
   ]
  }
 ],
 "metadata": {
  "kernelspec": {
   "display_name": "Python 3 (ipykernel)",
   "language": "python",
   "name": "python3"
  },
  "language_info": {
   "codemirror_mode": {
    "name": "ipython",
    "version": 3
   },
   "file_extension": ".py",
   "mimetype": "text/x-python",
   "name": "python",
   "nbconvert_exporter": "python",
   "pygments_lexer": "ipython3",
   "version": "3.12.7"
  }
 },
 "nbformat": 4,
 "nbformat_minor": 5
}
