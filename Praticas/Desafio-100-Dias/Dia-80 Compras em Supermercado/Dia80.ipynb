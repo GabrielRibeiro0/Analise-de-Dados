{
 "cells": [
  {
   "cell_type": "markdown",
   "id": "f3a15025-f44c-4057-8d7a-1e35ec5cfd26",
   "metadata": {},
   "source": [
    "🎯 Desafio dia 80 — Compras em Supermercado\n",
    "\n",
    "📂 Dataset: desafio_dia_80_compras_supermercado.csv\n",
    "📥 Clique aqui para baixar o CSV\n",
    "\n",
    "🔍 Contexto: Um supermercado está analisando o comportamento dos clientes ao longo da semana. O objetivo é entender como as compras variam por categoria, forma de pagamento e valor.\n",
    "\n",
    "🛠️ Tarefas do desafio:\n",
    "\n",
    "🧹 Tratamento de dados\n",
    "- Preencha os valores ausentes na coluna valor com a mediana.\n",
    "\n",
    "- Preencha os valores ausentes na coluna forma_pagamento com o valor mais frequente.\n",
    "\n",
    "📊 Análise geral\n",
    "- Qual é a categoria de produto mais vendida em termos de quantidade?\n",
    "\n",
    "- Qual o valor médio das compras por forma de pagamento?\n",
    "\n",
    "📈 Visualização de dados\n",
    "- Crie um gráfico de barras horizontal mostrando o valor total de compras por dia da semana (dia_semana).\n",
    "\n",
    "🤖 Machine Learning - Regressão\n",
    "- Crie um modelo para prever o valor da compra com base nas colunas:\n",
    "\n",
    "    dia_semana, categoria, forma_pagamento\n",
    "\n",
    "    Use train_test_split, get_dummies, RandomForestRegressor e avalie o desempenho com mean_squared_error."
   ]
  },
  {
   "cell_type": "code",
   "execution_count": 14,
   "id": "0c917559-7864-40be-b383-b54677c95a34",
   "metadata": {},
   "outputs": [],
   "source": [
    "import pandas as pd\n",
    "import seaborn as sns\n",
    "import matplotlib.pyplot as plt\n",
    "from sklearn.ensemble import RandomForestRegressor\n",
    "from sklearn.model_selection import train_test_split\n",
    "from sklearn.metrics import mean_squared_error"
   ]
  },
  {
   "cell_type": "code",
   "execution_count": 2,
   "id": "a89e0f16-5b6b-4035-a801-29085109ee23",
   "metadata": {},
   "outputs": [
    {
     "data": {
      "text/html": [
       "<div>\n",
       "<style scoped>\n",
       "    .dataframe tbody tr th:only-of-type {\n",
       "        vertical-align: middle;\n",
       "    }\n",
       "\n",
       "    .dataframe tbody tr th {\n",
       "        vertical-align: top;\n",
       "    }\n",
       "\n",
       "    .dataframe thead th {\n",
       "        text-align: right;\n",
       "    }\n",
       "</style>\n",
       "<table border=\"1\" class=\"dataframe\">\n",
       "  <thead>\n",
       "    <tr style=\"text-align: right;\">\n",
       "      <th></th>\n",
       "      <th>id_compra</th>\n",
       "      <th>dia_semana</th>\n",
       "      <th>categoria</th>\n",
       "      <th>valor</th>\n",
       "      <th>forma_pagamento</th>\n",
       "    </tr>\n",
       "  </thead>\n",
       "  <tbody>\n",
       "    <tr>\n",
       "      <th>0</th>\n",
       "      <td>9001</td>\n",
       "      <td>Sexta</td>\n",
       "      <td>Limpeza</td>\n",
       "      <td>28.03</td>\n",
       "      <td>Cartão Débito</td>\n",
       "    </tr>\n",
       "    <tr>\n",
       "      <th>1</th>\n",
       "      <td>9002</td>\n",
       "      <td>Domingo</td>\n",
       "      <td>Bebidas</td>\n",
       "      <td>37.90</td>\n",
       "      <td>Cartão Crédito</td>\n",
       "    </tr>\n",
       "    <tr>\n",
       "      <th>2</th>\n",
       "      <td>9003</td>\n",
       "      <td>Quinta</td>\n",
       "      <td>Pet</td>\n",
       "      <td>15.23</td>\n",
       "      <td>Cartão Débito</td>\n",
       "    </tr>\n",
       "    <tr>\n",
       "      <th>3</th>\n",
       "      <td>9004</td>\n",
       "      <td>Quarta</td>\n",
       "      <td>Outros</td>\n",
       "      <td>34.07</td>\n",
       "      <td>Cartão Débito</td>\n",
       "    </tr>\n",
       "    <tr>\n",
       "      <th>4</th>\n",
       "      <td>9005</td>\n",
       "      <td>Quarta</td>\n",
       "      <td>Bebidas</td>\n",
       "      <td>75.31</td>\n",
       "      <td>Cartão Débito</td>\n",
       "    </tr>\n",
       "  </tbody>\n",
       "</table>\n",
       "</div>"
      ],
      "text/plain": [
       "   id_compra dia_semana categoria  valor forma_pagamento\n",
       "0       9001      Sexta   Limpeza  28.03   Cartão Débito\n",
       "1       9002    Domingo   Bebidas  37.90  Cartão Crédito\n",
       "2       9003     Quinta       Pet  15.23   Cartão Débito\n",
       "3       9004     Quarta    Outros  34.07   Cartão Débito\n",
       "4       9005     Quarta   Bebidas  75.31   Cartão Débito"
      ]
     },
     "execution_count": 2,
     "metadata": {},
     "output_type": "execute_result"
    }
   ],
   "source": [
    "df = pd.read_csv(\"desafio_dia_80_compras_supermercado.csv\")\n",
    "df.head()"
   ]
  },
  {
   "cell_type": "code",
   "execution_count": 3,
   "id": "1d3a29ac-8276-40e8-8f61-642abd80491e",
   "metadata": {},
   "outputs": [
    {
     "data": {
      "text/plain": [
       "0"
      ]
     },
     "execution_count": 3,
     "metadata": {},
     "output_type": "execute_result"
    }
   ],
   "source": [
    "#Preencha os valores ausentes na coluna valor com a mediana\n",
    "df[\"valor\"] = df[\"valor\"].fillna(df[\"valor\"].median())\n",
    "df[\"valor\"].isna().sum()"
   ]
  },
  {
   "cell_type": "code",
   "execution_count": 4,
   "id": "8d4a5ea1-cb33-4d8a-a4da-dc752aa5c323",
   "metadata": {},
   "outputs": [
    {
     "data": {
      "text/plain": [
       "0"
      ]
     },
     "execution_count": 4,
     "metadata": {},
     "output_type": "execute_result"
    }
   ],
   "source": [
    "#Preencha os valores ausentes na coluna forma_pagamento com o valor mais frequente.\n",
    "df[\"forma_pagamento\"] = df[\"forma_pagamento\"].fillna(df[\"forma_pagamento\"].mode()[0])\n",
    "df[\"forma_pagamento\"].isna().sum()"
   ]
  },
  {
   "cell_type": "code",
   "execution_count": 7,
   "id": "23cca3a3-1edc-49a4-bfbd-1e7cd019d80a",
   "metadata": {},
   "outputs": [
    {
     "name": "stdout",
     "output_type": "stream",
     "text": [
      "categoria\n",
      "Higiene      98\n",
      "Limpeza      95\n",
      "Bebidas      85\n",
      "Pet          82\n",
      "Outros       70\n",
      "Alimentos    70\n",
      "Name: count, dtype: int64\n"
     ]
    }
   ],
   "source": [
    "#Qual é a categoria de produto mais vendida em termos de quantidade?\n",
    "produtos_vendidos_quantidade = df[\"categoria\"].value_counts()\n",
    "print(produtos_vendidos_quantidade)"
   ]
  },
  {
   "cell_type": "code",
   "execution_count": 8,
   "id": "a46bcfa4-eb5b-45bd-91c8-8b1cb63d771c",
   "metadata": {},
   "outputs": [
    {
     "name": "stdout",
     "output_type": "stream",
     "text": [
      "forma_pagamento\n",
      "Cartão Crédito    38.640279\n",
      "Cartão Débito     34.923843\n",
      "Dinheiro          47.663300\n",
      "Pix               43.213039\n",
      "Name: valor, dtype: float64\n"
     ]
    }
   ],
   "source": [
    "#Qual o valor médio das compras por forma de pagamento?\n",
    "valor_medio_forma_pagamento = df.groupby(\"forma_pagamento\")[\"valor\"].mean()\n",
    "print(valor_medio_forma_pagamento)"
   ]
  },
  {
   "cell_type": "code",
   "execution_count": 11,
   "id": "4f87990e-d45a-4daa-96fe-eac5ceac27dc",
   "metadata": {},
   "outputs": [
    {
     "data": {
      "image/png": "[encoded data removed]",
      "text/plain": [
       "<Figure size 640x480 with 1 Axes>"
      ]
     },
     "metadata": {},
     "output_type": "display_data"
    }
   ],
   "source": [
    "#Crie um gráfico de barras horizontal mostrando o valor total de compras por dia da semana (dia_semana).\n",
    "valor_total_dia_semana = df.groupby(\"dia_semana\")[\"valor\"].sum()\n",
    "sns.barplot(x=valor_total_dia_semana.values, y=valor_total_dia_semana.index)\n",
    "plt.title(\"Valor Total de Compras por Dia da Semana\")\n",
    "plt.xlabel(\"Valor Total\")\n",
    "plt.ylabel(\"Dia da Semana\")\n",
    "plt.show()"
   ]
  },
  {
   "cell_type": "code",
   "execution_count": 15,
   "id": "8449054d-2672-4e7f-8e4f-bb58bd83949b",
   "metadata": {},
   "outputs": [
    {
     "name": "stdout",
     "output_type": "stream",
     "text": [
      "827.9383316975334\n"
     ]
    }
   ],
   "source": [
    "#Crie um modelo para prever o valor da compra com base nas colunas:\n",
    "X = df[[\"dia_semana\", \"categoria\", \"forma_pagamento\"]]\n",
    "y = df[\"valor\"]\n",
    "\n",
    "X = pd.get_dummies(X)\n",
    "\n",
    "X_train, X_test, y_train, y_test = train_test_split(X, y, test_size=0.3, random_state=42)\n",
    "\n",
    "modelo = RandomForestRegressor(random_state=42)\n",
    "modelo.fit(X_train, y_train)\n",
    "\n",
    "y_pred = modelo.predict(X_test)\n",
    "print(mean_squared_error(y_test, y_pred))"
   ]
  }
 ],
 "metadata": {
  "kernelspec": {
   "display_name": "Python 3 (ipykernel)",
   "language": "python",
   "name": "python3"
  },
  "language_info": {
   "codemirror_mode": {
    "name": "ipython",
    "version": 3
   },
   "file_extension": ".py",
   "mimetype": "text/x-python",
   "name": "python",
   "nbconvert_exporter": "python",
   "pygments_lexer": "ipython3",
   "version": "3.12.7"
  }
 },
 "nbformat": 4,
 "nbformat_minor": 5
}
