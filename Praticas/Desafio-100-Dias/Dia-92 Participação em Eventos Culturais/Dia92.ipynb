{
 "cells": [
  {
   "cell_type": "markdown",
   "id": "57e16d1a",
   "metadata": {},
   "source": [
    "🎯 Desafio dia 92 — Participação em Eventos Culturais\n",
    "\n",
    "📂 Dataset: desafio_dia_92_eventos_culturais.csv\n",
    "\n",
    "🔍 Contexto: A Secretaria de Cultura deseja entender melhor o perfil dos participantes de eventos culturais (shows, cinema, teatro, etc.) ao longo da semana, com base na idade, gênero e avaliação dos eventos.\n",
    "\n",
    "🛠️ Tarefas do desafio\n",
    "🧹 Tratamento de dados\n",
    "\n",
    "- Preencha os valores ausentes em avaliacao_evento com a moda por tipo de evento.\n",
    "\n",
    "📊 Análise geral\n",
    "\n",
    "- Qual o tipo de evento mais frequentado por pessoas acima de 40 anos?\n",
    "\n",
    "- Qual dia da semana tem a maior média de avaliação?\n",
    "\n",
    "📈 Visualização de dados\n",
    "\n",
    "- Construa um gráfico de calor (heatmap) que mostre a quantidade de eventos frequentados por genero e evento.\n",
    "\n",
    "🤖 Machine Learning - Classificação (leve)\n",
    "\n",
    "- Crie um modelo simples de classificação para prever se a avaliacao_evento será alta (4 ou 5) ou baixa (1 a 3) com base em:\n",
    "\n",
    "        genero, idade, evento, dia_semana\n",
    "\n",
    "    Transforme avaliacao_evento em uma nova coluna binária chamada avaliacao_alta.\n",
    "\n",
    "    Use:\n",
    "\n",
    "        get_dummies, train_test_split, LogisticRegression\n",
    "\n",
    "        Avalie com accuracy_score e confusion_matrix."
   ]
  },
  {
   "cell_type": "code",
   "execution_count": 1,
   "id": "b39d7877",
   "metadata": {},
   "outputs": [],
   "source": [
    "import pandas as pd\n",
    "import seaborn as sns\n",
    "import matplotlib.pyplot as plt\n",
    "from sklearn.model_selection import train_test_split\n",
    "from sklearn.linear_model import LogisticRegression\n",
    "from sklearn.metrics import accuracy_score, confusion_matrix"
   ]
  },
  {
   "cell_type": "code",
   "execution_count": 2,
   "id": "48344092",
   "metadata": {},
   "outputs": [
    {
     "data": {
      "text/html": [
       "<div>\n",
       "<style scoped>\n",
       "    .dataframe tbody tr th:only-of-type {\n",
       "        vertical-align: middle;\n",
       "    }\n",
       "\n",
       "    .dataframe tbody tr th {\n",
       "        vertical-align: top;\n",
       "    }\n",
       "\n",
       "    .dataframe thead th {\n",
       "        text-align: right;\n",
       "    }\n",
       "</style>\n",
       "<table border=\"1\" class=\"dataframe\">\n",
       "  <thead>\n",
       "    <tr style=\"text-align: right;\">\n",
       "      <th></th>\n",
       "      <th>id_participante</th>\n",
       "      <th>genero</th>\n",
       "      <th>idade</th>\n",
       "      <th>evento</th>\n",
       "      <th>dia_semana</th>\n",
       "      <th>avaliacao_evento</th>\n",
       "    </tr>\n",
       "  </thead>\n",
       "  <tbody>\n",
       "    <tr>\n",
       "      <th>0</th>\n",
       "      <td>8000</td>\n",
       "      <td>Outro</td>\n",
       "      <td>30</td>\n",
       "      <td>Cinema</td>\n",
       "      <td>Segunda</td>\n",
       "      <td>5.0</td>\n",
       "    </tr>\n",
       "    <tr>\n",
       "      <th>1</th>\n",
       "      <td>8001</td>\n",
       "      <td>Outro</td>\n",
       "      <td>38</td>\n",
       "      <td>Festival</td>\n",
       "      <td>Terça</td>\n",
       "      <td>5.0</td>\n",
       "    </tr>\n",
       "    <tr>\n",
       "      <th>2</th>\n",
       "      <td>8002</td>\n",
       "      <td>Outro</td>\n",
       "      <td>54</td>\n",
       "      <td>Festival</td>\n",
       "      <td>Sexta</td>\n",
       "      <td>3.0</td>\n",
       "    </tr>\n",
       "    <tr>\n",
       "      <th>3</th>\n",
       "      <td>8003</td>\n",
       "      <td>Outro</td>\n",
       "      <td>53</td>\n",
       "      <td>Exposição</td>\n",
       "      <td>Segunda</td>\n",
       "      <td>4.0</td>\n",
       "    </tr>\n",
       "    <tr>\n",
       "      <th>4</th>\n",
       "      <td>8004</td>\n",
       "      <td>Masculino</td>\n",
       "      <td>34</td>\n",
       "      <td>Festival</td>\n",
       "      <td>Segunda</td>\n",
       "      <td>5.0</td>\n",
       "    </tr>\n",
       "  </tbody>\n",
       "</table>\n",
       "</div>"
      ],
      "text/plain": [
       "   id_participante     genero  idade     evento dia_semana  avaliacao_evento\n",
       "0             8000      Outro     30     Cinema    Segunda               5.0\n",
       "1             8001      Outro     38   Festival      Terça               5.0\n",
       "2             8002      Outro     54   Festival      Sexta               3.0\n",
       "3             8003      Outro     53  Exposição    Segunda               4.0\n",
       "4             8004  Masculino     34   Festival    Segunda               5.0"
      ]
     },
     "execution_count": 2,
     "metadata": {},
     "output_type": "execute_result"
    }
   ],
   "source": [
    "df = pd.read_csv(\"desafio_dia_92_eventos_culturais.csv\")\n",
    "df.head()"
   ]
  },
  {
   "cell_type": "code",
   "execution_count": 3,
   "id": "d5b55139",
   "metadata": {},
   "outputs": [
    {
     "data": {
      "text/plain": [
       "np.int64(0)"
      ]
     },
     "execution_count": 3,
     "metadata": {},
     "output_type": "execute_result"
    }
   ],
   "source": [
    "#Preencha os valores ausentes em avaliacao_evento com a moda por tipo de evento.\n",
    "df[\"avaliacao_evento\"] = df[\"avaliacao_evento\"].fillna(\n",
    "    df.groupby(\"evento\")[\"avaliacao_evento\"].transform(lambda x: x.mode()[0])\n",
    ")\n",
    "df[\"avaliacao_evento\"].isna().sum()"
   ]
  },
  {
   "cell_type": "code",
   "execution_count": 6,
   "id": "95ebeae5",
   "metadata": {},
   "outputs": [
    {
     "name": "stdout",
     "output_type": "stream",
     "text": [
      "evento\n",
      "Cinema       59\n",
      "Exposição    54\n",
      "Festival     62\n",
      "Show         56\n",
      "Teatro       42\n",
      "Name: idade, dtype: int64\n"
     ]
    }
   ],
   "source": [
    "#Qual o tipo de evento mais frequentado por pessoas acima de 40 anos?\n",
    "idade40 = df[df[\"idade\"] > 40]\n",
    "evento_freq_idade = idade40.groupby(\"evento\")[\"idade\"].size()\n",
    "print(evento_freq_idade)"
   ]
  },
  {
   "cell_type": "code",
   "execution_count": 8,
   "id": "a4bf8945",
   "metadata": {},
   "outputs": [
    {
     "name": "stdout",
     "output_type": "stream",
     "text": [
      "dia_semana\n",
      "Sábado     3.774194\n",
      "Quarta     3.746988\n",
      "Terça      3.746479\n",
      "Segunda    3.707692\n",
      "Quinta     3.700000\n",
      "Domingo    3.675000\n",
      "Sexta      3.536232\n",
      "Name: avaliacao_evento, dtype: float64\n"
     ]
    }
   ],
   "source": [
    "#Qual dia da semana tem a maior média de avaliação?\n",
    "dia_maior_avaliacao = df.groupby(\"dia_semana\")[\"avaliacao_evento\"].mean().sort_values(ascending=False)\n",
    "print(dia_maior_avaliacao)"
   ]
  },
  {
   "cell_type": "code",
   "execution_count": 17,
   "id": "a5729bc8",
   "metadata": {},
   "outputs": [
    {
     "data": {
      "image/png": "[encoded data removed]",
      "text/plain": [
       "<Figure size 640x480 with 2 Axes>"
      ]
     },
     "metadata": {},
     "output_type": "display_data"
    }
   ],
   "source": [
    "#Construa um gráfico de calor (heatmap) que mostre a quantidade de eventos frequentados por genero e evento.\n",
    "tabela = df.pivot_table(index=\"genero\", columns=\"evento\", aggfunc=\"size\", fill_value=0)\n",
    "\n",
    "sns.heatmap(tabela, annot=True)\n",
    "plt.title(\"Frequência de eventos por gênero e tipo de evento\")\n",
    "plt.ylabel(\"Gênero\")\n",
    "plt.xlabel(\"Evento\")\n",
    "plt.show()"
   ]
  },
  {
   "cell_type": "code",
   "execution_count": 20,
   "id": "84d77d53",
   "metadata": {},
   "outputs": [
    {
     "name": "stdout",
     "output_type": "stream",
     "text": [
      "0.6466666666666666\n",
      "[[ 1 52]\n",
      " [ 1 96]]\n"
     ]
    }
   ],
   "source": [
    "#Crie um modelo simples de classificação para prever se a avaliacao_evento será alta (4 ou 5) ou baixa (1 a 3) com base em\n",
    "df[\"avaliacao_alta\"] = df[\"avaliacao_evento\"].isin([4, 5])\n",
    "\n",
    "X = df[[\"genero\", \"idade\", \"evento\", \"dia_semana\"]]\n",
    "y = df[\"avaliacao_alta\"]\n",
    "\n",
    "X = pd.get_dummies(X)\n",
    "\n",
    "X_train, X_test, y_train, y_test = train_test_split(X, y, test_size=0.3, random_state=42)\n",
    "\n",
    "modelo = LogisticRegression(max_iter=1000)\n",
    "modelo.fit(X_train, y_train)\n",
    "\n",
    "y_pred = modelo.predict(X_test)\n",
    "print(accuracy_score(y_test, y_pred))\n",
    "print(confusion_matrix(y_test, y_pred))"
   ]
  },
  {
   "cell_type": "code",
   "execution_count": null,
   "id": "7911c33d",
   "metadata": {},
   "outputs": [],
   "source": []
  }
 ],
 "metadata": {
  "kernelspec": {
   "display_name": "Python (jupyter_env)",
   "language": "python",
   "name": "jupyter_env"
  },
  "language_info": {
   "codemirror_mode": {
    "name": "ipython",
    "version": 3
   },
   "file_extension": ".py",
   "mimetype": "text/x-python",
   "name": "python",
   "nbconvert_exporter": "python",
   "pygments_lexer": "ipython3",
   "version": "3.13.2"
  }
 },
 "nbformat": 4,
 "nbformat_minor": 5
}
