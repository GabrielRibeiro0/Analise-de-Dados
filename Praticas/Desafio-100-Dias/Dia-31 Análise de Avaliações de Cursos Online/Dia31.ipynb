{
 "cells": [
  {
   "cell_type": "markdown",
   "id": "127ae687-15c4-4a84-850f-7870b125b35d",
   "metadata": {},
   "source": [
    "Desafio 31: Análise de Avaliações de Cursos Online\n",
    "\n",
    "📂 Dataset: Avaliações feitas por alunos em diferentes cursos.\n",
    "Colunas: Curso, Aluno, Nota, Comentário, Data_Avaliacao\n",
    "\n",
    "🎯 Tarefas:\n",
    "\n",
    "Trate a coluna Nota, corrigindo erros e preenchendo dados faltantes de maneira adequada.\n",
    "\n",
    "Calcule a média de nota por curso.\n",
    "\n",
    "Qual curso teve a maior quantidade de avaliações com nota 5?\n",
    "\n",
    "Existe alguma diferença de média de notas entre avaliações feitas antes e depois de 2025-01-01?\n",
    "\n",
    "Crie um gráfico de barras mostrando o número de avaliações por curso."
   ]
  },
  {
   "cell_type": "code",
   "execution_count": 24,
   "id": "778003c6-79da-44e9-aa3e-ca93d4bec5ab",
   "metadata": {},
   "outputs": [],
   "source": [
    "import pandas as pd\n",
    "import matplotlib.pyplot as plt"
   ]
  },
  {
   "cell_type": "code",
   "execution_count": 8,
   "id": "37efeb09-3482-40b7-bac2-a94bd36ee1e6",
   "metadata": {},
   "outputs": [
    {
     "data": {
      "text/html": [
       "<div>\n",
       "<style scoped>\n",
       "    .dataframe tbody tr th:only-of-type {\n",
       "        vertical-align: middle;\n",
       "    }\n",
       "\n",
       "    .dataframe tbody tr th {\n",
       "        vertical-align: top;\n",
       "    }\n",
       "\n",
       "    .dataframe thead th {\n",
       "        text-align: right;\n",
       "    }\n",
       "</style>\n",
       "<table border=\"1\" class=\"dataframe\">\n",
       "  <thead>\n",
       "    <tr style=\"text-align: right;\">\n",
       "      <th></th>\n",
       "      <th>Curso</th>\n",
       "      <th>Aluno</th>\n",
       "      <th>Nota</th>\n",
       "      <th>Comentário</th>\n",
       "      <th>Data_Avaliacao</th>\n",
       "    </tr>\n",
       "  </thead>\n",
       "  <tbody>\n",
       "    <tr>\n",
       "      <th>0</th>\n",
       "      <td>Data Science</td>\n",
       "      <td>Aluno_143</td>\n",
       "      <td>3</td>\n",
       "      <td>Muito bom</td>\n",
       "      <td>2024-08-27</td>\n",
       "    </tr>\n",
       "    <tr>\n",
       "      <th>1</th>\n",
       "      <td>Power BI</td>\n",
       "      <td>Aluno_141</td>\n",
       "      <td>1</td>\n",
       "      <td>NaN</td>\n",
       "      <td>2024-11-22</td>\n",
       "    </tr>\n",
       "    <tr>\n",
       "      <th>2</th>\n",
       "      <td>Excel Avançado</td>\n",
       "      <td>Aluno_93</td>\n",
       "      <td>5</td>\n",
       "      <td>Ótimo curso!</td>\n",
       "      <td>2024-10-27</td>\n",
       "    </tr>\n",
       "    <tr>\n",
       "      <th>3</th>\n",
       "      <td>Data Science</td>\n",
       "      <td>Aluno_161</td>\n",
       "      <td>1</td>\n",
       "      <td>Muito bom</td>\n",
       "      <td>2024-09-23</td>\n",
       "    </tr>\n",
       "    <tr>\n",
       "      <th>4</th>\n",
       "      <td>Python Básico</td>\n",
       "      <td>Aluno_128</td>\n",
       "      <td>3</td>\n",
       "      <td>Não gostei</td>\n",
       "      <td>2025-03-02</td>\n",
       "    </tr>\n",
       "  </tbody>\n",
       "</table>\n",
       "</div>"
      ],
      "text/plain": [
       "            Curso      Aluno Nota    Comentário Data_Avaliacao\n",
       "0    Data Science  Aluno_143    3     Muito bom     2024-08-27\n",
       "1        Power BI  Aluno_141    1           NaN     2024-11-22\n",
       "2  Excel Avançado   Aluno_93    5  Ótimo curso!     2024-10-27\n",
       "3    Data Science  Aluno_161    1     Muito bom     2024-09-23\n",
       "4   Python Básico  Aluno_128    3    Não gostei     2025-03-02"
      ]
     },
     "execution_count": 8,
     "metadata": {},
     "output_type": "execute_result"
    }
   ],
   "source": [
    "df = pd.read_csv(\"dia_31_avaliacoes_cursos.csv\")\n",
    "df.head()"
   ]
  },
  {
   "cell_type": "code",
   "execution_count": 9,
   "id": "41148ff2-fc59-4f9b-822e-417cd800e4d4",
   "metadata": {},
   "outputs": [
    {
     "data": {
      "text/plain": [
       "0"
      ]
     },
     "execution_count": 9,
     "metadata": {},
     "output_type": "execute_result"
    }
   ],
   "source": [
    "#Trate a coluna Nota, corrigindo erros e preenchendo dados faltantes de maneira adequada.\n",
    "df[\"Nota\"] = pd.to_numeric(df[\"Nota\"], errors=\"coerce\")\n",
    "df[\"Nota\"] = df.groupby(\"Curso\")[\"Nota\"].transform(lambda x: x.fillna(x.mean()))\n",
    "df[\"Nota\"].isna().sum()"
   ]
  },
  {
   "cell_type": "code",
   "execution_count": 29,
   "id": "7ea5d9cf-35ed-4b0c-91d2-086b767b4e11",
   "metadata": {},
   "outputs": [
    {
     "name": "stdout",
     "output_type": "stream",
     "text": [
      "Curso\n",
      "Data Science        3.15\n",
      "Excel Avançado      3.36\n",
      "Machine Learning    3.41\n",
      "Power BI            3.05\n",
      "Python Básico       3.11\n"
     ]
    }
   ],
   "source": [
    "#Calcule a média de nota por curso.\n",
    "notaCurso = df.groupby(\"Curso\")[\"Nota\"].mean().round(2)\n",
    "print(notaCurso.to_string())"
   ]
  },
  {
   "cell_type": "code",
   "execution_count": 21,
   "id": "f0c36948-fef0-45b3-85e1-8e7e89f32358",
   "metadata": {},
   "outputs": [
    {
     "name": "stdout",
     "output_type": "stream",
     "text": [
      "O curso com mais avaliações nota 5 foi 'Excel Avançado' com 20 avaliações.\n"
     ]
    }
   ],
   "source": [
    "#Qual curso teve a maior quantidade de avaliações com nota 5?\n",
    "nota5 = df[df[\"Nota\"] == 5]\n",
    "cursoNota5 = nota5[\"Curso\"].value_counts()\n",
    "print(f\"O curso com mais avaliações nota 5 foi '{cursoNota5.idxmax()}' com {cursoNota5.max()} avaliações.\")"
   ]
  },
  {
   "cell_type": "code",
   "execution_count": 23,
   "id": "9f0a9c3a-0414-4097-9a79-6f15247a2749",
   "metadata": {},
   "outputs": [
    {
     "name": "stdout",
     "output_type": "stream",
     "text": [
      "Média de notas antes de 2025-01-01: 3.17\n",
      "Média de notas depois de 2025-01-01: 3.29\n"
     ]
    }
   ],
   "source": [
    "#Existe alguma diferença de média de notas entre avaliações feitas antes e depois de 2025-01-01?\n",
    "antes2025 = df[df[\"Data_Avaliacao\"] < \"2025-01-01\"]\n",
    "depois2025 = df[df[\"Data_Avaliacao\"] >= \"2025-01-01\"]\n",
    "\n",
    "mediaAntes = antes2025[\"Nota\"].mean()\n",
    "mediaDepois = depois2025[\"Nota\"].mean()\n",
    "\n",
    "print(f\"Média de notas antes de 2025-01-01: {mediaAntes:.2f}\")\n",
    "print(f\"Média de notas depois de 2025-01-01: {mediaDepois:.2f}\")"
   ]
  },
  {
   "cell_type": "code",
   "execution_count": 28,
   "id": "5bdb7e48-9b69-4ed2-aca8-6da2aea31cf7",
   "metadata": {},
   "outputs": [
    {
     "data": {
      "image/png": "[encoded data removed]",
      "text/plain": [
       "<Figure size 640x480 with 1 Axes>"
      ]
     },
     "metadata": {},
     "output_type": "display_data"
    }
   ],
   "source": [
    "#Crie um gráfico de barras mostrando o número de avaliações por curso.\n",
    "avaliacoesCurso = df[\"Curso\"].value_counts()\n",
    "\n",
    "avaliacoesCurso.plot(kind=\"barh\", color=\"skyblue\")\n",
    "plt.title(\"Número de Avaliações por Curso\")\n",
    "plt.xlabel(\"Curso\")\n",
    "plt.ylabel(\"Número de Avaliações\")\n",
    "plt.grid(axis=\"x\", linestyle=\"--\", alpha=0.7)\n",
    "plt.show()"
   ]
  }
 ],
 "metadata": {
  "kernelspec": {
   "display_name": "Python 3 (ipykernel)",
   "language": "python",
   "name": "python3"
  },
  "language_info": {
   "codemirror_mode": {
    "name": "ipython",
    "version": 3
   },
   "file_extension": ".py",
   "mimetype": "text/x-python",
   "name": "python",
   "nbconvert_exporter": "python",
   "pygments_lexer": "ipython3",
   "version": "3.12.7"
  }
 },
 "nbformat": 4,
 "nbformat_minor": 5
}
