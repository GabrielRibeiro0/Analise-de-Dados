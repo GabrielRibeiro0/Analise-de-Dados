{
 "cells": [
  {
   "cell_type": "markdown",
   "id": "10b8cd20",
   "metadata": {},
   "source": [
    "🎯 Desafio dia 75 — Transações em Farmácia\n",
    "\n",
    "📂 Dataset: desafio_dia_75_transacoes_farmacia.csv\n",
    "\n",
    "🔍 Contexto: Você está analisando as transações realizadas em uma rede de farmácias. As vendas incluem produtos de diferentes categorias, preços variados e formas de pagamento diversas. Seu objetivo é entender o perfil das compras e prever o valor total gasto por transação.\n",
    "\n",
    "🛠️ Tarefas do desafio:\n",
    "Tratamento de dados\n",
    "\n",
    "- Preencha os valores ausentes da coluna preco_unitario com a média da categoria correspondente.\n",
    "\n",
    "- Preencha os valores ausentes da coluna forma_pagamento com o valor mais frequente.\n",
    "\n",
    "Análise geral\n",
    "\n",
    "- Qual é o produto com o maior ticket médio (valor_total)?\n",
    "\n",
    "- Qual é a forma de pagamento mais utilizada?\n",
    "\n",
    "Visualização de dados\n",
    "\n",
    "- Crie um gráfico de barras com o valor total movimentado por categoria de produto.\n",
    "\n",
    "Machine Learning - Regressão\n",
    "\n",
    "- Crie um modelo de regressão (LinearRegression ou RandomForestRegressor) para prever o valor_total da transação com base em:\n",
    "\n",
    "    produto, categoria, preco_unitario, quantidade, forma_pagamento\n",
    "\n",
    "    Utilize train_test_split e get_dummies para codificar as variáveis categóricas.\n",
    "\n",
    "    Avalie o desempenho do modelo com mean_squared_error."
   ]
  },
  {
   "cell_type": "code",
   "execution_count": 19,
   "id": "227e904c",
   "metadata": {},
   "outputs": [],
   "source": [
    "import pandas as pd\n",
    "import seaborn as sns\n",
    "import matplotlib.pyplot as plt\n",
    "from sklearn.model_selection import train_test_split\n",
    "from sklearn.ensemble import RandomForestRegressor\n",
    "from sklearn.metrics import mean_squared_error"
   ]
  },
  {
   "cell_type": "code",
   "execution_count": 2,
   "id": "9e0170ad",
   "metadata": {},
   "outputs": [
    {
     "data": {
      "text/html": [
       "<div>\n",
       "<style scoped>\n",
       "    .dataframe tbody tr th:only-of-type {\n",
       "        vertical-align: middle;\n",
       "    }\n",
       "\n",
       "    .dataframe tbody tr th {\n",
       "        vertical-align: top;\n",
       "    }\n",
       "\n",
       "    .dataframe thead th {\n",
       "        text-align: right;\n",
       "    }\n",
       "</style>\n",
       "<table border=\"1\" class=\"dataframe\">\n",
       "  <thead>\n",
       "    <tr style=\"text-align: right;\">\n",
       "      <th></th>\n",
       "      <th>id_transacao</th>\n",
       "      <th>produto</th>\n",
       "      <th>categoria</th>\n",
       "      <th>preco_unitario</th>\n",
       "      <th>quantidade</th>\n",
       "      <th>forma_pagamento</th>\n",
       "      <th>valor_total</th>\n",
       "    </tr>\n",
       "  </thead>\n",
       "  <tbody>\n",
       "    <tr>\n",
       "      <th>0</th>\n",
       "      <td>3001</td>\n",
       "      <td>Paracetamol</td>\n",
       "      <td>Analgésico</td>\n",
       "      <td>68.39</td>\n",
       "      <td>1</td>\n",
       "      <td>Dinheiro</td>\n",
       "      <td>68.39</td>\n",
       "    </tr>\n",
       "    <tr>\n",
       "      <th>1</th>\n",
       "      <td>3002</td>\n",
       "      <td>Paracetamol</td>\n",
       "      <td>Antibiótico</td>\n",
       "      <td>16.24</td>\n",
       "      <td>4</td>\n",
       "      <td>Cartão Débito</td>\n",
       "      <td>64.96</td>\n",
       "    </tr>\n",
       "    <tr>\n",
       "      <th>2</th>\n",
       "      <td>3003</td>\n",
       "      <td>Vitamina C</td>\n",
       "      <td>Vitamina</td>\n",
       "      <td>8.64</td>\n",
       "      <td>3</td>\n",
       "      <td>Pix</td>\n",
       "      <td>25.92</td>\n",
       "    </tr>\n",
       "    <tr>\n",
       "      <th>3</th>\n",
       "      <td>3004</td>\n",
       "      <td>Dipirona</td>\n",
       "      <td>Vitamina</td>\n",
       "      <td>63.28</td>\n",
       "      <td>3</td>\n",
       "      <td>Cartão Débito</td>\n",
       "      <td>189.84</td>\n",
       "    </tr>\n",
       "    <tr>\n",
       "      <th>4</th>\n",
       "      <td>3005</td>\n",
       "      <td>Paracetamol</td>\n",
       "      <td>Antibiótico</td>\n",
       "      <td>75.35</td>\n",
       "      <td>4</td>\n",
       "      <td>Cartão Crédito</td>\n",
       "      <td>301.40</td>\n",
       "    </tr>\n",
       "  </tbody>\n",
       "</table>\n",
       "</div>"
      ],
      "text/plain": [
       "   id_transacao      produto    categoria  preco_unitario  quantidade  \\\n",
       "0          3001  Paracetamol   Analgésico           68.39           1   \n",
       "1          3002  Paracetamol  Antibiótico           16.24           4   \n",
       "2          3003   Vitamina C     Vitamina            8.64           3   \n",
       "3          3004     Dipirona     Vitamina           63.28           3   \n",
       "4          3005  Paracetamol  Antibiótico           75.35           4   \n",
       "\n",
       "  forma_pagamento  valor_total  \n",
       "0        Dinheiro        68.39  \n",
       "1   Cartão Débito        64.96  \n",
       "2             Pix        25.92  \n",
       "3   Cartão Débito       189.84  \n",
       "4  Cartão Crédito       301.40  "
      ]
     },
     "execution_count": 2,
     "metadata": {},
     "output_type": "execute_result"
    }
   ],
   "source": [
    "df = pd.read_csv(\"desafio_dia_75_transacoes_farmacia.csv\")\n",
    "df.head()"
   ]
  },
  {
   "cell_type": "code",
   "execution_count": 3,
   "id": "a3d9cb4e",
   "metadata": {},
   "outputs": [
    {
     "data": {
      "text/plain": [
       "np.int64(0)"
      ]
     },
     "execution_count": 3,
     "metadata": {},
     "output_type": "execute_result"
    }
   ],
   "source": [
    "#Preencha os valores ausentes da coluna preco_unitario com a média da categoria correspondente.\n",
    "df[\"preco_unitario\"] = df[\"preco_unitario\"].fillna(\n",
    "    df.groupby(\"categoria\")[\"preco_unitario\"].transform(\"mean\")\n",
    ")\n",
    "df[\"preco_unitario\"].isna().sum()"
   ]
  },
  {
   "cell_type": "code",
   "execution_count": 4,
   "id": "ca3f1556",
   "metadata": {},
   "outputs": [
    {
     "data": {
      "text/plain": [
       "np.int64(0)"
      ]
     },
     "execution_count": 4,
     "metadata": {},
     "output_type": "execute_result"
    }
   ],
   "source": [
    "#Preencha os valores ausentes da coluna forma_pagamento com o valor mais frequente.\n",
    "df[\"forma_pagamento\"] = df[\"forma_pagamento\"].fillna(df[\"forma_pagamento\"].mode()[0])\n",
    "df[\"forma_pagamento\"].isna().sum()"
   ]
  },
  {
   "cell_type": "code",
   "execution_count": 6,
   "id": "d77743d0",
   "metadata": {},
   "outputs": [
    {
     "name": "stdout",
     "output_type": "stream",
     "text": [
      "produto\n",
      "Vitamina C      111.85\n",
      "Ibuprofeno      108.65\n",
      "Paracetamol     106.48\n",
      "Xarope          104.99\n",
      "Dipirona        102.91\n",
      "Antialérgico     91.13\n",
      "Name: valor_total, dtype: float64\n"
     ]
    }
   ],
   "source": [
    "#Qual é o produto com o maior ticket médio (valor_total)?\n",
    "produto_ticket = df.groupby(\"produto\")[\"valor_total\"].mean().sort_values(ascending=False).round(2)\n",
    "print(produto_ticket)"
   ]
  },
  {
   "cell_type": "code",
   "execution_count": 9,
   "id": "d2adc869",
   "metadata": {},
   "outputs": [
    {
     "name": "stdout",
     "output_type": "stream",
     "text": [
      "forma_pagamento\n",
      "Cartão Crédito    151\n",
      "Cartão Débito     112\n",
      "Dinheiro          102\n",
      "Pix                95\n",
      "Name: count, dtype: int64\n"
     ]
    }
   ],
   "source": [
    "#Qual é a forma de pagamento mais utilizada?\n",
    "forma_pagamento_utilizada = df[\"forma_pagamento\"].value_counts()\n",
    "print(forma_pagamento_utilizada)"
   ]
  },
  {
   "cell_type": "code",
   "execution_count": 17,
   "id": "232a6960",
   "metadata": {},
   "outputs": [
    {
     "data": {
      "image/png": "[encoded data removed]",
      "text/plain": [
       "<Figure size 640x480 with 1 Axes>"
      ]
     },
     "metadata": {},
     "output_type": "display_data"
    }
   ],
   "source": [
    "#Crie um gráfico de barras com o valor total movimentado por categoria de produto.\n",
    "valor_total = df.groupby(\"categoria\")[\"valor_total\"].sum().reset_index()\n",
    "\n",
    "sns.barplot(valor_total, x=\"categoria\", y=\"valor_total\")\n",
    "plt.title(\"Valor total movimentado por categoria\")\n",
    "plt.ylabel(\"Valor Total\")\n",
    "plt.xlabel(\"Categoria\")\n",
    "plt.show()"
   ]
  },
  {
   "cell_type": "code",
   "execution_count": 21,
   "id": "a7259a78",
   "metadata": {},
   "outputs": [
    {
     "name": "stdout",
     "output_type": "stream",
     "text": [
      "131.46224010115947\n"
     ]
    }
   ],
   "source": [
    "#Crie um modelo de regressão para prever o valor_total da transação com base em:\n",
    "X = df[[\"produto\", \"categoria\", \"preco_unitario\", \"quantidade\", \"forma_pagamento\"]]\n",
    "y = df[\"valor_total\"]\n",
    "\n",
    "X = pd.get_dummies(X)\n",
    "\n",
    "X_train, X_test, y_train, y_test = train_test_split(X, y, test_size=0.3, random_state=42)\n",
    "\n",
    "modelo = RandomForestRegressor(random_state=42)\n",
    "modelo.fit(X_train, y_train)\n",
    "\n",
    "y_pred = modelo.predict(X_test)\n",
    "print(mean_squared_error(y_test, y_pred))"
   ]
  },
  {
   "cell_type": "code",
   "execution_count": null,
   "id": "46ca9e7f",
   "metadata": {},
   "outputs": [],
   "source": []
  }
 ],
 "metadata": {
  "kernelspec": {
   "display_name": "Python (jupyter_env)",
   "language": "python",
   "name": "jupyter_env"
  },
  "language_info": {
   "codemirror_mode": {
    "name": "ipython",
    "version": 3
   },
   "file_extension": ".py",
   "mimetype": "text/x-python",
   "name": "python",
   "nbconvert_exporter": "python",
   "pygments_lexer": "ipython3",
   "version": "3.13.2"
  }
 },
 "nbformat": 4,
 "nbformat_minor": 5
}
