{
 "cells": [
  {
   "cell_type": "markdown",
   "id": "79d05d89-df36-4ca0-84f3-993d1d2ac299",
   "metadata": {},
   "source": [
    "Desafio 38: Reclamações de Clientes\n",
    "\n",
    "📂 Dataset: Reclamações registradas por clientes de uma empresa.\n",
    "Colunas: ID, Data, Categoria, Meio_Contato, Tempo_Resposta (dias), Status\n",
    "\n",
    "🎯 Tarefas:\n",
    "\n",
    "Corrija inconsistências nos nomes da categoria (ex: \"entrega\").\n",
    "\n",
    "Trate o valor ausente em Tempo_Resposta (dias).\n",
    "\n",
    "Qual a média de tempo de resposta por meio de contato?\n",
    "\n",
    "Qual categoria teve mais reclamações?\n",
    "\n",
    "Crie um gráfico de pizza com a proporção de status das reclamações."
   ]
  },
  {
   "cell_type": "code",
   "execution_count": 32,
   "id": "efc3acc4-075f-4f79-96f8-e7ad49d174a3",
   "metadata": {},
   "outputs": [],
   "source": [
    "import pandas as pd\n",
    "import matplotlib.pyplot as plt"
   ]
  },
  {
   "cell_type": "code",
   "execution_count": 2,
   "id": "6f6cc319-7e99-4a86-b04e-f30c404c0282",
   "metadata": {},
   "outputs": [
    {
     "data": {
      "text/html": [
       "<div>\n",
       "<style scoped>\n",
       "    .dataframe tbody tr th:only-of-type {\n",
       "        vertical-align: middle;\n",
       "    }\n",
       "\n",
       "    .dataframe tbody tr th {\n",
       "        vertical-align: top;\n",
       "    }\n",
       "\n",
       "    .dataframe thead th {\n",
       "        text-align: right;\n",
       "    }\n",
       "</style>\n",
       "<table border=\"1\" class=\"dataframe\">\n",
       "  <thead>\n",
       "    <tr style=\"text-align: right;\">\n",
       "      <th></th>\n",
       "      <th>ID</th>\n",
       "      <th>Data</th>\n",
       "      <th>Categoria</th>\n",
       "      <th>Meio_Contato</th>\n",
       "      <th>Tempo_Resposta (dias)</th>\n",
       "      <th>Status</th>\n",
       "    </tr>\n",
       "  </thead>\n",
       "  <tbody>\n",
       "    <tr>\n",
       "      <th>0</th>\n",
       "      <td>RC0001</td>\n",
       "      <td>2024-01-06</td>\n",
       "      <td>Cobrança Indevida</td>\n",
       "      <td>Telefone</td>\n",
       "      <td>7.0</td>\n",
       "      <td>Não resolvida</td>\n",
       "    </tr>\n",
       "    <tr>\n",
       "      <th>1</th>\n",
       "      <td>RC0002</td>\n",
       "      <td>2024-01-12</td>\n",
       "      <td>Cobrança Indevida</td>\n",
       "      <td>Chat</td>\n",
       "      <td>9.0</td>\n",
       "      <td>Em andamento</td>\n",
       "    </tr>\n",
       "    <tr>\n",
       "      <th>2</th>\n",
       "      <td>RC0003</td>\n",
       "      <td>2024-01-26</td>\n",
       "      <td>Entrega</td>\n",
       "      <td>Redes Sociais</td>\n",
       "      <td>21.0</td>\n",
       "      <td>Resolvida</td>\n",
       "    </tr>\n",
       "    <tr>\n",
       "      <th>3</th>\n",
       "      <td>RC0004</td>\n",
       "      <td>2024-02-22</td>\n",
       "      <td>Produto com Defeito</td>\n",
       "      <td>E-mail</td>\n",
       "      <td>9.0</td>\n",
       "      <td>Não resolvida</td>\n",
       "    </tr>\n",
       "    <tr>\n",
       "      <th>4</th>\n",
       "      <td>RC0005</td>\n",
       "      <td>2024-03-17</td>\n",
       "      <td>Atendimento</td>\n",
       "      <td>Chat</td>\n",
       "      <td>15.0</td>\n",
       "      <td>Resolvida</td>\n",
       "    </tr>\n",
       "  </tbody>\n",
       "</table>\n",
       "</div>"
      ],
      "text/plain": [
       "       ID        Data            Categoria   Meio_Contato  \\\n",
       "0  RC0001  2024-01-06    Cobrança Indevida       Telefone   \n",
       "1  RC0002  2024-01-12    Cobrança Indevida           Chat   \n",
       "2  RC0003  2024-01-26              Entrega  Redes Sociais   \n",
       "3  RC0004  2024-02-22  Produto com Defeito         E-mail   \n",
       "4  RC0005  2024-03-17          Atendimento           Chat   \n",
       "\n",
       "   Tempo_Resposta (dias)         Status  \n",
       "0                    7.0  Não resolvida  \n",
       "1                    9.0   Em andamento  \n",
       "2                   21.0      Resolvida  \n",
       "3                    9.0  Não resolvida  \n",
       "4                   15.0      Resolvida  "
      ]
     },
     "execution_count": 2,
     "metadata": {},
     "output_type": "execute_result"
    }
   ],
   "source": [
    "df = pd.read_csv(\"dia_38_reclamacoes_clientes.csv\")\n",
    "df.head()"
   ]
  },
  {
   "cell_type": "code",
   "execution_count": 6,
   "id": "dc9460f0-6c9a-442f-9df3-6d0e52935c9a",
   "metadata": {},
   "outputs": [
    {
     "data": {
      "text/plain": [
       "array(['Cobrança Indevida', 'Entrega', 'Produto Com Defeito',\n",
       "       'Atendimento', 'Garantia'], dtype=object)"
      ]
     },
     "execution_count": 6,
     "metadata": {},
     "output_type": "execute_result"
    }
   ],
   "source": [
    "#Corrija inconsistências nos nomes da categoria (ex: \"entrega\").\n",
    "df[\"Categoria\"] = df[\"Categoria\"].str.title()\n",
    "df[\"Categoria\"].unique()"
   ]
  },
  {
   "cell_type": "code",
   "execution_count": 25,
   "id": "faf4fc1d-778e-408c-a9a9-afafc43f98b4",
   "metadata": {},
   "outputs": [
    {
     "name": "stdout",
     "output_type": "stream",
     "text": [
      "<class 'pandas.core.series.Series'>\n",
      "RangeIndex: 450 entries, 0 to 449\n",
      "Series name: Tempo_Resposta (dias)\n",
      "Non-Null Count  Dtype  \n",
      "--------------  -----  \n",
      "450 non-null    float64\n",
      "dtypes: float64(1)\n",
      "memory usage: 3.6 KB\n"
     ]
    }
   ],
   "source": [
    "#Trate o valor ausente em Tempo_Resposta (dias).\n",
    "df[\"Tempo_Resposta (dias)\"] = pd.to_numeric(df[\"Tempo_Resposta (dias)\"], errors=\"coerce\")\n",
    "df[\"Tempo_Resposta (dias)\"] = df[\"Tempo_Resposta (dias)\"].fillna(\n",
    "    df.groupby(\"Categoria\")[\"Tempo_Resposta (dias)\"].transform(\"mean\").round(2)\n",
    ")"
   ]
  },
  {
   "cell_type": "code",
   "execution_count": 28,
   "id": "743db1e0-d5ad-481c-82b8-3f3a3486a540",
   "metadata": {},
   "outputs": [
    {
     "name": "stdout",
     "output_type": "stream",
     "text": [
      "Meio_Contato\n",
      "Chat             15.30\n",
      "E-mail           15.50\n",
      "Redes Sociais    14.78\n",
      "Telefone         15.69\n"
     ]
    }
   ],
   "source": [
    "#Qual a média de tempo de resposta por meio de contato?\n",
    "mediaRespostaMeioContato = df.groupby(\"Meio_Contato\")[\"Tempo_Resposta (dias)\"].mean().round(2)\n",
    "print(mediaRespostaMeioContato.to_string())"
   ]
  },
  {
   "cell_type": "code",
   "execution_count": 31,
   "id": "fe36139a-f915-4937-b803-105e365df52a",
   "metadata": {},
   "outputs": [
    {
     "name": "stdout",
     "output_type": "stream",
     "text": [
      "Categoria com mais reclamações: Cobrança Indevida (98 reclamações)\n"
     ]
    }
   ],
   "source": [
    "#Qual categoria teve mais reclamações?\n",
    "categoriareclamacoes = df[\"Categoria\"].value_counts()\n",
    "print(f\"Categoria com mais reclamações: {categoriareclamacoes.idxmax()} ({categoriareclamacoes.max()} reclamações)\")"
   ]
  },
  {
   "cell_type": "code",
   "execution_count": 35,
   "id": "71c59fee-922a-4cf7-887e-4fc6a5cb5197",
   "metadata": {},
   "outputs": [
    {
     "data": {
      "image/png": "[encoded data removed]",
      "text/plain": [
       "<Figure size 640x480 with 1 Axes>"
      ]
     },
     "metadata": {},
     "output_type": "display_data"
    }
   ],
   "source": [
    "#Crie um gráfico de pizza com a proporção de status das reclamações.\n",
    "statusreclamacoes = df[\"Status\"].value_counts()\n",
    "\n",
    "plt.pie(statusreclamacoes, labels=statusreclamacoes.index, autopct='%1.1f%%', startangle=90)\n",
    "plt.title(\"Proporção de Status das Reclamações\")\n",
    "plt.axis('equal')\n",
    "plt.show()"
   ]
  }
 ],
 "metadata": {
  "kernelspec": {
   "display_name": "Python 3 (ipykernel)",
   "language": "python",
   "name": "python3"
  },
  "language_info": {
   "codemirror_mode": {
    "name": "ipython",
    "version": 3
   },
   "file_extension": ".py",
   "mimetype": "text/x-python",
   "name": "python",
   "nbconvert_exporter": "python",
   "pygments_lexer": "ipython3",
   "version": "3.12.7"
  }
 },
 "nbformat": 4,
 "nbformat_minor": 5
}
