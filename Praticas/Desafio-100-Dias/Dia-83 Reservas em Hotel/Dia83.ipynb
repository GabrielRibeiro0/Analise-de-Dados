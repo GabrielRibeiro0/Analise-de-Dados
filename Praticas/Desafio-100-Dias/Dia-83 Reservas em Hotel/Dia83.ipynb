{
 "cells": [
  {
   "cell_type": "markdown",
   "id": "00ea0580-e6e8-488c-be57-c754461a6813",
   "metadata": {},
   "source": [
    "🎯 Desafio dia 83 — Reservas em Hotel\n",
    "\n",
    "📂 Dataset: desafio_dia_83_reservas_hotel.csv\n",
    "📥 Clique aqui para baixar o CSV\n",
    "\n",
    "🔍 Contexto: Um hotel deseja compreender melhor o perfil dos hóspedes e os padrões de reserva ao longo da semana. Seu papel é analisar os dados e construir um modelo preditivo para auxiliar nas estratégias de marketing e atendimento.\n",
    "\n",
    "🛠️ Tarefas do desafio\n",
    "\n",
    "🧹 Tratamento de dados\n",
    "- Preencha os valores ausentes em num_noites com a média.\n",
    "\n",
    "- Preencha os valores ausentes em avaliacao_hospede com a mediana.\n",
    "\n",
    "📊 Análise geral\n",
    "- Qual é o tipo de quarto mais reservado?\n",
    "\n",
    "- Qual o número médio de noites reservadas por meio de reserva?\n",
    "\n",
    "📈 Visualização de dados\n",
    "- Crie um gráfico de barras horizontal com o número de reservas por dia da semana (dia_checkin).\n",
    "\n",
    "🤖 Machine Learning - Regressão\n",
    "- Crie um modelo para prever a avaliacao_hospede com base em:\n",
    "\n",
    "dia_checkin, tipo_quarto, meio_reserva, num_noites\n",
    "\n",
    "Utilize:\n",
    "\n",
    "train_test_split\n",
    "\n",
    "get_dummies\n",
    "\n",
    "RandomForestRegressor\n",
    "\n",
    "Avalie o desempenho com mean_squared_error.\n",
    "\n"
   ]
  },
  {
   "cell_type": "code",
   "execution_count": 23,
   "id": "09c614f0-28c0-4824-8dc4-f4fd738c2faa",
   "metadata": {},
   "outputs": [],
   "source": [
    "import pandas as pd\n",
    "import seaborn as sns\n",
    "import matplotlib.pyplot as plt\n",
    "from sklearn.model_selection import train_test_split\n",
    "from sklearn.ensemble import RandomForestRegressor\n",
    "from sklearn.metrics import mean_squared_error"
   ]
  },
  {
   "cell_type": "code",
   "execution_count": 3,
   "id": "ec9fbb09-b4bb-4741-90e8-cf51eba7f51d",
   "metadata": {},
   "outputs": [
    {
     "data": {
      "text/html": [
       "<div>\n",
       "<style scoped>\n",
       "    .dataframe tbody tr th:only-of-type {\n",
       "        vertical-align: middle;\n",
       "    }\n",
       "\n",
       "    .dataframe tbody tr th {\n",
       "        vertical-align: top;\n",
       "    }\n",
       "\n",
       "    .dataframe thead th {\n",
       "        text-align: right;\n",
       "    }\n",
       "</style>\n",
       "<table border=\"1\" class=\"dataframe\">\n",
       "  <thead>\n",
       "    <tr style=\"text-align: right;\">\n",
       "      <th></th>\n",
       "      <th>id_reserva</th>\n",
       "      <th>dia_checkin</th>\n",
       "      <th>tipo_quarto</th>\n",
       "      <th>meio_reserva</th>\n",
       "      <th>num_noites</th>\n",
       "      <th>avaliacao_hospede</th>\n",
       "    </tr>\n",
       "  </thead>\n",
       "  <tbody>\n",
       "    <tr>\n",
       "      <th>0</th>\n",
       "      <td>1</td>\n",
       "      <td>Quarta</td>\n",
       "      <td>Suíte</td>\n",
       "      <td>App</td>\n",
       "      <td>1.0</td>\n",
       "      <td>3.0</td>\n",
       "    </tr>\n",
       "    <tr>\n",
       "      <th>1</th>\n",
       "      <td>2</td>\n",
       "      <td>Segunda</td>\n",
       "      <td>Luxo</td>\n",
       "      <td>App</td>\n",
       "      <td>7.0</td>\n",
       "      <td>3.0</td>\n",
       "    </tr>\n",
       "    <tr>\n",
       "      <th>2</th>\n",
       "      <td>3</td>\n",
       "      <td>Segunda</td>\n",
       "      <td>Luxo</td>\n",
       "      <td>Telefone</td>\n",
       "      <td>1.0</td>\n",
       "      <td>2.0</td>\n",
       "    </tr>\n",
       "    <tr>\n",
       "      <th>3</th>\n",
       "      <td>4</td>\n",
       "      <td>Segunda</td>\n",
       "      <td>Suíte</td>\n",
       "      <td>Site</td>\n",
       "      <td>7.0</td>\n",
       "      <td>3.0</td>\n",
       "    </tr>\n",
       "    <tr>\n",
       "      <th>4</th>\n",
       "      <td>5</td>\n",
       "      <td>Segunda</td>\n",
       "      <td>Standard</td>\n",
       "      <td>Site</td>\n",
       "      <td>7.0</td>\n",
       "      <td>4.0</td>\n",
       "    </tr>\n",
       "  </tbody>\n",
       "</table>\n",
       "</div>"
      ],
      "text/plain": [
       "   id_reserva dia_checkin tipo_quarto meio_reserva  num_noites  \\\n",
       "0           1      Quarta       Suíte          App         1.0   \n",
       "1           2     Segunda        Luxo          App         7.0   \n",
       "2           3     Segunda        Luxo     Telefone         1.0   \n",
       "3           4     Segunda       Suíte         Site         7.0   \n",
       "4           5     Segunda    Standard         Site         7.0   \n",
       "\n",
       "   avaliacao_hospede  \n",
       "0                3.0  \n",
       "1                3.0  \n",
       "2                2.0  \n",
       "3                3.0  \n",
       "4                4.0  "
      ]
     },
     "execution_count": 3,
     "metadata": {},
     "output_type": "execute_result"
    }
   ],
   "source": [
    "df = pd.read_csv(\"desafio_dia_83_reservas_hotel.csv\")\n",
    "df.head()"
   ]
  },
  {
   "cell_type": "code",
   "execution_count": 4,
   "id": "c79ccbfe-63fa-47a8-895f-470edef99d9a",
   "metadata": {},
   "outputs": [
    {
     "data": {
      "text/plain": [
       "0"
      ]
     },
     "execution_count": 4,
     "metadata": {},
     "output_type": "execute_result"
    }
   ],
   "source": [
    "#Preencha os valores ausentes em num_noites com a média.\n",
    "df[\"num_noites\"] = df[\"num_noites\"].fillna(df[\"num_noites\"].mean())\n",
    "df[\"num_noites\"].isna().sum()"
   ]
  },
  {
   "cell_type": "code",
   "execution_count": 5,
   "id": "2dea49b5-97ec-44f6-bc75-baf4372cc7ca",
   "metadata": {},
   "outputs": [
    {
     "data": {
      "text/plain": [
       "0"
      ]
     },
     "execution_count": 5,
     "metadata": {},
     "output_type": "execute_result"
    }
   ],
   "source": [
    "#Preencha os valores ausentes em avaliacao_hospede com a mediana.\n",
    "df[\"avaliacao_hospede\"] = df[\"avaliacao_hospede\"].fillna(df[\"avaliacao_hospede\"].median())\n",
    "df[\"avaliacao_hospede\"].isna().sum()"
   ]
  },
  {
   "cell_type": "code",
   "execution_count": 6,
   "id": "7c46373e-610c-44f7-8d76-e70321da87ee",
   "metadata": {},
   "outputs": [
    {
     "name": "stdout",
     "output_type": "stream",
     "text": [
      "tipo_quarto\n",
      "Executivo    136\n",
      "Suíte        125\n",
      "Luxo         125\n",
      "Standard     114\n",
      "Name: count, dtype: int64\n"
     ]
    }
   ],
   "source": [
    "#Qual é o tipo de quarto mais reservado?\n",
    "quarto_mais_reservado = df[\"tipo_quarto\"].value_counts()\n",
    "print(quarto_mais_reservado)"
   ]
  },
  {
   "cell_type": "code",
   "execution_count": 13,
   "id": "bfa943a6-ca11-4afa-b1df-e366fedfeb03",
   "metadata": {},
   "outputs": [
    {
     "name": "stdout",
     "output_type": "stream",
     "text": [
      "meio_reserva\n",
      "Agência     4.59\n",
      "App         4.33\n",
      "Site        3.92\n",
      "Telefone    3.76\n",
      "Name: num_noites, dtype: float64\n"
     ]
    }
   ],
   "source": [
    "#Qual o número médio de noites reservadas por meio de reserva?\n",
    "media_noites_por_meio_reserva = df.groupby(\"meio_reserva\")[\"num_noites\"].mean()\n",
    "print(media_noites_por_meio_reserva.round(2))"
   ]
  },
  {
   "cell_type": "code",
   "execution_count": 22,
   "id": "061a6ded-dbf9-4fe2-b470-32d5295b13dd",
   "metadata": {},
   "outputs": [
    {
     "data": {
      "image/png": "[encoded data removed]",
      "text/plain": [
       "<Figure size 640x480 with 1 Axes>"
      ]
     },
     "metadata": {},
     "output_type": "display_data"
    }
   ],
   "source": [
    "#Crie um gráfico de barras horizontal com o número de reservas por dia da semana (dia_checkin).\n",
    "sns.countplot(df, y=\"dia_checkin\")\n",
    "plt.title(\"Quantidade de Reservas por Dia da Semana\")\n",
    "plt.ylabel(\"Dia Checkin\")\n",
    "plt.xlabel(\"Quantidade\")\n",
    "plt.grid(axis=\"x\", linestyle=\"--\", alpha=0.3)"
   ]
  },
  {
   "cell_type": "code",
   "execution_count": 26,
   "id": "30b21c04-c0e8-44e2-a999-30343771e195",
   "metadata": {},
   "outputs": [
    {
     "name": "stdout",
     "output_type": "stream",
     "text": [
      "1.4\n"
     ]
    }
   ],
   "source": [
    "#Crie um modelo para prever a avaliacao_hospede com base em:\n",
    "X = df[[\"dia_checkin\", \"tipo_quarto\", \"meio_reserva\", \"num_noites\"]]\n",
    "y = df[\"avaliacao_hospede\"]\n",
    "\n",
    "X = pd.get_dummies(X)\n",
    "\n",
    "X_train, X_test, y_train, y_test = train_test_split(X, y, test_size=0.3, random_state=42)\n",
    "\n",
    "modelo = RandomForestRegressor(random_state=42)\n",
    "modelo.fit(X_train, y_train)\n",
    "\n",
    "y_pred = modelo.predict(X_test)\n",
    "print(mean_squared_error(y_pred, y_test)."
   ]
  },
  {
   "cell_type": "code",
   "execution_count": null,
   "id": "6835ebb4-3dd5-4088-93ae-5673546d462d",
   "metadata": {},
   "outputs": [],
   "source": []
  }
 ],
 "metadata": {
  "kernelspec": {
   "display_name": "Python 3 (ipykernel)",
   "language": "python",
   "name": "python3"
  },
  "language_info": {
   "codemirror_mode": {
    "name": "ipython",
    "version": 3
   },
   "file_extension": ".py",
   "mimetype": "text/x-python",
   "name": "python",
   "nbconvert_exporter": "python",
   "pygments_lexer": "ipython3",
   "version": "3.12.7"
  }
 },
 "nbformat": 4,
 "nbformat_minor": 5
}
