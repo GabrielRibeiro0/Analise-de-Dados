{
 "cells": [
  {
   "cell_type": "markdown",
   "id": "2d80b2ae-3a0f-41d9-bf2c-7ae1080d0e0e",
   "metadata": {},
   "source": [
    "📊 Desafio 49 — Consumo de Água Residencial\n",
    "\n",
    "📂 Dataset: dia_49_consumo_agua.csv\n",
    "Este conjunto de dados contém informações sobre moradores, tipo de residência, presença de cisterna e volume de consumo mensal de água.\n",
    "\n",
    "🔍 Tarefas:\n",
    "\n",
    "Qual a média geral de consumo mensal de água?\n",
    "\n",
    "Qual tipo de residência apresenta maior consumo médio?\n",
    "\n",
    "Moradores com cisterna consomem menos água?\n",
    "\n",
    "Há diferença significativa de consumo entre as faixas etárias?"
   ]
  },
  {
   "cell_type": "code",
   "execution_count": 1,
   "id": "5eab616a-e331-48d2-881c-554822af0ff2",
   "metadata": {},
   "outputs": [],
   "source": [
    "import pandas as pd"
   ]
  },
  {
   "cell_type": "code",
   "execution_count": 2,
   "id": "0711f9d6-fb0d-4913-8a0c-d4efb9066902",
   "metadata": {},
   "outputs": [
    {
     "data": {
      "text/html": [
       "<div>\n",
       "<style scoped>\n",
       "    .dataframe tbody tr th:only-of-type {\n",
       "        vertical-align: middle;\n",
       "    }\n",
       "\n",
       "    .dataframe tbody tr th {\n",
       "        vertical-align: top;\n",
       "    }\n",
       "\n",
       "    .dataframe thead th {\n",
       "        text-align: right;\n",
       "    }\n",
       "</style>\n",
       "<table border=\"1\" class=\"dataframe\">\n",
       "  <thead>\n",
       "    <tr style=\"text-align: right;\">\n",
       "      <th></th>\n",
       "      <th>id_morador</th>\n",
       "      <th>faixa_etaria</th>\n",
       "      <th>tipo_residencia</th>\n",
       "      <th>consumo_mensal_litros</th>\n",
       "      <th>possui_cisterna</th>\n",
       "    </tr>\n",
       "  </thead>\n",
       "  <tbody>\n",
       "    <tr>\n",
       "      <th>0</th>\n",
       "      <td>1</td>\n",
       "      <td>18-25</td>\n",
       "      <td>Casa</td>\n",
       "      <td>5325.62</td>\n",
       "      <td>Não</td>\n",
       "    </tr>\n",
       "    <tr>\n",
       "      <th>1</th>\n",
       "      <td>2</td>\n",
       "      <td>26-35</td>\n",
       "      <td>Apartamento</td>\n",
       "      <td>5786.12</td>\n",
       "      <td>Não</td>\n",
       "    </tr>\n",
       "    <tr>\n",
       "      <th>2</th>\n",
       "      <td>3</td>\n",
       "      <td>18-25</td>\n",
       "      <td>Apartamento</td>\n",
       "      <td>9043.54</td>\n",
       "      <td>Sim</td>\n",
       "    </tr>\n",
       "    <tr>\n",
       "      <th>3</th>\n",
       "      <td>4</td>\n",
       "      <td>46-60</td>\n",
       "      <td>Casa</td>\n",
       "      <td>9830.00</td>\n",
       "      <td>Não</td>\n",
       "    </tr>\n",
       "    <tr>\n",
       "      <th>4</th>\n",
       "      <td>5</td>\n",
       "      <td>36-45</td>\n",
       "      <td>Casa</td>\n",
       "      <td>9159.88</td>\n",
       "      <td>Não</td>\n",
       "    </tr>\n",
       "  </tbody>\n",
       "</table>\n",
       "</div>"
      ],
      "text/plain": [
       "   id_morador faixa_etaria tipo_residencia  consumo_mensal_litros  \\\n",
       "0           1        18-25            Casa                5325.62   \n",
       "1           2        26-35     Apartamento                5786.12   \n",
       "2           3        18-25     Apartamento                9043.54   \n",
       "3           4        46-60            Casa                9830.00   \n",
       "4           5        36-45            Casa                9159.88   \n",
       "\n",
       "  possui_cisterna  \n",
       "0             Não  \n",
       "1             Não  \n",
       "2             Sim  \n",
       "3             Não  \n",
       "4             Não  "
      ]
     },
     "execution_count": 2,
     "metadata": {},
     "output_type": "execute_result"
    }
   ],
   "source": [
    "df = pd.read_csv(\"dia_49_consumo_agua.csv\")\n",
    "df.head()"
   ]
  },
  {
   "cell_type": "code",
   "execution_count": 4,
   "id": "c8d9b978-57f9-442c-9bf8-7c26245c5947",
   "metadata": {},
   "outputs": [
    {
     "name": "stdout",
     "output_type": "stream",
     "text": [
      "7508.92\n"
     ]
    }
   ],
   "source": [
    "#Qual a média geral de consumo mensal de água?\n",
    "mediaConsumoAgua = df[\"consumo_mensal_litros\"].mean().round(2)\n",
    "print(mediaConsumoAgua)"
   ]
  },
  {
   "cell_type": "code",
   "execution_count": 7,
   "id": "e01a556f-a38f-47a0-ab7c-af58b6150090",
   "metadata": {},
   "outputs": [
    {
     "name": "stdout",
     "output_type": "stream",
     "text": [
      "tipo_residencia\n",
      "Casa           7522.87\n",
      "Apartamento    7502.65\n",
      "Condomínio     7500.67\n",
      "Name: consumo_mensal_litros, dtype: float64\n"
     ]
    }
   ],
   "source": [
    "#Qual tipo de residência apresenta maior consumo médio?\n",
    "residenciaConsumoMedio = df.groupby(\"tipo_residencia\")[\"consumo_mensal_litros\"].mean().sort_values(ascending=False).round(2)\n",
    "print(residenciaConsumoMedio)"
   ]
  },
  {
   "cell_type": "code",
   "execution_count": 9,
   "id": "79dbc096-5280-4afe-a352-fa17556e8b5f",
   "metadata": {},
   "outputs": [
    {
     "name": "stdout",
     "output_type": "stream",
     "text": [
      "possui_cisterna\n",
      "Sim    7777.61\n",
      "Não    7425.62\n",
      "Name: consumo_mensal_litros, dtype: float64\n"
     ]
    }
   ],
   "source": [
    "#Moradores com cisterna consomem menos água?\n",
    "cisternaConsumo = df.groupby(\"possui_cisterna\")[\"consumo_mensal_litros\"].mean().sort_values(ascending=False).round(2)\n",
    "print(cisternaConsumo)"
   ]
  },
  {
   "cell_type": "code",
   "execution_count": 13,
   "id": "3ad3041d-0f28-4605-bee1-7b0785716dea",
   "metadata": {},
   "outputs": [
    {
     "name": "stdout",
     "output_type": "stream",
     "text": [
      "faixa_etaria\n",
      "18-25    7631.48\n",
      "26-35    7587.67\n",
      "36-45    7480.35\n",
      "46-60    7472.42\n",
      "60+      7196.73\n",
      "Name: consumo_mensal_litros, dtype: float64\n"
     ]
    }
   ],
   "source": [
    "#Há diferença significativa de consumo entre as faixas etárias?\n",
    "consumoFaixaEtaria = df.groupby(\"faixa_etaria\")[\"consumo_mensal_litros\"].mean().sort_values(ascending=False).round(2)\n",
    "print(consumoFaixaEtaria)"
   ]
  }
 ],
 "metadata": {
  "kernelspec": {
   "display_name": "Python 3 (ipykernel)",
   "language": "python",
   "name": "python3"
  },
  "language_info": {
   "codemirror_mode": {
    "name": "ipython",
    "version": 3
   },
   "file_extension": ".py",
   "mimetype": "text/x-python",
   "name": "python",
   "nbconvert_exporter": "python",
   "pygments_lexer": "ipython3",
   "version": "3.12.7"
  }
 },
 "nbformat": 4,
 "nbformat_minor": 5
}
