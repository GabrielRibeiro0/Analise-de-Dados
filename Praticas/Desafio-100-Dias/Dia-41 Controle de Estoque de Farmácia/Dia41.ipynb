{
 "cells": [
  {
   "cell_type": "markdown",
   "id": "62e4ad08-26d5-443e-8971-8681086b22ed",
   "metadata": {},
   "source": [
    "Desafio 41: Controle de Estoque de Farmácia\n",
    "\n",
    "📂 Dataset: Lista de medicamentos com estoque, preços e validade.\n",
    "Colunas: ID_Produto, Medicamento, Categoria, Estoque_Unidades, Preço_Unitário, Vencimento\n",
    "\n",
    "🎯 Tarefas:\n",
    "\n",
    "Padronize os nomes da coluna Categoria.\n",
    "\n",
    "Preencha o valor ausente em Preço_Unitário com a média da categoria correspondente.\n",
    "\n",
    "Quais medicamentos estão com menos de 50 unidades em estoque?\n",
    "\n",
    "Liste os medicamentos vencendo ainda em 2024.\n",
    "\n",
    "Qual o valor total de estoque (estoque × preço) por categoria?"
   ]
  },
  {
   "cell_type": "code",
   "execution_count": 3,
   "id": "697052cc-77dc-406e-89b6-6a347c7405c0",
   "metadata": {},
   "outputs": [],
   "source": [
    "import pandas as pd"
   ]
  },
  {
   "cell_type": "code",
   "execution_count": 5,
   "id": "820c259f-6372-4af3-9707-06372cadc8d0",
   "metadata": {},
   "outputs": [
    {
     "data": {
      "text/html": [
       "<div>\n",
       "<style scoped>\n",
       "    .dataframe tbody tr th:only-of-type {\n",
       "        vertical-align: middle;\n",
       "    }\n",
       "\n",
       "    .dataframe tbody tr th {\n",
       "        vertical-align: top;\n",
       "    }\n",
       "\n",
       "    .dataframe thead th {\n",
       "        text-align: right;\n",
       "    }\n",
       "</style>\n",
       "<table border=\"1\" class=\"dataframe\">\n",
       "  <thead>\n",
       "    <tr style=\"text-align: right;\">\n",
       "      <th></th>\n",
       "      <th>ID_Produto</th>\n",
       "      <th>Medicamento</th>\n",
       "      <th>Categoria</th>\n",
       "      <th>Estoque_Unidades</th>\n",
       "      <th>Preço_Unitário</th>\n",
       "      <th>Vencimento</th>\n",
       "    </tr>\n",
       "  </thead>\n",
       "  <tbody>\n",
       "    <tr>\n",
       "      <th>0</th>\n",
       "      <td>MED0001</td>\n",
       "      <td>Amoxicilina</td>\n",
       "      <td>Antifúngico</td>\n",
       "      <td>84</td>\n",
       "      <td>41.31</td>\n",
       "      <td>2025-06-26</td>\n",
       "    </tr>\n",
       "    <tr>\n",
       "      <th>1</th>\n",
       "      <td>MED0002</td>\n",
       "      <td>Metformina</td>\n",
       "      <td>Anti-inflamatório</td>\n",
       "      <td>498</td>\n",
       "      <td>43.67</td>\n",
       "      <td>2026-09-09</td>\n",
       "    </tr>\n",
       "    <tr>\n",
       "      <th>2</th>\n",
       "      <td>MED0003</td>\n",
       "      <td>Azitromicina</td>\n",
       "      <td>Antibiótico</td>\n",
       "      <td>377</td>\n",
       "      <td>36.84</td>\n",
       "      <td>2025-04-08</td>\n",
       "    </tr>\n",
       "    <tr>\n",
       "      <th>3</th>\n",
       "      <td>MED0004</td>\n",
       "      <td>Omeprazol</td>\n",
       "      <td>Anti-inflamatório</td>\n",
       "      <td>187</td>\n",
       "      <td>41.62</td>\n",
       "      <td>2024-06-02</td>\n",
       "    </tr>\n",
       "    <tr>\n",
       "      <th>4</th>\n",
       "      <td>MED0005</td>\n",
       "      <td>Azitromicina</td>\n",
       "      <td>Gastrintestinal</td>\n",
       "      <td>294</td>\n",
       "      <td>10.63</td>\n",
       "      <td>2026-06-21</td>\n",
       "    </tr>\n",
       "  </tbody>\n",
       "</table>\n",
       "</div>"
      ],
      "text/plain": [
       "  ID_Produto   Medicamento          Categoria  Estoque_Unidades  \\\n",
       "0    MED0001   Amoxicilina        Antifúngico                84   \n",
       "1    MED0002    Metformina  Anti-inflamatório               498   \n",
       "2    MED0003  Azitromicina        Antibiótico               377   \n",
       "3    MED0004     Omeprazol  Anti-inflamatório               187   \n",
       "4    MED0005  Azitromicina    Gastrintestinal               294   \n",
       "\n",
       "   Preço_Unitário  Vencimento  \n",
       "0           41.31  2025-06-26  \n",
       "1           43.67  2026-09-09  \n",
       "2           36.84  2025-04-08  \n",
       "3           41.62  2024-06-02  \n",
       "4           10.63  2026-06-21  "
      ]
     },
     "execution_count": 5,
     "metadata": {},
     "output_type": "execute_result"
    }
   ],
   "source": [
    "df = pd.read_csv(\"dia_41_estoque_farmacia.csv\")\n",
    "df.head()"
   ]
  },
  {
   "cell_type": "code",
   "execution_count": 11,
   "id": "bd4da2bf-3066-4b9e-bdcc-88a82ec18d79",
   "metadata": {},
   "outputs": [
    {
     "data": {
      "text/plain": [
       "array(['Antifúngico', 'Anti-Inflamatório', 'Antibiótico',\n",
       "       'Gastrintestinal', 'Antidiabético', 'Antialérgico', 'Analgésico'],\n",
       "      dtype=object)"
      ]
     },
     "execution_count": 11,
     "metadata": {},
     "output_type": "execute_result"
    }
   ],
   "source": [
    "#Padronize os nomes da coluna Categoria.\n",
    "df[\"Categoria\"] = df[\"Categoria\"].str.strip().str.title()\n",
    "df[\"Categoria\"].unique()"
   ]
  },
  {
   "cell_type": "code",
   "execution_count": 9,
   "id": "57a9c613-eb4f-4403-aff9-fa5fe2bcd788",
   "metadata": {},
   "outputs": [
    {
     "data": {
      "text/plain": [
       "0"
      ]
     },
     "execution_count": 9,
     "metadata": {},
     "output_type": "execute_result"
    }
   ],
   "source": [
    "#Preencha o valor ausente em Preço_Unitário com a média da categoria correspondente.\n",
    "df[\"Preço_Unitário\"] = pd.to_numeric(df[\"Preço_Unitário\"], errors=\"coerce\")\n",
    "df[\"Preço_Unitário\"] = df[\"Preço_Unitário\"].fillna(\n",
    "    df.groupby(\"Categoria\")[\"Preço_Unitário\"].transform(\"mean\")\n",
    ")\n",
    "df[\"Preço_Unitário\"].isna().sum()"
   ]
  },
  {
   "cell_type": "code",
   "execution_count": 53,
   "id": "433063dc-53f3-4263-b8de-6b93a0815288",
   "metadata": {},
   "outputs": [
    {
     "name": "stdout",
     "output_type": "stream",
     "text": [
      "Medicamentos com estoque < 50:\n",
      "\n",
      "       Medicamento          Categoria  Estoque_Unidades\n",
      "9      Ibuprofeno        Antibiótico                30\n",
      "12    Cetoconazol        Antibiótico                31\n",
      "26     Metformina       Antialérgico                22\n",
      "39   Azitromicina      Antidiabético                48\n",
      "66      Omeprazol        Antifúngico                 9\n",
      "74    Amoxicilina       Antialérgico                34\n",
      "77    Paracetamol    Gastrintestinal                14\n",
      "98      Omeprazol       Antialérgico                31\n",
      "105  Azitromicina        Antibiótico                13\n",
      "130    Ibuprofeno         Analgésico                 0\n",
      "155      Dipirona  Anti-Inflamatório                15\n",
      "160  Azitromicina       Antialérgico                36\n",
      "164    Ibuprofeno        Antibiótico                37\n",
      "173    Ibuprofeno         Analgésico                45\n",
      "182   Amoxicilina    Gastrintestinal                29\n",
      "198    Ibuprofeno         Analgésico                 6\n"
     ]
    }
   ],
   "source": [
    "#Quais medicamentos estão com menos de 50 unidades em estoque?\n",
    "menos50Estoque = df[df[\"Estoque_Unidades\"] <= 50]\n",
    "print(\"Medicamentos com estoque < 50:\\n\\n\", menos50Estoque[['Medicamento', 'Categoria', 'Estoque_Unidades']])"
   ]
  },
  {
   "cell_type": "code",
   "execution_count": 52,
   "id": "3be95c20-5f17-403e-9ae0-4e4dbae6a65d",
   "metadata": {},
   "outputs": [
    {
     "name": "stdout",
     "output_type": "stream",
     "text": [
      "Medicamentos vencendo em 2024:\n",
      "\n",
      "       Medicamento Vencimento\n",
      "3       Omeprazol 2024-06-02\n",
      "7        Dipirona 2024-08-14\n",
      "8       Omeprazol 2024-12-13\n",
      "10     Loratadina 2024-07-17\n",
      "11     Simeticona 2024-11-08\n",
      "16    Paracetamol 2024-06-21\n",
      "19    Amoxicilina 2024-07-24\n",
      "23     Loratadina 2024-11-27\n",
      "25    Amoxicilina 2024-09-27\n",
      "27     Metformina 2024-10-26\n",
      "31     Loratadina 2024-08-11\n",
      "32     Ibuprofeno 2024-06-07\n",
      "57     Loratadina 2024-06-17\n",
      "64    Cetoconazol 2024-07-16\n",
      "66      Omeprazol 2024-10-22\n",
      "67    Amoxicilina 2024-06-25\n",
      "70     Ibuprofeno 2024-10-16\n",
      "84       Dipirona 2024-10-16\n",
      "89     Metformina 2024-07-17\n",
      "91      Omeprazol 2024-08-16\n",
      "93   Azitromicina 2024-06-20\n",
      "98      Omeprazol 2024-11-18\n",
      "104    Metformina 2024-10-16\n",
      "109    Ibuprofeno 2024-07-06\n",
      "110    Ibuprofeno 2024-12-10\n",
      "111     Omeprazol 2024-06-16\n",
      "113      Dipirona 2024-09-10\n",
      "119  Azitromicina 2024-07-11\n",
      "131   Paracetamol 2024-11-21\n",
      "133   Paracetamol 2024-11-12\n",
      "138   Amoxicilina 2024-12-30\n",
      "145    Simeticona 2024-11-01\n",
      "149     Omeprazol 2024-12-30\n",
      "150    Ibuprofeno 2024-06-17\n",
      "154   Amoxicilina 2024-07-26\n",
      "156    Loratadina 2024-12-16\n",
      "161   Paracetamol 2024-06-26\n",
      "163  Azitromicina 2024-10-16\n",
      "165   Cetoconazol 2024-07-31\n",
      "169  Azitromicina 2024-10-17\n",
      "171   Cetoconazol 2024-09-18\n",
      "180     Omeprazol 2024-06-28\n",
      "188  Azitromicina 2024-09-20\n",
      "194      Dipirona 2024-12-28\n"
     ]
    }
   ],
   "source": [
    "#Liste os medicamentos vencendo ainda em 2024.\n",
    "df[\"Vencimento\"] = pd.to_datetime(df[\"Vencimento\"], errors=\"coerce\")\n",
    "\n",
    "vencendo2024 = df[df['Vencimento'].dt.year == 2024]\n",
    "print(\"Medicamentos vencendo em 2024:\\n\\n\", vencendo2024[['Medicamento', 'Vencimento']])"
   ]
  },
  {
   "cell_type": "code",
   "execution_count": 51,
   "id": "83398b0e-9a52-4ec0-82a9-e677f85cab37",
   "metadata": {},
   "outputs": [
    {
     "name": "stdout",
     "output_type": "stream",
     "text": [
      "Valor total de estoque por categoria:\n",
      "\n",
      "            Categoria  Valor_Estoque\n",
      "0         Analgésico      192897.18\n",
      "1  Anti-Inflamatório      162874.69\n",
      "2       Antialérgico      218597.11\n",
      "3        Antibiótico      466039.41\n",
      "4      Antidiabético      176842.93\n",
      "5        Antifúngico      128403.24\n",
      "6    Gastrintestinal      161217.31\n"
     ]
    }
   ],
   "source": [
    "#Qual o valor total de estoque (estoque × preço) por categoria?\n",
    "df['Valor_Estoque'] = df['Estoque_Unidades'] * df['Preço_Unitário']\n",
    "valorTotalCategoria = df.groupby('Categoria')['Valor_Estoque'].sum().reset_index()\n",
    "print(\"Valor total de estoque por categoria:\\n\\n\", valorTotalCategoria)"
   ]
  }
 ],
 "metadata": {
  "kernelspec": {
   "display_name": "Python 3 (ipykernel)",
   "language": "python",
   "name": "python3"
  },
  "language_info": {
   "codemirror_mode": {
    "name": "ipython",
    "version": 3
   },
   "file_extension": ".py",
   "mimetype": "text/x-python",
   "name": "python",
   "nbconvert_exporter": "python",
   "pygments_lexer": "ipython3",
   "version": "3.12.7"
  }
 },
 "nbformat": 4,
 "nbformat_minor": 5
}
