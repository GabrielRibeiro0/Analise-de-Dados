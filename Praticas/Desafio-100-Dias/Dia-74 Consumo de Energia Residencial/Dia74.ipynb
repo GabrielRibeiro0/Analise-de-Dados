{
 "cells": [
  {
   "cell_type": "markdown",
   "id": "2025054c",
   "metadata": {},
   "source": [
    "🎯 Desafio dia 74 — Consumo de Energia Residencial\n",
    "\n",
    "📂 Dataset: desafio_dia_74_consumo_energia.csv\n",
    "\n",
    "🔍 Contexto: Você faz parte de uma empresa de energia que está estudando os padrões de consumo das residências em diferentes estados. O objetivo é entender como variáveis como renda, tipo de residência e uso de ar-condicionado influenciam o consumo mensal em kWh.\n",
    "\n",
    "🛠️ Tarefas do desafio:\n",
    "🧹 Tratamento de dados\n",
    "\n",
    "    Preencha os valores ausentes de consumo_kwh_mes com a mediana por tipo de residência.\n",
    "\n",
    "    Preencha os valores ausentes de uso_ar_condicionado com o valor mais frequente (moda).\n",
    "\n",
    "📊 Análise geral\n",
    "\n",
    "    Qual estado tem o maior consumo médio mensal?\n",
    "\n",
    "    Existe alguma diferença significativa entre casas e apartamentos em relação ao consumo médio?\n",
    "\n",
    "📈 Visualização de dados\n",
    "\n",
    "    Crie um boxplot do consumo mensal (consumo_kwh_mes) por faixa de renda.\n",
    "\n",
    "🤖 Machine Learning - Regressão\n",
    "\n",
    "    Crie um modelo de regressão (RandomForestRegressor) para prever consumo_kwh_mes com base em:\n",
    "\n",
    "        estado, tipo_residencia, faixa_renda, uso_ar_condicionado\n",
    "\n",
    "    Use train_test_split e pd.get_dummies para preparar os dados.\n",
    "\n",
    "    Avalie a performance do modelo com mean_squared_error."
   ]
  },
  {
   "cell_type": "code",
   "execution_count": 12,
   "id": "7d072581",
   "metadata": {},
   "outputs": [],
   "source": [
    "import pandas as pd\n",
    "import seaborn as sns\n",
    "import matplotlib.pyplot as plt\n",
    "from sklearn.model_selection import train_test_split\n",
    "from sklearn.ensemble import RandomForestRegressor\n",
    "from sklearn.metrics import mean_squared_error"
   ]
  },
  {
   "cell_type": "code",
   "execution_count": 2,
   "id": "e38b9f81",
   "metadata": {},
   "outputs": [
    {
     "data": {
      "text/html": [
       "<div>\n",
       "<style scoped>\n",
       "    .dataframe tbody tr th:only-of-type {\n",
       "        vertical-align: middle;\n",
       "    }\n",
       "\n",
       "    .dataframe tbody tr th {\n",
       "        vertical-align: top;\n",
       "    }\n",
       "\n",
       "    .dataframe thead th {\n",
       "        text-align: right;\n",
       "    }\n",
       "</style>\n",
       "<table border=\"1\" class=\"dataframe\">\n",
       "  <thead>\n",
       "    <tr style=\"text-align: right;\">\n",
       "      <th></th>\n",
       "      <th>id_residencia</th>\n",
       "      <th>estado</th>\n",
       "      <th>tipo_residencia</th>\n",
       "      <th>faixa_renda</th>\n",
       "      <th>consumo_kwh_mes</th>\n",
       "      <th>uso_ar_condicionado</th>\n",
       "    </tr>\n",
       "  </thead>\n",
       "  <tbody>\n",
       "    <tr>\n",
       "      <th>0</th>\n",
       "      <td>2001</td>\n",
       "      <td>BA</td>\n",
       "      <td>Casa</td>\n",
       "      <td>Média</td>\n",
       "      <td>NaN</td>\n",
       "      <td>Não</td>\n",
       "    </tr>\n",
       "    <tr>\n",
       "      <th>1</th>\n",
       "      <td>2002</td>\n",
       "      <td>RJ</td>\n",
       "      <td>Apartamento</td>\n",
       "      <td>Baixa</td>\n",
       "      <td>294.6</td>\n",
       "      <td>Não</td>\n",
       "    </tr>\n",
       "    <tr>\n",
       "      <th>2</th>\n",
       "      <td>2003</td>\n",
       "      <td>RJ</td>\n",
       "      <td>Casa</td>\n",
       "      <td>Baixa</td>\n",
       "      <td>247.7</td>\n",
       "      <td>Sim</td>\n",
       "    </tr>\n",
       "    <tr>\n",
       "      <th>3</th>\n",
       "      <td>2004</td>\n",
       "      <td>RS</td>\n",
       "      <td>Casa</td>\n",
       "      <td>Média</td>\n",
       "      <td>257.0</td>\n",
       "      <td>Sim</td>\n",
       "    </tr>\n",
       "    <tr>\n",
       "      <th>4</th>\n",
       "      <td>2005</td>\n",
       "      <td>RJ</td>\n",
       "      <td>Casa</td>\n",
       "      <td>Baixa</td>\n",
       "      <td>248.0</td>\n",
       "      <td>Sim</td>\n",
       "    </tr>\n",
       "  </tbody>\n",
       "</table>\n",
       "</div>"
      ],
      "text/plain": [
       "   id_residencia estado tipo_residencia faixa_renda  consumo_kwh_mes  \\\n",
       "0           2001     BA            Casa       Média              NaN   \n",
       "1           2002     RJ     Apartamento       Baixa            294.6   \n",
       "2           2003     RJ            Casa       Baixa            247.7   \n",
       "3           2004     RS            Casa       Média            257.0   \n",
       "4           2005     RJ            Casa       Baixa            248.0   \n",
       "\n",
       "  uso_ar_condicionado  \n",
       "0                 Não  \n",
       "1                 Não  \n",
       "2                 Sim  \n",
       "3                 Sim  \n",
       "4                 Sim  "
      ]
     },
     "execution_count": 2,
     "metadata": {},
     "output_type": "execute_result"
    }
   ],
   "source": [
    "df = pd.read_csv(\"desafio_dia_74_consumo_energia.csv\")\n",
    "df.head()"
   ]
  },
  {
   "cell_type": "code",
   "execution_count": 4,
   "id": "74530fb9",
   "metadata": {},
   "outputs": [
    {
     "data": {
      "text/plain": [
       "np.int64(0)"
      ]
     },
     "execution_count": 4,
     "metadata": {},
     "output_type": "execute_result"
    }
   ],
   "source": [
    "#Preencha os valores ausentes de consumo_kwh_mes com a mediana por tipo de residência.\n",
    "df[\"consumo_kwh_mes\"] = df[\"consumo_kwh_mes\"].fillna(\n",
    "    df.groupby(\"tipo_residencia\")[\"consumo_kwh_mes\"].transform(\"median\")\n",
    ")\n",
    "df[\"consumo_kwh_mes\"].isna().sum()"
   ]
  },
  {
   "cell_type": "code",
   "execution_count": 5,
   "id": "13b62138",
   "metadata": {},
   "outputs": [
    {
     "data": {
      "text/plain": [
       "np.int64(0)"
      ]
     },
     "execution_count": 5,
     "metadata": {},
     "output_type": "execute_result"
    }
   ],
   "source": [
    "#Preencha os valores ausentes de uso_ar_condicionado com o valor mais frequente (moda).\n",
    "df[\"uso_ar_condicionado\"] = df[\"uso_ar_condicionado\"].fillna(df[\"uso_ar_condicionado\"].mode()[0])\n",
    "df[\"uso_ar_condicionado\"].isna().sum()"
   ]
  },
  {
   "cell_type": "code",
   "execution_count": 8,
   "id": "28091019",
   "metadata": {},
   "outputs": [
    {
     "name": "stdout",
     "output_type": "stream",
     "text": [
      "estado\n",
      "RJ    226.034483\n",
      "RS    220.331429\n",
      "BA    218.348421\n",
      "SP    216.893617\n",
      "MG    212.673034\n",
      "Name: consumo_kwh_mes, dtype: float64\n"
     ]
    }
   ],
   "source": [
    "#Qual estado tem o maior consumo médio mensal?\n",
    "estado_consumo_mensal = df.groupby(\"estado\")[\"consumo_kwh_mes\"].mean().sort_values(ascending=False)\n",
    "print(estado_consumo_mensal)"
   ]
  },
  {
   "cell_type": "code",
   "execution_count": 9,
   "id": "c28698fe",
   "metadata": {},
   "outputs": [
    {
     "name": "stdout",
     "output_type": "stream",
     "text": [
      "tipo_residencia\n",
      "Apartamento    219.869869\n",
      "Casa           217.878008\n",
      "Name: consumo_kwh_mes, dtype: float64\n"
     ]
    }
   ],
   "source": [
    "#Existe alguma diferença significativa entre casas e apartamentos em relação ao consumo médio?\n",
    "consumo_por_residencia = df.groupby(\"tipo_residencia\")[\"consumo_kwh_mes\"].mean()\n",
    "print(consumo_por_residencia)"
   ]
  },
  {
   "cell_type": "code",
   "execution_count": 11,
   "id": "7d9e24fa",
   "metadata": {},
   "outputs": [
    {
     "data": {
      "text/plain": [
       "<function matplotlib.pyplot.show(close=None, block=None)>"
      ]
     },
     "execution_count": 11,
     "metadata": {},
     "output_type": "execute_result"
    },
    {
     "data": {
      "image/png": "[encoded data removed]",
      "text/plain": [
       "<Figure size 640x480 with 1 Axes>"
      ]
     },
     "metadata": {},
     "output_type": "display_data"
    }
   ],
   "source": [
    "#Crie um boxplot do consumo mensal (consumo_kwh_mes) por faixa de renda.\n",
    "sns.boxplot(data=df, x=\"faixa_renda\", y=\"consumo_kwh_mes\")\n",
    "plt.title(\"Consumo mensal por faixa de renda\")\n",
    "plt.ylabel(\"Consumo kwh Mensal\")\n",
    "plt.xlabel(\"Faixa de Renda\")\n",
    "plt.show"
   ]
  },
  {
   "cell_type": "code",
   "execution_count": 13,
   "id": "5c38dd09",
   "metadata": {},
   "outputs": [
    {
     "name": "stdout",
     "output_type": "stream",
     "text": [
      "4847.73065021849\n"
     ]
    }
   ],
   "source": [
    "#Crie um modelo de regressão (RandomForestRegressor) para prever consumo_kwh_mes com base em:\n",
    "X = df[[\"estado\", \"tipo_residencia\", \"faixa_renda\", \"uso_ar_condicionado\"]]\n",
    "y = df[\"consumo_kwh_mes\"]\n",
    "\n",
    "X = pd.get_dummies(X)\n",
    "\n",
    "X_train, X_test, y_train, y_test = train_test_split(X, y, test_size=0.2, random_state=42)\n",
    "\n",
    "modelo = RandomForestRegressor(random_state=42)\n",
    "modelo.fit(X_train, y_train)\n",
    "\n",
    "y_pred = modelo.predict(X_test)\n",
    "print(mean_squared_error(y_test, y_pred))"
   ]
  },
  {
   "cell_type": "code",
   "execution_count": null,
   "id": "41708328",
   "metadata": {},
   "outputs": [],
   "source": []
  }
 ],
 "metadata": {
  "kernelspec": {
   "display_name": "Python (jupyter_env)",
   "language": "python",
   "name": "jupyter_env"
  },
  "language_info": {
   "codemirror_mode": {
    "name": "ipython",
    "version": 3
   },
   "file_extension": ".py",
   "mimetype": "text/x-python",
   "name": "python",
   "nbconvert_exporter": "python",
   "pygments_lexer": "ipython3",
   "version": "3.13.2"
  }
 },
 "nbformat": 4,
 "nbformat_minor": 5
}
