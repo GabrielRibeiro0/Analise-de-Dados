{
 "cells": [
  {
   "cell_type": "markdown",
   "id": "e1052d79-cd88-4898-ba29-aad01352ec61",
   "metadata": {},
   "source": [
    "🎯 Desafio dia 87 — Monitoramento de Atividade Física\n",
    "\n",
    "📂 Dataset: desafio_dia_87_atividade_fisica.csv\n",
    "📥 Clique aqui para baixar o CSV\n",
    "\n",
    "🔍 Contexto: Uma startup de saúde deseja entender os hábitos de atividade física dos usuários do seu app, incluindo dados como tipo de exercício, duração e gasto calórico. Os dados também são segmentados por faixa etária e sexo.\n",
    "\n",
    "🛠️ Tarefas do desafio\n",
    "\n",
    "🧹 Tratamento de dados\n",
    "- Preencha os valores ausentes em duracao_min com a média.\n",
    "\n",
    "- Preencha os valores ausentes em calorias_gastas com a mediana.\n",
    "\n",
    "📊 Análise geral\n",
    "- Qual é o tipo de atividade mais comum entre os usuários?\n",
    "\n",
    "- Qual a média de calorias gastas por faixa etária?\n",
    "\n",
    "📈 Visualização de dados\n",
    "- Crie um gráfico de barras empilhadas mostrando a quantidade de atividades registradas por sexo e tipo de atividade.\n",
    "\n",
    "🤖 Machine Learning - Regressão\n",
    "- Crie um modelo para prever o valor de calorias_gastas com base em:\n",
    "\n",
    "sexo, faixa_idade, atividade, duracao_min\n",
    "\n",
    "Use:\n",
    "\n",
    "train_test_split\n",
    "\n",
    "get_dummies\n",
    "\n",
    "RandomForestRegressor\n",
    "\n",
    "Avalie com mean_squared_error."
   ]
  },
  {
   "cell_type": "code",
   "execution_count": 31,
   "id": "5cd3751a-e064-4855-b211-7e29db8065bd",
   "metadata": {},
   "outputs": [],
   "source": [
    "import pandas as pd\n",
    "import seaborn as sns\n",
    "import matplotlib.pyplot as plt\n",
    "from sklearn.model_selection import train_test_split\n",
    "from sklearn.ensemble import RandomForestRegressor\n",
    "from sklearn.metrics import mean_squared_error"
   ]
  },
  {
   "cell_type": "code",
   "execution_count": 3,
   "id": "523ff573-92fa-4743-97f9-c067635283a2",
   "metadata": {},
   "outputs": [
    {
     "data": {
      "text/html": [
       "<div>\n",
       "<style scoped>\n",
       "    .dataframe tbody tr th:only-of-type {\n",
       "        vertical-align: middle;\n",
       "    }\n",
       "\n",
       "    .dataframe tbody tr th {\n",
       "        vertical-align: top;\n",
       "    }\n",
       "\n",
       "    .dataframe thead th {\n",
       "        text-align: right;\n",
       "    }\n",
       "</style>\n",
       "<table border=\"1\" class=\"dataframe\">\n",
       "  <thead>\n",
       "    <tr style=\"text-align: right;\">\n",
       "      <th></th>\n",
       "      <th>id_usuario</th>\n",
       "      <th>sexo</th>\n",
       "      <th>faixa_idade</th>\n",
       "      <th>atividade</th>\n",
       "      <th>duracao_min</th>\n",
       "      <th>calorias_gastas</th>\n",
       "    </tr>\n",
       "  </thead>\n",
       "  <tbody>\n",
       "    <tr>\n",
       "      <th>0</th>\n",
       "      <td>5486</td>\n",
       "      <td>Feminino</td>\n",
       "      <td>36-45</td>\n",
       "      <td>Yoga</td>\n",
       "      <td>77.1</td>\n",
       "      <td>409.5</td>\n",
       "    </tr>\n",
       "    <tr>\n",
       "      <th>1</th>\n",
       "      <td>5333</td>\n",
       "      <td>Outro</td>\n",
       "      <td>46-60</td>\n",
       "      <td>Caminhada</td>\n",
       "      <td>46.9</td>\n",
       "      <td>339.6</td>\n",
       "    </tr>\n",
       "    <tr>\n",
       "      <th>2</th>\n",
       "      <td>5699</td>\n",
       "      <td>Outro</td>\n",
       "      <td>60+</td>\n",
       "      <td>Corrida</td>\n",
       "      <td>58.0</td>\n",
       "      <td>549.7</td>\n",
       "    </tr>\n",
       "    <tr>\n",
       "      <th>3</th>\n",
       "      <td>5143</td>\n",
       "      <td>Masculino</td>\n",
       "      <td>36-45</td>\n",
       "      <td>Bicicleta</td>\n",
       "      <td>38.8</td>\n",
       "      <td>455.4</td>\n",
       "    </tr>\n",
       "    <tr>\n",
       "      <th>4</th>\n",
       "      <td>5251</td>\n",
       "      <td>Feminino</td>\n",
       "      <td>18-25</td>\n",
       "      <td>Corrida</td>\n",
       "      <td>43.7</td>\n",
       "      <td>320.7</td>\n",
       "    </tr>\n",
       "  </tbody>\n",
       "</table>\n",
       "</div>"
      ],
      "text/plain": [
       "   id_usuario       sexo faixa_idade  atividade  duracao_min  calorias_gastas\n",
       "0        5486   Feminino       36-45       Yoga         77.1            409.5\n",
       "1        5333      Outro       46-60  Caminhada         46.9            339.6\n",
       "2        5699      Outro         60+    Corrida         58.0            549.7\n",
       "3        5143  Masculino       36-45  Bicicleta         38.8            455.4\n",
       "4        5251   Feminino       18-25    Corrida         43.7            320.7"
      ]
     },
     "execution_count": 3,
     "metadata": {},
     "output_type": "execute_result"
    }
   ],
   "source": [
    "df = pd.read_csv(\"desafio_dia_87_atividade_fisica (1).csv\")\n",
    "df.head()"
   ]
  },
  {
   "cell_type": "code",
   "execution_count": 4,
   "id": "6d40e961-f06d-4488-88e6-cc267ac80fb1",
   "metadata": {},
   "outputs": [
    {
     "data": {
      "text/plain": [
       "0"
      ]
     },
     "execution_count": 4,
     "metadata": {},
     "output_type": "execute_result"
    }
   ],
   "source": [
    "#Preencha os valores ausentes em duracao_min com a média.\n",
    "df[\"duracao_min\"] = df[\"duracao_min\"].fillna(df[\"duracao_min\"].mean())\n",
    "df[\"duracao_min\"].isna().sum()"
   ]
  },
  {
   "cell_type": "code",
   "execution_count": 5,
   "id": "e8080307-a3e7-4c45-8531-f78b98953e55",
   "metadata": {},
   "outputs": [
    {
     "data": {
      "text/plain": [
       "0"
      ]
     },
     "execution_count": 5,
     "metadata": {},
     "output_type": "execute_result"
    }
   ],
   "source": [
    "#Preencha os valores ausentes em calorias_gastas com a mediana.\n",
    "df[\"calorias_gastas\"] = df[\"calorias_gastas\"].fillna(df[\"calorias_gastas\"].mean())\n",
    "df[\"calorias_gastas\"].isna().sum()"
   ]
  },
  {
   "cell_type": "code",
   "execution_count": 8,
   "id": "a1a6ef42-fb58-4d48-a57d-5b56fd76e7a7",
   "metadata": {},
   "outputs": [
    {
     "name": "stdout",
     "output_type": "stream",
     "text": [
      "atividade\n",
      "Corrida       100\n",
      "Bicicleta      91\n",
      "Caminhada      90\n",
      "Yoga           77\n",
      "Musculação     76\n",
      "Outros         66\n",
      "Name: count, dtype: int64\n"
     ]
    }
   ],
   "source": [
    "#Qual é o tipo de atividade mais comum entre os usuários?\n",
    "atividade_comum_usuarios = df[\"atividade\"].value_counts()\n",
    "print(atividade_comum_usuarios)"
   ]
  },
  {
   "cell_type": "code",
   "execution_count": 17,
   "id": "5f63e3c2-f4e6-4329-9e33-bad3261f3fe7",
   "metadata": {},
   "outputs": [
    {
     "name": "stdout",
     "output_type": "stream",
     "text": [
      "faixa_idade\n",
      "18-25    352.13\n",
      "26-35    352.23\n",
      "36-45    360.99\n",
      "46-60    336.92\n",
      "60+      362.84\n",
      "Name: calorias_gastas, dtype: float64\n"
     ]
    }
   ],
   "source": [
    "#Qual a média de calorias gastas por faixa etária?\n",
    "calorias_gastas_faixa_etaria = df.groupby(\"faixa_idade\")[\"calorias_gastas\"].mean()\n",
    "print(calorias_gastas_faixa_etaria.round(2))"
   ]
  },
  {
   "cell_type": "code",
   "execution_count": 29,
   "id": "c2cf3b4d-b35d-433c-a53a-39e39c756e33",
   "metadata": {},
   "outputs": [
    {
     "data": {
      "text/plain": [
       "Text(0, 0.5, 'Quantidade')"
      ]
     },
     "execution_count": 29,
     "metadata": {},
     "output_type": "execute_result"
    },
    {
     "data": {
      "image/png": "[encoded data removed]",
      "text/plain": [
       "<Figure size 640x480 with 1 Axes>"
      ]
     },
     "metadata": {},
     "output_type": "display_data"
    }
   ],
   "source": [
    "#Crie um gráfico de barras empilhadas mostrando a quantidade de atividades registradas por sexo e tipo de atividade.\n",
    "grafico = pd.crosstab(df[\"atividade\"], df[\"sexo\"])\n",
    "grafico.plot(kind=\"bar\", stacked=True)\n",
    "plt.title(\"Quantidade de Atividades por Sexo e Tipo\")\n",
    "plt.xlabel(\"Tipo de Atividade\")\n",
    "plt.ylabel(\"Quantidade\")"
   ]
  },
  {
   "cell_type": "code",
   "execution_count": 32,
   "id": "467f534a-585b-46f1-ac8c-9200fad059b7",
   "metadata": {},
   "outputs": [
    {
     "name": "stdout",
     "output_type": "stream",
     "text": [
      "10663.659540555655\n"
     ]
    }
   ],
   "source": [
    "#Crie um modelo para prever o valor de calorias_gastas com base em:\n",
    "X = df[[\"sexo\", \"faixa_idade\", \"atividade\", \"duracao_min\"]]\n",
    "y = df[\"calorias_gastas\"]\n",
    "\n",
    "X = pd.get_dummies(X)\n",
    "\n",
    "X_train, X_test, y_train, y_test = train_test_split(X, y, test_size=0.3, random_state=42)\n",
    "\n",
    "modelo = RandomForestRegressor(random_state=42)\n",
    "modelo.fit(X_train, y_train)\n",
    "\n",
    "y_pred = modelo.predict(X_test)\n",
    "print(mean_squared_error(y_test, y_pred))"
   ]
  }
 ],
 "metadata": {
  "kernelspec": {
   "display_name": "Python 3 (ipykernel)",
   "language": "python",
   "name": "python3"
  },
  "language_info": {
   "codemirror_mode": {
    "name": "ipython",
    "version": 3
   },
   "file_extension": ".py",
   "mimetype": "text/x-python",
   "name": "python",
   "nbconvert_exporter": "python",
   "pygments_lexer": "ipython3",
   "version": "3.12.7"
  }
 },
 "nbformat": 4,
 "nbformat_minor": 5
}
