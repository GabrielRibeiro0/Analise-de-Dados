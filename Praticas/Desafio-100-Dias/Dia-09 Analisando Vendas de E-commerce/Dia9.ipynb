{
 "cells": [
  {
   "cell_type": "markdown",
   "id": "20a85f0d-374e-42ac-b090-9fe2655ed550",
   "metadata": {},
   "source": [
    "Desafio 9: Analisando Vendas de E-commerce\n",
    "\n",
    "📂 Dataset: Informações sobre pedidos realizados em um site de e-commerce, incluindo data da compra, categoria do produto, valor da venda e método de pagamento.\n",
    "\n",
    "🎯 Atividades:\n",
    "\n",
    "Qual categoria teve o maior volume de vendas em valor total?\n",
    "\n",
    "Qual foi o método de pagamento mais utilizado?\n",
    "\n",
    "Qual o ticket médio por categoria (valor médio por pedido)?\n",
    "\n",
    "Crie um gráfico de pizza mostrando a participação percentual das vendas por categoria."
   ]
  },
  {
   "cell_type": "code",
   "execution_count": 27,
   "id": "0d5b0483-3ee1-4ba9-ae32-087fad86dd7b",
   "metadata": {},
   "outputs": [],
   "source": [
    "import pandas as pd\n",
    "import seaborn as sns\n",
    "import matplotlib.pyplot as plt"
   ]
  },
  {
   "cell_type": "code",
   "execution_count": 3,
   "id": "d53cf78f-a636-4c31-b933-3f68df9c3814",
   "metadata": {},
   "outputs": [
    {
     "data": {
      "text/html": [
       "<div>\n",
       "<style scoped>\n",
       "    .dataframe tbody tr th:only-of-type {\n",
       "        vertical-align: middle;\n",
       "    }\n",
       "\n",
       "    .dataframe tbody tr th {\n",
       "        vertical-align: top;\n",
       "    }\n",
       "\n",
       "    .dataframe thead th {\n",
       "        text-align: right;\n",
       "    }\n",
       "</style>\n",
       "<table border=\"1\" class=\"dataframe\">\n",
       "  <thead>\n",
       "    <tr style=\"text-align: right;\">\n",
       "      <th></th>\n",
       "      <th>ID_Pedido</th>\n",
       "      <th>Data_Compra</th>\n",
       "      <th>Categoria_Produto</th>\n",
       "      <th>Valor_Venda</th>\n",
       "      <th>Metodo_Pagamento</th>\n",
       "    </tr>\n",
       "  </thead>\n",
       "  <tbody>\n",
       "    <tr>\n",
       "      <th>0</th>\n",
       "      <td>1</td>\n",
       "      <td>2024-01-01</td>\n",
       "      <td>Beleza</td>\n",
       "      <td>306.15</td>\n",
       "      <td>Pix</td>\n",
       "    </tr>\n",
       "    <tr>\n",
       "      <th>1</th>\n",
       "      <td>2</td>\n",
       "      <td>2024-01-02</td>\n",
       "      <td>Casa</td>\n",
       "      <td>996.99</td>\n",
       "      <td>Pix</td>\n",
       "    </tr>\n",
       "    <tr>\n",
       "      <th>2</th>\n",
       "      <td>3</td>\n",
       "      <td>2024-01-03</td>\n",
       "      <td>Beleza</td>\n",
       "      <td>401.00</td>\n",
       "      <td>Boleto</td>\n",
       "    </tr>\n",
       "    <tr>\n",
       "      <th>3</th>\n",
       "      <td>4</td>\n",
       "      <td>2024-01-04</td>\n",
       "      <td>Beleza</td>\n",
       "      <td>741.86</td>\n",
       "      <td>Pix</td>\n",
       "    </tr>\n",
       "    <tr>\n",
       "      <th>4</th>\n",
       "      <td>5</td>\n",
       "      <td>2024-01-05</td>\n",
       "      <td>Casa</td>\n",
       "      <td>617.07</td>\n",
       "      <td>Cartão de Crédito</td>\n",
       "    </tr>\n",
       "  </tbody>\n",
       "</table>\n",
       "</div>"
      ],
      "text/plain": [
       "   ID_Pedido Data_Compra Categoria_Produto  Valor_Venda   Metodo_Pagamento\n",
       "0          1  2024-01-01            Beleza       306.15                Pix\n",
       "1          2  2024-01-02              Casa       996.99                Pix\n",
       "2          3  2024-01-03            Beleza       401.00             Boleto\n",
       "3          4  2024-01-04            Beleza       741.86                Pix\n",
       "4          5  2024-01-05              Casa       617.07  Cartão de Crédito"
      ]
     },
     "execution_count": 3,
     "metadata": {},
     "output_type": "execute_result"
    }
   ],
   "source": [
    "df = pd.read_csv(\"dia_9_vendas_ecommerce.csv\")\n",
    "df.head()"
   ]
  },
  {
   "cell_type": "code",
   "execution_count": 8,
   "id": "e20c1515-2a24-4513-9381-51c7299299aa",
   "metadata": {},
   "outputs": [
    {
     "name": "stdout",
     "output_type": "stream",
     "text": [
      "A categoria com maior volume de vendas foi a de: Beleza\n"
     ]
    }
   ],
   "source": [
    "#Qual categoria teve o maior volume de vendas em valor total?\n",
    "maisVendasCategoria = df.groupby(\"Categoria_Produto\")[\"Valor_Venda\"].sum().idxmax()\n",
    "print(f\"A categoria com maior volume de vendas foi a de: {maisVendasCategoria}\")"
   ]
  },
  {
   "cell_type": "code",
   "execution_count": 16,
   "id": "8fe14611-52b8-400c-a8d6-654ee6e29905",
   "metadata": {},
   "outputs": [
    {
     "name": "stdout",
     "output_type": "stream",
     "text": [
      "O método de pagamento mais utilizado foi: Pix\n"
     ]
    }
   ],
   "source": [
    "#Qual foi o método de pagamento mais utilizado?\n",
    "pagamento = df[\"Metodo_Pagamento\"].value_counts().idxmax()\n",
    "print(f\"O método de pagamento mais utilizado foi: {pagamento}\")"
   ]
  },
  {
   "cell_type": "code",
   "execution_count": 24,
   "id": "2b72bda9-8228-430a-8322-5a55a2049b2c",
   "metadata": {},
   "outputs": [
    {
     "name": "stdout",
     "output_type": "stream",
     "text": [
      "ticket médio por categoria: \n",
      "\n",
      "Categoria_Produto\n",
      "Beleza         553.475714\n",
      "Casa           705.000000\n",
      "Eletrônicos    392.526667\n",
      "Livros         399.500000\n",
      "Moda           468.100000\n",
      "Name: Valor_Venda, dtype: float64\n"
     ]
    }
   ],
   "source": [
    "#Qual o ticket médio por categoria (valor médio por pedido)?\n",
    "maisVendasCategoria = df.groupby(\"Categoria_Produto\")[\"Valor_Venda\"].mean()\n",
    "print(f\"ticket médio por categoria: \\n\\n{maisVendasCategoria}\")"
   ]
  },
  {
   "cell_type": "code",
   "execution_count": 36,
   "id": "2c5ca063-4fba-4912-85c3-9e7063e71a2b",
   "metadata": {},
   "outputs": [
    {
     "data": {
      "image/png": "[encoded data removed]",
      "text/plain": [
       "<Figure size 640x480 with 1 Axes>"
      ]
     },
     "metadata": {},
     "output_type": "display_data"
    }
   ],
   "source": [
    "#Crie um gráfico de pizza mostrando a participação percentual das vendas por categoria.\n",
    "maisVendasCategoria = df.groupby(\"Categoria_Produto\")[\"Valor_Venda\"].sum()\n",
    "plt.pie(maisVendasCategoria, labels=maisVendasCategoria.index, autopct='%1.1f%%', startangle=90)\n",
    "plt.title(\"Participação Percentual das Vendas por Categoria\")\n",
    "plt.axis('equal')  # Garante que o gráfico seja um círculo\n",
    "plt.show()"
   ]
  },
  {
   "cell_type": "code",
   "execution_count": null,
   "id": "891eadea-0a00-453a-bd82-326c745cd8d1",
   "metadata": {},
   "outputs": [],
   "source": []
  }
 ],
 "metadata": {
  "kernelspec": {
   "display_name": "Python 3 (ipykernel)",
   "language": "python",
   "name": "python3"
  },
  "language_info": {
   "codemirror_mode": {
    "name": "ipython",
    "version": 3
   },
   "file_extension": ".py",
   "mimetype": "text/x-python",
   "name": "python",
   "nbconvert_exporter": "python",
   "pygments_lexer": "ipython3",
   "version": "3.12.7"
  }
 },
 "nbformat": 4,
 "nbformat_minor": 5
}
