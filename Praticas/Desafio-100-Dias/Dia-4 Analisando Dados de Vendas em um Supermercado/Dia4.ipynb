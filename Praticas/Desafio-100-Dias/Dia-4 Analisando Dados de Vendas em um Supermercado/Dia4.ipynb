{
 "cells": [
  {
   "cell_type": "raw",
   "id": "b9576ecf-ff41-4ed6-9781-a6e29a15b85a",
   "metadata": {},
   "source": [
    "Desafio 4: Analisando Dados de Vendas em um Supermercado\n",
    "\n",
    "📂 Dataset: Informações sobre vendas de produtos em um supermercado, incluindo categoria, quantidade vendida e receita gerada.\n",
    "\n",
    "🎯 Atividades:\n",
    "\n",
    "    Qual é a receita total gerada por cada categoria de produto?\n",
    "\n",
    "    Qual o produto mais vendido em termos de quantidade?\n",
    "\n",
    "    Existe correlação entre o preço unitário e a quantidade vendida?"
   ]
  },
  {
   "cell_type": "code",
   "execution_count": 1,
   "id": "aa9a2b88-b277-4b9e-bf50-6452cc0ea37d",
   "metadata": {},
   "outputs": [],
   "source": [
    "import pandas as pd"
   ]
  },
  {
   "cell_type": "code",
   "execution_count": 4,
   "id": "3a39c0ed-af59-4c15-9fa1-6dada0ac498e",
   "metadata": {},
   "outputs": [
    {
     "data": {
      "text/html": [
       "<div>\n",
       "<style scoped>\n",
       "    .dataframe tbody tr th:only-of-type {\n",
       "        vertical-align: middle;\n",
       "    }\n",
       "\n",
       "    .dataframe tbody tr th {\n",
       "        vertical-align: top;\n",
       "    }\n",
       "\n",
       "    .dataframe thead th {\n",
       "        text-align: right;\n",
       "    }\n",
       "</style>\n",
       "<table border=\"1\" class=\"dataframe\">\n",
       "  <thead>\n",
       "    <tr style=\"text-align: right;\">\n",
       "      <th></th>\n",
       "      <th>ID_Produto</th>\n",
       "      <th>Produto</th>\n",
       "      <th>Categoria</th>\n",
       "      <th>Preco_Unitario</th>\n",
       "      <th>Quantidade_Vendida</th>\n",
       "      <th>Receita_Total</th>\n",
       "    </tr>\n",
       "  </thead>\n",
       "  <tbody>\n",
       "    <tr>\n",
       "      <th>0</th>\n",
       "      <td>1</td>\n",
       "      <td>Produto_1</td>\n",
       "      <td>Carnes</td>\n",
       "      <td>3.20</td>\n",
       "      <td>30</td>\n",
       "      <td>96.00</td>\n",
       "    </tr>\n",
       "    <tr>\n",
       "      <th>1</th>\n",
       "      <td>2</td>\n",
       "      <td>Produto_2</td>\n",
       "      <td>Hortifruti</td>\n",
       "      <td>29.28</td>\n",
       "      <td>29</td>\n",
       "      <td>849.12</td>\n",
       "    </tr>\n",
       "    <tr>\n",
       "      <th>2</th>\n",
       "      <td>3</td>\n",
       "      <td>Produto_3</td>\n",
       "      <td>Laticínios</td>\n",
       "      <td>27.45</td>\n",
       "      <td>193</td>\n",
       "      <td>5297.85</td>\n",
       "    </tr>\n",
       "    <tr>\n",
       "      <th>3</th>\n",
       "      <td>4</td>\n",
       "      <td>Produto_4</td>\n",
       "      <td>Bebidas</td>\n",
       "      <td>26.09</td>\n",
       "      <td>144</td>\n",
       "      <td>3756.96</td>\n",
       "    </tr>\n",
       "    <tr>\n",
       "      <th>4</th>\n",
       "      <td>5</td>\n",
       "      <td>Produto_5</td>\n",
       "      <td>Congelados</td>\n",
       "      <td>19.90</td>\n",
       "      <td>163</td>\n",
       "      <td>3243.70</td>\n",
       "    </tr>\n",
       "  </tbody>\n",
       "</table>\n",
       "</div>"
      ],
      "text/plain": [
       "   ID_Produto    Produto   Categoria  Preco_Unitario  Quantidade_Vendida  \\\n",
       "0           1  Produto_1      Carnes            3.20                  30   \n",
       "1           2  Produto_2  Hortifruti           29.28                  29   \n",
       "2           3  Produto_3  Laticínios           27.45                 193   \n",
       "3           4  Produto_4     Bebidas           26.09                 144   \n",
       "4           5  Produto_5  Congelados           19.90                 163   \n",
       "\n",
       "   Receita_Total  \n",
       "0          96.00  \n",
       "1         849.12  \n",
       "2        5297.85  \n",
       "3        3756.96  \n",
       "4        3243.70  "
      ]
     },
     "execution_count": 4,
     "metadata": {},
     "output_type": "execute_result"
    }
   ],
   "source": [
    "df = pd.read_csv(\"dia_4_vendas_supermercado.csv\")\n",
    "df.head()"
   ]
  },
  {
   "cell_type": "code",
   "execution_count": 12,
   "id": "41a25151-e208-46de-80b3-934dadafc6be",
   "metadata": {},
   "outputs": [
    {
     "name": "stdout",
     "output_type": "stream",
     "text": [
      "Receita geral de cada categoria de produto: \n",
      "\n",
      "Categoria\n",
      "Congelados    22649.11\n",
      "Laticínios    12631.77\n",
      "Bebidas       11670.63\n",
      "Hortifruti     7158.49\n",
      "Carnes         4475.80\n",
      "Name: Receita_Total, dtype: float64\n"
     ]
    }
   ],
   "source": [
    "#Qual é a receita total gerada por cada categoria de produto?\n",
    "receitaTotalCategoria = df.groupby(\"Categoria\")[\"Receita_Total\"].sum().sort_values(ascending=False)\n",
    "print(f\"Receita geral de cada categoria de produto: \\n\\n{receitaTotalCategoria}\")"
   ]
  },
  {
   "cell_type": "code",
   "execution_count": 14,
   "id": "c512bad0-b76e-45bb-8539-f0e847c50501",
   "metadata": {},
   "outputs": [
    {
     "name": "stdout",
     "output_type": "stream",
     "text": [
      "Produto mais vendido:\n",
      "\n",
      "Produto\n",
      "Produto_3    193\n",
      "Name: Quantidade_Vendida, dtype: int64\n"
     ]
    }
   ],
   "source": [
    "#Qual o produto mais vendido em termos de quantidade?\n",
    "produtoMaisVendido = df.groupby(\"Produto\")[\"Quantidade_Vendida\"].sum().sort_values(ascending=False)\n",
    "print(f\"Produto mais vendido:\\n\\n{produtoMaisVendido.head(1)}\")"
   ]
  },
  {
   "cell_type": "code",
   "execution_count": 16,
   "id": "97535cbb-9846-42f9-b55e-ea2cce805329",
   "metadata": {},
   "outputs": [
    {
     "name": "stdout",
     "output_type": "stream",
     "text": [
      "Correlação entre preço unitário e quantidade vendida: -0.17\n"
     ]
    }
   ],
   "source": [
    "#Existe correlação entre o preço unitário e a quantidade vendida?\n",
    "corrPreçounitQuant = df[\"Preco_Unitario\"].corr(df[\"Quantidade_Vendida\"])\n",
    "print(f\"Correlação entre preço unitário e quantidade vendida: {corrPreçounitQuant:.2f}\")"
   ]
  }
 ],
 "metadata": {
  "kernelspec": {
   "display_name": "Python 3 (ipykernel)",
   "language": "python",
   "name": "python3"
  },
  "language_info": {
   "codemirror_mode": {
    "name": "ipython",
    "version": 3
   },
   "file_extension": ".py",
   "mimetype": "text/x-python",
   "name": "python",
   "nbconvert_exporter": "python",
   "pygments_lexer": "ipython3",
   "version": "3.12.6"
  }
 },
 "nbformat": 4,
 "nbformat_minor": 5
}
