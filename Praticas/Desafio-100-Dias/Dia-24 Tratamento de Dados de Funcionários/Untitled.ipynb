{
 "cells": [
  {
   "cell_type": "markdown",
   "id": "a46236c1",
   "metadata": {},
   "source": [
    "Desafio 24: Tratamento de Dados de Funcionários\n",
    "\n",
    "📂 Dataset: Informações de funcionários com valores inconsistentes e formatos variados.\n",
    "Colunas: ID, Nome, Idade, Gênero, Departamento, Faixa_Salarial\n",
    "\n",
    "🎯 Tarefas:\n",
    "\n",
    "    Corrija a padronização dos valores na coluna Gênero (ex: \"masculino\", \"MASCULINO\", etc).\n",
    "\n",
    "    Trate a coluna Idade, convertendo para numérico e lidando com valores inválidos como \"\", \"N/A\" e NaN.\n",
    "\n",
    "    Padronize os valores da coluna Faixa_Salarial para que fiquem uniformes em termos de capitalização.\n",
    "\n",
    "    Mostre o número de funcionários por faixa salarial e departamento."
   ]
  },
  {
   "cell_type": "code",
   "execution_count": 1,
   "id": "1fe75ee0",
   "metadata": {},
   "outputs": [],
   "source": [
    "import pandas as pd"
   ]
  },
  {
   "cell_type": "code",
   "execution_count": 27,
   "id": "c08acf0d",
   "metadata": {},
   "outputs": [
    {
     "data": {
      "text/html": [
       "<div>\n",
       "<style scoped>\n",
       "    .dataframe tbody tr th:only-of-type {\n",
       "        vertical-align: middle;\n",
       "    }\n",
       "\n",
       "    .dataframe tbody tr th {\n",
       "        vertical-align: top;\n",
       "    }\n",
       "\n",
       "    .dataframe thead th {\n",
       "        text-align: right;\n",
       "    }\n",
       "</style>\n",
       "<table border=\"1\" class=\"dataframe\">\n",
       "  <thead>\n",
       "    <tr style=\"text-align: right;\">\n",
       "      <th></th>\n",
       "      <th>ID</th>\n",
       "      <th>Nome</th>\n",
       "      <th>Idade</th>\n",
       "      <th>Gênero</th>\n",
       "      <th>Departamento</th>\n",
       "      <th>Faixa_Salarial</th>\n",
       "    </tr>\n",
       "  </thead>\n",
       "  <tbody>\n",
       "    <tr>\n",
       "      <th>0</th>\n",
       "      <td>1</td>\n",
       "      <td>Funcionario_1</td>\n",
       "      <td>57.0</td>\n",
       "      <td>NaN</td>\n",
       "      <td>Marketing</td>\n",
       "      <td>alta</td>\n",
       "    </tr>\n",
       "    <tr>\n",
       "      <th>1</th>\n",
       "      <td>2</td>\n",
       "      <td>Funcionario_2</td>\n",
       "      <td>20.0</td>\n",
       "      <td>MASCULINO</td>\n",
       "      <td>RH</td>\n",
       "      <td>Alta</td>\n",
       "    </tr>\n",
       "    <tr>\n",
       "      <th>2</th>\n",
       "      <td>3</td>\n",
       "      <td>Funcionario_3</td>\n",
       "      <td>40.0</td>\n",
       "      <td>Masculino</td>\n",
       "      <td>Financeiro</td>\n",
       "      <td>Média</td>\n",
       "    </tr>\n",
       "    <tr>\n",
       "      <th>3</th>\n",
       "      <td>4</td>\n",
       "      <td>Funcionario_4</td>\n",
       "      <td>31.0</td>\n",
       "      <td>Feminino</td>\n",
       "      <td>Comercial</td>\n",
       "      <td>alta</td>\n",
       "    </tr>\n",
       "    <tr>\n",
       "      <th>4</th>\n",
       "      <td>5</td>\n",
       "      <td>Funcionario_5</td>\n",
       "      <td>40.0</td>\n",
       "      <td>Outro</td>\n",
       "      <td>Comercial</td>\n",
       "      <td>Alta</td>\n",
       "    </tr>\n",
       "  </tbody>\n",
       "</table>\n",
       "</div>"
      ],
      "text/plain": [
       "   ID           Nome  Idade     Gênero Departamento Faixa_Salarial\n",
       "0   1  Funcionario_1   57.0        NaN    Marketing           alta\n",
       "1   2  Funcionario_2   20.0  MASCULINO           RH           Alta\n",
       "2   3  Funcionario_3   40.0  Masculino   Financeiro          Média\n",
       "3   4  Funcionario_4   31.0   Feminino    Comercial           alta\n",
       "4   5  Funcionario_5   40.0      Outro    Comercial           Alta"
      ]
     },
     "execution_count": 27,
     "metadata": {},
     "output_type": "execute_result"
    }
   ],
   "source": [
    "df = pd.read_csv(\"dia_24_funcionarios_tratamento.csv\")\n",
    "df.head()"
   ]
  },
  {
   "cell_type": "code",
   "execution_count": 28,
   "id": "35a87f99",
   "metadata": {},
   "outputs": [
    {
     "data": {
      "text/plain": [
       "array(['Não informado', 'Masculino', 'Feminino', 'Outro'], dtype=object)"
      ]
     },
     "execution_count": 28,
     "metadata": {},
     "output_type": "execute_result"
    }
   ],
   "source": [
    "#Corrija a padronização dos valores na coluna Gênero (ex: \"masculino\", \"MASCULINO\", etc).\n",
    "df[\"Gênero\"] = df[\"Gênero\"].str.strip().str.lower().str.capitalize()\n",
    "df[\"Gênero\"] = df[\"Gênero\"].fillna(\"Não informado\")\n",
    "df[\"Gênero\"].unique()"
   ]
  },
  {
   "cell_type": "code",
   "execution_count": 29,
   "id": "5e2ae4fd",
   "metadata": {},
   "outputs": [
    {
     "data": {
      "text/plain": [
       "array([57, 20, 40, 31, 47, 19, 41, 22, 48, 28, 29, 50, 58, 43, 60, 55, 44,\n",
       "       45, 23, 18, 36, 27, 64, 59, 26, 51, 61, 54, 37, 49, 53, 56, 25, 21])"
      ]
     },
     "execution_count": 29,
     "metadata": {},
     "output_type": "execute_result"
    }
   ],
   "source": [
    "#Trate a coluna Idade, convertendo para numérico e lidando com valores inválidos como \"\", \"N/A\" e NaN.\n",
    "df[\"Idade\"] = pd.to_numeric(df[\"Idade\"], errors=\"coerce\")\n",
    "df[\"Idade\"] = df[\"Idade\"].fillna(df[\"Idade\"].mean())\n",
    "df[\"Idade\"] = df[\"Idade\"].astype(int)\n",
    "df[\"Idade\"].unique()"
   ]
  },
  {
   "cell_type": "code",
   "execution_count": 30,
   "id": "7d354949",
   "metadata": {},
   "outputs": [
    {
     "data": {
      "text/plain": [
       "array(['Alta', 'Média', 'Baixa'], dtype=object)"
      ]
     },
     "execution_count": 30,
     "metadata": {},
     "output_type": "execute_result"
    }
   ],
   "source": [
    "#Padronize os valores da coluna Faixa_Salarial para que fiquem uniformes em termos de capitalização.\n",
    "df[\"Faixa_Salarial\"] = df[\"Faixa_Salarial\"].str.strip().str.lower().str.capitalize()\n",
    "df[\"Faixa_Salarial\"] = df[\"Faixa_Salarial\"].replace({\"Media\" : \"Média\"})\n",
    "df[\"Faixa_Salarial\"].unique()"
   ]
  },
  {
   "cell_type": "code",
   "execution_count": 39,
   "id": "81565f6d",
   "metadata": {},
   "outputs": [
    {
     "name": "stdout",
     "output_type": "stream",
     "text": [
      "   Departamento Faixa_Salarial  Nome\n",
      "12           TI           Alta     5\n",
      "13           TI          Baixa     8\n",
      "14           TI          Média     4\n",
      "9            RH           Alta     7\n",
      "10           RH          Baixa     7\n",
      "11           RH          Média     5\n",
      "6     Marketing           Alta     9\n",
      "7     Marketing          Baixa     3\n",
      "8     Marketing          Média    11\n",
      "3    Financeiro           Alta     6\n",
      "4    Financeiro          Baixa     6\n",
      "5    Financeiro          Média     9\n",
      "0     Comercial           Alta     6\n",
      "1     Comercial          Baixa     5\n",
      "2     Comercial          Média     4\n"
     ]
    }
   ],
   "source": [
    "#Mostre o número de funcionários por faixa salarial e departamento.\n",
    "funcSalarioDepart = df.groupby([\"Departamento\", \"Faixa_Salarial\"])[\"Nome\"].count().reset_index().sort_values(by=\"Departamento\", ascending=False)\n",
    "print(funcSalarioDepart)"
   ]
  },
  {
   "cell_type": "code",
   "execution_count": null,
   "id": "6c7caceb",
   "metadata": {},
   "outputs": [],
   "source": []
  }
 ],
 "metadata": {
  "kernelspec": {
   "display_name": "Python 3 (ipykernel)",
   "language": "python",
   "name": "python3"
  },
  "language_info": {
   "codemirror_mode": {
    "name": "ipython",
    "version": 3
   },
   "file_extension": ".py",
   "mimetype": "text/x-python",
   "name": "python",
   "nbconvert_exporter": "python",
   "pygments_lexer": "ipython3",
   "version": "3.13.2"
  }
 },
 "nbformat": 4,
 "nbformat_minor": 5
}
