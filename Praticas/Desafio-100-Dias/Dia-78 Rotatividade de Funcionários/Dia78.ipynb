{
 "cells": [
  {
   "cell_type": "markdown",
   "id": "d7d6cac3-9598-4c4f-b502-40462834918b",
   "metadata": {},
   "source": [
    "🎯 Desafio dia 78 — Rotatividade de Funcionários\n",
    "\n",
    "📂 Dataset: desafio_dia_78_rotatividade_funcionarios.csv\n",
    "\n",
    "🔍 Contexto: A equipe de Recursos Humanos está monitorando a rotatividade de funcionários para entender melhor os padrões de desligamento e permanência na empresa.\n",
    "\n",
    "🛠️ Tarefas do desafio:\n",
    "\n",
    "🧹 Tratamento de dados\n",
    "- Preencha os valores ausentes da coluna tempo_empresa_anos com a média.\n",
    "\n",
    "- Preencha os valores ausentes da coluna genero com o valor mais frequente.\n",
    "\n",
    "📊 Análise geral\n",
    "- Qual setor apresenta maior taxa de desligamento?\n",
    "\n",
    "- Qual a média de idade dos funcionários desligados?\n",
    "\n",
    "📈 Visualização de dados\n",
    "- Crie um boxplot mostrando a distribuição do tempo de empresa por situação (Ativo vs Desligado).\n",
    "\n",
    "🤖 Machine Learning - Classificação\n",
    "- Crie um modelo para prever a situacao (Ativo ou Desligado) com base em:\n",
    "\n",
    "    idade, tempo_empresa_anos, setor, genero e escolaridade\n",
    "\n",
    "    Use train_test_split, get_dummies, RandomForestClassifier e avalie a acurácia com accuracy_score."
   ]
  },
  {
   "cell_type": "code",
   "execution_count": 18,
   "id": "ae44e53c-465a-4c04-a5ba-5294b46c46a8",
   "metadata": {},
   "outputs": [],
   "source": [
    "import pandas as pd\n",
    "import seaborn as sns\n",
    "import matplotlib.pyplot as plt\n",
    "from sklearn.model_selection import train_test_split\n",
    "from sklearn.ensemble import RandomForestClassifier\n",
    "from sklearn.metrics import accuracy_score\n"
   ]
  },
  {
   "cell_type": "code",
   "execution_count": 2,
   "id": "54c4a391-d5bf-46a5-b751-9a6a739b585b",
   "metadata": {},
   "outputs": [
    {
     "data": {
      "text/html": [
       "<div>\n",
       "<style scoped>\n",
       "    .dataframe tbody tr th:only-of-type {\n",
       "        vertical-align: middle;\n",
       "    }\n",
       "\n",
       "    .dataframe tbody tr th {\n",
       "        vertical-align: top;\n",
       "    }\n",
       "\n",
       "    .dataframe thead th {\n",
       "        text-align: right;\n",
       "    }\n",
       "</style>\n",
       "<table border=\"1\" class=\"dataframe\">\n",
       "  <thead>\n",
       "    <tr style=\"text-align: right;\">\n",
       "      <th></th>\n",
       "      <th>id_funcionario</th>\n",
       "      <th>setor</th>\n",
       "      <th>idade</th>\n",
       "      <th>genero</th>\n",
       "      <th>tempo_empresa_anos</th>\n",
       "      <th>escolaridade</th>\n",
       "      <th>situacao</th>\n",
       "    </tr>\n",
       "  </thead>\n",
       "  <tbody>\n",
       "    <tr>\n",
       "      <th>0</th>\n",
       "      <td>7001</td>\n",
       "      <td>Administrativo</td>\n",
       "      <td>38</td>\n",
       "      <td>Masculino</td>\n",
       "      <td>2.7</td>\n",
       "      <td>Superior</td>\n",
       "      <td>Ativo</td>\n",
       "    </tr>\n",
       "    <tr>\n",
       "      <th>1</th>\n",
       "      <td>7002</td>\n",
       "      <td>TI</td>\n",
       "      <td>19</td>\n",
       "      <td>Feminino</td>\n",
       "      <td>2.8</td>\n",
       "      <td>Ensino Médio</td>\n",
       "      <td>Desligado</td>\n",
       "    </tr>\n",
       "    <tr>\n",
       "      <th>2</th>\n",
       "      <td>7003</td>\n",
       "      <td>Administrativo</td>\n",
       "      <td>22</td>\n",
       "      <td>Masculino</td>\n",
       "      <td>2.9</td>\n",
       "      <td>Superior</td>\n",
       "      <td>Desligado</td>\n",
       "    </tr>\n",
       "    <tr>\n",
       "      <th>3</th>\n",
       "      <td>7004</td>\n",
       "      <td>Operações</td>\n",
       "      <td>11</td>\n",
       "      <td>Masculino</td>\n",
       "      <td>0.5</td>\n",
       "      <td>Ensino Médio</td>\n",
       "      <td>Ativo</td>\n",
       "    </tr>\n",
       "    <tr>\n",
       "      <th>4</th>\n",
       "      <td>7005</td>\n",
       "      <td>Operações</td>\n",
       "      <td>38</td>\n",
       "      <td>Feminino</td>\n",
       "      <td>5.0</td>\n",
       "      <td>Superior</td>\n",
       "      <td>Desligado</td>\n",
       "    </tr>\n",
       "  </tbody>\n",
       "</table>\n",
       "</div>"
      ],
      "text/plain": [
       "   id_funcionario           setor  idade     genero  tempo_empresa_anos  \\\n",
       "0            7001  Administrativo     38  Masculino                 2.7   \n",
       "1            7002              TI     19   Feminino                 2.8   \n",
       "2            7003  Administrativo     22  Masculino                 2.9   \n",
       "3            7004       Operações     11  Masculino                 0.5   \n",
       "4            7005       Operações     38   Feminino                 5.0   \n",
       "\n",
       "   escolaridade   situacao  \n",
       "0      Superior      Ativo  \n",
       "1  Ensino Médio  Desligado  \n",
       "2      Superior  Desligado  \n",
       "3  Ensino Médio      Ativo  \n",
       "4      Superior  Desligado  "
      ]
     },
     "execution_count": 2,
     "metadata": {},
     "output_type": "execute_result"
    }
   ],
   "source": [
    "df = pd.read_csv(\"desafio_dia_78_rotatividade_funcionarios.csv\")\n",
    "df.head()"
   ]
  },
  {
   "cell_type": "code",
   "execution_count": 3,
   "id": "9d5af0b9-c77b-4e54-b5dd-200c09fe13d4",
   "metadata": {},
   "outputs": [
    {
     "data": {
      "text/plain": [
       "0"
      ]
     },
     "execution_count": 3,
     "metadata": {},
     "output_type": "execute_result"
    }
   ],
   "source": [
    "#Preencha os valores ausentes da coluna tempo_empresa_anos com a média.\n",
    "df[\"tempo_empresa_anos\"] = df[\"tempo_empresa_anos\"].fillna(df[\"tempo_empresa_anos\"].mean())\n",
    "df[\"tempo_empresa_anos\"].isna().sum()"
   ]
  },
  {
   "cell_type": "code",
   "execution_count": 5,
   "id": "0a01859e-24ff-464f-8562-f5d71b766eeb",
   "metadata": {},
   "outputs": [
    {
     "data": {
      "text/plain": [
       "0"
      ]
     },
     "execution_count": 5,
     "metadata": {},
     "output_type": "execute_result"
    }
   ],
   "source": [
    "#Preencha os valores ausentes da coluna genero com o valor mais frequente.\n",
    "df[\"genero\"] = df[\"genero\"].fillna(df[\"genero\"].mode()[0])\n",
    "df[\"genero\"].isna().sum()"
   ]
  },
  {
   "cell_type": "code",
   "execution_count": 11,
   "id": "e44654fc-ef9a-41e9-b876-32246d51a6ff",
   "metadata": {},
   "outputs": [
    {
     "name": "stdout",
     "output_type": "stream",
     "text": [
      "setor\n",
      "Administrativo    22.826087\n",
      "Operações         21.739130\n",
      "RH                20.652174\n",
      "Vendas            18.478261\n",
      "TI                16.304348\n",
      "Name: proportion, dtype: float64\n"
     ]
    }
   ],
   "source": [
    "#Qual setor apresenta maior taxa de desligamento?\n",
    "setor_desligamento = df[df[\"situacao\"] == \"Desligado\"][\"setor\"].value_counts(normalize=True) * 100\n",
    "print(setor_desligamento)"
   ]
  },
  {
   "cell_type": "code",
   "execution_count": 14,
   "id": "d8445f61-0797-4fe1-8c9c-cceeaa2d0dde",
   "metadata": {},
   "outputs": [
    {
     "name": "stdout",
     "output_type": "stream",
     "text": [
      "34.05\n"
     ]
    }
   ],
   "source": [
    "#Qual a média de idade dos funcionários desligados?\n",
    "media_idade_funcionarios_desligados = df[df[\"situacao\"] == \"Desligado\"][\"idade\"].mean().round(2)\n",
    "print(media_idade_funcionarios_desligados)"
   ]
  },
  {
   "cell_type": "code",
   "execution_count": 16,
   "id": "4161d68e-d0be-4a6e-b37b-27e888736e86",
   "metadata": {},
   "outputs": [
    {
     "data": {
      "image/png": "[encoded data removed]",
      "text/plain": [
       "<Figure size 640x480 with 1 Axes>"
      ]
     },
     "metadata": {},
     "output_type": "display_data"
    }
   ],
   "source": [
    "#Crie um boxplot mostrando a distribuição do tempo de empresa por situação (Ativo vs Desligado).\n",
    "sns.boxplot(data=df, x=\"situacao\", y=\"tempo_empresa_anos\")\n",
    "plt.title(\"Distribuição do Tempo de Empresa por Situação\")\n",
    "plt.xlabel(\"Situação do Funcionário\")\n",
    "plt.ylabel(\"Tempo na Empresa (anos)\")\n",
    "plt.show()"
   ]
  },
  {
   "cell_type": "code",
   "execution_count": 22,
   "id": "a94fd697-9c51-4ac3-a924-6b114c2c259a",
   "metadata": {},
   "outputs": [
    {
     "name": "stdout",
     "output_type": "stream",
     "text": [
      "0.7933333333333333\n"
     ]
    }
   ],
   "source": [
    "#Crie um modelo para prever a situacao (Ativo ou Desligado) com base em:\n",
    "X = df[[\"idade\", \"tempo_empresa_anos\", \"setor\", \"genero\", \"escolaridade\"]]\n",
    "y = df[\"situacao\"]\n",
    "\n",
    "X = pd.get_dummies(X)\n",
    "\n",
    "X_train, X_test, y_train, y_test = train_test_split(X, y, test_size=0.3, random_state=42)\n",
    "\n",
    "modelo = RandomForestClassifier(random_state=42)\n",
    "modelo.fit(X_train, y_train)\n",
    "\n",
    "y_pred = modelo.predict(X_test)\n",
    "print(accuracy_score(y_test, y_pred))"
   ]
  }
 ],
 "metadata": {
  "kernelspec": {
   "display_name": "Python 3 (ipykernel)",
   "language": "python",
   "name": "python3"
  },
  "language_info": {
   "codemirror_mode": {
    "name": "ipython",
    "version": 3
   },
   "file_extension": ".py",
   "mimetype": "text/x-python",
   "name": "python",
   "nbconvert_exporter": "python",
   "pygments_lexer": "ipython3",
   "version": "3.12.7"
  }
 },
 "nbformat": 4,
 "nbformat_minor": 5
}
