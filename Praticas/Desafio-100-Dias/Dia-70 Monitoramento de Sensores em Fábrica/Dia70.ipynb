{
 "cells": [
  {
   "cell_type": "markdown",
   "id": "e3a3fa8c",
   "metadata": {},
   "source": [
    "🎯 Desafio dia 70 — Monitoramento de Sensores em Fábrica\n",
    "\n",
    "📂 Dataset: desafio_dia_70_sensores_fabrica.csv\n",
    "\n",
    "🔍 Contexto: Em uma fábrica moderna, sensores registram dados como temperatura, vibração e umidade em diferentes setores. O objetivo é garantir segurança e bom funcionamento das máquinas, analisando o comportamento desses sensores e prevendo situações de alarme.\n",
    "\n",
    "🛠️ Tarefas do desafio:\n",
    "\n",
    "Tratamento de dados\n",
    "\n",
    "- Preencha os valores ausentes de temperatura_C com a mediana da coluna.\n",
    "\n",
    "- Preencha os valores ausentes de umidade_pct com a média da coluna.\n",
    "\n",
    "Análise geral\n",
    "\n",
    "- Qual setor possui maior média de temperatura?\n",
    "\n",
    "- Quantos alarmes foram ativados em cada setor?\n",
    "\n",
    "Visualização de dados\n",
    "\n",
    "- Crie um gráfico de boxplot para comparar a vibração (vibracao_mms) entre os setores.\n",
    "\n",
    "Machine Learning - Classificação\n",
    "\n",
    "- Crie um modelo para prever se o alarme será ativado com base em:\n",
    "\n",
    "    temperatura_C, umidade_pct, vibracao_mms, setor\n",
    "\n",
    "    Use RandomForestClassifier com train_test_split e pd.get_dummies.\n",
    "\n",
    "    Avalie a acurácia com accuracy_score."
   ]
  },
  {
   "cell_type": "code",
   "execution_count": 26,
   "id": "6c58cdf9",
   "metadata": {},
   "outputs": [],
   "source": [
    "import pandas as pd\n",
    "import seaborn as sns\n",
    "import matplotlib.pyplot as plt\n",
    "from sklearn.model_selection import train_test_split\n",
    "from sklearn.ensemble import RandomForestClassifier\n",
    "from sklearn.metrics import accuracy_score"
   ]
  },
  {
   "cell_type": "code",
   "execution_count": 14,
   "id": "fcd3a9a8",
   "metadata": {},
   "outputs": [
    {
     "data": {
      "text/html": [
       "<div>\n",
       "<style scoped>\n",
       "    .dataframe tbody tr th:only-of-type {\n",
       "        vertical-align: middle;\n",
       "    }\n",
       "\n",
       "    .dataframe tbody tr th {\n",
       "        vertical-align: top;\n",
       "    }\n",
       "\n",
       "    .dataframe thead th {\n",
       "        text-align: right;\n",
       "    }\n",
       "</style>\n",
       "<table border=\"1\" class=\"dataframe\">\n",
       "  <thead>\n",
       "    <tr style=\"text-align: right;\">\n",
       "      <th></th>\n",
       "      <th>id_sensor</th>\n",
       "      <th>setor</th>\n",
       "      <th>temperatura_C</th>\n",
       "      <th>vibracao_mms</th>\n",
       "      <th>umidade_pct</th>\n",
       "      <th>alarme_ativado</th>\n",
       "    </tr>\n",
       "  </thead>\n",
       "  <tbody>\n",
       "    <tr>\n",
       "      <th>0</th>\n",
       "      <td>1078</td>\n",
       "      <td>Pintura</td>\n",
       "      <td>70.27</td>\n",
       "      <td>1.44</td>\n",
       "      <td>45.9</td>\n",
       "      <td>0</td>\n",
       "    </tr>\n",
       "    <tr>\n",
       "      <th>1</th>\n",
       "      <td>1086</td>\n",
       "      <td>Pintura</td>\n",
       "      <td>45.99</td>\n",
       "      <td>2.21</td>\n",
       "      <td>36.0</td>\n",
       "      <td>0</td>\n",
       "    </tr>\n",
       "    <tr>\n",
       "      <th>2</th>\n",
       "      <td>1024</td>\n",
       "      <td>Solda</td>\n",
       "      <td>53.74</td>\n",
       "      <td>1.51</td>\n",
       "      <td>39.3</td>\n",
       "      <td>0</td>\n",
       "    </tr>\n",
       "    <tr>\n",
       "      <th>3</th>\n",
       "      <td>1060</td>\n",
       "      <td>Montagem</td>\n",
       "      <td>76.37</td>\n",
       "      <td>2.64</td>\n",
       "      <td>31.2</td>\n",
       "      <td>0</td>\n",
       "    </tr>\n",
       "    <tr>\n",
       "      <th>4</th>\n",
       "      <td>1059</td>\n",
       "      <td>Pintura</td>\n",
       "      <td>58.28</td>\n",
       "      <td>1.79</td>\n",
       "      <td>52.1</td>\n",
       "      <td>0</td>\n",
       "    </tr>\n",
       "  </tbody>\n",
       "</table>\n",
       "</div>"
      ],
      "text/plain": [
       "   id_sensor     setor  temperatura_C  vibracao_mms  umidade_pct  \\\n",
       "0       1078   Pintura          70.27          1.44         45.9   \n",
       "1       1086   Pintura          45.99          2.21         36.0   \n",
       "2       1024     Solda          53.74          1.51         39.3   \n",
       "3       1060  Montagem          76.37          2.64         31.2   \n",
       "4       1059   Pintura          58.28          1.79         52.1   \n",
       "\n",
       "   alarme_ativado  \n",
       "0               0  \n",
       "1               0  \n",
       "2               0  \n",
       "3               0  \n",
       "4               0  "
      ]
     },
     "execution_count": 14,
     "metadata": {},
     "output_type": "execute_result"
    }
   ],
   "source": [
    "df = pd.read_csv(\"desafio_dia_70_sensores_fabrica.csv\")\n",
    "df.head()"
   ]
  },
  {
   "cell_type": "code",
   "execution_count": 16,
   "id": "c423d31a",
   "metadata": {},
   "outputs": [
    {
     "data": {
      "text/plain": [
       "np.int64(0)"
      ]
     },
     "execution_count": 16,
     "metadata": {},
     "output_type": "execute_result"
    }
   ],
   "source": [
    "#Preencha os valores ausentes de temperatura_C com a mediana da coluna.\n",
    "df[\"temperatura_C\"] = df[\"temperatura_C\"].fillna(df[\"temperatura_C\"].median())\n",
    "df[\"temperatura_C\"].isna().sum()"
   ]
  },
  {
   "cell_type": "code",
   "execution_count": 15,
   "id": "8db5eec9",
   "metadata": {},
   "outputs": [
    {
     "data": {
      "text/plain": [
       "np.int64(0)"
      ]
     },
     "execution_count": 15,
     "metadata": {},
     "output_type": "execute_result"
    }
   ],
   "source": [
    "#Preencha os valores ausentes de umidade_pct com a média da coluna.\n",
    "df[\"umidade_pct\"] = df[\"umidade_pct\"].fillna(df[\"umidade_pct\"].mean())\n",
    "df[\"umidade_pct\"].isna().sum()"
   ]
  },
  {
   "cell_type": "code",
   "execution_count": 19,
   "id": "bda76d75",
   "metadata": {},
   "outputs": [
    {
     "name": "stdout",
     "output_type": "stream",
     "text": [
      "setor\n",
      "Solda        61.371485\n",
      "Pintura      60.176741\n",
      "Montagem     60.138353\n",
      "Inspeção     59.856146\n",
      "Logística    58.805407\n",
      "Name: temperatura_C, dtype: float64\n"
     ]
    }
   ],
   "source": [
    "#Qual setor possui maior média de temperatura?\n",
    "temperatura_setor = df.groupby(\"setor\")[\"temperatura_C\"].mean().sort_values(ascending=False)\n",
    "print(temperatura_setor)"
   ]
  },
  {
   "cell_type": "code",
   "execution_count": 21,
   "id": "e653e0ab",
   "metadata": {},
   "outputs": [
    {
     "name": "stdout",
     "output_type": "stream",
     "text": [
      "setor\n",
      "Pintura      25\n",
      "Inspeção     13\n",
      "Montagem     12\n",
      "Solda        10\n",
      "Logística     6\n",
      "Name: alarme_ativado, dtype: int64\n"
     ]
    }
   ],
   "source": [
    "#Quantos alarmes foram ativados em cada setor?\n",
    "alarmes_setor = df.groupby(\"setor\")[\"alarme_ativado\"].sum().sort_values(ascending=False)\n",
    "print(alarmes_setor)"
   ]
  },
  {
   "cell_type": "code",
   "execution_count": 25,
   "id": "556621e0",
   "metadata": {},
   "outputs": [
    {
     "data": {
      "image/png": "[encoded data removed]",
      "text/plain": [
       "<Figure size 640x480 with 1 Axes>"
      ]
     },
     "metadata": {},
     "output_type": "display_data"
    }
   ],
   "source": [
    "#Crie um gráfico de boxplot para comparar a vibração (vibracao_mms) entre os setores.\n",
    "sns.boxplot(df, x=\"setor\", y=\"vibracao_mms\")\n",
    "plt.title(\"Distribuição da vibração por setor\")\n",
    "plt.ylabel(\"Vibração (mm/s)\")\n",
    "plt.xlabel(\"Setor\")\n",
    "plt.show()"
   ]
  },
  {
   "cell_type": "code",
   "execution_count": 29,
   "id": "6f691ec2",
   "metadata": {},
   "outputs": [
    {
     "name": "stdout",
     "output_type": "stream",
     "text": [
      "0.8611111111111112\n"
     ]
    }
   ],
   "source": [
    "#Crie um modelo para prever se o alarme será ativado com base em:\n",
    "X = df[[\"temperatura_C\", \"umidade_pct\", \"vibracao_mms\", \"setor\"]]\n",
    "y = df[\"alarme_ativado\"]\n",
    "\n",
    "X = pd.get_dummies(X, columns=[\"setor\"], drop_first=True)\n",
    "\n",
    "X_train, X_test, y_train, y_test = train_test_split(X, y, test_size=0.3, random_state=42)\n",
    "\n",
    "modelo = RandomForestClassifier(random_state=42)\n",
    "modelo.fit(X_train, y_train)\n",
    "\n",
    "y_pred = modelo.predict(X_test)\n",
    "print(accuracy_score(y_test, y_pred))\n"
   ]
  },
  {
   "cell_type": "code",
   "execution_count": null,
   "id": "03cbfaf6",
   "metadata": {},
   "outputs": [],
   "source": []
  }
 ],
 "metadata": {
  "kernelspec": {
   "display_name": "Python (jupyter_env)",
   "language": "python",
   "name": "jupyter_env"
  },
  "language_info": {
   "codemirror_mode": {
    "name": "ipython",
    "version": 3
   },
   "file_extension": ".py",
   "mimetype": "text/x-python",
   "name": "python",
   "nbconvert_exporter": "python",
   "pygments_lexer": "ipython3",
   "version": "3.13.2"
  }
 },
 "nbformat": 4,
 "nbformat_minor": 5
}
