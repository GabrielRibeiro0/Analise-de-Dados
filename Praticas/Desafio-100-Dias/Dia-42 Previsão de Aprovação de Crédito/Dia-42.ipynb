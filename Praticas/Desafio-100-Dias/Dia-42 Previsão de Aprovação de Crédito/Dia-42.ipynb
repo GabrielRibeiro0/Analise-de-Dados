{
 "cells": [
  {
   "cell_type": "markdown",
   "id": "b0355a78-21c7-417b-a84c-b8657d83fcf7",
   "metadata": {},
   "source": [
    "Desafio 42: Previsão de Aprovação de Crédito\n",
    "\n",
    "📂 Dataset: Informações de candidatos à análise de crédito.\n",
    "Colunas: Renda, Idade, Score_Credito, Dividas, Tempo_Emprego, Aprovado\n",
    "\n",
    "🎯 Tarefas:\n",
    "\n",
    "Identifique e trate os valores ausentes.\n",
    "\n",
    "Faça uma análise exploratória: existe correlação entre score de crédito e aprovação?\n",
    "\n",
    "Qual a média de renda e score dos aprovados vs reprovados?\n",
    "\n",
    "Crie uma árvore de decisão simples para prever a variável Aprovado.\n",
    "\n",
    "Avalie a acurácia da sua árvore com uma divisão treino/teste (ex: 70/30)."
   ]
  },
  {
   "cell_type": "code",
   "execution_count": 14,
   "id": "c367b555-3670-4e82-889a-2dc7fb0a23a6",
   "metadata": {},
   "outputs": [],
   "source": [
    "import pandas as pd\n",
    "from sklearn.model_selection import train_test_split\n",
    "from sklearn.tree import DecisionTreeClassifier\n",
    "from sklearn.metrics import accuracy_score"
   ]
  },
  {
   "cell_type": "code",
   "execution_count": 2,
   "id": "82803706-7f93-4670-9274-711f427cefd6",
   "metadata": {},
   "outputs": [
    {
     "data": {
      "text/html": [
       "<div>\n",
       "<style scoped>\n",
       "    .dataframe tbody tr th:only-of-type {\n",
       "        vertical-align: middle;\n",
       "    }\n",
       "\n",
       "    .dataframe tbody tr th {\n",
       "        vertical-align: top;\n",
       "    }\n",
       "\n",
       "    .dataframe thead th {\n",
       "        text-align: right;\n",
       "    }\n",
       "</style>\n",
       "<table border=\"1\" class=\"dataframe\">\n",
       "  <thead>\n",
       "    <tr style=\"text-align: right;\">\n",
       "      <th></th>\n",
       "      <th>Renda</th>\n",
       "      <th>Idade</th>\n",
       "      <th>Score_Credito</th>\n",
       "      <th>Dividas</th>\n",
       "      <th>Tempo_Emprego</th>\n",
       "      <th>Aprovado</th>\n",
       "    </tr>\n",
       "  </thead>\n",
       "  <tbody>\n",
       "    <tr>\n",
       "      <th>0</th>\n",
       "      <td>4016.12</td>\n",
       "      <td>64</td>\n",
       "      <td>605.0</td>\n",
       "      <td>1</td>\n",
       "      <td>3.5</td>\n",
       "      <td>1</td>\n",
       "    </tr>\n",
       "    <tr>\n",
       "      <th>1</th>\n",
       "      <td>3294.86</td>\n",
       "      <td>69</td>\n",
       "      <td>673.0</td>\n",
       "      <td>0</td>\n",
       "      <td>0.2</td>\n",
       "      <td>1</td>\n",
       "    </tr>\n",
       "    <tr>\n",
       "      <th>2</th>\n",
       "      <td>3207.26</td>\n",
       "      <td>39</td>\n",
       "      <td>497.0</td>\n",
       "      <td>2</td>\n",
       "      <td>2.3</td>\n",
       "      <td>0</td>\n",
       "    </tr>\n",
       "    <tr>\n",
       "      <th>3</th>\n",
       "      <td>4067.68</td>\n",
       "      <td>55</td>\n",
       "      <td>695.0</td>\n",
       "      <td>3</td>\n",
       "      <td>1.0</td>\n",
       "      <td>0</td>\n",
       "    </tr>\n",
       "    <tr>\n",
       "      <th>4</th>\n",
       "      <td>4273.87</td>\n",
       "      <td>53</td>\n",
       "      <td>590.0</td>\n",
       "      <td>3</td>\n",
       "      <td>5.3</td>\n",
       "      <td>0</td>\n",
       "    </tr>\n",
       "  </tbody>\n",
       "</table>\n",
       "</div>"
      ],
      "text/plain": [
       "     Renda  Idade  Score_Credito  Dividas  Tempo_Emprego  Aprovado\n",
       "0  4016.12     64          605.0        1            3.5         1\n",
       "1  3294.86     69          673.0        0            0.2         1\n",
       "2  3207.26     39          497.0        2            2.3         0\n",
       "3  4067.68     55          695.0        3            1.0         0\n",
       "4  4273.87     53          590.0        3            5.3         0"
      ]
     },
     "execution_count": 2,
     "metadata": {},
     "output_type": "execute_result"
    }
   ],
   "source": [
    "df = pd.read_csv(\"dia_42_aprovacao_credito.csv\")\n",
    "df.head()"
   ]
  },
  {
   "cell_type": "code",
   "execution_count": 10,
   "id": "327365f0-3fbd-4706-b584-2872a75c9fc9",
   "metadata": {},
   "outputs": [
    {
     "data": {
      "text/plain": [
       "Renda            0\n",
       "Idade            0\n",
       "Score_Credito    0\n",
       "Dividas          0\n",
       "Tempo_Emprego    0\n",
       "Aprovado         0\n",
       "dtype: int64"
      ]
     },
     "execution_count": 10,
     "metadata": {},
     "output_type": "execute_result"
    }
   ],
   "source": [
    "#Identifique e trate os valores ausentes.\t\n",
    "df[\"Score_Credito\"] = pd.to_numeric(df[\"Score_Credito\"], errors=\"coerce\")\n",
    "df[\"Score_Credito\"] = df[\"Score_Credito\"].fillna(df[\"Score_Credito\"].mean()).round(2)\n",
    "\n",
    "df[\"Tempo_Emprego\"] = pd.to_numeric(df[\"Tempo_Emprego\"], errors=\"coerce\")\n",
    "df['Tempo_Emprego'].fillna(df['Tempo_Emprego'].mean())\n",
    "df.isna().sum()"
   ]
  },
  {
   "cell_type": "code",
   "execution_count": 11,
   "id": "37ac2f74-2975-4e04-86dd-30a5ed9576d5",
   "metadata": {},
   "outputs": [
    {
     "name": "stdout",
     "output_type": "stream",
     "text": [
      "0.2586244190571961\n"
     ]
    }
   ],
   "source": [
    "#Faça uma análise exploratória: existe correlação entre score de crédito e aprovação?\n",
    "corrScoreAprovado = df['Score_Credito'].corr(df['Aprovado'])\n",
    "print(corrScoreAprovado)"
   ]
  },
  {
   "cell_type": "code",
   "execution_count": 12,
   "id": "ed1c9e12-fccb-495f-84ce-1e5c0e1588c7",
   "metadata": {},
   "outputs": [
    {
     "name": "stdout",
     "output_type": "stream",
     "text": [
      "                Renda  Score_Credito\n",
      "Aprovado                            \n",
      "0         3365.555648     593.796296\n",
      "1         4111.298214     648.752143\n"
     ]
    }
   ],
   "source": [
    "#Qual a média de renda e score dos aprovados vs reprovados?\n",
    "mediasAprovacao = df.groupby('Aprovado')[['Renda', 'Score_Credito']].mean()\n",
    "print(mediasAprovacao)"
   ]
  },
  {
   "cell_type": "code",
   "execution_count": 30,
   "id": "7dc078bb-a2cc-480a-8afc-cbf061098fce",
   "metadata": {},
   "outputs": [
    {
     "data": {
      "text/plain": [
       "1.0"
      ]
     },
     "execution_count": 30,
     "metadata": {},
     "output_type": "execute_result"
    }
   ],
   "source": [
    "#Avalie a acurácia da sua árvore com uma divisão treino/teste (ex: 70/30).\n",
    "X = df.drop('Aprovado', axis=1)\n",
    "y = df['Aprovado']        \n",
    "\n",
    "X_train, X_test, y_train, y_test = train_test_split(X, y, test_size=0.3)\n",
    "\n",
    "modeloArvore = DecisionTreeClassifier(random_state=42)\n",
    "modeloArvore.fit(X_train, y_train)\n",
    "\n",
    "y_pred = modeloArvore.predict(X_test)\n",
    "acuracia = accuracy_score(y_test, y_pred)\n",
    "\n",
    "acuracia"
   ]
  }
 ],
 "metadata": {
  "kernelspec": {
   "display_name": "Python 3 (ipykernel)",
   "language": "python",
   "name": "python3"
  },
  "language_info": {
   "codemirror_mode": {
    "name": "ipython",
    "version": 3
   },
   "file_extension": ".py",
   "mimetype": "text/x-python",
   "name": "python",
   "nbconvert_exporter": "python",
   "pygments_lexer": "ipython3",
   "version": "3.12.7"
  }
 },
 "nbformat": 4,
 "nbformat_minor": 5
}
