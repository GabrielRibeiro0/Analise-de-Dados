{
 "cells": [
  {
   "cell_type": "markdown",
   "id": "bba585b7-fbf6-42e8-8677-4e0f2661d416",
   "metadata": {},
   "source": [
    "📦 Desafio 50 — Análise de Vendas em E-commerce com Dados Reais\n",
    "📂 Dataset: Clique aqui para baixar o CSV\n",
    "\n",
    "Você recebeu um conjunto de dados de vendas em um e-commerce. O arquivo contém problemas reais: valores ausentes, duplicatas e possíveis outliers. Seu desafio é identificar padrões de consumo, tratar os dados e aplicar uma análise preditiva simples.\n",
    "\n",
    "🔍 Tarefas:\n",
    "\n",
    "(Tratamento de Dados)\n",
    "\n",
    "    Identifique e trate valores ausentes, dados duplicados e outliers na coluna valor.\n",
    "\n",
    "(Análise Geral)\n",
    "\n",
    "    Qual categoria mais aparece nas vendas com reclamação?\n",
    "\n",
    "(Gráfico)\n",
    "\n",
    "    Crie um gráfico de barras com o valor médio das vendas por forma_pagamento.\n",
    "\n",
    "(Machine Learning Básico)\n",
    "\n",
    "    Treine um modelo de classificação para prever se uma venda terá reclamacao.\n",
    "Sugestões:\n",
    "\n",
    "Use LogisticRegression ou RandomForestClassifier.\n",
    "\n",
    "Aplique train_test_split e avalie com accuracy_score e classification_report."
   ]
  },
  {
   "cell_type": "code",
   "execution_count": 72,
   "id": "4509efe9-37df-47a3-9c79-5cd4a34e761e",
   "metadata": {},
   "outputs": [],
   "source": [
    "import pandas as pd\n",
    "import matplotlib.pyplot as plt\n",
    "import seaborn as sns\n",
    "from sklearn.model_selection import train_test_split\n",
    "from sklearn.ensemble import RandomForestClassifier\n",
    "from sklearn.metrics import accuracy_score, classification_report\n",
    "from sklearn.preprocessing import LabelEncoder"
   ]
  },
  {
   "cell_type": "code",
   "execution_count": 30,
   "id": "f360eeb4-4e15-4fa2-9612-33bf6296b4f4",
   "metadata": {},
   "outputs": [
    {
     "data": {
      "text/html": [
       "<div>\n",
       "<style scoped>\n",
       "    .dataframe tbody tr th:only-of-type {\n",
       "        vertical-align: middle;\n",
       "    }\n",
       "\n",
       "    .dataframe tbody tr th {\n",
       "        vertical-align: top;\n",
       "    }\n",
       "\n",
       "    .dataframe thead th {\n",
       "        text-align: right;\n",
       "    }\n",
       "</style>\n",
       "<table border=\"1\" class=\"dataframe\">\n",
       "  <thead>\n",
       "    <tr style=\"text-align: right;\">\n",
       "      <th></th>\n",
       "      <th>id_venda</th>\n",
       "      <th>categoria</th>\n",
       "      <th>valor</th>\n",
       "      <th>forma_pagamento</th>\n",
       "      <th>tempo_entrega_dias</th>\n",
       "      <th>status_entrega</th>\n",
       "      <th>reclamacao</th>\n",
       "    </tr>\n",
       "  </thead>\n",
       "  <tbody>\n",
       "    <tr>\n",
       "      <th>0</th>\n",
       "      <td>9151</td>\n",
       "      <td>Eletrônicos</td>\n",
       "      <td>295.57</td>\n",
       "      <td>Pix</td>\n",
       "      <td>7.0</td>\n",
       "      <td>Entregue</td>\n",
       "      <td>Não</td>\n",
       "    </tr>\n",
       "    <tr>\n",
       "      <th>1</th>\n",
       "      <td>5360</td>\n",
       "      <td>Esportes</td>\n",
       "      <td>184.91</td>\n",
       "      <td>Boleto</td>\n",
       "      <td>8.0</td>\n",
       "      <td>Em trânsito</td>\n",
       "      <td>Não</td>\n",
       "    </tr>\n",
       "    <tr>\n",
       "      <th>2</th>\n",
       "      <td>6965</td>\n",
       "      <td>Esportes</td>\n",
       "      <td>248.98</td>\n",
       "      <td>Transferência</td>\n",
       "      <td>16.0</td>\n",
       "      <td>NaN</td>\n",
       "      <td>Sim</td>\n",
       "    </tr>\n",
       "    <tr>\n",
       "      <th>3</th>\n",
       "      <td>4972</td>\n",
       "      <td>Roupas</td>\n",
       "      <td>323.10</td>\n",
       "      <td>Transferência</td>\n",
       "      <td>NaN</td>\n",
       "      <td>Entregue</td>\n",
       "      <td>Não</td>\n",
       "    </tr>\n",
       "    <tr>\n",
       "      <th>4</th>\n",
       "      <td>8752</td>\n",
       "      <td>Esportes</td>\n",
       "      <td>79.98</td>\n",
       "      <td>Transferência</td>\n",
       "      <td>6.0</td>\n",
       "      <td>Em trânsito</td>\n",
       "      <td>Não</td>\n",
       "    </tr>\n",
       "  </tbody>\n",
       "</table>\n",
       "</div>"
      ],
      "text/plain": [
       "   id_venda    categoria   valor forma_pagamento  tempo_entrega_dias  \\\n",
       "0      9151  Eletrônicos  295.57             Pix                 7.0   \n",
       "1      5360     Esportes  184.91          Boleto                 8.0   \n",
       "2      6965     Esportes  248.98   Transferência                16.0   \n",
       "3      4972       Roupas  323.10   Transferência                 NaN   \n",
       "4      8752     Esportes   79.98   Transferência                 6.0   \n",
       "\n",
       "  status_entrega reclamacao  \n",
       "0       Entregue        Não  \n",
       "1    Em trânsito        Não  \n",
       "2            NaN        Sim  \n",
       "3       Entregue        Não  \n",
       "4    Em trânsito        Não  "
      ]
     },
     "execution_count": 30,
     "metadata": {},
     "output_type": "execute_result"
    }
   ],
   "source": [
    "df = pd.read_csv(\"dia_50_vendas_ecommerce.csv\")\n",
    "df.head()"
   ]
  },
  {
   "cell_type": "code",
   "execution_count": 33,
   "id": "688bb0a9-e5b1-4e1a-b8e3-ebf67e7359af",
   "metadata": {},
   "outputs": [
    {
     "data": {
      "text/plain": [
       "id_venda              0\n",
       "categoria             0\n",
       "valor                 0\n",
       "forma_pagamento       0\n",
       "tempo_entrega_dias    0\n",
       "status_entrega        0\n",
       "reclamacao            0\n",
       "dtype: int64"
      ]
     },
     "execution_count": 33,
     "metadata": {},
     "output_type": "execute_result"
    }
   ],
   "source": [
    "#Identifique e trate valores ausentes, dados duplicados e outliers na coluna valor.\n",
    "df = df.drop_duplicates()\n",
    "\n",
    "#status_entrega\n",
    "df[\"status_entrega\"] = df[\"status_entrega\"].fillna(\"Sem Informação\")\n",
    "\n",
    "#Valor\n",
    "q1 = df[\"valor\"].quantile(0.25)\n",
    "q3 = df[\"valor\"].quantile(0.75)\n",
    "\n",
    "iqr = q3 - q1\n",
    "\n",
    "limite_inferior = q1 - 1.5 * iqr\n",
    "limite_superior = q3 + 1.5 * iqr\n",
    "df = df[(df[\"valor\"] >= limite_inferior) & (df[\"valor\"] <= limite_superior)]\n",
    "df[\"valor\"] = df[\"valor\"].fillna(df[\"valor\"].mean())\n",
    "\n",
    "#tempo_entrega_dias\t\n",
    "df[\"tempo_entrega_dias\"] = df[\"tempo_entrega_dias\"].fillna(\n",
    "    df.groupby(\"categoria\")[\"tempo_entrega_dias\"].transform(\"mean\")\n",
    ")\n",
    "\n",
    "df.isnull().sum()"
   ]
  },
  {
   "cell_type": "code",
   "execution_count": 50,
   "id": "9f4d1381-8975-414b-acff-ecf0fdbccf19",
   "metadata": {},
   "outputs": [
    {
     "name": "stdout",
     "output_type": "stream",
     "text": [
      "reclamacao  Não  Sim\n",
      "categoria           \n",
      "Casa         77   11\n"
     ]
    }
   ],
   "source": [
    "#Qual categoria mais aparece nas vendas com reclamação?\n",
    "categoriaReclamacao = df.groupby(\"categoria\")[\"reclamacao\"].value_counts().unstack().sort_values(by=\"Sim\")\n",
    "print(categoriaReclamacao.head(1))"
   ]
  },
  {
   "cell_type": "code",
   "execution_count": 70,
   "id": "5a11a03d-8668-4624-890e-1c6de29f44f3",
   "metadata": {},
   "outputs": [
    {
     "data": {
      "image/png": "[encoded data removed]",
      "text/plain": [
       "<Figure size 640x480 with 1 Axes>"
      ]
     },
     "metadata": {},
     "output_type": "display_data"
    },
    {
     "name": "stdout",
     "output_type": "stream",
     "text": [
      "Index(['id_venda', 'categoria', 'valor', 'forma_pagamento',\n",
      "       'tempo_entrega_dias', 'status_entrega', 'reclamacao'],\n",
      "      dtype='object')\n"
     ]
    }
   ],
   "source": [
    "#Crie um gráfico de barras com o valor médio das vendas por forma_pagamento.\n",
    "formaPagamentoMedia = df.groupby(\"forma_pagamento\")[\"valor\"].mean()\n",
    "sns.barplot(x=formaPagamentoMedia.values, y=formaPagamentoMedia.index)\n",
    "plt.xlabel(\"Valor Médio da Venda\")\n",
    "plt.ylabel(\"Forma de Pagamento\")\n",
    "plt.title(\"Valor Médio por Forma de Pagamento\")\n",
    "plt.grid(axis='x', linestyle='--', alpha=0.5)\n",
    "plt.show()"
   ]
  },
  {
   "cell_type": "code",
   "execution_count": 87,
   "id": "3d9cf0ad-b9aa-41ec-b3ed-1f0c7287ba93",
   "metadata": {},
   "outputs": [
    {
     "name": "stdout",
     "output_type": "stream",
     "text": [
      "Acurácia: 0.8235294117647058\n",
      "              precision    recall  f1-score   support\n",
      "\n",
      "           0       0.85      0.96      0.90       102\n",
      "           1       0.00      0.00      0.00        17\n",
      "\n",
      "    accuracy                           0.82       119\n",
      "   macro avg       0.43      0.48      0.45       119\n",
      "weighted avg       0.73      0.82      0.77       119\n",
      "\n",
      "forma_pagamento_Pix              12.0\n",
      "status_entrega_Em trânsito       12.0\n",
      "categoria_Eletrônicos            12.0\n",
      "forma_pagamento_Transferência    12.0\n",
      "status_entrega_Entregue          11.0\n",
      "categoria_Roupas                  9.0\n",
      "status_entrega_Sem Informação     9.0\n",
      "categoria_Livros                  9.0\n",
      "forma_pagamento_Cartão            8.0\n",
      "categoria_Esportes                8.0\n",
      "dtype: float64\n"
     ]
    }
   ],
   "source": [
    "#Treine um modelo de classificação para prever se uma venda terá reclamacao.\n",
    "df_modelo = df.copy()\n",
    "df_modelo = pd.get_dummies(df_modelo[[\"forma_pagamento\", \"categoria\", \"status_entrega\"]], drop_first=True)\n",
    "\n",
    "le = LabelEncoder()\n",
    "df_modelo['reclamacao'] = le.fit_transform(df['reclamacao'])\n",
    "\n",
    "X = df_modelo.drop(\"reclamacao\", axis=1)\n",
    "y = df_modelo[\"reclamacao\"]\n",
    "\n",
    "X_train, X_test, y_train, y_test = train_test_split(X, y, test_size=0.3, random_state=42)\n",
    "\n",
    "modelo = RandomForestClassifier(random_state=42)\n",
    "modelo.fit(X_train, y_train)\n",
    "\n",
    "y_pred = modelo.predict(X_test)\n",
    "print(f\"Acurácia: {accuracy_score(y_test, y_pred)}\")\n",
    "print(classification_report(y_test, y_pred))\n",
    "\n",
    "importances = pd.Series(modelo.feature_importances_, index=X.columns).sort_values(ascending=False).round(2) * 100\n",
    "print(importances)"
   ]
  }
 ],
 "metadata": {
  "kernelspec": {
   "display_name": "Python 3 (ipykernel)",
   "language": "python",
   "name": "python3"
  },
  "language_info": {
   "codemirror_mode": {
    "name": "ipython",
    "version": 3
   },
   "file_extension": ".py",
   "mimetype": "text/x-python",
   "name": "python",
   "nbconvert_exporter": "python",
   "pygments_lexer": "ipython3",
   "version": "3.12.7"
  }
 },
 "nbformat": 4,
 "nbformat_minor": 5
}
