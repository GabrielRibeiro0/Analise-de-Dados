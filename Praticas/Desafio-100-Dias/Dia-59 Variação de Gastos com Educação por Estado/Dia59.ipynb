{
 "cells": [
  {
   "cell_type": "markdown",
   "id": "8855c0fe-b05f-4cd8-a622-afd757e90424",
   "metadata": {},
   "source": [
    "📊 Desafio 59 — Variação de Gastos com Educação por Estado\n",
    "\n",
    "Este dataset apresenta dados fictícios de diferentes estados brasileiros, com informações sobre os gastos anuais com educação entre 2015 e 2022, população e IDH.\n",
    "\n",
    "🔍 Tarefas:\n",
    "\n",
    "Tratamento de Dados:\n",
    "- Existem valores ausentes nos dados? Como você trataria esses valores para manter a integridade da análise?\n",
    "\n",
    "Análise Exploratória:\n",
    "- Qual estado teve o maior crescimento percentual no gasto com educação entre 2015 e 2022?\n",
    "\n",
    "Visualização:\n",
    "- Crie um gráfico de linha com a evolução média dos gastos com educação ao longo dos anos para todos os estados.\n",
    "\n",
    "Machine Learning (Simples):\n",
    "- Treine um modelo de regressão (como LinearRegression) para prever o gasto com educação de um estado com base na população e IDH. Avalie o desempenho com r2_score."
   ]
  },
  {
   "cell_type": "code",
   "execution_count": 34,
   "id": "44465e90-ddbc-4f6d-96ee-098751106a1c",
   "metadata": {},
   "outputs": [],
   "source": [
    "import pandas as pd\n",
    "import seaborn as sns\n",
    "import matplotlib.pyplot as plt\n",
    "from sklearn.linear_model import LinearRegression\n",
    "from sklearn.model_selection import train_test_split\n",
    "from sklearn.metrics import accuracy_score, classification_report, r2_score"
   ]
  },
  {
   "cell_type": "code",
   "execution_count": 3,
   "id": "d70ba43a-817b-4a35-b277-7c9cbef01392",
   "metadata": {},
   "outputs": [
    {
     "data": {
      "text/html": [
       "<div>\n",
       "<style scoped>\n",
       "    .dataframe tbody tr th:only-of-type {\n",
       "        vertical-align: middle;\n",
       "    }\n",
       "\n",
       "    .dataframe tbody tr th {\n",
       "        vertical-align: top;\n",
       "    }\n",
       "\n",
       "    .dataframe thead th {\n",
       "        text-align: right;\n",
       "    }\n",
       "</style>\n",
       "<table border=\"1\" class=\"dataframe\">\n",
       "  <thead>\n",
       "    <tr style=\"text-align: right;\">\n",
       "      <th></th>\n",
       "      <th>Estado</th>\n",
       "      <th>Ano</th>\n",
       "      <th>GastoEducacao</th>\n",
       "      <th>Populacao</th>\n",
       "      <th>IDH</th>\n",
       "    </tr>\n",
       "  </thead>\n",
       "  <tbody>\n",
       "    <tr>\n",
       "      <th>0</th>\n",
       "      <td>SP</td>\n",
       "      <td>2015</td>\n",
       "      <td>2498.16</td>\n",
       "      <td>42831429</td>\n",
       "      <td>0.796</td>\n",
       "    </tr>\n",
       "    <tr>\n",
       "      <th>1</th>\n",
       "      <td>SP</td>\n",
       "      <td>2016</td>\n",
       "      <td>2431.72</td>\n",
       "      <td>42831429</td>\n",
       "      <td>0.796</td>\n",
       "    </tr>\n",
       "    <tr>\n",
       "      <th>2</th>\n",
       "      <td>SP</td>\n",
       "      <td>2017</td>\n",
       "      <td>2367.02</td>\n",
       "      <td>42831429</td>\n",
       "      <td>0.796</td>\n",
       "    </tr>\n",
       "    <tr>\n",
       "      <th>3</th>\n",
       "      <td>SP</td>\n",
       "      <td>2018</td>\n",
       "      <td>2201.33</td>\n",
       "      <td>42831429</td>\n",
       "      <td>0.796</td>\n",
       "    </tr>\n",
       "    <tr>\n",
       "      <th>4</th>\n",
       "      <td>SP</td>\n",
       "      <td>2019</td>\n",
       "      <td>3397.79</td>\n",
       "      <td>42831429</td>\n",
       "      <td>0.796</td>\n",
       "    </tr>\n",
       "  </tbody>\n",
       "</table>\n",
       "</div>"
      ],
      "text/plain": [
       "  Estado   Ano  GastoEducacao  Populacao    IDH\n",
       "0     SP  2015        2498.16   42831429  0.796\n",
       "1     SP  2016        2431.72   42831429  0.796\n",
       "2     SP  2017        2367.02   42831429  0.796\n",
       "3     SP  2018        2201.33   42831429  0.796\n",
       "4     SP  2019        3397.79   42831429  0.796"
      ]
     },
     "execution_count": 3,
     "metadata": {},
     "output_type": "execute_result"
    }
   ],
   "source": [
    "df = pd.read_csv(\"dia_59_gastos_educacao.csv\")\n",
    "df.head()"
   ]
  },
  {
   "cell_type": "code",
   "execution_count": 14,
   "id": "eb2450fb-caf5-4284-8b59-160707df2e99",
   "metadata": {},
   "outputs": [
    {
     "name": "stdout",
     "output_type": "stream",
     "text": [
      "Estado           0\n",
      "Ano              0\n",
      "GastoEducacao    0\n",
      "Populacao        0\n",
      "IDH              0\n",
      "dtype: int64\n"
     ]
    }
   ],
   "source": [
    "#Existem valores ausentes nos dados? Como você trataria esses valores para manter a integridade da análise?\n",
    "print(df.isna().sum())\n",
    "df.fillna(df.groupby(\"Estado\").transform(\"mean\"), inplace=True)"
   ]
  },
  {
   "cell_type": "code",
   "execution_count": 28,
   "id": "751cc5f3-e7b1-4e45-b701-cc28708af286",
   "metadata": {},
   "outputs": [
    {
     "name": "stdout",
     "output_type": "stream",
     "text": [
      "BA 79.0\n"
     ]
    }
   ],
   "source": [
    "#Qual estado teve o maior crescimento percentual no gasto com educação entre 2015 e 2022?\n",
    "df_percentual = df.pivot(index=\"Estado\", columns=\"Ano\", values=\"GastoEducacao\")\n",
    "df_percentual[\"Crescimento\"] = ((df_percentual[2022] - df_percentual[2015]) / df_percentual[2015]).round(2) * 100\n",
    "\n",
    "print(df_percentual[\"Crescimento\"].idxmax(), df_percentual[\"Crescimento\"].max())"
   ]
  },
  {
   "cell_type": "code",
   "execution_count": 41,
   "id": "5947e105-4453-430d-a7c7-0d9f98f82a6f",
   "metadata": {},
   "outputs": [
    {
     "data": {
      "image/png": "[encoded data removed]",
      "text/plain": [
       "<Figure size 640x480 with 1 Axes>"
      ]
     },
     "metadata": {},
     "output_type": "display_data"
    }
   ],
   "source": [
    "#Crie um gráfico de linha com a evolução média dos gastos com educação ao longo dos anos para todos os estados.\n",
    "educacao_media_gastos_anos = df.groupby(\"Ano\")[\"GastoEducacao\"].mean()\n",
    "\n",
    "plt.plot(educacao_media_gastos_anos, marker=\"o\")\n",
    "plt.title(\"Evolução Média dos Gastos com Educação (2015–2022)\")\n",
    "plt.xlabel(\"Ano\")\n",
    "plt.ylabel(\"Gasto Médio em Educação\")\n",
    "plt.grid()\n",
    "plt.show()"
   ]
  },
  {
   "cell_type": "code",
   "execution_count": 46,
   "id": "28813b59-e14b-4cbf-bc28-4a5f11683cf0",
   "metadata": {},
   "outputs": [
    {
     "name": "stdout",
     "output_type": "stream",
     "text": [
      "-0.21474611208442584\n",
      "               Populacao       IDH  GastoEducacao\n",
      "Populacao       1.000000  0.234241       0.224384\n",
      "IDH             0.234241  1.000000       0.006921\n",
      "GastoEducacao   0.224384  0.006921       1.000000\n"
     ]
    }
   ],
   "source": [
    "#Treine um modelo de regressão (como LinearRegression) para prever o gasto com educação de um estado com base na população e IDH. Avalie o desempenho com r2_score.\n",
    "X = df[[\"Populacao\", \"IDH\"]]\n",
    "y = df[\"GastoEducacao\"]\n",
    "\n",
    "X_train, X_test, y_train, y_test = train_test_split(X, y, test_size=0.3, random_state=42)\n",
    "\n",
    "model = LinearRegression()\n",
    "model.fit(X_train, y_train)\n",
    "\n",
    "y_pred = model.predict(X_test)\n",
    "r2 = r2_score(y_test, y_pred)\n",
    "\n",
    "print(r2)\n",
    "print(df[[\"Populacao\", \"IDH\", \"GastoEducacao\"]].corr())"
   ]
  },
  {
   "cell_type": "code",
   "execution_count": null,
   "id": "b4c81582-494f-4055-8cdb-f9cd59ef654d",
   "metadata": {},
   "outputs": [],
   "source": []
  }
 ],
 "metadata": {
  "kernelspec": {
   "display_name": "Python 3 (ipykernel)",
   "language": "python",
   "name": "python3"
  },
  "language_info": {
   "codemirror_mode": {
    "name": "ipython",
    "version": 3
   },
   "file_extension": ".py",
   "mimetype": "text/x-python",
   "name": "python",
   "nbconvert_exporter": "python",
   "pygments_lexer": "ipython3",
   "version": "3.12.7"
  }
 },
 "nbformat": 4,
 "nbformat_minor": 5
}
