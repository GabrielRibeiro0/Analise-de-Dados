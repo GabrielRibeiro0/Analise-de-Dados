{
 "cells": [
  {
   "cell_type": "markdown",
   "id": "bbbda12e-4cc1-43eb-b720-b4cdaa511fd6",
   "metadata": {},
   "source": [
    "Desafio 19: Reclamações em Serviços Públicos\n",
    "\n",
    "📂 Dataset: Banco de dados com reclamações de moradores sobre serviços públicos em diferentes bairros.\n",
    "Colunas: ID, Serviço, Bairro, Prioridade, Status, Dias_Em_Andamento, Data_Abertura\n",
    "\n",
    "🎯 Atividades:\n",
    "\n",
    "Qual o serviço mais reclamado no total?\n",
    "\n",
    "Quantas reclamações estão com prioridade \"Alta\" e ainda abertas?\n",
    "\n",
    "Qual é o tempo médio (em dias) que as reclamações demoram para serem resolvidas?\n",
    "\n",
    "Qual bairro possui o maior número de reclamações em andamento?\n",
    "\n",
    "Crie um gráfico de barras horizontais com o número de reclamações por tipo de serviço, agrupado por status (Aberta, Em Andamento, etc)."
   ]
  },
  {
   "cell_type": "code",
   "execution_count": 38,
   "id": "02ed96c0-751b-434a-9c31-c8d0cfa19a59",
   "metadata": {},
   "outputs": [],
   "source": [
    "import pandas as pd\n",
    "import matplotlib.pyplot as plt\n",
    "import seaborn as sns"
   ]
  },
  {
   "cell_type": "code",
   "execution_count": 2,
   "id": "d976f683-a8b0-467f-bae0-d15d8dc52602",
   "metadata": {},
   "outputs": [
    {
     "data": {
      "text/html": [
       "<div>\n",
       "<style scoped>\n",
       "    .dataframe tbody tr th:only-of-type {\n",
       "        vertical-align: middle;\n",
       "    }\n",
       "\n",
       "    .dataframe tbody tr th {\n",
       "        vertical-align: top;\n",
       "    }\n",
       "\n",
       "    .dataframe thead th {\n",
       "        text-align: right;\n",
       "    }\n",
       "</style>\n",
       "<table border=\"1\" class=\"dataframe\">\n",
       "  <thead>\n",
       "    <tr style=\"text-align: right;\">\n",
       "      <th></th>\n",
       "      <th>ID</th>\n",
       "      <th>Serviço</th>\n",
       "      <th>Bairro</th>\n",
       "      <th>Prioridade</th>\n",
       "      <th>Status</th>\n",
       "      <th>Dias_Em_Andamento</th>\n",
       "      <th>Data_Abertura</th>\n",
       "    </tr>\n",
       "  </thead>\n",
       "  <tbody>\n",
       "    <tr>\n",
       "      <th>0</th>\n",
       "      <td>1</td>\n",
       "      <td>Energia Elétrica</td>\n",
       "      <td>Vila Nova</td>\n",
       "      <td>Alta</td>\n",
       "      <td>Aberta</td>\n",
       "      <td>34</td>\n",
       "      <td>2024-01-01</td>\n",
       "    </tr>\n",
       "    <tr>\n",
       "      <th>1</th>\n",
       "      <td>2</td>\n",
       "      <td>Coleta de Lixo</td>\n",
       "      <td>Jardim das Flores</td>\n",
       "      <td>Alta</td>\n",
       "      <td>Resolvida</td>\n",
       "      <td>0</td>\n",
       "      <td>2024-01-02</td>\n",
       "    </tr>\n",
       "    <tr>\n",
       "      <th>2</th>\n",
       "      <td>3</td>\n",
       "      <td>Energia Elétrica</td>\n",
       "      <td>Bairro Alto</td>\n",
       "      <td>Alta</td>\n",
       "      <td>Encerrada</td>\n",
       "      <td>41</td>\n",
       "      <td>2024-01-03</td>\n",
       "    </tr>\n",
       "    <tr>\n",
       "      <th>3</th>\n",
       "      <td>4</td>\n",
       "      <td>Coleta de Lixo</td>\n",
       "      <td>Jardim das Flores</td>\n",
       "      <td>Alta</td>\n",
       "      <td>Resolvida</td>\n",
       "      <td>57</td>\n",
       "      <td>2024-01-04</td>\n",
       "    </tr>\n",
       "    <tr>\n",
       "      <th>4</th>\n",
       "      <td>5</td>\n",
       "      <td>Transporte Público</td>\n",
       "      <td>Residencial Sul</td>\n",
       "      <td>Média</td>\n",
       "      <td>Encerrada</td>\n",
       "      <td>59</td>\n",
       "      <td>2024-01-05</td>\n",
       "    </tr>\n",
       "  </tbody>\n",
       "</table>\n",
       "</div>"
      ],
      "text/plain": [
       "   ID             Serviço             Bairro Prioridade     Status  \\\n",
       "0   1    Energia Elétrica          Vila Nova       Alta     Aberta   \n",
       "1   2      Coleta de Lixo  Jardim das Flores       Alta  Resolvida   \n",
       "2   3    Energia Elétrica        Bairro Alto       Alta  Encerrada   \n",
       "3   4      Coleta de Lixo  Jardim das Flores       Alta  Resolvida   \n",
       "4   5  Transporte Público    Residencial Sul      Média  Encerrada   \n",
       "\n",
       "   Dias_Em_Andamento Data_Abertura  \n",
       "0                 34    2024-01-01  \n",
       "1                  0    2024-01-02  \n",
       "2                 41    2024-01-03  \n",
       "3                 57    2024-01-04  \n",
       "4                 59    2024-01-05  "
      ]
     },
     "execution_count": 2,
     "metadata": {},
     "output_type": "execute_result"
    }
   ],
   "source": [
    "df = pd.read_csv(\"dia_19_reclamacoes_servicos_publicos.csv\")\n",
    "df.head()"
   ]
  },
  {
   "cell_type": "code",
   "execution_count": 4,
   "id": "655f9f42-a7fa-4e1b-ace5-0eef7c2ed6d2",
   "metadata": {},
   "outputs": [
    {
     "name": "stdout",
     "output_type": "stream",
     "text": [
      "Transporte Público foi o serviço com mais reclamado, com um total de 23 reclamações.\n"
     ]
    }
   ],
   "source": [
    "#Qual o serviço mais reclamado no total?\n",
    "servicoReclamado = df[\"Serviço\"].value_counts()\n",
    "print(f\"{servicoReclamado.idxmax()} foi o serviço mais reclamado, com um total de {servicoReclamado.max()} reclamações.\")"
   ]
  },
  {
   "cell_type": "code",
   "execution_count": 14,
   "id": "5966aa1a-e398-4351-b924-a2ded0f607e1",
   "metadata": {},
   "outputs": [
    {
     "name": "stdout",
     "output_type": "stream",
     "text": [
      "4 Reclamações com prioridade 'Alta' e ainda aberta\n"
     ]
    }
   ],
   "source": [
    "#Quantas reclamações estão com prioridade \"Alta\" e ainda abertas?\n",
    "prioridadeAltaAberta = df[(df[\"Prioridade\"] == \"Alta\") & (df[\"Status\"] == \"Aberta\")]\n",
    "print(f\"{prioridadeAltaAberta['Serviço'].value_counts().sum()} Reclamações com prioridade 'Alta' e ainda aberta\")"
   ]
  },
  {
   "cell_type": "code",
   "execution_count": 23,
   "id": "d1efed0c-4914-4037-bf52-c138f4623816",
   "metadata": {},
   "outputs": [
    {
     "name": "stdout",
     "output_type": "stream",
     "text": [
      "Tempo médio de resolução: 29.38 dias\n"
     ]
    }
   ],
   "source": [
    "#Qual é o tempo médio (em dias) que as reclamações demoram para serem resolvidas?\n",
    "reclamacoesResolvidas = df[df[\"Status\"] == \"Resolvida\"]\n",
    "diasReclamacoes = reclamacoesResolvidas[\"Dias_Em_Andamento\"].mean()\n",
    "print(f\"Tempo médio de resolução: {diasReclamacoes:.2f} dias\")"
   ]
  },
  {
   "cell_type": "code",
   "execution_count": 30,
   "id": "72010668-d9da-4a67-8ee4-d35f0063b54c",
   "metadata": {},
   "outputs": [
    {
     "name": "stdout",
     "output_type": "stream",
     "text": [
      "O bairro com mais reclamações em andamento é: Centro com 6 reclamações\n"
     ]
    }
   ],
   "source": [
    "#Qual bairro possui o maior número de reclamações em andamento?\n",
    "reclacaoAndamento = df[df[\"Status\"] == \"Em Andamento\"]\n",
    "bairroReclamacoes = reclacaoAndamento[\"Bairro\"].value_counts()\n",
    "print(f\"O bairro com mais reclamações em andamento é: {bairroReclamacoes.idxmax()} com {bairroReclamacoes.max()} reclamações\")"
   ]
  },
  {
   "cell_type": "code",
   "execution_count": 49,
   "id": "14c73542-6248-456d-8789-4321b5bdea49",
   "metadata": {},
   "outputs": [
    {
     "data": {
      "image/png": "[encoded data removed]",
      "text/plain": [
       "<Figure size 1000x600 with 1 Axes>"
      ]
     },
     "metadata": {},
     "output_type": "display_data"
    }
   ],
   "source": [
    "#Crie um gráfico de barras horizontais com o número de reclamações por tipo de serviço, agrupado por status (Aberta, Em Andamento, etc).\n",
    "reclamcoesServicosStatus = df.groupby(['Serviço', 'Status']).size().unstack(fill_value=0)\n",
    "reclamcoesServicosStatus.plot(kind='barh', stacked=True, figsize=(10, 6))\n",
    "plt.title('Número de Reclamações por Tipo de Serviço (Agrupado por Status)')\n",
    "plt.show()"
   ]
  }
 ],
 "metadata": {
  "kernelspec": {
   "display_name": "Python 3 (ipykernel)",
   "language": "python",
   "name": "python3"
  },
  "language_info": {
   "codemirror_mode": {
    "name": "ipython",
    "version": 3
   },
   "file_extension": ".py",
   "mimetype": "text/x-python",
   "name": "python",
   "nbconvert_exporter": "python",
   "pygments_lexer": "ipython3",
   "version": "3.12.7"
  }
 },
 "nbformat": 4,
 "nbformat_minor": 5
}
