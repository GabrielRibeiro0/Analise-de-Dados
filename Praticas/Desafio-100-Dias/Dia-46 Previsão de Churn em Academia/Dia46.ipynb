{
 "cells": [
  {
   "cell_type": "markdown",
   "id": "00988811-2ddc-47f3-b28f-e7f8039aec92",
   "metadata": {},
   "source": [
    "📊 Desafio 46 — Previsão de Churn em Academia\n",
    "\n",
    "📂 Dataset: dia_46_churn_academia.csv\n",
    "Este conjunto de dados contém informações de clientes de uma academia, incluindo frequência semanal, satisfação, plano contratado e se houve cancelamento (churn).\n",
    "\n",
    "🔍 Tarefas:\n",
    "\n",
    "Qual é a taxa geral de churn?\n",
    "\n",
    "Há diferença de churn entre os tipos de plano (Mensal, Trimestral, Anual)?\n",
    "\n",
    "Os clientes com menor tempo médio de treino têm maior churn?\n",
    "\n",
    "Qual a média de satisfação entre clientes que saíram e os que permaneceram?\n",
    "\n",
    "Treine um modelo de classificação para prever o Churn. Sugestões:\n",
    "\n",
    "Use LogisticRegression ou RandomForestClassifier.\n",
    "\n",
    "Aplique train_test_split, depois avalie com accuracy_score e classification_report.\n",
    "\n",
    "Quais variáveis mais influenciam o modelo?"
   ]
  },
  {
   "cell_type": "code",
   "execution_count": 4,
   "id": "596f2c90-c69a-499e-8d2c-0f6127703309",
   "metadata": {},
   "outputs": [],
   "source": [
    "import pandas as pd\n",
    "import seaborn as sns\n",
    "import matplotlib.pyplot as plt\n",
    "from sklearn.model_selection import train_test_split\n",
    "from sklearn.preprocessing import LabelEncoder\n",
    "from sklearn.ensemble import RandomForestClassifier\n",
    "from sklearn.metrics import accuracy_score, classification_report"
   ]
  },
  {
   "cell_type": "code",
   "execution_count": 31,
   "id": "4091ee72-fd8c-482c-a933-777cdde4988c",
   "metadata": {},
   "outputs": [
    {
     "data": {
      "text/html": [
       "<div>\n",
       "<style scoped>\n",
       "    .dataframe tbody tr th:only-of-type {\n",
       "        vertical-align: middle;\n",
       "    }\n",
       "\n",
       "    .dataframe tbody tr th {\n",
       "        vertical-align: top;\n",
       "    }\n",
       "\n",
       "    .dataframe thead th {\n",
       "        text-align: right;\n",
       "    }\n",
       "</style>\n",
       "<table border=\"1\" class=\"dataframe\">\n",
       "  <thead>\n",
       "    <tr style=\"text-align: right;\">\n",
       "      <th></th>\n",
       "      <th>Cliente</th>\n",
       "      <th>Sexo</th>\n",
       "      <th>Idade</th>\n",
       "      <th>Dias_Por_Semana</th>\n",
       "      <th>Tempo_Medio_Treino</th>\n",
       "      <th>Nota_Satisfacao</th>\n",
       "      <th>Plano</th>\n",
       "      <th>Churn</th>\n",
       "    </tr>\n",
       "  </thead>\n",
       "  <tbody>\n",
       "    <tr>\n",
       "      <th>0</th>\n",
       "      <td>Cliente_1</td>\n",
       "      <td>Masculino</td>\n",
       "      <td>31</td>\n",
       "      <td>1</td>\n",
       "      <td>69.1</td>\n",
       "      <td>3</td>\n",
       "      <td>Anual</td>\n",
       "      <td>1</td>\n",
       "    </tr>\n",
       "    <tr>\n",
       "      <th>1</th>\n",
       "      <td>Cliente_2</td>\n",
       "      <td>Feminino</td>\n",
       "      <td>35</td>\n",
       "      <td>6</td>\n",
       "      <td>53.3</td>\n",
       "      <td>1</td>\n",
       "      <td>Mensal</td>\n",
       "      <td>0</td>\n",
       "    </tr>\n",
       "    <tr>\n",
       "      <th>2</th>\n",
       "      <td>Cliente_3</td>\n",
       "      <td>Feminino</td>\n",
       "      <td>37</td>\n",
       "      <td>1</td>\n",
       "      <td>79.7</td>\n",
       "      <td>4</td>\n",
       "      <td>Trimestral</td>\n",
       "      <td>1</td>\n",
       "    </tr>\n",
       "    <tr>\n",
       "      <th>3</th>\n",
       "      <td>Cliente_4</td>\n",
       "      <td>Masculino</td>\n",
       "      <td>39</td>\n",
       "      <td>5</td>\n",
       "      <td>65.9</td>\n",
       "      <td>5</td>\n",
       "      <td>Trimestral</td>\n",
       "      <td>1</td>\n",
       "    </tr>\n",
       "    <tr>\n",
       "      <th>4</th>\n",
       "      <td>Cliente_5</td>\n",
       "      <td>Masculino</td>\n",
       "      <td>23</td>\n",
       "      <td>3</td>\n",
       "      <td>45.3</td>\n",
       "      <td>2</td>\n",
       "      <td>Anual</td>\n",
       "      <td>1</td>\n",
       "    </tr>\n",
       "  </tbody>\n",
       "</table>\n",
       "</div>"
      ],
      "text/plain": [
       "     Cliente       Sexo  Idade  Dias_Por_Semana  Tempo_Medio_Treino  \\\n",
       "0  Cliente_1  Masculino     31                1                69.1   \n",
       "1  Cliente_2   Feminino     35                6                53.3   \n",
       "2  Cliente_3   Feminino     37                1                79.7   \n",
       "3  Cliente_4  Masculino     39                5                65.9   \n",
       "4  Cliente_5  Masculino     23                3                45.3   \n",
       "\n",
       "   Nota_Satisfacao       Plano  Churn  \n",
       "0                3       Anual      1  \n",
       "1                1      Mensal      0  \n",
       "2                4  Trimestral      1  \n",
       "3                5  Trimestral      1  \n",
       "4                2       Anual      1  "
      ]
     },
     "execution_count": 31,
     "metadata": {},
     "output_type": "execute_result"
    }
   ],
   "source": [
    "df = pd.read_csv(\"dia_46_churn_academia.csv\")\n",
    "df.head()"
   ]
  },
  {
   "cell_type": "code",
   "execution_count": 32,
   "id": "e955927d-5e20-4f1e-b8e2-fcb339062f9c",
   "metadata": {},
   "outputs": [
    {
     "name": "stdout",
     "output_type": "stream",
     "text": [
      "Churn\n",
      "1    70.0\n",
      "0    30.0\n",
      "Name: proportion, dtype: float64\n"
     ]
    }
   ],
   "source": [
    "#Qual é a taxa geral de churn?\n",
    "taxaChurn = df[\"Churn\"].value_counts(normalize=True) * 100\n",
    "print(taxaChurn)"
   ]
  },
  {
   "cell_type": "code",
   "execution_count": 33,
   "id": "6b44928b-2971-4113-8a66-c33ce14597c6",
   "metadata": {},
   "outputs": [
    {
     "name": "stdout",
     "output_type": "stream",
     "text": [
      "Churn          0     1\n",
      "Plano                 \n",
      "Anual       36.0  64.0\n",
      "Mensal      22.0  78.0\n",
      "Trimestral  36.0  64.0\n"
     ]
    }
   ],
   "source": [
    "#Há diferença de churn entre os tipos de plano (Mensal, Trimestral, Anual)?\n",
    "churnPlano = df.groupby(\"Plano\")[\"Churn\"].value_counts(normalize=True).unstack().round(2) * 100\n",
    "print(churnPlano)"
   ]
  },
  {
   "cell_type": "code",
   "execution_count": 47,
   "id": "fec2b923-2e35-4a82-9229-1515371ac764",
   "metadata": {},
   "outputs": [
    {
     "name": "stdout",
     "output_type": "stream",
     "text": [
      "\n",
      "Churn por tempo médio de treino:\n",
      " Churn                    0         1\n",
      "GrupoTreino                         \n",
      "(19.999, 40.975]  0.230000  0.770000\n",
      "(40.975, 51.7]    0.326733  0.673267\n",
      "(51.7, 62.225]    0.323232  0.676768\n",
      "(62.225, 87.8]    0.320000  0.680000\n"
     ]
    }
   ],
   "source": [
    "#Os clientes com menor tempo médio de treino têm maior churn?\n",
    "df[\"GrupoTreino\"] = pd.qcut(df[\"Tempo_Medio_Treino\"], 4)\n",
    "churnTempo = df.groupby(\"GrupoTreino\", observed=True)[\"Churn\"].value_counts(normalize=True).unstack()\n",
    "print(\"\\nChurn por tempo médio de treino:\\n\", churnTempo)"
   ]
  },
  {
   "cell_type": "code",
   "execution_count": 56,
   "id": "0e13ea3e-cdbc-4be4-885c-76b46b31159b",
   "metadata": {},
   "outputs": [
    {
     "name": "stdout",
     "output_type": "stream",
     "text": [
      "Churn\n",
      "0    4.058333\n",
      "1    2.685714\n",
      "Name: Nota_Satisfacao, dtype: float64\n"
     ]
    }
   ],
   "source": [
    "#Qual a média de satisfação entre clientes que saíram e os que permaneceram?\n",
    "mediaSatisfacaoChurn = df.groupby(\"Churn\")[\"Nota_Satisfacao\"].mean()\n",
    "print(mediaSatisfacaoChurn)"
   ]
  },
  {
   "cell_type": "code",
   "execution_count": 60,
   "id": "bfce21c3-7d87-4f20-9e41-ad265af08f05",
   "metadata": {},
   "outputs": [
    {
     "name": "stdout",
     "output_type": "stream",
     "text": [
      "Acurácia: 0.7666666666666667\n"
     ]
    }
   ],
   "source": [
    "#Treine um modelo de classificação para prever o Churn.\n",
    "df_modelo = df.copy()\n",
    "le = LabelEncoder()\n",
    "df_modelo[\"Sexo\"] = le.fit_transform(df_modelo[\"Sexo\"])\n",
    "df_modelo[\"Plano\"] = le.fit_transform(df_modelo[\"Plano\"])\n",
    "\n",
    "\n",
    "X = df_modelo.drop([\"Cliente\", \"Churn\", \"GrupoTreino\"], axis=1)\n",
    "y = df_modelo[\"Churn\"]\n",
    "\n",
    "X_train, X_test, y_train, y_test = train_test_split(X, y, test_size=0.3, random_state=42)\n",
    "\n",
    "modelo = RandomForestClassifier(random_state=42)\n",
    "modelo.fit(X_train, y_train)\n",
    "y_pred = modelo.predict(X_test)\n",
    "\n",
    "print(f\"Acurácia: {accuracy_score(y_test, y_pred)}\")"
   ]
  },
  {
   "cell_type": "code",
   "execution_count": 62,
   "id": "8a0ac79d-f0b0-4365-ab0c-91941c11d276",
   "metadata": {},
   "outputs": [
    {
     "name": "stdout",
     "output_type": "stream",
     "text": [
      "             Variável  Importância\n",
      "4     Nota_Satisfacao     0.269146\n",
      "3  Tempo_Medio_Treino     0.237907\n",
      "1               Idade     0.202966\n",
      "2     Dias_Por_Semana     0.186224\n",
      "5               Plano     0.069220\n",
      "0                Sexo     0.034538\n"
     ]
    }
   ],
   "source": [
    "#Quais variáveis mais influenciam o modelo?\n",
    "importancias = pd.DataFrame({\"Variável\": X.columns, \"Importância\": modelo.feature_importances_}).sort_values(by=\"Importância\", ascending=False)\n",
    "print(importancias)"
   ]
  }
 ],
 "metadata": {
  "kernelspec": {
   "display_name": "Python 3 (ipykernel)",
   "language": "python",
   "name": "python3"
  },
  "language_info": {
   "codemirror_mode": {
    "name": "ipython",
    "version": 3
   },
   "file_extension": ".py",
   "mimetype": "text/x-python",
   "name": "python",
   "nbconvert_exporter": "python",
   "pygments_lexer": "ipython3",
   "version": "3.12.7"
  }
 },
 "nbformat": 4,
 "nbformat_minor": 5
}
