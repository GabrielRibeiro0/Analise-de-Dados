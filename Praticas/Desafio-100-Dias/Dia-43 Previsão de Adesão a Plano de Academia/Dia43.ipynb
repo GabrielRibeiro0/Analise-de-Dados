{
 "cells": [
  {
   "cell_type": "markdown",
   "id": "55e824d8-2afe-49b9-ae71-052d9231faa4",
   "metadata": {},
   "source": [
    "Desafio 43: Previsão de Adesão a Plano de Academia\n",
    "\n",
    "📂 Dataset: Informações de clientes e sua propensão à adesão de um plano de academia.\n",
    "Colunas: Idade, Sexo, Renda, Frequencia_Exercicio, Adesao_Plano\n",
    "\n",
    "🎯 Tarefas:\n",
    "\n",
    "Trate os valores ausentes adequadamente.\n",
    "\n",
    "Converta variáveis categóricas em numéricas se necessário.\n",
    "\n",
    "Qual grupo de frequência de exercício tem maior taxa de adesão?\n",
    "\n",
    "Existe diferença de adesão entre gêneros?\n",
    "\n",
    "Treine um modelo de regressão logística ou árvore de decisão para prever Adesao_Plano.\n",
    "\n",
    "Meça a acurácia e interprete os resultados."
   ]
  },
  {
   "cell_type": "code",
   "execution_count": 41,
   "id": "de1102ca-54dd-48dd-8aba-b38af42ac264",
   "metadata": {},
   "outputs": [],
   "source": [
    "import pandas as pd\n",
    "from sklearn.model_selection import train_test_split\n",
    "from sklearn.preprocessing import LabelEncoder\n",
    "from sklearn.tree import DecisionTreeClassifier\n",
    "from sklearn.metrics import accuracy_score, classification_report\n",
    "import seaborn as sns\n",
    "import matplotlib.pyplot as plt"
   ]
  },
  {
   "cell_type": "code",
   "execution_count": 42,
   "id": "9a52ff79-1437-4be2-963a-5ddc1adb4d9a",
   "metadata": {},
   "outputs": [
    {
     "data": {
      "text/html": [
       "<div>\n",
       "<style scoped>\n",
       "    .dataframe tbody tr th:only-of-type {\n",
       "        vertical-align: middle;\n",
       "    }\n",
       "\n",
       "    .dataframe tbody tr th {\n",
       "        vertical-align: top;\n",
       "    }\n",
       "\n",
       "    .dataframe thead th {\n",
       "        text-align: right;\n",
       "    }\n",
       "</style>\n",
       "<table border=\"1\" class=\"dataframe\">\n",
       "  <thead>\n",
       "    <tr style=\"text-align: right;\">\n",
       "      <th></th>\n",
       "      <th>Idade</th>\n",
       "      <th>Sexo</th>\n",
       "      <th>Renda</th>\n",
       "      <th>Frequencia_Exercicio</th>\n",
       "      <th>Adesao_Plano</th>\n",
       "    </tr>\n",
       "  </thead>\n",
       "  <tbody>\n",
       "    <tr>\n",
       "      <th>0</th>\n",
       "      <td>56</td>\n",
       "      <td>Masculino</td>\n",
       "      <td>3198.85</td>\n",
       "      <td>3-4x/sem</td>\n",
       "      <td>1</td>\n",
       "    </tr>\n",
       "    <tr>\n",
       "      <th>1</th>\n",
       "      <td>41</td>\n",
       "      <td>Feminino</td>\n",
       "      <td>2142.74</td>\n",
       "      <td>1-2x/sem</td>\n",
       "      <td>0</td>\n",
       "    </tr>\n",
       "    <tr>\n",
       "      <th>2</th>\n",
       "      <td>58</td>\n",
       "      <td>Masculino</td>\n",
       "      <td>1965.55</td>\n",
       "      <td>5x+/sem</td>\n",
       "      <td>0</td>\n",
       "    </tr>\n",
       "    <tr>\n",
       "      <th>3</th>\n",
       "      <td>37</td>\n",
       "      <td>Masculino</td>\n",
       "      <td>3417.89</td>\n",
       "      <td>3-4x/sem</td>\n",
       "      <td>1</td>\n",
       "    </tr>\n",
       "    <tr>\n",
       "      <th>4</th>\n",
       "      <td>40</td>\n",
       "      <td>Feminino</td>\n",
       "      <td>2078.03</td>\n",
       "      <td>1-2x/sem</td>\n",
       "      <td>0</td>\n",
       "    </tr>\n",
       "  </tbody>\n",
       "</table>\n",
       "</div>"
      ],
      "text/plain": [
       "   Idade       Sexo    Renda Frequencia_Exercicio  Adesao_Plano\n",
       "0     56  Masculino  3198.85             3-4x/sem             1\n",
       "1     41   Feminino  2142.74             1-2x/sem             0\n",
       "2     58  Masculino  1965.55              5x+/sem             0\n",
       "3     37  Masculino  3417.89             3-4x/sem             1\n",
       "4     40   Feminino  2078.03             1-2x/sem             0"
      ]
     },
     "execution_count": 42,
     "metadata": {},
     "output_type": "execute_result"
    }
   ],
   "source": [
    "df = pd.read_csv(\"dia_43_adesao_academia.csv\")\n",
    "df.head()"
   ]
  },
  {
   "cell_type": "code",
   "execution_count": 43,
   "id": "54a07c24-5f92-4a43-9fd2-ea3c532b7929",
   "metadata": {},
   "outputs": [
    {
     "data": {
      "text/plain": [
       "array([3.5, 1.5, 6. , 0. ])"
      ]
     },
     "execution_count": 43,
     "metadata": {},
     "output_type": "execute_result"
    }
   ],
   "source": [
    "#Trate os valores ausentes adequadamente.\n",
    "df[\"Renda\"] = pd.to_numeric(df[\"Renda\"], errors=\"coerce\")\n",
    "df[\"Renda\"] = df[\"Renda\"].fillna(\n",
    "    df.groupby(\"Sexo\")[\"Renda\"].transform(\"mean\")\n",
    ")\n",
    "\n",
    "df[\"Frequencia_Exercicio\"] = df[\"Frequencia_Exercicio\"].fillna(\"Nunca\")\n",
    "df[\"Frequencia_Exercicio\"] = df[\"Frequencia_Exercicio\"].replace({\"Não informado\": \"Nunca\"})\n",
    "frequencia = {\"Nunca\": 0, \"1-2x/sem\": 1.5, \"3-4x/sem\": 3.5, \"5x+/sem\": 6}\n",
    "df['Frequencia_Exercicio'] = df['Frequencia_Exercicio'].map(frequencia)\n",
    "\n",
    "df[\"Frequencia_Exercicio\"].unique()\n"
   ]
  },
  {
   "cell_type": "code",
   "execution_count": 44,
   "id": "3d631092-b690-426f-950a-61ac60187f79",
   "metadata": {},
   "outputs": [
    {
     "data": {
      "text/html": [
       "<div>\n",
       "<style scoped>\n",
       "    .dataframe tbody tr th:only-of-type {\n",
       "        vertical-align: middle;\n",
       "    }\n",
       "\n",
       "    .dataframe tbody tr th {\n",
       "        vertical-align: top;\n",
       "    }\n",
       "\n",
       "    .dataframe thead th {\n",
       "        text-align: right;\n",
       "    }\n",
       "</style>\n",
       "<table border=\"1\" class=\"dataframe\">\n",
       "  <thead>\n",
       "    <tr style=\"text-align: right;\">\n",
       "      <th></th>\n",
       "      <th>Idade</th>\n",
       "      <th>Sexo</th>\n",
       "      <th>Renda</th>\n",
       "      <th>Frequencia_Exercicio</th>\n",
       "      <th>Adesao_Plano</th>\n",
       "    </tr>\n",
       "  </thead>\n",
       "  <tbody>\n",
       "    <tr>\n",
       "      <th>0</th>\n",
       "      <td>56</td>\n",
       "      <td>1</td>\n",
       "      <td>3198.85</td>\n",
       "      <td>3.5</td>\n",
       "      <td>1</td>\n",
       "    </tr>\n",
       "    <tr>\n",
       "      <th>1</th>\n",
       "      <td>41</td>\n",
       "      <td>0</td>\n",
       "      <td>2142.74</td>\n",
       "      <td>1.5</td>\n",
       "      <td>0</td>\n",
       "    </tr>\n",
       "    <tr>\n",
       "      <th>2</th>\n",
       "      <td>58</td>\n",
       "      <td>1</td>\n",
       "      <td>1965.55</td>\n",
       "      <td>6.0</td>\n",
       "      <td>0</td>\n",
       "    </tr>\n",
       "    <tr>\n",
       "      <th>3</th>\n",
       "      <td>37</td>\n",
       "      <td>1</td>\n",
       "      <td>3417.89</td>\n",
       "      <td>3.5</td>\n",
       "      <td>1</td>\n",
       "    </tr>\n",
       "    <tr>\n",
       "      <th>4</th>\n",
       "      <td>40</td>\n",
       "      <td>0</td>\n",
       "      <td>2078.03</td>\n",
       "      <td>1.5</td>\n",
       "      <td>0</td>\n",
       "    </tr>\n",
       "  </tbody>\n",
       "</table>\n",
       "</div>"
      ],
      "text/plain": [
       "   Idade  Sexo    Renda  Frequencia_Exercicio  Adesao_Plano\n",
       "0     56     1  3198.85                   3.5             1\n",
       "1     41     0  2142.74                   1.5             0\n",
       "2     58     1  1965.55                   6.0             0\n",
       "3     37     1  3417.89                   3.5             1\n",
       "4     40     0  2078.03                   1.5             0"
      ]
     },
     "execution_count": 44,
     "metadata": {},
     "output_type": "execute_result"
    }
   ],
   "source": [
    "#Converta variáveis categóricas em numéricas se necessário.\n",
    "le = LabelEncoder()\n",
    "df[\"Sexo\"] = le.fit_transform(df[\"Sexo\"])\n",
    "df[\"Adesao_Plano\"] = le.fit_transform(df[\"Adesao_Plano\"])\n",
    "df.head()"
   ]
  },
  {
   "cell_type": "code",
   "execution_count": 45,
   "id": "12de8b6c-2edd-4f90-a07d-62f0db9eb16d",
   "metadata": {},
   "outputs": [
    {
     "name": "stdout",
     "output_type": "stream",
     "text": [
      "Frequencia_Exercicio\n",
      "3.5    0.846154\n",
      "6.0    0.750000\n",
      "1.5    0.725806\n",
      "0.0    0.017544\n",
      "Name: Adesao_Plano, dtype: float64\n"
     ]
    }
   ],
   "source": [
    "#Qual grupo de frequência de exercício tem maior taxa de adesão?\n",
    "taxaAdesap = df.groupby(\"Frequencia_Exercicio\")[\"Adesao_Plano\"].mean().sort_values(ascending=False)\n",
    "print(taxaAdesap)"
   ]
  },
  {
   "cell_type": "code",
   "execution_count": 46,
   "id": "bf9f0309-a6eb-4502-902e-f8e2580d28ef",
   "metadata": {},
   "outputs": [
    {
     "data": {
      "image/png": "[encoded data removed]",
      "text/plain": [
       "<Figure size 640x480 with 1 Axes>"
      ]
     },
     "metadata": {},
     "output_type": "display_data"
    }
   ],
   "source": [
    "#Existe diferença de adesão entre gêneros?\n",
    "sns.barplot(data=df, x=\"Sexo\", y=\"Adesao_Plano\")\n",
    "plt.title(\"Taxa de adesão por gênero\")\n",
    "plt.xlabel(\"Sexo(Masculino = 1 Feminino = 0)\")\n",
    "plt.show()"
   ]
  },
  {
   "cell_type": "code",
   "execution_count": 47,
   "id": "20960a82-4aac-48b9-9233-717a7af2e8c8",
   "metadata": {},
   "outputs": [],
   "source": [
    "#Treine um modelo de regressão logística ou árvore de decisão para prever Adesao_Plano.\n",
    "X = df.drop(\"Adesao_Plano\", axis=1)\n",
    "y = df[\"Adesao_Plano\"]\n",
    "\n",
    "X_train, X_test, y_train, y_test = train_test_split(X, y, test_size=0.3, random_state=42)\n",
    "\n",
    "modelo = DecisionTreeClassifier(max_depth=3, random_state=42)\n",
    "modelo.fit(X_train, y_train)\n",
    "\n",
    "y_pred = modelo.predict(X_test)"
   ]
  },
  {
   "cell_type": "code",
   "execution_count": 49,
   "id": "cb3ea3c4-d3a9-4fcf-991e-f426f6abc9bd",
   "metadata": {},
   "outputs": [
    {
     "name": "stdout",
     "output_type": "stream",
     "text": [
      "Acurácia: 0.9888888888888889\n",
      "              precision    recall  f1-score   support\n",
      "\n",
      "           0       0.97      1.00      0.98        32\n",
      "           1       1.00      0.98      0.99        58\n",
      "\n",
      "    accuracy                           0.99        90\n",
      "   macro avg       0.98      0.99      0.99        90\n",
      "weighted avg       0.99      0.99      0.99        90\n",
      "\n"
     ]
    }
   ],
   "source": [
    "#Meça a acurácia e interprete os resultados.\n",
    "print(\"Acurácia:\", accuracy_score(y_test, y_pred))\n",
    "print(classification_report(y_test, y_pred))"
   ]
  }
 ],
 "metadata": {
  "kernelspec": {
   "display_name": "Python 3 (ipykernel)",
   "language": "python",
   "name": "python3"
  },
  "language_info": {
   "codemirror_mode": {
    "name": "ipython",
    "version": 3
   },
   "file_extension": ".py",
   "mimetype": "text/x-python",
   "name": "python",
   "nbconvert_exporter": "python",
   "pygments_lexer": "ipython3",
   "version": "3.12.7"
  }
 },
 "nbformat": 4,
 "nbformat_minor": 5
}
