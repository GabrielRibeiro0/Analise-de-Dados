{
 "cells": [
  {
   "cell_type": "markdown",
   "id": "5b835209",
   "metadata": {},
   "source": [
    "Desafio 26: Análise de Vendas por Loja e Produto\n",
    "\n",
    "📂 Dataset: Informações de vendas por produto, loja e mês, com dados de valores inconsistentes.\n",
    "Colunas: Loja, Produto, Mês, Quantidade_Vendida, Valor_Total_Venda\n",
    "\n",
    "🎯 Tarefas:\n",
    "\n",
    "    Trate a coluna Valor_Total_Venda, convertendo-a para numérico e lidando com valores inválidos como \"erro\" ou \"\".\n",
    "\n",
    "    Calcule o total de vendas por loja.\n",
    "\n",
    "    Identifique o produto mais vendido (em quantidade) no mês de Março.\n",
    "\n",
    "    Mostre a média de valor de venda por tipo de produto.\n",
    "\n",
    "    Crie um gráfico de barras com o total de vendas por loja."
   ]
  },
  {
   "cell_type": "code",
   "execution_count": 51,
   "id": "5260b45b",
   "metadata": {},
   "outputs": [],
   "source": [
    "import pandas as pd\n",
    "import matplotlib.pyplot as plt"
   ]
  },
  {
   "cell_type": "code",
   "execution_count": 32,
   "id": "1a4a42fd",
   "metadata": {},
   "outputs": [
    {
     "data": {
      "text/html": [
       "<div>\n",
       "<style scoped>\n",
       "    .dataframe tbody tr th:only-of-type {\n",
       "        vertical-align: middle;\n",
       "    }\n",
       "\n",
       "    .dataframe tbody tr th {\n",
       "        vertical-align: top;\n",
       "    }\n",
       "\n",
       "    .dataframe thead th {\n",
       "        text-align: right;\n",
       "    }\n",
       "</style>\n",
       "<table border=\"1\" class=\"dataframe\">\n",
       "  <thead>\n",
       "    <tr style=\"text-align: right;\">\n",
       "      <th></th>\n",
       "      <th>Loja</th>\n",
       "      <th>Produto</th>\n",
       "      <th>Mês</th>\n",
       "      <th>Quantidade_Vendida</th>\n",
       "      <th>Valor_Total_Venda</th>\n",
       "    </tr>\n",
       "  </thead>\n",
       "  <tbody>\n",
       "    <tr>\n",
       "      <th>0</th>\n",
       "      <td>Loja D</td>\n",
       "      <td>Teclado</td>\n",
       "      <td>Abr</td>\n",
       "      <td>55</td>\n",
       "      <td>1400.0</td>\n",
       "    </tr>\n",
       "    <tr>\n",
       "      <th>1</th>\n",
       "      <td>Loja C</td>\n",
       "      <td>Notebook</td>\n",
       "      <td>Fev</td>\n",
       "      <td>93</td>\n",
       "      <td>5700.0</td>\n",
       "    </tr>\n",
       "    <tr>\n",
       "      <th>2</th>\n",
       "      <td>Loja D</td>\n",
       "      <td>Teclado</td>\n",
       "      <td>Jan</td>\n",
       "      <td>9</td>\n",
       "      <td>3400.0</td>\n",
       "    </tr>\n",
       "    <tr>\n",
       "      <th>3</th>\n",
       "      <td>Loja D</td>\n",
       "      <td>Teclado</td>\n",
       "      <td>Mar</td>\n",
       "      <td>56</td>\n",
       "      <td>3800.0</td>\n",
       "    </tr>\n",
       "    <tr>\n",
       "      <th>4</th>\n",
       "      <td>Loja B</td>\n",
       "      <td>Notebook</td>\n",
       "      <td>Jun</td>\n",
       "      <td>81</td>\n",
       "      <td>100.0</td>\n",
       "    </tr>\n",
       "  </tbody>\n",
       "</table>\n",
       "</div>"
      ],
      "text/plain": [
       "     Loja   Produto  Mês  Quantidade_Vendida Valor_Total_Venda\n",
       "0  Loja D   Teclado  Abr                  55            1400.0\n",
       "1  Loja C  Notebook  Fev                  93            5700.0\n",
       "2  Loja D   Teclado  Jan                   9            3400.0\n",
       "3  Loja D   Teclado  Mar                  56            3800.0\n",
       "4  Loja B  Notebook  Jun                  81             100.0"
      ]
     },
     "execution_count": 32,
     "metadata": {},
     "output_type": "execute_result"
    }
   ],
   "source": [
    "df = pd.read_csv(\"dia_26_vendas_lojas.csv\")\n",
    "df.head()"
   ]
  },
  {
   "cell_type": "code",
   "execution_count": 35,
   "id": "f8a89428",
   "metadata": {},
   "outputs": [
    {
     "data": {
      "text/plain": [
       "array([False,  True])"
      ]
     },
     "execution_count": 35,
     "metadata": {},
     "output_type": "execute_result"
    }
   ],
   "source": [
    "#Trate a coluna Valor_Total_Venda, convertendo-a para numérico e lidando com valores inválidos como \"erro\" ou \"\".\n",
    "df[\"Valor_Total_Venda\"] = pd.to_numeric(df[\"Valor_Total_Venda\"], errors=\"coerce\")\n"
   ]
  },
  {
   "cell_type": "code",
   "execution_count": 37,
   "id": "3294a335",
   "metadata": {},
   "outputs": [
    {
     "name": "stdout",
     "output_type": "stream",
     "text": [
      "Loja\n",
      "Loja A    180200.0\n",
      "Loja B    239600.0\n",
      "Loja C    234100.0\n",
      "Loja D    208100.0\n"
     ]
    }
   ],
   "source": [
    "#Calcule o total de vendas por loja.\n",
    "vendasLoja = df.groupby(\"Loja\")[\"Valor_Total_Venda\"].sum()\n",
    "print(vendasLoja.to_string())"
   ]
  },
  {
   "cell_type": "code",
   "execution_count": 46,
   "id": "d31583ff",
   "metadata": {},
   "outputs": [
    {
     "name": "stdout",
     "output_type": "stream",
     "text": [
      "O produto mais vendido em Março foi: Mouse com 425 unidades.\n"
     ]
    }
   ],
   "source": [
    "#Identifique o produto mais vendido (em quantidade) no mês de Março.\n",
    "marco = df[df[\"Mês\"] == \"Mar\"]\n",
    "produtoMarco = marco.groupby(\"Produto\")[\"Quantidade_Vendida\"].sum().sort_values(ascending=False)\n",
    "print(f\"O produto mais vendido em Março foi: {produtoMarco.idxmax()} com {produtoMarco.max()} unidades.\")"
   ]
  },
  {
   "cell_type": "code",
   "execution_count": 49,
   "id": "16c24b05",
   "metadata": {},
   "outputs": [
    {
     "name": "stdout",
     "output_type": "stream",
     "text": [
      "Produto\n",
      "Monitor       5426.92\n",
      "Notebook      5285.71\n",
      "Smartphone    5214.29\n",
      "Teclado       4888.46\n",
      "Tablet        4568.18\n",
      "Mouse         4386.49\n",
      "Name: Valor_Total_Venda, dtype: float64\n"
     ]
    }
   ],
   "source": [
    "#Mostre a média de valor de venda por tipo de produto.\n",
    "mediaVendaProduto = df.groupby(\"Produto\")[\"Valor_Total_Venda\"].mean().round(2)\n",
    "print(mediaVendaProduto.sort_values(ascending=False))"
   ]
  },
  {
   "cell_type": "code",
   "execution_count": 55,
   "id": "0ff6dabe",
   "metadata": {},
   "outputs": [
    {
     "data": {
      "image/png": "[encoded data removed]",
      "text/plain": [
       "<Figure size 1000x600 with 1 Axes>"
      ]
     },
     "metadata": {},
     "output_type": "display_data"
    }
   ],
   "source": [
    "#Crie um gráfico de barras com o total de vendas por loja.\n",
    "plt.figure(figsize=(10, 6))\n",
    "vendasLoja.plot(kind='bar')\n",
    "plt.title(\"Total de Vendas por Loja\")\n",
    "plt.xlabel(\"Loja\")\n",
    "plt.ylabel(\"Valor Total de Venda\")\n",
    "plt.show()"
   ]
  },
  {
   "cell_type": "code",
   "execution_count": null,
   "id": "791909f4",
   "metadata": {},
   "outputs": [],
   "source": []
  }
 ],
 "metadata": {
  "kernelspec": {
   "display_name": "Python 3 (ipykernel)",
   "language": "python",
   "name": "python3"
  },
  "language_info": {
   "codemirror_mode": {
    "name": "ipython",
    "version": 3
   },
   "file_extension": ".py",
   "mimetype": "text/x-python",
   "name": "python",
   "nbconvert_exporter": "python",
   "pygments_lexer": "ipython3",
   "version": "3.13.2"
  }
 },
 "nbformat": 4,
 "nbformat_minor": 5
}
