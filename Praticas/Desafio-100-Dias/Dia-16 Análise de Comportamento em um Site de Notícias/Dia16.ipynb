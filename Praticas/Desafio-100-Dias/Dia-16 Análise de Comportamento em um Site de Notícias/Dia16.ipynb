{
 "cells": [
  {
   "cell_type": "markdown",
   "id": "57db40ab-8437-44fa-85dc-84c68194faf6",
   "metadata": {},
   "source": [
    "Desafio 16: Análise de Comportamento em um Site de Notícias\n",
    "\n",
    "📂 Dataset: Log de acesso dos usuários do site, com as colunas:\n",
    "ID_Usuario, Data_Acesso, Hora_Acesso, Sessao_ID, Secao_Visitada, Dispositivo, Tempo_Sessao_segundos\n",
    "\n",
    "🎯 Atividades:\n",
    "\n",
    "Qual é a média de tempo de sessão por tipo de dispositivo?\n",
    "\n",
    "Qual seção do site teve maior tempo total de visualização?\n",
    "\n",
    "Em qual período do dia (manhã, tarde, noite) há maior volume de acessos?\n",
    "\n",
    "Quais são os 5 usuários com maior tempo total de sessão acumulado?\n",
    "\n",
    "Crie um gráfico de barras mostrando a distribuição do número de acessos por seção visitada."
   ]
  },
  {
   "cell_type": "code",
   "execution_count": 1,
   "id": "deaeffe6-4d19-4abf-8290-5988087b32f4",
   "metadata": {},
   "outputs": [],
   "source": [
    "import pandas as pd\n",
    "import seaborn as sns\n",
    "import matplotlib.pyplot as plt"
   ]
  },
  {
   "cell_type": "code",
   "execution_count": 39,
   "id": "2e69bac5-d9d4-4f1a-a2aa-17226ab67f51",
   "metadata": {},
   "outputs": [
    {
     "data": {
      "text/html": [
       "<div>\n",
       "<style scoped>\n",
       "    .dataframe tbody tr th:only-of-type {\n",
       "        vertical-align: middle;\n",
       "    }\n",
       "\n",
       "    .dataframe tbody tr th {\n",
       "        vertical-align: top;\n",
       "    }\n",
       "\n",
       "    .dataframe thead th {\n",
       "        text-align: right;\n",
       "    }\n",
       "</style>\n",
       "<table border=\"1\" class=\"dataframe\">\n",
       "  <thead>\n",
       "    <tr style=\"text-align: right;\">\n",
       "      <th></th>\n",
       "      <th>ID_Usuario</th>\n",
       "      <th>Data_Acesso</th>\n",
       "      <th>Hora_Acesso</th>\n",
       "      <th>Sessao_ID</th>\n",
       "      <th>Secao_Visitada</th>\n",
       "      <th>Dispositivo</th>\n",
       "      <th>Tempo_Sessao_segundos</th>\n",
       "    </tr>\n",
       "  </thead>\n",
       "  <tbody>\n",
       "    <tr>\n",
       "      <th>0</th>\n",
       "      <td>U033</td>\n",
       "      <td>2024-01-18</td>\n",
       "      <td>09:30</td>\n",
       "      <td>S0001</td>\n",
       "      <td>Política</td>\n",
       "      <td>Desktop</td>\n",
       "      <td>84</td>\n",
       "    </tr>\n",
       "    <tr>\n",
       "      <th>1</th>\n",
       "      <td>U020</td>\n",
       "      <td>2024-01-03</td>\n",
       "      <td>02:45</td>\n",
       "      <td>S0002</td>\n",
       "      <td>Tecnologia</td>\n",
       "      <td>Mobile</td>\n",
       "      <td>185</td>\n",
       "    </tr>\n",
       "    <tr>\n",
       "      <th>2</th>\n",
       "      <td>U008</td>\n",
       "      <td>2024-01-04</td>\n",
       "      <td>20:30</td>\n",
       "      <td>S0003</td>\n",
       "      <td>Economia</td>\n",
       "      <td>Tablet</td>\n",
       "      <td>423</td>\n",
       "    </tr>\n",
       "    <tr>\n",
       "      <th>3</th>\n",
       "      <td>U012</td>\n",
       "      <td>2024-01-15</td>\n",
       "      <td>09:30</td>\n",
       "      <td>S0004</td>\n",
       "      <td>Política</td>\n",
       "      <td>Mobile</td>\n",
       "      <td>57</td>\n",
       "    </tr>\n",
       "    <tr>\n",
       "      <th>4</th>\n",
       "      <td>U042</td>\n",
       "      <td>2024-01-29</td>\n",
       "      <td>00:15</td>\n",
       "      <td>S0005</td>\n",
       "      <td>Tecnologia</td>\n",
       "      <td>Mobile</td>\n",
       "      <td>15</td>\n",
       "    </tr>\n",
       "  </tbody>\n",
       "</table>\n",
       "</div>"
      ],
      "text/plain": [
       "  ID_Usuario Data_Acesso Hora_Acesso Sessao_ID Secao_Visitada Dispositivo  \\\n",
       "0       U033  2024-01-18       09:30     S0001       Política     Desktop   \n",
       "1       U020  2024-01-03       02:45     S0002     Tecnologia      Mobile   \n",
       "2       U008  2024-01-04       20:30     S0003       Economia      Tablet   \n",
       "3       U012  2024-01-15       09:30     S0004       Política      Mobile   \n",
       "4       U042  2024-01-29       00:15     S0005     Tecnologia      Mobile   \n",
       "\n",
       "   Tempo_Sessao_segundos  \n",
       "0                     84  \n",
       "1                    185  \n",
       "2                    423  \n",
       "3                     57  \n",
       "4                     15  "
      ]
     },
     "execution_count": 39,
     "metadata": {},
     "output_type": "execute_result"
    }
   ],
   "source": [
    "df = pd.read_csv(\"dia_16_log_acesso_site.csv\")\n",
    "df.head()"
   ]
  },
  {
   "cell_type": "code",
   "execution_count": 65,
   "id": "bd8f67a8-8229-4f95-b0ab-615ff657447c",
   "metadata": {},
   "outputs": [
    {
     "name": "stdout",
     "output_type": "stream",
     "text": [
      "Dispositivo\n",
      "Desktop    221 Minutos\n",
      "Mobile     236 Minutos\n",
      "Tablet     356 Minutos\n"
     ]
    }
   ],
   "source": [
    "#Qual é a média de tempo de sessão por tipo de dispositivo?\n",
    "tempoDispositivo = df.groupby(\"Dispositivo\")[\"Tempo_Sessao_segundos\"].mean()\n",
    "print(f\"{tempoDispositivo.apply(lambda x: f\"{x:.0f} Minutos\").to_string()}\")"
   ]
  },
  {
   "cell_type": "code",
   "execution_count": 24,
   "id": "e18a18aa-21b3-4896-b605-380e0c279ea5",
   "metadata": {},
   "outputs": [
    {
     "name": "stdout",
     "output_type": "stream",
     "text": [
      "A sessão do site que teve maior tempo de visualização foi: \n",
      "\n",
      "Sessao_ID\n",
      "S0050    1582\n"
     ]
    }
   ],
   "source": [
    "#Qual seção do site teve maior tempo total de visualização?\n",
    "secaoTempo = df.groupby(\"Sessao_ID\")[\"Tempo_Sessao_segundos\"].sum().sort_values(ascending=False)\n",
    "print(f\"A sessão do site que teve maior tempo de visualização foi: \\n\\n{secaoTempo.head(1).to_string()}\")"
   ]
  },
  {
   "cell_type": "code",
   "execution_count": 53,
   "id": "a8d9e4c3-8a6f-4cfe-9aa6-807900a43b15",
   "metadata": {},
   "outputs": [
    {
     "name": "stdout",
     "output_type": "stream",
     "text": [
      "O período com maior volume de acessos foi a 'Noite', com 61 acessos\n"
     ]
    }
   ],
   "source": [
    "#Em qual período do dia (manhã, tarde, noite) há maior volume de acessos?\n",
    "df[\"Hora_Acesso\"] = pd.to_datetime(df[\"Hora_Acesso\"], format=\"%H:%M\")\n",
    "df[\"Hora\"] = df[\"Hora_Acesso\"].dt.hour\n",
    "\n",
    "def tempoEmPeriodo(hora):\n",
    "    if 6 <= hora < 12:\n",
    "        return \"Manhã\"\n",
    "    elif 12 <= hora < 18:\n",
    "        return \"Tarde\"\n",
    "    else:\n",
    "        return \"Noite\"\n",
    "\n",
    "df[\"Periodo_Dia\"] = df[\"Hora\"].apply(tempoEmPeriodo)\n",
    "\n",
    "# Contar acessos por período\n",
    "acessos = df[\"Periodo_Dia\"].value_counts()\n",
    "print(f\"O período com maior volume de acessos foi a '{acessos.idxmax()}', com {acessos.max()} acessos\")"
   ]
  },
  {
   "cell_type": "code",
   "execution_count": 56,
   "id": "c8c38b6a-7f5c-433b-ab17-4a53917a6f46",
   "metadata": {},
   "outputs": [
    {
     "name": "stdout",
     "output_type": "stream",
     "text": [
      "Os 5 usuários com maior tempo de sessão acumulado são: \n",
      "\n",
      "ID_Usuario\n",
      "U033    2143\n",
      "U002    2121\n",
      "U035    1950\n",
      "U007    1483\n",
      "U047    1332\n",
      "Name: Tempo_Sessao_segundos, dtype: int64\n"
     ]
    }
   ],
   "source": [
    "#Quais são os 5 usuários com maior tempo total de sessão acumulado?\n",
    "usuarioTempo = df.groupby(\"ID_Usuario\")[\"Tempo_Sessao_segundos\"].sum().sort_values(ascending=False)\n",
    "print(f\"Os 5 usuários com maior tempo de sessão acumulado são: \\n\\n{usuarioTempo.head(5)}\")"
   ]
  },
  {
   "cell_type": "code",
   "execution_count": 63,
   "id": "227337f7-a14a-4d9b-8878-b58d14f9796e",
   "metadata": {},
   "outputs": [
    {
     "data": {
      "image/png": "[encoded data removed]",
      "text/plain": [
       "<Figure size 800x600 with 1 Axes>"
      ]
     },
     "metadata": {},
     "output_type": "display_data"
    }
   ],
   "source": [
    "#Crie um gráfico de barras mostrando a distribuição do número de acessos por seção visitada.\n",
    "plt.figure(figsize=(8, 6))\n",
    "sns.countplot(data=df, x='Secao_Visitada')\n",
    "plt.title('Distribuição de Acessos por Seção Visitada')\n",
    "plt.show()"
   ]
  }
 ],
 "metadata": {
  "kernelspec": {
   "display_name": "Python 3 (ipykernel)",
   "language": "python",
   "name": "python3"
  },
  "language_info": {
   "codemirror_mode": {
    "name": "ipython",
    "version": 3
   },
   "file_extension": ".py",
   "mimetype": "text/x-python",
   "name": "python",
   "nbconvert_exporter": "python",
   "pygments_lexer": "ipython3",
   "version": "3.12.7"
  }
 },
 "nbformat": 4,
 "nbformat_minor": 5
}
