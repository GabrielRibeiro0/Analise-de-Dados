{
 "cells": [
  {
   "cell_type": "raw",
   "id": "c2dc39b4-ad0b-43ab-890f-33adfaee21be",
   "metadata": {},
   "source": [
    "Desafio 5: Analisando Dados de Aluguéis de Imóveis\n",
    "\n",
    "📂 Dataset: Informações sobre imóveis disponíveis para aluguel, incluindo localização, número de quartos, valor do aluguel e área em m².\n",
    "\n",
    "🎯 Atividades:\n",
    "\n",
    "    Qual é o valor médio do aluguel por número de quartos?\n",
    "\n",
    "    Existe correlação entre a área do imóvel e o valor do aluguel?\n",
    "\n",
    "    Qual cidade tem o maior valor médio de aluguel?\n",
    "\n",
    "    Crie um gráfico de dispersão mostrando a relação entre Área (m²) e Valor do Aluguel."
   ]
  },
  {
   "cell_type": "code",
   "execution_count": 27,
   "id": "a235ab56-20d0-4478-aaea-d6661c6735b6",
   "metadata": {},
   "outputs": [],
   "source": [
    "import pandas as pd\n",
    "#Criação dos gráficos\n",
    "import seaborn as sns"
   ]
  },
  {
   "cell_type": "code",
   "execution_count": 16,
   "id": "91cb27e7-003d-4822-9ba5-c64ee8acfe18",
   "metadata": {},
   "outputs": [
    {
     "data": {
      "text/html": [
       "<div>\n",
       "<style scoped>\n",
       "    .dataframe tbody tr th:only-of-type {\n",
       "        vertical-align: middle;\n",
       "    }\n",
       "\n",
       "    .dataframe tbody tr th {\n",
       "        vertical-align: top;\n",
       "    }\n",
       "\n",
       "    .dataframe thead th {\n",
       "        text-align: right;\n",
       "    }\n",
       "</style>\n",
       "<table border=\"1\" class=\"dataframe\">\n",
       "  <thead>\n",
       "    <tr style=\"text-align: right;\">\n",
       "      <th></th>\n",
       "      <th>ID_Imovel</th>\n",
       "      <th>Cidade</th>\n",
       "      <th>Quartos</th>\n",
       "      <th>Area_m2</th>\n",
       "      <th>Valor_Aluguel</th>\n",
       "    </tr>\n",
       "  </thead>\n",
       "  <tbody>\n",
       "    <tr>\n",
       "      <th>0</th>\n",
       "      <td>1</td>\n",
       "      <td>Belo Horizonte</td>\n",
       "      <td>1</td>\n",
       "      <td>92</td>\n",
       "      <td>1074</td>\n",
       "    </tr>\n",
       "    <tr>\n",
       "      <th>1</th>\n",
       "      <td>2</td>\n",
       "      <td>Belo Horizonte</td>\n",
       "      <td>4</td>\n",
       "      <td>170</td>\n",
       "      <td>4909</td>\n",
       "    </tr>\n",
       "    <tr>\n",
       "      <th>2</th>\n",
       "      <td>3</td>\n",
       "      <td>Porto Alegre</td>\n",
       "      <td>3</td>\n",
       "      <td>183</td>\n",
       "      <td>4081</td>\n",
       "    </tr>\n",
       "    <tr>\n",
       "      <th>3</th>\n",
       "      <td>4</td>\n",
       "      <td>Curitiba</td>\n",
       "      <td>2</td>\n",
       "      <td>193</td>\n",
       "      <td>6631</td>\n",
       "    </tr>\n",
       "    <tr>\n",
       "      <th>4</th>\n",
       "      <td>5</td>\n",
       "      <td>São Paulo</td>\n",
       "      <td>3</td>\n",
       "      <td>196</td>\n",
       "      <td>6271</td>\n",
       "    </tr>\n",
       "  </tbody>\n",
       "</table>\n",
       "</div>"
      ],
      "text/plain": [
       "   ID_Imovel          Cidade  Quartos  Area_m2  Valor_Aluguel\n",
       "0          1  Belo Horizonte        1       92           1074\n",
       "1          2  Belo Horizonte        4      170           4909\n",
       "2          3    Porto Alegre        3      183           4081\n",
       "3          4        Curitiba        2      193           6631\n",
       "4          5       São Paulo        3      196           6271"
      ]
     },
     "execution_count": 16,
     "metadata": {},
     "output_type": "execute_result"
    }
   ],
   "source": [
    "#testando dataset\n",
    "df = pd.read_csv(\"dia_5_alugueis_imoveis.csv\")\n",
    "df.head()"
   ]
  },
  {
   "cell_type": "code",
   "execution_count": 45,
   "id": "6f7ebc5b-5bdc-496f-82f2-0dd8f884a255",
   "metadata": {},
   "outputs": [
    {
     "name": "stdout",
     "output_type": "stream",
     "text": [
      "Valor médio do aluguel por número de quarto: \n",
      "\n",
      "Quartos\n",
      "1    R$ 3,735.25\n",
      "2    R$ 5,027.75\n",
      "3    R$ 4,580.00\n",
      "4    R$ 3,749.00\n"
     ]
    }
   ],
   "source": [
    "#Qual é o valor médio do aluguel por número de quartos?\n",
    "valorMedioPorQuarto = df.groupby(\"Quartos\")[\"Valor_Aluguel\"].mean()\n",
    "print(f\"Valor médio do aluguel por número de quarto: \\n\\n{valorMedioPorQuarto.apply(lambda x: f\"R$ {x:,.2f}\").to_string()}\")"
   ]
  },
  {
   "cell_type": "code",
   "execution_count": 50,
   "id": "ee270c2e-0b58-439e-a837-e05926880953",
   "metadata": {},
   "outputs": [
    {
     "name": "stdout",
     "output_type": "stream",
     "text": [
      "A Correlação da área do imóvel com o valor do alguel é de 0.09. Isso significa que, embora exista uma tendência de que as variáveis se movam na mesma direção (quando uma aumenta, a outra tende a aumentar), essa relação é muito fraca.\n"
     ]
    }
   ],
   "source": [
    "#Existe correlação entre a área do imóvel e o valor do aluguel?\n",
    "corrAreaAluguel = df[\"Area_m2\"].corr(df[\"Valor_Aluguel\"])\n",
    "print(f\"A Correlação da área do imóvel com o valor do alguel é de {corrAreaAluguel:.2f}. Isso significa que, embora exista uma tendência de que as variáveis se movam na mesma direção (quando uma aumenta, a outra tende a aumentar), essa relação é muito fraca.\")"
   ]
  },
  {
   "cell_type": "code",
   "execution_count": 38,
   "id": "7809c413-4b0f-41fc-a411-318bcb11b6b1",
   "metadata": {},
   "outputs": [
    {
     "name": "stdout",
     "output_type": "stream",
     "text": [
      "Essa é a media de valor de aluguel para cada cidade: \n",
      "\n",
      "Cidade\n",
      "São Paulo         R$ 5,403.67\n",
      "Porto Alegre      R$ 5,040.00\n",
      "Curitiba          R$ 3,985.56\n",
      "Belo Horizonte    R$ 3,859.67\n",
      "Rio de Janeiro    R$ 3,828.00\n"
     ]
    }
   ],
   "source": [
    "#Qual cidade tem o maior valor médio de aluguel?\n",
    "valorMedioPorCidade = df.groupby(\"Cidade\")[\"Valor_Aluguel\"].mean().sort_values(ascending=False)\n",
    "print(f\"Essa é a media de valor de aluguel para cada cidade: \\n\\n{valorMedioPorCidade.apply(lambda x: f\"R$ {x:,.2f}\").to_string()}\")"
   ]
  },
  {
   "cell_type": "code",
   "execution_count": 32,
   "id": "76e1ebc5-29d2-4ace-a391-fba0ed4dd1d7",
   "metadata": {},
   "outputs": [
    {
     "data": {
      "text/plain": [
       "<Axes: xlabel='Valor_Aluguel', ylabel='Area_m2'>"
      ]
     },
     "execution_count": 32,
     "metadata": {},
     "output_type": "execute_result"
    },
    {
     "data": {
      "image/png": "[encoded data removed]",
      "text/plain": [
       "<Figure size 640x480 with 1 Axes>"
      ]
     },
     "metadata": {},
     "output_type": "display_data"
    }
   ],
   "source": [
    "#Crie um gráfico de dispersão mostrando a relação entre Área (m²) e Valor do Aluguel\n",
    "sns.set_style(\"whitegrid\", {\"grid.color\": \"gray\"})\n",
    "sns.scatterplot(data=df, x=\"Valor_Aluguel\", y=\"Area_m2\")"
   ]
  },
  {
   "cell_type": "raw",
   "id": "584a6191-84e1-4b8d-bc15-e752b930eeaa",
   "metadata": {},
   "source": [
    "Para esse gráfico, utilizei apenas o Seaborn para manter a simplicidade e focar no essencial. Nos próximos desafios, pretendo explorar mais ferramentas, como Matplotlib, para uma personalização mais avançada. Dessa forma, sigo uma linha de aprendizado progressiva, sem pular etapas.\n",
    "\n",
    "O que foi feito de novo nesse desafio:\n",
    "\n",
    "    • Utilização do lambda e do to_string() para uma melhor formatação do resultado.\n",
    "\n",
    "    • Primeira construção de um gráfico utilizando a biblioteca Seaborn."
   ]
  }
 ],
 "metadata": {
  "kernelspec": {
   "display_name": "Python 3 (ipykernel)",
   "language": "python",
   "name": "python3"
  },
  "language_info": {
   "codemirror_mode": {
    "name": "ipython",
    "version": 3
   },
   "file_extension": ".py",
   "mimetype": "text/x-python",
   "name": "python",
   "nbconvert_exporter": "python",
   "pygments_lexer": "ipython3",
   "version": "3.12.6"
  }
 },
 "nbformat": 4,
 "nbformat_minor": 5
}
