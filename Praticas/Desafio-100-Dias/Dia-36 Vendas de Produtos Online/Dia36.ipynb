{
 "cells": [
  {
   "cell_type": "markdown",
   "id": "d86da762-a273-4c83-847c-407a0976a140",
   "metadata": {},
   "source": [
    "Desafio 36: Vendas de Produtos Online\n",
    "\n",
    "📂 Dataset: Registros de vendas de uma loja online com informações de produto, valor, canal e data.\n",
    "Colunas: ID_Venda, Data, Produto, Valor_Venda, Canal_Venda, Quantidade\n",
    "\n",
    "🎯 Tarefas:\n",
    "\n",
    "Identifique e corrija valores ausentes e categorias inconsistentes (ex: Instagram).\n",
    "\n",
    "Qual foi o total de vendas (R$) por canal de venda?\n",
    "\n",
    "Qual produto gerou a maior receita total no período?\n",
    "\n",
    "Calcule o ticket médio de vendas (Valor total / número de vendas).\n",
    "\n",
    "Crie um gráfico de barras mostrando a receita total por produto."
   ]
  },
  {
   "cell_type": "code",
   "execution_count": 47,
   "id": "0c72f736-de00-47e1-ad3e-d4875b0a954a",
   "metadata": {},
   "outputs": [],
   "source": [
    "import pandas as pd\n",
    "import matplotlib.pyplot as plt"
   ]
  },
  {
   "cell_type": "code",
   "execution_count": 24,
   "id": "10abc6ce-47cc-449a-aada-55abcc18a20b",
   "metadata": {},
   "outputs": [
    {
     "data": {
      "text/html": [
       "<div>\n",
       "<style scoped>\n",
       "    .dataframe tbody tr th:only-of-type {\n",
       "        vertical-align: middle;\n",
       "    }\n",
       "\n",
       "    .dataframe tbody tr th {\n",
       "        vertical-align: top;\n",
       "    }\n",
       "\n",
       "    .dataframe thead th {\n",
       "        text-align: right;\n",
       "    }\n",
       "</style>\n",
       "<table border=\"1\" class=\"dataframe\">\n",
       "  <thead>\n",
       "    <tr style=\"text-align: right;\">\n",
       "      <th></th>\n",
       "      <th>ID_Venda</th>\n",
       "      <th>Data</th>\n",
       "      <th>Produto</th>\n",
       "      <th>Valor_Venda</th>\n",
       "      <th>Canal_Venda</th>\n",
       "      <th>Quantidade</th>\n",
       "    </tr>\n",
       "  </thead>\n",
       "  <tbody>\n",
       "    <tr>\n",
       "      <th>0</th>\n",
       "      <td>VND0001</td>\n",
       "      <td>2024-02-25</td>\n",
       "      <td>Notebook</td>\n",
       "      <td>1701.66</td>\n",
       "      <td>Site</td>\n",
       "      <td>1</td>\n",
       "    </tr>\n",
       "    <tr>\n",
       "      <th>1</th>\n",
       "      <td>VND0002</td>\n",
       "      <td>2024-03-06</td>\n",
       "      <td>Mouse</td>\n",
       "      <td>5537.92</td>\n",
       "      <td>Site</td>\n",
       "      <td>2</td>\n",
       "    </tr>\n",
       "    <tr>\n",
       "      <th>2</th>\n",
       "      <td>VND0003</td>\n",
       "      <td>2024-03-10</td>\n",
       "      <td>Webcam</td>\n",
       "      <td>3881.36</td>\n",
       "      <td>Redes Sociais</td>\n",
       "      <td>2</td>\n",
       "    </tr>\n",
       "    <tr>\n",
       "      <th>3</th>\n",
       "      <td>VND0004</td>\n",
       "      <td>2024-01-04</td>\n",
       "      <td>Smartphone</td>\n",
       "      <td>4937.95</td>\n",
       "      <td>Site</td>\n",
       "      <td>2</td>\n",
       "    </tr>\n",
       "    <tr>\n",
       "      <th>4</th>\n",
       "      <td>VND0005</td>\n",
       "      <td>2024-03-10</td>\n",
       "      <td>Fone de Ouvido</td>\n",
       "      <td>3674.54</td>\n",
       "      <td>App</td>\n",
       "      <td>2</td>\n",
       "    </tr>\n",
       "  </tbody>\n",
       "</table>\n",
       "</div>"
      ],
      "text/plain": [
       "  ID_Venda        Data         Produto  Valor_Venda    Canal_Venda  Quantidade\n",
       "0  VND0001  2024-02-25        Notebook      1701.66           Site           1\n",
       "1  VND0002  2024-03-06           Mouse      5537.92           Site           2\n",
       "2  VND0003  2024-03-10          Webcam      3881.36  Redes Sociais           2\n",
       "3  VND0004  2024-01-04      Smartphone      4937.95           Site           2\n",
       "4  VND0005  2024-03-10  Fone de Ouvido      3674.54            App           2"
      ]
     },
     "execution_count": 24,
     "metadata": {},
     "output_type": "execute_result"
    }
   ],
   "source": [
    "df = pd.read_csv(\"dia_36_vendas_online.csv\")\n",
    "df.head()"
   ]
  },
  {
   "cell_type": "code",
   "execution_count": 39,
   "id": "8c7e6ae0-3bdc-4926-bb98-c916efc79b7e",
   "metadata": {},
   "outputs": [],
   "source": [
    "#Identifique e corrija valores ausentes e categorias inconsistentes (ex: Instagram).\n",
    "#Valor_Venda\n",
    "df[\"Valor_Venda\"] = pd.to_numeric(df[\"Valor_Venda\"], errors=\"coerce\")\n",
    "df[\"Valor_Venda\"] = df[\"Valor_Venda\"].fillna(\n",
    "    df.groupby(\"Produto\")[\"Valor_Venda\"].transform(\"mean\").round(2)\n",
    ")\n",
    "\n",
    "#Canal_Venda\n",
    "df[\"Canal_Venda\"] = df[\"Canal_Venda\"].replace({\"Instagram\": \"Redes Sociais\"})\n",
    "df[\"Canal_Venda\"].unique()\n",
    "\n",
    "#Quantidade\n",
    "df[\"Quantidade\"] = pd.to_numeric(df[\"Quantidade\"], errors=\"coerce\")\n",
    "df[\"Quantidade\"] = df[\"Quantidade\"].fillna(0)"
   ]
  },
  {
   "cell_type": "code",
   "execution_count": 44,
   "id": "c9aaf3bd-0291-4e71-abe4-a7da1204f88a",
   "metadata": {},
   "outputs": [
    {
     "name": "stdout",
     "output_type": "stream",
     "text": [
      "     Canal_Venda  ValorTotal\n",
      "0            App   653798.96\n",
      "1  Redes Sociais   755830.87\n",
      "2           Site   717481.55\n"
     ]
    }
   ],
   "source": [
    "#Qual foi o total de vendas (R$) por canal de venda?\n",
    "totalVendasCanal = df.groupby(\"Canal_Venda\")[\"Valor_Venda\"].sum().reset_index(name=\"ValorTotal\")\n",
    "print(totalVendasCanal)"
   ]
  },
  {
   "cell_type": "code",
   "execution_count": 53,
   "id": "9a909938-2541-4ebe-b09f-eedd58319b08",
   "metadata": {},
   "outputs": [
    {
     "name": "stdout",
     "output_type": "stream",
     "text": [
      "Produto\n",
      "Webcam    1134826.89\n"
     ]
    }
   ],
   "source": [
    "#Qual produto gerou a maior receita total no período?\n",
    "df[\"Receita\"] = df[\"Valor_Venda\"] * df[\"Quantidade\"]\n",
    "receitaProduto = df.groupby(\"Produto\")[\"Receita\"].sum().sort_values(ascending=False)\n",
    "print(receitaProduto.head(1).to_string())"
   ]
  },
  {
   "cell_type": "code",
   "execution_count": 46,
   "id": "b95a83a5-0d59-4618-ad44-94811462a9de",
   "metadata": {},
   "outputs": [
    {
     "name": "stdout",
     "output_type": "stream",
     "text": [
      "Ticket médio de vendas: R$ 3479.52\n"
     ]
    }
   ],
   "source": [
    "#Calcule o ticket médio de vendas (Valor total / número de vendas).\n",
    "ticket_medio = (df[\"Valor_Venda\"] * df[\"Quantidade\"]).sum() / df[\"Quantidade\"].sum()\n",
    "print(f\"Ticket médio de vendas: R$ {ticket_medio:.2f}\")"
   ]
  },
  {
   "cell_type": "code",
   "execution_count": 56,
   "id": "9f52be8f-d43e-4051-adb3-9d8cb5947186",
   "metadata": {},
   "outputs": [
    {
     "data": {
      "image/png": "[encoded data removed]",
      "text/plain": [
       "<Figure size 640x480 with 1 Axes>"
      ]
     },
     "metadata": {},
     "output_type": "display_data"
    }
   ],
   "source": [
    "#Crie um gráfico de barras mostrando a receita total por produto.\n",
    "receitaProduto.plot(kind=\"bar\")\n",
    "plt.title(\"Receita Total por Produto\")\n",
    "plt.xlabel(\"Produto\")\n",
    "plt.ylabel(\"Receita Total (R$) - 1.0 = 1.000.000,00\")\n",
    "plt.xticks(rotation=45)\n",
    "plt.grid(axis='y', linestyle='--', alpha=0.7)\n",
    "plt.show()"
   ]
  }
 ],
 "metadata": {
  "kernelspec": {
   "display_name": "Python 3 (ipykernel)",
   "language": "python",
   "name": "python3"
  },
  "language_info": {
   "codemirror_mode": {
    "name": "ipython",
    "version": 3
   },
   "file_extension": ".py",
   "mimetype": "text/x-python",
   "name": "python",
   "nbconvert_exporter": "python",
   "pygments_lexer": "ipython3",
   "version": "3.12.7"
  }
 },
 "nbformat": 4,
 "nbformat_minor": 5
}
