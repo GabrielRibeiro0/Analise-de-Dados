{
 "cells": [
  {
   "cell_type": "markdown",
   "id": "619473b9-fb4f-4800-9b79-2d44875d95b7",
   "metadata": {},
   "source": [
    "Desafio 8: Analisando Dados de Produção Industrial\n",
    "\n",
    "📂 Dataset: Informações sobre a produção de diferentes setores industriais ao longo dos meses, incluindo o total produzido e o custo de produção.\n",
    "\n",
    "🎯 Atividades:\n",
    "\n",
    "Qual setor teve a maior produção total no período analisado?\n",
    "\n",
    "Existe correlação entre o total produzido e o custo de produção?\n",
    "\n",
    "Qual foi o mês com a maior produção registrada?\n",
    "\n",
    "Crie um gráfico de barras comparando a produção total por setor."
   ]
  },
  {
   "cell_type": "code",
   "execution_count": 28,
   "id": "0a6004d7-bb91-4f34-a9d8-2b14b240b08f",
   "metadata": {},
   "outputs": [],
   "source": [
    "import pandas as pd\n",
    "import seaborn as sns\n",
    "import matplotlib.pyplot as plt"
   ]
  },
  {
   "cell_type": "code",
   "execution_count": 2,
   "id": "c30febcf-b784-4fc6-8e32-4e3d10e07c2c",
   "metadata": {},
   "outputs": [
    {
     "data": {
      "text/html": [
       "<div>\n",
       "<style scoped>\n",
       "    .dataframe tbody tr th:only-of-type {\n",
       "        vertical-align: middle;\n",
       "    }\n",
       "\n",
       "    .dataframe tbody tr th {\n",
       "        vertical-align: top;\n",
       "    }\n",
       "\n",
       "    .dataframe thead th {\n",
       "        text-align: right;\n",
       "    }\n",
       "</style>\n",
       "<table border=\"1\" class=\"dataframe\">\n",
       "  <thead>\n",
       "    <tr style=\"text-align: right;\">\n",
       "      <th></th>\n",
       "      <th>ID_Registro</th>\n",
       "      <th>Setor</th>\n",
       "      <th>Mes</th>\n",
       "      <th>Total_Produzido</th>\n",
       "      <th>Custo_Producao</th>\n",
       "    </tr>\n",
       "  </thead>\n",
       "  <tbody>\n",
       "    <tr>\n",
       "      <th>0</th>\n",
       "      <td>1</td>\n",
       "      <td>Farmacêutico</td>\n",
       "      <td>2024-01</td>\n",
       "      <td>2834</td>\n",
       "      <td>115681.72</td>\n",
       "    </tr>\n",
       "    <tr>\n",
       "      <th>1</th>\n",
       "      <td>2</td>\n",
       "      <td>Farmacêutico</td>\n",
       "      <td>2024-02</td>\n",
       "      <td>8843</td>\n",
       "      <td>289263.44</td>\n",
       "    </tr>\n",
       "    <tr>\n",
       "      <th>2</th>\n",
       "      <td>3</td>\n",
       "      <td>Farmacêutico</td>\n",
       "      <td>2024-03</td>\n",
       "      <td>4275</td>\n",
       "      <td>453706.06</td>\n",
       "    </tr>\n",
       "    <tr>\n",
       "      <th>3</th>\n",
       "      <td>4</td>\n",
       "      <td>Farmacêutico</td>\n",
       "      <td>2024-04</td>\n",
       "      <td>6753</td>\n",
       "      <td>320253.23</td>\n",
       "    </tr>\n",
       "    <tr>\n",
       "      <th>4</th>\n",
       "      <td>5</td>\n",
       "      <td>Têxtil</td>\n",
       "      <td>2024-05</td>\n",
       "      <td>2907</td>\n",
       "      <td>465954.97</td>\n",
       "    </tr>\n",
       "  </tbody>\n",
       "</table>\n",
       "</div>"
      ],
      "text/plain": [
       "   ID_Registro         Setor      Mes  Total_Produzido  Custo_Producao\n",
       "0            1  Farmacêutico  2024-01             2834       115681.72\n",
       "1            2  Farmacêutico  2024-02             8843       289263.44\n",
       "2            3  Farmacêutico  2024-03             4275       453706.06\n",
       "3            4  Farmacêutico  2024-04             6753       320253.23\n",
       "4            5        Têxtil  2024-05             2907       465954.97"
      ]
     },
     "execution_count": 2,
     "metadata": {},
     "output_type": "execute_result"
    }
   ],
   "source": [
    "#testando o dataset\n",
    "df = pd.read_csv(\"dia_8_producao_industrial.csv\")\n",
    "df.head()"
   ]
  },
  {
   "cell_type": "code",
   "execution_count": 52,
   "id": "c15390c6-fab1-4083-8e13-83951691d942",
   "metadata": {},
   "outputs": [
    {
     "name": "stdout",
     "output_type": "stream",
     "text": [
      "O setor com maior produção foi o: \n",
      "\n",
      "Setor\n",
      "Têxtil    48425\n"
     ]
    }
   ],
   "source": [
    "#Qual setor teve a maior produção total no período analisado?\n",
    "prodTotalPorSetor = df.groupby(\"Setor\")[\"Total_Produzido\"].sum().sort_values(ascending=False).head(1).to_string()\n",
    "print(f\"O setor com maior produção foi o: \\n\\n{prodTotalPorSetor}\")"
   ]
  },
  {
   "cell_type": "code",
   "execution_count": 50,
   "id": "16a3b903-717b-4dce-bc38-1207c56f65ec",
   "metadata": {},
   "outputs": [
    {
     "name": "stdout",
     "output_type": "stream",
     "text": [
      "A correlação entre o total produzido e o custo de produção é: -0.13\n"
     ]
    }
   ],
   "source": [
    "#Existe correlação entre o total produzido e o custo de produção?\n",
    "corrProduçãoCusto = df[\"Total_Produzido\"].corr(df[\"Custo_Producao\"])\n",
    "print(f\"A correlação entre o total produzido e o custo de produção é: {corrProduçãoCusto:.2f}\")"
   ]
  },
  {
   "cell_type": "code",
   "execution_count": 49,
   "id": "e58c0eb1-7f83-4eda-b02e-f96dfce1f87b",
   "metadata": {},
   "outputs": [
    {
     "name": "stdout",
     "output_type": "stream",
     "text": [
      "O mês com maior produção foi: \n",
      "\n",
      "Mes\n",
      "2025-03    9965\n"
     ]
    }
   ],
   "source": [
    "#Qual foi o mês com a maior produção registrada?\n",
    "mesMaiorProducao = df.groupby(\"Mes\")[\"Total_Produzido\"].sum().sort_values(ascending=False).head(1).to_string()\n",
    "print(f\"O mês com maior produção foi: \\n\\n{mesMaiorProducao}\")"
   ]
  },
  {
   "cell_type": "code",
   "execution_count": 56,
   "id": "7a154999-a4b0-4b0e-8800-50bed0d930fe",
   "metadata": {},
   "outputs": [
    {
     "data": {
      "image/png": "[encoded data removed]",
      "text/plain": [
       "<Figure size 640x480 with 1 Axes>"
      ]
     },
     "metadata": {},
     "output_type": "display_data"
    }
   ],
   "source": [
    "#Crie um gráfico de barras comparando a produção total por setor.\n",
    "plt.grid(axis='y', linestyle=\"--\", alpha=0.5, color=\"gray\")\n",
    "sns.barplot(data=df, x=\"Setor\", y=\"Total_Produzido\")\n",
    "plt.show()"
   ]
  },
  {
   "cell_type": "code",
   "execution_count": null,
   "id": "e0a67b4b-b05f-4574-9bcb-6123bb437ce6",
   "metadata": {},
   "outputs": [],
   "source": []
  }
 ],
 "metadata": {
  "kernelspec": {
   "display_name": "Python 3 (ipykernel)",
   "language": "python",
   "name": "python3"
  },
  "language_info": {
   "codemirror_mode": {
    "name": "ipython",
    "version": 3
   },
   "file_extension": ".py",
   "mimetype": "text/x-python",
   "name": "python",
   "nbconvert_exporter": "python",
   "pygments_lexer": "ipython3",
   "version": "3.12.7"
  }
 },
 "nbformat": 4,
 "nbformat_minor": 5
}
