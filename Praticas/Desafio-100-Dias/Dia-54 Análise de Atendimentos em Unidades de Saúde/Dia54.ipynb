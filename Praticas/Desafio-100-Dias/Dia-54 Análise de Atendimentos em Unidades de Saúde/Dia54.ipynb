{
 "cells": [
  {
   "cell_type": "markdown",
   "id": "c429b35d",
   "metadata": {},
   "source": [
    "📊 Desafio 54 — Análise de Atendimentos em Unidades de Saúde\n",
    "\n",
    "📂 Dataset: dia_54_atendimentos_saude.csv\n",
    "\n",
    "Este conjunto de dados reúne informações sobre atendimentos realizados em unidades de saúde entre 2020 e 2023, incluindo tipo de atendimento, idade dos pacientes e tempo médio de espera.\n",
    "\n",
    "🔍 Tarefas:\n",
    "\n",
    "    Qual o tempo médio de espera por tipo de atendimento (ex: emergência, consulta, exame)?\n",
    "\n",
    "    Qual faixa etária foi mais atendida ao longo dos anos?\n",
    "\n",
    "    Houve redução no tempo de espera ao longo dos anos?\n",
    "\n",
    "    Crie um gráfico de barras mostrando a quantidade total de atendimentos por ano.\n"
   ]
  },
  {
   "cell_type": "code",
   "execution_count": 1,
   "id": "043f546d",
   "metadata": {},
   "outputs": [],
   "source": [
    "import pandas as pd\n",
    "import seaborn as sns\n",
    "import matplotlib.pyplot as plt"
   ]
  },
  {
   "cell_type": "code",
   "execution_count": 2,
   "id": "f62253fc",
   "metadata": {},
   "outputs": [
    {
     "data": {
      "text/html": [
       "<div>\n",
       "<style scoped>\n",
       "    .dataframe tbody tr th:only-of-type {\n",
       "        vertical-align: middle;\n",
       "    }\n",
       "\n",
       "    .dataframe tbody tr th {\n",
       "        vertical-align: top;\n",
       "    }\n",
       "\n",
       "    .dataframe thead th {\n",
       "        text-align: right;\n",
       "    }\n",
       "</style>\n",
       "<table border=\"1\" class=\"dataframe\">\n",
       "  <thead>\n",
       "    <tr style=\"text-align: right;\">\n",
       "      <th></th>\n",
       "      <th>ano</th>\n",
       "      <th>tipo_atendimento</th>\n",
       "      <th>idade_paciente</th>\n",
       "      <th>tempo_espera_min</th>\n",
       "    </tr>\n",
       "  </thead>\n",
       "  <tbody>\n",
       "    <tr>\n",
       "      <th>0</th>\n",
       "      <td>2020</td>\n",
       "      <td>emergência</td>\n",
       "      <td>34</td>\n",
       "      <td>30</td>\n",
       "    </tr>\n",
       "    <tr>\n",
       "      <th>1</th>\n",
       "      <td>2020</td>\n",
       "      <td>consulta</td>\n",
       "      <td>45</td>\n",
       "      <td>15</td>\n",
       "    </tr>\n",
       "    <tr>\n",
       "      <th>2</th>\n",
       "      <td>2021</td>\n",
       "      <td>exame</td>\n",
       "      <td>22</td>\n",
       "      <td>20</td>\n",
       "    </tr>\n",
       "    <tr>\n",
       "      <th>3</th>\n",
       "      <td>2021</td>\n",
       "      <td>emergência</td>\n",
       "      <td>67</td>\n",
       "      <td>45</td>\n",
       "    </tr>\n",
       "    <tr>\n",
       "      <th>4</th>\n",
       "      <td>2022</td>\n",
       "      <td>consulta</td>\n",
       "      <td>19</td>\n",
       "      <td>10</td>\n",
       "    </tr>\n",
       "  </tbody>\n",
       "</table>\n",
       "</div>"
      ],
      "text/plain": [
       "    ano tipo_atendimento  idade_paciente  tempo_espera_min\n",
       "0  2020       emergência              34                30\n",
       "1  2020         consulta              45                15\n",
       "2  2021            exame              22                20\n",
       "3  2021       emergência              67                45\n",
       "4  2022         consulta              19                10"
      ]
     },
     "execution_count": 2,
     "metadata": {},
     "output_type": "execute_result"
    }
   ],
   "source": [
    "df = pd.read_csv(\"dia_54_atendimentos_saude.csv\")\n",
    "df.head()"
   ]
  },
  {
   "cell_type": "code",
   "execution_count": 3,
   "id": "fdecb670",
   "metadata": {},
   "outputs": [
    {
     "name": "stdout",
     "output_type": "stream",
     "text": [
      "tipo_atendimento\n",
      "emergência    32.25\n",
      "exame         22.00\n",
      "consulta      21.00\n",
      "Name: tempo_espera_min, dtype: float64\n"
     ]
    }
   ],
   "source": [
    "#Qual o tempo médio de espera por tipo de atendimento (ex: emergência, consulta, exame)?\n",
    "tempoEsperaTipoAtendimento = df.groupby(\"tipo_atendimento\")[\"tempo_espera_min\"].mean().sort_values(ascending=False)\n",
    "print(tempoEsperaTipoAtendimento)"
   ]
  },
  {
   "cell_type": "code",
   "execution_count": 7,
   "id": "9e844eba",
   "metadata": {},
   "outputs": [
    {
     "name": "stdout",
     "output_type": "stream",
     "text": [
      "idade_paciente\n",
      "34    1\n",
      "45    1\n",
      "22    1\n",
      "67    1\n",
      "19    1\n",
      "58    1\n",
      "42    1\n",
      "36    1\n",
      "29    1\n",
      "33    1\n",
      "40    1\n",
      "50    1\n",
      "55    1\n",
      "60    1\n",
      "25    1\n",
      "38    1\n",
      "44    1\n",
      "31    1\n",
      "62    1\n",
      "21    1\n",
      "47    1\n",
      "53    1\n",
      "49    1\n",
      "39    1\n",
      "Name: count, dtype: int64\n"
     ]
    }
   ],
   "source": [
    "#Qual faixa etária foi mais atendida ao longo dos anos?\n",
    "faixaEtariaAtendida = df[\"idade_paciente\"].value_counts()\n",
    "print(faixaEtariaAtendida)"
   ]
  },
  {
   "cell_type": "code",
   "execution_count": 9,
   "id": "8d5bd60d",
   "metadata": {},
   "outputs": [
    {
     "name": "stdout",
     "output_type": "stream",
     "text": [
      "ano\n",
      "2020    21.17\n",
      "2021    24.67\n",
      "2022    28.67\n",
      "2023    25.83\n",
      "Name: tempo_espera_min, dtype: float64\n"
     ]
    }
   ],
   "source": [
    "#Houve redução no tempo de espera ao longo dos anos?\n",
    "tempoEsperaAnos = df.groupby(\"ano\")[\"tempo_espera_min\"].mean().round(2)\n",
    "print(tempoEsperaAnos)"
   ]
  },
  {
   "cell_type": "code",
   "execution_count": 20,
   "id": "7836b41a",
   "metadata": {},
   "outputs": [
    {
     "data": {
      "image/png": "[encoded data removed]",
      "text/plain": [
       "<Figure size 640x480 with 1 Axes>"
      ]
     },
     "metadata": {},
     "output_type": "display_data"
    }
   ],
   "source": [
    "#Crie um gráfico de barras mostrando a quantidade total de atendimentos por ano.\n",
    "atendimentosAno = df[\"ano\"].value_counts()\n",
    "\n",
    "sns.barplot(atendimentosAno)\n",
    "plt.xlabel(\"Anos\")\n",
    "plt.ylabel(\"Quantidade de Atendimentos\")\n",
    "plt.title(\"Total de Atendimentos por Ano\")\n",
    "plt.grid(axis=\"y\", linestyle=\"--\")\n",
    "plt.show()"
   ]
  },
  {
   "cell_type": "code",
   "execution_count": null,
   "id": "362ac328",
   "metadata": {},
   "outputs": [],
   "source": []
  }
 ],
 "metadata": {
  "kernelspec": {
   "display_name": "Python 3 (ipykernel)",
   "language": "python",
   "name": "python3"
  },
  "language_info": {
   "codemirror_mode": {
    "name": "ipython",
    "version": 3
   },
   "file_extension": ".py",
   "mimetype": "text/x-python",
   "name": "python",
   "nbconvert_exporter": "python",
   "pygments_lexer": "ipython3",
   "version": "3.13.2"
  }
 },
 "nbformat": 4,
 "nbformat_minor": 5
}
