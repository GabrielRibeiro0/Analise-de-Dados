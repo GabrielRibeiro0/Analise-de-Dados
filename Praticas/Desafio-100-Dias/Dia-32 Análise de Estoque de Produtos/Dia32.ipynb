{
 "cells": [
  {
   "cell_type": "markdown",
   "id": "eecb00da-7e3e-4038-8fd0-6bce35ad1f40",
   "metadata": {},
   "source": [
    "Desafio 32: Análise de Estoque de Produtos\n",
    "\n",
    "📂 Dataset: Informações de estoque, categorias e preços de produtos.\n",
    "Colunas: Produto, Categoria, Quantidade_Estoque, Preço_Unitario, Fornecedor\n",
    "\n",
    "🎯 Tarefas:\n",
    "\n",
    "Corrija possíveis erros nas colunas Quantidade_Estoque e Preço_Unitario.\n",
    "\n",
    "Quais produtos estão com estoque zerado ou negativo?\n",
    "\n",
    "Qual fornecedor possui a maior variedade de produtos?\n",
    "\n",
    "Qual categoria possui o maior estoque total (soma das quantidades)?\n",
    "\n",
    "Crie um gráfico de pizza mostrando a distribuição de categorias no estoque."
   ]
  },
  {
   "cell_type": "code",
   "execution_count": 28,
   "id": "646c9a16-c768-47a3-af93-3f3760f31891",
   "metadata": {},
   "outputs": [],
   "source": [
    "import pandas as pd\n",
    "import matplotlib.pyplot as plt"
   ]
  },
  {
   "cell_type": "code",
   "execution_count": 2,
   "id": "3371ea26-914b-4680-a595-3292c424b9cb",
   "metadata": {},
   "outputs": [
    {
     "data": {
      "text/html": [
       "<div>\n",
       "<style scoped>\n",
       "    .dataframe tbody tr th:only-of-type {\n",
       "        vertical-align: middle;\n",
       "    }\n",
       "\n",
       "    .dataframe tbody tr th {\n",
       "        vertical-align: top;\n",
       "    }\n",
       "\n",
       "    .dataframe thead th {\n",
       "        text-align: right;\n",
       "    }\n",
       "</style>\n",
       "<table border=\"1\" class=\"dataframe\">\n",
       "  <thead>\n",
       "    <tr style=\"text-align: right;\">\n",
       "      <th></th>\n",
       "      <th>Produto</th>\n",
       "      <th>Categoria</th>\n",
       "      <th>Quantidade_Estoque</th>\n",
       "      <th>Preço_Unitario</th>\n",
       "      <th>Fornecedor</th>\n",
       "    </tr>\n",
       "  </thead>\n",
       "  <tbody>\n",
       "    <tr>\n",
       "      <th>0</th>\n",
       "      <td>Produto_2</td>\n",
       "      <td>Brinquedos</td>\n",
       "      <td>86.0</td>\n",
       "      <td>599.82</td>\n",
       "      <td>Fornecedor_B</td>\n",
       "    </tr>\n",
       "    <tr>\n",
       "      <th>1</th>\n",
       "      <td>Produto_3</td>\n",
       "      <td>Móveis</td>\n",
       "      <td>175.0</td>\n",
       "      <td>520.31</td>\n",
       "      <td>Fornecedor_B</td>\n",
       "    </tr>\n",
       "    <tr>\n",
       "      <th>2</th>\n",
       "      <td>Produto_4</td>\n",
       "      <td>Brinquedos</td>\n",
       "      <td>203.0</td>\n",
       "      <td>445.2</td>\n",
       "      <td>Fornecedor_C</td>\n",
       "    </tr>\n",
       "    <tr>\n",
       "      <th>3</th>\n",
       "      <td>Produto_5</td>\n",
       "      <td>Móveis</td>\n",
       "      <td>99.0</td>\n",
       "      <td>837.59</td>\n",
       "      <td>Fornecedor_C</td>\n",
       "    </tr>\n",
       "    <tr>\n",
       "      <th>4</th>\n",
       "      <td>Produto_6</td>\n",
       "      <td>Brinquedos</td>\n",
       "      <td>105.0</td>\n",
       "      <td>640.87</td>\n",
       "      <td>Fornecedor_A</td>\n",
       "    </tr>\n",
       "  </tbody>\n",
       "</table>\n",
       "</div>"
      ],
      "text/plain": [
       "     Produto   Categoria  Quantidade_Estoque Preço_Unitario    Fornecedor\n",
       "0  Produto_2  Brinquedos                86.0         599.82  Fornecedor_B\n",
       "1  Produto_3      Móveis               175.0         520.31  Fornecedor_B\n",
       "2  Produto_4  Brinquedos               203.0          445.2  Fornecedor_C\n",
       "3  Produto_5      Móveis                99.0         837.59  Fornecedor_C\n",
       "4  Produto_6  Brinquedos               105.0         640.87  Fornecedor_A"
      ]
     },
     "execution_count": 2,
     "metadata": {},
     "output_type": "execute_result"
    }
   ],
   "source": [
    "df = pd.read_csv(\"dia_32_estoque_produtos.csv\")\n",
    "df.head()"
   ]
  },
  {
   "cell_type": "code",
   "execution_count": 11,
   "id": "2745d296-dced-4425-9dcf-1ca75cbcee60",
   "metadata": {},
   "outputs": [],
   "source": [
    "#Corrija possíveis erros nas colunas Quantidade_Estoque e Preço_Unitario.\n",
    "df[\"Quantidade_Estoque\"] = pd.to_numeric(df[\"Quantidade_Estoque\"], errors=\"coerce\")\n",
    "df[\"Quantidade_Estoque\"] = df[\"Quantidade_Estoque\"].fillna(0)\n",
    "\n",
    "df[\"Preço_Unitario\"] = pd.to_numeric(df[\"Preço_Unitario\"], errors=\"coerce\")\n",
    "df[\"Preço_Unitario\"] = df[\"Preço_Unitario\"].fillna(df.groupby(\"Categoria\")[\"Preço_Unitario\"].transform(\"mean\")).round(2)"
   ]
  },
  {
   "cell_type": "code",
   "execution_count": 27,
   "id": "bfd7c3c8-8843-4819-8a51-94ff5095da64",
   "metadata": {},
   "outputs": [
    {
     "name": "stdout",
     "output_type": "stream",
     "text": [
      "O produto que está com estoque ausente é: Produto_14\n"
     ]
    }
   ],
   "source": [
    "#Quais produtos estão com estoque zerado ou negativo?\n",
    "estoque0 = df[df[\"Quantidade_Estoque\"] <= 0][\"Produto\"]\n",
    "print(f\"O produto que está com estoque ausente é: {estoque0.max()}\")"
   ]
  },
  {
   "cell_type": "code",
   "execution_count": 18,
   "id": "db9987ed-6a6a-4964-a784-95b10d83c3ec",
   "metadata": {},
   "outputs": [
    {
     "name": "stdout",
     "output_type": "stream",
     "text": [
      "O fornecedor com a maior variedade de produtos é: Fornecedor_A\n"
     ]
    }
   ],
   "source": [
    "#Qual fornecedor possui a maior variedade de produtos?\n",
    "fornecedorVariedade = df.groupby(\"Fornecedor\")[\"Produto\"].nunique()\n",
    "print(f\"O fornecedor com a maior variedade de produtos é: {fornecedorVariedade.idxmax()}\")"
   ]
  },
  {
   "cell_type": "code",
   "execution_count": 20,
   "id": "1defe929-eb5f-4900-bc19-56feaa1559bb",
   "metadata": {},
   "outputs": [
    {
     "name": "stdout",
     "output_type": "stream",
     "text": [
      "A categoria com o maior estoque total é: Móveis\n"
     ]
    }
   ],
   "source": [
    "#Qual categoria possui o maior estoque total (soma das quantidades)?\n",
    "categoriaEstoque = df.groupby(\"Categoria\")[\"Quantidade_Estoque\"].sum()\n",
    "print(f\"A categoria com o maior estoque total é: {categoriaEstoque.idxmax()}\")"
   ]
  },
  {
   "cell_type": "code",
   "execution_count": 29,
   "id": "2989c126-081e-45ec-93cd-0d719a964fb6",
   "metadata": {},
   "outputs": [
    {
     "data": {
      "image/png": "[encoded data removed]",
      "text/plain": [
       "<Figure size 640x480 with 1 Axes>"
      ]
     },
     "metadata": {},
     "output_type": "display_data"
    }
   ],
   "source": [
    "#Crie um gráfico de pizza mostrando a distribuição de categorias no estoque.\n",
    "plt.pie(categoriaEstoque, labels=categoriaEstoque.index, autopct='%1.1f%%', startangle=140)\n",
    "plt.title('Distribuição do Estoque por Categoria')\n",
    "plt.axis('equal')\n",
    "plt.show()"
   ]
  }
 ],
 "metadata": {
  "kernelspec": {
   "display_name": "Python 3 (ipykernel)",
   "language": "python",
   "name": "python3"
  },
  "language_info": {
   "codemirror_mode": {
    "name": "ipython",
    "version": 3
   },
   "file_extension": ".py",
   "mimetype": "text/x-python",
   "name": "python",
   "nbconvert_exporter": "python",
   "pygments_lexer": "ipython3",
   "version": "3.12.7"
  }
 },
 "nbformat": 4,
 "nbformat_minor": 5
}
