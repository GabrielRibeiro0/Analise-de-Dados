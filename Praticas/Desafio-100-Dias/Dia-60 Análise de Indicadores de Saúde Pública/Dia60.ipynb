{
 "cells": [
  {
   "cell_type": "markdown",
   "id": "76e3e5f6-60b8-44cf-8542-35be99af6884",
   "metadata": {},
   "source": [
    "📊 Desafio 60 — Análise de Indicadores de Saúde Pública\n",
    "📂 Dataset: dia_60_saude_publica.csv\n",
    "Este conjunto de dados apresenta indicadores de saúde de diferentes cidades brasileiras, incluindo taxa de vacinação, número de casos de doenças, gastos com saúde e IDH.\n",
    "\n",
    "🔍 Tarefas:\n",
    "Tratamento de Dados\n",
    "- Verifique se existem valores nulos no dataset. Se houver, aplique um tratamento adequado (remoção ou imputação, justificando sua escolha).\n",
    "\n",
    "Análise Exploratória\n",
    "- Quais cidades apresentam os maiores e menores índices de vacinação?\n",
    "\n",
    "Visualização\n",
    "- Crie um gráfico de dispersão relacionando o IDH da cidade com o número de casos de doenças registradas.\n",
    "\n",
    "Machine Learning\n",
    "- Modele um classificador simples para prever se uma cidade é de \"Alto Risco\" ou \"Baixo Risco\" com base nas variáveis disponíveis.\n",
    "Sugestões:\n",
    "\n",
    "- Use RandomForestClassifier ou LogisticRegression.\n",
    "\n",
    "- Divida os dados com train_test_split.\n",
    "\n",
    "- Avalie com accuracy_score e classification_report.\n",
    "\n",
    "- Verifique a importância das variáveis para a classificação.\n",
    "\n"
   ]
  },
  {
   "cell_type": "code",
   "execution_count": 37,
   "id": "0c485d38-41c7-46a4-9598-8778a470250c",
   "metadata": {},
   "outputs": [],
   "source": [
    "import pandas as pd\n",
    "import seaborn as sns\n",
    "import matplotlib.pyplot as plt\n",
    "from sklearn.model_selection import train_test_split\n",
    "from sklearn.metrics import accuracy_score, classification_report\n",
    "from sklearn.ensemble import RandomForestClassifier\n",
    "from sklearn.preprocessing import LabelEncoder"
   ]
  },
  {
   "cell_type": "code",
   "execution_count": 2,
   "id": "6fcbb44d-76b5-47b7-902b-f952d46c5b44",
   "metadata": {},
   "outputs": [
    {
     "data": {
      "text/html": [
       "<div>\n",
       "<style scoped>\n",
       "    .dataframe tbody tr th:only-of-type {\n",
       "        vertical-align: middle;\n",
       "    }\n",
       "\n",
       "    .dataframe tbody tr th {\n",
       "        vertical-align: top;\n",
       "    }\n",
       "\n",
       "    .dataframe thead th {\n",
       "        text-align: right;\n",
       "    }\n",
       "</style>\n",
       "<table border=\"1\" class=\"dataframe\">\n",
       "  <thead>\n",
       "    <tr style=\"text-align: right;\">\n",
       "      <th></th>\n",
       "      <th>Cidade</th>\n",
       "      <th>Taxa_Vacinacao</th>\n",
       "      <th>Casos_Doencas</th>\n",
       "      <th>Gastos_Saude_per_capita</th>\n",
       "      <th>IDH</th>\n",
       "      <th>Nivel_Risco</th>\n",
       "    </tr>\n",
       "  </thead>\n",
       "  <tbody>\n",
       "    <tr>\n",
       "      <th>0</th>\n",
       "      <td>Cidade_1</td>\n",
       "      <td>72.03</td>\n",
       "      <td>125</td>\n",
       "      <td>785.76</td>\n",
       "      <td>0.747</td>\n",
       "      <td>Alto Risco</td>\n",
       "    </tr>\n",
       "    <tr>\n",
       "      <th>1</th>\n",
       "      <td>Cidade_2</td>\n",
       "      <td>67.48</td>\n",
       "      <td>109</td>\n",
       "      <td>636.80</td>\n",
       "      <td>0.585</td>\n",
       "      <td>Alto Risco</td>\n",
       "    </tr>\n",
       "    <tr>\n",
       "      <th>2</th>\n",
       "      <td>Cidade_3</td>\n",
       "      <td>72.93</td>\n",
       "      <td>110</td>\n",
       "      <td>1494.07</td>\n",
       "      <td>0.751</td>\n",
       "      <td>Alto Risco</td>\n",
       "    </tr>\n",
       "    <tr>\n",
       "      <th>3</th>\n",
       "      <td>Cidade_4</td>\n",
       "      <td>86.63</td>\n",
       "      <td>116</td>\n",
       "      <td>2373.93</td>\n",
       "      <td>0.749</td>\n",
       "      <td>Baixo Risco</td>\n",
       "    </tr>\n",
       "    <tr>\n",
       "      <th>4</th>\n",
       "      <td>Cidade_5</td>\n",
       "      <td>82.68</td>\n",
       "      <td>110</td>\n",
       "      <td>1637.80</td>\n",
       "      <td>0.898</td>\n",
       "      <td>Baixo Risco</td>\n",
       "    </tr>\n",
       "  </tbody>\n",
       "</table>\n",
       "</div>"
      ],
      "text/plain": [
       "     Cidade  Taxa_Vacinacao  Casos_Doencas  Gastos_Saude_per_capita    IDH  \\\n",
       "0  Cidade_1           72.03            125                   785.76  0.747   \n",
       "1  Cidade_2           67.48            109                   636.80  0.585   \n",
       "2  Cidade_3           72.93            110                  1494.07  0.751   \n",
       "3  Cidade_4           86.63            116                  2373.93  0.749   \n",
       "4  Cidade_5           82.68            110                  1637.80  0.898   \n",
       "\n",
       "   Nivel_Risco  \n",
       "0   Alto Risco  \n",
       "1   Alto Risco  \n",
       "2   Alto Risco  \n",
       "3  Baixo Risco  \n",
       "4  Baixo Risco  "
      ]
     },
     "execution_count": 2,
     "metadata": {},
     "output_type": "execute_result"
    }
   ],
   "source": [
    "df = pd.read_csv(\"dia_60_saude_publica.csv\")\n",
    "df.head()"
   ]
  },
  {
   "cell_type": "code",
   "execution_count": 10,
   "id": "050042fa-c640-4537-bad7-648dd68d632b",
   "metadata": {},
   "outputs": [
    {
     "name": "stdout",
     "output_type": "stream",
     "text": [
      "Cidade                     0\n",
      "Taxa_Vacinacao             0\n",
      "Casos_Doencas              0\n",
      "Gastos_Saude_per_capita    0\n",
      "IDH                        0\n",
      "Nivel_Risco                0\n",
      "dtype: int64\n"
     ]
    }
   ],
   "source": [
    "#Verifique se existem valores nulos no dataset. Se houver, aplique um tratamento adequado (remoção ou imputação, justificando sua escolha).\n",
    "print(df.isnull().sum())\n",
    "df.fillna(df.mean(numeric_only=True), inplace=True)"
   ]
  },
  {
   "cell_type": "code",
   "execution_count": 22,
   "id": "106e2847-e7ce-4f9a-a357-8716cdd626e0",
   "metadata": {},
   "outputs": [
    {
     "name": "stdout",
     "output_type": "stream",
     "text": [
      "Cidade            Cidade_14\n",
      "Taxa_Vacinacao         99.7\n",
      "Name: 13, dtype: object\n",
      "Cidade            Cidade_75\n",
      "Taxa_Vacinacao        60.14\n",
      "Name: 74, dtype: object\n"
     ]
    }
   ],
   "source": [
    "#Quais cidades apresentam os maiores e menores índices de vacinação?\n",
    "cidade_maior = df.loc[df[\"Taxa_Vacinacao\"].idxmax()]\n",
    "cidade_menor = df.loc[df[\"Taxa_Vacinacao\"].idxmin()]\n",
    "print(cidade_maior[[\"Cidade\", \"Taxa_Vacinacao\"]])\n",
    "print(cidade_menor[[\"Cidade\", \"Taxa_Vacinacao\"]])"
   ]
  },
  {
   "cell_type": "code",
   "execution_count": 36,
   "id": "162abbd6-469b-41f2-af99-b78d4a7c599e",
   "metadata": {},
   "outputs": [
    {
     "data": {
      "image/png": "[encoded data removed]",
      "text/plain": [
       "<Figure size 640x480 with 1 Axes>"
      ]
     },
     "metadata": {},
     "output_type": "display_data"
    }
   ],
   "source": [
    "#Crie um gráfico de dispersão relacionando o IDH da cidade com o número de casos de doenças registradas.\n",
    "plt.scatter(df[\"IDH\"], df[\"Casos_Doencas\"])\n",
    "plt.title(\"IDH vs Casos de Doenças\")\n",
    "plt.xlabel(\"IDH\")\n",
    "plt.ylabel(\"Número de Casos de Doenças\")\n",
    "plt.grid()\n",
    "plt.show()"
   ]
  },
  {
   "cell_type": "code",
   "execution_count": 54,
   "id": "d88c5232-7d0d-4c28-a507-4c1cf02ef7f6",
   "metadata": {},
   "outputs": [
    {
     "name": "stdout",
     "output_type": "stream",
     "text": [
      "Acurácia: 1.0\n",
      "              precision    recall  f1-score   support\n",
      "\n",
      "           0       1.00      1.00      1.00        10\n",
      "           1       1.00      1.00      1.00        20\n",
      "\n",
      "    accuracy                           1.00        30\n",
      "   macro avg       1.00      1.00      1.00        30\n",
      "weighted avg       1.00      1.00      1.00        30\n",
      "\n",
      "Taxa_Vacinacao             0.793320\n",
      "Casos_Doencas              0.116791\n",
      "IDH                        0.049839\n",
      "Gastos_Saude_per_capita    0.040051\n",
      "dtype: float64\n"
     ]
    }
   ],
   "source": [
    "#Modele um classificador simples para prever se uma cidade é de \"Alto Risco\" ou \"Baixo Risco\" com base nas variáveis disponíveis.\n",
    "le = LabelEncoder()\n",
    "df[\"Nivel_Risco\"] = le.fit_transform(df[\"Nivel_Risco\"])\n",
    "\n",
    "X = df.drop([\"Cidade\", \"Nivel_Risco\"], axis=1)\n",
    "y = df[\"Nivel_Risco\"]\n",
    "\n",
    "X_train, X_test, y_train, y_test = train_test_split(X, y, test_size=0.3, random_state=42)\n",
    "\n",
    "modelo = RandomForestClassifier(random_state=42)\n",
    "modelo.fit(X_train, y_train)\n",
    "\n",
    "y_pred = modelo.predict(X_test)\n",
    "print(f\"Acurácia: {accuracy_score(y_test, y_pred)}\")\n",
    "print(classification_report(y_test, y_pred))\n",
    "\n",
    "importances = pd.Series(modelo.feature_importances_, index=X.columns).sort_values(ascending=False)\n",
    "print(importances)"
   ]
  }
 ],
 "metadata": {
  "kernelspec": {
   "display_name": "Python 3 (ipykernel)",
   "language": "python",
   "name": "python3"
  },
  "language_info": {
   "codemirror_mode": {
    "name": "ipython",
    "version": 3
   },
   "file_extension": ".py",
   "mimetype": "text/x-python",
   "name": "python",
   "nbconvert_exporter": "python",
   "pygments_lexer": "ipython3",
   "version": "3.12.7"
  }
 },
 "nbformat": 4,
 "nbformat_minor": 5
}
