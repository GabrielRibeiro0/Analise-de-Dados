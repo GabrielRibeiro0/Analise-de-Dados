{
 "cells": [
  {
   "cell_type": "markdown",
   "id": "cf5d5e35-3fbd-4ed5-b516-e9842cd74736",
   "metadata": {},
   "source": [
    "Desafio 15: Comportamento de Consumo em Cartões de Crédito\n",
    "\n",
    "📂 Dataset: Histórico de transações com cartão de crédito, com as seguintes colunas:\n",
    "ID_Transacao, Data, Hora, Cliente_ID, Valor_R$, Categoria, Cidade, Bandeira_Cartao, Parcelado (Sim/Não), Transacao_Internacional (True/False)\n",
    "\n",
    "🎯 Atividades:\n",
    "\n",
    "Qual é o valor médio das transações parceladas versus à vista?\n",
    "\n",
    "Qual categoria representa o maior volume financeiro total?\n",
    "\n",
    "Há diferença de gasto médio entre clientes que fizeram transações internacionais e os que não fizeram?\n",
    "\n",
    "Quais são as 3 cidades com maior número de clientes únicos?\n",
    "\n",
    "Crie um gráfico de barras mostrando o total gasto por bandeira do cartão (Bandeira_Cartao).\n",
    "\n"
   ]
  },
  {
   "cell_type": "code",
   "execution_count": 2,
   "id": "4b9a4a31-6ca3-4dcf-943d-f92bf72352cd",
   "metadata": {},
   "outputs": [],
   "source": [
    "import pandas as pd\n",
    "import seaborn as sns\n",
    "import matplotlib.pyplot as plt"
   ]
  },
  {
   "cell_type": "code",
   "execution_count": 3,
   "id": "1147601f-525e-4755-bad8-4971cbd8c078",
   "metadata": {},
   "outputs": [
    {
     "data": {
      "text/html": [
       "<div>\n",
       "<style scoped>\n",
       "    .dataframe tbody tr th:only-of-type {\n",
       "        vertical-align: middle;\n",
       "    }\n",
       "\n",
       "    .dataframe tbody tr th {\n",
       "        vertical-align: top;\n",
       "    }\n",
       "\n",
       "    .dataframe thead th {\n",
       "        text-align: right;\n",
       "    }\n",
       "</style>\n",
       "<table border=\"1\" class=\"dataframe\">\n",
       "  <thead>\n",
       "    <tr style=\"text-align: right;\">\n",
       "      <th></th>\n",
       "      <th>ID_Transacao</th>\n",
       "      <th>Data</th>\n",
       "      <th>Hora</th>\n",
       "      <th>Cliente_ID</th>\n",
       "      <th>Valor_R$</th>\n",
       "      <th>Categoria</th>\n",
       "      <th>Cidade</th>\n",
       "      <th>Bandeira_Cartao</th>\n",
       "      <th>Parcelado</th>\n",
       "      <th>Transacao_Internacional</th>\n",
       "    </tr>\n",
       "  </thead>\n",
       "  <tbody>\n",
       "    <tr>\n",
       "      <th>0</th>\n",
       "      <td>T0001</td>\n",
       "      <td>2024-02-08</td>\n",
       "      <td>14:00</td>\n",
       "      <td>C010</td>\n",
       "      <td>1608.02</td>\n",
       "      <td>Transporte</td>\n",
       "      <td>Porto Alegre</td>\n",
       "      <td>Amex</td>\n",
       "      <td>Não</td>\n",
       "      <td>False</td>\n",
       "    </tr>\n",
       "    <tr>\n",
       "      <th>1</th>\n",
       "      <td>T0002</td>\n",
       "      <td>2024-02-09</td>\n",
       "      <td>23:00</td>\n",
       "      <td>C027</td>\n",
       "      <td>872.69</td>\n",
       "      <td>Restaurante</td>\n",
       "      <td>Campinas</td>\n",
       "      <td>Mastercard</td>\n",
       "      <td>Não</td>\n",
       "      <td>False</td>\n",
       "    </tr>\n",
       "    <tr>\n",
       "      <th>2</th>\n",
       "      <td>T0003</td>\n",
       "      <td>2024-02-07</td>\n",
       "      <td>09:30</td>\n",
       "      <td>C003</td>\n",
       "      <td>435.87</td>\n",
       "      <td>Restaurante</td>\n",
       "      <td>Campinas</td>\n",
       "      <td>Mastercard</td>\n",
       "      <td>Não</td>\n",
       "      <td>False</td>\n",
       "    </tr>\n",
       "    <tr>\n",
       "      <th>3</th>\n",
       "      <td>T0004</td>\n",
       "      <td>2024-02-15</td>\n",
       "      <td>23:30</td>\n",
       "      <td>C029</td>\n",
       "      <td>297.40</td>\n",
       "      <td>Supermercado</td>\n",
       "      <td>Fortaleza</td>\n",
       "      <td>Mastercard</td>\n",
       "      <td>Não</td>\n",
       "      <td>False</td>\n",
       "    </tr>\n",
       "    <tr>\n",
       "      <th>4</th>\n",
       "      <td>T0005</td>\n",
       "      <td>2024-02-24</td>\n",
       "      <td>12:30</td>\n",
       "      <td>C024</td>\n",
       "      <td>676.65</td>\n",
       "      <td>Supermercado</td>\n",
       "      <td>São Paulo</td>\n",
       "      <td>Mastercard</td>\n",
       "      <td>Sim</td>\n",
       "      <td>True</td>\n",
       "    </tr>\n",
       "  </tbody>\n",
       "</table>\n",
       "</div>"
      ],
      "text/plain": [
       "  ID_Transacao        Data   Hora Cliente_ID  Valor_R$     Categoria  \\\n",
       "0        T0001  2024-02-08  14:00       C010   1608.02    Transporte   \n",
       "1        T0002  2024-02-09  23:00       C027    872.69   Restaurante   \n",
       "2        T0003  2024-02-07  09:30       C003    435.87   Restaurante   \n",
       "3        T0004  2024-02-15  23:30       C029    297.40  Supermercado   \n",
       "4        T0005  2024-02-24  12:30       C024    676.65  Supermercado   \n",
       "\n",
       "         Cidade Bandeira_Cartao Parcelado  Transacao_Internacional  \n",
       "0  Porto Alegre            Amex       Não                    False  \n",
       "1      Campinas      Mastercard       Não                    False  \n",
       "2      Campinas      Mastercard       Não                    False  \n",
       "3     Fortaleza      Mastercard       Não                    False  \n",
       "4     São Paulo      Mastercard       Sim                     True  "
      ]
     },
     "execution_count": 3,
     "metadata": {},
     "output_type": "execute_result"
    }
   ],
   "source": [
    "df = pd.read_csv(\"dia_15_comportamento_consumo_cartao.csv\")\n",
    "df.head()"
   ]
  },
  {
   "cell_type": "code",
   "execution_count": 15,
   "id": "001007f1-b93d-4112-9a19-4283c42a8c31",
   "metadata": {},
   "outputs": [
    {
     "name": "stdout",
     "output_type": "stream",
     "text": [
      "Parcelado\n",
      "Não    R$ 983.7\n",
      "Sim    R$ 910.4\n"
     ]
    }
   ],
   "source": [
    "#Qual é o valor médio das transações parceladas versus à vista?\n",
    "valorParcela = df.groupby(\"Parcelado\")[\"Valor_R$\"].mean()\n",
    "print(valorParcela.apply(lambda x: f\"R$ {x:.1f}\").to_string())"
   ]
  },
  {
   "cell_type": "code",
   "execution_count": 19,
   "id": "e75fbf9e-7523-4aa9-89e4-c77da526969a",
   "metadata": {},
   "outputs": [
    {
     "name": "stdout",
     "output_type": "stream",
     "text": [
      "A categoria com o maior volume financeiro é 'Transporte', com um total de R$ 21116.92.\n"
     ]
    }
   ],
   "source": [
    "#Qual categoria representa o maior volume financeiro total?\n",
    "volumeCategoria = df.groupby(\"Categoria\")[\"Valor_R$\"].sum()\n",
    "print(f\"A categoria com o maior volume financeiro é '{volumeCategoria.idxmax()}', com um total de R$ {volumeCategoria.max():.2f}.\")"
   ]
  },
  {
   "cell_type": "code",
   "execution_count": 24,
   "id": "f2f8d887-ebb8-4c62-9e52-0ee4e4838069",
   "metadata": {},
   "outputs": [
    {
     "name": "stdout",
     "output_type": "stream",
     "text": [
      "Gasto médio por tipo de transação internacional: \n",
      "\n",
      "Transacao_Internacional\n",
      "False    R$ 963.5\n",
      "True     R$ 912.7\n"
     ]
    }
   ],
   "source": [
    "#Há diferença de gasto médio entre clientes que fizeram transações internacionais e os que não fizeram?\n",
    "mediaInternacional = df.groupby(\"Transacao_Internacional\")[\"Valor_R$\"].mean()\n",
    "print(f\"Gasto médio por tipo de transação internacional: \\n\\n{mediaInternacional.apply(lambda x: f\"R$ {x:.1f}\").to_string()}\")"
   ]
  },
  {
   "cell_type": "code",
   "execution_count": 28,
   "id": "ba2d3bec-ab2d-4a87-98f9-df3962d48698",
   "metadata": {},
   "outputs": [
    {
     "name": "stdout",
     "output_type": "stream",
     "text": [
      "Cidades com maior número de clientes únicos: \n",
      "\n",
      "Cidade\n",
      "Campinas        16\n",
      "Fortaleza       16\n",
      "Porto Alegre    16\n"
     ]
    }
   ],
   "source": [
    "#Quais são as 3 cidades com maior número de clientes únicos?\n",
    "clienteCidade = df.groupby(\"Cidade\")[\"Cliente_ID\"].nunique()\n",
    "print(f\"Cidades com maior número de clientes únicos: \\n\\n{clienteCidade.sort_values(ascending=False).head(3).to_string()}\")"
   ]
  },
  {
   "cell_type": "code",
   "execution_count": 34,
   "id": "e6e0115f-3ef3-4daf-b7ac-d07362f03169",
   "metadata": {},
   "outputs": [
    {
     "data": {
      "image/png": "[encoded data removed]",
      "text/plain": [
       "<Figure size 640x480 with 1 Axes>"
      ]
     },
     "metadata": {},
     "output_type": "display_data"
    }
   ],
   "source": [
    "#Crie um gráfico de barras mostrando o total gasto por bandeira do cartão (Bandeira_Cartao).\n",
    "gastoBandeira = df.groupby(\"Bandeira_Cartao\")[\"Valor_R$\"].sum().sort_values(ascending=False)\n",
    "sns.barplot(x=gastoBandeira.index, y=gastoBandeira.values)\n",
    "plt.title(\"Total Gasto por Bandeira do Cartão\")\n",
    "plt.ylabel(\"Total Gasto (R$)\")\n",
    "plt.show()"
   ]
  }
 ],
 "metadata": {
  "kernelspec": {
   "display_name": "Python 3 (ipykernel)",
   "language": "python",
   "name": "python3"
  },
  "language_info": {
   "codemirror_mode": {
    "name": "ipython",
    "version": 3
   },
   "file_extension": ".py",
   "mimetype": "text/x-python",
   "name": "python",
   "nbconvert_exporter": "python",
   "pygments_lexer": "ipython3",
   "version": "3.12.7"
  }
 },
 "nbformat": 4,
 "nbformat_minor": 5
}
