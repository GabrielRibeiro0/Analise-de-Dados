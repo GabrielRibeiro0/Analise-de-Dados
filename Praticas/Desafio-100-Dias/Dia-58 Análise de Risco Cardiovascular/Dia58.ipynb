{
 "cells": [
  {
   "cell_type": "markdown",
   "id": "9acba7c9-a099-488a-917f-af43c4b526ff",
   "metadata": {},
   "source": [
    "📊 Desafio 58 — Análise de Risco Cardiovascular\n",
    "📂 Dataset: Clique aqui para baixar o CSV\n",
    "\n",
    "Este conjunto de dados apresenta informações de pacientes, incluindo idade, IMC, nível de atividade física, tabagismo, colesterol e diagnóstico de hipertensão.\n",
    "\n",
    "🔍 Tarefas:\n",
    "\n",
    "Tratamento de Dados:\n",
    "- Há valores atípicos no IMC? Utilize uma visualização como boxplot para investigar.\n",
    "\n",
    "Análise Exploratória:\n",
    "- Qual é a média de colesterol entre fumantes e não fumantes? Existe diferença relevante?\n",
    "\n",
    "Visualização de Dados:\n",
    "- Crie um gráfico de barras comparando a taxa de hipertensão por faixa etária (por exemplo: <30, 30–45, 46–60, >60).\n",
    "\n",
    "Machine Learning:\n",
    "- Treine um modelo simples (LogisticRegression ou RandomForestClassifier) para prever o diagnóstico de hipertensão com base nas outras variáveis. Avalie com accuracy_score e classification_report."
   ]
  },
  {
   "cell_type": "code",
   "execution_count": 69,
   "id": "b8348f19-8cfa-46b2-9b16-00ae6ea95aa9",
   "metadata": {},
   "outputs": [],
   "source": [
    "import pandas as pd\n",
    "import seaborn as sns\n",
    "import matplotlib.pyplot as plt\n",
    "from sklearn.preprocessing import LabelEncoder\n",
    "from sklearn.model_selection import train_test_split\n",
    "from sklearn.metrics import accuracy_score, classification_report\n",
    "from sklearn.ensemble import RandomForestClassifier"
   ]
  },
  {
   "cell_type": "code",
   "execution_count": 65,
   "id": "db279996-59b8-475f-b598-f6b2642d75be",
   "metadata": {},
   "outputs": [
    {
     "data": {
      "text/html": [
       "<div>\n",
       "<style scoped>\n",
       "    .dataframe tbody tr th:only-of-type {\n",
       "        vertical-align: middle;\n",
       "    }\n",
       "\n",
       "    .dataframe tbody tr th {\n",
       "        vertical-align: top;\n",
       "    }\n",
       "\n",
       "    .dataframe thead th {\n",
       "        text-align: right;\n",
       "    }\n",
       "</style>\n",
       "<table border=\"1\" class=\"dataframe\">\n",
       "  <thead>\n",
       "    <tr style=\"text-align: right;\">\n",
       "      <th></th>\n",
       "      <th>Paciente_ID</th>\n",
       "      <th>Idade</th>\n",
       "      <th>Sexo</th>\n",
       "      <th>IMC</th>\n",
       "      <th>Atividade_Fisica_Semanal</th>\n",
       "      <th>Fumante</th>\n",
       "      <th>Colesterol</th>\n",
       "      <th>Diagnóstico_Hipertensão</th>\n",
       "    </tr>\n",
       "  </thead>\n",
       "  <tbody>\n",
       "    <tr>\n",
       "      <th>0</th>\n",
       "      <td>1</td>\n",
       "      <td>53</td>\n",
       "      <td>Masculino</td>\n",
       "      <td>23.7</td>\n",
       "      <td>4</td>\n",
       "      <td>Não</td>\n",
       "      <td>161.6</td>\n",
       "      <td>Sim</td>\n",
       "    </tr>\n",
       "    <tr>\n",
       "      <th>1</th>\n",
       "      <td>2</td>\n",
       "      <td>50</td>\n",
       "      <td>Feminino</td>\n",
       "      <td>27.0</td>\n",
       "      <td>2</td>\n",
       "      <td>Sim</td>\n",
       "      <td>151.5</td>\n",
       "      <td>Não</td>\n",
       "    </tr>\n",
       "    <tr>\n",
       "      <th>2</th>\n",
       "      <td>3</td>\n",
       "      <td>41</td>\n",
       "      <td>Masculino</td>\n",
       "      <td>24.5</td>\n",
       "      <td>4</td>\n",
       "      <td>Não</td>\n",
       "      <td>219.7</td>\n",
       "      <td>Sim</td>\n",
       "    </tr>\n",
       "    <tr>\n",
       "      <th>3</th>\n",
       "      <td>4</td>\n",
       "      <td>43</td>\n",
       "      <td>Feminino</td>\n",
       "      <td>26.6</td>\n",
       "      <td>5</td>\n",
       "      <td>Não</td>\n",
       "      <td>202.3</td>\n",
       "      <td>Não</td>\n",
       "    </tr>\n",
       "    <tr>\n",
       "      <th>4</th>\n",
       "      <td>5</td>\n",
       "      <td>32</td>\n",
       "      <td>Feminino</td>\n",
       "      <td>35.2</td>\n",
       "      <td>2</td>\n",
       "      <td>Não</td>\n",
       "      <td>174.1</td>\n",
       "      <td>Não</td>\n",
       "    </tr>\n",
       "  </tbody>\n",
       "</table>\n",
       "</div>"
      ],
      "text/plain": [
       "   Paciente_ID  Idade       Sexo   IMC  Atividade_Fisica_Semanal Fumante  \\\n",
       "0            1     53  Masculino  23.7                         4     Não   \n",
       "1            2     50   Feminino  27.0                         2     Sim   \n",
       "2            3     41  Masculino  24.5                         4     Não   \n",
       "3            4     43   Feminino  26.6                         5     Não   \n",
       "4            5     32   Feminino  35.2                         2     Não   \n",
       "\n",
       "   Colesterol Diagnóstico_Hipertensão  \n",
       "0       161.6                     Sim  \n",
       "1       151.5                     Não  \n",
       "2       219.7                     Sim  \n",
       "3       202.3                     Não  \n",
       "4       174.1                     Não  "
      ]
     },
     "execution_count": 65,
     "metadata": {},
     "output_type": "execute_result"
    }
   ],
   "source": [
    "df = pd.read_csv(\"dia_58_saude_pacientes.csv\")\n",
    "df.head()"
   ]
  },
  {
   "cell_type": "code",
   "execution_count": 14,
   "id": "d79b34d4-e850-46e6-bd21-39a8ae3e70c7",
   "metadata": {},
   "outputs": [
    {
     "data": {
      "image/png": "[encoded data removed]",
      "text/plain": [
       "<Figure size 640x480 with 1 Axes>"
      ]
     },
     "metadata": {},
     "output_type": "display_data"
    },
    {
     "data": {
      "text/plain": [
       "count    250.000000\n",
       "mean      26.276400\n",
       "std        4.899074\n",
       "min       13.100000\n",
       "25%       22.825000\n",
       "50%       26.600000\n",
       "75%       29.575000\n",
       "max       38.800000\n",
       "Name: IMC, dtype: float64"
      ]
     },
     "execution_count": 14,
     "metadata": {},
     "output_type": "execute_result"
    }
   ],
   "source": [
    "#Há valores atípicos no IMC? Utilize uma visualização como boxplot para investigar.\n",
    "sns.boxplot(df, x=\"IMC\")\n",
    "plt.title('Boxplot do IMC')\n",
    "plt.show()\n",
    "\n",
    "df[\"IMC\"].describe()"
   ]
  },
  {
   "cell_type": "code",
   "execution_count": 19,
   "id": "bb688be7-330b-4e4a-a74a-96bff65c8a0b",
   "metadata": {},
   "outputs": [
    {
     "name": "stdout",
     "output_type": "stream",
     "text": [
      "Fumante\n",
      "Não    199.57\n",
      "Sim    189.53\n",
      "Name: Colesterol, dtype: float64\n"
     ]
    }
   ],
   "source": [
    "#Qual é a média de colesterol entre fumantes e não fumantes? Existe diferença relevante?\n",
    "colesterol_media = df.groupby(\"Fumante\")[\"Colesterol\"].mean().round(2)\n",
    "print(colesterol_media)"
   ]
  },
  {
   "cell_type": "code",
   "execution_count": 67,
   "id": "f1daea1e-adda-4907-9322-42aa6fb2a092",
   "metadata": {},
   "outputs": [
    {
     "name": "stdout",
     "output_type": "stream",
     "text": [
      "Diagnóstico_Hipertensão       Não       Sim\n",
      "Faixas_idade                               \n",
      "<30                      0.692308  0.307692\n",
      "30–45                    0.650000  0.350000\n",
      "46–60                    0.688525  0.311475\n",
      ">60                      0.675325  0.324675\n"
     ]
    },
    {
     "name": "stderr",
     "output_type": "stream",
     "text": [
      "C:\\Users\\gabri\\AppData\\Local\\Temp\\ipykernel_12832\\1883019465.py:3: FutureWarning: The default of observed=False is deprecated and will be changed to True in a future version of pandas. Pass observed=False to retain current behavior or observed=True to adopt the future default and silence this warning.\n",
      "  taxa_hipertensao = df.groupby(\"Faixas_idade\")[\"Diagnóstico_Hipertensão\"].value_counts(normalize=True).unstack()\n"
     ]
    },
    {
     "data": {
      "image/png": "[encoded data removed]",
      "text/plain": [
       "<Figure size 640x480 with 1 Axes>"
      ]
     },
     "metadata": {},
     "output_type": "display_data"
    },
    {
     "data": {
      "text/html": [
       "<div>\n",
       "<style scoped>\n",
       "    .dataframe tbody tr th:only-of-type {\n",
       "        vertical-align: middle;\n",
       "    }\n",
       "\n",
       "    .dataframe tbody tr th {\n",
       "        vertical-align: top;\n",
       "    }\n",
       "\n",
       "    .dataframe thead th {\n",
       "        text-align: right;\n",
       "    }\n",
       "</style>\n",
       "<table border=\"1\" class=\"dataframe\">\n",
       "  <thead>\n",
       "    <tr style=\"text-align: right;\">\n",
       "      <th></th>\n",
       "      <th>Paciente_ID</th>\n",
       "      <th>Idade</th>\n",
       "      <th>Sexo</th>\n",
       "      <th>IMC</th>\n",
       "      <th>Atividade_Fisica_Semanal</th>\n",
       "      <th>Fumante</th>\n",
       "      <th>Colesterol</th>\n",
       "      <th>Diagnóstico_Hipertensão</th>\n",
       "      <th>Faixas_idade</th>\n",
       "    </tr>\n",
       "  </thead>\n",
       "  <tbody>\n",
       "    <tr>\n",
       "      <th>0</th>\n",
       "      <td>1</td>\n",
       "      <td>53</td>\n",
       "      <td>Masculino</td>\n",
       "      <td>23.7</td>\n",
       "      <td>4</td>\n",
       "      <td>Não</td>\n",
       "      <td>161.6</td>\n",
       "      <td>Sim</td>\n",
       "      <td>46–60</td>\n",
       "    </tr>\n",
       "    <tr>\n",
       "      <th>1</th>\n",
       "      <td>2</td>\n",
       "      <td>50</td>\n",
       "      <td>Feminino</td>\n",
       "      <td>27.0</td>\n",
       "      <td>2</td>\n",
       "      <td>Sim</td>\n",
       "      <td>151.5</td>\n",
       "      <td>Não</td>\n",
       "      <td>46–60</td>\n",
       "    </tr>\n",
       "    <tr>\n",
       "      <th>2</th>\n",
       "      <td>3</td>\n",
       "      <td>41</td>\n",
       "      <td>Masculino</td>\n",
       "      <td>24.5</td>\n",
       "      <td>4</td>\n",
       "      <td>Não</td>\n",
       "      <td>219.7</td>\n",
       "      <td>Sim</td>\n",
       "      <td>30–45</td>\n",
       "    </tr>\n",
       "    <tr>\n",
       "      <th>3</th>\n",
       "      <td>4</td>\n",
       "      <td>43</td>\n",
       "      <td>Feminino</td>\n",
       "      <td>26.6</td>\n",
       "      <td>5</td>\n",
       "      <td>Não</td>\n",
       "      <td>202.3</td>\n",
       "      <td>Não</td>\n",
       "      <td>30–45</td>\n",
       "    </tr>\n",
       "    <tr>\n",
       "      <th>4</th>\n",
       "      <td>5</td>\n",
       "      <td>32</td>\n",
       "      <td>Feminino</td>\n",
       "      <td>35.2</td>\n",
       "      <td>2</td>\n",
       "      <td>Não</td>\n",
       "      <td>174.1</td>\n",
       "      <td>Não</td>\n",
       "      <td>30–45</td>\n",
       "    </tr>\n",
       "  </tbody>\n",
       "</table>\n",
       "</div>"
      ],
      "text/plain": [
       "   Paciente_ID  Idade       Sexo   IMC  Atividade_Fisica_Semanal Fumante  \\\n",
       "0            1     53  Masculino  23.7                         4     Não   \n",
       "1            2     50   Feminino  27.0                         2     Sim   \n",
       "2            3     41  Masculino  24.5                         4     Não   \n",
       "3            4     43   Feminino  26.6                         5     Não   \n",
       "4            5     32   Feminino  35.2                         2     Não   \n",
       "\n",
       "   Colesterol Diagnóstico_Hipertensão Faixas_idade  \n",
       "0       161.6                     Sim        46–60  \n",
       "1       151.5                     Não        46–60  \n",
       "2       219.7                     Sim        30–45  \n",
       "3       202.3                     Não        30–45  \n",
       "4       174.1                     Não        30–45  "
      ]
     },
     "execution_count": 67,
     "metadata": {},
     "output_type": "execute_result"
    }
   ],
   "source": [
    "#Crie um gráfico de barras comparando a taxa de hipertensão por faixa etária (por exemplo: <30, 30–45, 46–60, >60).\n",
    "df[\"Faixas_idade\"] = pd.cut(df[\"Idade\"], bins=[0, 30, 45, 60, 200], labels=[\"<30\", \"30–45\", \"46–60\", \">60\"])\n",
    "taxa_hipertensao = df.groupby(\"Faixas_idade\")[\"Diagnóstico_Hipertensão\"].value_counts(normalize=True).unstack()\n",
    "print(hipertensao_taxa)\n",
    "\n",
    "taxa_hipertensao[\"Sim\"].plot(kind=\"bar\")\n",
    "plt.title(\"Taxa de Hipertensão por Faixa Etária\")\n",
    "plt.ylabel(\"Proporção de Hipertensos\")\n",
    "plt.xlabel(\"Faixa Etária\")\n",
    "plt.show()"
   ]
  },
  {
   "cell_type": "code",
   "execution_count": 71,
   "id": "9551d4b4-26cc-42ed-a784-504302f1b875",
   "metadata": {},
   "outputs": [
    {
     "name": "stdout",
     "output_type": "stream",
     "text": [
      "Acurácia: 0.7333333333333333\n",
      "              precision    recall  f1-score   support\n",
      "\n",
      "           0       0.82      0.84      0.83        58\n",
      "           1       0.40      0.35      0.38        17\n",
      "\n",
      "    accuracy                           0.73        75\n",
      "   macro avg       0.61      0.60      0.60        75\n",
      "weighted avg       0.72      0.73      0.73        75\n",
      "\n"
     ]
    }
   ],
   "source": [
    "#Treine um modelo simples (LogisticRegression ou RandomForestClassifier) para prever o diagnóstico de hipertensão com base nas outras variáveis. \n",
    "#Avalie com accuracy_score e classification_report.\n",
    "\n",
    "le = LabelEncoder()\n",
    "for col in [\"Sexo\", \"Fumante\", \"Diagnóstico_Hipertensão\"]:\n",
    "    df[col] = le.fit_transform(df[col])\n",
    "\n",
    "X = df.drop([\"Diagnóstico_Hipertensão\", \"Paciente_ID\", \"Faixas_idade\"], axis=1)\n",
    "y = df[\"Diagnóstico_Hipertensão\"]\n",
    "\n",
    "X_train, X_test, y_train, y_test = train_test_split(X, y, test_size=0.3, random_state=42)\n",
    "\n",
    "model = RandomForestClassifier(random_state=42)\n",
    "model.fit(X_train, y_train)\n",
    "\n",
    "y_pred = model.predict(X_test)\n",
    "print(f\"Acurácia: {accuracy_score(y_test, y_pred)}\")\n",
    "print(classification_report(y_test, y_pred))"
   ]
  },
  {
   "cell_type": "code",
   "execution_count": null,
   "id": "2eb84437-df69-4cbd-8e1d-ff794daac3b3",
   "metadata": {},
   "outputs": [],
   "source": []
  }
 ],
 "metadata": {
  "kernelspec": {
   "display_name": "Python 3 (ipykernel)",
   "language": "python",
   "name": "python3"
  },
  "language_info": {
   "codemirror_mode": {
    "name": "ipython",
    "version": 3
   },
   "file_extension": ".py",
   "mimetype": "text/x-python",
   "name": "python",
   "nbconvert_exporter": "python",
   "pygments_lexer": "ipython3",
   "version": "3.12.7"
  }
 },
 "nbformat": 4,
 "nbformat_minor": 5
}
