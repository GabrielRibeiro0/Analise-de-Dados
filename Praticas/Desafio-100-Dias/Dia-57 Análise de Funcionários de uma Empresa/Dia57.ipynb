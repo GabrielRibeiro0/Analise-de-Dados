{
 "cells": [
  {
   "cell_type": "markdown",
   "id": "510a3759-c1d2-46ab-a525-d582adff0a03",
   "metadata": {},
   "source": [
    "📊 Desafio 57 — Análise de Funcionários de uma Empresa\n",
    "📂 Dataset: dia_57_funcionarios.csv\n",
    "\n",
    "Este conjunto de dados contém informações de 250 funcionários, como idade, setor, tempo de empresa, satisfação, salário, regime de trabalho e se houve demissão.\n",
    "\n",
    "🔍 Tarefas:\n",
    "\n",
    "- Qual é o percentual de funcionários demitidos na empresa?\n",
    "\n",
    "- Qual setor apresenta a maior média salarial?\n",
    "\n",
    "- Existe diferença na média de satisfação entre quem trabalha em home office e quem não trabalha?\n",
    "\n",
    "Treine um modelo de classificação para prever se um funcionário será demitido. Sugestões:\n",
    "\n",
    "- Use LogisticRegression ou RandomForestClassifier\n",
    "\n",
    "- Aplique train_test_split\n",
    "\n",
    "- Avalie com accuracy_score e classification_report\n",
    "\n",
    "- Quais variáveis mais influenciaram o modelo?\n",
    "\n"
   ]
  },
  {
   "cell_type": "code",
   "execution_count": 23,
   "id": "e85f6cd2-c54a-4e17-8534-7e708c1d9326",
   "metadata": {},
   "outputs": [],
   "source": [
    "import pandas as pd\n",
    "import seaborn as sns\n",
    "import matplotlib.pyplot as plt\n",
    "from sklearn.preprocessing import LabelEncoder\n",
    "from sklearn.ensemble import RandomForestClassifier\n",
    "from sklearn.model_selection import train_test_split\n",
    "from sklearn.metrics import accuracy_score, classification_report"
   ]
  },
  {
   "cell_type": "code",
   "execution_count": 6,
   "id": "ac5137fe-a96a-46ef-ba8e-ecb04627ed2e",
   "metadata": {},
   "outputs": [
    {
     "data": {
      "text/html": [
       "<div>\n",
       "<style scoped>\n",
       "    .dataframe tbody tr th:only-of-type {\n",
       "        vertical-align: middle;\n",
       "    }\n",
       "\n",
       "    .dataframe tbody tr th {\n",
       "        vertical-align: top;\n",
       "    }\n",
       "\n",
       "    .dataframe thead th {\n",
       "        text-align: right;\n",
       "    }\n",
       "</style>\n",
       "<table border=\"1\" class=\"dataframe\">\n",
       "  <thead>\n",
       "    <tr style=\"text-align: right;\">\n",
       "      <th></th>\n",
       "      <th>id_funcionario</th>\n",
       "      <th>idade</th>\n",
       "      <th>setor</th>\n",
       "      <th>anos_empresa</th>\n",
       "      <th>satisfacao</th>\n",
       "      <th>salario_mensal</th>\n",
       "      <th>home_office</th>\n",
       "      <th>demitido</th>\n",
       "    </tr>\n",
       "  </thead>\n",
       "  <tbody>\n",
       "    <tr>\n",
       "      <th>0</th>\n",
       "      <td>1</td>\n",
       "      <td>36</td>\n",
       "      <td>Marketing</td>\n",
       "      <td>8.7</td>\n",
       "      <td>2.5</td>\n",
       "      <td>4116</td>\n",
       "      <td>Sim</td>\n",
       "      <td>0</td>\n",
       "    </tr>\n",
       "    <tr>\n",
       "      <th>1</th>\n",
       "      <td>2</td>\n",
       "      <td>43</td>\n",
       "      <td>RH</td>\n",
       "      <td>2.5</td>\n",
       "      <td>1.9</td>\n",
       "      <td>11788</td>\n",
       "      <td>Sim</td>\n",
       "      <td>0</td>\n",
       "    </tr>\n",
       "    <tr>\n",
       "      <th>2</th>\n",
       "      <td>3</td>\n",
       "      <td>26</td>\n",
       "      <td>TI</td>\n",
       "      <td>9.4</td>\n",
       "      <td>4.8</td>\n",
       "      <td>8437</td>\n",
       "      <td>Sim</td>\n",
       "      <td>0</td>\n",
       "    </tr>\n",
       "    <tr>\n",
       "      <th>3</th>\n",
       "      <td>4</td>\n",
       "      <td>43</td>\n",
       "      <td>RH</td>\n",
       "      <td>3.8</td>\n",
       "      <td>2.7</td>\n",
       "      <td>11260</td>\n",
       "      <td>Não</td>\n",
       "      <td>0</td>\n",
       "    </tr>\n",
       "    <tr>\n",
       "      <th>4</th>\n",
       "      <td>5</td>\n",
       "      <td>36</td>\n",
       "      <td>TI</td>\n",
       "      <td>14.0</td>\n",
       "      <td>4.7</td>\n",
       "      <td>2607</td>\n",
       "      <td>Sim</td>\n",
       "      <td>0</td>\n",
       "    </tr>\n",
       "  </tbody>\n",
       "</table>\n",
       "</div>"
      ],
      "text/plain": [
       "   id_funcionario  idade      setor  anos_empresa  satisfacao  salario_mensal  \\\n",
       "0               1     36  Marketing           8.7         2.5            4116   \n",
       "1               2     43         RH           2.5         1.9           11788   \n",
       "2               3     26         TI           9.4         4.8            8437   \n",
       "3               4     43         RH           3.8         2.7           11260   \n",
       "4               5     36         TI          14.0         4.7            2607   \n",
       "\n",
       "  home_office  demitido  \n",
       "0         Sim         0  \n",
       "1         Sim         0  \n",
       "2         Sim         0  \n",
       "3         Não         0  \n",
       "4         Sim         0  "
      ]
     },
     "execution_count": 6,
     "metadata": {},
     "output_type": "execute_result"
    }
   ],
   "source": [
    "df = pd.read_csv(\"dia_57_funcionarios.csv\")\n",
    "df.head()"
   ]
  },
  {
   "cell_type": "code",
   "execution_count": 17,
   "id": "e8b9e7ef-9d1f-4cff-8341-50b820f2cdd1",
   "metadata": {},
   "outputs": [
    {
     "name": "stdout",
     "output_type": "stream",
     "text": [
      "18.0%\n"
     ]
    }
   ],
   "source": [
    "#Qual é o percentual de funcionários demitidos na empresa?\n",
    "percent_demitidos = df[\"demitido\"].value_counts(normalize=True) * 100\n",
    "print(percent_demitidos.apply(lambda x: f\"{x}%\")[1])"
   ]
  },
  {
   "cell_type": "code",
   "execution_count": 20,
   "id": "bdde9ef0-0222-4bd3-bfc9-9c59ab1ba576",
   "metadata": {},
   "outputs": [
    {
     "name": "stdout",
     "output_type": "stream",
     "text": [
      "setor\n",
      "Marketing     7561.097561\n",
      "Operações     7349.255814\n",
      "RH            7307.560000\n",
      "TI            7298.033333\n",
      "Financeiro    6899.017857\n",
      "Name: salario_mensal, dtype: float64\n"
     ]
    }
   ],
   "source": [
    "#Qual setor apresenta a maior média salarial?\n",
    "setor_media_salario = df.groupby(\"setor\")[\"salario_mensal\"].mean().sort_values(ascending=False)\n",
    "print(setor_media_salario)"
   ]
  },
  {
   "cell_type": "code",
   "execution_count": 21,
   "id": "2d157936-3551-4b63-9f6e-bf7302e6663c",
   "metadata": {},
   "outputs": [
    {
     "name": "stdout",
     "output_type": "stream",
     "text": [
      "home_office\n",
      "Não    3.053390\n",
      "Sim    3.118182\n",
      "Name: satisfacao, dtype: float64\n"
     ]
    }
   ],
   "source": [
    "#Existe diferença na média de satisfação entre quem trabalha em home office e quem não trabalha?\n",
    "media_satisfacao_homeoffice = df.groupby(\"home_office\")[\"satisfacao\"].mean()\n",
    "print(media_satisfacao_homeoffice)"
   ]
  },
  {
   "cell_type": "code",
   "execution_count": 34,
   "id": "46a313a0-5922-44cd-84fa-e5e3eb8ef6c8",
   "metadata": {},
   "outputs": [
    {
     "name": "stdout",
     "output_type": "stream",
     "text": [
      "Acurácia: 0.7866666666666666\n",
      "              precision    recall  f1-score   support\n",
      "\n",
      "           0       0.79      1.00      0.88        59\n",
      "           1       0.00      0.00      0.00        16\n",
      "\n",
      "    accuracy                           0.79        75\n",
      "   macro avg       0.39      0.50      0.44        75\n",
      "weighted avg       0.62      0.79      0.69        75\n",
      "\n",
      "         variavel  importancia\n",
      "5  salario_mensal     0.205213\n",
      "0  id_funcionario     0.194236\n",
      "4      satisfacao     0.179041\n",
      "3    anos_empresa     0.172620\n",
      "1           idade     0.153907\n",
      "2           setor     0.074198\n",
      "6     home_office     0.020785\n"
     ]
    }
   ],
   "source": [
    "#Treine um modelo de classificação para prever se um funcionário será demitido. Sugestões:\n",
    "le_setor = LabelEncoder()\n",
    "le_homeoffice = LabelEncoder()\n",
    "\n",
    "df[\"setor\"] = le_setor.fit_transform(df[\"setor\"])\n",
    "df[\"home_office\"] = le_homeoffice.fit_transform(df[\"home_office\"])\n",
    "\n",
    "X = df.drop([\"demitido\"], axis=1)\n",
    "y = df[\"demitido\"]\n",
    "\n",
    "X_train, X_test, y_train, y_test = train_test_split(X, y, test_size=0.3, random_state=42)\n",
    "\n",
    "model = RandomForestClassifier(random_state=42)\n",
    "model.fit(X_train, y_train)\n",
    "\n",
    "y_pred = model.predict(X_test)\n",
    "print(f\"Acurácia: {accuracy_score(y_test, y_pred)}\")\n",
    "print(classification_report(y_test, y_pred, zero_division=0))\n",
    "\n",
    "importancias = pd.DataFrame({\"variavel\": X.columns, \"importancia\": model.feature_importances_})\n",
    "print(importancias.sort_values(\"importancia\", ascending=False))"
   ]
  },
  {
   "cell_type": "code",
   "execution_count": null,
   "id": "4a768d76-83ac-44d9-866d-dbaebb62f8d7",
   "metadata": {},
   "outputs": [],
   "source": []
  }
 ],
 "metadata": {
  "kernelspec": {
   "display_name": "Python 3 (ipykernel)",
   "language": "python",
   "name": "python3"
  },
  "language_info": {
   "codemirror_mode": {
    "name": "ipython",
    "version": 3
   },
   "file_extension": ".py",
   "mimetype": "text/x-python",
   "name": "python",
   "nbconvert_exporter": "python",
   "pygments_lexer": "ipython3",
   "version": "3.12.7"
  }
 },
 "nbformat": 4,
 "nbformat_minor": 5
}
