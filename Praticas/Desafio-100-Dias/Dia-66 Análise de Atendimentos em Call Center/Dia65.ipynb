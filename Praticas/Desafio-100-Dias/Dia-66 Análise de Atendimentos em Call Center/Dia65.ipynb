{
 "cells": [
  {
   "cell_type": "markdown",
   "id": "71dc134c-a765-443e-abb1-09fd107b3c32",
   "metadata": {},
   "source": [
    "🎯 Desafio dia 66 — Análise de Atendimentos em Call Center\n",
    "\n",
    "📂 Dataset: desafio_dia_66_callcenter.csv\n",
    "📥 Clique aqui para baixar o CSV\n",
    "\n",
    "🔍 Contexto:\n",
    "Você trabalha no setor de qualidade de um call center e recebeu os registros de atendimento dos últimos meses. Cada linha representa uma chamada realizada, com informações sobre a data, duração, tipo e a nota de satisfação do cliente (de 1 a 5).\n",
    "\n",
    "🛠️ Tarefas do desafio:\n",
    "\n",
    "Tratamento de dados\n",
    "\n",
    "- Preencha os valores ausentes na coluna duracao_minutos com a média da coluna.\n",
    "\n",
    "Análise geral\n",
    "\n",
    "- Qual o tipo de chamada mais comum?\n",
    "\n",
    "- Calcule a duração média das chamadas por tipo.\n",
    "\n",
    "Visualização de dados\n",
    "\n",
    "- Crie um gráfico de pizza mostrando a proporção de tipos de chamadas.\n",
    "\n",
    "Machine Learning - Classificação\n",
    "\n",
    "- Crie um modelo de classificação (como RandomForestClassifier) para prever o nível de satisfação (satisfacao) com base em duracao_minutos e tipo_chamada (após converter para numérico com pd.get_dummies).\n",
    "\n",
    "- Avalie a acurácia do modelo com accuracy_score.\n",
    "\n"
   ]
  },
  {
   "cell_type": "code",
   "execution_count": 34,
   "id": "45d23c76-0d51-4af6-9d93-7529d349a7d0",
   "metadata": {},
   "outputs": [],
   "source": [
    "import pandas as pd\n",
    "import seaborn as sns\n",
    "import matplotlib.pyplot as plt\n",
    "from sklearn.ensemble import RandomForestClassifier\n",
    "from sklearn.model_selection import train_test_split\n",
    "from sklearn.metrics import accuracy_score, classification_report"
   ]
  },
  {
   "cell_type": "code",
   "execution_count": 24,
   "id": "1c8567c7-f31b-46cd-b138-cfb950b7a845",
   "metadata": {},
   "outputs": [
    {
     "data": {
      "text/html": [
       "<div>\n",
       "<style scoped>\n",
       "    .dataframe tbody tr th:only-of-type {\n",
       "        vertical-align: middle;\n",
       "    }\n",
       "\n",
       "    .dataframe tbody tr th {\n",
       "        vertical-align: top;\n",
       "    }\n",
       "\n",
       "    .dataframe thead th {\n",
       "        text-align: right;\n",
       "    }\n",
       "</style>\n",
       "<table border=\"1\" class=\"dataframe\">\n",
       "  <thead>\n",
       "    <tr style=\"text-align: right;\">\n",
       "      <th></th>\n",
       "      <th>id</th>\n",
       "      <th>data_chamada</th>\n",
       "      <th>duracao_minutos</th>\n",
       "      <th>tipo_chamada</th>\n",
       "      <th>satisfacao</th>\n",
       "    </tr>\n",
       "  </thead>\n",
       "  <tbody>\n",
       "    <tr>\n",
       "      <th>0</th>\n",
       "      <td>1</td>\n",
       "      <td>2024-01-01</td>\n",
       "      <td>1.7</td>\n",
       "      <td>Outros</td>\n",
       "      <td>1.0</td>\n",
       "    </tr>\n",
       "    <tr>\n",
       "      <th>1</th>\n",
       "      <td>2</td>\n",
       "      <td>2024-01-02</td>\n",
       "      <td>1.4</td>\n",
       "      <td>Cancelamento</td>\n",
       "      <td>2.0</td>\n",
       "    </tr>\n",
       "    <tr>\n",
       "      <th>2</th>\n",
       "      <td>3</td>\n",
       "      <td>2024-01-03</td>\n",
       "      <td>4.5</td>\n",
       "      <td>Suporte Técnico</td>\n",
       "      <td>3.0</td>\n",
       "    </tr>\n",
       "    <tr>\n",
       "      <th>3</th>\n",
       "      <td>4</td>\n",
       "      <td>2024-01-04</td>\n",
       "      <td>11.4</td>\n",
       "      <td>Outros</td>\n",
       "      <td>3.0</td>\n",
       "    </tr>\n",
       "    <tr>\n",
       "      <th>4</th>\n",
       "      <td>5</td>\n",
       "      <td>2024-01-05</td>\n",
       "      <td>2.2</td>\n",
       "      <td>Suporte Técnico</td>\n",
       "      <td>2.0</td>\n",
       "    </tr>\n",
       "  </tbody>\n",
       "</table>\n",
       "</div>"
      ],
      "text/plain": [
       "   id data_chamada  duracao_minutos     tipo_chamada  satisfacao\n",
       "0   1   2024-01-01              1.7           Outros         1.0\n",
       "1   2   2024-01-02              1.4     Cancelamento         2.0\n",
       "2   3   2024-01-03              4.5  Suporte Técnico         3.0\n",
       "3   4   2024-01-04             11.4           Outros         3.0\n",
       "4   5   2024-01-05              2.2  Suporte Técnico         2.0"
      ]
     },
     "execution_count": 24,
     "metadata": {},
     "output_type": "execute_result"
    }
   ],
   "source": [
    "df = pd.read_csv(\"desafio_dia_66_callcenter.csv\")\n",
    "df.head()"
   ]
  },
  {
   "cell_type": "code",
   "execution_count": 25,
   "id": "c7bad0b0-2475-47cb-8c73-7cbcc94bf94f",
   "metadata": {},
   "outputs": [
    {
     "name": "stdout",
     "output_type": "stream",
     "text": [
      "<class 'pandas.core.frame.DataFrame'>\n",
      "RangeIndex: 250 entries, 0 to 249\n",
      "Data columns (total 5 columns):\n",
      " #   Column           Non-Null Count  Dtype  \n",
      "---  ------           --------------  -----  \n",
      " 0   id               250 non-null    int64  \n",
      " 1   data_chamada     250 non-null    object \n",
      " 2   duracao_minutos  250 non-null    float64\n",
      " 3   tipo_chamada     250 non-null    object \n",
      " 4   satisfacao       250 non-null    float64\n",
      "dtypes: float64(2), int64(1), object(2)\n",
      "memory usage: 9.9+ KB\n"
     ]
    }
   ],
   "source": [
    "#Preencha os valores ausentes na coluna duracao_minutos com a média da coluna.\n",
    "df[\"duracao_minutos\"] = pd.to_numeric(df[\"duracao_minutos\"], errors=\"coerce\")\n",
    "df[\"duracao_minutos\"] = df[\"duracao_minutos\"].fillna(df[\"duracao_minutos\"].mean())\n",
    "\n",
    "df[\"satisfacao\"] = pd.to_numeric(df[\"satisfacao\"], errors=\"coerce\")\n",
    "df[\"satisfacao\"] = df[\"satisfacao\"].fillna(df[\"satisfacao\"].mode()[0])\n",
    "df.info()"
   ]
  },
  {
   "cell_type": "code",
   "execution_count": 26,
   "id": "c2f670be-dae3-4baf-8cac-1eab35d53648",
   "metadata": {},
   "outputs": [
    {
     "name": "stdout",
     "output_type": "stream",
     "text": [
      "tipo_chamada\n",
      "Suporte Técnico    80\n",
      "Outros             73\n",
      "Financeiro         49\n",
      "Cancelamento       48\n",
      "Name: count, dtype: int64\n"
     ]
    }
   ],
   "source": [
    "#Qual o tipo de chamada mais comum?\n",
    "chamada_comum = df[\"tipo_chamada\"].value_counts()\n",
    "print(chamada_comum)"
   ]
  },
  {
   "cell_type": "code",
   "execution_count": 27,
   "id": "8e3f3fcd-c477-4dd4-b321-6beef2c661ab",
   "metadata": {},
   "outputs": [
    {
     "name": "stdout",
     "output_type": "stream",
     "text": [
      "tipo_chamada\n",
      "Cancelamento        7.319271\n",
      "Financeiro         10.845918\n",
      "Outros              8.971575\n",
      "Suporte Técnico     9.606875\n",
      "Name: duracao_minutos, dtype: float64\n"
     ]
    }
   ],
   "source": [
    "#Calcule a duração média das chamadas por tipo.\n",
    "duracao_chamadas_media = df.groupby(\"tipo_chamada\")[\"duracao_minutos\"].mean()\n",
    "print(duracao_chamadas_media)"
   ]
  },
  {
   "cell_type": "code",
   "execution_count": 33,
   "id": "32dd2357-38d3-4a1b-9444-a4993cbb4363",
   "metadata": {},
   "outputs": [
    {
     "data": {
      "image/png": "[encoded data removed]",
      "text/plain": [
       "<Figure size 640x480 with 1 Axes>"
      ]
     },
     "metadata": {},
     "output_type": "display_data"
    }
   ],
   "source": [
    "#Crie um gráfico de pizza mostrando a proporção de tipos de chamadas.\n",
    "chamada_comum.plot.pie(autopct='%1.1f%%', startangle=90)\n",
    "plt.title('Distribuição dos Tipos de Chamada')\n",
    "plt.show()"
   ]
  },
  {
   "cell_type": "code",
   "execution_count": 43,
   "id": "d6b68b02-9f04-4c25-b58c-77f20f86a01a",
   "metadata": {},
   "outputs": [
    {
     "name": "stdout",
     "output_type": "stream",
     "text": [
      "0.3333333333333333\n",
      "              precision    recall  f1-score   support\n",
      "\n",
      "         1.0       0.17      0.33      0.22         3\n",
      "         2.0       0.38      0.19      0.25        16\n",
      "         3.0       0.40      0.65      0.50        26\n",
      "         4.0       0.21      0.15      0.18        20\n",
      "         5.0       0.20      0.10      0.13        10\n",
      "\n",
      "    accuracy                           0.33        75\n",
      "   macro avg       0.27      0.28      0.26        75\n",
      "weighted avg       0.31      0.33      0.30        75\n",
      "\n"
     ]
    }
   ],
   "source": [
    "#Crie um modelo de classificação para prever o nível de satisfação com base em duracao_minutos e tipo_chamada.\n",
    "df_model = pd.get_dummies(df, columns=['tipo_chamada'], drop_first=True)\n",
    "\n",
    "X = df_model.drop([\"data_chamada\", \"satisfacao\"], axis=1)\n",
    "y = df_model[\"satisfacao\"]\n",
    "\n",
    "X_train, X_test, y_train, y_test = train_test_split(X, y, test_size=0.3, random_state=42)\n",
    "\n",
    "model = RandomForestClassifier(random_state=42)\n",
    "model.fit(X_train, y_train)\n",
    "\n",
    "y_pred = model.predict(X_test)\n",
    "print(accuracy_score(y_test, y_pred))\n",
    "print(classification_report(y_test, y_pred))"
   ]
  },
  {
   "cell_type": "code",
   "execution_count": null,
   "id": "802c9023-3cc9-4fc8-acab-233594c7bee7",
   "metadata": {},
   "outputs": [],
   "source": []
  }
 ],
 "metadata": {
  "kernelspec": {
   "display_name": "Python 3 (ipykernel)",
   "language": "python",
   "name": "python3"
  },
  "language_info": {
   "codemirror_mode": {
    "name": "ipython",
    "version": 3
   },
   "file_extension": ".py",
   "mimetype": "text/x-python",
   "name": "python",
   "nbconvert_exporter": "python",
   "pygments_lexer": "ipython3",
   "version": "3.12.7"
  }
 },
 "nbformat": 4,
 "nbformat_minor": 5
}
