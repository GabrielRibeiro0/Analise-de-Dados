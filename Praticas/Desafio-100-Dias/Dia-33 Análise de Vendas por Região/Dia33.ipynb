{
 "cells": [
  {
   "cell_type": "markdown",
   "id": "4abedade-26ca-4a03-8963-0f768aa537e2",
   "metadata": {},
   "source": [
    "Desafio 33: Análise de Vendas por Região\n",
    "\n",
    "📂 Dataset: Informações de vendas realizadas em diferentes regiões.\n",
    "Colunas: ID_Venda, Data_Venda, Produto, Região, Quantidade, Valor_Total\n",
    "\n",
    "🎯 Tarefas:\n",
    "\n",
    "Corrija os dados inconsistentes e ausentes nas colunas Região e Valor_Total.\n",
    "\n",
    "Calcule o total de vendas (Valor_Total) por região.\n",
    "\n",
    "Qual produto foi o mais vendido em quantidade total?\n",
    "\n",
    "Identifique o mês com maior faturamento total.\n",
    "\n",
    "Crie um gráfico de barras mostrando o total de vendas por região."
   ]
  },
  {
   "cell_type": "code",
   "execution_count": 38,
   "id": "9a328c78-76fd-4344-abe4-f4ab574ffc06",
   "metadata": {},
   "outputs": [],
   "source": [
    "import pandas as pd\n",
    "import matplotlib.pyplot as plt"
   ]
  },
  {
   "cell_type": "code",
   "execution_count": 2,
   "id": "a7a45f13-265b-4864-b3e9-e98ece3b9d11",
   "metadata": {},
   "outputs": [
    {
     "data": {
      "text/html": [
       "<div>\n",
       "<style scoped>\n",
       "    .dataframe tbody tr th:only-of-type {\n",
       "        vertical-align: middle;\n",
       "    }\n",
       "\n",
       "    .dataframe tbody tr th {\n",
       "        vertical-align: top;\n",
       "    }\n",
       "\n",
       "    .dataframe thead th {\n",
       "        text-align: right;\n",
       "    }\n",
       "</style>\n",
       "<table border=\"1\" class=\"dataframe\">\n",
       "  <thead>\n",
       "    <tr style=\"text-align: right;\">\n",
       "      <th></th>\n",
       "      <th>ID_Venda</th>\n",
       "      <th>Data_Venda</th>\n",
       "      <th>Produto</th>\n",
       "      <th>Região</th>\n",
       "      <th>Quantidade</th>\n",
       "      <th>Valor_Total</th>\n",
       "    </tr>\n",
       "  </thead>\n",
       "  <tbody>\n",
       "    <tr>\n",
       "      <th>0</th>\n",
       "      <td>1</td>\n",
       "      <td>2024-03-07</td>\n",
       "      <td>Produto_3</td>\n",
       "      <td>Oeste</td>\n",
       "      <td>10</td>\n",
       "      <td>124.88</td>\n",
       "    </tr>\n",
       "    <tr>\n",
       "      <th>1</th>\n",
       "      <td>2</td>\n",
       "      <td>2024-04-27</td>\n",
       "      <td>Produto_2</td>\n",
       "      <td>Sul</td>\n",
       "      <td>7</td>\n",
       "      <td>146.05</td>\n",
       "    </tr>\n",
       "    <tr>\n",
       "      <th>2</th>\n",
       "      <td>3</td>\n",
       "      <td>2024-02-15</td>\n",
       "      <td>Produto_5</td>\n",
       "      <td>Sul</td>\n",
       "      <td>6</td>\n",
       "      <td>401.81</td>\n",
       "    </tr>\n",
       "    <tr>\n",
       "      <th>3</th>\n",
       "      <td>4</td>\n",
       "      <td>2024-03-06</td>\n",
       "      <td>Produto_7</td>\n",
       "      <td>Norte</td>\n",
       "      <td>11</td>\n",
       "      <td>572.99</td>\n",
       "    </tr>\n",
       "    <tr>\n",
       "      <th>4</th>\n",
       "      <td>5</td>\n",
       "      <td>2024-09-23</td>\n",
       "      <td>Produto_10</td>\n",
       "      <td>Leste</td>\n",
       "      <td>9</td>\n",
       "      <td>1877.17</td>\n",
       "    </tr>\n",
       "  </tbody>\n",
       "</table>\n",
       "</div>"
      ],
      "text/plain": [
       "   ID_Venda  Data_Venda     Produto Região  Quantidade Valor_Total\n",
       "0         1  2024-03-07   Produto_3  Oeste          10      124.88\n",
       "1         2  2024-04-27   Produto_2    Sul           7      146.05\n",
       "2         3  2024-02-15   Produto_5    Sul           6      401.81\n",
       "3         4  2024-03-06   Produto_7  Norte          11      572.99\n",
       "4         5  2024-09-23  Produto_10  Leste           9     1877.17"
      ]
     },
     "execution_count": 2,
     "metadata": {},
     "output_type": "execute_result"
    }
   ],
   "source": [
    "df = pd.read_csv(\"dia_33_vendas_regiao.csv\")\n",
    "df.head()"
   ]
  },
  {
   "cell_type": "code",
   "execution_count": 25,
   "id": "c2247b8a-03a6-447e-8c3f-e88ce9da2613",
   "metadata": {},
   "outputs": [],
   "source": [
    "#Corrija os dados inconsistentes e ausentes nas colunas Região e Valor_Total.\n",
    "#Valor_Total\n",
    "df[\"Valor_Total\"] = pd.to_numeric(df[\"Valor_Total\"], errors=\"coerce\")\n",
    "df[\"Valor_Total\"] = df[\"Valor_Total\"].fillna(\n",
    "    df.groupby(\"Produto\")[\"Valor_Total\"].transform(\"mean\")\n",
    ").round(2)\n",
    "\n",
    "#Região\n",
    "\n",
    "df[\"Região\"] = df[\"Região\"].fillna(\"Indefinido\")"
   ]
  },
  {
   "cell_type": "code",
   "execution_count": 28,
   "id": "c92c62a6-c804-4c96-a53c-4b7724ae3be5",
   "metadata": {},
   "outputs": [
    {
     "name": "stdout",
     "output_type": "stream",
     "text": [
      "Região\n",
      "Sul             46207.81\n",
      "Oeste           40696.24\n",
      "Norte           37420.11\n",
      "Leste           32781.69\n",
      "Centro-Oeste    31784.91\n",
      "Indefinido        835.08\n"
     ]
    }
   ],
   "source": [
    "#Calcule o total de vendas (Valor_Total) por região.\n",
    "totalRegiao = df.groupby(\"Região\")[\"Valor_Total\"].sum().sort_values(ascending=False)\n",
    "print(totalRegiao.to_string())"
   ]
  },
  {
   "cell_type": "code",
   "execution_count": 31,
   "id": "d53100cd-9074-4fa7-a96c-789de016e658",
   "metadata": {},
   "outputs": [
    {
     "name": "stdout",
     "output_type": "stream",
     "text": [
      "Produto_10\n"
     ]
    }
   ],
   "source": [
    "#Qual produto foi o mais vendido em quantidade total?\n",
    "produtoQuantidade = df.groupby(\"Produto\")[\"Quantidade\"].sum().sort_values(ascending=False)\n",
    "print(produtoQuantidade.idxmax())"
   ]
  },
  {
   "cell_type": "code",
   "execution_count": 46,
   "id": "4275c501-abfd-4a36-a8be-adee3e4ecfcc",
   "metadata": {},
   "outputs": [
    {
     "name": "stdout",
     "output_type": "stream",
     "text": [
      "2024-11\n"
     ]
    }
   ],
   "source": [
    "#Identifique o mês com maior faturamento total.\n",
    "df[\"Data_Venda\"] = pd.to_datetime(df[\"Data_Venda\"])\n",
    "df[\"AnoMes\"] = df[\"Data_Venda\"].dt.to_period(\"M\")\n",
    "mesFaturamento = df.groupby(\"AnoMes\")[\"Valor_Total\"].sum().sort_values(ascending=False)\n",
    "print(mesFaturamento.idxmax())"
   ]
  },
  {
   "cell_type": "code",
   "execution_count": 45,
   "id": "931cfe05-4b1d-4d79-bbc5-649df2e4bcad",
   "metadata": {},
   "outputs": [
    {
     "data": {
      "image/png": "[encoded data removed]",
      "text/plain": [
       "<Figure size 640x480 with 1 Axes>"
      ]
     },
     "metadata": {},
     "output_type": "display_data"
    }
   ],
   "source": [
    "#Crie um gráfico de barras mostrando o total de vendas por região.\n",
    "totalRegiao.plot(kind=\"bar\")\n",
    "plt.title(\"Total de Vendas por Região\")\n",
    "plt.xlabel(\"Região\")\n",
    "plt.ylabel(\"Valor Total de Vendas (R$)\")\n",
    "plt.grid(axis=\"y\", linestyle=\"--\", alpha=0.7)\n",
    "plt.xticks(rotation=45)\n",
    "plt.show()"
   ]
  }
 ],
 "metadata": {
  "kernelspec": {
   "display_name": "Python 3 (ipykernel)",
   "language": "python",
   "name": "python3"
  },
  "language_info": {
   "codemirror_mode": {
    "name": "ipython",
    "version": 3
   },
   "file_extension": ".py",
   "mimetype": "text/x-python",
   "name": "python",
   "nbconvert_exporter": "python",
   "pygments_lexer": "ipython3",
   "version": "3.12.7"
  }
 },
 "nbformat": 4,
 "nbformat_minor": 5
}
