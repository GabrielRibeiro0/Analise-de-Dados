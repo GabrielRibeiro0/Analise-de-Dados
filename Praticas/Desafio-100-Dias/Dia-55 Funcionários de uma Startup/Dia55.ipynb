{
 "cells": [
  {
   "cell_type": "markdown",
   "id": "737cf107-c5de-4592-898f-3543a97d91e2",
   "metadata": {},
   "source": [
    "📊 Desafio 55 — Funcionários de uma Startup\n",
    "📂 Dataset: dia_55_funcionarios_startup.csv\n",
    "\n",
    "Este conjunto de dados simula informações de colaboradores de uma startup, incluindo salário, tempo de empresa, desempenho e se foram promovidos.\n",
    "\n",
    "🔍 Tarefas:\n",
    "\n",
    "Tratamento de Dados:\n",
    "\n",
    "    Verifique se há valores duplicados ou ausentes. Se houver, trate-os de forma apropriada.\n",
    "\n",
    "Análise Comum:\n",
    "\n",
    "    Qual é o salário médio por departamento?\n",
    "\n",
    "Gráfico:\n",
    "\n",
    "    Crie um gráfico de barras comparando o tempo médio de empresa por departamento.\n",
    "\n",
    "Machine Learning:\n",
    "\n",
    "    Modele a variável promovido com base nas demais variáveis. Sugestões:\n",
    "\n",
    "    Use RandomForestClassifier.\n",
    "\n",
    "    Divida os dados com train_test_split.\n",
    "\n",
    "    Avalie o modelo com accuracy_score e classification_report.\n",
    "\n",
    "    Exiba as variáveis mais importantes para a predição."
   ]
  },
  {
   "cell_type": "code",
   "execution_count": 37,
   "id": "002414f9-89fe-45ed-a796-ec7501955e80",
   "metadata": {},
   "outputs": [],
   "source": [
    "import pandas as pd\n",
    "import seaborn as sns\n",
    "import matplotlib.pyplot as plt\n",
    "from sklearn.ensemble import RandomForestClassifier\n",
    "from sklearn.model_selection import train_test_split\n",
    "from sklearn.metrics import accuracy_score, classification_report\n",
    "from sklearn.preprocessing import LabelEncoder"
   ]
  },
  {
   "cell_type": "code",
   "execution_count": 3,
   "id": "27d77c67-a42a-433b-bf7a-29d834cf1b6a",
   "metadata": {},
   "outputs": [
    {
     "data": {
      "text/html": [
       "<div>\n",
       "<style scoped>\n",
       "    .dataframe tbody tr th:only-of-type {\n",
       "        vertical-align: middle;\n",
       "    }\n",
       "\n",
       "    .dataframe tbody tr th {\n",
       "        vertical-align: top;\n",
       "    }\n",
       "\n",
       "    .dataframe thead th {\n",
       "        text-align: right;\n",
       "    }\n",
       "</style>\n",
       "<table border=\"1\" class=\"dataframe\">\n",
       "  <thead>\n",
       "    <tr style=\"text-align: right;\">\n",
       "      <th></th>\n",
       "      <th>id</th>\n",
       "      <th>departamento</th>\n",
       "      <th>tempo_empresa_anos</th>\n",
       "      <th>salario_mensal</th>\n",
       "      <th>avaliacao_desempenho</th>\n",
       "      <th>promovido</th>\n",
       "    </tr>\n",
       "  </thead>\n",
       "  <tbody>\n",
       "    <tr>\n",
       "      <th>0</th>\n",
       "      <td>1</td>\n",
       "      <td>Financeiro</td>\n",
       "      <td>4.0</td>\n",
       "      <td>3188</td>\n",
       "      <td>2.6</td>\n",
       "      <td>0</td>\n",
       "    </tr>\n",
       "    <tr>\n",
       "      <th>1</th>\n",
       "      <td>2</td>\n",
       "      <td>TI</td>\n",
       "      <td>2.5</td>\n",
       "      <td>4876</td>\n",
       "      <td>3.7</td>\n",
       "      <td>0</td>\n",
       "    </tr>\n",
       "    <tr>\n",
       "      <th>2</th>\n",
       "      <td>3</td>\n",
       "      <td>Marketing</td>\n",
       "      <td>3.0</td>\n",
       "      <td>11797</td>\n",
       "      <td>2.5</td>\n",
       "      <td>1</td>\n",
       "    </tr>\n",
       "    <tr>\n",
       "      <th>3</th>\n",
       "      <td>4</td>\n",
       "      <td>TI</td>\n",
       "      <td>9.4</td>\n",
       "      <td>7371</td>\n",
       "      <td>4.6</td>\n",
       "      <td>0</td>\n",
       "    </tr>\n",
       "    <tr>\n",
       "      <th>4</th>\n",
       "      <td>5</td>\n",
       "      <td>Financeiro</td>\n",
       "      <td>6.7</td>\n",
       "      <td>8573</td>\n",
       "      <td>2.8</td>\n",
       "      <td>0</td>\n",
       "    </tr>\n",
       "  </tbody>\n",
       "</table>\n",
       "</div>"
      ],
      "text/plain": [
       "   id departamento  tempo_empresa_anos  salario_mensal  avaliacao_desempenho  \\\n",
       "0   1   Financeiro                 4.0            3188                   2.6   \n",
       "1   2           TI                 2.5            4876                   3.7   \n",
       "2   3    Marketing                 3.0           11797                   2.5   \n",
       "3   4           TI                 9.4            7371                   4.6   \n",
       "4   5   Financeiro                 6.7            8573                   2.8   \n",
       "\n",
       "   promovido  \n",
       "0          0  \n",
       "1          0  \n",
       "2          1  \n",
       "3          0  \n",
       "4          0  "
      ]
     },
     "execution_count": 3,
     "metadata": {},
     "output_type": "execute_result"
    }
   ],
   "source": [
    "df = pd.read_csv(\"dia_55_funcionarios_startup.csv\")\n",
    "df.head()"
   ]
  },
  {
   "cell_type": "code",
   "execution_count": 17,
   "id": "ddaa073e-5ecb-4d27-bf8a-415f44f4a070",
   "metadata": {},
   "outputs": [
    {
     "data": {
      "text/plain": [
       "0"
      ]
     },
     "execution_count": 17,
     "metadata": {},
     "output_type": "execute_result"
    }
   ],
   "source": [
    "#Verifique se há valores duplicados ou ausentes. Se houver, trate-os de forma apropriada.\n",
    "df[\"tempo_empresa_anos\"] = pd.to_numeric(df[\"tempo_empresa_anos\"],errors=\"coerce\")\n",
    "df[\"salario_mensal\"] = pd.to_numeric(df[\"salario_mensal\"],errors=\"coerce\")\n",
    "df[\"avaliacao_desempenho\"] = pd.to_numeric(df[\"avaliacao_desempenho\"],errors=\"coerce\")\n",
    "\n",
    "df.drop_duplicates()\n",
    "df.duplicated().sum()"
   ]
  },
  {
   "cell_type": "code",
   "execution_count": 20,
   "id": "6acea6e1-6556-40b3-aeb3-b13d48d40e0a",
   "metadata": {},
   "outputs": [
    {
     "name": "stdout",
     "output_type": "stream",
     "text": [
      "departamento\n",
      "Marketing     8638.62\n",
      "TI            8054.65\n",
      "RH            7634.00\n",
      "Financeiro    6358.69\n",
      "Name: salario_mensal, dtype: float64\n"
     ]
    }
   ],
   "source": [
    "#Qual é o salário médio por departamento?\n",
    "salarioMedioDepart = df.groupby(\"departamento\")[\"salario_mensal\"].mean().round(2).sort_values(ascending=False)\n",
    "print(salarioMedioDepart)"
   ]
  },
  {
   "cell_type": "code",
   "execution_count": 34,
   "id": "d463d957-4a77-40b5-bbeb-778ac89f3c9b",
   "metadata": {},
   "outputs": [
    {
     "data": {
      "image/png": "[encoded data removed]",
      "text/plain": [
       "<Figure size 640x480 with 1 Axes>"
      ]
     },
     "metadata": {},
     "output_type": "display_data"
    }
   ],
   "source": [
    "#Crie um gráfico de barras comparando o tempo médio de empresa por departamento.\n",
    "sns.barplot(data=df, x=\"departamento\", y=\"tempo_empresa_anos\")\n",
    "plt.title(\"Tempo Médio de Empresa por Departamento\")\n",
    "plt.ylabel(\"Tempo de Empresa(Anos)\")\n",
    "plt.xlabel(\"Departamento\")\n",
    "plt.show()"
   ]
  },
  {
   "cell_type": "code",
   "execution_count": 42,
   "id": "95bbfa4f-7c7d-4665-a25f-d557b36a1d35",
   "metadata": {},
   "outputs": [
    {
     "name": "stdout",
     "output_type": "stream",
     "text": [
      "Acurácia: 0.6\n",
      "              precision    recall  f1-score   support\n",
      "\n",
      "           0       0.70      0.70      0.70        10\n",
      "           1       0.40      0.40      0.40         5\n",
      "\n",
      "    accuracy                           0.60        15\n",
      "   macro avg       0.55      0.55      0.55        15\n",
      "weighted avg       0.60      0.60      0.60        15\n",
      "\n"
     ]
    }
   ],
   "source": [
    "#Modele a variável promovido com base nas demais variáveis.\n",
    "\n",
    "le = LabelEncoder()\n",
    "for col in df.select_dtypes(include='object'):\n",
    "    df[col] = le.fit_transform(df[col])\n",
    "\n",
    "X = df.drop([\"promovido\"], axis=1)\n",
    "y = df[\"promovido\"]\n",
    "\n",
    "X_train, X_test, y_train, y_test = train_test_split(X, y, test_size=0.3, random_state=42)\n",
    "\n",
    "model = RandomForestClassifier(random_state=42)\n",
    "model.fit(X_train, y_train)\n",
    "\n",
    "y_pred = model.predict(X_test)\n",
    "print(f\"Acurácia: {accuracy_score(y_test, y_pred)}\")\n",
    "print(classification_report(y_test, y_pred))"
   ]
  },
  {
   "cell_type": "code",
   "execution_count": 46,
   "id": "1e941ed0-bfde-4dc2-92fd-f427e6964af8",
   "metadata": {},
   "outputs": [
    {
     "name": "stdout",
     "output_type": "stream",
     "text": [
      "               variavel  importancia\n",
      "3        salario_mensal     0.281861\n",
      "4  avaliacao_desempenho     0.236782\n",
      "2    tempo_empresa_anos     0.217370\n",
      "0                    id     0.181967\n",
      "1          departamento     0.082020\n"
     ]
    }
   ],
   "source": [
    "importancias = pd.DataFrame({\"variavel\": X.columns, \"importancia\": model.feature_importances_})\n",
    "print(importancias.sort_values(by=\"importancia\", ascending=False))"
   ]
  }
 ],
 "metadata": {
  "kernelspec": {
   "display_name": "Python 3 (ipykernel)",
   "language": "python",
   "name": "python3"
  },
  "language_info": {
   "codemirror_mode": {
    "name": "ipython",
    "version": 3
   },
   "file_extension": ".py",
   "mimetype": "text/x-python",
   "name": "python",
   "nbconvert_exporter": "python",
   "pygments_lexer": "ipython3",
   "version": "3.12.7"
  }
 },
 "nbformat": 4,
 "nbformat_minor": 5
}
