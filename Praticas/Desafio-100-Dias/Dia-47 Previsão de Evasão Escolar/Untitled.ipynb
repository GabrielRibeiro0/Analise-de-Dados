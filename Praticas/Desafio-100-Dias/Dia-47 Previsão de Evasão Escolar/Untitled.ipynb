{
 "cells": [
  {
   "cell_type": "markdown",
   "id": "d3f83cff-58c9-47f1-b96d-c8d9eaa8130b",
   "metadata": {},
   "source": [
    "📊  Desafio 47 — Previsão de Evasão Escolar\n",
    "\n",
    "📂 Dataset: dia_47_evasao_escolar.csv\n",
    "Este conjunto de dados traz informações de estudantes de uma instituição pública, como frequência, desempenho acadêmico, envolvimento em atividades extracurriculares e se houve evasão (abandono escolar).\n",
    "\n",
    "🔍 Tarefas:\n",
    "\n",
    "Qual é a taxa geral de evasão?\n",
    "\n",
    "Há diferença de evasão entre os cursos (Ex: Técnico, Ensino Médio, EJA)?\n",
    "\n",
    "Os estudantes com notas mais baixas têm maior taxa de evasão?\n",
    "\n",
    "Qual a média de frequência entre alunos que evadiram e os que permaneceram?\n",
    "\n",
    "Treine um modelo de classificação para prever a evasão. Sugestões:\n",
    "\n",
    "Use LogisticRegression ou RandomForestClassifier.\n",
    "\n",
    "Aplique train_test_split, depois avalie com accuracy_score e classification_report.\n",
    "\n",
    "Quais variáveis mais influenciam o modelo?"
   ]
  },
  {
   "cell_type": "code",
   "execution_count": 25,
   "id": "fe7cbc65-e0aa-45a7-a4a3-b0347338f11c",
   "metadata": {},
   "outputs": [],
   "source": [
    "import pandas as pd\n",
    "from sklearn.model_selection import train_test_split\n",
    "from sklearn.ensemble import RandomForestClassifier\n",
    "from sklearn.metrics import accuracy_score, classification_report\n",
    "from sklearn.preprocessing import LabelEncoder"
   ]
  },
  {
   "cell_type": "code",
   "execution_count": 37,
   "id": "a5cda1b3-e331-47d7-a0fd-bb607b6e7fba",
   "metadata": {},
   "outputs": [
    {
     "data": {
      "text/html": [
       "<div>\n",
       "<style scoped>\n",
       "    .dataframe tbody tr th:only-of-type {\n",
       "        vertical-align: middle;\n",
       "    }\n",
       "\n",
       "    .dataframe tbody tr th {\n",
       "        vertical-align: top;\n",
       "    }\n",
       "\n",
       "    .dataframe thead th {\n",
       "        text-align: right;\n",
       "    }\n",
       "</style>\n",
       "<table border=\"1\" class=\"dataframe\">\n",
       "  <thead>\n",
       "    <tr style=\"text-align: right;\">\n",
       "      <th></th>\n",
       "      <th>id_aluno</th>\n",
       "      <th>curso</th>\n",
       "      <th>frequencia_percentual</th>\n",
       "      <th>nota_media</th>\n",
       "      <th>atividade_extracurricular</th>\n",
       "      <th>evadiu</th>\n",
       "    </tr>\n",
       "  </thead>\n",
       "  <tbody>\n",
       "    <tr>\n",
       "      <th>0</th>\n",
       "      <td>1</td>\n",
       "      <td>Ensino Médio</td>\n",
       "      <td>48.8</td>\n",
       "      <td>8.7</td>\n",
       "      <td>Sim</td>\n",
       "      <td>Não</td>\n",
       "    </tr>\n",
       "    <tr>\n",
       "      <th>1</th>\n",
       "      <td>2</td>\n",
       "      <td>Técnico</td>\n",
       "      <td>55.6</td>\n",
       "      <td>6.1</td>\n",
       "      <td>Sim</td>\n",
       "      <td>Não</td>\n",
       "    </tr>\n",
       "    <tr>\n",
       "      <th>2</th>\n",
       "      <td>3</td>\n",
       "      <td>Técnico</td>\n",
       "      <td>49.6</td>\n",
       "      <td>4.0</td>\n",
       "      <td>Sim</td>\n",
       "      <td>Não</td>\n",
       "    </tr>\n",
       "    <tr>\n",
       "      <th>3</th>\n",
       "      <td>4</td>\n",
       "      <td>Ensino Médio</td>\n",
       "      <td>91.6</td>\n",
       "      <td>5.1</td>\n",
       "      <td>Não</td>\n",
       "      <td>Não</td>\n",
       "    </tr>\n",
       "    <tr>\n",
       "      <th>4</th>\n",
       "      <td>5</td>\n",
       "      <td>Técnico</td>\n",
       "      <td>87.8</td>\n",
       "      <td>1.5</td>\n",
       "      <td>Sim</td>\n",
       "      <td>Não</td>\n",
       "    </tr>\n",
       "  </tbody>\n",
       "</table>\n",
       "</div>"
      ],
      "text/plain": [
       "   id_aluno         curso  frequencia_percentual  nota_media  \\\n",
       "0         1  Ensino Médio                   48.8         8.7   \n",
       "1         2       Técnico                   55.6         6.1   \n",
       "2         3       Técnico                   49.6         4.0   \n",
       "3         4  Ensino Médio                   91.6         5.1   \n",
       "4         5       Técnico                   87.8         1.5   \n",
       "\n",
       "  atividade_extracurricular evadiu  \n",
       "0                       Sim    Não  \n",
       "1                       Sim    Não  \n",
       "2                       Sim    Não  \n",
       "3                       Não    Não  \n",
       "4                       Sim    Não  "
      ]
     },
     "execution_count": 37,
     "metadata": {},
     "output_type": "execute_result"
    }
   ],
   "source": [
    "df = pd.read_csv(\"dia_47_evasao_escolar.csv\")\n",
    "df.head()"
   ]
  },
  {
   "cell_type": "code",
   "execution_count": 6,
   "id": "fa329af4-b6f6-4d9f-a78c-3462d989b0bc",
   "metadata": {},
   "outputs": [
    {
     "name": "stdout",
     "output_type": "stream",
     "text": [
      "evadiu\n",
      "Não    81.0\n",
      "Sim    19.0\n",
      "Name: proportion, dtype: float64\n"
     ]
    }
   ],
   "source": [
    "#Qual é a taxa geral de evasão?\n",
    "taxaEvasao = df[\"evadiu\"].value_counts(normalize=True) * 100\n",
    "print(taxaEvasao)"
   ]
  },
  {
   "cell_type": "code",
   "execution_count": 14,
   "id": "6a5773ae-3cdc-44f6-bcfa-f27fc43d5f5a",
   "metadata": {},
   "outputs": [
    {
     "name": "stdout",
     "output_type": "stream",
     "text": [
      "evadiu              Não        Sim\n",
      "curso                             \n",
      "EJA           77.227723  22.772277\n",
      "Ensino Médio  83.962264  16.037736\n",
      "Técnico       81.720430  18.279570\n"
     ]
    }
   ],
   "source": [
    "#Há diferença de evasão entre os cursos (Ex: Técnico, Ensino Médio, EJA)?\n",
    "evasaoCursos = df.groupby(\"curso\")[\"evadiu\"].value_counts(normalize=True).unstack() * 100\n",
    "print(evasaoCursos)"
   ]
  },
  {
   "cell_type": "code",
   "execution_count": 16,
   "id": "a49d3f52-18c9-4eee-8a06-ebf3f4c86c20",
   "metadata": {},
   "outputs": [
    {
     "name": "stdout",
     "output_type": "stream",
     "text": [
      "evadiu\n",
      "Não    4.602881\n",
      "Sim    5.552632\n",
      "Name: nota_media, dtype: float64\n"
     ]
    }
   ],
   "source": [
    "#Os estudantes com notas mais baixas têm maior taxa de evasão?\n",
    "NotaEvasao = df.groupby(\"evadiu\")[\"nota_media\"].mean()\n",
    "print(NotaEvasao)"
   ]
  },
  {
   "cell_type": "code",
   "execution_count": 20,
   "id": "9c91d669-d051-4761-9ac4-2f08eebfd1e3",
   "metadata": {},
   "outputs": [
    {
     "name": "stdout",
     "output_type": "stream",
     "text": [
      "evadiu\n",
      "Não    71.26\n",
      "Sim    71.53\n",
      "Name: frequencia_percentual, dtype: float64\n"
     ]
    }
   ],
   "source": [
    "#Qual a média de frequência entre alunos que evadiram e os que permaneceram?\n",
    "freqAlunosEvasao = df.groupby(\"evadiu\")[\"frequencia_percentual\"].mean().round(2)\n",
    "print(freqAlunosEvasao)"
   ]
  },
  {
   "cell_type": "code",
   "execution_count": 46,
   "id": "a8cfcdad-0bb1-473b-9050-d954c1d3d0fc",
   "metadata": {},
   "outputs": [
    {
     "name": "stdout",
     "output_type": "stream",
     "text": [
      "Acurácia: 0.8555555555555555\n",
      "\n",
      "nota_media                   33.0\n",
      "frequencia_percentual        31.0\n",
      "id_aluno                     26.0\n",
      "curso                         6.0\n",
      "atividade_extracurricular     4.0\n",
      "dtype: float64\n"
     ]
    }
   ],
   "source": [
    "#Treine um modelo de classificação para prever a evasão.\n",
    "le_curso = LabelEncoder()\n",
    "le_atividade = LabelEncoder()\n",
    "le_evadiu = LabelEncoder()\n",
    "\n",
    "df['curso'] = le_curso.fit_transform(df['curso'])\n",
    "df['atividade_extracurricular'] = le_atividade.fit_transform(df['atividade_extracurricular'])\n",
    "df['evadiu'] = le_evadiu.fit_transform(df['evadiu'])\n",
    "\n",
    "X = df.drop(columns=['evadiu'])\n",
    "y = df['evadiu']\n",
    "\n",
    "X_train, X_test, y_train, y_test = train_test_split(X, y, test_size=0.3, random_state=42)\n",
    "\n",
    "modelo = RandomForestClassifier(random_state=42)\n",
    "modelo.fit(X_train, y_train)\n",
    "\n",
    "y_pred = modelo.predict(X_test)\n",
    "print(f\"Acurácia: {accuracy_score(y_test, y_pred)}\\n\")\n",
    "importances = pd.Series(modelo.feature_importances_, index=X.columns).sort_values(ascending=False).round(2) * 100\n",
    "print(importances)"
   ]
  }
 ],
 "metadata": {
  "kernelspec": {
   "display_name": "Python 3 (ipykernel)",
   "language": "python",
   "name": "python3"
  },
  "language_info": {
   "codemirror_mode": {
    "name": "ipython",
    "version": 3
   },
   "file_extension": ".py",
   "mimetype": "text/x-python",
   "name": "python",
   "nbconvert_exporter": "python",
   "pygments_lexer": "ipython3",
   "version": "3.12.7"
  }
 },
 "nbformat": 4,
 "nbformat_minor": 5
}
