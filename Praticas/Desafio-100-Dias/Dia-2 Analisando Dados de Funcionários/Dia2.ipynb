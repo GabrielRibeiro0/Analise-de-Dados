{
 "cells": [
  {
   "cell_type": "code",
   "execution_count": null,
   "id": "8689782e-9203-4df7-978e-740b2afb7a84",
   "metadata": {},
   "outputs": [],
   "source": [
    "Desafio 2: Analisando Dados de Funcionários\n",
    "\n",
    "📂 Dataset: Informações sobre funcionários de uma empresa, incluindo idade, cargo, salário e tempo de empresa.\n",
    "\n",
    "🎯 Atividades:\n",
    "\n",
    "    Qual é a média salarial dos funcionários por cargo?\n",
    "\n",
    "    Existe correlação entre idade e salário?\n",
    "\n",
    "    Quantos funcionários têm mais de 5 anos na empresa?"
   ]
  },
  {
   "cell_type": "code",
   "execution_count": 1,
   "id": "7c8701d5-2856-41aa-b4db-87bf891da21f",
   "metadata": {},
   "outputs": [],
   "source": [
    "import pandas as pd"
   ]
  },
  {
   "cell_type": "code",
   "execution_count": 56,
   "id": "71ae3c87-e132-4ad4-88bb-17a776d12be2",
   "metadata": {},
   "outputs": [
    {
     "data": {
      "text/html": [
       "<div>\n",
       "<style scoped>\n",
       "    .dataframe tbody tr th:only-of-type {\n",
       "        vertical-align: middle;\n",
       "    }\n",
       "\n",
       "    .dataframe tbody tr th {\n",
       "        vertical-align: top;\n",
       "    }\n",
       "\n",
       "    .dataframe thead th {\n",
       "        text-align: right;\n",
       "    }\n",
       "</style>\n",
       "<table border=\"1\" class=\"dataframe\">\n",
       "  <thead>\n",
       "    <tr style=\"text-align: right;\">\n",
       "      <th></th>\n",
       "      <th>ID_Funcionario</th>\n",
       "      <th>Nome</th>\n",
       "      <th>Idade</th>\n",
       "      <th>Cargo</th>\n",
       "      <th>Salario</th>\n",
       "      <th>Tempo_Empresa (anos)</th>\n",
       "    </tr>\n",
       "  </thead>\n",
       "  <tbody>\n",
       "    <tr>\n",
       "      <th>0</th>\n",
       "      <td>1</td>\n",
       "      <td>Funcionario_1</td>\n",
       "      <td>59</td>\n",
       "      <td>Analista</td>\n",
       "      <td>10844</td>\n",
       "      <td>4</td>\n",
       "    </tr>\n",
       "    <tr>\n",
       "      <th>1</th>\n",
       "      <td>2</td>\n",
       "      <td>Funcionario_2</td>\n",
       "      <td>26</td>\n",
       "      <td>Analista</td>\n",
       "      <td>10251</td>\n",
       "      <td>11</td>\n",
       "    </tr>\n",
       "    <tr>\n",
       "      <th>2</th>\n",
       "      <td>3</td>\n",
       "      <td>Funcionario_3</td>\n",
       "      <td>27</td>\n",
       "      <td>Coordenador</td>\n",
       "      <td>3294</td>\n",
       "      <td>2</td>\n",
       "    </tr>\n",
       "    <tr>\n",
       "      <th>3</th>\n",
       "      <td>4</td>\n",
       "      <td>Funcionario_4</td>\n",
       "      <td>59</td>\n",
       "      <td>Técnico</td>\n",
       "      <td>6289</td>\n",
       "      <td>9</td>\n",
       "    </tr>\n",
       "    <tr>\n",
       "      <th>4</th>\n",
       "      <td>5</td>\n",
       "      <td>Funcionario_5</td>\n",
       "      <td>23</td>\n",
       "      <td>Técnico</td>\n",
       "      <td>6407</td>\n",
       "      <td>3</td>\n",
       "    </tr>\n",
       "  </tbody>\n",
       "</table>\n",
       "</div>"
      ],
      "text/plain": [
       "   ID_Funcionario           Nome  Idade        Cargo  Salario  \\\n",
       "0               1  Funcionario_1     59     Analista    10844   \n",
       "1               2  Funcionario_2     26     Analista    10251   \n",
       "2               3  Funcionario_3     27  Coordenador     3294   \n",
       "3               4  Funcionario_4     59      Técnico     6289   \n",
       "4               5  Funcionario_5     23      Técnico     6407   \n",
       "\n",
       "   Tempo_Empresa (anos)  \n",
       "0                     4  \n",
       "1                    11  \n",
       "2                     2  \n",
       "3                     9  \n",
       "4                     3  "
      ]
     },
     "execution_count": 56,
     "metadata": {},
     "output_type": "execute_result"
    }
   ],
   "source": [
    "#testando a tabela\n",
    "df = pd.read_csv(\"dia_2_funcionarios.csv\")\n",
    "df.head()"
   ]
  },
  {
   "cell_type": "code",
   "execution_count": 63,
   "id": "3b49baa0-2fd0-4985-af2a-6f4e749bffae",
   "metadata": {},
   "outputs": [
    {
     "name": "stdout",
     "output_type": "stream",
     "text": [
      "essa é a média de salario por cargo: \n",
      "\n",
      "Cargo\n",
      "Analista       10169.00\n",
      "Gerente         9486.60\n",
      "Técnico         9191.50\n",
      "Coordenador     6789.75\n",
      "Name: Salario, dtype: float64\n"
     ]
    }
   ],
   "source": [
    "#Qual é a média salarial dos funcionários por cargo?\n",
    "salarioMedia = df.groupby(\"Cargo\")[\"Salario\"].mean().sort_values(ascending=False)\n",
    "print(f\"essa é a média de salario por cargo: \\n\\n{salarioMedia}\")"
   ]
  },
  {
   "cell_type": "code",
   "execution_count": 61,
   "id": "529b4cbd-1c32-4356-b9e3-8239010affbb",
   "metadata": {},
   "outputs": [
    {
     "name": "stdout",
     "output_type": "stream",
     "text": [
      "A correlação entre idade e salário é de: 0.04\n",
      "este valor é muito baixo, isso significa que não há uma relação significativa entre essas duas variáveis.\n"
     ]
    }
   ],
   "source": [
    "#Existe correlação entre idade e salário?\n",
    "correlaçãoIdadeSalario = df[\"Idade\"].corr(df[\"Salario\"])\n",
    "print(f\"A correlação entre idade e salário é de: {correlaçãoIdadeSalario:.2f}\")\n",
    "print(\"este valor é muito baixo, isso significa que não há uma relação significativa entre essas duas variáveis.\")"
   ]
  },
  {
   "cell_type": "code",
   "execution_count": 62,
   "id": "97c1c9e9-0514-46fb-b35c-34c6f08411a3",
   "metadata": {},
   "outputs": [
    {
     "name": "stdout",
     "output_type": "stream",
     "text": [
      "Existem 10 funcionários com mais de 5 anos na empresa.\n"
     ]
    }
   ],
   "source": [
    "#Quantos funcionários têm mais de 5 anos na empresa?\n",
    "funcionarioCincoAnos = df[df[\"Tempo_Empresa (anos)\"] >5].shape[0]\n",
    "print(f\"Existem {funcionarioCincoAnos} funcionários com mais de 5 anos na empresa.\")"
   ]
  }
 ],
 "metadata": {
  "kernelspec": {
   "display_name": "Python 3 (ipykernel)",
   "language": "python",
   "name": "python3"
  },
  "language_info": {
   "codemirror_mode": {
    "name": "ipython",
    "version": 3
   },
   "file_extension": ".py",
   "mimetype": "text/x-python",
   "name": "python",
   "nbconvert_exporter": "python",
   "pygments_lexer": "ipython3",
   "version": "3.12.6"
  }
 },
 "nbformat": 4,
 "nbformat_minor": 5
}
