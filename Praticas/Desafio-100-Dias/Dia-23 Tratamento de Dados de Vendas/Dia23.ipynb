{
 "cells": [
  {
   "cell_type": "markdown",
   "id": "5f8a8b03",
   "metadata": {},
   "source": [
    "Desafio 23: Tratamento de Dados de Vendas\n",
    "\n",
    "📂 Dataset: Vendas de produtos com campos inconsistentes.\n",
    "Colunas: Produto, Categoria, Loja, Mês, Quantidade_Vendida, Valor_Unitario\n",
    "\n",
    "🎯 Tarefas de Tratamento:\n",
    "\n",
    "    Corrija problemas de capitalização e espaços extras nas colunas Produto e Categoria.\n",
    "\n",
    "    Padronize as categorias e os nomes dos produtos para ficarem consistentes.\n",
    "\n",
    "    Converta as colunas Quantidade_Vendida e Valor_Unitario para formato numérico, tratando os valores inválidos como \"\", \"N/A\", NaN\".\n",
    "\n",
    "    Crie uma nova coluna Faturamento_Total multiplicando a quantidade pelo valor unitário.\n",
    "\n",
    "    Verifique se há valores nulos no faturamento e justifique o motivo.\n",
    "\n",
    "    Faça um resumo com o faturamento total por loja e por produto."
   ]
  },
  {
   "cell_type": "code",
   "execution_count": 39,
   "id": "54d537ac",
   "metadata": {},
   "outputs": [],
   "source": [
    "import pandas as pd"
   ]
  },
  {
   "cell_type": "code",
   "execution_count": 17,
   "id": "41617039",
   "metadata": {},
   "outputs": [
    {
     "data": {
      "text/html": [
       "<div>\n",
       "<style scoped>\n",
       "    .dataframe tbody tr th:only-of-type {\n",
       "        vertical-align: middle;\n",
       "    }\n",
       "\n",
       "    .dataframe tbody tr th {\n",
       "        vertical-align: top;\n",
       "    }\n",
       "\n",
       "    .dataframe thead th {\n",
       "        text-align: right;\n",
       "    }\n",
       "</style>\n",
       "<table border=\"1\" class=\"dataframe\">\n",
       "  <thead>\n",
       "    <tr style=\"text-align: right;\">\n",
       "      <th></th>\n",
       "      <th>Produto</th>\n",
       "      <th>Categoria</th>\n",
       "      <th>Loja</th>\n",
       "      <th>Mês</th>\n",
       "      <th>Quantidade_Vendida</th>\n",
       "      <th>Valor_Unitario</th>\n",
       "    </tr>\n",
       "  </thead>\n",
       "  <tbody>\n",
       "    <tr>\n",
       "      <th>0</th>\n",
       "      <td>Smartphone</td>\n",
       "      <td>Periféricos</td>\n",
       "      <td>Loja C</td>\n",
       "      <td>Março</td>\n",
       "      <td>27.0</td>\n",
       "      <td>3686.73</td>\n",
       "    </tr>\n",
       "    <tr>\n",
       "      <th>1</th>\n",
       "      <td>Smartphone</td>\n",
       "      <td>perifericos</td>\n",
       "      <td>Loja B</td>\n",
       "      <td>Janeiro</td>\n",
       "      <td>37.0</td>\n",
       "      <td>1666.33</td>\n",
       "    </tr>\n",
       "    <tr>\n",
       "      <th>2</th>\n",
       "      <td>Teclado</td>\n",
       "      <td>Eletrônicos</td>\n",
       "      <td>Loja A</td>\n",
       "      <td>Março</td>\n",
       "      <td>4.0</td>\n",
       "      <td>4090.82</td>\n",
       "    </tr>\n",
       "    <tr>\n",
       "      <th>3</th>\n",
       "      <td>Monitor</td>\n",
       "      <td>perifericos</td>\n",
       "      <td>Loja C</td>\n",
       "      <td>Janeiro</td>\n",
       "      <td>50.0</td>\n",
       "      <td>3585.71</td>\n",
       "    </tr>\n",
       "    <tr>\n",
       "      <th>4</th>\n",
       "      <td>Teclado</td>\n",
       "      <td>Eletrônicos</td>\n",
       "      <td>Loja B</td>\n",
       "      <td>Abril</td>\n",
       "      <td>86.0</td>\n",
       "      <td>4696.94</td>\n",
       "    </tr>\n",
       "  </tbody>\n",
       "</table>\n",
       "</div>"
      ],
      "text/plain": [
       "      Produto    Categoria    Loja      Mês  Quantidade_Vendida  \\\n",
       "0  Smartphone  Periféricos  Loja C    Março                27.0   \n",
       "1  Smartphone  perifericos  Loja B  Janeiro                37.0   \n",
       "2     Teclado  Eletrônicos  Loja A    Março                 4.0   \n",
       "3     Monitor  perifericos  Loja C  Janeiro                50.0   \n",
       "4     Teclado  Eletrônicos  Loja B    Abril                86.0   \n",
       "\n",
       "   Valor_Unitario  \n",
       "0         3686.73  \n",
       "1         1666.33  \n",
       "2         4090.82  \n",
       "3         3585.71  \n",
       "4         4696.94  "
      ]
     },
     "execution_count": 17,
     "metadata": {},
     "output_type": "execute_result"
    }
   ],
   "source": [
    "df = pd.read_csv(\"dia_23_vendas_tratamento.csv\")\n",
    "df.head()"
   ]
  },
  {
   "cell_type": "code",
   "execution_count": 41,
   "id": "a2f2be18",
   "metadata": {},
   "outputs": [],
   "source": [
    "#Corrija problemas de capitalização e espaços extras nas colunas Produto e Categoria.\n",
    "df[\"Produto\"] = df[\"Produto\"].str.title().str.strip()\n",
    "df[\"Categoria\"] = df[\"Categoria\"].str.title().str.strip()"
   ]
  },
  {
   "cell_type": "code",
   "execution_count": 55,
   "id": "b64c501e",
   "metadata": {},
   "outputs": [
    {
     "name": "stdout",
     "output_type": "stream",
     "text": [
      "Produto         Categoria  \n",
      "Notebook        Eletrônicos    23\n",
      "Mouse           Periféricos    22\n",
      "Smartphone      Eletrônicos    21\n",
      "Teclado         Periféricos    20\n",
      "Monitor         Eletrônicos    17\n",
      "Fone De Ouvido  Periféricos    17\n",
      "Name: count, dtype: int64\n"
     ]
    }
   ],
   "source": [
    "#Padronize as categorias e os nomes dos produtos para ficarem consistentes.\n",
    "df[\"Categoria\"] = df[\"Categoria\"].replace({\"Eletronicos\": \"Eletrônicos\", \"Perifericos\" : \"Periféricos\"})\n",
    "df.loc[df[\"Produto\"].isin([\"Notebook\", \"Smartphone\", \"Monitor\"]), \"Categoria\"] = \"Eletrônicos\"\n",
    "df.loc[df[\"Produto\"].isin([\"Mouse\", \"Teclado\", \"Fone De Ouvido\"]), \"Categoria\"] = \"Periféricos\"\n",
    "print(df[[\"Produto\", \"Categoria\"]].value_counts())"
   ]
  },
  {
   "cell_type": "code",
   "execution_count": 59,
   "id": "2038e187",
   "metadata": {},
   "outputs": [],
   "source": [
    "#Converta as colunas Quantidade_Vendida e Valor_Unitario para formato numérico, tratando os valores inválidos como \"\", \"N/A\", NaN\".\n",
    "df[\"Quantidade_Vendida\"] = pd.to_numeric(df[\"Quantidade_Vendida\"], errors=\"coerce\")\n",
    "df[\"Valor_Unitario\"] = pd.to_numeric(df[\"Valor_Unitario\"], errors=\"coerce\")\n",
    "\n",
    "df[\"Quantidade_Vendida\"] = df[\"Quantidade_Vendida\"].fillna(\n",
    "    df.groupby([\"Produto\", \"Categoria\"])[\"Quantidade_Vendida\"].transform(\"mean\")\n",
    ")\n",
    "df[\"Valor_Unitario\"] = df[\"Valor_Unitario\"].fillna(\n",
    "    df.groupby([\"Produto\", \"Categoria\"])[\"Valor_Unitario\"].transform(\"mean\")\n",
    ")"
   ]
  },
  {
   "cell_type": "code",
   "execution_count": 61,
   "id": "b3be6023",
   "metadata": {},
   "outputs": [
    {
     "data": {
      "text/html": [
       "<div>\n",
       "<style scoped>\n",
       "    .dataframe tbody tr th:only-of-type {\n",
       "        vertical-align: middle;\n",
       "    }\n",
       "\n",
       "    .dataframe tbody tr th {\n",
       "        vertical-align: top;\n",
       "    }\n",
       "\n",
       "    .dataframe thead th {\n",
       "        text-align: right;\n",
       "    }\n",
       "</style>\n",
       "<table border=\"1\" class=\"dataframe\">\n",
       "  <thead>\n",
       "    <tr style=\"text-align: right;\">\n",
       "      <th></th>\n",
       "      <th>Produto</th>\n",
       "      <th>Categoria</th>\n",
       "      <th>Loja</th>\n",
       "      <th>Mês</th>\n",
       "      <th>Quantidade_Vendida</th>\n",
       "      <th>Valor_Unitario</th>\n",
       "      <th>Faturamento_Total</th>\n",
       "    </tr>\n",
       "  </thead>\n",
       "  <tbody>\n",
       "    <tr>\n",
       "      <th>0</th>\n",
       "      <td>Smartphone</td>\n",
       "      <td>Eletrônicos</td>\n",
       "      <td>Loja C</td>\n",
       "      <td>Março</td>\n",
       "      <td>27.0</td>\n",
       "      <td>3686.73</td>\n",
       "      <td>99541.71</td>\n",
       "    </tr>\n",
       "    <tr>\n",
       "      <th>1</th>\n",
       "      <td>Smartphone</td>\n",
       "      <td>Eletrônicos</td>\n",
       "      <td>Loja B</td>\n",
       "      <td>Janeiro</td>\n",
       "      <td>37.0</td>\n",
       "      <td>1666.33</td>\n",
       "      <td>61654.21</td>\n",
       "    </tr>\n",
       "    <tr>\n",
       "      <th>2</th>\n",
       "      <td>Teclado</td>\n",
       "      <td>Periféricos</td>\n",
       "      <td>Loja A</td>\n",
       "      <td>Março</td>\n",
       "      <td>4.0</td>\n",
       "      <td>4090.82</td>\n",
       "      <td>16363.28</td>\n",
       "    </tr>\n",
       "    <tr>\n",
       "      <th>3</th>\n",
       "      <td>Monitor</td>\n",
       "      <td>Eletrônicos</td>\n",
       "      <td>Loja C</td>\n",
       "      <td>Janeiro</td>\n",
       "      <td>50.0</td>\n",
       "      <td>3585.71</td>\n",
       "      <td>179285.50</td>\n",
       "    </tr>\n",
       "    <tr>\n",
       "      <th>4</th>\n",
       "      <td>Teclado</td>\n",
       "      <td>Periféricos</td>\n",
       "      <td>Loja B</td>\n",
       "      <td>Abril</td>\n",
       "      <td>86.0</td>\n",
       "      <td>4696.94</td>\n",
       "      <td>403936.84</td>\n",
       "    </tr>\n",
       "  </tbody>\n",
       "</table>\n",
       "</div>"
      ],
      "text/plain": [
       "      Produto    Categoria    Loja      Mês  Quantidade_Vendida  \\\n",
       "0  Smartphone  Eletrônicos  Loja C    Março                27.0   \n",
       "1  Smartphone  Eletrônicos  Loja B  Janeiro                37.0   \n",
       "2     Teclado  Periféricos  Loja A    Março                 4.0   \n",
       "3     Monitor  Eletrônicos  Loja C  Janeiro                50.0   \n",
       "4     Teclado  Periféricos  Loja B    Abril                86.0   \n",
       "\n",
       "   Valor_Unitario  Faturamento_Total  \n",
       "0         3686.73           99541.71  \n",
       "1         1666.33           61654.21  \n",
       "2         4090.82           16363.28  \n",
       "3         3585.71          179285.50  \n",
       "4         4696.94          403936.84  "
      ]
     },
     "execution_count": 61,
     "metadata": {},
     "output_type": "execute_result"
    }
   ],
   "source": [
    "#Crie uma nova coluna Faturamento_Total multiplicando a quantidade pelo valor unitário.\n",
    "df[\"Faturamento_Total\"] = df[\"Quantidade_Vendida\"] * df[\"Valor_Unitario\"]\n",
    "df.head()"
   ]
  },
  {
   "cell_type": "code",
   "execution_count": 69,
   "id": "99571a5e",
   "metadata": {},
   "outputs": [
    {
     "name": "stdout",
     "output_type": "stream",
     "text": [
      "Quantidade de valores Nulos em 'Faturamento_Total': 0\n",
      "Não há valores nulos pois todos os dados foram tratados\n"
     ]
    }
   ],
   "source": [
    "#Verifique se há valores nulos no faturamento e justifique o motivo.\n",
    "print(f\"Quantidade de valores Nulos em 'Faturamento_Total': {df[\"Faturamento_Total\"].isnull().sum()}\")\n",
    "print(\"Não há valores nulos pois todos os dados foram tratados\")"
   ]
  },
  {
   "cell_type": "code",
   "execution_count": 83,
   "id": "a5055ec8",
   "metadata": {},
   "outputs": [
    {
     "name": "stdout",
     "output_type": "stream",
     "text": [
      "Resumo do Faturamento Total por Loja: \n",
      "\n",
      "      Loja  Faturamento_Total\n",
      "1  Loja B       5,524,050.25\n",
      "0  Loja A       4,865,579.91\n",
      "2  Loja C       4,284,796.57\n",
      "\n",
      "Resumo do Faturamento Total por Produto: \n",
      "\n",
      "          Produto  Faturamento_Total\n",
      "2           Mouse       3,136,762.20\n",
      "5         Teclado       3,015,885.42\n",
      "3        Notebook       2,838,387.98\n",
      "4      Smartphone       2,231,653.16\n",
      "1         Monitor       1,769,896.26\n",
      "0  Fone De Ouvido       1,681,841.72\n"
     ]
    }
   ],
   "source": [
    "#Faça um resumo com o faturamento total por loja e por produto.\n",
    "pd.options.display.float_format = '{:,.2f}'.format\n",
    "resumoPorLoja = df.groupby(\"Loja\")[\"Faturamento_Total\"].sum().reset_index().sort_values(by=\"Faturamento_Total\", ascending=False)\n",
    "print(f\"Resumo do Faturamento Total por Loja: \\n\\n {resumoPorLoja}\\n\")\n",
    "\n",
    "resumoPorProduto = df.groupby(\"Produto\")[\"Faturamento_Total\"].sum().reset_index().sort_values(by=\"Faturamento_Total\", ascending=False)\n",
    "print(f\"Resumo do Faturamento Total por Produto: \\n\\n{resumoPorProduto}\")"
   ]
  },
  {
   "cell_type": "code",
   "execution_count": null,
   "id": "28cedf3f",
   "metadata": {},
   "outputs": [],
   "source": []
  }
 ],
 "metadata": {
  "kernelspec": {
   "display_name": "Python 3 (ipykernel)",
   "language": "python",
   "name": "python3"
  },
  "language_info": {
   "codemirror_mode": {
    "name": "ipython",
    "version": 3
   },
   "file_extension": ".py",
   "mimetype": "text/x-python",
   "name": "python",
   "nbconvert_exporter": "python",
   "pygments_lexer": "ipython3",
   "version": "3.13.2"
  }
 },
 "nbformat": 4,
 "nbformat_minor": 5
}
