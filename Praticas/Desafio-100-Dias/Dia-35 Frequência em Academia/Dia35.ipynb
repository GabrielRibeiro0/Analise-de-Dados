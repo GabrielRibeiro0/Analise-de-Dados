{
 "cells": [
  {
   "cell_type": "markdown",
   "id": "5fb3ea52-75e7-4f48-a088-32a82df8f5ae",
   "metadata": {},
   "source": [
    "Desafio 35: Frequência em Academia\n",
    "\n",
    "📂 Dataset: Registro de presença e tempo de treino de alunos de uma academia.\n",
    "Colunas: Aluno, Data, Dia_Semana, Check-in, Tempo_Treino_Min\n",
    "\n",
    "🎯 Tarefas:\n",
    "\n",
    "Identifique e corrija os dados inválidos nas colunas Check-in e Tempo_Treino_Min.\n",
    "\n",
    "Qual o tempo médio de treino dos alunos que fizeram check-in?\n",
    "\n",
    "Em qual dia da semana há maior frequência de check-ins?\n",
    "\n",
    "Quais alunos têm maior média de tempo de treino por sessão?\n",
    "\n",
    "Crie um gráfico de barras com a média de tempo de treino por dia da semana."
   ]
  },
  {
   "cell_type": "code",
   "execution_count": 30,
   "id": "4e4b9c77-a788-4e16-be8a-8797e4d83749",
   "metadata": {},
   "outputs": [],
   "source": [
    "import pandas as pd\n",
    "import matplotlib.pyplot as plt"
   ]
  },
  {
   "cell_type": "code",
   "execution_count": 2,
   "id": "11fcb9df-08c0-45fb-b9d7-e4c4e7b91a80",
   "metadata": {},
   "outputs": [
    {
     "data": {
      "text/html": [
       "<div>\n",
       "<style scoped>\n",
       "    .dataframe tbody tr th:only-of-type {\n",
       "        vertical-align: middle;\n",
       "    }\n",
       "\n",
       "    .dataframe tbody tr th {\n",
       "        vertical-align: top;\n",
       "    }\n",
       "\n",
       "    .dataframe thead th {\n",
       "        text-align: right;\n",
       "    }\n",
       "</style>\n",
       "<table border=\"1\" class=\"dataframe\">\n",
       "  <thead>\n",
       "    <tr style=\"text-align: right;\">\n",
       "      <th></th>\n",
       "      <th>Aluno</th>\n",
       "      <th>Data</th>\n",
       "      <th>Dia_Semana</th>\n",
       "      <th>Check-in</th>\n",
       "      <th>Tempo_Treino_Min</th>\n",
       "    </tr>\n",
       "  </thead>\n",
       "  <tbody>\n",
       "    <tr>\n",
       "      <th>0</th>\n",
       "      <td>Aluno_70</td>\n",
       "      <td>2024-02-07</td>\n",
       "      <td>Quarta</td>\n",
       "      <td>Não</td>\n",
       "      <td>45.0</td>\n",
       "    </tr>\n",
       "    <tr>\n",
       "      <th>1</th>\n",
       "      <td>Aluno_46</td>\n",
       "      <td>2024-02-28</td>\n",
       "      <td>Segunda</td>\n",
       "      <td>Sim</td>\n",
       "      <td>93.0</td>\n",
       "    </tr>\n",
       "    <tr>\n",
       "      <th>2</th>\n",
       "      <td>Aluno_47</td>\n",
       "      <td>2024-02-11</td>\n",
       "      <td>Quarta</td>\n",
       "      <td>Sim</td>\n",
       "      <td>59.0</td>\n",
       "    </tr>\n",
       "    <tr>\n",
       "      <th>3</th>\n",
       "      <td>Aluno_9</td>\n",
       "      <td>2024-03-01</td>\n",
       "      <td>Sábado</td>\n",
       "      <td>Sim</td>\n",
       "      <td>31.0</td>\n",
       "    </tr>\n",
       "    <tr>\n",
       "      <th>4</th>\n",
       "      <td>Aluno_47</td>\n",
       "      <td>2024-03-22</td>\n",
       "      <td>Quinta</td>\n",
       "      <td>Sim</td>\n",
       "      <td>32.0</td>\n",
       "    </tr>\n",
       "  </tbody>\n",
       "</table>\n",
       "</div>"
      ],
      "text/plain": [
       "      Aluno        Data Dia_Semana Check-in  Tempo_Treino_Min\n",
       "0  Aluno_70  2024-02-07     Quarta      Não              45.0\n",
       "1  Aluno_46  2024-02-28    Segunda      Sim              93.0\n",
       "2  Aluno_47  2024-02-11     Quarta      Sim              59.0\n",
       "3   Aluno_9  2024-03-01     Sábado      Sim              31.0\n",
       "4  Aluno_47  2024-03-22     Quinta      Sim              32.0"
      ]
     },
     "execution_count": 2,
     "metadata": {},
     "output_type": "execute_result"
    }
   ],
   "source": [
    "df = pd.read_csv(\"dia_35_frequencia_academia.csv\")\n",
    "df.head()"
   ]
  },
  {
   "cell_type": "code",
   "execution_count": 17,
   "id": "45e4290f-7bd8-4a25-b744-bbbc91e8ef53",
   "metadata": {},
   "outputs": [],
   "source": [
    "#Identifique e corrija os dados inválidos nas colunas Check-in e Tempo_Treino_Min.\n",
    "df[\"Check-in\"] = df[\"Check-in\"].replace(\"Talvez\", \"Sim\")\n",
    "\n",
    "df[\"Tempo_Treino_Min\"] = pd.to_numeric(df[\"Tempo_Treino_Min\"], errors=\"coerce\")\n",
    "df[\"Tempo_Treino_Min\"] = df[\"Tempo_Treino_Min\"].fillna(df[\"Tempo_Treino_Min\"].mean().round(1))"
   ]
  },
  {
   "cell_type": "code",
   "execution_count": 20,
   "id": "fd48f6aa-659f-441f-9077-47eaea178371",
   "metadata": {},
   "outputs": [
    {
     "name": "stdout",
     "output_type": "stream",
     "text": [
      "Tempo médio de treino dos alunos que fizeram check-in: 67.16 minutos\n"
     ]
    }
   ],
   "source": [
    "#Qual o tempo médio de treino dos alunos que fizeram check-in?\n",
    "treinoSimCheckin = df[df[\"Check-in\"] == \"Sim\"][\"Tempo_Treino_Min\"].mean()\n",
    "print(f\"Tempo médio de treino dos alunos que fizeram check-in: {treinoSimCheckin:.2f} minutos\")"
   ]
  },
  {
   "cell_type": "code",
   "execution_count": 24,
   "id": "adfd09fb-85f7-4ae9-87bb-895809c7f290",
   "metadata": {},
   "outputs": [
    {
     "name": "stdout",
     "output_type": "stream",
     "text": [
      "Dia_Semana\n",
      "Sábado     80\n",
      "Sexta      79\n",
      "Quinta     78\n",
      "Terça      77\n",
      "Quarta     66\n",
      "Segunda    64\n",
      "Name: count, dtype: int64\n"
     ]
    }
   ],
   "source": [
    "#Em qual dia da semana há maior frequência de check-ins?\n",
    "checkins = df[df[\"Check-in\"] == \"Sim\"]\n",
    "diaSemanaMaisCheckin = checkins[\"Dia_Semana\"].value_counts()\n",
    "print(diaSemanaMaisCheckin)"
   ]
  },
  {
   "cell_type": "code",
   "execution_count": 29,
   "id": "668783b7-9ccd-429a-a514-f6f7a4d01632",
   "metadata": {},
   "outputs": [
    {
     "name": "stdout",
     "output_type": "stream",
     "text": [
      "Aluno\n",
      "Aluno_61    107.00\n",
      "Aluno_63    103.00\n",
      "Aluno_83    100.67\n",
      "Aluno_60    100.50\n",
      "Aluno_4      93.50\n",
      "Name: Tempo_Treino_Min, dtype: float64\n"
     ]
    }
   ],
   "source": [
    "#Quais alunos têm maior média de tempo de treino por sessão?\n",
    "checkins = df[df[\"Check-in\"] == \"Sim\"]\n",
    "tempoTreinoAlunos = checkins.groupby(\"Aluno\")[\"Tempo_Treino_Min\"].mean().sort_values(ascending=False).round(2)\n",
    "print(tempoTreinoAlunos.head())"
   ]
  },
  {
   "cell_type": "code",
   "execution_count": 41,
   "id": "1f3ddfaf-3b3f-4b76-a9b9-309418c7bf85",
   "metadata": {},
   "outputs": [
    {
     "data": {
      "image/png": "[encoded data removed]",
      "text/plain": [
       "<Figure size 640x480 with 1 Axes>"
      ]
     },
     "metadata": {},
     "output_type": "display_data"
    }
   ],
   "source": [
    "#Crie um gráfico de barras com a média de tempo de treino por dia da semana.\n",
    "checkin_df = df[df[\"Check-in\"] == \"Sim\"]\n",
    "mediaTempoTreinoDia = checkin_df.groupby(\"Dia_Semana\")[\"Tempo_Treino_Min\"].mean()\n",
    "\n",
    "mediaTempoTreinoDia.plot(kind='barh')\n",
    "plt.title(\"Média de Tempo de Treino por Dia da Semana\")\n",
    "plt.xlabel(\"Tempo Médio (min)\")\n",
    "plt.ylabel(\"Dia da semana\")\n",
    "plt.grid(axis='x', linestyle='--', alpha=0.5)\n",
    "plt.show()"
   ]
  }
 ],
 "metadata": {
  "kernelspec": {
   "display_name": "Python 3 (ipykernel)",
   "language": "python",
   "name": "python3"
  },
  "language_info": {
   "codemirror_mode": {
    "name": "ipython",
    "version": 3
   },
   "file_extension": ".py",
   "mimetype": "text/x-python",
   "name": "python",
   "nbconvert_exporter": "python",
   "pygments_lexer": "ipython3",
   "version": "3.12.7"
  }
 },
 "nbformat": 4,
 "nbformat_minor": 5
}
