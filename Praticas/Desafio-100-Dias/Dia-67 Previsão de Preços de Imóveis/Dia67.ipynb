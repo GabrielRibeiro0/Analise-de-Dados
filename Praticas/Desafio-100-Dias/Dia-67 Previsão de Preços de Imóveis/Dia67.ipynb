{
 "cells": [
  {
   "cell_type": "markdown",
   "id": "ca6919d7-23dc-4c4e-9edc-5113f0bcc55c",
   "metadata": {},
   "source": [
    "🎯 Desafio dia 67 — Previsão de Preços de Imóveis\n",
    "\n",
    "📂 Dataset: desafio_dia_67_precos_imoveis.csv\n",
    "📥 Clique aqui para baixar o CSV\n",
    "\n",
    "🔍 Contexto:\n",
    "Você recebeu um dataset contendo informações sobre imóveis em São Paulo, como bairro, metragem, quantidade de quartos, banheiros, vagas e o preço em milhares de reais. Seu objetivo é preparar os dados e construir um modelo simples de regressão para prever o preço dos imóveis com base nas características disponíveis.\n",
    "\n",
    "🛠️ Tarefas do desafio:\n",
    "\n",
    "Tratamento de dados\n",
    "- Verifique e trate os valores ausentes nas colunas area_m2 e preco_mil_reais utilizando o preenchimento com a mediana.\n",
    "\n",
    "Análise geral\n",
    "- Calcule a média de preço por bairro.\n",
    "\n",
    "- Identifique qual bairro possui o maior preço médio por metro quadrado (preco_mil_reais / area_m2).\n",
    "\n",
    "Visualização de dados\n",
    "- Crie um gráfico de barras mostrando o preço médio dos imóveis por quantidade de quartos.\n",
    "\n",
    "Machine Learning - Regressão\n",
    "- Crie um modelo de regressão linear para prever o preco_mil_reais a partir das colunas:\n",
    "area_m2, quartos, banheiros, vaga_garagem.\n",
    "\n",
    "- Utilize train_test_split e avalie o modelo com mean_squared_error."
   ]
  },
  {
   "cell_type": "code",
   "execution_count": 22,
   "id": "9407c707-3eaf-4172-963e-74d7c8cbb63e",
   "metadata": {},
   "outputs": [],
   "source": [
    "import pandas as pd\n",
    "import seaborn as sns\n",
    "import matplotlib.pyplot as plt\n",
    "from sklearn.linear_model import LinearRegression\n",
    "from sklearn.model_selection import train_test_split\n",
    "from sklearn.metrics import mean_squared_error, accuracy_score"
   ]
  },
  {
   "cell_type": "code",
   "execution_count": 2,
   "id": "946c7202-540c-4273-8282-cfb0ef5aa36d",
   "metadata": {},
   "outputs": [
    {
     "data": {
      "text/html": [
       "<div>\n",
       "<style scoped>\n",
       "    .dataframe tbody tr th:only-of-type {\n",
       "        vertical-align: middle;\n",
       "    }\n",
       "\n",
       "    .dataframe tbody tr th {\n",
       "        vertical-align: top;\n",
       "    }\n",
       "\n",
       "    .dataframe thead th {\n",
       "        text-align: right;\n",
       "    }\n",
       "</style>\n",
       "<table border=\"1\" class=\"dataframe\">\n",
       "  <thead>\n",
       "    <tr style=\"text-align: right;\">\n",
       "      <th></th>\n",
       "      <th>id</th>\n",
       "      <th>bairro</th>\n",
       "      <th>area_m2</th>\n",
       "      <th>quartos</th>\n",
       "      <th>banheiros</th>\n",
       "      <th>vaga_garagem</th>\n",
       "      <th>preco_mil_reais</th>\n",
       "    </tr>\n",
       "  </thead>\n",
       "  <tbody>\n",
       "    <tr>\n",
       "      <th>0</th>\n",
       "      <td>1</td>\n",
       "      <td>Tatuapé</td>\n",
       "      <td>83.3</td>\n",
       "      <td>2</td>\n",
       "      <td>2</td>\n",
       "      <td>1</td>\n",
       "      <td>311.31</td>\n",
       "    </tr>\n",
       "    <tr>\n",
       "      <th>1</th>\n",
       "      <td>2</td>\n",
       "      <td>Vila Mariana</td>\n",
       "      <td>36.2</td>\n",
       "      <td>1</td>\n",
       "      <td>3</td>\n",
       "      <td>1</td>\n",
       "      <td>178.53</td>\n",
       "    </tr>\n",
       "    <tr>\n",
       "      <th>2</th>\n",
       "      <td>3</td>\n",
       "      <td>Pinheiros</td>\n",
       "      <td>81.2</td>\n",
       "      <td>2</td>\n",
       "      <td>3</td>\n",
       "      <td>1</td>\n",
       "      <td>215.13</td>\n",
       "    </tr>\n",
       "    <tr>\n",
       "      <th>3</th>\n",
       "      <td>4</td>\n",
       "      <td>Pinheiros</td>\n",
       "      <td>68.1</td>\n",
       "      <td>2</td>\n",
       "      <td>2</td>\n",
       "      <td>0</td>\n",
       "      <td>255.19</td>\n",
       "    </tr>\n",
       "    <tr>\n",
       "      <th>4</th>\n",
       "      <td>5</td>\n",
       "      <td>Tatuapé</td>\n",
       "      <td>114.9</td>\n",
       "      <td>2</td>\n",
       "      <td>1</td>\n",
       "      <td>1</td>\n",
       "      <td>354.37</td>\n",
       "    </tr>\n",
       "  </tbody>\n",
       "</table>\n",
       "</div>"
      ],
      "text/plain": [
       "   id        bairro  area_m2  quartos  banheiros  vaga_garagem  \\\n",
       "0   1       Tatuapé     83.3        2          2             1   \n",
       "1   2  Vila Mariana     36.2        1          3             1   \n",
       "2   3     Pinheiros     81.2        2          3             1   \n",
       "3   4     Pinheiros     68.1        2          2             0   \n",
       "4   5       Tatuapé    114.9        2          1             1   \n",
       "\n",
       "   preco_mil_reais  \n",
       "0           311.31  \n",
       "1           178.53  \n",
       "2           215.13  \n",
       "3           255.19  \n",
       "4           354.37  "
      ]
     },
     "execution_count": 2,
     "metadata": {},
     "output_type": "execute_result"
    }
   ],
   "source": [
    "df = pd.read_csv(\"desafio_dia_67_precos_imoveis.csv\")\n",
    "df.head()"
   ]
  },
  {
   "cell_type": "code",
   "execution_count": 6,
   "id": "47a09c03-ace0-4700-9110-fe4e94c99c12",
   "metadata": {},
   "outputs": [
    {
     "name": "stdout",
     "output_type": "stream",
     "text": [
      "<class 'pandas.core.frame.DataFrame'>\n",
      "RangeIndex: 300 entries, 0 to 299\n",
      "Data columns (total 7 columns):\n",
      " #   Column           Non-Null Count  Dtype  \n",
      "---  ------           --------------  -----  \n",
      " 0   id               300 non-null    int64  \n",
      " 1   bairro           300 non-null    object \n",
      " 2   area_m2          300 non-null    float64\n",
      " 3   quartos          300 non-null    int64  \n",
      " 4   banheiros        300 non-null    int64  \n",
      " 5   vaga_garagem     300 non-null    int64  \n",
      " 6   preco_mil_reais  300 non-null    float64\n",
      "dtypes: float64(2), int64(4), object(1)\n",
      "memory usage: 16.5+ KB\n"
     ]
    }
   ],
   "source": [
    "#Verifique e trate os valores ausentes nas colunas area_m2 e preco_mil_reais utilizando o preenchimento com a mediana.\n",
    "df[\"area_m2\"] = df[\"area_m2\"].fillna(df[\"area_m2\"].median())\n",
    "\n",
    "df[\"preco_mil_reais\"] = df[\"preco_mil_reais\"].fillna(\n",
    "    df.groupby(\"bairro\")[\"preco_mil_reais\"].transform(\"median\")\n",
    ")\n",
    "df.info()"
   ]
  },
  {
   "cell_type": "code",
   "execution_count": 9,
   "id": "d71b7825-d095-4bad-b49d-11738d2c38a4",
   "metadata": {},
   "outputs": [
    {
     "name": "stdout",
     "output_type": "stream",
     "text": [
      "bairro\n",
      "Pinheiros       267.610893\n",
      "Vila Mariana    266.689857\n",
      "Itaim Bibi      264.136842\n",
      "Tatuapé         257.457203\n",
      "Moema           238.206552\n",
      "Name: preco_mil_reais, dtype: float64\n"
     ]
    }
   ],
   "source": [
    "#Calcule a média de preço por bairro.\n",
    "media_bairro = df.groupby(\"bairro\")[\"preco_mil_reais\"].mean().sort_values(ascending=False)\n",
    "print(media_bairro)"
   ]
  },
  {
   "cell_type": "code",
   "execution_count": 11,
   "id": "f341fd81-1ed3-4b6e-9b0b-254bba8106cc",
   "metadata": {},
   "outputs": [
    {
     "name": "stdout",
     "output_type": "stream",
     "text": [
      "bairro\n",
      "Pinheiros       4.152044\n",
      "Moema           3.893363\n",
      "Tatuapé         3.775280\n",
      "Itaim Bibi      3.767708\n",
      "Vila Mariana    3.715813\n",
      "Name: preco_m2, dtype: float64\n"
     ]
    }
   ],
   "source": [
    "#Identifique qual bairro possui o maior preço médio por metro quadrado (preco_mil_reais / area_m2).\n",
    "df[\"preco_m2\"] = df[\"preco_mil_reais\"] / df[\"area_m2\"]\n",
    "bairro_preco_m2 = df.groupby(\"bairro\")[\"preco_m2\"].mean().sort_values(ascending=False)\n",
    "print(bairro_preco_m2)"
   ]
  },
  {
   "cell_type": "code",
   "execution_count": 17,
   "id": "2e19eb44-77a4-40a0-94fd-1c0693ee94e0",
   "metadata": {},
   "outputs": [
    {
     "data": {
      "image/png": "[encoded data removed]",
      "text/plain": [
       "<Figure size 640x480 with 1 Axes>"
      ]
     },
     "metadata": {},
     "output_type": "display_data"
    }
   ],
   "source": [
    "#Crie um gráfico de barras mostrando o preço médio dos imóveis por quantidade de quartos.\n",
    "quartos_preco = df.groupby(\"quartos\")[\"preco_mil_reais\"].mean()\n",
    "quartos_preco.plot(kind=\"bar\")\n",
    "plt.title(\"Preço médio por número de quartos\")\n",
    "plt.ylabel(\"Preço médio (mil R$)\")\n",
    "plt.xlabel(\"Quartos\")\n",
    "plt.show()"
   ]
  },
  {
   "cell_type": "code",
   "execution_count": 26,
   "id": "36b995cf-b50d-453a-89f3-f54164f66f3d",
   "metadata": {},
   "outputs": [
    {
     "name": "stdout",
     "output_type": "stream",
     "text": [
      "4322.835455440961\n"
     ]
    }
   ],
   "source": [
    "#Crie um modelo de regressão linear para prever o preco_mil_reais a partir das colunas: area_m2, quartos, banheiros, vaga_garagem.\n",
    "\n",
    "X = df.drop([\"preco_mil_reais\", \"bairro\", \"id\"], axis=1)\n",
    "y = df[\"preco_mil_reais\"]\n",
    "\n",
    "X_train, X_test, y_train, y_test = train_test_split(X, y, test_size=0.3, random_state=42)\n",
    "\n",
    "modelo = LinearRegression()\n",
    "modelo.fit(X_train, y_train)\n",
    "\n",
    "y_pred = modelo.predict(X_test)\n",
    "print(mean_squared_error(y_test, y_pred))"
   ]
  },
  {
   "cell_type": "code",
   "execution_count": null,
   "id": "98a083b8-00cc-4c10-969d-033e83b600b8",
   "metadata": {},
   "outputs": [],
   "source": []
  }
 ],
 "metadata": {
  "kernelspec": {
   "display_name": "Python 3 (ipykernel)",
   "language": "python",
   "name": "python3"
  },
  "language_info": {
   "codemirror_mode": {
    "name": "ipython",
    "version": 3
   },
   "file_extension": ".py",
   "mimetype": "text/x-python",
   "name": "python",
   "nbconvert_exporter": "python",
   "pygments_lexer": "ipython3",
   "version": "3.12.7"
  }
 },
 "nbformat": 4,
 "nbformat_minor": 5
}
