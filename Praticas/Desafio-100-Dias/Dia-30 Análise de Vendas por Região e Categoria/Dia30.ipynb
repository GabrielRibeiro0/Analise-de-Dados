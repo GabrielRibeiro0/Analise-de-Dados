{
 "cells": [
  {
   "cell_type": "markdown",
   "id": "43191ee1-12cd-4564-a54f-db4bd4b326ec",
   "metadata": {},
   "source": [
    "Desafio 30: Análise de Vendas por Região e Categoria\n",
    "\n",
    "📂 Dataset: Histórico de vendas de produtos por região, categoria e data.\n",
    "Colunas: Produto, Região, Categoria, Quantidade, Valor_Unitario, Data_Venda\n",
    "\n",
    "🎯 Tarefas:\n",
    "\n",
    "Limpe a coluna Valor_Unitario, tratando erros, valores em branco e ausentes.\n",
    "\n",
    "Crie uma nova coluna Valor_Total com base na multiplicação de Quantidade e Valor_Unitario.\n",
    "\n",
    "Qual região obteve o maior valor total de vendas?\n",
    "\n",
    "Qual categoria teve a maior média de valor unitário?\n",
    "\n",
    "Crie um gráfico de barras mostrando o total de vendas por categoria."
   ]
  },
  {
   "cell_type": "code",
   "execution_count": 35,
   "id": "665f9e43-09e7-47ee-820d-5d494f31a3e2",
   "metadata": {},
   "outputs": [],
   "source": [
    "import pandas as pd\n",
    "import matplotlib.pyplot as plt"
   ]
  },
  {
   "cell_type": "code",
   "execution_count": 2,
   "id": "e2125108-87c3-43f8-a4d7-9e8e7e70298c",
   "metadata": {},
   "outputs": [
    {
     "data": {
      "text/html": [
       "<div>\n",
       "<style scoped>\n",
       "    .dataframe tbody tr th:only-of-type {\n",
       "        vertical-align: middle;\n",
       "    }\n",
       "\n",
       "    .dataframe tbody tr th {\n",
       "        vertical-align: top;\n",
       "    }\n",
       "\n",
       "    .dataframe thead th {\n",
       "        text-align: right;\n",
       "    }\n",
       "</style>\n",
       "<table border=\"1\" class=\"dataframe\">\n",
       "  <thead>\n",
       "    <tr style=\"text-align: right;\">\n",
       "      <th></th>\n",
       "      <th>Produto</th>\n",
       "      <th>Região</th>\n",
       "      <th>Categoria</th>\n",
       "      <th>Quantidade</th>\n",
       "      <th>Valor_Unitario</th>\n",
       "      <th>Data_Venda</th>\n",
       "    </tr>\n",
       "  </thead>\n",
       "  <tbody>\n",
       "    <tr>\n",
       "      <th>0</th>\n",
       "      <td>Produto_21</td>\n",
       "      <td>Norte</td>\n",
       "      <td>Brinquedos</td>\n",
       "      <td>7</td>\n",
       "      <td>20.0</td>\n",
       "      <td>2024-12-26</td>\n",
       "    </tr>\n",
       "    <tr>\n",
       "      <th>1</th>\n",
       "      <td>Produto_6</td>\n",
       "      <td>Sul</td>\n",
       "      <td>Eletrônicos</td>\n",
       "      <td>34</td>\n",
       "      <td>220.0</td>\n",
       "      <td>2024-08-09</td>\n",
       "    </tr>\n",
       "    <tr>\n",
       "      <th>2</th>\n",
       "      <td>Produto_3</td>\n",
       "      <td>Centro-Oeste</td>\n",
       "      <td>Alimentos</td>\n",
       "      <td>38</td>\n",
       "      <td>80.0</td>\n",
       "      <td>2024-12-03</td>\n",
       "    </tr>\n",
       "    <tr>\n",
       "      <th>3</th>\n",
       "      <td>Produto_21</td>\n",
       "      <td>Sudeste</td>\n",
       "      <td>Brinquedos</td>\n",
       "      <td>5</td>\n",
       "      <td>30.0</td>\n",
       "      <td>2025-01-15</td>\n",
       "    </tr>\n",
       "    <tr>\n",
       "      <th>4</th>\n",
       "      <td>Produto_2</td>\n",
       "      <td>Norte</td>\n",
       "      <td>Móveis</td>\n",
       "      <td>26</td>\n",
       "      <td>160.0</td>\n",
       "      <td>2024-12-28</td>\n",
       "    </tr>\n",
       "  </tbody>\n",
       "</table>\n",
       "</div>"
      ],
      "text/plain": [
       "      Produto        Região    Categoria  Quantidade Valor_Unitario  \\\n",
       "0  Produto_21         Norte   Brinquedos           7           20.0   \n",
       "1   Produto_6           Sul  Eletrônicos          34          220.0   \n",
       "2   Produto_3  Centro-Oeste    Alimentos          38           80.0   \n",
       "3  Produto_21       Sudeste   Brinquedos           5           30.0   \n",
       "4   Produto_2         Norte       Móveis          26          160.0   \n",
       "\n",
       "   Data_Venda  \n",
       "0  2024-12-26  \n",
       "1  2024-08-09  \n",
       "2  2024-12-03  \n",
       "3  2025-01-15  \n",
       "4  2024-12-28  "
      ]
     },
     "execution_count": 2,
     "metadata": {},
     "output_type": "execute_result"
    }
   ],
   "source": [
    "df = pd.read_csv(\"dia_30_vendas_regiao_categoria.csv\")\n",
    "df.head()"
   ]
  },
  {
   "cell_type": "code",
   "execution_count": 8,
   "id": "ff5a07af-97d6-490d-95cd-73d88bbfe238",
   "metadata": {},
   "outputs": [
    {
     "data": {
      "text/plain": [
       "0"
      ]
     },
     "execution_count": 8,
     "metadata": {},
     "output_type": "execute_result"
    }
   ],
   "source": [
    "#Limpe a coluna Valor_Unitario, tratando erros, valores em branco e ausentes.\n",
    "df[\"Valor_Unitario\"] = pd.to_numeric(df[\"Valor_Unitario\"], errors=\"coerce\")\n",
    "df[\"Valor_Unitario\"] = df[\"Valor_Unitario\"].fillna(\n",
    "    df.groupby(\"Produto\")[\"Valor_Unitario\"].transform(\"mean\")\n",
    ")\n",
    "df[\"Valor_Unitario\"].isnull().sum()"
   ]
  },
  {
   "cell_type": "code",
   "execution_count": 10,
   "id": "69dca9f2-168b-4fe9-b686-1ca98f59df7d",
   "metadata": {},
   "outputs": [
    {
     "data": {
      "text/html": [
       "<div>\n",
       "<style scoped>\n",
       "    .dataframe tbody tr th:only-of-type {\n",
       "        vertical-align: middle;\n",
       "    }\n",
       "\n",
       "    .dataframe tbody tr th {\n",
       "        vertical-align: top;\n",
       "    }\n",
       "\n",
       "    .dataframe thead th {\n",
       "        text-align: right;\n",
       "    }\n",
       "</style>\n",
       "<table border=\"1\" class=\"dataframe\">\n",
       "  <thead>\n",
       "    <tr style=\"text-align: right;\">\n",
       "      <th></th>\n",
       "      <th>Produto</th>\n",
       "      <th>Região</th>\n",
       "      <th>Categoria</th>\n",
       "      <th>Quantidade</th>\n",
       "      <th>Valor_Unitario</th>\n",
       "      <th>Data_Venda</th>\n",
       "      <th>Valor_Total</th>\n",
       "    </tr>\n",
       "  </thead>\n",
       "  <tbody>\n",
       "    <tr>\n",
       "      <th>0</th>\n",
       "      <td>Produto_21</td>\n",
       "      <td>Norte</td>\n",
       "      <td>Brinquedos</td>\n",
       "      <td>7</td>\n",
       "      <td>20.0</td>\n",
       "      <td>2024-12-26</td>\n",
       "      <td>140.0</td>\n",
       "    </tr>\n",
       "    <tr>\n",
       "      <th>1</th>\n",
       "      <td>Produto_6</td>\n",
       "      <td>Sul</td>\n",
       "      <td>Eletrônicos</td>\n",
       "      <td>34</td>\n",
       "      <td>220.0</td>\n",
       "      <td>2024-08-09</td>\n",
       "      <td>7480.0</td>\n",
       "    </tr>\n",
       "    <tr>\n",
       "      <th>2</th>\n",
       "      <td>Produto_3</td>\n",
       "      <td>Centro-Oeste</td>\n",
       "      <td>Alimentos</td>\n",
       "      <td>38</td>\n",
       "      <td>80.0</td>\n",
       "      <td>2024-12-03</td>\n",
       "      <td>3040.0</td>\n",
       "    </tr>\n",
       "    <tr>\n",
       "      <th>3</th>\n",
       "      <td>Produto_21</td>\n",
       "      <td>Sudeste</td>\n",
       "      <td>Brinquedos</td>\n",
       "      <td>5</td>\n",
       "      <td>30.0</td>\n",
       "      <td>2025-01-15</td>\n",
       "      <td>150.0</td>\n",
       "    </tr>\n",
       "    <tr>\n",
       "      <th>4</th>\n",
       "      <td>Produto_2</td>\n",
       "      <td>Norte</td>\n",
       "      <td>Móveis</td>\n",
       "      <td>26</td>\n",
       "      <td>160.0</td>\n",
       "      <td>2024-12-28</td>\n",
       "      <td>4160.0</td>\n",
       "    </tr>\n",
       "  </tbody>\n",
       "</table>\n",
       "</div>"
      ],
      "text/plain": [
       "      Produto        Região    Categoria  Quantidade  Valor_Unitario  \\\n",
       "0  Produto_21         Norte   Brinquedos           7            20.0   \n",
       "1   Produto_6           Sul  Eletrônicos          34           220.0   \n",
       "2   Produto_3  Centro-Oeste    Alimentos          38            80.0   \n",
       "3  Produto_21       Sudeste   Brinquedos           5            30.0   \n",
       "4   Produto_2         Norte       Móveis          26           160.0   \n",
       "\n",
       "   Data_Venda  Valor_Total  \n",
       "0  2024-12-26        140.0  \n",
       "1  2024-08-09       7480.0  \n",
       "2  2024-12-03       3040.0  \n",
       "3  2025-01-15        150.0  \n",
       "4  2024-12-28       4160.0  "
      ]
     },
     "execution_count": 10,
     "metadata": {},
     "output_type": "execute_result"
    }
   ],
   "source": [
    "#Crie uma nova coluna Valor_Total com base na multiplicação de Quantidade e Valor_Unitario.\n",
    "df[\"Valor_Total\"] = df[\"Quantidade\"] * df[\"Valor_Unitario\"]\n",
    "df.head()"
   ]
  },
  {
   "cell_type": "code",
   "execution_count": 31,
   "id": "f02f11c1-6b38-4101-b72f-7738ea4e9af3",
   "metadata": {},
   "outputs": [
    {
     "name": "stdout",
     "output_type": "stream",
     "text": [
      "a Região com o maior valor total de vendas foi: Sul (R$ 591,150.66)\n"
     ]
    }
   ],
   "source": [
    "#Qual região obteve o maior valor total de vendas?\n",
    "regiaoMaisVendas = df.groupby(\"Região\")[\"Valor_Total\"].sum().sort_values(ascending=True).round(2)\n",
    "print(f\"a Região com o maior valor total de vendas foi: {regiaoMaisVendas.idxmax()} ({regiaoMaisVendas.apply(lambda x: f\"R$ {x:,.2f}\").max()})\")"
   ]
  },
  {
   "cell_type": "code",
   "execution_count": 34,
   "id": "2eaa938b-591b-49a5-8318-9058e37ef66e",
   "metadata": {},
   "outputs": [
    {
     "name": "stdout",
     "output_type": "stream",
     "text": [
      "a Categoria com o maior média de valor unitário foi: Eletrônicos (R$ 273.83)\n"
     ]
    }
   ],
   "source": [
    "#Qual categoria teve a maior média de valor unitário?\n",
    "categoriaMaiorMedioUnitaria = df.groupby(\"Categoria\")[\"Valor_Unitario\"].mean()\n",
    "print(f\"a Categoria com o maior média de valor unitário foi: {categoriaMaiorMedioUnitaria.idxmax()} ({categoriaMaiorMedioUnitaria.apply(lambda x: f\"R$ {x:,.2f}\").max()})\")"
   ]
  },
  {
   "cell_type": "code",
   "execution_count": 42,
   "id": "56536834-2e43-4f2f-bcc6-fae8a5af9770",
   "metadata": {},
   "outputs": [
    {
     "data": {
      "image/png": "[encoded data removed]",
      "text/plain": [
       "<Figure size 640x480 with 1 Axes>"
      ]
     },
     "metadata": {},
     "output_type": "display_data"
    }
   ],
   "source": [
    "#Crie um gráfico de barras mostrando o total de vendas por categoria.\n",
    "totalPorCategoria = df.groupby(\"Categoria\")[\"Valor_Total\"].sum().sort_values(ascending=False)\n",
    "totalPorCategoria.plot(kind=\"bar\", color=\"skyblue\")\n",
    "plt.title(\"Total de Vendas por Categoria\")\n",
    "plt.xlabel(\"Categoria\")\n",
    "plt.ylabel(\"Total de Vendas (R$)\")\n",
    "plt.grid(axis=\"y\",linestyle=\"--\")\n",
    "plt.show()"
   ]
  }
 ],
 "metadata": {
  "kernelspec": {
   "display_name": "Python 3 (ipykernel)",
   "language": "python",
   "name": "python3"
  },
  "language_info": {
   "codemirror_mode": {
    "name": "ipython",
    "version": 3
   },
   "file_extension": ".py",
   "mimetype": "text/x-python",
   "name": "python",
   "nbconvert_exporter": "python",
   "pygments_lexer": "ipython3",
   "version": "3.12.7"
  }
 },
 "nbformat": 4,
 "nbformat_minor": 5
}
