{
 "cells": [
  {
   "cell_type": "markdown",
   "id": "ac6dbf76",
   "metadata": {},
   "source": [
    "Desafio 25: Análise de Dados Meteorológicos com Tratamento\n",
    "\n",
    "📂 Dataset: Registros mensais de temperatura e precipitação em diferentes cidades brasileiras.\n",
    "Colunas: Cidade, Mês, Temperatura_Média_C, Precipitação_mm\n",
    "\n",
    "🎯 Tarefas:\n",
    "\n",
    "    Converta as colunas Temperatura_Média_C e Precipitação_mm para numérico, tratando valores inválidos como \"\", \"N/A\" e NaN.\n",
    "\n",
    "    Identifique e conte os valores ausentes em cada coluna.\n",
    "\n",
    "    Calcule a temperatura média anual por cidade (após tratamento).\n",
    "\n",
    "    Gere um gráfico de barras mostrando a média de precipitação por cidade."
   ]
  },
  {
   "cell_type": "code",
   "execution_count": 26,
   "id": "0cee3e6f",
   "metadata": {},
   "outputs": [],
   "source": [
    "import pandas as pd\n",
    "import matplotlib.pyplot as plt"
   ]
  },
  {
   "cell_type": "code",
   "execution_count": 15,
   "id": "386fe928",
   "metadata": {},
   "outputs": [
    {
     "data": {
      "text/html": [
       "<div>\n",
       "<style scoped>\n",
       "    .dataframe tbody tr th:only-of-type {\n",
       "        vertical-align: middle;\n",
       "    }\n",
       "\n",
       "    .dataframe tbody tr th {\n",
       "        vertical-align: top;\n",
       "    }\n",
       "\n",
       "    .dataframe thead th {\n",
       "        text-align: right;\n",
       "    }\n",
       "</style>\n",
       "<table border=\"1\" class=\"dataframe\">\n",
       "  <thead>\n",
       "    <tr style=\"text-align: right;\">\n",
       "      <th></th>\n",
       "      <th>Cidade</th>\n",
       "      <th>Mês</th>\n",
       "      <th>Temperatura_Média_C</th>\n",
       "      <th>Precipitação_mm</th>\n",
       "    </tr>\n",
       "  </thead>\n",
       "  <tbody>\n",
       "    <tr>\n",
       "      <th>0</th>\n",
       "      <td>Belo Horizonte</td>\n",
       "      <td>Set</td>\n",
       "      <td>22.5</td>\n",
       "      <td>115.2</td>\n",
       "    </tr>\n",
       "    <tr>\n",
       "      <th>1</th>\n",
       "      <td>Salvador</td>\n",
       "      <td>Set</td>\n",
       "      <td>16.8</td>\n",
       "      <td>84.8</td>\n",
       "    </tr>\n",
       "    <tr>\n",
       "      <th>2</th>\n",
       "      <td>São Paulo</td>\n",
       "      <td>Set</td>\n",
       "      <td>16.6</td>\n",
       "      <td>148.5</td>\n",
       "    </tr>\n",
       "    <tr>\n",
       "      <th>3</th>\n",
       "      <td>Porto Alegre</td>\n",
       "      <td>Mar</td>\n",
       "      <td>30.6</td>\n",
       "      <td>87.9</td>\n",
       "    </tr>\n",
       "    <tr>\n",
       "      <th>4</th>\n",
       "      <td>Porto Alegre</td>\n",
       "      <td>Nov</td>\n",
       "      <td>24.1</td>\n",
       "      <td>197.0</td>\n",
       "    </tr>\n",
       "  </tbody>\n",
       "</table>\n",
       "</div>"
      ],
      "text/plain": [
       "           Cidade  Mês  Temperatura_Média_C  Precipitação_mm\n",
       "0  Belo Horizonte  Set                 22.5            115.2\n",
       "1        Salvador  Set                 16.8             84.8\n",
       "2       São Paulo  Set                 16.6            148.5\n",
       "3    Porto Alegre  Mar                 30.6             87.9\n",
       "4    Porto Alegre  Nov                 24.1            197.0"
      ]
     },
     "execution_count": 15,
     "metadata": {},
     "output_type": "execute_result"
    }
   ],
   "source": [
    "df = pd.read_csv(\"dia_25_dados_meteorologicos.csv\")\n",
    "df.head()"
   ]
  },
  {
   "cell_type": "code",
   "execution_count": 16,
   "id": "6b7daf70",
   "metadata": {},
   "outputs": [],
   "source": [
    "#Converta as colunas Temperatura_Média_C e Precipitação_mm para numérico, tratando valores inválidos como \"\", \"N/A\" e NaN.\n",
    "df[\"Temperatura_Média_C\"] = pd.to_numeric(df[\"Temperatura_Média_C\"], errors=\"coerce\")\n",
    "df[\"Precipitação_mm\"] = pd.to_numeric(df[\"Precipitação_mm\"], errors=\"coerce\")\n",
    "\n",
    "df[\"Temperatura_Média_C\"] = df[\"Temperatura_Média_C\"].fillna(\n",
    "    df.groupby([\"Cidade\", \"Mês\"])[\"Temperatura_Média_C\"].transform(\"mean\")\n",
    ")\n",
    "\n",
    "df[\"Precipitação_mm\"] = df[\"Precipitação_mm\"].fillna(\n",
    "    df.groupby([\"Cidade\", \"Mês\"])[\"Precipitação_mm\"].transform(\"mean\")\n",
    ")"
   ]
  },
  {
   "cell_type": "code",
   "execution_count": 17,
   "id": "e6757a26",
   "metadata": {},
   "outputs": [
    {
     "data": {
      "text/plain": [
       "Cidade                 0\n",
       "Mês                    0\n",
       "Temperatura_Média_C    0\n",
       "Precipitação_mm        0\n",
       "dtype: int64"
      ]
     },
     "execution_count": 17,
     "metadata": {},
     "output_type": "execute_result"
    }
   ],
   "source": [
    "#Identifique e conte os valores ausentes em cada coluna.\n",
    "df.isnull().sum()"
   ]
  },
  {
   "cell_type": "code",
   "execution_count": 25,
   "id": "a04a4bd2",
   "metadata": {},
   "outputs": [
    {
     "name": "stdout",
     "output_type": "stream",
     "text": [
      "Cidade\n",
      "Belo Horizonte    23.2 ºC\n",
      "Porto Alegre      24.5 ºC\n",
      "Rio de Janeiro    23.0 ºC\n",
      "Salvador          26.2 ºC\n",
      "São Paulo         25.2 ºC\n"
     ]
    }
   ],
   "source": [
    "#Calcule a temperatura média anual por cidade (após tratamento).\n",
    "tempMediaCidade = df.groupby(\"Cidade\")[\"Temperatura_Média_C\"].mean().round(1)\n",
    "print(tempMediaCidade.apply(lambda x: f\"{x} ºC\").to_string())"
   ]
  },
  {
   "cell_type": "code",
   "execution_count": 46,
   "id": "f5e6d456",
   "metadata": {},
   "outputs": [
    {
     "data": {
      "image/png": "[encoded data removed]",
      "text/plain": [
       "<Figure size 640x480 with 1 Axes>"
      ]
     },
     "metadata": {},
     "output_type": "display_data"
    }
   ],
   "source": [
    "#Gere um gráfico de barras mostrando a média de precipitação por cidade.\n",
    "precipitacaoCidadeMedia = df.groupby(\"Cidade\")[\"Precipitação_mm\"].mean()\n",
    "plt.barh(precipitacaoCidadeMedia.index, precipitacaoCidadeMedia.values)\n",
    "plt.title(\"Média de Precipitação por Cidade\")\n",
    "plt.xlabel(\"Cidade\")\n",
    "plt.ylabel(\"Precipitação Média (mm)\")\n",
    "plt.grid(color=\"grey\", linestyle=\"--\", axis=\"x\")\n",
    "plt.show()"
   ]
  },
  {
   "cell_type": "code",
   "execution_count": null,
   "id": "a06231a2",
   "metadata": {},
   "outputs": [],
   "source": []
  }
 ],
 "metadata": {
  "kernelspec": {
   "display_name": "Python 3 (ipykernel)",
   "language": "python",
   "name": "python3"
  },
  "language_info": {
   "codemirror_mode": {
    "name": "ipython",
    "version": 3
   },
   "file_extension": ".py",
   "mimetype": "text/x-python",
   "name": "python",
   "nbconvert_exporter": "python",
   "pygments_lexer": "ipython3",
   "version": "3.13.2"
  }
 },
 "nbformat": 4,
 "nbformat_minor": 5
}
