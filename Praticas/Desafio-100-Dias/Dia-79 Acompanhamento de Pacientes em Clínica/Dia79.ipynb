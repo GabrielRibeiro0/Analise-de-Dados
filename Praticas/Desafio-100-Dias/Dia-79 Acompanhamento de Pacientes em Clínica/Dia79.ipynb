{
 "cells": [
  {
   "cell_type": "markdown",
   "id": "d4b20723-6b90-4895-be3d-06d43f25a51c",
   "metadata": {},
   "source": [
    "🎯 Desafio dia 79 — Acompanhamento de Pacientes em Clínica\n",
    "\n",
    "📂 Dataset: desafio_dia_79_consultas_clinica.csv\n",
    "📥 Clique aqui para baixar o CSV\n",
    "\n",
    "🔍 Contexto: Você está trabalhando com dados de uma clínica médica que deseja analisar o comportamento dos pacientes em relação às consultas agendadas. As informações incluem especialidade, gênero, idade, tempo de espera e status da consulta.\n",
    "\n",
    "🛠️ Tarefas do desafio:\n",
    "\n",
    "🧹 Tratamento de dados\n",
    "- Preencha os valores ausentes da coluna dias_espera com a mediana.\n",
    "\n",
    "- Preencha os valores ausentes da coluna genero com o valor mais frequente.\n",
    "\n",
    "📊 Análise geral\n",
    "- Qual especialidade tem mais cancelamentos?\n",
    "\n",
    "- Qual é a idade média dos pacientes que faltaram às consultas?\n",
    "\n",
    "📈 Visualização de dados\n",
    "- Crie um gráfico de barras mostrando a contagem de consultas por especialidade, separadas por status_consulta.\n",
    "\n",
    "🤖 Machine Learning - Classificação\n",
    "- Crie um modelo para prever o status_consulta com base nas colunas:\n",
    "\n",
    "    idade, dias_espera, especialidade e genero\n",
    "\n",
    "    Use train_test_split, get_dummies, RandomForestClassifier e avalie com accuracy_score.\n",
    "\n"
   ]
  },
  {
   "cell_type": "code",
   "execution_count": 30,
   "id": "c0869e05-2fc2-493e-bc11-d5a17809e09c",
   "metadata": {},
   "outputs": [],
   "source": [
    "import pandas as pd\n",
    "import seaborn as sns\n",
    "import matplotlib.pyplot as plt\n",
    "from sklearn.model_selection import train_test_split\n",
    "from sklearn.ensemble import RandomForestClassifier\n",
    "from sklearn.metrics import accuracy_score"
   ]
  },
  {
   "cell_type": "code",
   "execution_count": 2,
   "id": "ea317305-7b1d-47a1-bb83-e68244db9656",
   "metadata": {},
   "outputs": [
    {
     "data": {
      "text/html": [
       "<div>\n",
       "<style scoped>\n",
       "    .dataframe tbody tr th:only-of-type {\n",
       "        vertical-align: middle;\n",
       "    }\n",
       "\n",
       "    .dataframe tbody tr th {\n",
       "        vertical-align: top;\n",
       "    }\n",
       "\n",
       "    .dataframe thead th {\n",
       "        text-align: right;\n",
       "    }\n",
       "</style>\n",
       "<table border=\"1\" class=\"dataframe\">\n",
       "  <thead>\n",
       "    <tr style=\"text-align: right;\">\n",
       "      <th></th>\n",
       "      <th>id_consulta</th>\n",
       "      <th>especialidade</th>\n",
       "      <th>genero</th>\n",
       "      <th>idade</th>\n",
       "      <th>dias_espera</th>\n",
       "      <th>status_consulta</th>\n",
       "    </tr>\n",
       "  </thead>\n",
       "  <tbody>\n",
       "    <tr>\n",
       "      <th>0</th>\n",
       "      <td>8001</td>\n",
       "      <td>Ortopedia</td>\n",
       "      <td>Masculino</td>\n",
       "      <td>48</td>\n",
       "      <td>8.0</td>\n",
       "      <td>Compareceu</td>\n",
       "    </tr>\n",
       "    <tr>\n",
       "      <th>1</th>\n",
       "      <td>8002</td>\n",
       "      <td>Pediatria</td>\n",
       "      <td>Masculino</td>\n",
       "      <td>45</td>\n",
       "      <td>29.0</td>\n",
       "      <td>Cancelou</td>\n",
       "    </tr>\n",
       "    <tr>\n",
       "      <th>2</th>\n",
       "      <td>8003</td>\n",
       "      <td>Dermatologia</td>\n",
       "      <td>Feminino</td>\n",
       "      <td>48</td>\n",
       "      <td>17.0</td>\n",
       "      <td>Compareceu</td>\n",
       "    </tr>\n",
       "    <tr>\n",
       "      <th>3</th>\n",
       "      <td>8004</td>\n",
       "      <td>Clínico Geral</td>\n",
       "      <td>Masculino</td>\n",
       "      <td>36</td>\n",
       "      <td>13.0</td>\n",
       "      <td>Compareceu</td>\n",
       "    </tr>\n",
       "    <tr>\n",
       "      <th>4</th>\n",
       "      <td>8005</td>\n",
       "      <td>Ortopedia</td>\n",
       "      <td>Feminino</td>\n",
       "      <td>54</td>\n",
       "      <td>1.0</td>\n",
       "      <td>Compareceu</td>\n",
       "    </tr>\n",
       "  </tbody>\n",
       "</table>\n",
       "</div>"
      ],
      "text/plain": [
       "   id_consulta  especialidade     genero  idade  dias_espera status_consulta\n",
       "0         8001      Ortopedia  Masculino     48          8.0      Compareceu\n",
       "1         8002      Pediatria  Masculino     45         29.0        Cancelou\n",
       "2         8003   Dermatologia   Feminino     48         17.0      Compareceu\n",
       "3         8004  Clínico Geral  Masculino     36         13.0      Compareceu\n",
       "4         8005      Ortopedia   Feminino     54          1.0      Compareceu"
      ]
     },
     "execution_count": 2,
     "metadata": {},
     "output_type": "execute_result"
    }
   ],
   "source": [
    "df = pd.read_csv(\"desafio_dia_79_consultas_clinica.csv\")\n",
    "df.head()"
   ]
  },
  {
   "cell_type": "code",
   "execution_count": 3,
   "id": "c938ed4d-0c53-407d-94cb-8ecb2f78722a",
   "metadata": {},
   "outputs": [
    {
     "data": {
      "text/plain": [
       "0"
      ]
     },
     "execution_count": 3,
     "metadata": {},
     "output_type": "execute_result"
    }
   ],
   "source": [
    "#Preencha os valores ausentes da coluna dias_espera com a mediana.\n",
    "df[\"dias_espera\"] = df[\"dias_espera\"].fillna(df[\"dias_espera\"].median())\n",
    "df[\"dias_espera\"].isna().sum()"
   ]
  },
  {
   "cell_type": "code",
   "execution_count": 4,
   "id": "a7d11d7d-d30a-4691-9e7b-9b2296d918ae",
   "metadata": {},
   "outputs": [
    {
     "data": {
      "text/plain": [
       "0"
      ]
     },
     "execution_count": 4,
     "metadata": {},
     "output_type": "execute_result"
    }
   ],
   "source": [
    "#Preencha os valores ausentes da coluna genero com o valor mais frequente.\n",
    "df[\"genero\"] = df[\"genero\"].fillna(df[\"genero\"].mode()[0])\n",
    "df[\"genero\"].isna().sum()"
   ]
  },
  {
   "cell_type": "code",
   "execution_count": 19,
   "id": "d2884968-0afe-4cd6-b7ac-2c66e7473fc7",
   "metadata": {},
   "outputs": [
    {
     "name": "stdout",
     "output_type": "stream",
     "text": [
      "status_consulta  especialidade\n",
      "Cancelou         Pediatria        21\n",
      "                 Dermatologia     18\n",
      "                 Clínico Geral    15\n",
      "                 Ortopedia        15\n",
      "                 Cardiologia      13\n",
      "Name: count, dtype: int64\n"
     ]
    }
   ],
   "source": [
    "#Qual especialidade tem mais cancelamentos?\n",
    "cancelou = df[df[\"status_consulta\"] == \"Cancelou\"]\n",
    "especialidade_cancelamentos = cancelou.groupby(\"status_consulta\")[\"especialidade\"].value_counts().sort_values(ascending=False)\n",
    "print(especialidade_cancelamentos)"
   ]
  },
  {
   "cell_type": "code",
   "execution_count": 18,
   "id": "fea2e12b-8bbb-4956-8cce-c845eb070456",
   "metadata": {},
   "outputs": [
    {
     "name": "stdout",
     "output_type": "stream",
     "text": [
      "status_consulta\n",
      "Faltou    39.892857\n",
      "Name: idade, dtype: float64\n"
     ]
    }
   ],
   "source": [
    "#Qual é a idade média dos pacientes que faltaram às consultas?\n",
    "faltou = df[df[\"status_consulta\"] == \"Faltou\"]\n",
    "idade_media_faltaram = faltou.groupby(\"status_consulta\")[\"idade\"].mean()\n",
    "print(idade_media_faltaram)"
   ]
  },
  {
   "cell_type": "code",
   "execution_count": 28,
   "id": "4cf8beab-f940-44ee-902e-c95b4a6c35e7",
   "metadata": {},
   "outputs": [
    {
     "data": {
      "text/plain": [
       "Text(0.5, 0, 'Especialidade')"
      ]
     },
     "execution_count": 28,
     "metadata": {},
     "output_type": "execute_result"
    },
    {
     "data": {
      "image/png": "[encoded data removed]",
      "text/plain": [
       "<Figure size 640x480 with 1 Axes>"
      ]
     },
     "metadata": {},
     "output_type": "display_data"
    }
   ],
   "source": [
    "#Crie um gráfico de barras mostrando a contagem de consultas por especialidade, separadas por status_consulta.\n",
    "sns.countplot(data=df, x=\"especialidade\", hue=\"status_consulta\")\n",
    "plt.title(\"Consultas por Especialidade e Status\")\n",
    "plt.ylabel(\"Quantidade de Consultas\")\n",
    "plt.xlabel(\"Especialidade\")"
   ]
  },
  {
   "cell_type": "code",
   "execution_count": 36,
   "id": "7305926b-9c36-4181-8c81-6a3da486eff1",
   "metadata": {},
   "outputs": [
    {
     "name": "stdout",
     "output_type": "stream",
     "text": [
      "0.68\n"
     ]
    }
   ],
   "source": [
    "#Crie um modelo para prever o status_consulta com base nas colunas:\n",
    "X = df[[\"idade\", \"dias_espera\", \"especialidade\", \"genero\"]]\n",
    "y = df[\"status_consulta\"]\n",
    "\n",
    "X = pd.get_dummies(X)\n",
    "\n",
    "X_train, X_test, y_train, y_test = train_test_split(X, y, test_size=0.3, random_state=42)\n",
    "\n",
    "modelo = RandomForestClassifier(random_state=42)\n",
    "modelo.fit(X_train, y_train)\n",
    "\n",
    "y_pred = modelo.predict(X_test)\n",
    "print(accuracy_score(y_test, y_pred))"
   ]
  }
 ],
 "metadata": {
  "kernelspec": {
   "display_name": "Python 3 (ipykernel)",
   "language": "python",
   "name": "python3"
  },
  "language_info": {
   "codemirror_mode": {
    "name": "ipython",
    "version": 3
   },
   "file_extension": ".py",
   "mimetype": "text/x-python",
   "name": "python",
   "nbconvert_exporter": "python",
   "pygments_lexer": "ipython3",
   "version": "3.12.7"
  }
 },
 "nbformat": 4,
 "nbformat_minor": 5
}
