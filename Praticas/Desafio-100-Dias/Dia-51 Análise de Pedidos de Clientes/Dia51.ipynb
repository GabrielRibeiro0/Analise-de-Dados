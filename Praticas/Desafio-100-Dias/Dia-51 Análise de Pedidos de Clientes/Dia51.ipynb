{
 "cells": [
  {
   "cell_type": "markdown",
   "id": "fbaf0775",
   "metadata": {},
   "source": [
    "📊 Desafio 51 — Análise de Pedidos de Clientes\n",
    "\n",
    "📂 Dataset: Clique aqui para baixar o CSV\n",
    "\n",
    "Este conjunto de dados fictício representa compras feitas por clientes em uma loja online entre os anos de 2022 e 2023, com informações sobre o valor total, frete, categoria e forma de pagamento.\n",
    "\n",
    "🔍 Tarefas:\n",
    "\n",
    "Tratamento de Dados\n",
    "\n",
    "    Verifique e trate possíveis valores ausentes ou duplicados no dataset.\n",
    "\n",
    "Análise Comum\n",
    "\n",
    "    Qual foi a categoria de produto com maior valor total acumulado em vendas?\n",
    "\n",
    "Gráfico\n",
    "\n",
    "    Crie um gráfico de barras exibindo a média do valor total dos pedidos por forma de pagamento.\n",
    "\n",
    "Machine Learning (Simples)\n",
    "\n",
    "    Crie uma variável binária chamada frete_gratis que indica se o frete foi igual a 0.\n",
    "    Em seguida, treine um modelo simples de classificação (LogisticRegression ou RandomForestClassifier) para prever se um pedido terá frete grátis com base nas demais variáveis disponíveis."
   ]
  },
  {
   "cell_type": "code",
   "execution_count": 65,
   "id": "805ae52c",
   "metadata": {},
   "outputs": [],
   "source": [
    "import pandas as pd\n",
    "import seaborn as sns\n",
    "import matplotlib.pyplot as plt\n",
    "from sklearn.model_selection import train_test_split\n",
    "from sklearn.preprocessing import LabelEncoder\n",
    "from sklearn.ensemble import RandomForestClassifier\n",
    "from sklearn.metrics import accuracy_score, classification_report"
   ]
  },
  {
   "cell_type": "code",
   "execution_count": 66,
   "id": "ccbc494c",
   "metadata": {},
   "outputs": [
    {
     "data": {
      "text/html": [
       "<div>\n",
       "<style scoped>\n",
       "    .dataframe tbody tr th:only-of-type {\n",
       "        vertical-align: middle;\n",
       "    }\n",
       "\n",
       "    .dataframe tbody tr th {\n",
       "        vertical-align: top;\n",
       "    }\n",
       "\n",
       "    .dataframe thead th {\n",
       "        text-align: right;\n",
       "    }\n",
       "</style>\n",
       "<table border=\"1\" class=\"dataframe\">\n",
       "  <thead>\n",
       "    <tr style=\"text-align: right;\">\n",
       "      <th></th>\n",
       "      <th>cliente_id</th>\n",
       "      <th>data_pedido</th>\n",
       "      <th>valor_total</th>\n",
       "      <th>frete</th>\n",
       "      <th>categoria</th>\n",
       "      <th>forma_pagamento</th>\n",
       "    </tr>\n",
       "  </thead>\n",
       "  <tbody>\n",
       "    <tr>\n",
       "      <th>0</th>\n",
       "      <td>C0019</td>\n",
       "      <td>2023-09-23</td>\n",
       "      <td>742.84</td>\n",
       "      <td>33.36</td>\n",
       "      <td>Casa</td>\n",
       "      <td>Transferência</td>\n",
       "    </tr>\n",
       "    <tr>\n",
       "      <th>1</th>\n",
       "      <td>C0026</td>\n",
       "      <td>2022-03-23</td>\n",
       "      <td>122.14</td>\n",
       "      <td>33.11</td>\n",
       "      <td>Beleza</td>\n",
       "      <td>Transferência</td>\n",
       "    </tr>\n",
       "    <tr>\n",
       "      <th>2</th>\n",
       "      <td>C0032</td>\n",
       "      <td>2023-07-23</td>\n",
       "      <td>764.05</td>\n",
       "      <td>12.05</td>\n",
       "      <td>Esportes</td>\n",
       "      <td>Transferência</td>\n",
       "    </tr>\n",
       "    <tr>\n",
       "      <th>3</th>\n",
       "      <td>C0041</td>\n",
       "      <td>2022-01-27</td>\n",
       "      <td>690.67</td>\n",
       "      <td>46.17</td>\n",
       "      <td>Eletrônicos</td>\n",
       "      <td>Pix</td>\n",
       "    </tr>\n",
       "    <tr>\n",
       "      <th>4</th>\n",
       "      <td>C0009</td>\n",
       "      <td>2023-12-27</td>\n",
       "      <td>883.77</td>\n",
       "      <td>10.11</td>\n",
       "      <td>Beleza</td>\n",
       "      <td>Transferência</td>\n",
       "    </tr>\n",
       "  </tbody>\n",
       "</table>\n",
       "</div>"
      ],
      "text/plain": [
       "  cliente_id data_pedido  valor_total  frete    categoria forma_pagamento\n",
       "0      C0019  2023-09-23       742.84  33.36         Casa   Transferência\n",
       "1      C0026  2022-03-23       122.14  33.11       Beleza   Transferência\n",
       "2      C0032  2023-07-23       764.05  12.05     Esportes   Transferência\n",
       "3      C0041  2022-01-27       690.67  46.17  Eletrônicos             Pix\n",
       "4      C0009  2023-12-27       883.77  10.11       Beleza   Transferência"
      ]
     },
     "execution_count": 66,
     "metadata": {},
     "output_type": "execute_result"
    }
   ],
   "source": [
    "df = pd.read_csv(\"dia_51_pedidos_clientes.csv\")\n",
    "df.head()"
   ]
  },
  {
   "cell_type": "code",
   "execution_count": 67,
   "id": "1d3075b5",
   "metadata": {},
   "outputs": [
    {
     "data": {
      "text/plain": [
       "cliente_id         0\n",
       "data_pedido        0\n",
       "valor_total        0\n",
       "frete              0\n",
       "categoria          0\n",
       "forma_pagamento    0\n",
       "dtype: int64"
      ]
     },
     "execution_count": 67,
     "metadata": {},
     "output_type": "execute_result"
    }
   ],
   "source": [
    "#Verifique e trate possíveis valores ausentes ou duplicados no dataset.\n",
    "df.drop_duplicates()\n",
    "df.isnull().sum()"
   ]
  },
  {
   "cell_type": "code",
   "execution_count": 68,
   "id": "d1de70e9",
   "metadata": {},
   "outputs": [
    {
     "name": "stdout",
     "output_type": "stream",
     "text": [
      "categoria\n",
      "Esportes       34588.37\n",
      "Roupas         32896.58\n",
      "Eletrônicos    31478.21\n",
      "Beleza         30358.48\n",
      "Casa           28328.44\n",
      "Name: valor_total, dtype: float64\n"
     ]
    }
   ],
   "source": [
    "#Qual foi a categoria de produto com maior valor total acumulado em vendas?\n",
    "categoriaTotalValor = df.groupby(\"categoria\")[\"valor_total\"].sum().sort_values(ascending=False)\n",
    "print(categoriaTotalValor)"
   ]
  },
  {
   "cell_type": "code",
   "execution_count": 69,
   "id": "5f5d3e7e",
   "metadata": {},
   "outputs": [
    {
     "data": {
      "image/png": "[encoded data removed]",
      "text/plain": [
       "<Figure size 640x480 with 1 Axes>"
      ]
     },
     "metadata": {},
     "output_type": "display_data"
    }
   ],
   "source": [
    "#Crie um gráfico de barras exibindo a média do valor total dos pedidos por forma de pagamento.\n",
    "mediaTotalPagamento = df.groupby(\"forma_pagamento\")[\"valor_total\"].mean()\n",
    "sns.barplot(data=mediaTotalPagamento)\n",
    "plt.title('Média do Valor Total por Forma de Pagamento')\n",
    "plt.xlabel('Forma de Pagamento')\n",
    "plt.ylabel('Valor Médio dos Pedidos')\n",
    "plt.grid(axis=\"y\", linestyle=\"--\", alpha=0.7)\n",
    "plt.show()"
   ]
  },
  {
   "cell_type": "code",
   "execution_count": 80,
   "id": "cfcbe67d",
   "metadata": {},
   "outputs": [
    {
     "name": "stdout",
     "output_type": "stream",
     "text": [
      "Acurácia: 1.0\n",
      "              precision    recall  f1-score   support\n",
      "\n",
      "           0       1.00      1.00      1.00        90\n",
      "\n",
      "    accuracy                           1.00        90\n",
      "   macro avg       1.00      1.00      1.00        90\n",
      "weighted avg       1.00      1.00      1.00        90\n",
      "\n",
      "valor_total        0.0\n",
      "frete              0.0\n",
      "categoria          0.0\n",
      "forma_pagamento    0.0\n",
      "dtype: float64\n"
     ]
    }
   ],
   "source": [
    "#Crie uma variável binária chamada frete_gratis que indica se o frete foi igual a 0.\n",
    "#Em seguida, treine um modelo simples de classificação (LogisticRegression ou RandomForestClassifier) para prever se um pedido terá frete grátis com base nas demais variáveis disponíveis.\n",
    "df[\"frete_gratis\"] = (df[\"frete\"] == 0).astype(int)\n",
    "\n",
    "X = df.drop([\"frete_gratis\", \"cliente_id\", \"data_pedido\"], axis=1)\n",
    "y = df[\"frete_gratis\"]\n",
    "\n",
    "le_cat = LabelEncoder()\n",
    "le_pag = LabelEncoder()\n",
    "df[\"categoria\"] = le_cat.fit_transform(df[\"categoria\"])\n",
    "df[\"forma_pagamento\"] = le_pag.fit_transform(df[\"forma_pagamento\"])\n",
    "\n",
    "\n",
    "X_train, X_test, y_train, y_test = train_test_split(X, y, test_size=0.3, random_state=42)\n",
    "\n",
    "modelo = RandomForestClassifier(random_state=42)\n",
    "modelo.fit(X_train, y_train)\n",
    "\n",
    "y_pred = modelo.predict(X_test)\n",
    "print(f\"Acurácia: {accuracy_score(y_test, y_pred)}\")\n",
    "print(classification_report(y_test, y_pred))\n",
    "\n",
    "importances = pd.Series(modelo.feature_importances_, index=X.columns)\n",
    "print(importances.sort_values(ascending=False))"
   ]
  }
 ],
 "metadata": {
  "kernelspec": {
   "display_name": "Python 3 (ipykernel)",
   "language": "python",
   "name": "python3"
  },
  "language_info": {
   "codemirror_mode": {
    "name": "ipython",
    "version": 3
   },
   "file_extension": ".py",
   "mimetype": "text/x-python",
   "name": "python",
   "nbconvert_exporter": "python",
   "pygments_lexer": "ipython3",
   "version": "3.13.2"
  }
 },
 "nbformat": 4,
 "nbformat_minor": 5
}
