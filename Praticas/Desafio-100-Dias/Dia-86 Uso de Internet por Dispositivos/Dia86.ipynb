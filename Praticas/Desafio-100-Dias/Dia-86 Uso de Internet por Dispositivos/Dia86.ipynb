{
 "cells": [
  {
   "cell_type": "markdown",
   "id": "a1187899-78ae-46f2-8184-2d8af92f89f3",
   "metadata": {},
   "source": [
    "🎯 Desafio dia 86 — Uso de Internet por Dispositivos\n",
    "\n",
    "📂 Dataset: desafio_dia_86_uso_internet.csv\n",
    "📥 Clique aqui para baixar o CSV\n",
    "\n",
    "🔍 Contexto: Uma operadora de internet está avaliando o padrão de uso de dados em diferentes dispositivos, com o objetivo de melhorar seus planos e serviços.\n",
    "\n",
    "🛠️ Tarefas do desafio\n",
    "\n",
    "🧹 Tratamento de dados\n",
    "- Preencha os valores ausentes em consumo_gb_mes com a média.\n",
    "\n",
    "- Preencha os valores ausentes em satisfacao com a moda.\n",
    "\n",
    "📊 Análise geral\n",
    "- Qual dispositivo apresenta maior consumo médio mensal de dados?\n",
    "\n",
    "- Qual plano de internet tem maior concentração de usuários no período da noite?\n",
    "\n",
    "📈 Visualização de dados\n",
    "- Crie um gráfico de barras com a média de consumo mensal (consumo_gb_mes) por tipo de dispositivo.\n",
    "\n",
    "🤖 Machine Learning - Regressão\n",
    "- Crie um modelo para prever a satisfacao com base em:\n",
    "\n",
    "dispositivo, plano_internet, periodo_uso, consumo_gb_mes\n",
    "\n",
    "Utilize:\n",
    "\n",
    "train_test_split\n",
    "\n",
    "get_dummies\n",
    "\n",
    "RandomForestRegressor\n",
    "\n",
    "Avalie com mean_squared_error."
   ]
  },
  {
   "cell_type": "code",
   "execution_count": 17,
   "id": "d2683147-926c-4dc1-8052-2ae1684011a4",
   "metadata": {},
   "outputs": [],
   "source": [
    "import pandas as pd\n",
    "import seaborn as sns\n",
    "import matplotlib.pyplot as plt\n",
    "from sklearn.model_selection import train_test_split\n",
    "from sklearn.ensemble import RandomForestRegressor\n",
    "from sklearn.metrics import mean_squared_error"
   ]
  },
  {
   "cell_type": "code",
   "execution_count": 2,
   "id": "8a5a0947-6960-4d7d-9f94-65fdf685bae6",
   "metadata": {},
   "outputs": [
    {
     "data": {
      "text/html": [
       "<div>\n",
       "<style scoped>\n",
       "    .dataframe tbody tr th:only-of-type {\n",
       "        vertical-align: middle;\n",
       "    }\n",
       "\n",
       "    .dataframe tbody tr th {\n",
       "        vertical-align: top;\n",
       "    }\n",
       "\n",
       "    .dataframe thead th {\n",
       "        text-align: right;\n",
       "    }\n",
       "</style>\n",
       "<table border=\"1\" class=\"dataframe\">\n",
       "  <thead>\n",
       "    <tr style=\"text-align: right;\">\n",
       "      <th></th>\n",
       "      <th>id_usuario</th>\n",
       "      <th>dispositivo</th>\n",
       "      <th>plano_internet</th>\n",
       "      <th>periodo_uso</th>\n",
       "      <th>consumo_gb_mes</th>\n",
       "      <th>satisfacao</th>\n",
       "    </tr>\n",
       "  </thead>\n",
       "  <tbody>\n",
       "    <tr>\n",
       "      <th>0</th>\n",
       "      <td>1148</td>\n",
       "      <td>Smartphone</td>\n",
       "      <td>Intermediário</td>\n",
       "      <td>Madrugada</td>\n",
       "      <td>69.0</td>\n",
       "      <td>NaN</td>\n",
       "    </tr>\n",
       "    <tr>\n",
       "      <th>1</th>\n",
       "      <td>1864</td>\n",
       "      <td>Smart TV</td>\n",
       "      <td>Avançado</td>\n",
       "      <td>Manhã</td>\n",
       "      <td>55.8</td>\n",
       "      <td>3.0</td>\n",
       "    </tr>\n",
       "    <tr>\n",
       "      <th>2</th>\n",
       "      <td>1428</td>\n",
       "      <td>Notebook</td>\n",
       "      <td>Básico</td>\n",
       "      <td>Madrugada</td>\n",
       "      <td>137.0</td>\n",
       "      <td>5.0</td>\n",
       "    </tr>\n",
       "    <tr>\n",
       "      <th>3</th>\n",
       "      <td>1796</td>\n",
       "      <td>Desktop</td>\n",
       "      <td>Intermediário</td>\n",
       "      <td>Tarde</td>\n",
       "      <td>53.2</td>\n",
       "      <td>4.0</td>\n",
       "    </tr>\n",
       "    <tr>\n",
       "      <th>4</th>\n",
       "      <td>1099</td>\n",
       "      <td>Tablet</td>\n",
       "      <td>Intermediário</td>\n",
       "      <td>Noite</td>\n",
       "      <td>85.6</td>\n",
       "      <td>1.0</td>\n",
       "    </tr>\n",
       "  </tbody>\n",
       "</table>\n",
       "</div>"
      ],
      "text/plain": [
       "   id_usuario dispositivo plano_internet periodo_uso  consumo_gb_mes  \\\n",
       "0        1148  Smartphone  Intermediário   Madrugada            69.0   \n",
       "1        1864    Smart TV       Avançado       Manhã            55.8   \n",
       "2        1428    Notebook         Básico   Madrugada           137.0   \n",
       "3        1796     Desktop  Intermediário       Tarde            53.2   \n",
       "4        1099      Tablet  Intermediário       Noite            85.6   \n",
       "\n",
       "   satisfacao  \n",
       "0         NaN  \n",
       "1         3.0  \n",
       "2         5.0  \n",
       "3         4.0  \n",
       "4         1.0  "
      ]
     },
     "execution_count": 2,
     "metadata": {},
     "output_type": "execute_result"
    }
   ],
   "source": [
    "df = pd.read_csv(\"desafio_dia_86_uso_internet.csv\")\n",
    "df.head()"
   ]
  },
  {
   "cell_type": "code",
   "execution_count": 3,
   "id": "3832ef08-3b13-4349-8abb-fbfb10df2a85",
   "metadata": {},
   "outputs": [
    {
     "data": {
      "text/plain": [
       "0"
      ]
     },
     "execution_count": 3,
     "metadata": {},
     "output_type": "execute_result"
    }
   ],
   "source": [
    "#Preencha os valores ausentes em consumo_gb_mes com a média.\n",
    "df[\"consumo_gb_mes\"] = df[\"consumo_gb_mes\"].fillna(df[\"consumo_gb_mes\"].mean())\n",
    "df[\"consumo_gb_mes\"].isna().sum()"
   ]
  },
  {
   "cell_type": "code",
   "execution_count": 4,
   "id": "ea334adc-61d7-4e79-8e20-eaafc17537e5",
   "metadata": {},
   "outputs": [
    {
     "data": {
      "text/plain": [
       "0"
      ]
     },
     "execution_count": 4,
     "metadata": {},
     "output_type": "execute_result"
    }
   ],
   "source": [
    "#Preencha os valores ausentes em satisfacao com a moda.\n",
    "df[\"satisfacao\"] = df[\"satisfacao\"].fillna(df[\"satisfacao\"].mode()[0])\n",
    "df[\"satisfacao\"].isna().sum()"
   ]
  },
  {
   "cell_type": "code",
   "execution_count": 6,
   "id": "cd0003ed-3def-4f22-be05-53a49f6d500e",
   "metadata": {},
   "outputs": [
    {
     "name": "stdout",
     "output_type": "stream",
     "text": [
      "dispositivo\n",
      "Notebook      82.255850\n",
      "Smartphone    76.773333\n",
      "Desktop       75.356724\n",
      "Tablet        71.023292\n",
      "Smart TV      70.969356\n",
      "Name: consumo_gb_mes, dtype: float64\n"
     ]
    }
   ],
   "source": [
    "#Qual dispositivo apresenta maior consumo médio mensal de dados?\n",
    "dispositivo_consumo_dados_mensal = df.groupby(\"dispositivo\")[\"consumo_gb_mes\"].mean().sort_values(ascending=False)\n",
    "print(dispositivo_consumo_dados_mensal)"
   ]
  },
  {
   "cell_type": "code",
   "execution_count": 10,
   "id": "d8127663-fa23-4105-9482-81ebf42573a2",
   "metadata": {},
   "outputs": [
    {
     "name": "stdout",
     "output_type": "stream",
     "text": [
      "plano_internet  periodo_uso\n",
      "Básico          Noite          63\n",
      "Intermediário   Noite          53\n",
      "Avançado        Noite          22\n",
      "Name: count, dtype: int64\n"
     ]
    }
   ],
   "source": [
    "#Qual plano de internet tem maior concentração de usuários no período da noite?\n",
    "periodo = df[df[\"periodo_uso\"] == \"Noite\"]\n",
    "concentracao_internet_noite = periodo.groupby(\"plano_internet\")[\"periodo_uso\"].value_counts().sort_values(ascending=False)\n",
    "print(concentracao_internet_noite)"
   ]
  },
  {
   "cell_type": "code",
   "execution_count": 16,
   "id": "68cf9042-8811-4de4-b82e-9e88149ca4fe",
   "metadata": {},
   "outputs": [
    {
     "data": {
      "text/plain": [
       "Text(0.5, 0, 'Dispositivo')"
      ]
     },
     "execution_count": 16,
     "metadata": {},
     "output_type": "execute_result"
    },
    {
     "data": {
      "image/png": "[encoded data removed]",
      "text/plain": [
       "<Figure size 640x480 with 1 Axes>"
      ]
     },
     "metadata": {},
     "output_type": "display_data"
    }
   ],
   "source": [
    "#Crie um gráfico de barras com a média de consumo mensal (consumo_gb_mes) por tipo de dispositivo.\n",
    "sns.barplot(df, x=\"dispositivo\", y=\"consumo_gb_mes\")\n",
    "plt.title(\"Consumo Mensal Gb por Dispositivo\")\n",
    "plt.ylabel(\"Consumo Gb Mensal\")\n",
    "plt.xlabel(\"Dispositivo\")"
   ]
  },
  {
   "cell_type": "code",
   "execution_count": 18,
   "id": "027903a3-75e7-4494-ba6b-8a8eb61c3a52",
   "metadata": {},
   "outputs": [
    {
     "name": "stdout",
     "output_type": "stream",
     "text": [
      "1.3664031141770598\n"
     ]
    }
   ],
   "source": [
    "#Crie um modelo para prever a satisfacao com base em:\n",
    "X = df[[\"dispositivo\", \"plano_internet\", \"periodo_uso\", \"consumo_gb_mes\"]]\n",
    "y = df[\"satisfacao\"]\n",
    "\n",
    "X = pd.get_dummies(X)\n",
    "\n",
    "X_train, X_test, y_train, y_test = train_test_split(X, y, test_size=0.3, random_state=42)\n",
    "\n",
    "modelo = RandomForestRegressor(random_state=42)\n",
    "modelo.fit(X_train, y_train)\n",
    "\n",
    "y_pred = modelo.predict(X_test)\n",
    "print(mean_squared_error(y_test, y_pred))"
   ]
  },
  {
   "cell_type": "code",
   "execution_count": null,
   "id": "e5a5cbf2-85e2-4587-a071-638dcd1d2e0d",
   "metadata": {},
   "outputs": [],
   "source": []
  }
 ],
 "metadata": {
  "kernelspec": {
   "display_name": "Python 3 (ipykernel)",
   "language": "python",
   "name": "python3"
  },
  "language_info": {
   "codemirror_mode": {
    "name": "ipython",
    "version": 3
   },
   "file_extension": ".py",
   "mimetype": "text/x-python",
   "name": "python",
   "nbconvert_exporter": "python",
   "pygments_lexer": "ipython3",
   "version": "3.12.7"
  }
 },
 "nbformat": 4,
 "nbformat_minor": 5
}
