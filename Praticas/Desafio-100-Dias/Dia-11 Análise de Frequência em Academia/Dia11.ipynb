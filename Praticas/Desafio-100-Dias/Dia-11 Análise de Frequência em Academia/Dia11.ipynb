{
 "cells": [
  {
   "cell_type": "markdown",
   "id": "b4258a9d-4172-4499-83ef-88fc0f87230b",
   "metadata": {},
   "source": [
    "Desafio 11: Análise de Frequência em Academia\n",
    "\n",
    "📂 Dataset: Registros de entrada de alunos em uma academia, com informações sobre o horário de entrada, tipo de plano, atividades frequentadas e tempo médio de permanência.\n",
    "\n",
    "🎯 Atividades:\n",
    "\n",
    "Qual atividade é a mais frequentada na academia?\n",
    "\n",
    "Qual é o tempo médio de permanência por tipo de plano?\n",
    "\n",
    "Em qual horário (manhã, tarde ou noite) a academia recebe mais alunos?\n",
    "\n",
    "Crie um gráfico de barras mostrando a quantidade de alunos por tipo de atividade."
   ]
  },
  {
   "cell_type": "code",
   "execution_count": 50,
   "id": "c3f7bb5d-bbab-4289-b634-e66130ab4b38",
   "metadata": {},
   "outputs": [],
   "source": [
    "import pandas as pd\n",
    "import seaborn as sns\n",
    "import matplotlib.pyplot as plt"
   ]
  },
  {
   "cell_type": "code",
   "execution_count": 2,
   "id": "310d5140-ff8c-420c-9af5-6e149a0ac96e",
   "metadata": {},
   "outputs": [
    {
     "data": {
      "text/html": [
       "<div>\n",
       "<style scoped>\n",
       "    .dataframe tbody tr th:only-of-type {\n",
       "        vertical-align: middle;\n",
       "    }\n",
       "\n",
       "    .dataframe tbody tr th {\n",
       "        vertical-align: top;\n",
       "    }\n",
       "\n",
       "    .dataframe thead th {\n",
       "        text-align: right;\n",
       "    }\n",
       "</style>\n",
       "<table border=\"1\" class=\"dataframe\">\n",
       "  <thead>\n",
       "    <tr style=\"text-align: right;\">\n",
       "      <th></th>\n",
       "      <th>ID_Entrada</th>\n",
       "      <th>Horario</th>\n",
       "      <th>Plano</th>\n",
       "      <th>Atividade</th>\n",
       "      <th>Tempo_Permanencia_min</th>\n",
       "    </tr>\n",
       "  </thead>\n",
       "  <tbody>\n",
       "    <tr>\n",
       "      <th>0</th>\n",
       "      <td>1</td>\n",
       "      <td>Noite</td>\n",
       "      <td>Trimestral</td>\n",
       "      <td>Spinning</td>\n",
       "      <td>118</td>\n",
       "    </tr>\n",
       "    <tr>\n",
       "      <th>1</th>\n",
       "      <td>2</td>\n",
       "      <td>Manhã</td>\n",
       "      <td>Anual</td>\n",
       "      <td>Musculação</td>\n",
       "      <td>89</td>\n",
       "    </tr>\n",
       "    <tr>\n",
       "      <th>2</th>\n",
       "      <td>3</td>\n",
       "      <td>Noite</td>\n",
       "      <td>Trimestral</td>\n",
       "      <td>Pilates</td>\n",
       "      <td>70</td>\n",
       "    </tr>\n",
       "    <tr>\n",
       "      <th>3</th>\n",
       "      <td>4</td>\n",
       "      <td>Noite</td>\n",
       "      <td>Trimestral</td>\n",
       "      <td>Crossfit</td>\n",
       "      <td>58</td>\n",
       "    </tr>\n",
       "    <tr>\n",
       "      <th>4</th>\n",
       "      <td>5</td>\n",
       "      <td>Manhã</td>\n",
       "      <td>Anual</td>\n",
       "      <td>Pilates</td>\n",
       "      <td>44</td>\n",
       "    </tr>\n",
       "  </tbody>\n",
       "</table>\n",
       "</div>"
      ],
      "text/plain": [
       "   ID_Entrada Horario       Plano   Atividade  Tempo_Permanencia_min\n",
       "0           1   Noite  Trimestral    Spinning                    118\n",
       "1           2   Manhã       Anual  Musculação                     89\n",
       "2           3   Noite  Trimestral     Pilates                     70\n",
       "3           4   Noite  Trimestral    Crossfit                     58\n",
       "4           5   Manhã       Anual     Pilates                     44"
      ]
     },
     "execution_count": 2,
     "metadata": {},
     "output_type": "execute_result"
    }
   ],
   "source": [
    "df = pd.read_csv(\"dia_11_frequencia_academia.csv\")\n",
    "df.head()"
   ]
  },
  {
   "cell_type": "code",
   "execution_count": 11,
   "id": "737f5efa-004a-41f1-b8dd-30f0f75bbbbb",
   "metadata": {},
   "outputs": [
    {
     "name": "stdout",
     "output_type": "stream",
     "text": [
      "Spinning e Crossfit são as atividades mais frequentadas\n"
     ]
    }
   ],
   "source": [
    "#Qual atividade é a mais frequentada na academia?\n",
    "freq = df[\"Atividade\"].value_counts()\n",
    "print(f\"{freq.idxmax()} e {freq.index[1]} são as atividades mais frequentadas\")"
   ]
  },
  {
   "cell_type": "code",
   "execution_count": 28,
   "id": "28dea266-18fe-4f49-98df-79404f02cf36",
   "metadata": {},
   "outputs": [
    {
     "name": "stdout",
     "output_type": "stream",
     "text": [
      "Tempo médio por plano: \n",
      "\n",
      "Plano\n",
      "Anual         68 Minutos\n",
      "Mensal        74 Minutos\n",
      "Trimestral    73 Minutos\n"
     ]
    }
   ],
   "source": [
    "#Qual é o tempo médio de permanência por tipo de plano?\n",
    "tempoMedio = df.groupby(\"Plano\")[\"Tempo_Permanencia_min\"].mean()\n",
    "print(f\"Tempo médio por plano: \\n\\n{tempoMedio.apply(lambda x: f\"{x:.0f} Minutos\").to_string()}\")"
   ]
  },
  {
   "cell_type": "code",
   "execution_count": 34,
   "id": "a4e8c2a4-e8ee-425a-927e-df0ef154b5f2",
   "metadata": {},
   "outputs": [
    {
     "name": "stdout",
     "output_type": "stream",
     "text": [
      "O horário que mais recebe alunos é à Noite com 12 alunos.\n"
     ]
    }
   ],
   "source": [
    "#Em qual horário (manhã, tarde ou noite) a academia recebe mais alunos?\n",
    "horario = df[\"Horario\"].value_counts()\n",
    "print(f\"O horário que mais recebe alunos é à {horario.idxmax()} com {horario.max()} alunos.\")"
   ]
  },
  {
   "cell_type": "code",
   "execution_count": 59,
   "id": "8d74c51a-3378-4df4-a25b-68a54847131b",
   "metadata": {},
   "outputs": [
    {
     "data": {
      "image/png": "[encoded data removed]",
      "text/plain": [
       "<Figure size 640x480 with 1 Axes>"
      ]
     },
     "metadata": {},
     "output_type": "display_data"
    }
   ],
   "source": [
    "#Crie um gráfico de barras mostrando a quantidade de alunos por tipo de atividade.\n",
    "quantAtividade = df[\"Atividade\"].value_counts()\n",
    "sns.barplot(x=quantAtividade.index, y=quantAtividade.values)\n",
    "plt.title(\"Quantidade de Alunos por Tipo de Atividade\")\n",
    "plt.show()"
   ]
  }
 ],
 "metadata": {
  "kernelspec": {
   "display_name": "Python 3 (ipykernel)",
   "language": "python",
   "name": "python3"
  },
  "language_info": {
   "codemirror_mode": {
    "name": "ipython",
    "version": 3
   },
   "file_extension": ".py",
   "mimetype": "text/x-python",
   "name": "python",
   "nbconvert_exporter": "python",
   "pygments_lexer": "ipython3",
   "version": "3.12.7"
  }
 },
 "nbformat": 4,
 "nbformat_minor": 5
}
