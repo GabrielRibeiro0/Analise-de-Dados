{
 "cells": [
  {
   "cell_type": "markdown",
   "id": "fee45520-7cde-4b42-974b-ef5e293b6be0",
   "metadata": {},
   "source": [
    "📊 Desafio 61 — Gastos em Educação por Estado\n",
    "📂 Dataset: Clique aqui para baixar o CSV\n",
    "\n",
    "Este dataset apresenta dados de diversos estados brasileiros ao longo dos anos, incluindo PIB estadual, população e gastos em educação.\n",
    "\n",
    "🔍 Tarefas:\n",
    "\n",
    "Tratamento de Dados\n",
    "- Existem valores ausentes em Gasto_Educacao. Identifique quais anos e estados estão afetados e proponha uma forma de preenchimento ou exclusão.\n",
    "\n",
    "Comparação Regional\n",
    "- Qual é a média de gasto em educação por região ao longo do tempo? Qual região mais investe proporcionalmente ao seu PIB?\n",
    "\n",
    "Visualização\n",
    "- Crie um gráfico de linha mostrando a evolução do gasto médio em educação por região de 2010 a 2020.\n",
    "\n",
    "Machine Learning Simples\n",
    "- Treine um modelo de regressão linear para prever o Gasto_Educacao com base no PIB_Estadual e População. Avalie o modelo com R² e mean_squared_error."
   ]
  },
  {
   "cell_type": "code",
   "execution_count": 2,
   "id": "cd9d554d-faf7-4098-8ce0-4fbdd990f1f7",
   "metadata": {},
   "outputs": [],
   "source": [
    "import pandas as pd\n",
    "import matplotlib.pyplot as plt\n",
    "import seaborn as sns\n",
    "from sklearn.linear_model import LinearRegression\n",
    "from sklearn.metrics import r2_score, mean_squared_error\n",
    "from sklearn.model_selection import train_test_split"
   ]
  },
  {
   "cell_type": "code",
   "execution_count": 3,
   "id": "f749ac07-d62e-40a5-9b93-36c15cd518a3",
   "metadata": {},
   "outputs": [
    {
     "data": {
      "text/html": [
       "<div>\n",
       "<style scoped>\n",
       "    .dataframe tbody tr th:only-of-type {\n",
       "        vertical-align: middle;\n",
       "    }\n",
       "\n",
       "    .dataframe tbody tr th {\n",
       "        vertical-align: top;\n",
       "    }\n",
       "\n",
       "    .dataframe thead th {\n",
       "        text-align: right;\n",
       "    }\n",
       "</style>\n",
       "<table border=\"1\" class=\"dataframe\">\n",
       "  <thead>\n",
       "    <tr style=\"text-align: right;\">\n",
       "      <th></th>\n",
       "      <th>Estado</th>\n",
       "      <th>Região</th>\n",
       "      <th>Ano</th>\n",
       "      <th>PIB_Estadual</th>\n",
       "      <th>População</th>\n",
       "      <th>Gasto_Educacao</th>\n",
       "    </tr>\n",
       "  </thead>\n",
       "  <tbody>\n",
       "    <tr>\n",
       "      <th>0</th>\n",
       "      <td>SP</td>\n",
       "      <td>Sudeste</td>\n",
       "      <td>2010</td>\n",
       "      <td>100.0</td>\n",
       "      <td>1000000</td>\n",
       "      <td>500.0</td>\n",
       "    </tr>\n",
       "    <tr>\n",
       "      <th>1</th>\n",
       "      <td>RJ</td>\n",
       "      <td>Sudeste</td>\n",
       "      <td>2010</td>\n",
       "      <td>110.0</td>\n",
       "      <td>1200000</td>\n",
       "      <td>620.0</td>\n",
       "    </tr>\n",
       "    <tr>\n",
       "      <th>2</th>\n",
       "      <td>MG</td>\n",
       "      <td>Sudeste</td>\n",
       "      <td>2010</td>\n",
       "      <td>120.0</td>\n",
       "      <td>1400000</td>\n",
       "      <td>700.0</td>\n",
       "    </tr>\n",
       "    <tr>\n",
       "      <th>3</th>\n",
       "      <td>RS</td>\n",
       "      <td>Sul</td>\n",
       "      <td>2010</td>\n",
       "      <td>130.0</td>\n",
       "      <td>1000000</td>\n",
       "      <td>820.0</td>\n",
       "    </tr>\n",
       "    <tr>\n",
       "      <th>4</th>\n",
       "      <td>PR</td>\n",
       "      <td>Sul</td>\n",
       "      <td>2010</td>\n",
       "      <td>140.0</td>\n",
       "      <td>1200000</td>\n",
       "      <td>500.0</td>\n",
       "    </tr>\n",
       "  </tbody>\n",
       "</table>\n",
       "</div>"
      ],
      "text/plain": [
       "  Estado   Região   Ano  PIB_Estadual  População  Gasto_Educacao\n",
       "0     SP  Sudeste  2010         100.0    1000000           500.0\n",
       "1     RJ  Sudeste  2010         110.0    1200000           620.0\n",
       "2     MG  Sudeste  2010         120.0    1400000           700.0\n",
       "3     RS      Sul  2010         130.0    1000000           820.0\n",
       "4     PR      Sul  2010         140.0    1200000           500.0"
      ]
     },
     "execution_count": 3,
     "metadata": {},
     "output_type": "execute_result"
    }
   ],
   "source": [
    "df = pd.read_csv(\"dia_61_gastos_educacao.csv\")\n",
    "df.head()"
   ]
  },
  {
   "cell_type": "code",
   "execution_count": 8,
   "id": "983736f8-bd56-47c7-8a80-7b01f62f2ca5",
   "metadata": {},
   "outputs": [
    {
     "name": "stdout",
     "output_type": "stream",
     "text": [
      "   Estado   Ano\n",
      "45     BA  2014\n",
      "76     PE  2017\n"
     ]
    },
    {
     "data": {
      "text/plain": [
       "Estado            0\n",
       "Região            0\n",
       "Ano               0\n",
       "PIB_Estadual      0\n",
       "População         0\n",
       "Gasto_Educacao    0\n",
       "dtype: int64"
      ]
     },
     "execution_count": 8,
     "metadata": {},
     "output_type": "execute_result"
    }
   ],
   "source": [
    "#Existem valores ausentes em Gasto_Educacao. Identifique quais anos e estados estão afetados e proponha uma forma de preenchimento ou exclusão.\n",
    "gasto_faltando = df[df[\"Gasto_Educacao\"].isna()]\n",
    "print(gasto_faltando[[\"Estado\", \"Ano\"]])\n",
    "\n",
    "df[\"Gasto_Educacao\"] = df.groupby(\"Estado\")[\"Gasto_Educacao\"].transform(\"mean\")\n",
    "df.isna().sum()"
   ]
  },
  {
   "cell_type": "code",
   "execution_count": 15,
   "id": "90aa665e-68f1-4739-baa2-42f4272fbca4",
   "metadata": {},
   "outputs": [
    {
     "name": "stdout",
     "output_type": "stream",
     "text": [
      "      Região   Ano  Gasto_Educacao\n",
      "0   Nordeste  2010      787.833333\n",
      "1   Nordeste  2011      787.833333\n",
      "2   Nordeste  2012      787.833333\n",
      "3   Nordeste  2013      787.833333\n",
      "4   Nordeste  2014      787.833333\n",
      "5   Nordeste  2015      787.833333\n",
      "6   Nordeste  2016      787.833333\n",
      "7   Nordeste  2017      787.833333\n",
      "8   Nordeste  2018      787.833333\n",
      "9   Nordeste  2019      787.833333\n",
      "10  Nordeste  2020      787.833333\n",
      "11     Norte  2010      635.000000\n",
      "12     Norte  2011      635.000000\n",
      "13     Norte  2012      635.000000\n",
      "14     Norte  2013      635.000000\n",
      "15     Norte  2014      635.000000\n",
      "16     Norte  2015      635.000000\n",
      "17     Norte  2016      635.000000\n",
      "18     Norte  2017      635.000000\n",
      "19     Norte  2018      635.000000\n",
      "20     Norte  2019      635.000000\n",
      "21     Norte  2020      635.000000\n",
      "22   Sudeste  2010      681.666667\n",
      "23   Sudeste  2011      681.666667\n",
      "24   Sudeste  2012      681.666667\n",
      "25   Sudeste  2013      681.666667\n",
      "26   Sudeste  2014      681.666667\n",
      "27   Sudeste  2015      681.666667\n",
      "28   Sudeste  2016      681.666667\n",
      "29   Sudeste  2017      681.666667\n",
      "30   Sudeste  2018      681.666667\n",
      "31   Sudeste  2019      681.666667\n",
      "32   Sudeste  2020      681.666667\n",
      "33       Sul  2010      735.000000\n",
      "34       Sul  2011      735.000000\n",
      "35       Sul  2012      735.000000\n",
      "36       Sul  2013      735.000000\n",
      "37       Sul  2014      735.000000\n",
      "38       Sul  2015      735.000000\n",
      "39       Sul  2016      735.000000\n",
      "40       Sul  2017      735.000000\n",
      "41       Sul  2018      735.000000\n",
      "42       Sul  2019      735.000000\n",
      "43       Sul  2020      735.000000\n",
      "Região\n",
      "Nordeste    6.989219\n",
      "Sudeste     6.039225\n",
      "Sul         5.395632\n",
      "Norte       4.609017\n",
      "Name: Investimento_Proporcional, dtype: float64\n"
     ]
    }
   ],
   "source": [
    "#Qual é a média de gasto em educação por região ao longo do tempo? Qual região mais investe proporcionalmente ao seu PIB?\n",
    "gasto_regional = df.groupby([\"Região\", \"Ano\"])[\"Gasto_Educacao\"].mean().reset_index()\n",
    "\n",
    "df[\"Investimento_Proporcional\"] = df[\"Gasto_Educacao\"] / df[\"PIB_Estadual\"]\n",
    "proporcional = df.groupby(\"Região\")[\"Investimento_Proporcional\"].mean().sort_values(ascending=False)\n",
    "\n",
    "print(gasto_regional)\n",
    "print(proporcional)"
   ]
  },
  {
   "cell_type": "code",
   "execution_count": 17,
   "id": "fe8504d7-cc42-47c5-8428-3049c3bdb939",
   "metadata": {},
   "outputs": [
    {
     "data": {
      "image/png": "[encoded data removed]",
      "text/plain": [
       "<Figure size 640x480 with 1 Axes>"
      ]
     },
     "metadata": {},
     "output_type": "display_data"
    }
   ],
   "source": [
    "#Crie um gráfico de linha mostrando a evolução do gasto médio em educação por região de 2010 a 2020.\n",
    "sns.lineplot(data=gasto_regional, x=\"Ano\", y=\"Gasto_Educacao\", hue=\"Região\", marker=\"o\")\n",
    "plt.title(\"Evolução do Gasto Médio em Educação por Região (2010–2020)\")\n",
    "plt.xlabel(\"Ano\")\n",
    "plt.ylabel(\"Gasto Médio em Educação\")\n",
    "plt.grid()\n",
    "plt.legend(title=\"Região\")\n",
    "plt.tight_layout()\n",
    "plt.show()"
   ]
  },
  {
   "cell_type": "code",
   "execution_count": 18,
   "id": "56fd18b0-9dfb-467d-9912-c518a99bf091",
   "metadata": {},
   "outputs": [
    {
     "name": "stdout",
     "output_type": "stream",
     "text": [
      "-0.9842437891638962\n",
      "15083.97222983098\n"
     ]
    }
   ],
   "source": [
    "#Treine um modelo de regressão linear para prever o Gasto_Educacao com base no PIB_Estadual e População. Avalie o modelo com R² e mean_squared_error.\n",
    "X = df[[\"PIB_Estadual\", \"População\"]]\n",
    "y = df[\"Gasto_Educacao\"]\n",
    "\n",
    "X_train, X_test, y_train, y_test = train_test_split(X, y, test_size=0.2, random_state=42)\n",
    "\n",
    "modelo = LinearRegression()\n",
    "modelo.fit(X_train, y_train)\n",
    "y_pred = modelo.predict(X_test)\n",
    "\n",
    "r2 = r2_score(y_test, y_pred)\n",
    "mse = mean_squared_error(y_test, y_pred)\n",
    "\n",
    "print(r2)\n",
    "print(mse)"
   ]
  }
 ],
 "metadata": {
  "kernelspec": {
   "display_name": "Python 3 (ipykernel)",
   "language": "python",
   "name": "python3"
  },
  "language_info": {
   "codemirror_mode": {
    "name": "ipython",
    "version": 3
   },
   "file_extension": ".py",
   "mimetype": "text/x-python",
   "name": "python",
   "nbconvert_exporter": "python",
   "pygments_lexer": "ipython3",
   "version": "3.12.7"
  }
 },
 "nbformat": 4,
 "nbformat_minor": 5
}
