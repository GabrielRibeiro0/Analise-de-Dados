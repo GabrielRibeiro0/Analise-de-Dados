{
 "cells": [
  {
   "cell_type": "markdown",
   "id": "5bb1ec53-6317-4ad6-ac81-48b4d8185b89",
   "metadata": {},
   "source": [
    "🎯 Desafio dia 89 — Feedback de Produtos em E-commerce\n",
    "\n",
    "📂 Dataset: desafio_dia_89_feedback_ecommerce.csv\n",
    "\n",
    "🔍 Contexto: O setor de pós-venda de um e-commerce deseja cruzar dados de avaliação de produtos com tempo de entrega e ocorrência de reembolsos. O objetivo é identificar padrões que possam reduzir insatisfação e aumentar a fidelidade.\n",
    "\n",
    "🛠️ Tarefas do desafio\n",
    "\n",
    "🧹 Tratamento de dados\n",
    "- Substitua os valores ausentes em tempo_entrega_dias pelo valor mediano agrupado por forma_envio.\n",
    "\n",
    "- Substitua os valores ausentes em avaliacao pelo valor mais comum (moda) dentro de cada departamento.\n",
    "\n",
    "📊 Análise geral\n",
    "- Existe relação entre o tipo de entrega e o número de reembolsos? (faça um crosstab e analise)\n",
    "\n",
    "- Qual o tempo médio de entrega para produtos avaliados com 1 ou 2 estrelas?\n",
    "\n",
    "📈 Visualização de dados\n",
    "- Construa um boxplot comparando tempo_entrega_dias por forma_envio.\n",
    "\n",
    "🤖 Machine Learning - Classificação Binária\n",
    "- Crie um modelo para prever se um cliente solicitará reembolso com base em:\n",
    "\n",
    "departamento, forma_envio, tempo_entrega_dias, avaliacao\n",
    "\n",
    "Use:\n",
    "\n",
    "train_test_split\n",
    "\n",
    "get_dummies\n",
    "\n",
    "RandomForestClassifier\n",
    "\n",
    "Avalie com classification_report (para ir além do accuracy_score e aprender mais sobre precisão, recall e f1-score)\n",
    "\n"
   ]
  },
  {
   "cell_type": "code",
   "execution_count": 38,
   "id": "b1c653bf-05f7-4129-9c8b-3d31384c608c",
   "metadata": {},
   "outputs": [],
   "source": [
    "import pandas as pd\n",
    "import seaborn as sns\n",
    "import matplotlib.pyplot as plt\n",
    "from sklearn.model_selection import train_test_split\n",
    "from sklearn.ensemble import RandomForestClassifier\n",
    "from sklearn.metrics import classification_report, accuracy_score"
   ]
  },
  {
   "cell_type": "code",
   "execution_count": 40,
   "id": "699f6a67-3044-4c57-90c1-c6fabc6287e0",
   "metadata": {},
   "outputs": [
    {
     "data": {
      "text/html": [
       "<div>\n",
       "<style scoped>\n",
       "    .dataframe tbody tr th:only-of-type {\n",
       "        vertical-align: middle;\n",
       "    }\n",
       "\n",
       "    .dataframe tbody tr th {\n",
       "        vertical-align: top;\n",
       "    }\n",
       "\n",
       "    .dataframe thead th {\n",
       "        text-align: right;\n",
       "    }\n",
       "</style>\n",
       "<table border=\"1\" class=\"dataframe\">\n",
       "  <thead>\n",
       "    <tr style=\"text-align: right;\">\n",
       "      <th></th>\n",
       "      <th>id_cliente</th>\n",
       "      <th>departamento</th>\n",
       "      <th>forma_envio</th>\n",
       "      <th>tempo_entrega_dias</th>\n",
       "      <th>avaliacao</th>\n",
       "      <th>reembolso</th>\n",
       "    </tr>\n",
       "  </thead>\n",
       "  <tbody>\n",
       "    <tr>\n",
       "      <th>0</th>\n",
       "      <td>18478</td>\n",
       "      <td>Moda</td>\n",
       "      <td>Expressa</td>\n",
       "      <td>5.2</td>\n",
       "      <td>4.0</td>\n",
       "      <td>Não</td>\n",
       "    </tr>\n",
       "    <tr>\n",
       "      <th>1</th>\n",
       "      <td>16276</td>\n",
       "      <td>Alimentos</td>\n",
       "      <td>Econômica</td>\n",
       "      <td>6.9</td>\n",
       "      <td>4.0</td>\n",
       "      <td>Não</td>\n",
       "    </tr>\n",
       "    <tr>\n",
       "      <th>2</th>\n",
       "      <td>12925</td>\n",
       "      <td>Esporte</td>\n",
       "      <td>Econômica</td>\n",
       "      <td>8.5</td>\n",
       "      <td>1.0</td>\n",
       "      <td>Não</td>\n",
       "    </tr>\n",
       "    <tr>\n",
       "      <th>3</th>\n",
       "      <td>18726</td>\n",
       "      <td>Esporte</td>\n",
       "      <td>Econômica</td>\n",
       "      <td>6.7</td>\n",
       "      <td>2.0</td>\n",
       "      <td>Não</td>\n",
       "    </tr>\n",
       "    <tr>\n",
       "      <th>4</th>\n",
       "      <td>15419</td>\n",
       "      <td>Eletrônicos</td>\n",
       "      <td>Expressa</td>\n",
       "      <td>4.0</td>\n",
       "      <td>3.0</td>\n",
       "      <td>Não</td>\n",
       "    </tr>\n",
       "  </tbody>\n",
       "</table>\n",
       "</div>"
      ],
      "text/plain": [
       "   id_cliente departamento forma_envio  tempo_entrega_dias  avaliacao  \\\n",
       "0       18478         Moda    Expressa                 5.2        4.0   \n",
       "1       16276    Alimentos   Econômica                 6.9        4.0   \n",
       "2       12925      Esporte   Econômica                 8.5        1.0   \n",
       "3       18726      Esporte   Econômica                 6.7        2.0   \n",
       "4       15419  Eletrônicos    Expressa                 4.0        3.0   \n",
       "\n",
       "  reembolso  \n",
       "0       Não  \n",
       "1       Não  \n",
       "2       Não  \n",
       "3       Não  \n",
       "4       Não  "
      ]
     },
     "execution_count": 40,
     "metadata": {},
     "output_type": "execute_result"
    }
   ],
   "source": [
    "df = pd.read_csv(\"desafio_dia_89_feedback_ecommerce.csv\")\n",
    "df.head()"
   ]
  },
  {
   "cell_type": "code",
   "execution_count": 6,
   "id": "b05616e5-bcea-4e69-89f3-d5f367d7d0a6",
   "metadata": {},
   "outputs": [
    {
     "data": {
      "text/plain": [
       "0"
      ]
     },
     "execution_count": 6,
     "metadata": {},
     "output_type": "execute_result"
    }
   ],
   "source": [
    "#Substitua os valores ausentes em tempo_entrega_dias pelo valor mediano agrupado por forma_envio.\n",
    "df[\"tempo_entrega_dias\"] = df[\"tempo_entrega_dias\"].fillna(\n",
    "    df.groupby(\"forma_envio\")[\"tempo_entrega_dias\"].transform(\"median\")\n",
    ")\n",
    "df[\"tempo_entrega_dias\"].isna().sum()"
   ]
  },
  {
   "cell_type": "code",
   "execution_count": 8,
   "id": "66a6af86-3a6c-458d-8dd1-9743f7f3921e",
   "metadata": {},
   "outputs": [
    {
     "data": {
      "text/plain": [
       "0"
      ]
     },
     "execution_count": 8,
     "metadata": {},
     "output_type": "execute_result"
    }
   ],
   "source": [
    "#Substitua os valores ausentes em avaliacao pelo valor mais comum (moda) dentro de cada departamento.\n",
    "df[\"avaliacao\"] = df[\"avaliacao\"].fillna(\n",
    "    df.groupby(\"departamento\")[\"avaliacao\"].transform(lambda x: x.mode()[0])\n",
    ")\n",
    "df[\"avaliacao\"].isna().sum()"
   ]
  },
  {
   "cell_type": "code",
   "execution_count": 15,
   "id": "2528bac7-a273-4d72-bccf-d48cf448d58c",
   "metadata": {},
   "outputs": [
    {
     "name": "stdout",
     "output_type": "stream",
     "text": [
      "reembolso    Não  Sim\n",
      "forma_envio          \n",
      "Econômica    128   32\n",
      "Expressa     141   23\n",
      "Normal       147   29\n"
     ]
    }
   ],
   "source": [
    "#Existe relação entre o tipo de entrega e o número de reembolsos? (faça um crosstab e analise)\n",
    "rel_tipo_entrega_reembolsol = pd.crosstab(df['forma_envio'], df['reembolso'])\n",
    "print(rel_tipo_entrega_reembolsol)"
   ]
  },
  {
   "cell_type": "code",
   "execution_count": 16,
   "id": "5bcacf02-645f-4379-af58-a2131112ee26",
   "metadata": {},
   "outputs": [
    {
     "name": "stdout",
     "output_type": "stream",
     "text": [
      "7.019540229885058\n"
     ]
    }
   ],
   "source": [
    "#Qual o tempo médio de entrega para produtos avaliados com 1 ou 2 estrelas?\n",
    "tempo_medio_entrega_produtos_avaliados12 = df[df[\"avaliacao\"].isin([1, 2])][\"tempo_entrega_dias\"].mean()\n",
    "print(tempo_medio_entrega_produtos_avaliados12)"
   ]
  },
  {
   "cell_type": "code",
   "execution_count": 19,
   "id": "be24d7ad-c0ba-4c79-a999-edfafde751a5",
   "metadata": {},
   "outputs": [
    {
     "data": {
      "image/png": "[encoded data removed]",
      "text/plain": [
       "<Figure size 640x480 with 1 Axes>"
      ]
     },
     "metadata": {},
     "output_type": "display_data"
    }
   ],
   "source": [
    "#construa um boxplot comparando tempo_entrega_dias por forma_envio.\n",
    "sns.boxplot(data=df, x=\"forma_envio\", y=\"tempo_entrega_dias\")\n",
    "plt.title(\"Tempo de Entrega por Forma de Envio\")\n",
    "plt.show()"
   ]
  },
  {
   "cell_type": "code",
   "execution_count": 41,
   "id": "f66bc549-cea9-483c-8f09-2d0aac3c8a7e",
   "metadata": {},
   "outputs": [
    {
     "name": "stdout",
     "output_type": "stream",
     "text": [
      "              precision    recall  f1-score   support\n",
      "\n",
      "           0       0.83      0.96      0.89       124\n",
      "           1       0.29      0.08      0.12        26\n",
      "\n",
      "    accuracy                           0.81       150\n",
      "   macro avg       0.56      0.52      0.51       150\n",
      "weighted avg       0.74      0.81      0.76       150\n",
      "\n",
      "0.8066666666666666\n"
     ]
    }
   ],
   "source": [
    "#Crie um modelo para prever se um cliente solicitará reembolso com base em:\n",
    "df[\"reembolso\"] = df[\"reembolso\"].map({\"Sim\": 1, \"Não\": 0})\n",
    "\n",
    "X = df[[\"departamento\", \"forma_envio\", \"tempo_entrega_dias\", \"avaliacao\"]]\n",
    "y = df[\"reembolso\"]\n",
    "\n",
    "X = pd.get_dummies(X)\n",
    "\n",
    "X_train, X_test, y_train, y_test = train_test_split(X, y, test_size=0.3, random_state=42)\n",
    "\n",
    "modelo = RandomForestClassifier()\n",
    "modelo.fit(X_train, y_train)\n",
    "\n",
    "y_pred = modelo.predict(X_test)\n",
    "print(classification_report(y_test, y_pred))\n",
    "print(accuracy_score(y_test, y_pred))"
   ]
  }
 ],
 "metadata": {
  "kernelspec": {
   "display_name": "Python 3 (ipykernel)",
   "language": "python",
   "name": "python3"
  },
  "language_info": {
   "codemirror_mode": {
    "name": "ipython",
    "version": 3
   },
   "file_extension": ".py",
   "mimetype": "text/x-python",
   "name": "python",
   "nbconvert_exporter": "python",
   "pygments_lexer": "ipython3",
   "version": "3.12.7"
  }
 },
 "nbformat": 4,
 "nbformat_minor": 5
}
