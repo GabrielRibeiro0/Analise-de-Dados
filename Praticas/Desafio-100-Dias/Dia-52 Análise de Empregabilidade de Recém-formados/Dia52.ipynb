{
 "cells": [
  {
   "cell_type": "markdown",
   "id": "dc3b6c29",
   "metadata": {},
   "source": [
    "📊 Desafio 52 — Análise de Empregabilidade de Recém-formados\n",
    "\n",
    "📂 Dataset: Clique aqui para baixar o CSV\n",
    "\n",
    "Este conjunto de dados fictício contém informações sobre estudantes recém-formados, com dados como curso, universidade, média final, estágio, localização e status de emprego após 6 meses da formatura.\n",
    "\n",
    "🔍 Tarefas:\n",
    "\n",
    "Qual a taxa geral de empregabilidade entre os graduados?\n",
    "\n",
    "    (Dica: proporção de alunos com status \"Empregado\")\n",
    "\n",
    "Há relação entre ter feito estágio e estar empregado?\n",
    "\n",
    "    Gere uma tabela cruzada (crosstab) e visualize com um gráfico de barras.\n",
    "\n",
    "Qual curso teve maior taxa de empregabilidade?\n",
    "\n",
    "    Calcule a taxa de emprego por curso e ordene os resultados.\n",
    "\n",
    "Crie um modelo preditivo simples\n",
    "\n",
    "    Use LogisticRegression para prever a variável empregado com base em informações como media_final, fez_estagio, curso, universidade e cidade."
   ]
  },
  {
   "cell_type": "code",
   "execution_count": 31,
   "id": "2ac1c233",
   "metadata": {},
   "outputs": [],
   "source": [
    "import pandas as pd\n",
    "import seaborn as sns\n",
    "import matplotlib.pyplot as plt\n",
    "from sklearn.preprocessing import LabelEncoder\n",
    "from sklearn.model_selection import train_test_split\n",
    "from sklearn.linear_model import LogisticRegression\n",
    "from sklearn.metrics import accuracy_score"
   ]
  },
  {
   "cell_type": "code",
   "execution_count": 2,
   "id": "abe0e773",
   "metadata": {},
   "outputs": [
    {
     "data": {
      "text/html": [
       "<div>\n",
       "<style scoped>\n",
       "    .dataframe tbody tr th:only-of-type {\n",
       "        vertical-align: middle;\n",
       "    }\n",
       "\n",
       "    .dataframe tbody tr th {\n",
       "        vertical-align: top;\n",
       "    }\n",
       "\n",
       "    .dataframe thead th {\n",
       "        text-align: right;\n",
       "    }\n",
       "</style>\n",
       "<table border=\"1\" class=\"dataframe\">\n",
       "  <thead>\n",
       "    <tr style=\"text-align: right;\">\n",
       "      <th></th>\n",
       "      <th>curso</th>\n",
       "      <th>universidade</th>\n",
       "      <th>media_final</th>\n",
       "      <th>fez_estagio</th>\n",
       "      <th>cidade</th>\n",
       "      <th>empregado</th>\n",
       "    </tr>\n",
       "  </thead>\n",
       "  <tbody>\n",
       "    <tr>\n",
       "      <th>0</th>\n",
       "      <td>Engenharia</td>\n",
       "      <td>UNB</td>\n",
       "      <td>9.40</td>\n",
       "      <td>0</td>\n",
       "      <td>Belo Horizonte</td>\n",
       "      <td>0</td>\n",
       "    </tr>\n",
       "    <tr>\n",
       "      <th>1</th>\n",
       "      <td>Engenharia</td>\n",
       "      <td>UFSP</td>\n",
       "      <td>7.39</td>\n",
       "      <td>0</td>\n",
       "      <td>Salvador</td>\n",
       "      <td>0</td>\n",
       "    </tr>\n",
       "    <tr>\n",
       "      <th>2</th>\n",
       "      <td>Direito</td>\n",
       "      <td>UNB</td>\n",
       "      <td>6.34</td>\n",
       "      <td>0</td>\n",
       "      <td>Belo Horizonte</td>\n",
       "      <td>1</td>\n",
       "    </tr>\n",
       "    <tr>\n",
       "      <th>3</th>\n",
       "      <td>Administração</td>\n",
       "      <td>UFSP</td>\n",
       "      <td>7.38</td>\n",
       "      <td>1</td>\n",
       "      <td>São Paulo</td>\n",
       "      <td>1</td>\n",
       "    </tr>\n",
       "    <tr>\n",
       "      <th>4</th>\n",
       "      <td>Administração</td>\n",
       "      <td>UFMG</td>\n",
       "      <td>6.91</td>\n",
       "      <td>1</td>\n",
       "      <td>Salvador</td>\n",
       "      <td>0</td>\n",
       "    </tr>\n",
       "  </tbody>\n",
       "</table>\n",
       "</div>"
      ],
      "text/plain": [
       "           curso universidade  media_final  fez_estagio          cidade  \\\n",
       "0     Engenharia          UNB         9.40            0  Belo Horizonte   \n",
       "1     Engenharia         UFSP         7.39            0        Salvador   \n",
       "2        Direito          UNB         6.34            0  Belo Horizonte   \n",
       "3  Administração         UFSP         7.38            1       São Paulo   \n",
       "4  Administração         UFMG         6.91            1        Salvador   \n",
       "\n",
       "   empregado  \n",
       "0          0  \n",
       "1          0  \n",
       "2          1  \n",
       "3          1  \n",
       "4          0  "
      ]
     },
     "execution_count": 2,
     "metadata": {},
     "output_type": "execute_result"
    }
   ],
   "source": [
    "df = pd.read_csv(\"dia_52_empregabilidade_graduados(1).csv\")\n",
    "df.head()"
   ]
  },
  {
   "cell_type": "code",
   "execution_count": 6,
   "id": "3f423513",
   "metadata": {},
   "outputs": [
    {
     "name": "stdout",
     "output_type": "stream",
     "text": [
      "empregado\n",
      "0    51.0\n",
      "1    49.0\n"
     ]
    }
   ],
   "source": [
    "#Qual a taxa geral de empregabilidade entre os graduados?\n",
    "taxaEmpregabilidade = df[\"empregado\"].value_counts(normalize=True) * 100\n",
    "print(taxaEmpregabilidade.to_string())"
   ]
  },
  {
   "cell_type": "code",
   "execution_count": 17,
   "id": "569eb5fc",
   "metadata": {},
   "outputs": [
    {
     "data": {
      "image/png": "[encoded data removed]",
      "text/plain": [
       "<Figure size 640x480 with 1 Axes>"
      ]
     },
     "metadata": {},
     "output_type": "display_data"
    }
   ],
   "source": [
    "#Há relação entre ter feito estágio e estar empregado?\n",
    "relEstagioEmpregado = pd.crosstab(df[\"fez_estagio\"], df[\"empregado\"], normalize=\"index\")\n",
    "\n",
    "relEstagioEmpregado.plot(kind=\"bar\", stacked=True)\n",
    "plt.title(\"Relação entre estágio e emprego\")\n",
    "plt.ylabel(\"Proporção\")\n",
    "plt.xlabel(\"Fez Estágio\")\n",
    "plt.grid(axis=\"y\", linestyle=\"--\", alpha=0.7)\n",
    "plt.show()"
   ]
  },
  {
   "cell_type": "code",
   "execution_count": 47,
   "id": "ac9d83ae",
   "metadata": {},
   "outputs": [
    {
     "name": "stdout",
     "output_type": "stream",
     "text": [
      "curso\n",
      "Ciência da Computação    63.0\n",
      "Direito                  53.0\n",
      "Administração            46.0\n",
      "Psicologia               45.0\n",
      "Engenharia               40.0\n"
     ]
    }
   ],
   "source": [
    "#Qual curso teve maior taxa de empregabilidade?\n",
    "taxaEmpregoPorCurso = df.groupby(\"curso\")[\"empregado\"].value_counts(normalize=True).unstack()[1].round(2) * 100\n",
    "print(taxaEmpregoPorCurso.sort_values(ascending=False).to_string())"
   ]
  },
  {
   "cell_type": "code",
   "execution_count": 46,
   "id": "483b37ea",
   "metadata": {},
   "outputs": [
    {
     "name": "stdout",
     "output_type": "stream",
     "text": [
      "Acurácia: 0.6333333333333333\n"
     ]
    }
   ],
   "source": [
    "#Crie um modelo preditivo simples\n",
    "df_modelo = df.copy()\n",
    "\n",
    "colunas = [\"curso\", \"universidade\", \"cidade\"]\n",
    "\n",
    "le = LabelEncoder()\n",
    "for col in colunas:\n",
    "    df_modelo[col] = le.fit_transform(df_modelo[col])\n",
    "\n",
    "X = df_modelo.drop([\"empregado\"], axis=1)\n",
    "y = df_modelo[\"empregado\"]\n",
    "\n",
    "X_train, X_test, y_train, y_test = train_test_split(X, y, test_size=0.3, random_state=42)\n",
    "\n",
    "modelo = LogisticRegression(max_iter=1000)\n",
    "modelo.fit(X_train, y_train)\n",
    "\n",
    "y_pred = modelo.predict(X_test)\n",
    "print(f\"Acurácia: {accuracy_score(y_test, y_pred)}\")"
   ]
  }
 ],
 "metadata": {
  "kernelspec": {
   "display_name": "Python 3 (ipykernel)",
   "language": "python",
   "name": "python3"
  },
  "language_info": {
   "codemirror_mode": {
    "name": "ipython",
    "version": 3
   },
   "file_extension": ".py",
   "mimetype": "text/x-python",
   "name": "python",
   "nbconvert_exporter": "python",
   "pygments_lexer": "ipython3",
   "version": "3.13.2"
  }
 },
 "nbformat": 4,
 "nbformat_minor": 5
}
