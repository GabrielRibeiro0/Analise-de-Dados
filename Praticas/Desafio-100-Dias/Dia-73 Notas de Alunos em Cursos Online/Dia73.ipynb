{
 "cells": [
  {
   "cell_type": "markdown",
   "id": "de136e76",
   "metadata": {},
   "source": [
    "🎯 Desafio dia 73 — Notas de Alunos em Cursos Online\n",
    "\n",
    "📂 Dataset: desafio_dia_73_notas_alunos.csv\n",
    "📥 Clique aqui para baixar o CSV\n",
    "\n",
    "🔍 Contexto: Você trabalha na área de análise de dados de uma plataforma de cursos online. Recebeu os dados dos alunos de diferentes estados e cursos, com notas em duas avaliações e a informação se o curso foi concluído.\n",
    "\n",
    "🛠️ Tarefas do desafio:\n",
    "Tratamento de dados\n",
    "\n",
    "- Preencha os valores ausentes das colunas nota_1 e nota_2 com a média respectiva de cada curso (groupby(\"curso\").transform(\"mean\")).\n",
    "\n",
    "Análise geral\n",
    "\n",
    "- Qual curso tem maior média final (média entre nota_1 e nota_2)?\n",
    "\n",
    "- Qual o percentual de conclusão por estado?\n",
    "\n",
    "Visualização de dados\n",
    "\n",
    "- Crie um gráfico de barras com a média final dos alunos por curso.\n",
    "\n",
    "Machine Learning - Classificação\n",
    "\n",
    "- Crie um modelo para prever se o aluno vai concluir o curso com base em:\n",
    "\n",
    "    nota_1, nota_2, curso, sexo, estado\n",
    "\n",
    "    Use RandomForestClassifier, train_test_split e pd.get_dummies.\n",
    "\n",
    "    Avalie o desempenho do modelo com accuracy_score."
   ]
  },
  {
   "cell_type": "code",
   "execution_count": 44,
   "id": "cdbe6d32",
   "metadata": {},
   "outputs": [],
   "source": [
    "import pandas as pd\n",
    "import seaborn as sns\n",
    "import matplotlib.pyplot as plt\n",
    "from sklearn.model_selection import train_test_split\n",
    "from sklearn.ensemble import RandomForestClassifier\n",
    "from sklearn.metrics import accuracy_score"
   ]
  },
  {
   "cell_type": "code",
   "execution_count": 34,
   "id": "3cdf358e",
   "metadata": {},
   "outputs": [
    {
     "data": {
      "text/html": [
       "<div>\n",
       "<style scoped>\n",
       "    .dataframe tbody tr th:only-of-type {\n",
       "        vertical-align: middle;\n",
       "    }\n",
       "\n",
       "    .dataframe tbody tr th {\n",
       "        vertical-align: top;\n",
       "    }\n",
       "\n",
       "    .dataframe thead th {\n",
       "        text-align: right;\n",
       "    }\n",
       "</style>\n",
       "<table border=\"1\" class=\"dataframe\">\n",
       "  <thead>\n",
       "    <tr style=\"text-align: right;\">\n",
       "      <th></th>\n",
       "      <th>id_aluno</th>\n",
       "      <th>curso</th>\n",
       "      <th>sexo</th>\n",
       "      <th>estado</th>\n",
       "      <th>nota_1</th>\n",
       "      <th>nota_2</th>\n",
       "      <th>concluiu</th>\n",
       "    </tr>\n",
       "  </thead>\n",
       "  <tbody>\n",
       "    <tr>\n",
       "      <th>0</th>\n",
       "      <td>1001</td>\n",
       "      <td>Power BI</td>\n",
       "      <td>Feminino</td>\n",
       "      <td>MG</td>\n",
       "      <td>8.2</td>\n",
       "      <td>6.2</td>\n",
       "      <td>Sim</td>\n",
       "    </tr>\n",
       "    <tr>\n",
       "      <th>1</th>\n",
       "      <td>1002</td>\n",
       "      <td>Power BI</td>\n",
       "      <td>Feminino</td>\n",
       "      <td>RS</td>\n",
       "      <td>7.8</td>\n",
       "      <td>6.9</td>\n",
       "      <td>Sim</td>\n",
       "    </tr>\n",
       "    <tr>\n",
       "      <th>2</th>\n",
       "      <td>1003</td>\n",
       "      <td>Python</td>\n",
       "      <td>Feminino</td>\n",
       "      <td>PR</td>\n",
       "      <td>5.3</td>\n",
       "      <td>7.3</td>\n",
       "      <td>Sim</td>\n",
       "    </tr>\n",
       "    <tr>\n",
       "      <th>3</th>\n",
       "      <td>1004</td>\n",
       "      <td>Python</td>\n",
       "      <td>Masculino</td>\n",
       "      <td>RS</td>\n",
       "      <td>6.5</td>\n",
       "      <td>8.2</td>\n",
       "      <td>Não</td>\n",
       "    </tr>\n",
       "    <tr>\n",
       "      <th>4</th>\n",
       "      <td>1005</td>\n",
       "      <td>SQL</td>\n",
       "      <td>Feminino</td>\n",
       "      <td>MG</td>\n",
       "      <td>6.5</td>\n",
       "      <td>NaN</td>\n",
       "      <td>Sim</td>\n",
       "    </tr>\n",
       "  </tbody>\n",
       "</table>\n",
       "</div>"
      ],
      "text/plain": [
       "   id_aluno     curso       sexo estado  nota_1  nota_2 concluiu\n",
       "0      1001  Power BI   Feminino     MG     8.2     6.2      Sim\n",
       "1      1002  Power BI   Feminino     RS     7.8     6.9      Sim\n",
       "2      1003    Python   Feminino     PR     5.3     7.3      Sim\n",
       "3      1004    Python  Masculino     RS     6.5     8.2      Não\n",
       "4      1005       SQL   Feminino     MG     6.5     NaN      Sim"
      ]
     },
     "execution_count": 34,
     "metadata": {},
     "output_type": "execute_result"
    }
   ],
   "source": [
    "df = pd.read_csv(\"desafio_dia_73_notas_alunos.csv\")\n",
    "df.head()"
   ]
  },
  {
   "cell_type": "code",
   "execution_count": 7,
   "id": "da2b545a",
   "metadata": {},
   "outputs": [
    {
     "name": "stdout",
     "output_type": "stream",
     "text": [
      "0\n",
      "0\n"
     ]
    }
   ],
   "source": [
    "#Preencha os valores ausentes das colunas nota_1 e nota_2 com a média respectiva de cada curso \n",
    "df[\"nota_1\"] = df[\"nota_1\"].fillna(df.groupby(\"curso\")[\"nota_1\"].transform(\"mean\"))\n",
    "print(df[\"nota_1\"].isna().sum())\n",
    "\n",
    "df[\"nota_2\"] = df[\"nota_2\"].fillna(df.groupby(\"curso\")[\"nota_2\"].transform(\"mean\"))\n",
    "print(df[\"nota_2\"].isna().sum())"
   ]
  },
  {
   "cell_type": "code",
   "execution_count": 37,
   "id": "ecd73565",
   "metadata": {},
   "outputs": [
    {
     "name": "stdout",
     "output_type": "stream",
     "text": [
      "curso\n",
      "Python              7.159783\n",
      "Machine Learning    7.148864\n",
      "Power BI            7.110309\n",
      "Excel               7.096196\n",
      "SQL                 7.059259\n",
      "Name: media_final, dtype: float64\n"
     ]
    }
   ],
   "source": [
    "#Qual curso tem maior média final (média entre nota_1 e nota_2)?\n",
    "df[\"media_final\"] = (df[\"nota_1\"] + df[\"nota_2\"]) / 2\n",
    "media_curso = df.groupby(\"curso\")[\"media_final\"].mean().sort_values(ascending=False)\n",
    "print(media_curso)"
   ]
  },
  {
   "cell_type": "code",
   "execution_count": 35,
   "id": "3462eeeb",
   "metadata": {},
   "outputs": [
    {
     "name": "stdout",
     "output_type": "stream",
     "text": [
      "estado\n",
      "RJ    77.777778\n",
      "SP    70.967742\n",
      "MG    70.476190\n",
      "PR    65.263158\n",
      "RS    64.285714\n",
      "Name: concluiu, dtype: float64\n"
     ]
    }
   ],
   "source": [
    "#Qual o percentual de conclusão por estado?\n",
    "df[\"concluiu\"] = df[\"concluiu\"].map({\"Sim\": 1, \"Não\": 0})\n",
    "\n",
    "percent_conclusao = df.groupby(\"estado\")[\"concluiu\"].mean() * 100\n",
    "print(percent_conclusao.sort_values(ascending=False))"
   ]
  },
  {
   "cell_type": "code",
   "execution_count": 42,
   "id": "5fb43505",
   "metadata": {},
   "outputs": [
    {
     "data": {
      "image/png": "[encoded data removed]",
      "text/plain": [
       "<Figure size 640x480 with 1 Axes>"
      ]
     },
     "metadata": {},
     "output_type": "display_data"
    }
   ],
   "source": [
    "#Crie um gráfico de barras com a média final dos alunos por curso.\n",
    "sns.barplot(df, x=\"curso\", y=\"media_final\")\n",
    "plt.title(\"Média Final dos Alunos por Curso\")\n",
    "plt.ylabel(\"Média Final\")\n",
    "plt.xlabel(\"Curso\")\n",
    "plt.show()"
   ]
  },
  {
   "cell_type": "code",
   "execution_count": 45,
   "id": "d177b6ba",
   "metadata": {},
   "outputs": [
    {
     "name": "stdout",
     "output_type": "stream",
     "text": [
      "0.6122448979591837\n"
     ]
    }
   ],
   "source": [
    "#Crie um modelo para prever se o aluno vai concluir o curso com base em:\n",
    "X = df[[\"nota_1\", \"nota_2\", \"curso\", \"sexo\", \"estado\"]]\n",
    "y = df[\"concluiu\"]\n",
    "\n",
    "X = pd.get_dummies(X)\n",
    "\n",
    "X_train, X_test, y_train, y_test = train_test_split(X, y, test_size=0.3, random_state=42)\n",
    "\n",
    "modelo = RandomForestClassifier(random_state=42)\n",
    "modelo.fit(X_train, y_train)\n",
    "\n",
    "y_pred = modelo.predict(X_test)\n",
    "print(accuracy_score(y_test, y_pred))"
   ]
  },
  {
   "cell_type": "code",
   "execution_count": null,
   "id": "6662fa06",
   "metadata": {},
   "outputs": [],
   "source": []
  }
 ],
 "metadata": {
  "kernelspec": {
   "display_name": "Python (jupyter_env)",
   "language": "python",
   "name": "jupyter_env"
  },
  "language_info": {
   "codemirror_mode": {
    "name": "ipython",
    "version": 3
   },
   "file_extension": ".py",
   "mimetype": "text/x-python",
   "name": "python",
   "nbconvert_exporter": "python",
   "pygments_lexer": "ipython3",
   "version": "3.13.2"
  }
 },
 "nbformat": 4,
 "nbformat_minor": 5
}
