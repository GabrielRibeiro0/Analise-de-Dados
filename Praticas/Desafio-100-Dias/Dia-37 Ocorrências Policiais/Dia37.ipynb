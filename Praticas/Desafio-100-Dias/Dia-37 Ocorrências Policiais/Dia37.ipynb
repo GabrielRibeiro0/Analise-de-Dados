{
 "cells": [
  {
   "cell_type": "markdown",
   "id": "21792d6b-040b-40a9-91dc-69e81a8e5551",
   "metadata": {},
   "source": [
    "Desafio 37: Ocorrências Policiais\n",
    "\n",
    "📂 Dataset: Registros de ocorrências policiais em uma cidade.\n",
    "Colunas: ID, Data, Tipo, Bairro, Status, Envolvidos\n",
    "\n",
    "🎯 Tarefas:\n",
    "\n",
    "Corrija inconsistências nos nomes dos tipos de ocorrência (ex: \"fUrTo\").\n",
    "\n",
    "Trate valores ausentes na coluna Status.\n",
    "\n",
    "Qual o tipo de ocorrência mais frequente?\n",
    "\n",
    "Quais bairros registraram mais de 40 ocorrências?\n",
    "\n",
    "Crie um gráfico de barras horizontais mostrando o total de ocorrências por bairro."
   ]
  },
  {
   "cell_type": "code",
   "execution_count": 27,
   "id": "63fec885-67aa-490d-9af7-345d2b31f7eb",
   "metadata": {},
   "outputs": [],
   "source": [
    "import pandas as pd\n",
    "import matplotlib.pyplot as plt"
   ]
  },
  {
   "cell_type": "code",
   "execution_count": 2,
   "id": "9979c740-851a-4019-995e-b8f429cb7219",
   "metadata": {},
   "outputs": [
    {
     "data": {
      "text/html": [
       "<div>\n",
       "<style scoped>\n",
       "    .dataframe tbody tr th:only-of-type {\n",
       "        vertical-align: middle;\n",
       "    }\n",
       "\n",
       "    .dataframe tbody tr th {\n",
       "        vertical-align: top;\n",
       "    }\n",
       "\n",
       "    .dataframe thead th {\n",
       "        text-align: right;\n",
       "    }\n",
       "</style>\n",
       "<table border=\"1\" class=\"dataframe\">\n",
       "  <thead>\n",
       "    <tr style=\"text-align: right;\">\n",
       "      <th></th>\n",
       "      <th>ID</th>\n",
       "      <th>Data</th>\n",
       "      <th>Tipo</th>\n",
       "      <th>Bairro</th>\n",
       "      <th>Status</th>\n",
       "      <th>Envolvidos</th>\n",
       "    </tr>\n",
       "  </thead>\n",
       "  <tbody>\n",
       "    <tr>\n",
       "      <th>0</th>\n",
       "      <td>OC0001</td>\n",
       "      <td>2024-02-25</td>\n",
       "      <td>Roubo</td>\n",
       "      <td>Alvorada</td>\n",
       "      <td>Em investigação</td>\n",
       "      <td>5</td>\n",
       "    </tr>\n",
       "    <tr>\n",
       "      <th>1</th>\n",
       "      <td>OC0002</td>\n",
       "      <td>2024-03-01</td>\n",
       "      <td>Furto</td>\n",
       "      <td>Vila Nova</td>\n",
       "      <td>Encerrado</td>\n",
       "      <td>1</td>\n",
       "    </tr>\n",
       "    <tr>\n",
       "      <th>2</th>\n",
       "      <td>OC0003</td>\n",
       "      <td>2024-02-29</td>\n",
       "      <td>Agressão</td>\n",
       "      <td>Vila Nova</td>\n",
       "      <td>Em investigação</td>\n",
       "      <td>2</td>\n",
       "    </tr>\n",
       "    <tr>\n",
       "      <th>3</th>\n",
       "      <td>OC0004</td>\n",
       "      <td>2024-03-07</td>\n",
       "      <td>Violência Doméstica</td>\n",
       "      <td>Centro</td>\n",
       "      <td>Sem solução</td>\n",
       "      <td>3</td>\n",
       "    </tr>\n",
       "    <tr>\n",
       "      <th>4</th>\n",
       "      <td>OC0005</td>\n",
       "      <td>2024-02-27</td>\n",
       "      <td>Furto</td>\n",
       "      <td>Parque Verde</td>\n",
       "      <td>Em investigação</td>\n",
       "      <td>2</td>\n",
       "    </tr>\n",
       "  </tbody>\n",
       "</table>\n",
       "</div>"
      ],
      "text/plain": [
       "       ID        Data                 Tipo        Bairro           Status  \\\n",
       "0  OC0001  2024-02-25                Roubo      Alvorada  Em investigação   \n",
       "1  OC0002  2024-03-01                Furto     Vila Nova        Encerrado   \n",
       "2  OC0003  2024-02-29             Agressão     Vila Nova  Em investigação   \n",
       "3  OC0004  2024-03-07  Violência Doméstica        Centro      Sem solução   \n",
       "4  OC0005  2024-02-27                Furto  Parque Verde  Em investigação   \n",
       "\n",
       "   Envolvidos  \n",
       "0           5  \n",
       "1           1  \n",
       "2           2  \n",
       "3           3  \n",
       "4           2  "
      ]
     },
     "execution_count": 2,
     "metadata": {},
     "output_type": "execute_result"
    }
   ],
   "source": [
    "df = pd.read_csv(\"dia_37_ocorrencias_policiais.csv\")\n",
    "df.head()"
   ]
  },
  {
   "cell_type": "code",
   "execution_count": 5,
   "id": "d2bf5a1f-7e2d-4cd5-b78b-0adf027cc5a8",
   "metadata": {},
   "outputs": [
    {
     "data": {
      "text/plain": [
       "array(['Roubo', 'Furto', 'Agressão', 'Violência Doméstica', 'Homicídio',\n",
       "       'Tráfico de Drogas'], dtype=object)"
      ]
     },
     "execution_count": 5,
     "metadata": {},
     "output_type": "execute_result"
    }
   ],
   "source": [
    "#Corrija inconsistências nos nomes dos tipos de ocorrência (ex: \"fUrTo\").\n",
    "df[\"Tipo\"] = df[\"Tipo\"].replace({\"fUrTo\": \"Furto\"})\n",
    "df[\"Tipo\"].unique()"
   ]
  },
  {
   "cell_type": "code",
   "execution_count": 7,
   "id": "76198347-4cee-4474-a28a-88c606947f52",
   "metadata": {},
   "outputs": [
    {
     "data": {
      "text/plain": [
       "array(['Em investigação', 'Encerrado', 'Sem solução', 'Não informado'],\n",
       "      dtype=object)"
      ]
     },
     "execution_count": 7,
     "metadata": {},
     "output_type": "execute_result"
    }
   ],
   "source": [
    "#Trate valores ausentes na coluna Status.\n",
    "df[\"Status\"] = df[\"Status\"].fillna(\"Não informado\")\n",
    "df[\"Status\"].unique()"
   ]
  },
  {
   "cell_type": "code",
   "execution_count": 11,
   "id": "7767fafb-7c0d-4d3d-8e7e-2b9c63612a52",
   "metadata": {},
   "outputs": [
    {
     "name": "stdout",
     "output_type": "stream",
     "text": [
      "tipo de ocorrência mais frequente: Furto com 98 Casos\n"
     ]
    }
   ],
   "source": [
    "#Qual o tipo de ocorrência mais frequente?\n",
    "freqOcorrencia = df[\"Tipo\"].value_counts()\n",
    "print(f\"tipo de ocorrência mais frequente: {freqOcorrencia.idxmax()} com {freqOcorrencia.max()} Casos\")"
   ]
  },
  {
   "cell_type": "code",
   "execution_count": 26,
   "id": "3b1929bf-b404-4f87-8cfa-b04f0df63996",
   "metadata": {},
   "outputs": [
    {
     "name": "stdout",
     "output_type": "stream",
     "text": [
      "Bairros com mais de 40 ocorrências: \n",
      "\n",
      "Bairro\n",
      "São Jorge            85\n",
      "Industrial           79\n",
      "Centro               75\n",
      "Vila Nova            72\n",
      "Alvorada             68\n",
      "Jardim das Flores    66\n",
      "Parque Verde         55\n"
     ]
    }
   ],
   "source": [
    "#Quais bairros registraram mais de 40 ocorrências?\n",
    "bairroOcorrencias = df[\"Bairro\"].value_counts()\n",
    "mais40Ocorrencias = bairroOcorrencias[bairroOcorrencias >= 40]\n",
    "print(f\"Bairros com mais de 40 ocorrências: \\n\\n{mais40Ocorrencias.to_string()}\")"
   ]
  },
  {
   "cell_type": "code",
   "execution_count": 33,
   "id": "65078b6b-db8a-4ee2-a5d3-76d9ad2a129c",
   "metadata": {},
   "outputs": [
    {
     "data": {
      "image/png": "[encoded data removed]",
      "text/plain": [
       "<Figure size 640x480 with 1 Axes>"
      ]
     },
     "metadata": {},
     "output_type": "display_data"
    }
   ],
   "source": [
    "#Crie um gráfico de barras horizontais mostrando o total de ocorrências por bairro.\n",
    "bairroOcorrencias.plot(kind=\"barh\")\n",
    "plt.title(\"Total de Ocorrências por Bairro\")\n",
    "plt.xlabel(\"Total de Ocorrências\")\n",
    "plt.ylabel(\"Bairro\")\n",
    "plt.grid(axis=\"x\", linestyle=\"--\", alpha=0.6)\n",
    "plt.show()"
   ]
  }
 ],
 "metadata": {
  "kernelspec": {
   "display_name": "Python 3 (ipykernel)",
   "language": "python",
   "name": "python3"
  },
  "language_info": {
   "codemirror_mode": {
    "name": "ipython",
    "version": 3
   },
   "file_extension": ".py",
   "mimetype": "text/x-python",
   "name": "python",
   "nbconvert_exporter": "python",
   "pygments_lexer": "ipython3",
   "version": "3.12.7"
  }
 },
 "nbformat": 4,
 "nbformat_minor": 5
}
