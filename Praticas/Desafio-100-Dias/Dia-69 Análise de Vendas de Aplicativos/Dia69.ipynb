{
 "cells": [
  {
   "cell_type": "markdown",
   "id": "e3643771",
   "metadata": {},
   "source": [
    "🎯 Desafio dia 69 — Análise de Vendas de Aplicativos\n",
    "\n",
    "Dataset: desafio_dia_69_vendas_apps.csv\n",
    "\n",
    "🔍 Contexto: Você está trabalhando com dados de um marketplace de aplicativos. Seu objetivo é analisar o desempenho dos apps e prever quais têm maior chance de gerar alta receita.\n",
    "\n",
    "Tarefas do desafio:\n",
    "\n",
    "Tratamento de dados\n",
    "\n",
    "- Preencha os valores ausentes na coluna avaliacao com a média.\n",
    "\n",
    "- Preencha os valores ausentes em preco_usd com zero (apps gratuitos).\n",
    "\n",
    "Análise geral\n",
    "\n",
    "- Qual categoria de aplicativo tem a maior receita média?\n",
    "\n",
    "- Qual plataforma possui a maior proporção de apps com sucesso_alto?\n",
    "\n",
    "Visualização de dados\n",
    "\n",
    "- Crie um gráfico de barras comparando o total de receita por categoria.\n",
    "\n",
    "Machine Learning - Classificação\n",
    "\n",
    "- Crie um modelo para prever se o app será um sucesso_alto, com base em:\n",
    "\n",
    "    avaliacao, preco_usd, downloads_mil, categoria, plataforma\n",
    "\n",
    "    Utilize train_test_split, pd.get_dummies e RandomForestClassifier.\n",
    "\n",
    "    Avalie a performance com accuracy_score.\n",
    "\n"
   ]
  },
  {
   "cell_type": "code",
   "execution_count": 29,
   "id": "fae7f8f8",
   "metadata": {},
   "outputs": [],
   "source": [
    "import pandas as pd\n",
    "import seaborn as sns\n",
    "import matplotlib.pyplot as plt\n",
    "from sklearn.model_selection import train_test_split\n",
    "from sklearn.linear_model import LogisticRegression\n",
    "from sklearn.metrics import accuracy_score"
   ]
  },
  {
   "cell_type": "code",
   "execution_count": 2,
   "id": "e064c585",
   "metadata": {},
   "outputs": [
    {
     "data": {
      "text/html": [
       "<div>\n",
       "<style scoped>\n",
       "    .dataframe tbody tr th:only-of-type {\n",
       "        vertical-align: middle;\n",
       "    }\n",
       "\n",
       "    .dataframe tbody tr th {\n",
       "        vertical-align: top;\n",
       "    }\n",
       "\n",
       "    .dataframe thead th {\n",
       "        text-align: right;\n",
       "    }\n",
       "</style>\n",
       "<table border=\"1\" class=\"dataframe\">\n",
       "  <thead>\n",
       "    <tr style=\"text-align: right;\">\n",
       "      <th></th>\n",
       "      <th>id_app</th>\n",
       "      <th>nome_app</th>\n",
       "      <th>categoria</th>\n",
       "      <th>plataforma</th>\n",
       "      <th>avaliacao</th>\n",
       "      <th>downloads_mil</th>\n",
       "      <th>preco_usd</th>\n",
       "      <th>receita_usd</th>\n",
       "      <th>sucesso_alto</th>\n",
       "    </tr>\n",
       "  </thead>\n",
       "  <tbody>\n",
       "    <tr>\n",
       "      <th>0</th>\n",
       "      <td>1</td>\n",
       "      <td>App_1</td>\n",
       "      <td>Saúde</td>\n",
       "      <td>iOS</td>\n",
       "      <td>3.7</td>\n",
       "      <td>4926</td>\n",
       "      <td>0.00</td>\n",
       "      <td>0.0</td>\n",
       "      <td>0</td>\n",
       "    </tr>\n",
       "    <tr>\n",
       "      <th>1</th>\n",
       "      <td>2</td>\n",
       "      <td>App_2</td>\n",
       "      <td>Educação</td>\n",
       "      <td>iOS</td>\n",
       "      <td>3.3</td>\n",
       "      <td>2152</td>\n",
       "      <td>2.99</td>\n",
       "      <td>6434480.0</td>\n",
       "      <td>1</td>\n",
       "    </tr>\n",
       "    <tr>\n",
       "      <th>2</th>\n",
       "      <td>3</td>\n",
       "      <td>App_3</td>\n",
       "      <td>Saúde</td>\n",
       "      <td>iOS</td>\n",
       "      <td>4.6</td>\n",
       "      <td>2291</td>\n",
       "      <td>0.00</td>\n",
       "      <td>0.0</td>\n",
       "      <td>0</td>\n",
       "    </tr>\n",
       "    <tr>\n",
       "      <th>3</th>\n",
       "      <td>4</td>\n",
       "      <td>App_4</td>\n",
       "      <td>Finanças</td>\n",
       "      <td>iOS</td>\n",
       "      <td>NaN</td>\n",
       "      <td>2865</td>\n",
       "      <td>0.99</td>\n",
       "      <td>2836350.0</td>\n",
       "      <td>1</td>\n",
       "    </tr>\n",
       "    <tr>\n",
       "      <th>4</th>\n",
       "      <td>5</td>\n",
       "      <td>App_5</td>\n",
       "      <td>Entretenimento</td>\n",
       "      <td>iOS</td>\n",
       "      <td>4.1</td>\n",
       "      <td>4634</td>\n",
       "      <td>4.99</td>\n",
       "      <td>23123660.0</td>\n",
       "      <td>1</td>\n",
       "    </tr>\n",
       "  </tbody>\n",
       "</table>\n",
       "</div>"
      ],
      "text/plain": [
       "   id_app nome_app       categoria plataforma  avaliacao  downloads_mil  \\\n",
       "0       1    App_1           Saúde        iOS        3.7           4926   \n",
       "1       2    App_2        Educação        iOS        3.3           2152   \n",
       "2       3    App_3           Saúde        iOS        4.6           2291   \n",
       "3       4    App_4        Finanças        iOS        NaN           2865   \n",
       "4       5    App_5  Entretenimento        iOS        4.1           4634   \n",
       "\n",
       "   preco_usd  receita_usd  sucesso_alto  \n",
       "0       0.00          0.0             0  \n",
       "1       2.99    6434480.0             1  \n",
       "2       0.00          0.0             0  \n",
       "3       0.99    2836350.0             1  \n",
       "4       4.99   23123660.0             1  "
      ]
     },
     "execution_count": 2,
     "metadata": {},
     "output_type": "execute_result"
    }
   ],
   "source": [
    "df = pd.read_csv(\"desafio_dia_69_vendas_apps.csv\")\n",
    "df.head()"
   ]
  },
  {
   "cell_type": "code",
   "execution_count": 6,
   "id": "756b72ef",
   "metadata": {},
   "outputs": [
    {
     "data": {
      "text/plain": [
       "0    3.7\n",
       "1    3.3\n",
       "2    4.6\n",
       "3    3.8\n",
       "4    4.1\n",
       "Name: avaliacao, dtype: float64"
      ]
     },
     "execution_count": 6,
     "metadata": {},
     "output_type": "execute_result"
    }
   ],
   "source": [
    "#Preencha os valores ausentes na coluna avaliacao com a média.\n",
    "df[\"avaliacao\"] = df[\"avaliacao\"].fillna(df[\"avaliacao\"].mean()).round(2)\n",
    "df[\"avaliacao\"].head()"
   ]
  },
  {
   "cell_type": "code",
   "execution_count": 11,
   "id": "2162b3c6",
   "metadata": {},
   "outputs": [
    {
     "data": {
      "text/plain": [
       "np.int64(0)"
      ]
     },
     "execution_count": 11,
     "metadata": {},
     "output_type": "execute_result"
    }
   ],
   "source": [
    "#Preencha os valores ausentes em preco_usd com zero (apps gratuitos).\n",
    "df[\"preco_usd\"] = df[\"preco_usd\"].fillna(\"0\")\n",
    "df[\"preco_usd\"].isna().sum()"
   ]
  },
  {
   "cell_type": "code",
   "execution_count": 14,
   "id": "ba892887",
   "metadata": {
    "scrolled": true
   },
   "outputs": [
    {
     "name": "stdout",
     "output_type": "stream",
     "text": [
      "categoria\n",
      "Saúde             4.920989e+06\n",
      "Finanças          4.536295e+06\n",
      "Jogos             4.034263e+06\n",
      "Entretenimento    3.170129e+06\n",
      "Educação          2.921158e+06\n",
      "Name: receita_usd, dtype: float64\n"
     ]
    }
   ],
   "source": [
    "#Qual categoria de aplicativo tem a maior receita média?\n",
    "categoria_receita = df.groupby(\"categoria\")[\"receita_usd\"].mean().sort_values(ascending=False)\n",
    "print(categoria_receita)"
   ]
  },
  {
   "cell_type": "code",
   "execution_count": 18,
   "id": "46866ba0",
   "metadata": {},
   "outputs": [
    {
     "name": "stdout",
     "output_type": "stream",
     "text": [
      "plataforma\n",
      "Android    51.0\n",
      "iOS        49.0\n",
      "Name: sucesso_alto, dtype: float64\n"
     ]
    }
   ],
   "source": [
    "#Qual plataforma possui a maior proporção de apps com sucesso_alto?\n",
    "proporcao = df.groupby(\"plataforma\")[\"sucesso_alto\"].mean().round(2) * 100\n",
    "print(proporcao)"
   ]
  },
  {
   "cell_type": "code",
   "execution_count": 22,
   "id": "15f00c91",
   "metadata": {},
   "outputs": [
    {
     "data": {
      "image/png": "[encoded data removed]",
      "text/plain": [
       "<Figure size 640x480 with 1 Axes>"
      ]
     },
     "metadata": {},
     "output_type": "display_data"
    }
   ],
   "source": [
    "#Crie um gráfico de barras comparando o total de receita por categoria.\n",
    "sns.barplot(df, x=\"categoria\", y=\"receita_usd\")\n",
    "plt.title(\"Receita Total por Categoria de Aplicativo\")\n",
    "plt.ylabel(\"Receita (USD)\")\n",
    "plt.xlabel(\"Categoria\")\n",
    "plt.show()"
   ]
  },
  {
   "cell_type": "code",
   "execution_count": 34,
   "id": "a9c7e4c9",
   "metadata": {},
   "outputs": [
    {
     "name": "stdout",
     "output_type": "stream",
     "text": [
      "0.9407407407407408\n"
     ]
    }
   ],
   "source": [
    "#Crie um modelo para prever se o app será um sucesso_alto, com base em:\n",
    "df_dummies = pd.get_dummies(df[[\"categoria\", \"plataforma\"]], drop_first=True)\n",
    "\n",
    "X = pd.concat([df[[\"avaliacao\", \"preco_usd\", \"downloads_mil\"]], df_dummies], axis=1)\n",
    "y = df[\"sucesso_alto\"]\n",
    "\n",
    "X_train, X_test, y_train, y_test = train_test_split(X, y, test_size=0.3, random_state=42)\n",
    "\n",
    "modelo = LogisticRegression(max_iter=1000)\n",
    "modelo.fit(X_train, y_train)\n",
    "\n",
    "y_pred = modelo.predict(X_test)\n",
    "print(accuracy_score(y_test, y_pred))"
   ]
  },
  {
   "cell_type": "code",
   "execution_count": null,
   "id": "3ace2e07",
   "metadata": {},
   "outputs": [],
   "source": []
  }
 ],
 "metadata": {
  "kernelspec": {
   "display_name": "Python (jupyter_env)",
   "language": "python",
   "name": "jupyter_env"
  },
  "language_info": {
   "codemirror_mode": {
    "name": "ipython",
    "version": 3
   },
   "file_extension": ".py",
   "mimetype": "text/x-python",
   "name": "python",
   "nbconvert_exporter": "python",
   "pygments_lexer": "ipython3",
   "version": "3.13.2"
  }
 },
 "nbformat": 4,
 "nbformat_minor": 5
}
