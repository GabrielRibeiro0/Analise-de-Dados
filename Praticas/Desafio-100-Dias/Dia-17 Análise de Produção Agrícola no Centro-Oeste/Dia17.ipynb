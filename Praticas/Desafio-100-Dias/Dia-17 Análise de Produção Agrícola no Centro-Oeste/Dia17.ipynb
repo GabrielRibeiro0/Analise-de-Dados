{
 "cells": [
  {
   "cell_type": "markdown",
   "id": "07e25cc3-b9a7-4be1-ab8a-3bb015b8f3bf",
   "metadata": {},
   "source": [
    "Desafio 17: Análise de Produção Agrícola no Centro-Oeste\n",
    "\n",
    "📂 Dataset: Produção de diversas culturas em municípios da região Centro-Oeste entre 2019 e 2023.\n",
    "Colunas: Ano, Município, Cultura, Área_plantada_ha, Produtividade_t/ha, Produção_total_t\n",
    "\n",
    "🎯 Atividades:\n",
    "\n",
    "Qual cultura teve a maior produção total acumulada entre os anos?\n",
    "\n",
    "Qual município apresenta a maior média de produtividade (toneladas por hectare)?\n",
    "\n",
    "Como está a variação da área plantada para a cultura de soja ao longo dos anos?\n",
    "\n",
    "Existe alguma cultura que teve queda na produtividade ao longo dos anos?\n",
    "\n",
    "Crie um gráfico de linha mostrando a produção total anual de milho."
   ]
  },
  {
   "cell_type": "code",
   "execution_count": 2,
   "id": "bac7d6ed-12ba-4891-934b-5b062f3ebd23",
   "metadata": {},
   "outputs": [],
   "source": [
    "import pandas as pd\n",
    "import seaborn as sns\n",
    "import matplotlib.pyplot as plt"
   ]
  },
  {
   "cell_type": "code",
   "execution_count": 3,
   "id": "cbe45b1b-5e95-496f-934c-bd30f9773a78",
   "metadata": {},
   "outputs": [
    {
     "data": {
      "text/html": [
       "<div>\n",
       "<style scoped>\n",
       "    .dataframe tbody tr th:only-of-type {\n",
       "        vertical-align: middle;\n",
       "    }\n",
       "\n",
       "    .dataframe tbody tr th {\n",
       "        vertical-align: top;\n",
       "    }\n",
       "\n",
       "    .dataframe thead th {\n",
       "        text-align: right;\n",
       "    }\n",
       "</style>\n",
       "<table border=\"1\" class=\"dataframe\">\n",
       "  <thead>\n",
       "    <tr style=\"text-align: right;\">\n",
       "      <th></th>\n",
       "      <th>Ano</th>\n",
       "      <th>Município</th>\n",
       "      <th>Cultura</th>\n",
       "      <th>Área_plantada_ha</th>\n",
       "      <th>Produtividade_t/ha</th>\n",
       "      <th>Produção_total_t</th>\n",
       "    </tr>\n",
       "  </thead>\n",
       "  <tbody>\n",
       "    <tr>\n",
       "      <th>0</th>\n",
       "      <td>2021</td>\n",
       "      <td>Anápolis</td>\n",
       "      <td>Soja</td>\n",
       "      <td>8574</td>\n",
       "      <td>3.19</td>\n",
       "      <td>27351.06</td>\n",
       "    </tr>\n",
       "    <tr>\n",
       "      <th>1</th>\n",
       "      <td>2023</td>\n",
       "      <td>Cristalina</td>\n",
       "      <td>Cana-de-Açúcar</td>\n",
       "      <td>5861</td>\n",
       "      <td>2.44</td>\n",
       "      <td>14300.84</td>\n",
       "    </tr>\n",
       "    <tr>\n",
       "      <th>2</th>\n",
       "      <td>2023</td>\n",
       "      <td>Luziânia</td>\n",
       "      <td>Cana-de-Açúcar</td>\n",
       "      <td>6772</td>\n",
       "      <td>3.97</td>\n",
       "      <td>26884.84</td>\n",
       "    </tr>\n",
       "    <tr>\n",
       "      <th>3</th>\n",
       "      <td>2021</td>\n",
       "      <td>Jataí</td>\n",
       "      <td>Algodão</td>\n",
       "      <td>4161</td>\n",
       "      <td>3.36</td>\n",
       "      <td>13980.96</td>\n",
       "    </tr>\n",
       "    <tr>\n",
       "      <th>4</th>\n",
       "      <td>2021</td>\n",
       "      <td>Cristalina</td>\n",
       "      <td>Trigo</td>\n",
       "      <td>3036</td>\n",
       "      <td>4.32</td>\n",
       "      <td>13115.52</td>\n",
       "    </tr>\n",
       "  </tbody>\n",
       "</table>\n",
       "</div>"
      ],
      "text/plain": [
       "    Ano   Município         Cultura  Área_plantada_ha  Produtividade_t/ha  \\\n",
       "0  2021    Anápolis            Soja              8574                3.19   \n",
       "1  2023  Cristalina  Cana-de-Açúcar              5861                2.44   \n",
       "2  2023    Luziânia  Cana-de-Açúcar              6772                3.97   \n",
       "3  2021       Jataí         Algodão              4161                3.36   \n",
       "4  2021  Cristalina           Trigo              3036                4.32   \n",
       "\n",
       "   Produção_total_t  \n",
       "0          27351.06  \n",
       "1          14300.84  \n",
       "2          26884.84  \n",
       "3          13980.96  \n",
       "4          13115.52  "
      ]
     },
     "execution_count": 3,
     "metadata": {},
     "output_type": "execute_result"
    }
   ],
   "source": [
    "#testando dataset\n",
    "df = pd.read_csv(\"dia_17_producao_agricola.csv\")\n",
    "df.head()"
   ]
  },
  {
   "cell_type": "code",
   "execution_count": 41,
   "id": "bf0d8190-f564-433b-8650-bd88ef880081",
   "metadata": {},
   "outputs": [
    {
     "name": "stdout",
     "output_type": "stream",
     "text": [
      "Cultura\n",
      "Algodão           284035.55\n",
      "Cana-de-Açúcar    214316.62\n",
      "Milho             283557.33\n",
      "Soja              331348.94\n",
      "Trigo             383989.81\n"
     ]
    }
   ],
   "source": [
    "#Qual cultura teve a maior produção total acumulada entre os anos?\n",
    "producaoTotalCultura = df.groupby(\"Cultura\")[\"Produção_total_t\"].sum()\n",
    "print(producaoTotalCultura.to_string())"
   ]
  },
  {
   "cell_type": "code",
   "execution_count": 17,
   "id": "f666ef21-3201-4871-8d22-23f9a1763687",
   "metadata": {},
   "outputs": [
    {
     "name": "stdout",
     "output_type": "stream",
     "text": [
      "O município com maior média foi: Rio Verde, com uma média de: 3.51 toneladas por hectare\n"
     ]
    }
   ],
   "source": [
    "#Qual município apresenta a maior média de produtividade (toneladas por hectare)?\n",
    "municipioProd = df.groupby(\"Município\")[\"Produtividade_t/ha\"].mean().sort_values(ascending=False)\n",
    "print(f\"O município com maior média foi: {municipioProd.idxmax()}, com uma média de: {municipioProd.max():.2f} toneladas por hectare\")"
   ]
  },
  {
   "cell_type": "code",
   "execution_count": 39,
   "id": "7d1343f2-6069-4fad-8c23-b1eec8829dad",
   "metadata": {},
   "outputs": [
    {
     "name": "stdout",
     "output_type": "stream",
     "text": [
      "Área plantada por ano: \n",
      "Ano\n",
      "2019    18297\n",
      "2020     9931\n",
      "2021    35532\n",
      "2022    25183\n",
      "2023    22390\n",
      "\n",
      "Variação ano a ano: \n",
      "Ano\n",
      "2019        NaN\n",
      "2020    -8366.0\n",
      "2021    25601.0\n",
      "2022   -10349.0\n",
      "2023    -2793.0\n",
      "\n",
      "Desvio padrão da área plantada: 16694.47 hectares\n"
     ]
    }
   ],
   "source": [
    "#Como está a variação da área plantada para a cultura de soja ao longo dos anos?\n",
    "soja = df[df[\"Cultura\"] == \"Soja\"]\n",
    "\n",
    "areaAnoSoja = soja.groupby(\"Ano\")[\"Área_plantada_ha\"].sum()\n",
    "variacaoAno = areaAnoSoja.diff()\n",
    "desvio = variacaoAno.std()\n",
    "\n",
    "print(f\"Área plantada por ano: \\n{areaAnoSoja.to_string()}\\n\")\n",
    "print(f\"Variação ano a ano: \\n{variacaoAno.to_string()}\\n\")\n",
    "print(f\"Desvio padrão da área plantada: {desvio:.2f} hectares\")"
   ]
  },
  {
   "cell_type": "code",
   "execution_count": 61,
   "id": "e6f289ac-2134-4f7e-ab13-c0e70337f89f",
   "metadata": {},
   "outputs": [
    {
     "name": "stdout",
     "output_type": "stream",
     "text": [
      "           Cultura   Ano  Produtividade_t/ha  Variacao\n",
      "3          Algodão  2022            3.303333 -0.240000\n",
      "4          Algodão  2023            2.738333 -0.565000\n",
      "6   Cana-de-Açúcar  2020            2.945000 -1.185000\n",
      "8   Cana-de-Açúcar  2022            3.035000 -1.175000\n",
      "12           Milho  2021            3.044000 -0.046000\n",
      "13           Milho  2022            2.385000 -0.659000\n",
      "15            Soja  2020            2.530000 -0.850000\n",
      "18            Soja  2023            2.915000 -0.215000\n",
      "20           Trigo  2020            2.625000 -0.507857\n",
      "22           Trigo  2022            3.062000 -0.128000\n",
      "23           Trigo  2023            2.376000 -0.686000\n"
     ]
    }
   ],
   "source": [
    "#Existe alguma cultura que teve queda na produtividade ao longo dos anos?\n",
    "prodAno = df.groupby(['Cultura', 'Ano'])['Produtividade_t/ha'].mean().reset_index()\n",
    "prodAno[\"Variacao\"] = prodAno.groupby('Cultura')['Produtividade_t/ha'].diff()\n",
    "print(prodAno[prodAno['Variacao'] < 0])"
   ]
  },
  {
   "cell_type": "code",
   "execution_count": 60,
   "id": "ab1a052c-e76c-4491-a0cc-db34655841b1",
   "metadata": {},
   "outputs": [
    {
     "data": {
      "image/png": "[encoded data removed]",
      "text/plain": [
       "<Figure size 640x480 with 1 Axes>"
      ]
     },
     "metadata": {},
     "output_type": "display_data"
    }
   ],
   "source": [
    "#Crie um gráfico de linha mostrando a produção total anual de milho.\n",
    "milho = df[df['Cultura'] == 'Milho']\n",
    "prodAno = milho.groupby('Ano')['Produção_total_t'].sum().reset_index()\n",
    "plt.plot(prodAno['Ano'], prodAno['Produção_total_t'])\n",
    "plt.title('Produção Total Anual de Milho')\n",
    "plt.grid(True)\n",
    "plt.show()"
   ]
  },
  {
   "cell_type": "code",
   "execution_count": null,
   "id": "61364908-e599-41c3-9eb5-1e3d6c312c5a",
   "metadata": {},
   "outputs": [],
   "source": []
  }
 ],
 "metadata": {
  "kernelspec": {
   "display_name": "Python 3 (ipykernel)",
   "language": "python",
   "name": "python3"
  },
  "language_info": {
   "codemirror_mode": {
    "name": "ipython",
    "version": 3
   },
   "file_extension": ".py",
   "mimetype": "text/x-python",
   "name": "python",
   "nbconvert_exporter": "python",
   "pygments_lexer": "ipython3",
   "version": "3.12.7"
  }
 },
 "nbformat": 4,
 "nbformat_minor": 5
}
