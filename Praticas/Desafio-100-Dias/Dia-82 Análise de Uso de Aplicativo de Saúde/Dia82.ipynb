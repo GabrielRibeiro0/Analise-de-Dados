{
 "cells": [
  {
   "cell_type": "markdown",
   "id": "dd10ba07-c8e7-4e3f-a282-ea49c6339fd1",
   "metadata": {},
   "source": [
    "🎯 Desafio dia 82 — Análise de Uso de Aplicativo de Saúde\n",
    "\n",
    "📂 Dataset: desafio_dia_82_app_saude.csv\n",
    "\n",
    "🔍 Contexto: Você foi contratado por uma empresa de tecnologia para analisar o comportamento dos usuários de um aplicativo de saúde e bem-estar. O app permite monitorar treinos, hábitos e progresso semanal dos usuários.\n",
    "\n",
    "🛠️ Tarefas do desafio\n",
    "\n",
    "🧹 Tratamento de dados\n",
    "- Preencha os valores ausentes em tempo_uso_min_semana com a mediana da coluna.\n",
    "\n",
    "- Preencha os valores ausentes em avaliacao_app com a moda.\n",
    "\n",
    "📊 Análise geral\n",
    "- Qual objetivo é o mais comum entre os usuários?\n",
    "\n",
    "- Qual é o tempo médio de uso semanal por faixa etária?\n",
    "\n",
    "📈 Visualização de dados\n",
    "- Crie um gráfico de barras mostrando o tempo médio de uso (tempo_uso_min_semana) por frequência de uso (frequencia_uso).\n",
    "\n",
    "🤖 Machine Learning - Regressão\n",
    "- Crie um modelo de regressão para prever a avaliacao_app com base em:\n",
    "\n",
    "faixa_etaria, objetivo, frequencia_uso, tempo_uso_min_semana\n",
    "\n",
    "Use:\n",
    "\n",
    "train_test_split\n",
    "\n",
    "get_dummies\n",
    "\n",
    "RandomForestRegressor\n",
    "\n",
    "Avalie com mean_squared_error.\n",
    "\n"
   ]
  },
  {
   "cell_type": "code",
   "execution_count": 16,
   "id": "469ddd1f-ba7b-4f7e-b07e-49a4115ef61b",
   "metadata": {},
   "outputs": [],
   "source": [
    "import pandas as pd\n",
    "import matplotlib.pyplot as plt\n",
    "import seaborn as sns\n",
    "from sklearn.model_selection import train_test_split\n",
    "from sklearn.ensemble import RandomForestRegressor\n",
    "from sklearn.metrics import mean_squared_error"
   ]
  },
  {
   "cell_type": "code",
   "execution_count": 3,
   "id": "012424cd-c0d8-482d-80a2-3a32b6ff7251",
   "metadata": {},
   "outputs": [
    {
     "data": {
      "text/html": [
       "<div>\n",
       "<style scoped>\n",
       "    .dataframe tbody tr th:only-of-type {\n",
       "        vertical-align: middle;\n",
       "    }\n",
       "\n",
       "    .dataframe tbody tr th {\n",
       "        vertical-align: top;\n",
       "    }\n",
       "\n",
       "    .dataframe thead th {\n",
       "        text-align: right;\n",
       "    }\n",
       "</style>\n",
       "<table border=\"1\" class=\"dataframe\">\n",
       "  <thead>\n",
       "    <tr style=\"text-align: right;\">\n",
       "      <th></th>\n",
       "      <th>id_usuario</th>\n",
       "      <th>faixa_etaria</th>\n",
       "      <th>objetivo</th>\n",
       "      <th>frequencia_uso</th>\n",
       "      <th>tempo_uso_min_semana</th>\n",
       "      <th>avaliacao_app</th>\n",
       "    </tr>\n",
       "  </thead>\n",
       "  <tbody>\n",
       "    <tr>\n",
       "      <th>0</th>\n",
       "      <td>2132</td>\n",
       "      <td>26-35</td>\n",
       "      <td>Saúde geral</td>\n",
       "      <td>1-2x/semana</td>\n",
       "      <td>110.7</td>\n",
       "      <td>3.0</td>\n",
       "    </tr>\n",
       "    <tr>\n",
       "      <th>1</th>\n",
       "      <td>2451</td>\n",
       "      <td>18-25</td>\n",
       "      <td>Manutenção</td>\n",
       "      <td>Diária</td>\n",
       "      <td>137.2</td>\n",
       "      <td>4.0</td>\n",
       "    </tr>\n",
       "    <tr>\n",
       "      <th>2</th>\n",
       "      <td>2132</td>\n",
       "      <td>26-35</td>\n",
       "      <td>Perda de peso</td>\n",
       "      <td>Diária</td>\n",
       "      <td>164.6</td>\n",
       "      <td>1.0</td>\n",
       "    </tr>\n",
       "    <tr>\n",
       "      <th>3</th>\n",
       "      <td>2412</td>\n",
       "      <td>26-35</td>\n",
       "      <td>Saúde geral</td>\n",
       "      <td>1-2x/semana</td>\n",
       "      <td>145.6</td>\n",
       "      <td>3.0</td>\n",
       "    </tr>\n",
       "    <tr>\n",
       "      <th>4</th>\n",
       "      <td>2974</td>\n",
       "      <td>18-25</td>\n",
       "      <td>Saúde geral</td>\n",
       "      <td>1-2x/semana</td>\n",
       "      <td>213.3</td>\n",
       "      <td>5.0</td>\n",
       "    </tr>\n",
       "  </tbody>\n",
       "</table>\n",
       "</div>"
      ],
      "text/plain": [
       "   id_usuario faixa_etaria       objetivo frequencia_uso  \\\n",
       "0        2132        26-35    Saúde geral    1-2x/semana   \n",
       "1        2451        18-25     Manutenção         Diária   \n",
       "2        2132        26-35  Perda de peso         Diária   \n",
       "3        2412        26-35    Saúde geral    1-2x/semana   \n",
       "4        2974        18-25    Saúde geral    1-2x/semana   \n",
       "\n",
       "   tempo_uso_min_semana  avaliacao_app  \n",
       "0                 110.7            3.0  \n",
       "1                 137.2            4.0  \n",
       "2                 164.6            1.0  \n",
       "3                 145.6            3.0  \n",
       "4                 213.3            5.0  "
      ]
     },
     "execution_count": 3,
     "metadata": {},
     "output_type": "execute_result"
    }
   ],
   "source": [
    "df = pd.read_csv(\"desafio_dia_82_app_saude.csv\")\n",
    "df.head()"
   ]
  },
  {
   "cell_type": "code",
   "execution_count": 4,
   "id": "c3c39c4a-2658-4ae4-8695-4d89c9e76710",
   "metadata": {},
   "outputs": [
    {
     "data": {
      "text/plain": [
       "0"
      ]
     },
     "execution_count": 4,
     "metadata": {},
     "output_type": "execute_result"
    }
   ],
   "source": [
    "#Preencha os valores ausentes em tempo_uso_min_semana com a mediana da coluna.\n",
    "df[\"tempo_uso_min_semana\"] = df[\"tempo_uso_min_semana\"].fillna(df[\"tempo_uso_min_semana\"].median())\n",
    "df[\"tempo_uso_min_semana\"].isna().sum()"
   ]
  },
  {
   "cell_type": "code",
   "execution_count": 5,
   "id": "4b7e99aa-474b-43ea-b445-01a34ee5983a",
   "metadata": {},
   "outputs": [
    {
     "data": {
      "text/plain": [
       "0"
      ]
     },
     "execution_count": 5,
     "metadata": {},
     "output_type": "execute_result"
    }
   ],
   "source": [
    "#Preencha os valores ausentes em avaliacao_app com a moda.\n",
    "df[\"avaliacao_app\"] = df[\"avaliacao_app\"].fillna(df[\"avaliacao_app\"].mode()[0])\n",
    "df[\"avaliacao_app\"].isna().sum()"
   ]
  },
  {
   "cell_type": "code",
   "execution_count": 8,
   "id": "e73feedb-6718-4b96-8e81-c1b15d0b6db5",
   "metadata": {},
   "outputs": [
    {
     "name": "stdout",
     "output_type": "stream",
     "text": [
      "objetivo\n",
      "Ganho de massa    143\n",
      "Perda de peso     126\n",
      "Saúde geral       117\n",
      "Manutenção        114\n",
      "Name: count, dtype: int64\n"
     ]
    }
   ],
   "source": [
    "#Qual objetivo é o mais comum entre os usuários?\n",
    "objetivo_comum = df[\"objetivo\"].value_counts()\n",
    "print(objetivo_comum)"
   ]
  },
  {
   "cell_type": "code",
   "execution_count": 12,
   "id": "a5c5ed0b-58c5-4522-bd46-3907a3faf3e0",
   "metadata": {},
   "outputs": [
    {
     "name": "stdout",
     "output_type": "stream",
     "text": [
      "faixa_etaria\n",
      "26-35    123.81\n",
      "46-60    122.55\n",
      "18-25    118.83\n",
      "36-45    117.88\n",
      "60+      113.05\n",
      "Name: tempo_uso_min_semana, dtype: float64\n"
     ]
    }
   ],
   "source": [
    "#Qual é o tempo médio de uso semanal por faixa etária?\n",
    "tempo_medio_por_faixa_etaria = df.groupby(\"faixa_etaria\")[\"tempo_uso_min_semana\"].mean().sort_values(ascending=False)\n",
    "print(tempo_medio_por_faixa_etaria.round(2))"
   ]
  },
  {
   "cell_type": "code",
   "execution_count": 14,
   "id": "7f3fbf66-5e75-435e-b5d8-d6d891dd8c36",
   "metadata": {},
   "outputs": [
    {
     "data": {
      "text/plain": [
       "Text(0, 0.5, 'Tempo Médio (min/semana)')"
      ]
     },
     "execution_count": 14,
     "metadata": {},
     "output_type": "execute_result"
    },
    {
     "data": {
      "image/png": "[encoded data removed]",
      "text/plain": [
       "<Figure size 640x480 with 1 Axes>"
      ]
     },
     "metadata": {},
     "output_type": "display_data"
    }
   ],
   "source": [
    "#Crie um gráfico de barras mostrando o tempo médio de uso (tempo_uso_min_semana) por frequência de uso (frequencia_uso).\n",
    "sns.barplot(df, x=\"tempo_uso_min_semana\", y=\"frequencia_uso\")\n",
    "plt.title(\"Tempo Médio de Uso por Frequência de Uso\")\n",
    "plt.xlabel(\"Frequência de Uso\")\n",
    "plt.ylabel(\"Tempo Médio (min/semana)\")"
   ]
  },
  {
   "cell_type": "code",
   "execution_count": 17,
   "id": "ccf47db4-bc3a-4d42-952e-5952c5082610",
   "metadata": {},
   "outputs": [
    {
     "name": "stdout",
     "output_type": "stream",
     "text": [
      "1.2305313333333334\n"
     ]
    }
   ],
   "source": [
    "#Crie um modelo de regressão para prever a avaliacao_app com base em:\n",
    "X = df[[\"faixa_etaria\", \"objetivo\", \"frequencia_uso\", \"tempo_uso_min_semana\"]]\n",
    "y = df[\"avaliacao_app\"]\n",
    "\n",
    "X = pd.get_dummies(X)\n",
    "\n",
    "X_train, X_test, y_train, y_test = train_test_split(X, y, test_size=0.3, random_state=42)\n",
    "\n",
    "modelo = RandomForestRegressor(random_state=42)\n",
    "modelo.fit(X_train, y_train)\n",
    "\n",
    "y_pred = modelo.predict(X_test)\n",
    "print(mean_squared_error(y_test, y_pred))"
   ]
  }
 ],
 "metadata": {
  "kernelspec": {
   "display_name": "Python 3 (ipykernel)",
   "language": "python",
   "name": "python3"
  },
  "language_info": {
   "codemirror_mode": {
    "name": "ipython",
    "version": 3
   },
   "file_extension": ".py",
   "mimetype": "text/x-python",
   "name": "python",
   "nbconvert_exporter": "python",
   "pygments_lexer": "ipython3",
   "version": "3.12.7"
  }
 },
 "nbformat": 4,
 "nbformat_minor": 5
}
