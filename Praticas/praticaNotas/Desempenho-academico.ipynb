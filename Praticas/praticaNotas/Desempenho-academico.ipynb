{
 "cells": [
  {
   "cell_type": "code",
   "execution_count": null,
   "id": "a198244f-682a-4eef-b1b3-531c521936ca",
   "metadata": {},
   "outputs": [],
   "source": [
    "2. Previsão de Desempenho Acadêmico\n",
    "📂 Dataset: Notas de alunos com dados de presença e participação.\n",
    "🎯 Desafios:\n",
    "\n",
    "Existe correlação entre presença e notas finais?\n",
    "\n",
    "Qual a média de notas por disciplina?\n",
    "\n",
    "Quantos alunos estão em risco de reprovação (nota < 5)?"
   ]
  },
  {
   "cell_type": "code",
   "execution_count": 2,
   "id": "b461b269-2027-4a39-a914-0003487afb8c",
   "metadata": {},
   "outputs": [],
   "source": [
    "import pandas as pd"
   ]
  },
  {
   "cell_type": "code",
   "execution_count": 5,
   "id": "fd6540f5-7b6c-4dcb-bef7-35397d957eb9",
   "metadata": {},
   "outputs": [
    {
     "data": {
      "text/html": [
       "<div>\n",
       "<style scoped>\n",
       "    .dataframe tbody tr th:only-of-type {\n",
       "        vertical-align: middle;\n",
       "    }\n",
       "\n",
       "    .dataframe tbody tr th {\n",
       "        vertical-align: top;\n",
       "    }\n",
       "\n",
       "    .dataframe thead th {\n",
       "        text-align: right;\n",
       "    }\n",
       "</style>\n",
       "<table border=\"1\" class=\"dataframe\">\n",
       "  <thead>\n",
       "    <tr style=\"text-align: right;\">\n",
       "      <th></th>\n",
       "      <th>ID_Aluno</th>\n",
       "      <th>Horas_Estudo</th>\n",
       "      <th>Frequencia_Aulas</th>\n",
       "      <th>Nota_Prova1</th>\n",
       "      <th>Nota_Prova2</th>\n",
       "      <th>Aprovado</th>\n",
       "    </tr>\n",
       "  </thead>\n",
       "  <tbody>\n",
       "    <tr>\n",
       "      <th>0</th>\n",
       "      <td>1</td>\n",
       "      <td>10</td>\n",
       "      <td>90</td>\n",
       "      <td>7.5</td>\n",
       "      <td>8.0</td>\n",
       "      <td>Sim</td>\n",
       "    </tr>\n",
       "    <tr>\n",
       "      <th>1</th>\n",
       "      <td>2</td>\n",
       "      <td>15</td>\n",
       "      <td>85</td>\n",
       "      <td>8.2</td>\n",
       "      <td>8.5</td>\n",
       "      <td>Sim</td>\n",
       "    </tr>\n",
       "    <tr>\n",
       "      <th>2</th>\n",
       "      <td>3</td>\n",
       "      <td>8</td>\n",
       "      <td>70</td>\n",
       "      <td>6.5</td>\n",
       "      <td>6.8</td>\n",
       "      <td>Não</td>\n",
       "    </tr>\n",
       "    <tr>\n",
       "      <th>3</th>\n",
       "      <td>4</td>\n",
       "      <td>20</td>\n",
       "      <td>95</td>\n",
       "      <td>9.0</td>\n",
       "      <td>9.2</td>\n",
       "      <td>Sim</td>\n",
       "    </tr>\n",
       "    <tr>\n",
       "      <th>4</th>\n",
       "      <td>5</td>\n",
       "      <td>5</td>\n",
       "      <td>60</td>\n",
       "      <td>5.0</td>\n",
       "      <td>5.3</td>\n",
       "      <td>Não</td>\n",
       "    </tr>\n",
       "  </tbody>\n",
       "</table>\n",
       "</div>"
      ],
      "text/plain": [
       "   ID_Aluno  Horas_Estudo  Frequencia_Aulas  Nota_Prova1  Nota_Prova2 Aprovado\n",
       "0         1            10                90          7.5          8.0      Sim\n",
       "1         2            15                85          8.2          8.5      Sim\n",
       "2         3             8                70          6.5          6.8      Não\n",
       "3         4            20                95          9.0          9.2      Sim\n",
       "4         5             5                60          5.0          5.3      Não"
      ]
     },
     "execution_count": 5,
     "metadata": {},
     "output_type": "execute_result"
    }
   ],
   "source": [
    "#testando a tabela\n",
    "df = pd.read_csv(\"desempenho_academico.csv\")\n",
    "df.head()"
   ]
  },
  {
   "cell_type": "code",
   "execution_count": 39,
   "id": "d7a55e42-ed7b-4d2f-9bbe-ef59bd022ad1",
   "metadata": {},
   "outputs": [
    {
     "name": "stdout",
     "output_type": "stream",
     "text": [
      "Media de notas: \n",
      "     ID_Aluno  Nota_Prova1  Nota_Prova2  Media\n",
      "0          1          7.5          8.0   7.75\n",
      "1          2          8.2          8.5   8.35\n",
      "2          3          6.5          6.8   6.65\n",
      "3          4          9.0          9.2   9.10\n",
      "4          5          5.0          5.3   5.15\n",
      "5          6          7.8          8.0   7.90\n",
      "6          7          8.5          8.7   8.60\n",
      "7          8          6.8          7.0   6.90\n",
      "8          9          9.5          9.7   9.60\n",
      "9         10          5.5          5.8   5.65\n",
      "10        11          8.0          8.2   8.10\n",
      "11        12          7.2          7.5   7.35\n",
      "12        13          8.3          8.6   8.45\n",
      "13        14          4.5          4.8   4.65\n",
      "14        15          7.6          7.9   7.75\n",
      "15        16          9.2          9.5   9.35\n",
      "16        17          4.0          4.3   4.15\n",
      "17        18          8.1          8.4   8.25\n",
      "18        19          8.7          8.9   8.80\n",
      "19        20          9.3          9.6   9.45\n"
     ]
    }
   ],
   "source": [
    "#Qual a média de notas por disciplina?\n",
    "df[\"Media\"] = df[[\"Nota_Prova1\", \"Nota_Prova2\"]].mean(axis=1)\n",
    "print(\"Media de notas:\", \"\\n\", df[[\"ID_Aluno\", \"Nota_Prova1\", \"Nota_Prova2\", \"Media\"]])"
   ]
  },
  {
   "cell_type": "code",
   "execution_count": 55,
   "id": "e0459238-f8d1-468d-bf4f-ee58fa4848bc",
   "metadata": {},
   "outputs": [
    {
     "name": "stdout",
     "output_type": "stream",
     "text": [
      "Quantidade de alunos em risco de reprovação: 2\n"
     ]
    }
   ],
   "source": [
    "#Quantos alunos estão em risco de reprovação (nota < 5)?\n",
    "risco = df[df[\"Media\"] <5].shape[0]\n",
    "print(f\"Quantidade de alunos em risco de reprovação: {risco}\")"
   ]
  },
  {
   "cell_type": "code",
   "execution_count": 56,
   "id": "bb6daa4b-83d1-461f-9318-e19a282b8a33",
   "metadata": {},
   "outputs": [
    {
     "name": "stdout",
     "output_type": "stream",
     "text": [
      "0.9838664534732455\n"
     ]
    }
   ],
   "source": [
    "#Existe correlação entre presença e notas finais?\n",
    "correlacao = df[\"Frequencia_Aulas\"].corr(df[\"Media\"])\n",
    "print(correlacao)"
   ]
  },
  {
   "cell_type": "code",
   "execution_count": null,
   "id": "84716527-0d9d-4314-93d6-9a9c5b34991c",
   "metadata": {},
   "outputs": [],
   "source": [
    "- Correlação positiva (+1): Quando uma variável aumenta, a outra também tende a aumentar.\n",
    "- Correlação negativa (-1): Quando uma variável aumenta, a outra tende a diminuir.\n",
    "- Correlação próxima de 0: As variáveis não possuem relação linear.\n",
    "\n",
    "O valor 0.98 indica uma forte correlação positiva entre a presença e as notas finais."
   ]
  }
 ],
 "metadata": {
  "kernelspec": {
   "display_name": "Python 3 (ipykernel)",
   "language": "python",
   "name": "python3"
  },
  "language_info": {
   "codemirror_mode": {
    "name": "ipython",
    "version": 3
   },
   "file_extension": ".py",
   "mimetype": "text/x-python",
   "name": "python",
   "nbconvert_exporter": "python",
   "pygments_lexer": "ipython3",
   "version": "3.12.6"
  }
 },
 "nbformat": 4,
 "nbformat_minor": 5
}
