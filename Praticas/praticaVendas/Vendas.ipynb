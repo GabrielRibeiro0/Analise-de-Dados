{
 "cells": [
  {
   "cell_type": "code",
   "execution_count": null,
   "id": "1ff9aeb5-5266-4344-b6b1-34bb05c1fc59",
   "metadata": {},
   "outputs": [],
   "source": [
    "1. Analisando Vendas de uma Loja\n",
    "📂 Dataset: Arquivo CSV com dados de vendas (produto, categoria, valor, data, vendedor).\n",
    "🎯 Desafios:\n",
    "\n",
    "Qual o faturamento total da loja?\n",
    "\n",
    "Qual vendedor teve o maior número de vendas?\n",
    "\n",
    "Qual categoria de produto mais vendeu?"
   ]
  },
  {
   "cell_type": "code",
   "execution_count": 1,
   "id": "98e88799-07ff-4901-889e-e75d8e17bc9c",
   "metadata": {},
   "outputs": [],
   "source": [
    "import pandas as pd"
   ]
  },
  {
   "cell_type": "code",
   "execution_count": 2,
   "id": "5af3cd38-99cd-43b4-81ba-9e3262b16041",
   "metadata": {},
   "outputs": [
    {
     "data": {
      "text/html": [
       "<div>\n",
       "<style scoped>\n",
       "    .dataframe tbody tr th:only-of-type {\n",
       "        vertical-align: middle;\n",
       "    }\n",
       "\n",
       "    .dataframe tbody tr th {\n",
       "        vertical-align: top;\n",
       "    }\n",
       "\n",
       "    .dataframe thead th {\n",
       "        text-align: right;\n",
       "    }\n",
       "</style>\n",
       "<table border=\"1\" class=\"dataframe\">\n",
       "  <thead>\n",
       "    <tr style=\"text-align: right;\">\n",
       "      <th></th>\n",
       "      <th>id_venda</th>\n",
       "      <th>data</th>\n",
       "      <th>produto</th>\n",
       "      <th>categoria</th>\n",
       "      <th>valor</th>\n",
       "      <th>vendedor</th>\n",
       "    </tr>\n",
       "  </thead>\n",
       "  <tbody>\n",
       "    <tr>\n",
       "      <th>0</th>\n",
       "      <td>1</td>\n",
       "      <td>2024-03-01</td>\n",
       "      <td>Notebook</td>\n",
       "      <td>Eletrônicos</td>\n",
       "      <td>4500</td>\n",
       "      <td>Carlos</td>\n",
       "    </tr>\n",
       "    <tr>\n",
       "      <th>1</th>\n",
       "      <td>2</td>\n",
       "      <td>2024-03-02</td>\n",
       "      <td>Smartphone</td>\n",
       "      <td>Eletrônicos</td>\n",
       "      <td>2500</td>\n",
       "      <td>Ana</td>\n",
       "    </tr>\n",
       "    <tr>\n",
       "      <th>2</th>\n",
       "      <td>3</td>\n",
       "      <td>2024-03-03</td>\n",
       "      <td>Tablet</td>\n",
       "      <td>Eletrônicos</td>\n",
       "      <td>1200</td>\n",
       "      <td>João</td>\n",
       "    </tr>\n",
       "    <tr>\n",
       "      <th>3</th>\n",
       "      <td>4</td>\n",
       "      <td>2024-03-04</td>\n",
       "      <td>Headset</td>\n",
       "      <td>Acessórios</td>\n",
       "      <td>350</td>\n",
       "      <td>Mariana</td>\n",
       "    </tr>\n",
       "    <tr>\n",
       "      <th>4</th>\n",
       "      <td>5</td>\n",
       "      <td>2024-03-05</td>\n",
       "      <td>Monitor</td>\n",
       "      <td>Eletrônicos</td>\n",
       "      <td>1500</td>\n",
       "      <td>Pedro</td>\n",
       "    </tr>\n",
       "  </tbody>\n",
       "</table>\n",
       "</div>"
      ],
      "text/plain": [
       "   id_venda        data     produto    categoria  valor vendedor\n",
       "0         1  2024-03-01    Notebook  Eletrônicos   4500   Carlos\n",
       "1         2  2024-03-02  Smartphone  Eletrônicos   2500      Ana\n",
       "2         3  2024-03-03      Tablet  Eletrônicos   1200     João\n",
       "3         4  2024-03-04     Headset   Acessórios    350  Mariana\n",
       "4         5  2024-03-05     Monitor  Eletrônicos   1500    Pedro"
      ]
     },
     "execution_count": 2,
     "metadata": {},
     "output_type": "execute_result"
    }
   ],
   "source": [
    "#testando a tabela\n",
    "df = pd.read_csv(\"vendas.csv\")\n",
    "df.head()"
   ]
  },
  {
   "cell_type": "code",
   "execution_count": 58,
   "id": "90263f43-76eb-4773-8634-9064ee566a45",
   "metadata": {},
   "outputs": [
    {
     "name": "stdout",
     "output_type": "stream",
     "text": [
      "Faturamento total da loja: R$25430\n"
     ]
    }
   ],
   "source": [
    "#faturamento total da loja\n",
    "faturamento = (df[\"valor\"].sum())\n",
    "print(f\"Faturamento total da loja: R${faturamento}\")"
   ]
  },
  {
   "cell_type": "code",
   "execution_count": 50,
   "id": "60730484-a0ed-4c12-a57b-f0d578aac895",
   "metadata": {},
   "outputs": [
    {
     "name": "stdout",
     "output_type": "stream",
     "text": [
      "O maior vendedor foi: \n",
      "vendedor\n",
      "Carlos    9300\n",
      "Name: valor, dtype: int64\n"
     ]
    }
   ],
   "source": [
    "#Qual vendedor teve o maior número de vendas?\n",
    "maiorVendedor = df.groupby(\"vendedor\")[\"valor\"].sum().sort_values(ascending=False)\n",
    "print(f\"O maior vendedor foi: \\n{maiorVendedor.head(1)}\")"
   ]
  },
  {
   "cell_type": "code",
   "execution_count": 56,
   "id": "ea7fc85c-9693-428f-be6d-891885acf2c7",
   "metadata": {},
   "outputs": [
    {
     "name": "stdout",
     "output_type": "stream",
     "text": [
      "categoria de produto mais vendeu: \n",
      "categoria\n",
      "Eletrônicos    19900\n",
      "Name: valor, dtype: int64\n"
     ]
    }
   ],
   "source": [
    "#Qual categoria de produto mais vendeu?\n",
    "produtoMaisVendido = df.groupby(\"categoria\")[\"valor\"].sum().sort_values(ascending=False)\n",
    "print(f\"categoria de produto mais vendeu: \\n{produtoMaisVendido.head(1)}\")"
   ]
  }
 ],
 "metadata": {
  "kernelspec": {
   "display_name": "Python 3 (ipykernel)",
   "language": "python",
   "name": "python3"
  },
  "language_info": {
   "codemirror_mode": {
    "name": "ipython",
    "version": 3
   },
   "file_extension": ".py",
   "mimetype": "text/x-python",
   "name": "python",
   "nbconvert_exporter": "python",
   "pygments_lexer": "ipython3",
   "version": "3.12.7"
  }
 },
 "nbformat": 4,
 "nbformat_minor": 5
}
