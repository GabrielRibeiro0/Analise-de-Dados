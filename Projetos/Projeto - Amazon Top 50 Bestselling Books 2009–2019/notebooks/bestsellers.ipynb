{
 "cells": [
  {
   "cell_type": "markdown",
   "id": "f8d129af-0595-43fc-87ff-2c777d0d1d60",
   "metadata": {},
   "source": [
    "# Importando Libraries e Dataset"
   ]
  },
  {
   "cell_type": "code",
   "execution_count": 2,
   "id": "c1e88b64-6d7c-4b80-9695-4e4a74c82c45",
   "metadata": {},
   "outputs": [
    {
     "data": {
      "text/html": [
       "<div>\n",
       "<style scoped>\n",
       "    .dataframe tbody tr th:only-of-type {\n",
       "        vertical-align: middle;\n",
       "    }\n",
       "\n",
       "    .dataframe tbody tr th {\n",
       "        vertical-align: top;\n",
       "    }\n",
       "\n",
       "    .dataframe thead th {\n",
       "        text-align: right;\n",
       "    }\n",
       "</style>\n",
       "<table border=\"1\" class=\"dataframe\">\n",
       "  <thead>\n",
       "    <tr style=\"text-align: right;\">\n",
       "      <th></th>\n",
       "      <th>Name</th>\n",
       "      <th>Author</th>\n",
       "      <th>User Rating</th>\n",
       "      <th>Reviews</th>\n",
       "      <th>Price</th>\n",
       "      <th>Year</th>\n",
       "      <th>Genre</th>\n",
       "    </tr>\n",
       "  </thead>\n",
       "  <tbody>\n",
       "    <tr>\n",
       "      <th>0</th>\n",
       "      <td>10-Day Green Smoothie Cleanse</td>\n",
       "      <td>JJ Smith</td>\n",
       "      <td>4.7</td>\n",
       "      <td>17350</td>\n",
       "      <td>8</td>\n",
       "      <td>2016</td>\n",
       "      <td>Non Fiction</td>\n",
       "    </tr>\n",
       "    <tr>\n",
       "      <th>1</th>\n",
       "      <td>11/22/63: A Novel</td>\n",
       "      <td>Stephen King</td>\n",
       "      <td>4.6</td>\n",
       "      <td>2052</td>\n",
       "      <td>22</td>\n",
       "      <td>2011</td>\n",
       "      <td>Fiction</td>\n",
       "    </tr>\n",
       "    <tr>\n",
       "      <th>2</th>\n",
       "      <td>12 Rules for Life: An Antidote to Chaos</td>\n",
       "      <td>Jordan B. Peterson</td>\n",
       "      <td>4.7</td>\n",
       "      <td>18979</td>\n",
       "      <td>15</td>\n",
       "      <td>2018</td>\n",
       "      <td>Non Fiction</td>\n",
       "    </tr>\n",
       "    <tr>\n",
       "      <th>3</th>\n",
       "      <td>1984 (Signet Classics)</td>\n",
       "      <td>George Orwell</td>\n",
       "      <td>4.7</td>\n",
       "      <td>21424</td>\n",
       "      <td>6</td>\n",
       "      <td>2017</td>\n",
       "      <td>Fiction</td>\n",
       "    </tr>\n",
       "    <tr>\n",
       "      <th>4</th>\n",
       "      <td>5,000 Awesome Facts (About Everything!) (Natio...</td>\n",
       "      <td>National Geographic Kids</td>\n",
       "      <td>4.8</td>\n",
       "      <td>7665</td>\n",
       "      <td>12</td>\n",
       "      <td>2019</td>\n",
       "      <td>Non Fiction</td>\n",
       "    </tr>\n",
       "  </tbody>\n",
       "</table>\n",
       "</div>"
      ],
      "text/plain": [
       "                                                Name  \\\n",
       "0                      10-Day Green Smoothie Cleanse   \n",
       "1                                  11/22/63: A Novel   \n",
       "2            12 Rules for Life: An Antidote to Chaos   \n",
       "3                             1984 (Signet Classics)   \n",
       "4  5,000 Awesome Facts (About Everything!) (Natio...   \n",
       "\n",
       "                     Author  User Rating  Reviews  Price  Year        Genre  \n",
       "0                  JJ Smith          4.7    17350      8  2016  Non Fiction  \n",
       "1              Stephen King          4.6     2052     22  2011      Fiction  \n",
       "2        Jordan B. Peterson          4.7    18979     15  2018  Non Fiction  \n",
       "3             George Orwell          4.7    21424      6  2017      Fiction  \n",
       "4  National Geographic Kids          4.8     7665     12  2019  Non Fiction  "
      ]
     },
     "execution_count": 2,
     "metadata": {},
     "output_type": "execute_result"
    }
   ],
   "source": [
    "# Importando Libraries\n",
    "import pandas as pd\n",
    "import seaborn as sns\n",
    "import matplotlib.pyplot as plt\n",
    "\n",
    "# Lendo Dataset\n",
    "bestsellers = pd.read_csv(\"../data/bestsellers with categories.csv\")\n",
    "bestsellers.head()"
   ]
  },
  {
   "cell_type": "markdown",
   "id": "1d179727-1c1d-4381-a657-f232dd03447e",
   "metadata": {},
   "source": [
    "- **Name:** O título do livro.\n",
    "- **Author:** O nome do autor ou autora do livro.\n",
    "- **User Rating:** A média das avaliações dos usuários, geralmente em uma escala de 1 a 5, representando a satisfação geral dos leitores com o livro.\n",
    "- **Reviews:** O número total de resenhas que o livro recebeu de usuários.\n",
    "- **Price:** O preço do livro.\n",
    "- **Year:** O ano de lançamento ou publicação do livro.\n",
    "- **Genre:** O gênero literário ao qual o livro pertence. \"Non Fiction\" indica que o livro é de não-ficção, ou \"Fiction\" indica que é um romance ou obra de ficção."
   ]
  },
  {
   "cell_type": "markdown",
   "id": "3c4a123c-9125-4abf-a3ef-a93794de8547",
   "metadata": {},
   "source": [
    "# Descrição e estrutura dos dados"
   ]
  },
  {
   "cell_type": "markdown",
   "id": "f43afabc-e64d-4a58-9f03-ecf4300439ec",
   "metadata": {},
   "source": [
    "#### A. Estrutura de colunas do Dataframe"
   ]
  },
  {
   "cell_type": "code",
   "execution_count": 3,
   "id": "f60ec607-90ac-46cd-b46b-07d0b9dd2132",
   "metadata": {},
   "outputs": [
    {
     "name": "stdout",
     "output_type": "stream",
     "text": [
      "<class 'pandas.core.frame.DataFrame'>\n",
      "RangeIndex: 550 entries, 0 to 549\n",
      "Data columns (total 7 columns):\n",
      " #   Column       Non-Null Count  Dtype  \n",
      "---  ------       --------------  -----  \n",
      " 0   Name         550 non-null    object \n",
      " 1   Author       550 non-null    object \n",
      " 2   User Rating  550 non-null    float64\n",
      " 3   Reviews      550 non-null    int64  \n",
      " 4   Price        550 non-null    int64  \n",
      " 5   Year         550 non-null    int64  \n",
      " 6   Genre        550 non-null    object \n",
      "dtypes: float64(1), int64(3), object(3)\n",
      "memory usage: 30.2+ KB\n"
     ]
    }
   ],
   "source": [
    "bestsellers.info()"
   ]
  },
  {
   "cell_type": "markdown",
   "id": "32732028-33cd-4ab0-8129-cda953a435ac",
   "metadata": {},
   "source": [
    "#### B. Descrição estatística do Dataframe em colunas"
   ]
  },
  {
   "cell_type": "code",
   "execution_count": 4,
   "id": "9926b179-7549-4bea-b462-e389176ba752",
   "metadata": {},
   "outputs": [
    {
     "data": {
      "text/html": [
       "<div>\n",
       "<style scoped>\n",
       "    .dataframe tbody tr th:only-of-type {\n",
       "        vertical-align: middle;\n",
       "    }\n",
       "\n",
       "    .dataframe tbody tr th {\n",
       "        vertical-align: top;\n",
       "    }\n",
       "\n",
       "    .dataframe thead th {\n",
       "        text-align: right;\n",
       "    }\n",
       "</style>\n",
       "<table border=\"1\" class=\"dataframe\">\n",
       "  <thead>\n",
       "    <tr style=\"text-align: right;\">\n",
       "      <th></th>\n",
       "      <th>User Rating</th>\n",
       "      <th>Reviews</th>\n",
       "      <th>Price</th>\n",
       "      <th>Year</th>\n",
       "    </tr>\n",
       "  </thead>\n",
       "  <tbody>\n",
       "    <tr>\n",
       "      <th>count</th>\n",
       "      <td>550.000000</td>\n",
       "      <td>550.000000</td>\n",
       "      <td>550.000000</td>\n",
       "      <td>550.000000</td>\n",
       "    </tr>\n",
       "    <tr>\n",
       "      <th>mean</th>\n",
       "      <td>4.618364</td>\n",
       "      <td>11953.281818</td>\n",
       "      <td>13.100000</td>\n",
       "      <td>2014.000000</td>\n",
       "    </tr>\n",
       "    <tr>\n",
       "      <th>std</th>\n",
       "      <td>0.226980</td>\n",
       "      <td>11731.132017</td>\n",
       "      <td>10.842262</td>\n",
       "      <td>3.165156</td>\n",
       "    </tr>\n",
       "    <tr>\n",
       "      <th>min</th>\n",
       "      <td>3.300000</td>\n",
       "      <td>37.000000</td>\n",
       "      <td>0.000000</td>\n",
       "      <td>2009.000000</td>\n",
       "    </tr>\n",
       "    <tr>\n",
       "      <th>25%</th>\n",
       "      <td>4.500000</td>\n",
       "      <td>4058.000000</td>\n",
       "      <td>7.000000</td>\n",
       "      <td>2011.000000</td>\n",
       "    </tr>\n",
       "    <tr>\n",
       "      <th>50%</th>\n",
       "      <td>4.700000</td>\n",
       "      <td>8580.000000</td>\n",
       "      <td>11.000000</td>\n",
       "      <td>2014.000000</td>\n",
       "    </tr>\n",
       "    <tr>\n",
       "      <th>75%</th>\n",
       "      <td>4.800000</td>\n",
       "      <td>17253.250000</td>\n",
       "      <td>16.000000</td>\n",
       "      <td>2017.000000</td>\n",
       "    </tr>\n",
       "    <tr>\n",
       "      <th>max</th>\n",
       "      <td>4.900000</td>\n",
       "      <td>87841.000000</td>\n",
       "      <td>105.000000</td>\n",
       "      <td>2019.000000</td>\n",
       "    </tr>\n",
       "  </tbody>\n",
       "</table>\n",
       "</div>"
      ],
      "text/plain": [
       "       User Rating       Reviews       Price         Year\n",
       "count   550.000000    550.000000  550.000000   550.000000\n",
       "mean      4.618364  11953.281818   13.100000  2014.000000\n",
       "std       0.226980  11731.132017   10.842262     3.165156\n",
       "min       3.300000     37.000000    0.000000  2009.000000\n",
       "25%       4.500000   4058.000000    7.000000  2011.000000\n",
       "50%       4.700000   8580.000000   11.000000  2014.000000\n",
       "75%       4.800000  17253.250000   16.000000  2017.000000\n",
       "max       4.900000  87841.000000  105.000000  2019.000000"
      ]
     },
     "execution_count": 4,
     "metadata": {},
     "output_type": "execute_result"
    }
   ],
   "source": [
    "bestsellers.describe()"
   ]
  },
  {
   "cell_type": "markdown",
   "id": "40ec8643-9f4a-44f7-90be-9ee3a17a788e",
   "metadata": {},
   "source": [
    "#### C. Procurando por valores NaNs(Ausentes)"
   ]
  },
  {
   "cell_type": "code",
   "execution_count": 5,
   "id": "327adf5f-3282-4829-8c9f-5e59a85c1f2a",
   "metadata": {},
   "outputs": [
    {
     "data": {
      "text/plain": [
       "Name           0\n",
       "Author         0\n",
       "User Rating    0\n",
       "Reviews        0\n",
       "Price          0\n",
       "Year           0\n",
       "Genre          0\n",
       "dtype: int64"
      ]
     },
     "execution_count": 5,
     "metadata": {},
     "output_type": "execute_result"
    }
   ],
   "source": [
    "bestsellers.isnull().sum()"
   ]
  },
  {
   "cell_type": "markdown",
   "id": "fc7a5cc3-47c5-445f-8ba1-4fca520f946e",
   "metadata": {},
   "source": [
    "# Pergunta #1: Quais são os autores mais recorrentes?"
   ]
  },
  {
   "cell_type": "markdown",
   "id": "f4c40a37-1080-455e-9809-7aa0fa4d8fe1",
   "metadata": {},
   "source": [
    "#### A. Conta Quantas Vezes Cada Autor Aparece."
   ]
  },
  {
   "cell_type": "code",
   "execution_count": 6,
   "id": "6d9bfc5d-026d-41fa-ae8e-6e4076e1813d",
   "metadata": {},
   "outputs": [
    {
     "name": "stdout",
     "output_type": "stream",
     "text": [
      "Author\n",
      "Jeff Kinney                           12\n",
      "Gary Chapman                          11\n",
      "Rick Riordan                          11\n",
      "Suzanne Collins                       11\n",
      "American Psychological Association    10\n",
      "                                      ..\n",
      "Keith Richards                         1\n",
      "Chris Cleave                           1\n",
      "Alice Schertle                         1\n",
      "Celeste Ng                             1\n",
      "Adam Gasiewski                         1\n",
      "Name: count, Length: 248, dtype: int64\n"
     ]
    }
   ],
   "source": [
    "atoresRecorrentes = bestsellers[\"Author\"].value_counts()\n",
    "print(atoresRecorrentes)"
   ]
  },
  {
   "cell_type": "markdown",
   "id": "8a8caaa8-7932-4175-8788-39d1f7970f16",
   "metadata": {},
   "source": [
    "#### B. Pega o Maior, Menor e os mais Recorrentes Valores da Quantidade de Autores que Aparecem."
   ]
  },
  {
   "cell_type": "code",
   "execution_count": 7,
   "id": "78ba3128-5382-4aac-9668-0c5f5a82e52c",
   "metadata": {},
   "outputs": [
    {
     "name": "stdout",
     "output_type": "stream",
     "text": [
      "Author\n",
      "Jeff Kinney                           12\n",
      "Gary Chapman                          11\n",
      "Rick Riordan                          11\n",
      "Suzanne Collins                       11\n",
      "American Psychological Association    10\n",
      "Name: count, dtype: int64\n"
     ]
    }
   ],
   "source": [
    "#Autor mais recorrente\n",
    "maisRecorrente = atoresRecorrentes.idxmax()\n",
    "maisRecorrenteValue = atoresRecorrentes.max()\n",
    "\n",
    "#Autor menos recorrente\n",
    "menosRecorrente = atoresRecorrentes.idxmin()\n",
    "menosRecorrenteValue = atoresRecorrentes.min()\n",
    "\n",
    "#Autores mais recorrentes\n",
    "autoresMaisRecorrentes = atoresRecorrentes.head(5)\n",
    "print(autoresMaisRecorrentes)"
   ]
  },
  {
   "cell_type": "markdown",
   "id": "9ab012a0-a800-4f0e-afc7-045d0b99056b",
   "metadata": {},
   "source": [
    "#### C. Planejando Autores Mais Recorrentes."
   ]
  },
  {
   "cell_type": "code",
   "execution_count": 14,
   "id": "5b1153d7-58f6-4e7e-b03f-4ca31dde93d2",
   "metadata": {},
   "outputs": [
    {
     "data": {
      "image/png": "[encoded data removed]",
      "text/plain": [
       "<Figure size 640x480 with 1 Axes>"
      ]
     },
     "metadata": {},
     "output_type": "display_data"
    }
   ],
   "source": [
    "#Grafico autores mais recorrentes\n",
    "autoresMaisRecorrentes = autoresMaisRecorrentes.sort_values(ascending=True)\n",
    "\n",
    "plt.barh(autoresMaisRecorrentes.index, autoresMaisRecorrentes.values, height=0.4, color = '#2940d3')\n",
    "plt.grid(True, axis='x', linestyle='--', alpha=0.7)\n",
    "plt.title(\"Autores mais recorrentes nos bestsellers\")\n",
    "plt.ylabel(\"Autores\")\n",
    "plt.xlabel(\"Quantidade de livros\")\n",
    "plt.tight_layout()\n",
    "\n",
    "plt.savefig(\"../images/01-autores-recorrentes.png\")\n",
    "plt.show()"
   ]
  }
 ],
 "metadata": {
  "kernelspec": {
   "display_name": "Python 3 (ipykernel)",
   "language": "python",
   "name": "python3"
  },
  "language_info": {
   "codemirror_mode": {
    "name": "ipython",
    "version": 3
   },
   "file_extension": ".py",
   "mimetype": "text/x-python",
   "name": "python",
   "nbconvert_exporter": "python",
   "pygments_lexer": "ipython3",
   "version": "3.12.7"
  }
 },
 "nbformat": 4,
 "nbformat_minor": 5
}
